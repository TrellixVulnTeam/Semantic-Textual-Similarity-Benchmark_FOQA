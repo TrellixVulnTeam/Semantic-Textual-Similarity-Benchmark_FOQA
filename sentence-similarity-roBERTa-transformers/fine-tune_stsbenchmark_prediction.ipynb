{
 "cells": [
  {
   "cell_type": "code",
   "execution_count": 1,
   "metadata": {},
   "outputs": [],
   "source": [
    "\"\"\"\n",
    "This example loads the pre-trained bert-base-nli-mean-tokens models from the server.\n",
    "It then fine-tunes this model for some epochs on the STS benchmark dataset.\n",
    "\"\"\"\n",
    "from torch.utils.data import DataLoader\n",
    "import math\n",
    "from sentence_transformers import SentenceTransformer,  SentencesDataset, LoggingHandler, losses\n",
    "from sentence_transformers.evaluation import EmbeddingSimilarityEvaluator\n",
    "from sentence_transformers.readers import STSDataReader\n",
    "import logging\n",
    "from datetime import datetime"
   ]
  },
  {
   "cell_type": "code",
   "execution_count": 2,
   "metadata": {},
   "outputs": [
    {
     "data": {
      "text/plain": [
       "'/home/vv/git/chirag'"
      ]
     },
     "execution_count": 2,
     "metadata": {},
     "output_type": "execute_result"
    }
   ],
   "source": [
    "pwd"
   ]
  },
  {
   "cell_type": "code",
   "execution_count": 3,
   "metadata": {},
   "outputs": [],
   "source": [
    "#### Just some code to print debug information to stdout\n",
    "logging.basicConfig(format='%(asctime)s - %(message)s',\n",
    "                    datefmt='%Y-%m-%d %H:%M:%S',\n",
    "                    level=logging.INFO,\n",
    "                    handlers=[LoggingHandler()])\n",
    "#### /print debug information to stdout"
   ]
  },
  {
   "cell_type": "code",
   "execution_count": 4,
   "metadata": {},
   "outputs": [],
   "source": [
    "# Read the dataset\n",
    "model_name = 'roberta-base-nli-stsb-mean-tokens'\n",
    "train_batch_size = 8\n",
    "num_epochs = 4\n",
    "model_save_path = 'output/training_stsbenchmark_continue_training-'+model_name+'-'+datetime.now().strftime(\"%Y-%m-%d_%H-%M-%S\")\n",
    "sts_reader = STSDataReader('./stsbenchmark', normalize_scores=True)"
   ]
  },
  {
   "cell_type": "code",
   "execution_count": 5,
   "metadata": {
    "scrolled": true
   },
   "outputs": [
    {
     "name": "stdout",
     "output_type": "stream",
     "text": [
      "2019-12-17 05:48:22 - Load pretrained SentenceTransformer: roberta-base-nli-stsb-mean-tokens\n",
      "2019-12-17 05:48:22 - Did not find a / or \\ in the name. Assume to download model from server\n",
      "2019-12-17 05:48:22 - Load SentenceTransformer from folder: /home/vv/.cache/torch/sentence_transformers/public.ukp.informatik.tu-darmstadt.de_reimers_sentence-transformers_v0.2_roberta-base-nli-stsb-mean-tokens.zip\n",
      "2019-12-17 05:48:22 - loading configuration file /home/vv/.cache/torch/sentence_transformers/public.ukp.informatik.tu-darmstadt.de_reimers_sentence-transformers_v0.2_roberta-base-nli-stsb-mean-tokens.zip/0_RoBERTa/config.json\n",
      "2019-12-17 05:48:22 - Model config {\n",
      "  \"attention_probs_dropout_prob\": 0.1,\n",
      "  \"finetuning_task\": null,\n",
      "  \"hidden_act\": \"gelu\",\n",
      "  \"hidden_dropout_prob\": 0.1,\n",
      "  \"hidden_size\": 768,\n",
      "  \"initializer_range\": 0.02,\n",
      "  \"intermediate_size\": 3072,\n",
      "  \"is_decoder\": false,\n",
      "  \"layer_norm_eps\": 1e-12,\n",
      "  \"max_position_embeddings\": 514,\n",
      "  \"num_attention_heads\": 12,\n",
      "  \"num_hidden_layers\": 12,\n",
      "  \"num_labels\": 2,\n",
      "  \"output_attentions\": false,\n",
      "  \"output_hidden_states\": false,\n",
      "  \"output_past\": true,\n",
      "  \"pruned_heads\": {},\n",
      "  \"torchscript\": false,\n",
      "  \"type_vocab_size\": 1,\n",
      "  \"use_bfloat16\": false,\n",
      "  \"vocab_size\": 50265\n",
      "}\n",
      "\n",
      "2019-12-17 05:48:22 - loading weights file /home/vv/.cache/torch/sentence_transformers/public.ukp.informatik.tu-darmstadt.de_reimers_sentence-transformers_v0.2_roberta-base-nli-stsb-mean-tokens.zip/0_RoBERTa/pytorch_model.bin\n",
      "2019-12-17 05:48:25 - Model name '/home/vv/.cache/torch/sentence_transformers/public.ukp.informatik.tu-darmstadt.de_reimers_sentence-transformers_v0.2_roberta-base-nli-stsb-mean-tokens.zip/0_RoBERTa' not found in model shortcut name list (roberta-base, roberta-large, roberta-large-mnli, distilroberta-base, roberta-base-openai-detector, roberta-large-openai-detector). Assuming '/home/vv/.cache/torch/sentence_transformers/public.ukp.informatik.tu-darmstadt.de_reimers_sentence-transformers_v0.2_roberta-base-nli-stsb-mean-tokens.zip/0_RoBERTa' is a path or url to a directory containing tokenizer files.\n",
      "2019-12-17 05:48:25 - loading file /home/vv/.cache/torch/sentence_transformers/public.ukp.informatik.tu-darmstadt.de_reimers_sentence-transformers_v0.2_roberta-base-nli-stsb-mean-tokens.zip/0_RoBERTa/vocab.json\n",
      "2019-12-17 05:48:25 - loading file /home/vv/.cache/torch/sentence_transformers/public.ukp.informatik.tu-darmstadt.de_reimers_sentence-transformers_v0.2_roberta-base-nli-stsb-mean-tokens.zip/0_RoBERTa/merges.txt\n",
      "2019-12-17 05:48:25 - loading file /home/vv/.cache/torch/sentence_transformers/public.ukp.informatik.tu-darmstadt.de_reimers_sentence-transformers_v0.2_roberta-base-nli-stsb-mean-tokens.zip/0_RoBERTa/added_tokens.json\n",
      "2019-12-17 05:48:25 - loading file /home/vv/.cache/torch/sentence_transformers/public.ukp.informatik.tu-darmstadt.de_reimers_sentence-transformers_v0.2_roberta-base-nli-stsb-mean-tokens.zip/0_RoBERTa/special_tokens_map.json\n",
      "2019-12-17 05:48:25 - loading file /home/vv/.cache/torch/sentence_transformers/public.ukp.informatik.tu-darmstadt.de_reimers_sentence-transformers_v0.2_roberta-base-nli-stsb-mean-tokens.zip/0_RoBERTa/tokenizer_config.json\n",
      "2019-12-17 05:48:25 - Use pytorch device: cuda\n"
     ]
    },
    {
     "name": "stderr",
     "output_type": "stream",
     "text": [
      "Convert dataset:   7%|▋         | 329/5051 [00:00<00:01, 3282.01it/s]"
     ]
    },
    {
     "name": "stdout",
     "output_type": "stream",
     "text": [
      "2019-12-17 05:48:28 - Read STSbenchmark train dataset\n"
     ]
    },
    {
     "name": "stderr",
     "output_type": "stream",
     "text": [
      "Convert dataset: 100%|██████████| 5051/5051 [00:01<00:00, 3593.70it/s]\n",
      "Convert dataset:  35%|███▌      | 531/1500 [00:00<00:00, 5305.79it/s]"
     ]
    },
    {
     "name": "stdout",
     "output_type": "stream",
     "text": [
      "2019-12-17 05:48:29 - Num sentences: 5051\n",
      "2019-12-17 05:48:29 - Sentences 0 longer than max_seqence_length: 0\n",
      "2019-12-17 05:48:29 - Sentences 1 longer than max_seqence_length: 0\n",
      "2019-12-17 05:48:29 - Read STSbenchmark dev dataset\n"
     ]
    },
    {
     "name": "stderr",
     "output_type": "stream",
     "text": [
      "Convert dataset: 100%|██████████| 1500/1500 [00:00<00:00, 3183.25it/s]"
     ]
    },
    {
     "name": "stdout",
     "output_type": "stream",
     "text": [
      "2019-12-17 05:48:30 - Num sentences: 1500\n",
      "2019-12-17 05:48:30 - Sentences 0 longer than max_seqence_length: 0\n",
      "2019-12-17 05:48:30 - Sentences 1 longer than max_seqence_length: 0\n"
     ]
    },
    {
     "name": "stderr",
     "output_type": "stream",
     "text": [
      "\n"
     ]
    }
   ],
   "source": [
    "# Load a pre-trained sentence transformer model\n",
    "model = SentenceTransformer(model_name)\n",
    "\n",
    "# Convert the dataset to a DataLoader ready for training\n",
    "logging.info(\"Read STSbenchmark train dataset\")\n",
    "train_data = SentencesDataset(sts_reader.get_examples('sts-train.csv'), model)\n",
    "train_dataloader = DataLoader(train_data, shuffle=True, batch_size=train_batch_size)\n",
    "train_loss = losses.CosineSimilarityLoss(model=model)\n",
    "\n",
    "\n",
    "logging.info(\"Read STSbenchmark dev dataset\")\n",
    "dev_data = SentencesDataset(examples=sts_reader.get_examples('sts-dev.csv'), model=model)\n",
    "dev_dataloader = DataLoader(dev_data, shuffle=False, batch_size=train_batch_size)\n",
    "evaluator = EmbeddingSimilarityEvaluator(dev_dataloader)\n"
   ]
  },
  {
   "cell_type": "code",
   "execution_count": 6,
   "metadata": {},
   "outputs": [
    {
     "name": "stdout",
     "output_type": "stream",
     "text": [
      "2019-12-17 05:48:30 - Warmup-steps: 253\n"
     ]
    }
   ],
   "source": [
    "# Configure the training. We skip evaluation in this example\n",
    "warmup_steps = math.ceil(len(train_data)*num_epochs/train_batch_size*0.1) #10% of train data for warm-up\n",
    "logging.info(\"Warmup-steps: {}\".format(warmup_steps))"
   ]
  },
  {
   "cell_type": "code",
   "execution_count": 7,
   "metadata": {
    "scrolled": true
   },
   "outputs": [
    {
     "name": "stderr",
     "output_type": "stream",
     "text": [
      "Epoch:   0%|          | 0/4 [00:00<?, ?it/s]\n",
      "Iteration:   0%|          | 0/632 [00:00<?, ?it/s]\u001b[A\n",
      "Iteration:   0%|          | 1/632 [00:00<01:45,  5.97it/s]\u001b[A\n",
      "Iteration:   0%|          | 2/632 [00:00<01:37,  6.45it/s]\u001b[A\n",
      "Iteration:   0%|          | 3/632 [00:00<01:35,  6.57it/s]\u001b[A\n",
      "Iteration:   1%|          | 4/632 [00:00<01:34,  6.61it/s]\u001b[A\n",
      "Iteration:   1%|          | 5/632 [00:00<01:31,  6.87it/s]\u001b[A\n",
      "Iteration:   1%|          | 6/632 [00:00<01:31,  6.82it/s]\u001b[A\n",
      "Iteration:   1%|          | 7/632 [00:01<01:31,  6.86it/s]\u001b[A\n",
      "Iteration:   1%|▏         | 8/632 [00:01<01:26,  7.24it/s]\u001b[A\n",
      "Iteration:   1%|▏         | 9/632 [00:01<01:29,  6.93it/s]\u001b[A\n",
      "Iteration:   2%|▏         | 10/632 [00:01<01:29,  6.95it/s]\u001b[A\n",
      "Iteration:   2%|▏         | 11/632 [00:01<01:26,  7.20it/s]\u001b[A\n",
      "Iteration:   2%|▏         | 12/632 [00:01<01:23,  7.39it/s]\u001b[A\n",
      "Iteration:   2%|▏         | 13/632 [00:01<01:23,  7.40it/s]\u001b[A\n",
      "Iteration:   2%|▏         | 14/632 [00:01<01:21,  7.58it/s]\u001b[A\n",
      "Iteration:   2%|▏         | 15/632 [00:02<01:24,  7.29it/s]\u001b[A\n",
      "Iteration:   3%|▎         | 16/632 [00:02<01:23,  7.41it/s]\u001b[A\n",
      "Iteration:   3%|▎         | 17/632 [00:02<01:21,  7.55it/s]\u001b[A\n",
      "Iteration:   3%|▎         | 18/632 [00:02<01:21,  7.51it/s]\u001b[A\n",
      "Iteration:   3%|▎         | 19/632 [00:02<01:20,  7.63it/s]\u001b[A\n",
      "Iteration:   3%|▎         | 20/632 [00:02<01:21,  7.47it/s]\u001b[A\n",
      "Iteration:   3%|▎         | 21/632 [00:02<01:21,  7.47it/s]\u001b[A\n",
      "Iteration:   3%|▎         | 22/632 [00:03<01:18,  7.74it/s]\u001b[A\n",
      "Iteration:   4%|▎         | 23/632 [00:03<01:16,  7.93it/s]\u001b[A\n",
      "Iteration:   4%|▍         | 24/632 [00:03<01:20,  7.52it/s]\u001b[A\n",
      "Iteration:   4%|▍         | 25/632 [00:03<01:20,  7.50it/s]\u001b[A\n",
      "Iteration:   4%|▍         | 26/632 [00:03<01:18,  7.73it/s]\u001b[A\n",
      "Iteration:   4%|▍         | 27/632 [00:03<01:19,  7.63it/s]\u001b[A\n",
      "Iteration:   4%|▍         | 28/632 [00:03<01:23,  7.27it/s]\u001b[A\n",
      "Iteration:   5%|▍         | 29/632 [00:03<01:25,  7.04it/s]\u001b[A\n",
      "Iteration:   5%|▍         | 30/632 [00:04<01:25,  7.07it/s]\u001b[A\n",
      "Iteration:   5%|▍         | 31/632 [00:04<01:24,  7.15it/s]\u001b[A\n",
      "Iteration:   5%|▌         | 32/632 [00:04<01:19,  7.54it/s]\u001b[A\n",
      "Iteration:   5%|▌         | 33/632 [00:04<01:17,  7.70it/s]\u001b[A\n",
      "Iteration:   5%|▌         | 34/632 [00:04<01:20,  7.46it/s]\u001b[A\n",
      "Iteration:   6%|▌         | 35/632 [00:04<01:18,  7.58it/s]\u001b[A\n",
      "Iteration:   6%|▌         | 36/632 [00:04<01:23,  7.14it/s]\u001b[A\n",
      "Iteration:   6%|▌         | 37/632 [00:05<01:20,  7.42it/s]\u001b[A\n",
      "Iteration:   6%|▌         | 38/632 [00:05<01:18,  7.58it/s]\u001b[A\n",
      "Iteration:   6%|▌         | 39/632 [00:05<01:18,  7.53it/s]\u001b[A\n",
      "Iteration:   6%|▋         | 40/632 [00:05<01:19,  7.45it/s]\u001b[A\n",
      "Iteration:   6%|▋         | 41/632 [00:05<01:19,  7.47it/s]\u001b[A\n",
      "Iteration:   7%|▋         | 42/632 [00:05<01:18,  7.56it/s]\u001b[A\n",
      "Iteration:   7%|▋         | 43/632 [00:05<01:15,  7.82it/s]\u001b[A\n",
      "Iteration:   7%|▋         | 44/632 [00:05<01:15,  7.79it/s]\u001b[A\n",
      "Iteration:   7%|▋         | 45/632 [00:06<01:14,  7.84it/s]\u001b[A\n",
      "Iteration:   7%|▋         | 46/632 [00:06<01:14,  7.87it/s]\u001b[A\n",
      "Iteration:   7%|▋         | 47/632 [00:06<01:16,  7.69it/s]\u001b[A\n",
      "Iteration:   8%|▊         | 48/632 [00:06<01:16,  7.61it/s]\u001b[A\n",
      "Iteration:   8%|▊         | 49/632 [00:06<01:14,  7.78it/s]\u001b[A\n",
      "Iteration:   8%|▊         | 50/632 [00:06<01:15,  7.69it/s]\u001b[A\n",
      "Iteration:   8%|▊         | 51/632 [00:06<01:14,  7.77it/s]\u001b[A\n",
      "Iteration:   8%|▊         | 52/632 [00:06<01:14,  7.78it/s]\u001b[A\n",
      "Iteration:   8%|▊         | 53/632 [00:07<01:19,  7.26it/s]\u001b[A\n",
      "Iteration:   9%|▊         | 54/632 [00:07<01:22,  7.01it/s]\u001b[A\n",
      "Iteration:   9%|▊         | 55/632 [00:07<01:21,  7.10it/s]\u001b[A\n",
      "Iteration:   9%|▉         | 56/632 [00:07<01:20,  7.16it/s]\u001b[A\n",
      "Iteration:   9%|▉         | 57/632 [00:07<01:17,  7.39it/s]\u001b[A\n",
      "Iteration:   9%|▉         | 58/632 [00:07<01:17,  7.37it/s]\u001b[A\n",
      "Iteration:   9%|▉         | 59/632 [00:07<01:14,  7.66it/s]\u001b[A\n",
      "Iteration:   9%|▉         | 60/632 [00:08<01:18,  7.28it/s]\u001b[A\n",
      "Iteration:  10%|▉         | 61/632 [00:08<01:18,  7.31it/s]\u001b[A\n",
      "Iteration:  10%|▉         | 62/632 [00:08<01:17,  7.38it/s]\u001b[A\n",
      "Iteration:  10%|▉         | 63/632 [00:08<01:21,  7.00it/s]\u001b[A\n",
      "Iteration:  10%|█         | 64/632 [00:08<01:19,  7.13it/s]\u001b[A\n",
      "Iteration:  10%|█         | 65/632 [00:08<01:18,  7.25it/s]\u001b[A\n",
      "Iteration:  10%|█         | 66/632 [00:08<01:17,  7.30it/s]\u001b[A\n",
      "Iteration:  11%|█         | 67/632 [00:09<01:17,  7.34it/s]\u001b[A\n",
      "Iteration:  11%|█         | 68/632 [00:09<01:16,  7.39it/s]\u001b[A\n",
      "Iteration:  11%|█         | 69/632 [00:09<01:16,  7.38it/s]\u001b[A\n",
      "Iteration:  11%|█         | 70/632 [00:09<01:17,  7.30it/s]\u001b[A\n",
      "Iteration:  11%|█         | 71/632 [00:09<01:18,  7.16it/s]\u001b[A\n",
      "Iteration:  11%|█▏        | 72/632 [00:09<01:18,  7.16it/s]\u001b[A\n",
      "Iteration:  12%|█▏        | 73/632 [00:09<01:19,  7.01it/s]\u001b[A\n",
      "Iteration:  12%|█▏        | 74/632 [00:10<01:16,  7.27it/s]\u001b[A\n",
      "Iteration:  12%|█▏        | 75/632 [00:10<01:18,  7.07it/s]\u001b[A\n",
      "Iteration:  12%|█▏        | 76/632 [00:10<01:17,  7.15it/s]\u001b[A\n",
      "Iteration:  12%|█▏        | 77/632 [00:10<01:17,  7.15it/s]\u001b[A\n",
      "Iteration:  12%|█▏        | 78/632 [00:10<01:17,  7.16it/s]\u001b[A\n",
      "Iteration:  12%|█▎        | 79/632 [00:10<01:17,  7.16it/s]\u001b[A\n",
      "Iteration:  13%|█▎        | 80/632 [00:10<01:14,  7.39it/s]\u001b[A\n",
      "Iteration:  13%|█▎        | 81/632 [00:11<01:14,  7.36it/s]\u001b[A\n",
      "Iteration:  13%|█▎        | 82/632 [00:11<01:13,  7.46it/s]\u001b[A\n",
      "Iteration:  13%|█▎        | 83/632 [00:11<01:24,  6.53it/s]\u001b[A\n",
      "Iteration:  13%|█▎        | 84/632 [00:11<01:20,  6.77it/s]\u001b[A\n",
      "Iteration:  13%|█▎        | 85/632 [00:11<01:16,  7.18it/s]\u001b[A\n",
      "Iteration:  14%|█▎        | 86/632 [00:11<01:15,  7.24it/s]\u001b[A\n",
      "Iteration:  14%|█▍        | 87/632 [00:11<01:15,  7.21it/s]\u001b[A\n",
      "Iteration:  14%|█▍        | 88/632 [00:11<01:14,  7.29it/s]\u001b[A\n",
      "Iteration:  14%|█▍        | 89/632 [00:12<01:11,  7.56it/s]\u001b[A\n",
      "Iteration:  14%|█▍        | 90/632 [00:12<01:12,  7.43it/s]\u001b[A\n",
      "Iteration:  14%|█▍        | 91/632 [00:12<01:12,  7.47it/s]\u001b[A\n",
      "Iteration:  15%|█▍        | 92/632 [00:12<01:13,  7.31it/s]\u001b[A\n",
      "Iteration:  15%|█▍        | 93/632 [00:12<01:12,  7.45it/s]\u001b[A\n",
      "Iteration:  15%|█▍        | 94/632 [00:12<01:11,  7.51it/s]\u001b[A\n",
      "Iteration:  15%|█▌        | 95/632 [00:12<01:09,  7.69it/s]\u001b[A\n",
      "Iteration:  15%|█▌        | 96/632 [00:13<01:07,  7.90it/s]\u001b[A\n",
      "Iteration:  15%|█▌        | 97/632 [00:13<01:08,  7.79it/s]\u001b[A\n",
      "Iteration:  16%|█▌        | 98/632 [00:13<01:11,  7.48it/s]\u001b[A\n",
      "Iteration:  16%|█▌        | 99/632 [00:13<01:10,  7.53it/s]\u001b[A\n",
      "Iteration:  16%|█▌        | 100/632 [00:13<01:14,  7.18it/s]\u001b[A\n",
      "Iteration:  16%|█▌        | 101/632 [00:13<01:10,  7.53it/s]\u001b[A\n",
      "Iteration:  16%|█▌        | 102/632 [00:13<01:10,  7.55it/s]\u001b[A\n",
      "Iteration:  16%|█▋        | 103/632 [00:13<01:10,  7.48it/s]\u001b[A\n",
      "Iteration:  16%|█▋        | 104/632 [00:14<01:14,  7.06it/s]\u001b[A\n",
      "Iteration:  17%|█▋        | 105/632 [00:14<01:14,  7.09it/s]\u001b[A\n",
      "Iteration:  17%|█▋        | 106/632 [00:14<01:12,  7.27it/s]\u001b[A\n",
      "Iteration:  17%|█▋        | 107/632 [00:14<01:09,  7.57it/s]\u001b[A\n",
      "Iteration:  17%|█▋        | 108/632 [00:14<01:08,  7.62it/s]\u001b[A\n",
      "Iteration:  17%|█▋        | 109/632 [00:14<01:09,  7.54it/s]\u001b[A\n",
      "Iteration:  17%|█▋        | 110/632 [00:14<01:09,  7.52it/s]\u001b[A\n",
      "Iteration:  18%|█▊        | 111/632 [00:15<01:10,  7.44it/s]\u001b[A\n",
      "Iteration:  18%|█▊        | 112/632 [00:15<01:08,  7.55it/s]\u001b[A\n",
      "Iteration:  18%|█▊        | 113/632 [00:15<01:06,  7.80it/s]\u001b[A\n",
      "Iteration:  18%|█▊        | 114/632 [00:15<01:07,  7.71it/s]\u001b[A\n",
      "Iteration:  18%|█▊        | 115/632 [00:15<01:11,  7.25it/s]\u001b[A\n",
      "Iteration:  18%|█▊        | 116/632 [00:15<01:14,  6.93it/s]\u001b[A\n",
      "Iteration:  19%|█▊        | 117/632 [00:15<01:13,  7.04it/s]\u001b[A\n",
      "Iteration:  19%|█▊        | 118/632 [00:16<01:14,  6.94it/s]\u001b[A\n",
      "Iteration:  19%|█▉        | 119/632 [00:16<01:14,  6.87it/s]\u001b[A\n",
      "Iteration:  19%|█▉        | 120/632 [00:16<01:10,  7.23it/s]\u001b[A\n",
      "Iteration:  19%|█▉        | 121/632 [00:16<01:08,  7.41it/s]\u001b[A\n",
      "Iteration:  19%|█▉        | 122/632 [00:16<01:09,  7.32it/s]\u001b[A\n",
      "Iteration:  19%|█▉        | 123/632 [00:16<01:10,  7.18it/s]\u001b[A\n",
      "Iteration:  20%|█▉        | 124/632 [00:16<01:10,  7.16it/s]\u001b[A\n",
      "Iteration:  20%|█▉        | 125/632 [00:17<01:10,  7.21it/s]\u001b[A\n",
      "Iteration:  20%|█▉        | 126/632 [00:17<01:09,  7.31it/s]\u001b[A\n",
      "Iteration:  20%|██        | 127/632 [00:17<01:08,  7.34it/s]\u001b[A\n",
      "Iteration:  20%|██        | 128/632 [00:17<01:09,  7.26it/s]\u001b[A\n"
     ]
    },
    {
     "name": "stderr",
     "output_type": "stream",
     "text": [
      "Iteration:  20%|██        | 129/632 [00:17<01:08,  7.31it/s]\u001b[A\n",
      "Iteration:  21%|██        | 130/632 [00:17<01:13,  6.81it/s]\u001b[A\n",
      "Iteration:  21%|██        | 131/632 [00:17<01:15,  6.63it/s]\u001b[A\n",
      "Iteration:  21%|██        | 132/632 [00:18<01:16,  6.51it/s]\u001b[A\n",
      "Iteration:  21%|██        | 133/632 [00:18<01:16,  6.55it/s]\u001b[A\n",
      "Iteration:  21%|██        | 134/632 [00:18<01:12,  6.84it/s]\u001b[A\n",
      "Iteration:  21%|██▏       | 135/632 [00:18<01:11,  7.00it/s]\u001b[A\n",
      "Iteration:  22%|██▏       | 136/632 [00:18<01:10,  7.02it/s]\u001b[A\n",
      "Iteration:  22%|██▏       | 137/632 [00:18<01:16,  6.50it/s]\u001b[A\n",
      "Iteration:  22%|██▏       | 138/632 [00:18<01:10,  7.04it/s]\u001b[A\n",
      "Iteration:  22%|██▏       | 139/632 [00:19<01:09,  7.10it/s]\u001b[A\n",
      "Iteration:  22%|██▏       | 140/632 [00:19<01:06,  7.40it/s]\u001b[A\n",
      "Iteration:  22%|██▏       | 141/632 [00:19<01:06,  7.36it/s]\u001b[A\n",
      "Iteration:  22%|██▏       | 142/632 [00:19<01:07,  7.31it/s]\u001b[A\n",
      "Iteration:  23%|██▎       | 143/632 [00:19<01:06,  7.30it/s]\u001b[A\n",
      "Iteration:  23%|██▎       | 144/632 [00:19<01:07,  7.24it/s]\u001b[A\n",
      "Iteration:  23%|██▎       | 145/632 [00:19<01:06,  7.33it/s]\u001b[A\n",
      "Iteration:  23%|██▎       | 146/632 [00:19<01:03,  7.69it/s]\u001b[A\n",
      "Iteration:  23%|██▎       | 147/632 [00:20<01:04,  7.46it/s]\u001b[A\n",
      "Iteration:  23%|██▎       | 148/632 [00:20<01:04,  7.52it/s]\u001b[A\n",
      "Iteration:  24%|██▎       | 149/632 [00:20<01:01,  7.86it/s]\u001b[A\n",
      "Iteration:  24%|██▎       | 150/632 [00:20<01:01,  7.85it/s]\u001b[A\n",
      "Iteration:  24%|██▍       | 151/632 [00:20<01:00,  7.99it/s]\u001b[A\n",
      "Iteration:  24%|██▍       | 152/632 [00:20<01:00,  7.87it/s]\u001b[A\n",
      "Iteration:  24%|██▍       | 153/632 [00:20<01:01,  7.78it/s]\u001b[A\n",
      "Iteration:  24%|██▍       | 154/632 [00:20<01:00,  7.90it/s]\u001b[A\n",
      "Iteration:  25%|██▍       | 155/632 [00:21<01:03,  7.55it/s]\u001b[A\n",
      "Iteration:  25%|██▍       | 156/632 [00:21<01:02,  7.61it/s]\u001b[A\n",
      "Iteration:  25%|██▍       | 157/632 [00:21<01:03,  7.53it/s]\u001b[A\n",
      "Iteration:  25%|██▌       | 158/632 [00:21<01:03,  7.45it/s]\u001b[A\n",
      "Iteration:  25%|██▌       | 159/632 [00:21<01:04,  7.33it/s]\u001b[A\n",
      "Iteration:  25%|██▌       | 160/632 [00:21<01:02,  7.59it/s]\u001b[A\n",
      "Iteration:  25%|██▌       | 161/632 [00:21<01:03,  7.46it/s]\u001b[A\n",
      "Iteration:  26%|██▌       | 162/632 [00:22<01:02,  7.52it/s]\u001b[A\n",
      "Iteration:  26%|██▌       | 163/632 [00:22<01:07,  6.97it/s]\u001b[A\n",
      "Iteration:  26%|██▌       | 164/632 [00:22<01:08,  6.79it/s]\u001b[A\n",
      "Iteration:  26%|██▌       | 165/632 [00:22<01:10,  6.66it/s]\u001b[A\n",
      "Iteration:  26%|██▋       | 166/632 [00:22<01:07,  6.95it/s]\u001b[A\n",
      "Iteration:  26%|██▋       | 167/632 [00:22<01:05,  7.12it/s]\u001b[A\n",
      "Iteration:  27%|██▋       | 168/632 [00:22<01:04,  7.17it/s]\u001b[A\n",
      "Iteration:  27%|██▋       | 169/632 [00:23<01:02,  7.46it/s]\u001b[A\n",
      "Iteration:  27%|██▋       | 170/632 [00:23<00:59,  7.82it/s]\u001b[A\n",
      "Iteration:  27%|██▋       | 171/632 [00:23<00:58,  7.82it/s]\u001b[A\n",
      "Iteration:  27%|██▋       | 172/632 [00:23<01:00,  7.59it/s]\u001b[A\n",
      "Iteration:  27%|██▋       | 173/632 [00:23<01:00,  7.64it/s]\u001b[A\n",
      "Iteration:  28%|██▊       | 174/632 [00:23<01:01,  7.49it/s]\u001b[A\n",
      "Iteration:  28%|██▊       | 175/632 [00:23<00:58,  7.83it/s]\u001b[A\n",
      "Iteration:  28%|██▊       | 176/632 [00:23<01:01,  7.47it/s]\u001b[A\n",
      "Iteration:  28%|██▊       | 177/632 [00:24<01:00,  7.48it/s]\u001b[A\n",
      "Iteration:  28%|██▊       | 178/632 [00:24<01:01,  7.44it/s]\u001b[A\n",
      "Iteration:  28%|██▊       | 179/632 [00:24<01:04,  6.98it/s]\u001b[A\n",
      "Iteration:  28%|██▊       | 180/632 [00:24<01:03,  7.07it/s]\u001b[A\n",
      "Iteration:  29%|██▊       | 181/632 [00:24<01:06,  6.79it/s]\u001b[A\n",
      "Iteration:  29%|██▉       | 182/632 [00:24<01:02,  7.24it/s]\u001b[A\n",
      "Iteration:  29%|██▉       | 183/632 [00:24<01:01,  7.27it/s]\u001b[A\n",
      "Iteration:  29%|██▉       | 184/632 [00:25<01:01,  7.27it/s]\u001b[A\n",
      "Iteration:  29%|██▉       | 185/632 [00:25<01:01,  7.28it/s]\u001b[A\n",
      "Iteration:  29%|██▉       | 186/632 [00:25<01:02,  7.16it/s]\u001b[A\n",
      "Iteration:  30%|██▉       | 187/632 [00:25<01:01,  7.18it/s]\u001b[A\n",
      "Iteration:  30%|██▉       | 188/632 [00:25<01:00,  7.31it/s]\u001b[A\n",
      "Iteration:  30%|██▉       | 189/632 [00:25<00:58,  7.61it/s]\u001b[A\n",
      "Iteration:  30%|███       | 190/632 [00:25<00:58,  7.52it/s]\u001b[A\n",
      "Iteration:  30%|███       | 191/632 [00:26<00:58,  7.60it/s]\u001b[A\n",
      "Iteration:  30%|███       | 192/632 [00:26<01:00,  7.27it/s]\u001b[A\n",
      "Iteration:  31%|███       | 193/632 [00:26<01:01,  7.17it/s]\u001b[A\n",
      "Iteration:  31%|███       | 194/632 [00:26<00:59,  7.37it/s]\u001b[A\n",
      "Iteration:  31%|███       | 195/632 [00:26<00:59,  7.38it/s]\u001b[A\n",
      "Iteration:  31%|███       | 196/632 [00:26<00:57,  7.59it/s]\u001b[A\n",
      "Iteration:  31%|███       | 197/632 [00:26<00:58,  7.44it/s]\u001b[A\n",
      "Iteration:  31%|███▏      | 198/632 [00:26<00:58,  7.39it/s]\u001b[A\n",
      "Iteration:  31%|███▏      | 199/632 [00:27<01:00,  7.19it/s]\u001b[A\n",
      "Iteration:  32%|███▏      | 200/632 [00:27<00:59,  7.30it/s]\u001b[A\n",
      "Iteration:  32%|███▏      | 201/632 [00:27<00:58,  7.31it/s]\u001b[A\n",
      "Iteration:  32%|███▏      | 202/632 [00:27<00:59,  7.24it/s]\u001b[A\n",
      "Iteration:  32%|███▏      | 203/632 [00:27<01:00,  7.12it/s]\u001b[A\n",
      "Iteration:  32%|███▏      | 204/632 [00:27<01:00,  7.03it/s]\u001b[A\n",
      "Iteration:  32%|███▏      | 205/632 [00:27<01:00,  7.11it/s]\u001b[A\n",
      "Iteration:  33%|███▎      | 206/632 [00:28<00:59,  7.20it/s]\u001b[A\n",
      "Iteration:  33%|███▎      | 207/632 [00:28<00:58,  7.31it/s]\u001b[A\n",
      "Iteration:  33%|███▎      | 208/632 [00:28<00:56,  7.50it/s]\u001b[A\n",
      "Iteration:  33%|███▎      | 209/632 [00:28<00:55,  7.60it/s]\u001b[A\n",
      "Iteration:  33%|███▎      | 210/632 [00:28<00:55,  7.65it/s]\u001b[A\n",
      "Iteration:  33%|███▎      | 211/632 [00:28<00:54,  7.77it/s]\u001b[A\n",
      "Iteration:  34%|███▎      | 212/632 [00:28<00:56,  7.48it/s]\u001b[A\n",
      "Iteration:  34%|███▎      | 213/632 [00:29<00:58,  7.18it/s]\u001b[A\n",
      "Iteration:  34%|███▍      | 214/632 [00:29<00:55,  7.52it/s]\u001b[A\n",
      "Iteration:  34%|███▍      | 215/632 [00:29<00:54,  7.61it/s]\u001b[A\n",
      "Iteration:  34%|███▍      | 216/632 [00:29<00:55,  7.56it/s]\u001b[A\n",
      "Iteration:  34%|███▍      | 217/632 [00:29<00:55,  7.50it/s]\u001b[A\n",
      "Iteration:  34%|███▍      | 218/632 [00:29<00:55,  7.43it/s]\u001b[A\n",
      "Iteration:  35%|███▍      | 219/632 [00:29<00:58,  7.02it/s]\u001b[A\n",
      "Iteration:  35%|███▍      | 220/632 [00:29<00:55,  7.39it/s]\u001b[A\n",
      "Iteration:  35%|███▍      | 221/632 [00:30<00:57,  7.15it/s]\u001b[A\n",
      "Iteration:  35%|███▌      | 222/632 [00:30<00:57,  7.13it/s]\u001b[A\n",
      "Iteration:  35%|███▌      | 223/632 [00:30<00:59,  6.87it/s]\u001b[A\n",
      "Iteration:  35%|███▌      | 224/632 [00:30<00:56,  7.18it/s]\u001b[A\n",
      "Iteration:  36%|███▌      | 225/632 [00:30<00:54,  7.50it/s]\u001b[A\n",
      "Iteration:  36%|███▌      | 226/632 [00:30<00:54,  7.41it/s]\u001b[A\n",
      "Iteration:  36%|███▌      | 227/632 [00:30<00:54,  7.40it/s]\u001b[A\n",
      "Iteration:  36%|███▌      | 228/632 [00:31<00:52,  7.71it/s]\u001b[A\n",
      "Iteration:  36%|███▌      | 229/632 [00:31<00:53,  7.47it/s]\u001b[A\n",
      "Iteration:  36%|███▋      | 230/632 [00:31<00:53,  7.49it/s]\u001b[A\n",
      "Iteration:  37%|███▋      | 231/632 [00:31<00:52,  7.62it/s]\u001b[A\n",
      "Iteration:  37%|███▋      | 232/632 [00:31<00:51,  7.77it/s]\u001b[A\n",
      "Iteration:  37%|███▋      | 233/632 [00:31<00:50,  7.93it/s]\u001b[A\n",
      "Iteration:  37%|███▋      | 234/632 [00:31<00:54,  7.36it/s]\u001b[A\n",
      "Iteration:  37%|███▋      | 235/632 [00:32<00:55,  7.21it/s]\u001b[A\n",
      "Iteration:  37%|███▋      | 236/632 [00:32<00:57,  6.86it/s]\u001b[A\n",
      "Iteration:  38%|███▊      | 237/632 [00:32<00:57,  6.92it/s]\u001b[A\n",
      "Iteration:  38%|███▊      | 238/632 [00:32<00:56,  7.01it/s]\u001b[A\n",
      "Iteration:  38%|███▊      | 239/632 [00:32<00:55,  7.07it/s]\u001b[A\n",
      "Iteration:  38%|███▊      | 240/632 [00:32<00:53,  7.38it/s]\u001b[A\n",
      "Iteration:  38%|███▊      | 241/632 [00:32<00:50,  7.67it/s]\u001b[A\n",
      "Iteration:  38%|███▊      | 242/632 [00:32<00:50,  7.66it/s]\u001b[A\n",
      "Iteration:  38%|███▊      | 243/632 [00:33<00:51,  7.61it/s]\u001b[A\n",
      "Iteration:  39%|███▊      | 244/632 [00:33<00:51,  7.60it/s]\u001b[A\n",
      "Iteration:  39%|███▉      | 245/632 [00:33<00:48,  7.91it/s]\u001b[A\n",
      "Iteration:  39%|███▉      | 246/632 [00:33<00:50,  7.66it/s]\u001b[A\n",
      "Iteration:  39%|███▉      | 247/632 [00:33<00:49,  7.74it/s]\u001b[A\n",
      "Iteration:  39%|███▉      | 248/632 [00:33<00:51,  7.48it/s]\u001b[A\n",
      "Iteration:  39%|███▉      | 249/632 [00:33<00:51,  7.44it/s]\u001b[A\n",
      "Iteration:  40%|███▉      | 250/632 [00:34<00:50,  7.56it/s]\u001b[A\n",
      "Iteration:  40%|███▉      | 251/632 [00:34<00:48,  7.84it/s]\u001b[A\n",
      "Iteration:  40%|███▉      | 252/632 [00:34<00:48,  7.78it/s]\u001b[A\n",
      "Iteration:  40%|████      | 253/632 [00:34<00:49,  7.70it/s]\u001b[A\n",
      "Iteration:  40%|████      | 254/632 [00:34<00:51,  7.30it/s]\u001b[A\n",
      "Iteration:  40%|████      | 255/632 [00:34<00:54,  6.90it/s]\u001b[A\n",
      "Iteration:  41%|████      | 256/632 [00:34<00:55,  6.83it/s]\u001b[A\n"
     ]
    },
    {
     "name": "stderr",
     "output_type": "stream",
     "text": [
      "Iteration:  41%|████      | 257/632 [00:35<00:55,  6.74it/s]\u001b[A\n",
      "Iteration:  41%|████      | 258/632 [00:35<00:52,  7.18it/s]\u001b[A\n",
      "Iteration:  41%|████      | 259/632 [00:35<00:51,  7.18it/s]\u001b[A\n",
      "Iteration:  41%|████      | 260/632 [00:35<00:51,  7.19it/s]\u001b[A\n",
      "Iteration:  41%|████▏     | 261/632 [00:35<00:51,  7.19it/s]\u001b[A\n",
      "Iteration:  41%|████▏     | 262/632 [00:35<00:51,  7.21it/s]\u001b[A\n",
      "Iteration:  42%|████▏     | 263/632 [00:35<00:51,  7.17it/s]\u001b[A\n",
      "Iteration:  42%|████▏     | 264/632 [00:35<00:52,  7.02it/s]\u001b[A\n",
      "Iteration:  42%|████▏     | 265/632 [00:36<00:50,  7.21it/s]\u001b[A\n",
      "Iteration:  42%|████▏     | 266/632 [00:36<00:51,  7.12it/s]\u001b[A\n",
      "Iteration:  42%|████▏     | 267/632 [00:36<00:49,  7.32it/s]\u001b[A\n",
      "Iteration:  42%|████▏     | 268/632 [00:36<00:48,  7.51it/s]\u001b[A\n",
      "Iteration:  43%|████▎     | 269/632 [00:36<00:48,  7.42it/s]\u001b[A\n",
      "Iteration:  43%|████▎     | 270/632 [00:36<00:49,  7.33it/s]\u001b[A\n",
      "Iteration:  43%|████▎     | 271/632 [00:36<00:50,  7.12it/s]\u001b[A\n",
      "Iteration:  43%|████▎     | 272/632 [00:37<00:51,  7.04it/s]\u001b[A\n",
      "Iteration:  43%|████▎     | 273/632 [00:37<00:50,  7.14it/s]\u001b[A\n",
      "Iteration:  43%|████▎     | 274/632 [00:37<00:50,  7.12it/s]\u001b[A\n",
      "Iteration:  44%|████▎     | 275/632 [00:37<00:48,  7.29it/s]\u001b[A\n",
      "Iteration:  44%|████▎     | 276/632 [00:37<00:46,  7.63it/s]\u001b[A\n",
      "Iteration:  44%|████▍     | 277/632 [00:37<00:47,  7.47it/s]\u001b[A\n",
      "Iteration:  44%|████▍     | 278/632 [00:37<00:47,  7.45it/s]\u001b[A\n",
      "Iteration:  44%|████▍     | 279/632 [00:38<00:49,  7.13it/s]\u001b[A\n",
      "Iteration:  44%|████▍     | 280/632 [00:38<00:48,  7.33it/s]\u001b[A\n",
      "Iteration:  44%|████▍     | 281/632 [00:38<00:49,  7.07it/s]\u001b[A\n",
      "Iteration:  45%|████▍     | 282/632 [00:38<00:50,  6.91it/s]\u001b[A\n",
      "Iteration:  45%|████▍     | 283/632 [00:38<00:49,  6.99it/s]\u001b[A\n",
      "Iteration:  45%|████▍     | 284/632 [00:38<00:48,  7.16it/s]\u001b[A\n",
      "Iteration:  45%|████▌     | 285/632 [00:38<00:50,  6.86it/s]\u001b[A\n",
      "Iteration:  45%|████▌     | 286/632 [00:39<00:50,  6.87it/s]\u001b[A\n",
      "Iteration:  45%|████▌     | 287/632 [00:39<00:48,  7.07it/s]\u001b[A\n",
      "Iteration:  46%|████▌     | 288/632 [00:39<00:46,  7.41it/s]\u001b[A\n",
      "Iteration:  46%|████▌     | 289/632 [00:39<00:47,  7.25it/s]\u001b[A\n",
      "Iteration:  46%|████▌     | 290/632 [00:39<00:46,  7.43it/s]\u001b[A\n",
      "Iteration:  46%|████▌     | 291/632 [00:39<00:47,  7.19it/s]\u001b[A\n",
      "Iteration:  46%|████▌     | 292/632 [00:39<00:46,  7.25it/s]\u001b[A\n",
      "Iteration:  46%|████▋     | 293/632 [00:39<00:47,  7.12it/s]\u001b[A\n",
      "Iteration:  47%|████▋     | 294/632 [00:40<00:47,  7.15it/s]\u001b[A\n",
      "Iteration:  47%|████▋     | 295/632 [00:40<00:47,  7.13it/s]\u001b[A\n",
      "Iteration:  47%|████▋     | 296/632 [00:40<00:47,  7.06it/s]\u001b[A\n",
      "Iteration:  47%|████▋     | 297/632 [00:40<00:46,  7.23it/s]\u001b[A\n",
      "Iteration:  47%|████▋     | 298/632 [00:40<00:46,  7.26it/s]\u001b[A\n",
      "Iteration:  47%|████▋     | 299/632 [00:40<00:47,  7.04it/s]\u001b[A\n",
      "Iteration:  47%|████▋     | 300/632 [00:40<00:48,  6.85it/s]\u001b[A\n",
      "Iteration:  48%|████▊     | 301/632 [00:41<00:47,  6.95it/s]\u001b[A\n",
      "Iteration:  48%|████▊     | 302/632 [00:41<00:47,  6.98it/s]\u001b[A\n",
      "Iteration:  48%|████▊     | 303/632 [00:41<00:44,  7.34it/s]\u001b[A\n",
      "Iteration:  48%|████▊     | 304/632 [00:41<00:44,  7.36it/s]\u001b[A\n",
      "Iteration:  48%|████▊     | 305/632 [00:41<00:43,  7.46it/s]\u001b[A\n",
      "Iteration:  48%|████▊     | 306/632 [00:41<00:43,  7.54it/s]\u001b[A\n",
      "Iteration:  49%|████▊     | 307/632 [00:41<00:43,  7.52it/s]\u001b[A\n",
      "Iteration:  49%|████▊     | 308/632 [00:42<00:46,  7.03it/s]\u001b[A\n",
      "Iteration:  49%|████▉     | 309/632 [00:42<00:43,  7.37it/s]\u001b[A\n",
      "Iteration:  49%|████▉     | 310/632 [00:42<00:44,  7.18it/s]\u001b[A\n",
      "Iteration:  49%|████▉     | 311/632 [00:42<00:44,  7.27it/s]\u001b[A\n",
      "Iteration:  49%|████▉     | 312/632 [00:42<00:42,  7.53it/s]\u001b[A\n",
      "Iteration:  50%|████▉     | 313/632 [00:42<00:42,  7.52it/s]\u001b[A\n",
      "Iteration:  50%|████▉     | 314/632 [00:42<00:42,  7.48it/s]\u001b[A\n",
      "Iteration:  50%|████▉     | 315/632 [00:43<00:41,  7.67it/s]\u001b[A\n",
      "Iteration:  50%|█████     | 316/632 [00:43<00:39,  7.96it/s]\u001b[A\n",
      "Iteration:  50%|█████     | 317/632 [00:43<00:43,  7.19it/s]\u001b[A\n",
      "Iteration:  50%|█████     | 318/632 [00:43<00:42,  7.30it/s]\u001b[A\n",
      "Iteration:  50%|█████     | 319/632 [00:43<00:43,  7.24it/s]\u001b[A\n",
      "Iteration:  51%|█████     | 320/632 [00:43<00:43,  7.18it/s]\u001b[A\n",
      "Iteration:  51%|█████     | 321/632 [00:43<00:41,  7.42it/s]\u001b[A\n",
      "Iteration:  51%|█████     | 322/632 [00:43<00:41,  7.48it/s]\u001b[A\n",
      "Iteration:  51%|█████     | 323/632 [00:44<00:43,  7.06it/s]\u001b[A\n",
      "Iteration:  51%|█████▏    | 324/632 [00:44<00:41,  7.38it/s]\u001b[A\n",
      "Iteration:  51%|█████▏    | 325/632 [00:44<00:42,  7.25it/s]\u001b[A\n",
      "Iteration:  52%|█████▏    | 326/632 [00:44<00:43,  6.98it/s]\u001b[A\n",
      "Iteration:  52%|█████▏    | 327/632 [00:44<00:43,  7.02it/s]\u001b[A\n",
      "Iteration:  52%|█████▏    | 328/632 [00:44<00:42,  7.10it/s]\u001b[A\n",
      "Iteration:  52%|█████▏    | 329/632 [00:44<00:42,  7.21it/s]\u001b[A\n",
      "Iteration:  52%|█████▏    | 330/632 [00:45<00:40,  7.44it/s]\u001b[A\n",
      "Iteration:  52%|█████▏    | 331/632 [00:45<00:41,  7.26it/s]\u001b[A\n",
      "Iteration:  53%|█████▎    | 332/632 [00:45<00:43,  6.86it/s]\u001b[A\n",
      "Iteration:  53%|█████▎    | 333/632 [00:45<00:42,  7.11it/s]\u001b[A\n",
      "Iteration:  53%|█████▎    | 334/632 [00:45<00:41,  7.15it/s]\u001b[A\n",
      "Iteration:  53%|█████▎    | 335/632 [00:45<00:43,  6.89it/s]\u001b[A\n",
      "Iteration:  53%|█████▎    | 336/632 [00:45<00:41,  7.12it/s]\u001b[A\n",
      "Iteration:  53%|█████▎    | 337/632 [00:46<00:40,  7.21it/s]\u001b[A\n",
      "Iteration:  53%|█████▎    | 338/632 [00:46<00:40,  7.30it/s]\u001b[A\n",
      "Iteration:  54%|█████▎    | 339/632 [00:46<00:40,  7.25it/s]\u001b[A\n",
      "Iteration:  54%|█████▍    | 340/632 [00:46<00:41,  6.99it/s]\u001b[A\n",
      "Iteration:  54%|█████▍    | 341/632 [00:46<00:41,  7.08it/s]\u001b[A\n",
      "Iteration:  54%|█████▍    | 342/632 [00:46<00:40,  7.17it/s]\u001b[A\n",
      "Iteration:  54%|█████▍    | 343/632 [00:46<00:39,  7.35it/s]\u001b[A\n",
      "Iteration:  54%|█████▍    | 344/632 [00:47<00:39,  7.23it/s]\u001b[A\n",
      "Iteration:  55%|█████▍    | 345/632 [00:47<00:40,  7.08it/s]\u001b[A\n",
      "Iteration:  55%|█████▍    | 346/632 [00:47<00:38,  7.41it/s]\u001b[A\n",
      "Iteration:  55%|█████▍    | 347/632 [00:47<00:38,  7.44it/s]\u001b[A\n",
      "Iteration:  55%|█████▌    | 348/632 [00:47<00:36,  7.76it/s]\u001b[A\n",
      "Iteration:  55%|█████▌    | 349/632 [00:47<00:37,  7.63it/s]\u001b[A\n",
      "Iteration:  55%|█████▌    | 350/632 [00:47<00:38,  7.39it/s]\u001b[A\n",
      "Iteration:  56%|█████▌    | 351/632 [00:47<00:36,  7.62it/s]\u001b[A\n",
      "Iteration:  56%|█████▌    | 352/632 [00:48<00:37,  7.55it/s]\u001b[A\n",
      "Iteration:  56%|█████▌    | 353/632 [00:48<00:37,  7.46it/s]\u001b[A\n",
      "Iteration:  56%|█████▌    | 354/632 [00:48<00:36,  7.61it/s]\u001b[A\n",
      "Iteration:  56%|█████▌    | 355/632 [00:48<00:38,  7.13it/s]\u001b[A\n",
      "Iteration:  56%|█████▋    | 356/632 [00:48<00:38,  7.13it/s]\u001b[A\n",
      "Iteration:  56%|█████▋    | 357/632 [00:48<00:40,  6.82it/s]\u001b[A\n",
      "Iteration:  57%|█████▋    | 358/632 [00:48<00:39,  6.98it/s]\u001b[A\n",
      "Iteration:  57%|█████▋    | 359/632 [00:49<00:37,  7.34it/s]\u001b[A\n",
      "Iteration:  57%|█████▋    | 360/632 [00:49<00:35,  7.59it/s]\u001b[A\n",
      "Iteration:  57%|█████▋    | 361/632 [00:49<00:36,  7.43it/s]\u001b[A\n",
      "Iteration:  57%|█████▋    | 362/632 [00:49<00:36,  7.40it/s]\u001b[A\n",
      "Iteration:  57%|█████▋    | 363/632 [00:49<00:36,  7.40it/s]\u001b[A\n",
      "Iteration:  58%|█████▊    | 364/632 [00:49<00:37,  7.23it/s]\u001b[A\n",
      "Iteration:  58%|█████▊    | 365/632 [00:49<00:35,  7.47it/s]\u001b[A\n",
      "Iteration:  58%|█████▊    | 366/632 [00:50<00:37,  7.14it/s]\u001b[A\n",
      "Iteration:  58%|█████▊    | 367/632 [00:50<00:37,  7.16it/s]\u001b[A\n",
      "Iteration:  58%|█████▊    | 368/632 [00:50<00:38,  6.79it/s]\u001b[A\n",
      "Iteration:  58%|█████▊    | 369/632 [00:50<00:39,  6.58it/s]\u001b[A\n",
      "Iteration:  59%|█████▊    | 370/632 [00:50<00:40,  6.42it/s]\u001b[A\n",
      "Iteration:  59%|█████▊    | 371/632 [00:50<00:38,  6.81it/s]\u001b[A\n",
      "Iteration:  59%|█████▉    | 372/632 [00:50<00:38,  6.74it/s]\u001b[A\n",
      "Iteration:  59%|█████▉    | 373/632 [00:51<00:38,  6.70it/s]\u001b[A\n",
      "Iteration:  59%|█████▉    | 374/632 [00:51<00:37,  6.88it/s]\u001b[A\n",
      "Iteration:  59%|█████▉    | 375/632 [00:51<00:38,  6.75it/s]\u001b[A\n",
      "Iteration:  59%|█████▉    | 376/632 [00:51<00:36,  6.94it/s]\u001b[A\n",
      "Iteration:  60%|█████▉    | 377/632 [00:51<00:36,  7.07it/s]\u001b[A\n",
      "Iteration:  60%|█████▉    | 378/632 [00:51<00:35,  7.25it/s]\u001b[A\n",
      "Iteration:  60%|█████▉    | 379/632 [00:51<00:34,  7.23it/s]\u001b[A\n",
      "Iteration:  60%|██████    | 380/632 [00:52<00:34,  7.28it/s]\u001b[A\n",
      "Iteration:  60%|██████    | 381/632 [00:52<00:33,  7.57it/s]\u001b[A\n",
      "Iteration:  60%|██████    | 382/632 [00:52<00:33,  7.41it/s]\u001b[A\n",
      "Iteration:  61%|██████    | 383/632 [00:52<00:34,  7.26it/s]\u001b[A\n",
      "Iteration:  61%|██████    | 384/632 [00:52<00:33,  7.45it/s]\u001b[A\n"
     ]
    },
    {
     "name": "stderr",
     "output_type": "stream",
     "text": [
      "Iteration:  61%|██████    | 385/632 [00:52<00:33,  7.39it/s]\u001b[A\n",
      "Iteration:  61%|██████    | 386/632 [00:52<00:33,  7.42it/s]\u001b[A\n",
      "Iteration:  61%|██████    | 387/632 [00:53<00:33,  7.31it/s]\u001b[A\n",
      "Iteration:  61%|██████▏   | 388/632 [00:53<00:33,  7.18it/s]\u001b[A\n",
      "Iteration:  62%|██████▏   | 389/632 [00:53<00:33,  7.30it/s]\u001b[A\n",
      "Iteration:  62%|██████▏   | 390/632 [00:53<00:33,  7.16it/s]\u001b[A\n",
      "Iteration:  62%|██████▏   | 391/632 [00:53<00:33,  7.12it/s]\u001b[A\n",
      "Iteration:  62%|██████▏   | 392/632 [00:53<00:33,  7.09it/s]\u001b[A\n",
      "Iteration:  62%|██████▏   | 393/632 [00:53<00:33,  7.20it/s]\u001b[A\n",
      "Iteration:  62%|██████▏   | 394/632 [00:53<00:32,  7.35it/s]\u001b[A\n",
      "Iteration:  62%|██████▎   | 395/632 [00:54<00:30,  7.70it/s]\u001b[A\n",
      "Iteration:  63%|██████▎   | 396/632 [00:54<00:32,  7.34it/s]\u001b[A\n",
      "Iteration:  63%|██████▎   | 397/632 [00:54<00:31,  7.47it/s]\u001b[A\n",
      "Iteration:  63%|██████▎   | 398/632 [00:54<00:31,  7.35it/s]\u001b[A\n",
      "Iteration:  63%|██████▎   | 399/632 [00:54<00:30,  7.74it/s]\u001b[A\n",
      "Iteration:  63%|██████▎   | 400/632 [00:54<00:31,  7.32it/s]\u001b[A\n",
      "Iteration:  63%|██████▎   | 401/632 [00:54<00:33,  6.97it/s]\u001b[A\n",
      "Iteration:  64%|██████▎   | 402/632 [00:55<00:32,  7.01it/s]\u001b[A\n",
      "Iteration:  64%|██████▍   | 403/632 [00:55<00:31,  7.16it/s]\u001b[A\n",
      "Iteration:  64%|██████▍   | 404/632 [00:55<00:30,  7.44it/s]\u001b[A\n",
      "Iteration:  64%|██████▍   | 405/632 [00:55<00:32,  7.02it/s]\u001b[A\n",
      "Iteration:  64%|██████▍   | 406/632 [00:55<00:32,  6.97it/s]\u001b[A\n",
      "Iteration:  64%|██████▍   | 407/632 [00:55<00:32,  6.92it/s]\u001b[A\n",
      "Iteration:  65%|██████▍   | 408/632 [00:55<00:35,  6.39it/s]\u001b[A\n",
      "Iteration:  65%|██████▍   | 409/632 [00:56<00:34,  6.50it/s]\u001b[A\n",
      "Iteration:  65%|██████▍   | 410/632 [00:56<00:33,  6.72it/s]\u001b[A\n",
      "Iteration:  65%|██████▌   | 411/632 [00:56<00:31,  7.12it/s]\u001b[A\n",
      "Iteration:  65%|██████▌   | 412/632 [00:56<00:31,  6.93it/s]\u001b[A\n",
      "Iteration:  65%|██████▌   | 413/632 [00:56<00:30,  7.08it/s]\u001b[A\n",
      "Iteration:  66%|██████▌   | 414/632 [00:56<00:31,  6.89it/s]\u001b[A\n",
      "Iteration:  66%|██████▌   | 415/632 [00:56<00:32,  6.67it/s]\u001b[A\n",
      "Iteration:  66%|██████▌   | 416/632 [00:57<00:33,  6.49it/s]\u001b[A\n",
      "Iteration:  66%|██████▌   | 417/632 [00:57<00:32,  6.72it/s]\u001b[A\n",
      "Iteration:  66%|██████▌   | 418/632 [00:57<00:30,  6.96it/s]\u001b[A\n",
      "Iteration:  66%|██████▋   | 419/632 [00:57<00:30,  7.06it/s]\u001b[A\n",
      "Iteration:  66%|██████▋   | 420/632 [00:57<00:28,  7.45it/s]\u001b[A\n",
      "Iteration:  67%|██████▋   | 421/632 [00:57<00:27,  7.67it/s]\u001b[A\n",
      "Iteration:  67%|██████▋   | 422/632 [00:57<00:26,  7.96it/s]\u001b[A\n",
      "Iteration:  67%|██████▋   | 423/632 [00:58<00:26,  7.99it/s]\u001b[A\n",
      "Iteration:  67%|██████▋   | 424/632 [00:58<00:26,  7.87it/s]\u001b[A\n",
      "Iteration:  67%|██████▋   | 425/632 [00:58<00:26,  7.69it/s]\u001b[A\n",
      "Iteration:  67%|██████▋   | 426/632 [00:58<00:27,  7.58it/s]\u001b[A\n",
      "Iteration:  68%|██████▊   | 427/632 [00:58<00:27,  7.50it/s]\u001b[A\n",
      "Iteration:  68%|██████▊   | 428/632 [00:58<00:27,  7.33it/s]\u001b[A\n",
      "Iteration:  68%|██████▊   | 429/632 [00:58<00:27,  7.34it/s]\u001b[A\n",
      "Iteration:  68%|██████▊   | 430/632 [00:58<00:27,  7.37it/s]\u001b[A\n",
      "Iteration:  68%|██████▊   | 431/632 [00:59<00:27,  7.43it/s]\u001b[A\n",
      "Iteration:  68%|██████▊   | 432/632 [00:59<00:26,  7.52it/s]\u001b[A\n",
      "Iteration:  69%|██████▊   | 433/632 [00:59<00:25,  7.81it/s]\u001b[A\n",
      "Iteration:  69%|██████▊   | 434/632 [00:59<00:26,  7.41it/s]\u001b[A\n",
      "Iteration:  69%|██████▉   | 435/632 [00:59<00:27,  7.29it/s]\u001b[A\n",
      "Iteration:  69%|██████▉   | 436/632 [00:59<00:26,  7.28it/s]\u001b[A\n",
      "Iteration:  69%|██████▉   | 437/632 [00:59<00:28,  6.87it/s]\u001b[A\n",
      "Iteration:  69%|██████▉   | 438/632 [01:00<00:26,  7.25it/s]\u001b[A\n",
      "Iteration:  69%|██████▉   | 439/632 [01:00<00:27,  6.95it/s]\u001b[A\n",
      "Iteration:  70%|██████▉   | 440/632 [01:00<00:26,  7.31it/s]\u001b[A\n",
      "Iteration:  70%|██████▉   | 441/632 [01:00<00:26,  7.18it/s]\u001b[A\n",
      "Iteration:  70%|██████▉   | 442/632 [01:00<00:25,  7.33it/s]\u001b[A\n",
      "Iteration:  70%|███████   | 443/632 [01:00<00:25,  7.30it/s]\u001b[A\n",
      "Iteration:  70%|███████   | 444/632 [01:00<00:26,  7.21it/s]\u001b[A\n",
      "Iteration:  70%|███████   | 445/632 [01:01<00:26,  7.12it/s]\u001b[A\n",
      "Iteration:  71%|███████   | 446/632 [01:01<00:26,  6.96it/s]\u001b[A\n",
      "Iteration:  71%|███████   | 447/632 [01:01<00:26,  6.89it/s]\u001b[A\n",
      "Iteration:  71%|███████   | 448/632 [01:01<00:25,  7.17it/s]\u001b[A\n",
      "Iteration:  71%|███████   | 449/632 [01:01<00:27,  6.78it/s]\u001b[A\n",
      "Iteration:  71%|███████   | 450/632 [01:01<00:27,  6.59it/s]\u001b[A\n",
      "Iteration:  71%|███████▏  | 451/632 [01:01<00:26,  6.87it/s]\u001b[A\n",
      "Iteration:  72%|███████▏  | 452/632 [01:02<00:25,  7.04it/s]\u001b[A\n",
      "Iteration:  72%|███████▏  | 453/632 [01:02<00:24,  7.22it/s]\u001b[A\n",
      "Iteration:  72%|███████▏  | 454/632 [01:02<00:25,  7.00it/s]\u001b[A\n",
      "Iteration:  72%|███████▏  | 455/632 [01:02<00:25,  7.08it/s]\u001b[A\n",
      "Iteration:  72%|███████▏  | 456/632 [01:02<00:25,  6.83it/s]\u001b[A\n",
      "Iteration:  72%|███████▏  | 457/632 [01:02<00:25,  6.85it/s]\u001b[A\n",
      "Iteration:  72%|███████▏  | 458/632 [01:02<00:25,  6.93it/s]\u001b[A\n",
      "Iteration:  73%|███████▎  | 459/632 [01:03<00:23,  7.23it/s]\u001b[A\n",
      "Iteration:  73%|███████▎  | 460/632 [01:03<00:24,  6.98it/s]\u001b[A\n",
      "Iteration:  73%|███████▎  | 461/632 [01:03<00:23,  7.16it/s]\u001b[A\n",
      "Iteration:  73%|███████▎  | 462/632 [01:03<00:25,  6.80it/s]\u001b[A\n",
      "Iteration:  73%|███████▎  | 463/632 [01:03<00:23,  7.31it/s]\u001b[A\n",
      "Iteration:  73%|███████▎  | 464/632 [01:03<00:23,  7.24it/s]\u001b[A\n",
      "Iteration:  74%|███████▎  | 465/632 [01:03<00:22,  7.41it/s]\u001b[A\n",
      "Iteration:  74%|███████▎  | 466/632 [01:04<00:21,  7.62it/s]\u001b[A\n",
      "Iteration:  74%|███████▍  | 467/632 [01:04<00:21,  7.71it/s]\u001b[A\n",
      "Iteration:  74%|███████▍  | 468/632 [01:04<00:21,  7.81it/s]\u001b[A\n",
      "Iteration:  74%|███████▍  | 469/632 [01:04<00:21,  7.52it/s]\u001b[A\n",
      "Iteration:  74%|███████▍  | 470/632 [01:04<00:22,  7.08it/s]\u001b[A\n",
      "Iteration:  75%|███████▍  | 471/632 [01:04<00:21,  7.45it/s]\u001b[A\n",
      "Iteration:  75%|███████▍  | 472/632 [01:04<00:20,  7.65it/s]\u001b[A\n",
      "Iteration:  75%|███████▍  | 473/632 [01:04<00:21,  7.31it/s]\u001b[A\n",
      "Iteration:  75%|███████▌  | 474/632 [01:05<00:21,  7.32it/s]\u001b[A\n",
      "Iteration:  75%|███████▌  | 475/632 [01:05<00:21,  7.40it/s]\u001b[A\n",
      "Iteration:  75%|███████▌  | 476/632 [01:05<00:23,  6.56it/s]\u001b[A\n",
      "Iteration:  75%|███████▌  | 477/632 [01:05<00:23,  6.74it/s]\u001b[A\n",
      "Iteration:  76%|███████▌  | 478/632 [01:05<00:22,  6.90it/s]\u001b[A\n",
      "Iteration:  76%|███████▌  | 479/632 [01:05<00:21,  7.02it/s]\u001b[A\n",
      "Iteration:  76%|███████▌  | 480/632 [01:05<00:20,  7.45it/s]\u001b[A\n",
      "Iteration:  76%|███████▌  | 481/632 [01:06<00:21,  7.06it/s]\u001b[A\n",
      "Iteration:  76%|███████▋  | 482/632 [01:06<00:21,  7.10it/s]\u001b[A\n",
      "Iteration:  76%|███████▋  | 483/632 [01:06<00:20,  7.10it/s]\u001b[A\n",
      "Iteration:  77%|███████▋  | 484/632 [01:06<00:19,  7.50it/s]\u001b[A\n",
      "Iteration:  77%|███████▋  | 485/632 [01:06<00:19,  7.45it/s]\u001b[A\n",
      "Iteration:  77%|███████▋  | 486/632 [01:06<00:19,  7.55it/s]\u001b[A\n",
      "Iteration:  77%|███████▋  | 487/632 [01:06<00:19,  7.52it/s]\u001b[A\n",
      "Iteration:  77%|███████▋  | 488/632 [01:07<00:20,  7.16it/s]\u001b[A\n",
      "Iteration:  77%|███████▋  | 489/632 [01:07<00:20,  7.04it/s]\u001b[A\n",
      "Iteration:  78%|███████▊  | 490/632 [01:07<00:20,  7.01it/s]\u001b[A\n",
      "Iteration:  78%|███████▊  | 491/632 [01:07<00:19,  7.40it/s]\u001b[A\n",
      "Iteration:  78%|███████▊  | 492/632 [01:07<00:19,  7.25it/s]\u001b[A\n",
      "Iteration:  78%|███████▊  | 493/632 [01:07<00:18,  7.59it/s]\u001b[A\n",
      "Iteration:  78%|███████▊  | 494/632 [01:07<00:18,  7.50it/s]\u001b[A\n",
      "Iteration:  78%|███████▊  | 495/632 [01:07<00:17,  7.77it/s]\u001b[A\n",
      "Iteration:  78%|███████▊  | 496/632 [01:08<00:18,  7.45it/s]\u001b[A\n",
      "Iteration:  79%|███████▊  | 497/632 [01:08<00:18,  7.35it/s]\u001b[A\n",
      "Iteration:  79%|███████▉  | 498/632 [01:08<00:19,  6.98it/s]\u001b[A\n",
      "Iteration:  79%|███████▉  | 499/632 [01:08<00:18,  7.37it/s]\u001b[A\n",
      "Iteration:  79%|███████▉  | 500/632 [01:08<00:17,  7.67it/s]\u001b[A\n",
      "Iteration:  79%|███████▉  | 501/632 [01:08<00:17,  7.58it/s]\u001b[A\n",
      "Iteration:  79%|███████▉  | 502/632 [01:08<00:17,  7.23it/s]\u001b[A\n",
      "Iteration:  80%|███████▉  | 503/632 [01:09<00:17,  7.23it/s]\u001b[A\n",
      "Iteration:  80%|███████▉  | 504/632 [01:09<00:18,  6.98it/s]\u001b[A\n",
      "Iteration:  80%|███████▉  | 505/632 [01:09<00:17,  7.12it/s]\u001b[A\n",
      "Iteration:  80%|████████  | 506/632 [01:09<00:17,  7.26it/s]\u001b[A\n",
      "Iteration:  80%|████████  | 507/632 [01:09<00:17,  7.20it/s]\u001b[A\n",
      "Iteration:  80%|████████  | 508/632 [01:09<00:18,  6.88it/s]\u001b[A\n",
      "Iteration:  81%|████████  | 509/632 [01:09<00:17,  7.01it/s]\u001b[A\n",
      "Iteration:  81%|████████  | 510/632 [01:10<00:17,  7.11it/s]\u001b[A\n",
      "Iteration:  81%|████████  | 511/632 [01:10<00:16,  7.23it/s]\u001b[A\n",
      "Iteration:  81%|████████  | 512/632 [01:10<00:16,  7.24it/s]\u001b[A\n"
     ]
    },
    {
     "name": "stderr",
     "output_type": "stream",
     "text": [
      "Iteration:  81%|████████  | 513/632 [01:10<00:16,  7.41it/s]\u001b[A\n",
      "Iteration:  81%|████████▏ | 514/632 [01:10<00:15,  7.74it/s]\u001b[A\n",
      "Iteration:  81%|████████▏ | 515/632 [01:10<00:15,  7.79it/s]\u001b[A\n",
      "Iteration:  82%|████████▏ | 516/632 [01:10<00:14,  7.79it/s]\u001b[A\n",
      "Iteration:  82%|████████▏ | 517/632 [01:11<00:15,  7.65it/s]\u001b[A\n",
      "Iteration:  82%|████████▏ | 518/632 [01:11<00:14,  7.76it/s]\u001b[A\n",
      "Iteration:  82%|████████▏ | 519/632 [01:11<00:15,  7.46it/s]\u001b[A\n",
      "Iteration:  82%|████████▏ | 520/632 [01:11<00:15,  7.26it/s]\u001b[A\n",
      "Iteration:  82%|████████▏ | 521/632 [01:11<00:15,  7.32it/s]\u001b[A\n",
      "Iteration:  83%|████████▎ | 522/632 [01:11<00:14,  7.52it/s]\u001b[A\n",
      "Iteration:  83%|████████▎ | 523/632 [01:11<00:14,  7.46it/s]\u001b[A\n",
      "Iteration:  83%|████████▎ | 524/632 [01:11<00:14,  7.61it/s]\u001b[A\n",
      "Iteration:  83%|████████▎ | 525/632 [01:12<00:13,  7.81it/s]\u001b[A\n",
      "Iteration:  83%|████████▎ | 526/632 [01:12<00:13,  7.69it/s]\u001b[A\n",
      "Iteration:  83%|████████▎ | 527/632 [01:12<00:13,  7.90it/s]\u001b[A\n",
      "Iteration:  84%|████████▎ | 528/632 [01:12<00:13,  7.78it/s]\u001b[A\n",
      "Iteration:  84%|████████▎ | 529/632 [01:12<00:13,  7.65it/s]\u001b[A\n",
      "Iteration:  84%|████████▍ | 530/632 [01:12<00:13,  7.81it/s]\u001b[A\n",
      "Iteration:  84%|████████▍ | 531/632 [01:12<00:12,  7.99it/s]\u001b[A\n",
      "Iteration:  84%|████████▍ | 532/632 [01:12<00:12,  7.71it/s]\u001b[A\n",
      "Iteration:  84%|████████▍ | 533/632 [01:13<00:12,  7.71it/s]\u001b[A\n",
      "Iteration:  84%|████████▍ | 534/632 [01:13<00:12,  7.65it/s]\u001b[A\n",
      "Iteration:  85%|████████▍ | 535/632 [01:13<00:13,  7.24it/s]\u001b[A\n",
      "Iteration:  85%|████████▍ | 536/632 [01:13<00:13,  7.31it/s]\u001b[A\n",
      "Iteration:  85%|████████▍ | 537/632 [01:13<00:12,  7.59it/s]\u001b[A\n",
      "Iteration:  85%|████████▌ | 538/632 [01:13<00:12,  7.59it/s]\u001b[A\n",
      "Iteration:  85%|████████▌ | 539/632 [01:13<00:12,  7.34it/s]\u001b[A\n",
      "Iteration:  85%|████████▌ | 540/632 [01:14<00:12,  7.26it/s]\u001b[A\n",
      "Iteration:  86%|████████▌ | 541/632 [01:14<00:12,  7.55it/s]\u001b[A\n",
      "Iteration:  86%|████████▌ | 542/632 [01:14<00:11,  7.60it/s]\u001b[A\n",
      "Iteration:  86%|████████▌ | 543/632 [01:14<00:11,  7.77it/s]\u001b[A\n",
      "Iteration:  86%|████████▌ | 544/632 [01:14<00:11,  7.74it/s]\u001b[A\n",
      "Iteration:  86%|████████▌ | 545/632 [01:14<00:11,  7.60it/s]\u001b[A\n",
      "Iteration:  86%|████████▋ | 546/632 [01:14<00:11,  7.58it/s]\u001b[A\n",
      "Iteration:  87%|████████▋ | 547/632 [01:14<00:11,  7.23it/s]\u001b[A\n",
      "Iteration:  87%|████████▋ | 548/632 [01:15<00:11,  7.32it/s]\u001b[A\n",
      "Iteration:  87%|████████▋ | 549/632 [01:15<00:11,  7.25it/s]\u001b[A\n",
      "Iteration:  87%|████████▋ | 550/632 [01:15<00:11,  7.24it/s]\u001b[A\n",
      "Iteration:  87%|████████▋ | 551/632 [01:15<00:10,  7.57it/s]\u001b[A\n",
      "Iteration:  87%|████████▋ | 552/632 [01:15<00:10,  7.29it/s]\u001b[A\n",
      "Iteration:  88%|████████▊ | 553/632 [01:15<00:10,  7.23it/s]\u001b[A\n",
      "Iteration:  88%|████████▊ | 554/632 [01:15<00:10,  7.49it/s]\u001b[A\n",
      "Iteration:  88%|████████▊ | 555/632 [01:16<00:10,  7.49it/s]\u001b[A\n",
      "Iteration:  88%|████████▊ | 556/632 [01:16<00:10,  7.00it/s]\u001b[A\n",
      "Iteration:  88%|████████▊ | 557/632 [01:16<00:10,  7.00it/s]\u001b[A\n",
      "Iteration:  88%|████████▊ | 558/632 [01:16<00:10,  6.94it/s]\u001b[A\n",
      "Iteration:  88%|████████▊ | 559/632 [01:16<00:09,  7.40it/s]\u001b[A\n",
      "Iteration:  89%|████████▊ | 560/632 [01:16<00:09,  7.29it/s]\u001b[A\n",
      "Iteration:  89%|████████▉ | 561/632 [01:16<00:09,  7.40it/s]\u001b[A\n",
      "Iteration:  89%|████████▉ | 562/632 [01:17<00:09,  7.39it/s]\u001b[A\n",
      "Iteration:  89%|████████▉ | 563/632 [01:17<00:09,  7.54it/s]\u001b[A\n",
      "Iteration:  89%|████████▉ | 564/632 [01:17<00:08,  7.80it/s]\u001b[A\n",
      "Iteration:  89%|████████▉ | 565/632 [01:17<00:08,  7.89it/s]\u001b[A\n",
      "Iteration:  90%|████████▉ | 566/632 [01:17<00:08,  8.03it/s]\u001b[A\n",
      "Iteration:  90%|████████▉ | 567/632 [01:17<00:08,  7.64it/s]\u001b[A\n",
      "Iteration:  90%|████████▉ | 568/632 [01:17<00:08,  7.30it/s]\u001b[A\n",
      "Iteration:  90%|█████████ | 569/632 [01:17<00:09,  6.96it/s]\u001b[A\n",
      "Iteration:  90%|█████████ | 570/632 [01:18<00:08,  7.35it/s]\u001b[A\n",
      "Iteration:  90%|█████████ | 571/632 [01:18<00:08,  7.51it/s]\u001b[A\n",
      "Iteration:  91%|█████████ | 572/632 [01:18<00:08,  7.47it/s]\u001b[A\n",
      "Iteration:  91%|█████████ | 573/632 [01:18<00:07,  7.43it/s]\u001b[A\n",
      "Iteration:  91%|█████████ | 574/632 [01:18<00:07,  7.31it/s]\u001b[A\n",
      "Iteration:  91%|█████████ | 575/632 [01:18<00:07,  7.56it/s]\u001b[A\n",
      "Iteration:  91%|█████████ | 576/632 [01:18<00:07,  7.94it/s]\u001b[A\n",
      "Iteration:  91%|█████████▏| 577/632 [01:19<00:07,  7.67it/s]\u001b[A\n",
      "Iteration:  91%|█████████▏| 578/632 [01:19<00:07,  7.55it/s]\u001b[A\n",
      "Iteration:  92%|█████████▏| 579/632 [01:19<00:07,  7.45it/s]\u001b[A\n",
      "Iteration:  92%|█████████▏| 580/632 [01:19<00:07,  7.27it/s]\u001b[A\n",
      "Iteration:  92%|█████████▏| 581/632 [01:19<00:06,  7.41it/s]\u001b[A\n",
      "Iteration:  92%|█████████▏| 582/632 [01:19<00:06,  7.47it/s]\u001b[A\n",
      "Iteration:  92%|█████████▏| 583/632 [01:19<00:06,  7.53it/s]\u001b[A\n",
      "Iteration:  92%|█████████▏| 584/632 [01:19<00:06,  7.54it/s]\u001b[A\n",
      "Iteration:  93%|█████████▎| 585/632 [01:20<00:06,  7.19it/s]\u001b[A\n",
      "Iteration:  93%|█████████▎| 586/632 [01:20<00:06,  7.47it/s]\u001b[A\n",
      "Iteration:  93%|█████████▎| 587/632 [01:20<00:05,  7.68it/s]\u001b[A\n",
      "Iteration:  93%|█████████▎| 588/632 [01:20<00:06,  7.33it/s]\u001b[A\n",
      "Iteration:  93%|█████████▎| 589/632 [01:20<00:06,  7.16it/s]\u001b[A\n",
      "Iteration:  93%|█████████▎| 590/632 [01:20<00:05,  7.55it/s]\u001b[A\n",
      "Iteration:  94%|█████████▎| 591/632 [01:20<00:05,  7.80it/s]\u001b[A\n",
      "Iteration:  94%|█████████▎| 592/632 [01:21<00:05,  7.86it/s]\u001b[A\n",
      "Iteration:  94%|█████████▍| 593/632 [01:21<00:04,  7.92it/s]\u001b[A\n",
      "Iteration:  94%|█████████▍| 594/632 [01:21<00:04,  7.82it/s]\u001b[A\n",
      "Iteration:  94%|█████████▍| 595/632 [01:21<00:04,  7.66it/s]\u001b[A\n",
      "Iteration:  94%|█████████▍| 596/632 [01:21<00:04,  7.22it/s]\u001b[A\n",
      "Iteration:  94%|█████████▍| 597/632 [01:21<00:04,  7.06it/s]\u001b[A\n",
      "Iteration:  95%|█████████▍| 598/632 [01:21<00:04,  7.14it/s]\u001b[A\n",
      "Iteration:  95%|█████████▍| 599/632 [01:21<00:04,  7.54it/s]\u001b[A\n",
      "Iteration:  95%|█████████▍| 600/632 [01:22<00:04,  7.37it/s]\u001b[A\n",
      "Iteration:  95%|█████████▌| 601/632 [01:22<00:04,  7.27it/s]\u001b[A\n",
      "Iteration:  95%|█████████▌| 602/632 [01:22<00:04,  7.06it/s]\u001b[A\n",
      "Iteration:  95%|█████████▌| 603/632 [01:22<00:04,  7.06it/s]\u001b[A\n",
      "Iteration:  96%|█████████▌| 604/632 [01:22<00:03,  7.08it/s]\u001b[A\n",
      "Iteration:  96%|█████████▌| 605/632 [01:22<00:03,  7.02it/s]\u001b[A\n",
      "Iteration:  96%|█████████▌| 606/632 [01:22<00:03,  7.06it/s]\u001b[A\n",
      "Iteration:  96%|█████████▌| 607/632 [01:23<00:03,  7.22it/s]\u001b[A\n",
      "Iteration:  96%|█████████▌| 608/632 [01:23<00:03,  7.23it/s]\u001b[A\n",
      "Iteration:  96%|█████████▋| 609/632 [01:23<00:03,  7.43it/s]\u001b[A\n",
      "Iteration:  97%|█████████▋| 610/632 [01:23<00:02,  7.42it/s]\u001b[A\n",
      "Iteration:  97%|█████████▋| 611/632 [01:23<00:02,  7.48it/s]\u001b[A\n",
      "Iteration:  97%|█████████▋| 612/632 [01:23<00:02,  7.35it/s]\u001b[A\n",
      "Iteration:  97%|█████████▋| 613/632 [01:23<00:02,  6.97it/s]\u001b[A\n",
      "Iteration:  97%|█████████▋| 614/632 [01:24<00:02,  7.13it/s]\u001b[A\n",
      "Iteration:  97%|█████████▋| 615/632 [01:24<00:02,  7.15it/s]\u001b[A\n",
      "Iteration:  97%|█████████▋| 616/632 [01:24<00:02,  7.04it/s]\u001b[A\n",
      "Iteration:  98%|█████████▊| 617/632 [01:24<00:02,  7.15it/s]\u001b[A\n",
      "Iteration:  98%|█████████▊| 618/632 [01:24<00:01,  7.18it/s]\u001b[A\n",
      "Iteration:  98%|█████████▊| 619/632 [01:24<00:01,  7.56it/s]\u001b[A\n",
      "Iteration:  98%|█████████▊| 620/632 [01:24<00:01,  7.71it/s]\u001b[A\n",
      "Iteration:  98%|█████████▊| 621/632 [01:25<00:01,  7.30it/s]\u001b[A\n",
      "Iteration:  98%|█████████▊| 622/632 [01:25<00:01,  7.17it/s]\u001b[A\n",
      "Iteration:  99%|█████████▊| 623/632 [01:25<00:01,  6.73it/s]\u001b[A\n",
      "Iteration:  99%|█████████▊| 624/632 [01:25<00:01,  7.01it/s]\u001b[A\n",
      "Iteration:  99%|█████████▉| 625/632 [01:25<00:01,  6.84it/s]\u001b[A\n",
      "Iteration:  99%|█████████▉| 626/632 [01:25<00:00,  6.96it/s]\u001b[A\n",
      "Iteration:  99%|█████████▉| 627/632 [01:25<00:00,  6.74it/s]\u001b[A\n",
      "Iteration:  99%|█████████▉| 628/632 [01:26<00:00,  6.69it/s]\u001b[A\n",
      "Iteration: 100%|█████████▉| 629/632 [01:26<00:00,  6.98it/s]\u001b[A\n",
      "Iteration: 100%|█████████▉| 630/632 [01:26<00:00,  7.29it/s]\u001b[A\n",
      "Iteration: 100%|█████████▉| 631/632 [01:26<00:00,  7.26it/s]\u001b[A\n",
      "Iteration: 100%|██████████| 632/632 [01:26<00:00,  7.30it/s]\u001b[A\n",
      "Epoch:   0%|          | 0/4 [01:26<?, ?it/s]\n",
      "Convert Evaluating:   0%|          | 0/188 [00:00<?, ?it/s]\u001b[A\n",
      "Convert Evaluating:   3%|▎         | 5/188 [00:00<00:03, 46.55it/s]\u001b[A"
     ]
    },
    {
     "name": "stdout",
     "output_type": "stream",
     "text": [
      "2019-12-17 05:49:56 - Evaluation the model on  dataset after epoch 0:\n"
     ]
    },
    {
     "name": "stderr",
     "output_type": "stream",
     "text": [
      "\n",
      "Convert Evaluating:   5%|▌         | 10/188 [00:00<00:03, 46.76it/s]\u001b[A\n",
      "Convert Evaluating:   8%|▊         | 15/188 [00:00<00:03, 46.69it/s]\u001b[A\n",
      "Convert Evaluating:  11%|█         | 20/188 [00:00<00:03, 47.18it/s]\u001b[A\n",
      "Convert Evaluating:  13%|█▎        | 25/188 [00:00<00:03, 47.38it/s]\u001b[A\n",
      "Convert Evaluating:  16%|█▌        | 30/188 [00:00<00:03, 47.46it/s]\u001b[A\n",
      "Convert Evaluating:  19%|█▊        | 35/188 [00:00<00:03, 47.01it/s]\u001b[A\n",
      "Convert Evaluating:  21%|██▏       | 40/188 [00:00<00:03, 46.13it/s]\u001b[A\n",
      "Convert Evaluating:  24%|██▍       | 45/188 [00:00<00:03, 46.06it/s]\u001b[A\n",
      "Convert Evaluating:  27%|██▋       | 50/188 [00:01<00:03, 45.97it/s]\u001b[A\n",
      "Convert Evaluating:  29%|██▉       | 55/188 [00:01<00:02, 46.04it/s]\u001b[A\n",
      "Convert Evaluating:  32%|███▏      | 60/188 [00:01<00:02, 45.38it/s]\u001b[A\n",
      "Convert Evaluating:  35%|███▍      | 65/188 [00:01<00:02, 45.10it/s]\u001b[A\n",
      "Convert Evaluating:  37%|███▋      | 70/188 [00:01<00:02, 45.02it/s]\u001b[A\n",
      "Convert Evaluating:  40%|███▉      | 75/188 [00:01<00:02, 45.05it/s]\u001b[A\n",
      "Convert Evaluating:  43%|████▎     | 80/188 [00:01<00:02, 42.95it/s]\u001b[A\n",
      "Convert Evaluating:  45%|████▌     | 85/188 [00:01<00:02, 40.42it/s]\u001b[A\n",
      "Convert Evaluating:  48%|████▊     | 90/188 [00:02<00:02, 38.82it/s]\u001b[A\n",
      "Convert Evaluating:  50%|█████     | 94/188 [00:02<00:02, 38.35it/s]\u001b[A\n",
      "Convert Evaluating:  52%|█████▏    | 98/188 [00:02<00:02, 34.84it/s]\u001b[A\n",
      "Convert Evaluating:  54%|█████▍    | 102/188 [00:02<00:02, 36.01it/s]\u001b[A\n",
      "Convert Evaluating:  56%|█████▋    | 106/188 [00:02<00:02, 36.19it/s]\u001b[A\n",
      "Convert Evaluating:  59%|█████▊    | 110/188 [00:02<00:02, 36.05it/s]\u001b[A\n",
      "Convert Evaluating:  61%|██████    | 114/188 [00:02<00:02, 35.99it/s]\u001b[A\n",
      "Convert Evaluating:  63%|██████▎   | 118/188 [00:02<00:01, 35.98it/s]\u001b[A\n",
      "Convert Evaluating:  65%|██████▍   | 122/188 [00:02<00:01, 36.45it/s]\u001b[A\n",
      "Convert Evaluating:  67%|██████▋   | 126/188 [00:03<00:01, 36.01it/s]\u001b[A\n",
      "Convert Evaluating:  69%|██████▉   | 130/188 [00:03<00:01, 34.00it/s]\u001b[A\n",
      "Convert Evaluating:  71%|███████▏  | 134/188 [00:03<00:01, 32.52it/s]\u001b[A\n",
      "Convert Evaluating:  73%|███████▎  | 138/188 [00:03<00:01, 31.52it/s]\u001b[A\n",
      "Convert Evaluating:  76%|███████▌  | 142/188 [00:03<00:01, 30.10it/s]\u001b[A\n",
      "Convert Evaluating:  78%|███████▊  | 146/188 [00:03<00:01, 29.33it/s]\u001b[A\n",
      "Convert Evaluating:  80%|███████▉  | 150/188 [00:03<00:01, 30.05it/s]\u001b[A\n",
      "Convert Evaluating:  82%|████████▏ | 154/188 [00:04<00:01, 28.94it/s]\u001b[A\n",
      "Convert Evaluating:  84%|████████▍ | 158/188 [00:04<00:00, 30.23it/s]\u001b[A\n",
      "Convert Evaluating:  87%|████████▋ | 163/188 [00:04<00:00, 33.58it/s]\u001b[A\n",
      "Convert Evaluating:  89%|████████▉ | 168/188 [00:04<00:00, 36.43it/s]\u001b[A\n",
      "Convert Evaluating:  92%|█████████▏| 173/188 [00:04<00:00, 38.79it/s]\u001b[A\n",
      "Convert Evaluating:  95%|█████████▍| 178/188 [00:04<00:00, 40.58it/s]\u001b[A\n",
      "Convert Evaluating:  97%|█████████▋| 183/188 [00:04<00:00, 41.70it/s]\u001b[A\n",
      "Convert Evaluating: 100%|██████████| 188/188 [00:04<00:00, 39.11it/s]\u001b[A\n",
      "Epoch:   0%|          | 0/4 [01:31<?, ?it/s]"
     ]
    },
    {
     "name": "stdout",
     "output_type": "stream",
     "text": [
      "2019-12-17 05:50:01 - Cosine-Similarity :\tPearson: 0.8627\tSpearman: 0.8686\n",
      "2019-12-17 05:50:01 - Manhattan-Distance:\tPearson: 0.8548\tSpearman: 0.8614\n",
      "2019-12-17 05:50:01 - Euclidean-Distance:\tPearson: 0.8555\tSpearman: 0.8619\n",
      "2019-12-17 05:50:01 - Dot-Product-Similarity:\tPearson: 0.8127\tSpearman: 0.8222\n",
      "2019-12-17 05:50:01 - Save model to output/training_stsbenchmark_continue_training-roberta-base-nli-stsb-mean-tokens-2019-12-17_05-48-22\n",
      "2019-12-17 05:50:01 - Configuration saved in output/training_stsbenchmark_continue_training-roberta-base-nli-stsb-mean-tokens-2019-12-17_05-48-22/0_RoBERTa/config.json\n"
     ]
    },
    {
     "name": "stderr",
     "output_type": "stream",
     "text": [
      "Epoch:  25%|██▌       | 1/4 [01:31<04:35, 91.99s/it]\n",
      "                                                    A\n",
      "Epoch:  25%|██▌       | 1/4 [01:31<04:35, 91.99s/it]\n",
      "Iteration:   0%|          | 0/632 [00:00<?, ?it/s]\u001b[A"
     ]
    },
    {
     "name": "stdout",
     "output_type": "stream",
     "text": [
      "2019-12-17 05:50:02 - Model weights saved in output/training_stsbenchmark_continue_training-roberta-base-nli-stsb-mean-tokens-2019-12-17_05-48-22/0_RoBERTa/pytorch_model.bin\n",
      "2019-12-17 05:50:02 - Restart data_iterator\n"
     ]
    },
    {
     "name": "stderr",
     "output_type": "stream",
     "text": [
      "\n",
      "Iteration:   0%|          | 1/632 [00:00<01:42,  6.13it/s]\u001b[A\n",
      "Iteration:   0%|          | 2/632 [00:00<01:42,  6.15it/s]\u001b[A\n",
      "Iteration:   0%|          | 3/632 [00:00<01:37,  6.45it/s]\u001b[A\n",
      "Iteration:   1%|          | 4/632 [00:00<01:35,  6.57it/s]\u001b[A\n",
      "Iteration:   1%|          | 5/632 [00:00<01:37,  6.46it/s]\u001b[A\n",
      "Iteration:   1%|          | 6/632 [00:00<01:32,  6.78it/s]\u001b[A\n",
      "Iteration:   1%|          | 7/632 [00:01<01:34,  6.59it/s]\u001b[A\n",
      "Iteration:   1%|▏         | 8/632 [00:01<01:31,  6.80it/s]\u001b[A\n",
      "Iteration:   1%|▏         | 9/632 [00:01<01:30,  6.85it/s]\u001b[A\n",
      "Iteration:   2%|▏         | 10/632 [00:01<01:28,  7.01it/s]\u001b[A\n",
      "Iteration:   2%|▏         | 11/632 [00:01<01:23,  7.40it/s]\u001b[A\n",
      "Iteration:   2%|▏         | 12/632 [00:01<01:26,  7.14it/s]\u001b[A\n",
      "Iteration:   2%|▏         | 13/632 [00:01<01:25,  7.25it/s]\u001b[A\n",
      "Iteration:   2%|▏         | 14/632 [00:02<01:22,  7.45it/s]\u001b[A\n",
      "Iteration:   2%|▏         | 15/632 [00:02<01:34,  6.51it/s]\u001b[A\n",
      "Iteration:   3%|▎         | 16/632 [00:02<01:33,  6.59it/s]\u001b[A\n",
      "Iteration:   3%|▎         | 17/632 [00:02<01:33,  6.60it/s]\u001b[A\n",
      "Iteration:   3%|▎         | 18/632 [00:02<01:30,  6.76it/s]\u001b[A\n",
      "Iteration:   3%|▎         | 19/632 [00:02<01:27,  6.99it/s]\u001b[A\n",
      "Iteration:   3%|▎         | 20/632 [00:02<01:30,  6.73it/s]\u001b[A\n",
      "Iteration:   3%|▎         | 21/632 [00:03<01:28,  6.91it/s]\u001b[A\n",
      "Iteration:   3%|▎         | 22/632 [00:03<01:29,  6.78it/s]\u001b[A\n",
      "Iteration:   4%|▎         | 23/632 [00:03<01:28,  6.91it/s]\u001b[A\n",
      "Iteration:   4%|▍         | 24/632 [00:03<01:22,  7.33it/s]\u001b[A\n",
      "Iteration:   4%|▍         | 25/632 [00:03<01:24,  7.19it/s]\u001b[A\n",
      "Iteration:   4%|▍         | 26/632 [00:03<01:24,  7.21it/s]\u001b[A\n",
      "Iteration:   4%|▍         | 27/632 [00:03<01:24,  7.12it/s]\u001b[A\n",
      "Iteration:   4%|▍         | 28/632 [00:04<01:19,  7.55it/s]\u001b[A\n",
      "Iteration:   5%|▍         | 29/632 [00:04<01:23,  7.24it/s]\u001b[A\n",
      "Iteration:   5%|▍         | 30/632 [00:04<01:22,  7.34it/s]\u001b[A\n",
      "Iteration:   5%|▍         | 31/632 [00:04<01:18,  7.64it/s]\u001b[A\n",
      "Iteration:   5%|▌         | 32/632 [00:04<01:16,  7.81it/s]\u001b[A\n",
      "Iteration:   5%|▌         | 33/632 [00:04<01:17,  7.72it/s]\u001b[A\n",
      "Iteration:   5%|▌         | 34/632 [00:04<01:19,  7.51it/s]\u001b[A\n",
      "Iteration:   6%|▌         | 35/632 [00:04<01:23,  7.18it/s]\u001b[A\n",
      "Iteration:   6%|▌         | 36/632 [00:05<01:23,  7.15it/s]\u001b[A\n",
      "Iteration:   6%|▌         | 37/632 [00:05<01:24,  7.05it/s]\u001b[A\n",
      "Iteration:   6%|▌         | 38/632 [00:05<01:21,  7.33it/s]\u001b[A\n",
      "Iteration:   6%|▌         | 39/632 [00:05<01:21,  7.28it/s]\u001b[A\n",
      "Iteration:   6%|▋         | 40/632 [00:05<01:21,  7.28it/s]\u001b[A\n",
      "Iteration:   6%|▋         | 41/632 [00:05<01:25,  6.92it/s]\u001b[A\n",
      "Iteration:   7%|▋         | 42/632 [00:05<01:22,  7.15it/s]\u001b[A\n",
      "Iteration:   7%|▋         | 43/632 [00:06<01:19,  7.38it/s]\u001b[A\n",
      "Iteration:   7%|▋         | 44/632 [00:06<01:17,  7.58it/s]\u001b[A\n",
      "Iteration:   7%|▋         | 45/632 [00:06<01:19,  7.35it/s]\u001b[A\n",
      "Iteration:   7%|▋         | 46/632 [00:06<01:20,  7.28it/s]\u001b[A\n",
      "Iteration:   7%|▋         | 47/632 [00:06<01:20,  7.27it/s]\u001b[A\n",
      "Iteration:   8%|▊         | 48/632 [00:06<01:21,  7.20it/s]\u001b[A\n",
      "Iteration:   8%|▊         | 49/632 [00:06<01:20,  7.22it/s]\u001b[A\n",
      "Iteration:   8%|▊         | 50/632 [00:07<01:20,  7.22it/s]\u001b[A\n",
      "Iteration:   8%|▊         | 51/632 [00:07<01:18,  7.36it/s]\u001b[A\n",
      "Iteration:   8%|▊         | 52/632 [00:07<01:22,  7.06it/s]\u001b[A\n",
      "Iteration:   8%|▊         | 53/632 [00:07<01:23,  6.93it/s]\u001b[A\n",
      "Iteration:   9%|▊         | 54/632 [00:07<01:21,  7.06it/s]\u001b[A\n",
      "Iteration:   9%|▊         | 55/632 [00:07<01:22,  7.01it/s]\u001b[A\n",
      "Iteration:   9%|▉         | 56/632 [00:07<01:26,  6.69it/s]\u001b[A\n",
      "Iteration:   9%|▉         | 57/632 [00:08<01:22,  6.98it/s]\u001b[A\n",
      "Iteration:   9%|▉         | 58/632 [00:08<01:20,  7.11it/s]\u001b[A\n",
      "Iteration:   9%|▉         | 59/632 [00:08<01:19,  7.21it/s]\u001b[A\n",
      "Iteration:   9%|▉         | 60/632 [00:08<01:23,  6.87it/s]\u001b[A\n",
      "Iteration:  10%|▉         | 61/632 [00:08<01:20,  7.09it/s]\u001b[A\n",
      "Iteration:  10%|▉         | 62/632 [00:08<01:19,  7.21it/s]\u001b[A\n",
      "Iteration:  10%|▉         | 63/632 [00:08<01:16,  7.45it/s]\u001b[A\n",
      "Iteration:  10%|█         | 64/632 [00:09<01:15,  7.49it/s]\u001b[A\n",
      "Iteration:  10%|█         | 65/632 [00:09<01:17,  7.31it/s]\u001b[A\n",
      "Iteration:  10%|█         | 66/632 [00:09<01:17,  7.33it/s]\u001b[A\n",
      "Iteration:  11%|█         | 67/632 [00:09<01:20,  7.05it/s]\u001b[A\n",
      "Iteration:  11%|█         | 68/632 [00:09<01:20,  6.97it/s]\u001b[A\n",
      "Iteration:  11%|█         | 69/632 [00:09<01:20,  7.02it/s]\u001b[A\n",
      "Iteration:  11%|█         | 70/632 [00:09<01:16,  7.36it/s]\u001b[A\n",
      "Iteration:  11%|█         | 71/632 [00:09<01:15,  7.40it/s]\u001b[A\n",
      "Iteration:  11%|█▏        | 72/632 [00:10<01:14,  7.50it/s]\u001b[A\n",
      "Iteration:  12%|█▏        | 73/632 [00:10<01:19,  7.05it/s]\u001b[A\n",
      "Iteration:  12%|█▏        | 74/632 [00:10<01:17,  7.17it/s]\u001b[A\n",
      "Iteration:  12%|█▏        | 75/632 [00:10<01:21,  6.84it/s]\u001b[A\n",
      "Iteration:  12%|█▏        | 76/632 [00:10<01:16,  7.27it/s]\u001b[A\n",
      "Iteration:  12%|█▏        | 77/632 [00:10<01:17,  7.16it/s]\u001b[A\n",
      "Iteration:  12%|█▏        | 78/632 [00:10<01:15,  7.29it/s]\u001b[A\n",
      "Iteration:  12%|█▎        | 79/632 [00:11<01:15,  7.34it/s]\u001b[A\n",
      "Iteration:  13%|█▎        | 80/632 [00:11<01:15,  7.34it/s]\u001b[A\n",
      "Iteration:  13%|█▎        | 81/632 [00:11<01:12,  7.59it/s]\u001b[A\n",
      "Iteration:  13%|█▎        | 82/632 [00:11<01:10,  7.76it/s]\u001b[A\n",
      "Iteration:  13%|█▎        | 83/632 [00:11<01:11,  7.72it/s]\u001b[A\n",
      "Iteration:  13%|█▎        | 84/632 [00:11<01:11,  7.64it/s]\u001b[A\n",
      "Iteration:  13%|█▎        | 85/632 [00:11<01:13,  7.48it/s]\u001b[A\n",
      "Iteration:  14%|█▎        | 86/632 [00:11<01:10,  7.71it/s]\u001b[A\n",
      "Iteration:  14%|█▍        | 87/632 [00:12<01:11,  7.66it/s]\u001b[A\n",
      "Iteration:  14%|█▍        | 88/632 [00:12<01:13,  7.41it/s]\u001b[A\n",
      "Iteration:  14%|█▍        | 89/632 [00:12<01:13,  7.41it/s]\u001b[A\n",
      "Iteration:  14%|█▍        | 90/632 [00:12<01:13,  7.35it/s]\u001b[A\n",
      "Iteration:  14%|█▍        | 91/632 [00:12<01:11,  7.57it/s]\u001b[A\n",
      "Iteration:  15%|█▍        | 92/632 [00:12<01:14,  7.26it/s]\u001b[A\n",
      "Iteration:  15%|█▍        | 93/632 [00:12<01:10,  7.62it/s]\u001b[A\n",
      "Iteration:  15%|█▍        | 94/632 [00:13<01:10,  7.65it/s]\u001b[A\n",
      "Iteration:  15%|█▌        | 95/632 [00:13<01:13,  7.30it/s]\u001b[A\n",
      "Iteration:  15%|█▌        | 96/632 [00:13<01:11,  7.47it/s]\u001b[A\n",
      "Iteration:  15%|█▌        | 97/632 [00:13<01:15,  7.06it/s]\u001b[A\n",
      "Iteration:  16%|█▌        | 98/632 [00:13<01:14,  7.15it/s]\u001b[A\n",
      "Iteration:  16%|█▌        | 99/632 [00:13<01:11,  7.43it/s]\u001b[A\n",
      "Iteration:  16%|█▌        | 100/632 [00:13<01:14,  7.14it/s]\u001b[A\n",
      "Iteration:  16%|█▌        | 101/632 [00:14<01:13,  7.21it/s]\u001b[A\n",
      "Iteration:  16%|█▌        | 102/632 [00:14<01:12,  7.26it/s]\u001b[A\n",
      "Iteration:  16%|█▋        | 103/632 [00:14<01:11,  7.37it/s]\u001b[A\n",
      "Iteration:  16%|█▋        | 104/632 [00:14<01:11,  7.44it/s]\u001b[A\n",
      "Iteration:  17%|█▋        | 105/632 [00:14<01:14,  7.08it/s]\u001b[A\n",
      "Iteration:  17%|█▋        | 106/632 [00:14<01:15,  6.95it/s]\u001b[A\n",
      "Iteration:  17%|█▋        | 107/632 [00:14<01:12,  7.23it/s]\u001b[A\n",
      "Iteration:  17%|█▋        | 108/632 [00:15<01:09,  7.52it/s]\u001b[A\n",
      "Iteration:  17%|█▋        | 109/632 [00:15<01:10,  7.46it/s]\u001b[A\n",
      "Iteration:  17%|█▋        | 110/632 [00:15<01:08,  7.67it/s]\u001b[A\n",
      "Iteration:  18%|█▊        | 111/632 [00:15<01:11,  7.31it/s]\u001b[A\n",
      "Iteration:  18%|█▊        | 112/632 [00:15<01:11,  7.31it/s]\u001b[A\n",
      "Iteration:  18%|█▊        | 113/632 [00:15<01:10,  7.41it/s]\u001b[A\n",
      "Iteration:  18%|█▊        | 114/632 [00:15<01:12,  7.18it/s]\u001b[A\n",
      "Iteration:  18%|█▊        | 115/632 [00:15<01:08,  7.56it/s]\u001b[A\n",
      "Iteration:  18%|█▊        | 116/632 [00:16<01:05,  7.85it/s]\u001b[A\n",
      "Iteration:  19%|█▊        | 117/632 [00:16<01:08,  7.47it/s]\u001b[A\n",
      "Iteration:  19%|█▊        | 118/632 [00:16<01:07,  7.59it/s]\u001b[A\n",
      "Iteration:  19%|█▉        | 119/632 [00:16<01:06,  7.77it/s]\u001b[A\n",
      "Iteration:  19%|█▉        | 120/632 [00:16<01:05,  7.76it/s]\u001b[A\n",
      "Iteration:  19%|█▉        | 121/632 [00:16<01:06,  7.69it/s]\u001b[A\n",
      "Iteration:  19%|█▉        | 122/632 [00:16<01:04,  7.87it/s]\u001b[A\n",
      "Iteration:  19%|█▉        | 123/632 [00:16<01:04,  7.89it/s]\u001b[A\n",
      "Iteration:  20%|█▉        | 124/632 [00:17<01:03,  7.97it/s]\u001b[A\n",
      "Iteration:  20%|█▉        | 125/632 [00:17<01:06,  7.67it/s]\u001b[A\n",
      "Iteration:  20%|█▉        | 126/632 [00:17<01:09,  7.30it/s]\u001b[A\n",
      "Iteration:  20%|██        | 127/632 [00:17<01:09,  7.29it/s]\u001b[A\n",
      "Iteration:  20%|██        | 128/632 [00:17<01:09,  7.30it/s]\u001b[A\n",
      "Iteration:  20%|██        | 129/632 [00:17<01:08,  7.34it/s]\u001b[A\n"
     ]
    },
    {
     "name": "stderr",
     "output_type": "stream",
     "text": [
      "Iteration:  21%|██        | 130/632 [00:17<01:07,  7.49it/s]\u001b[A\n",
      "Iteration:  21%|██        | 131/632 [00:18<01:08,  7.36it/s]\u001b[A\n",
      "Iteration:  21%|██        | 132/632 [00:18<01:11,  6.98it/s]\u001b[A\n",
      "Iteration:  21%|██        | 133/632 [00:18<01:07,  7.34it/s]\u001b[A\n",
      "Iteration:  21%|██        | 134/632 [00:18<01:05,  7.65it/s]\u001b[A\n",
      "Iteration:  21%|██▏       | 135/632 [00:18<01:06,  7.46it/s]\u001b[A\n",
      "Iteration:  22%|██▏       | 136/632 [00:18<01:08,  7.25it/s]\u001b[A\n",
      "Iteration:  22%|██▏       | 137/632 [00:18<01:11,  6.92it/s]\u001b[A\n",
      "Iteration:  22%|██▏       | 138/632 [00:19<01:08,  7.18it/s]\u001b[A\n",
      "Iteration:  22%|██▏       | 139/632 [00:19<01:09,  7.10it/s]\u001b[A\n",
      "Iteration:  22%|██▏       | 140/632 [00:19<01:05,  7.50it/s]\u001b[A\n",
      "Iteration:  22%|██▏       | 141/632 [00:19<01:05,  7.51it/s]\u001b[A\n",
      "Iteration:  22%|██▏       | 142/632 [00:19<01:06,  7.38it/s]\u001b[A\n",
      "Iteration:  23%|██▎       | 143/632 [00:19<01:07,  7.27it/s]\u001b[A\n",
      "Iteration:  23%|██▎       | 144/632 [00:19<01:05,  7.42it/s]\u001b[A\n",
      "Iteration:  23%|██▎       | 145/632 [00:19<01:08,  7.10it/s]\u001b[A\n",
      "Iteration:  23%|██▎       | 146/632 [00:20<01:07,  7.24it/s]\u001b[A\n",
      "Iteration:  23%|██▎       | 147/632 [00:20<01:04,  7.55it/s]\u001b[A\n",
      "Iteration:  23%|██▎       | 148/632 [00:20<01:03,  7.58it/s]\u001b[A\n",
      "Iteration:  24%|██▎       | 149/632 [00:20<01:04,  7.47it/s]\u001b[A\n",
      "Iteration:  24%|██▎       | 150/632 [00:20<01:03,  7.54it/s]\u001b[A\n",
      "Iteration:  24%|██▍       | 151/632 [00:20<01:04,  7.51it/s]\u001b[A\n",
      "Iteration:  24%|██▍       | 152/632 [00:20<01:05,  7.30it/s]\u001b[A\n",
      "Iteration:  24%|██▍       | 153/632 [00:21<01:05,  7.33it/s]\u001b[A\n",
      "Iteration:  24%|██▍       | 154/632 [00:21<01:05,  7.29it/s]\u001b[A\n",
      "Iteration:  25%|██▍       | 155/632 [00:21<01:06,  7.16it/s]\u001b[A\n",
      "Iteration:  25%|██▍       | 156/632 [00:21<01:06,  7.13it/s]\u001b[A\n",
      "Iteration:  25%|██▍       | 157/632 [00:21<01:04,  7.35it/s]\u001b[A\n",
      "Iteration:  25%|██▌       | 158/632 [00:21<01:05,  7.22it/s]\u001b[A\n",
      "Iteration:  25%|██▌       | 159/632 [00:21<01:05,  7.23it/s]\u001b[A\n",
      "Iteration:  25%|██▌       | 160/632 [00:22<01:05,  7.18it/s]\u001b[A\n",
      "Iteration:  25%|██▌       | 161/632 [00:22<01:03,  7.46it/s]\u001b[A\n",
      "Iteration:  26%|██▌       | 162/632 [00:22<01:02,  7.53it/s]\u001b[A\n",
      "Iteration:  26%|██▌       | 163/632 [00:22<01:04,  7.24it/s]\u001b[A\n",
      "Iteration:  26%|██▌       | 164/632 [00:22<01:03,  7.43it/s]\u001b[A\n",
      "Iteration:  26%|██▌       | 165/632 [00:22<01:03,  7.41it/s]\u001b[A\n",
      "Iteration:  26%|██▋       | 166/632 [00:22<01:02,  7.40it/s]\u001b[A\n",
      "Iteration:  26%|██▋       | 167/632 [00:22<01:04,  7.20it/s]\u001b[A\n",
      "Iteration:  27%|██▋       | 168/632 [00:23<01:08,  6.79it/s]\u001b[A\n",
      "Iteration:  27%|██▋       | 169/632 [00:23<01:09,  6.67it/s]\u001b[A\n",
      "Iteration:  27%|██▋       | 170/632 [00:23<01:06,  7.00it/s]\u001b[A\n",
      "Iteration:  27%|██▋       | 171/632 [00:23<01:06,  6.96it/s]\u001b[A\n",
      "Iteration:  27%|██▋       | 172/632 [00:23<01:07,  6.80it/s]\u001b[A\n",
      "Iteration:  27%|██▋       | 173/632 [00:23<01:04,  7.14it/s]\u001b[A\n",
      "Iteration:  28%|██▊       | 174/632 [00:24<01:06,  6.94it/s]\u001b[A\n",
      "Iteration:  28%|██▊       | 175/632 [00:24<01:08,  6.68it/s]\u001b[A\n",
      "Iteration:  28%|██▊       | 176/632 [00:24<01:09,  6.61it/s]\u001b[A\n",
      "Iteration:  28%|██▊       | 177/632 [00:24<01:07,  6.79it/s]\u001b[A\n",
      "Iteration:  28%|██▊       | 178/632 [00:24<01:06,  6.87it/s]\u001b[A\n",
      "Iteration:  28%|██▊       | 179/632 [00:24<01:05,  6.92it/s]\u001b[A\n",
      "Iteration:  28%|██▊       | 180/632 [00:24<01:04,  6.96it/s]\u001b[A\n",
      "Iteration:  29%|██▊       | 181/632 [00:25<01:01,  7.36it/s]\u001b[A\n",
      "Iteration:  29%|██▉       | 182/632 [00:25<01:00,  7.43it/s]\u001b[A\n",
      "Iteration:  29%|██▉       | 183/632 [00:25<00:59,  7.53it/s]\u001b[A\n",
      "Iteration:  29%|██▉       | 184/632 [00:25<01:02,  7.17it/s]\u001b[A\n",
      "Iteration:  29%|██▉       | 185/632 [00:25<01:02,  7.13it/s]\u001b[A\n",
      "Iteration:  29%|██▉       | 186/632 [00:25<01:01,  7.21it/s]\u001b[A\n",
      "Iteration:  30%|██▉       | 187/632 [00:25<01:01,  7.28it/s]\u001b[A\n",
      "Iteration:  30%|██▉       | 188/632 [00:25<01:01,  7.22it/s]\u001b[A\n",
      "Iteration:  30%|██▉       | 189/632 [00:26<01:00,  7.34it/s]\u001b[A\n",
      "Iteration:  30%|███       | 190/632 [00:26<01:01,  7.15it/s]\u001b[A\n",
      "Iteration:  30%|███       | 191/632 [00:26<01:00,  7.31it/s]\u001b[A\n",
      "Iteration:  30%|███       | 192/632 [00:26<01:00,  7.26it/s]\u001b[A\n",
      "Iteration:  31%|███       | 193/632 [00:26<01:00,  7.23it/s]\u001b[A\n",
      "Iteration:  31%|███       | 194/632 [00:26<01:00,  7.21it/s]\u001b[A\n",
      "Iteration:  31%|███       | 195/632 [00:26<00:59,  7.30it/s]\u001b[A\n",
      "Iteration:  31%|███       | 196/632 [00:27<00:59,  7.33it/s]\u001b[A\n",
      "Iteration:  31%|███       | 197/632 [00:27<01:00,  7.23it/s]\u001b[A\n",
      "Iteration:  31%|███▏      | 198/632 [00:27<00:59,  7.27it/s]\u001b[A\n",
      "Iteration:  31%|███▏      | 199/632 [00:27<01:00,  7.16it/s]\u001b[A\n",
      "Iteration:  32%|███▏      | 200/632 [00:27<01:01,  7.02it/s]\u001b[A\n",
      "Iteration:  32%|███▏      | 201/632 [00:27<00:59,  7.18it/s]\u001b[A\n",
      "Iteration:  32%|███▏      | 202/632 [00:27<00:58,  7.29it/s]\u001b[A\n",
      "Iteration:  32%|███▏      | 203/632 [00:28<01:01,  7.02it/s]\u001b[A\n",
      "Iteration:  32%|███▏      | 204/632 [00:28<01:02,  6.82it/s]\u001b[A\n",
      "Iteration:  32%|███▏      | 205/632 [00:28<01:01,  7.00it/s]\u001b[A\n",
      "Iteration:  33%|███▎      | 206/632 [00:28<01:00,  7.05it/s]\u001b[A\n",
      "Iteration:  33%|███▎      | 207/632 [00:28<00:59,  7.11it/s]\u001b[A\n",
      "Iteration:  33%|███▎      | 208/632 [00:28<00:59,  7.15it/s]\u001b[A\n",
      "Iteration:  33%|███▎      | 209/632 [00:28<00:58,  7.29it/s]\u001b[A\n",
      "Iteration:  33%|███▎      | 210/632 [00:29<00:56,  7.41it/s]\u001b[A\n",
      "Iteration:  33%|███▎      | 211/632 [00:29<00:57,  7.28it/s]\u001b[A\n",
      "Iteration:  34%|███▎      | 212/632 [00:29<00:58,  7.12it/s]\u001b[A\n",
      "Iteration:  34%|███▎      | 213/632 [00:29<00:58,  7.19it/s]\u001b[A\n",
      "Iteration:  34%|███▍      | 214/632 [00:29<00:54,  7.65it/s]\u001b[A\n",
      "Iteration:  34%|███▍      | 215/632 [00:29<00:53,  7.81it/s]\u001b[A\n",
      "Iteration:  34%|███▍      | 216/632 [00:29<00:54,  7.63it/s]\u001b[A\n",
      "Iteration:  34%|███▍      | 217/632 [00:29<00:55,  7.48it/s]\u001b[A\n",
      "Iteration:  34%|███▍      | 218/632 [00:30<00:56,  7.38it/s]\u001b[A\n",
      "Iteration:  35%|███▍      | 219/632 [00:30<00:56,  7.28it/s]\u001b[A\n",
      "Iteration:  35%|███▍      | 220/632 [00:30<00:57,  7.13it/s]\u001b[A\n",
      "Iteration:  35%|███▍      | 221/632 [00:30<00:54,  7.52it/s]\u001b[A\n",
      "Iteration:  35%|███▌      | 222/632 [00:30<00:53,  7.66it/s]\u001b[A\n",
      "Iteration:  35%|███▌      | 223/632 [00:30<00:53,  7.68it/s]\u001b[A\n",
      "Iteration:  35%|███▌      | 224/632 [00:30<00:57,  7.10it/s]\u001b[A\n",
      "Iteration:  36%|███▌      | 225/632 [00:31<00:56,  7.24it/s]\u001b[A\n",
      "Iteration:  36%|███▌      | 226/632 [00:31<00:52,  7.66it/s]\u001b[A\n",
      "Iteration:  36%|███▌      | 227/632 [00:31<00:53,  7.62it/s]\u001b[A\n",
      "Iteration:  36%|███▌      | 228/632 [00:31<00:57,  7.09it/s]\u001b[A\n",
      "Iteration:  36%|███▌      | 229/632 [00:31<00:56,  7.11it/s]\u001b[A\n",
      "Iteration:  36%|███▋      | 230/632 [00:31<00:54,  7.38it/s]\u001b[A\n",
      "Iteration:  37%|███▋      | 231/632 [00:31<00:54,  7.39it/s]\u001b[A\n",
      "Iteration:  37%|███▋      | 232/632 [00:32<00:53,  7.43it/s]\u001b[A\n",
      "Iteration:  37%|███▋      | 233/632 [00:32<00:54,  7.38it/s]\u001b[A\n",
      "Iteration:  37%|███▋      | 234/632 [00:32<00:57,  6.92it/s]\u001b[A\n",
      "Iteration:  37%|███▋      | 235/632 [00:32<00:56,  6.98it/s]\u001b[A\n",
      "Iteration:  37%|███▋      | 236/632 [00:32<00:55,  7.10it/s]\u001b[A\n",
      "Iteration:  38%|███▊      | 237/632 [00:32<00:52,  7.50it/s]\u001b[A\n",
      "Iteration:  38%|███▊      | 238/632 [00:32<00:52,  7.53it/s]\u001b[A\n",
      "Iteration:  38%|███▊      | 239/632 [00:32<00:53,  7.38it/s]\u001b[A\n",
      "Iteration:  38%|███▊      | 240/632 [00:33<00:53,  7.27it/s]\u001b[A\n",
      "Iteration:  38%|███▊      | 241/632 [00:33<00:54,  7.21it/s]\u001b[A\n",
      "Iteration:  38%|███▊      | 242/632 [00:33<00:52,  7.36it/s]\u001b[A\n",
      "Iteration:  38%|███▊      | 243/632 [00:33<00:52,  7.34it/s]\u001b[A\n",
      "Iteration:  39%|███▊      | 244/632 [00:33<00:52,  7.42it/s]\u001b[A\n",
      "Iteration:  39%|███▉      | 245/632 [00:33<00:52,  7.40it/s]\u001b[A\n",
      "Iteration:  39%|███▉      | 246/632 [00:33<00:52,  7.35it/s]\u001b[A\n",
      "Iteration:  39%|███▉      | 247/632 [00:34<00:55,  6.98it/s]\u001b[A\n",
      "Iteration:  39%|███▉      | 248/632 [00:34<00:54,  7.04it/s]\u001b[A\n",
      "Iteration:  39%|███▉      | 249/632 [00:34<00:52,  7.35it/s]\u001b[A\n",
      "Iteration:  40%|███▉      | 250/632 [00:34<00:53,  7.11it/s]\u001b[A\n",
      "Iteration:  40%|███▉      | 251/632 [00:34<00:51,  7.35it/s]\u001b[A\n",
      "Iteration:  40%|███▉      | 252/632 [00:34<00:51,  7.34it/s]\u001b[A\n",
      "Iteration:  40%|████      | 253/632 [00:34<00:51,  7.42it/s]\u001b[A\n",
      "Iteration:  40%|████      | 254/632 [00:35<00:50,  7.48it/s]\u001b[A\n",
      "Iteration:  40%|████      | 255/632 [00:35<00:50,  7.44it/s]\u001b[A\n",
      "Iteration:  41%|████      | 256/632 [00:35<00:50,  7.40it/s]\u001b[A\n",
      "Iteration:  41%|████      | 257/632 [00:35<00:53,  7.07it/s]\u001b[A\n"
     ]
    },
    {
     "name": "stderr",
     "output_type": "stream",
     "text": [
      "Iteration:  41%|████      | 258/632 [00:35<00:55,  6.76it/s]\u001b[A\n",
      "Iteration:  41%|████      | 259/632 [00:35<00:53,  6.99it/s]\u001b[A\n",
      "Iteration:  41%|████      | 260/632 [00:35<00:52,  7.05it/s]\u001b[A\n",
      "Iteration:  41%|████▏     | 261/632 [00:36<00:51,  7.26it/s]\u001b[A\n",
      "Iteration:  41%|████▏     | 262/632 [00:36<00:50,  7.32it/s]\u001b[A\n",
      "Iteration:  42%|████▏     | 263/632 [00:36<00:53,  6.96it/s]\u001b[A\n",
      "Iteration:  42%|████▏     | 264/632 [00:36<00:53,  6.83it/s]\u001b[A\n",
      "Iteration:  42%|████▏     | 265/632 [00:36<00:52,  6.95it/s]\u001b[A\n",
      "Iteration:  42%|████▏     | 266/632 [00:36<00:52,  7.04it/s]\u001b[A\n",
      "Iteration:  42%|████▏     | 267/632 [00:36<00:51,  7.11it/s]\u001b[A\n",
      "Iteration:  42%|████▏     | 268/632 [00:36<00:49,  7.36it/s]\u001b[A\n",
      "Iteration:  43%|████▎     | 269/632 [00:37<00:50,  7.25it/s]\u001b[A\n",
      "Iteration:  43%|████▎     | 270/632 [00:37<00:49,  7.25it/s]\u001b[A\n",
      "Iteration:  43%|████▎     | 271/632 [00:37<00:47,  7.66it/s]\u001b[A\n",
      "Iteration:  43%|████▎     | 272/632 [00:37<00:47,  7.62it/s]\u001b[A\n",
      "Iteration:  43%|████▎     | 273/632 [00:37<00:47,  7.59it/s]\u001b[A\n",
      "Iteration:  43%|████▎     | 274/632 [00:37<00:50,  7.14it/s]\u001b[A\n",
      "Iteration:  44%|████▎     | 275/632 [00:37<00:49,  7.22it/s]\u001b[A\n",
      "Iteration:  44%|████▎     | 276/632 [00:38<00:49,  7.14it/s]\u001b[A\n",
      "Iteration:  44%|████▍     | 277/632 [00:38<00:48,  7.38it/s]\u001b[A\n",
      "Iteration:  44%|████▍     | 278/632 [00:38<00:46,  7.57it/s]\u001b[A\n",
      "Iteration:  44%|████▍     | 279/632 [00:38<00:47,  7.50it/s]\u001b[A\n",
      "Iteration:  44%|████▍     | 280/632 [00:38<00:47,  7.44it/s]\u001b[A\n",
      "Iteration:  44%|████▍     | 281/632 [00:38<00:47,  7.38it/s]\u001b[A\n",
      "Iteration:  45%|████▍     | 282/632 [00:38<00:46,  7.61it/s]\u001b[A\n",
      "Iteration:  45%|████▍     | 283/632 [00:39<00:49,  7.12it/s]\u001b[A\n",
      "Iteration:  45%|████▍     | 284/632 [00:39<00:48,  7.22it/s]\u001b[A\n",
      "Iteration:  45%|████▌     | 285/632 [00:39<00:47,  7.33it/s]\u001b[A\n",
      "Iteration:  45%|████▌     | 286/632 [00:39<00:45,  7.66it/s]\u001b[A\n",
      "Iteration:  45%|████▌     | 287/632 [00:39<00:43,  7.98it/s]\u001b[A\n",
      "Iteration:  46%|████▌     | 288/632 [00:39<00:43,  7.94it/s]\u001b[A\n",
      "Iteration:  46%|████▌     | 289/632 [00:39<00:44,  7.63it/s]\u001b[A\n",
      "Iteration:  46%|████▌     | 290/632 [00:39<00:43,  7.88it/s]\u001b[A\n",
      "Iteration:  46%|████▌     | 291/632 [00:40<00:41,  8.18it/s]\u001b[A\n",
      "Iteration:  46%|████▌     | 292/632 [00:40<00:42,  7.93it/s]\u001b[A\n",
      "Iteration:  46%|████▋     | 293/632 [00:40<00:44,  7.65it/s]\u001b[A\n",
      "Iteration:  47%|████▋     | 294/632 [00:40<00:44,  7.55it/s]\u001b[A\n",
      "Iteration:  47%|████▋     | 295/632 [00:40<00:44,  7.55it/s]\u001b[A\n",
      "Iteration:  47%|████▋     | 296/632 [00:40<00:44,  7.61it/s]\u001b[A\n",
      "Iteration:  47%|████▋     | 297/632 [00:40<00:46,  7.20it/s]\u001b[A\n",
      "Iteration:  47%|████▋     | 298/632 [00:41<00:46,  7.21it/s]\u001b[A\n",
      "Iteration:  47%|████▋     | 299/632 [00:41<00:46,  7.17it/s]\u001b[A\n",
      "Iteration:  47%|████▋     | 300/632 [00:41<00:44,  7.51it/s]\u001b[A\n",
      "Iteration:  48%|████▊     | 301/632 [00:41<00:44,  7.44it/s]\u001b[A\n",
      "Iteration:  48%|████▊     | 302/632 [00:41<00:47,  6.90it/s]\u001b[A\n",
      "Iteration:  48%|████▊     | 303/632 [00:41<00:48,  6.80it/s]\u001b[A\n",
      "Iteration:  48%|████▊     | 304/632 [00:41<00:46,  7.05it/s]\u001b[A\n",
      "Iteration:  48%|████▊     | 305/632 [00:41<00:46,  7.11it/s]\u001b[A\n",
      "Iteration:  48%|████▊     | 306/632 [00:42<00:44,  7.38it/s]\u001b[A\n",
      "Iteration:  49%|████▊     | 307/632 [00:42<00:42,  7.69it/s]\u001b[A\n",
      "Iteration:  49%|████▊     | 308/632 [00:42<00:41,  7.79it/s]\u001b[A\n",
      "Iteration:  49%|████▉     | 309/632 [00:42<00:40,  8.07it/s]\u001b[A\n",
      "Iteration:  49%|████▉     | 310/632 [00:42<00:41,  7.72it/s]\u001b[A\n",
      "Iteration:  49%|████▉     | 311/632 [00:42<00:42,  7.51it/s]\u001b[A\n",
      "Iteration:  49%|████▉     | 312/632 [00:42<00:41,  7.79it/s]\u001b[A\n",
      "Iteration:  50%|████▉     | 313/632 [00:43<00:41,  7.62it/s]\u001b[A\n",
      "Iteration:  50%|████▉     | 314/632 [00:43<00:42,  7.50it/s]\u001b[A\n",
      "Iteration:  50%|████▉     | 315/632 [00:43<00:41,  7.69it/s]\u001b[A\n",
      "Iteration:  50%|█████     | 316/632 [00:43<00:43,  7.28it/s]\u001b[A\n",
      "Iteration:  50%|█████     | 317/632 [00:43<00:43,  7.28it/s]\u001b[A\n",
      "Iteration:  50%|█████     | 318/632 [00:43<00:43,  7.20it/s]\u001b[A\n",
      "Iteration:  50%|█████     | 319/632 [00:43<00:43,  7.27it/s]\u001b[A\n",
      "Iteration:  51%|█████     | 320/632 [00:43<00:42,  7.28it/s]\u001b[A\n",
      "Iteration:  51%|█████     | 321/632 [00:44<00:42,  7.23it/s]\u001b[A\n",
      "Iteration:  51%|█████     | 322/632 [00:44<00:44,  6.96it/s]\u001b[A\n",
      "Iteration:  51%|█████     | 323/632 [00:44<00:42,  7.31it/s]\u001b[A\n",
      "Iteration:  51%|█████▏    | 324/632 [00:44<00:42,  7.28it/s]\u001b[A\n",
      "Iteration:  51%|█████▏    | 325/632 [00:44<00:40,  7.65it/s]\u001b[A\n",
      "Iteration:  52%|█████▏    | 326/632 [00:44<00:39,  7.72it/s]\u001b[A\n",
      "Iteration:  52%|█████▏    | 327/632 [00:44<00:39,  7.77it/s]\u001b[A\n",
      "Iteration:  52%|█████▏    | 328/632 [00:45<00:42,  7.21it/s]\u001b[A\n",
      "Iteration:  52%|█████▏    | 329/632 [00:45<00:43,  6.98it/s]\u001b[A\n",
      "Iteration:  52%|█████▏    | 330/632 [00:45<00:41,  7.25it/s]\u001b[A\n",
      "Iteration:  52%|█████▏    | 331/632 [00:45<00:39,  7.63it/s]\u001b[A\n",
      "Iteration:  53%|█████▎    | 332/632 [00:45<00:39,  7.55it/s]\u001b[A\n",
      "Iteration:  53%|█████▎    | 333/632 [00:45<00:40,  7.46it/s]\u001b[A\n",
      "Iteration:  53%|█████▎    | 334/632 [00:45<00:41,  7.26it/s]\u001b[A\n",
      "Iteration:  53%|█████▎    | 335/632 [00:46<00:40,  7.30it/s]\u001b[A\n",
      "Iteration:  53%|█████▎    | 336/632 [00:46<00:39,  7.46it/s]\u001b[A\n",
      "Iteration:  53%|█████▎    | 337/632 [00:46<00:37,  7.82it/s]\u001b[A\n",
      "Iteration:  53%|█████▎    | 338/632 [00:46<00:38,  7.73it/s]\u001b[A\n",
      "Iteration:  54%|█████▎    | 339/632 [00:46<00:38,  7.54it/s]\u001b[A\n",
      "Iteration:  54%|█████▍    | 340/632 [00:46<00:39,  7.43it/s]\u001b[A\n",
      "Iteration:  54%|█████▍    | 341/632 [00:46<00:38,  7.51it/s]\u001b[A\n",
      "Iteration:  54%|█████▍    | 342/632 [00:46<00:39,  7.27it/s]\u001b[A\n",
      "Iteration:  54%|█████▍    | 343/632 [00:47<00:38,  7.49it/s]\u001b[A\n",
      "Iteration:  54%|█████▍    | 344/632 [00:47<00:41,  6.94it/s]\u001b[A\n",
      "Iteration:  55%|█████▍    | 345/632 [00:47<00:41,  6.96it/s]\u001b[A\n",
      "Iteration:  55%|█████▍    | 346/632 [00:47<00:41,  6.96it/s]\u001b[A\n",
      "Iteration:  55%|█████▍    | 347/632 [00:47<00:41,  6.85it/s]\u001b[A\n",
      "Iteration:  55%|█████▌    | 348/632 [00:47<00:40,  7.01it/s]\u001b[A\n",
      "Iteration:  55%|█████▌    | 349/632 [00:47<00:39,  7.08it/s]\u001b[A\n",
      "Iteration:  55%|█████▌    | 350/632 [00:48<00:41,  6.78it/s]\u001b[A\n",
      "Iteration:  56%|█████▌    | 351/632 [00:48<00:40,  6.92it/s]\u001b[A\n",
      "Iteration:  56%|█████▌    | 352/632 [00:48<00:40,  6.98it/s]\u001b[A\n",
      "Iteration:  56%|█████▌    | 353/632 [00:48<00:38,  7.17it/s]\u001b[A\n",
      "Iteration:  56%|█████▌    | 354/632 [00:48<00:37,  7.48it/s]\u001b[A\n",
      "Iteration:  56%|█████▌    | 355/632 [00:48<00:37,  7.46it/s]\u001b[A\n",
      "Iteration:  56%|█████▋    | 356/632 [00:48<00:35,  7.79it/s]\u001b[A\n",
      "Iteration:  56%|█████▋    | 357/632 [00:49<00:37,  7.42it/s]\u001b[A\n",
      "Iteration:  57%|█████▋    | 358/632 [00:49<00:36,  7.47it/s]\u001b[A\n",
      "Iteration:  57%|█████▋    | 359/632 [00:49<00:36,  7.42it/s]\u001b[A\n",
      "Iteration:  57%|█████▋    | 360/632 [00:49<00:36,  7.40it/s]\u001b[A\n",
      "Iteration:  57%|█████▋    | 361/632 [00:49<00:37,  7.31it/s]\u001b[A\n",
      "Iteration:  57%|█████▋    | 362/632 [00:49<00:36,  7.36it/s]\u001b[A\n",
      "Iteration:  57%|█████▋    | 363/632 [00:49<00:35,  7.53it/s]\u001b[A\n",
      "Iteration:  58%|█████▊    | 364/632 [00:49<00:34,  7.79it/s]\u001b[A\n",
      "Iteration:  58%|█████▊    | 365/632 [00:50<00:36,  7.34it/s]\u001b[A\n",
      "Iteration:  58%|█████▊    | 366/632 [00:50<00:34,  7.68it/s]\u001b[A\n",
      "Iteration:  58%|█████▊    | 367/632 [00:50<00:34,  7.79it/s]\u001b[A\n",
      "Iteration:  58%|█████▊    | 368/632 [00:50<00:34,  7.70it/s]\u001b[A\n",
      "Iteration:  58%|█████▊    | 369/632 [00:50<00:35,  7.44it/s]\u001b[A\n",
      "Iteration:  59%|█████▊    | 370/632 [00:50<00:35,  7.31it/s]\u001b[A\n",
      "Iteration:  59%|█████▊    | 371/632 [00:50<00:35,  7.41it/s]\u001b[A\n",
      "Iteration:  59%|█████▉    | 372/632 [00:51<00:35,  7.40it/s]\u001b[A\n",
      "Iteration:  59%|█████▉    | 373/632 [00:51<00:37,  6.84it/s]\u001b[A\n",
      "Iteration:  59%|█████▉    | 374/632 [00:51<00:37,  6.85it/s]\u001b[A\n",
      "Iteration:  59%|█████▉    | 375/632 [00:51<00:36,  7.06it/s]\u001b[A\n",
      "Iteration:  59%|█████▉    | 376/632 [00:51<00:36,  7.07it/s]\u001b[A\n",
      "Iteration:  60%|█████▉    | 377/632 [00:51<00:35,  7.14it/s]\u001b[A\n",
      "Iteration:  60%|█████▉    | 378/632 [00:51<00:35,  7.20it/s]\u001b[A\n",
      "Iteration:  60%|█████▉    | 379/632 [00:52<00:33,  7.45it/s]\u001b[A\n",
      "Iteration:  60%|██████    | 380/632 [00:52<00:34,  7.27it/s]\u001b[A\n",
      "Iteration:  60%|██████    | 381/632 [00:52<00:35,  7.13it/s]\u001b[A\n",
      "Iteration:  60%|██████    | 382/632 [00:52<00:34,  7.14it/s]\u001b[A\n",
      "Iteration:  61%|██████    | 383/632 [00:52<00:35,  7.05it/s]\u001b[A\n",
      "Iteration:  61%|██████    | 384/632 [00:52<00:36,  6.78it/s]\u001b[A\n",
      "Iteration:  61%|██████    | 385/632 [00:52<00:35,  6.88it/s]\u001b[A\n"
     ]
    },
    {
     "name": "stderr",
     "output_type": "stream",
     "text": [
      "Iteration:  61%|██████    | 386/632 [00:53<00:34,  7.19it/s]\u001b[A\n",
      "Iteration:  61%|██████    | 387/632 [00:53<00:33,  7.21it/s]\u001b[A\n",
      "Iteration:  61%|██████▏   | 388/632 [00:53<00:31,  7.64it/s]\u001b[A\n",
      "Iteration:  62%|██████▏   | 389/632 [00:53<00:31,  7.65it/s]\u001b[A\n",
      "Iteration:  62%|██████▏   | 390/632 [00:53<00:33,  7.19it/s]\u001b[A\n",
      "Iteration:  62%|██████▏   | 391/632 [00:53<00:31,  7.56it/s]\u001b[A\n",
      "Iteration:  62%|██████▏   | 392/632 [00:53<00:33,  7.09it/s]\u001b[A\n",
      "Iteration:  62%|██████▏   | 393/632 [00:53<00:33,  7.17it/s]\u001b[A\n",
      "Iteration:  62%|██████▏   | 394/632 [00:54<00:32,  7.26it/s]\u001b[A\n",
      "Iteration:  62%|██████▎   | 395/632 [00:54<00:33,  7.05it/s]\u001b[A\n",
      "Iteration:  63%|██████▎   | 396/632 [00:54<00:34,  6.86it/s]\u001b[A\n",
      "Iteration:  63%|██████▎   | 397/632 [00:54<00:34,  6.86it/s]\u001b[A\n",
      "Iteration:  63%|██████▎   | 398/632 [00:54<00:32,  7.13it/s]\u001b[A\n",
      "Iteration:  63%|██████▎   | 399/632 [00:54<00:32,  7.20it/s]\u001b[A\n",
      "Iteration:  63%|██████▎   | 400/632 [00:54<00:32,  7.22it/s]\u001b[A\n",
      "Iteration:  63%|██████▎   | 401/632 [00:55<00:32,  7.18it/s]\u001b[A\n",
      "Iteration:  64%|██████▎   | 402/632 [00:55<00:32,  6.98it/s]\u001b[A\n",
      "Iteration:  64%|██████▍   | 403/632 [00:55<00:30,  7.41it/s]\u001b[A\n",
      "Iteration:  64%|██████▍   | 404/632 [00:55<00:30,  7.43it/s]\u001b[A\n",
      "Iteration:  64%|██████▍   | 405/632 [00:55<00:29,  7.68it/s]\u001b[A\n",
      "Iteration:  64%|██████▍   | 406/632 [00:55<00:30,  7.47it/s]\u001b[A\n",
      "Iteration:  64%|██████▍   | 407/632 [00:55<00:30,  7.33it/s]\u001b[A\n",
      "Iteration:  65%|██████▍   | 408/632 [00:56<00:31,  7.18it/s]\u001b[A\n",
      "Iteration:  65%|██████▍   | 409/632 [00:56<00:30,  7.35it/s]\u001b[A\n",
      "Iteration:  65%|██████▍   | 410/632 [00:56<00:30,  7.30it/s]\u001b[A\n",
      "Iteration:  65%|██████▌   | 411/632 [00:56<00:30,  7.30it/s]\u001b[A\n",
      "Iteration:  65%|██████▌   | 412/632 [00:56<00:30,  7.15it/s]\u001b[A\n",
      "Iteration:  65%|██████▌   | 413/632 [00:56<00:31,  7.02it/s]\u001b[A\n",
      "Iteration:  66%|██████▌   | 414/632 [00:56<00:31,  7.03it/s]\u001b[A\n",
      "Iteration:  66%|██████▌   | 415/632 [00:57<00:30,  7.09it/s]\u001b[A\n",
      "Iteration:  66%|██████▌   | 416/632 [00:57<00:30,  7.15it/s]\u001b[A\n",
      "Iteration:  66%|██████▌   | 417/632 [00:57<00:30,  7.16it/s]\u001b[A\n",
      "Iteration:  66%|██████▌   | 418/632 [00:57<00:31,  6.70it/s]\u001b[A\n",
      "Iteration:  66%|██████▋   | 419/632 [00:57<00:30,  6.93it/s]\u001b[A\n",
      "Iteration:  66%|██████▋   | 420/632 [00:57<00:30,  6.90it/s]\u001b[A\n",
      "Iteration:  67%|██████▋   | 421/632 [00:57<00:29,  7.16it/s]\u001b[A\n",
      "Iteration:  67%|██████▋   | 422/632 [00:58<00:30,  6.95it/s]\u001b[A\n",
      "Iteration:  67%|██████▋   | 423/632 [00:58<00:29,  7.00it/s]\u001b[A\n",
      "Iteration:  67%|██████▋   | 424/632 [00:58<00:29,  7.11it/s]\u001b[A\n",
      "Iteration:  67%|██████▋   | 425/632 [00:58<00:29,  7.09it/s]\u001b[A\n",
      "Iteration:  67%|██████▋   | 426/632 [00:58<00:28,  7.14it/s]\u001b[A\n",
      "Iteration:  68%|██████▊   | 427/632 [00:58<00:27,  7.52it/s]\u001b[A\n",
      "Iteration:  68%|██████▊   | 428/632 [00:58<00:27,  7.40it/s]\u001b[A\n",
      "Iteration:  68%|██████▊   | 429/632 [00:59<00:28,  7.01it/s]\u001b[A\n",
      "Iteration:  68%|██████▊   | 430/632 [00:59<00:28,  7.12it/s]\u001b[A\n",
      "Iteration:  68%|██████▊   | 431/632 [00:59<00:27,  7.22it/s]\u001b[A\n",
      "Iteration:  68%|██████▊   | 432/632 [00:59<00:28,  7.12it/s]\u001b[A\n",
      "Iteration:  69%|██████▊   | 433/632 [00:59<00:26,  7.40it/s]\u001b[A\n",
      "Iteration:  69%|██████▊   | 434/632 [00:59<00:26,  7.35it/s]\u001b[A\n",
      "Iteration:  69%|██████▉   | 435/632 [00:59<00:25,  7.72it/s]\u001b[A\n",
      "Iteration:  69%|██████▉   | 436/632 [00:59<00:25,  7.69it/s]\u001b[A\n",
      "Iteration:  69%|██████▉   | 437/632 [01:00<00:24,  7.85it/s]\u001b[A\n",
      "Iteration:  69%|██████▉   | 438/632 [01:00<00:24,  7.98it/s]\u001b[A\n",
      "Iteration:  69%|██████▉   | 439/632 [01:00<00:25,  7.51it/s]\u001b[A\n",
      "Iteration:  70%|██████▉   | 440/632 [01:00<00:25,  7.64it/s]\u001b[A\n",
      "Iteration:  70%|██████▉   | 441/632 [01:00<00:25,  7.40it/s]\u001b[A\n",
      "Iteration:  70%|██████▉   | 442/632 [01:00<00:25,  7.58it/s]\u001b[A\n",
      "Iteration:  70%|███████   | 443/632 [01:00<00:24,  7.72it/s]\u001b[A\n",
      "Iteration:  70%|███████   | 444/632 [01:00<00:24,  7.66it/s]\u001b[A\n",
      "Iteration:  70%|███████   | 445/632 [01:01<00:25,  7.46it/s]\u001b[A\n",
      "Iteration:  71%|███████   | 446/632 [01:01<00:25,  7.32it/s]\u001b[A\n",
      "Iteration:  71%|███████   | 447/632 [01:01<00:26,  7.03it/s]\u001b[A\n",
      "Iteration:  71%|███████   | 448/632 [01:01<00:25,  7.20it/s]\u001b[A\n",
      "Iteration:  71%|███████   | 449/632 [01:01<00:25,  7.10it/s]\u001b[A\n",
      "Iteration:  71%|███████   | 450/632 [01:01<00:26,  6.78it/s]\u001b[A\n",
      "Iteration:  71%|███████▏  | 451/632 [01:02<00:26,  6.95it/s]\u001b[A\n",
      "Iteration:  72%|███████▏  | 452/632 [01:02<00:24,  7.28it/s]\u001b[A\n",
      "Iteration:  72%|███████▏  | 453/632 [01:02<00:24,  7.20it/s]\u001b[A\n",
      "Iteration:  72%|███████▏  | 454/632 [01:02<00:23,  7.61it/s]\u001b[A\n",
      "Iteration:  72%|███████▏  | 455/632 [01:02<00:22,  7.82it/s]\u001b[A\n",
      "Iteration:  72%|███████▏  | 456/632 [01:02<00:22,  7.84it/s]\u001b[A\n",
      "Iteration:  72%|███████▏  | 457/632 [01:02<00:22,  7.77it/s]\u001b[A\n",
      "Iteration:  72%|███████▏  | 458/632 [01:02<00:22,  7.80it/s]\u001b[A\n",
      "Iteration:  73%|███████▎  | 459/632 [01:03<00:22,  7.66it/s]\u001b[A\n",
      "Iteration:  73%|███████▎  | 460/632 [01:03<00:22,  7.48it/s]\u001b[A\n",
      "Iteration:  73%|███████▎  | 461/632 [01:03<00:22,  7.58it/s]\u001b[A\n",
      "Iteration:  73%|███████▎  | 462/632 [01:03<00:22,  7.70it/s]\u001b[A\n",
      "Iteration:  73%|███████▎  | 463/632 [01:03<00:23,  7.32it/s]\u001b[A\n",
      "Iteration:  73%|███████▎  | 464/632 [01:03<00:22,  7.36it/s]\u001b[A\n",
      "Iteration:  74%|███████▎  | 465/632 [01:03<00:22,  7.36it/s]\u001b[A\n",
      "Iteration:  74%|███████▎  | 466/632 [01:03<00:22,  7.42it/s]\u001b[A\n",
      "Iteration:  74%|███████▍  | 467/632 [01:04<00:23,  7.00it/s]\u001b[A\n",
      "Iteration:  74%|███████▍  | 468/632 [01:04<00:23,  6.92it/s]\u001b[A\n",
      "Iteration:  74%|███████▍  | 469/632 [01:04<00:23,  7.07it/s]\u001b[A\n",
      "Iteration:  74%|███████▍  | 470/632 [01:04<00:22,  7.07it/s]\u001b[A\n",
      "Iteration:  75%|███████▍  | 471/632 [01:04<00:22,  7.11it/s]\u001b[A\n",
      "Iteration:  75%|███████▍  | 472/632 [01:04<00:22,  7.26it/s]\u001b[A\n",
      "Iteration:  75%|███████▍  | 473/632 [01:04<00:20,  7.68it/s]\u001b[A\n",
      "Iteration:  75%|███████▌  | 474/632 [01:05<00:20,  7.73it/s]\u001b[A\n",
      "Iteration:  75%|███████▌  | 475/632 [01:05<00:20,  7.64it/s]\u001b[A\n",
      "Iteration:  75%|███████▌  | 476/632 [01:05<00:20,  7.55it/s]\u001b[A\n",
      "Iteration:  75%|███████▌  | 477/632 [01:05<00:20,  7.55it/s]\u001b[A\n",
      "Iteration:  76%|███████▌  | 478/632 [01:05<00:21,  7.07it/s]\u001b[A\n",
      "Iteration:  76%|███████▌  | 479/632 [01:05<00:22,  6.95it/s]\u001b[A\n",
      "Iteration:  76%|███████▌  | 480/632 [01:05<00:20,  7.25it/s]\u001b[A\n",
      "Iteration:  76%|███████▌  | 481/632 [01:06<00:19,  7.58it/s]\u001b[A\n",
      "Iteration:  76%|███████▋  | 482/632 [01:06<00:19,  7.73it/s]\u001b[A\n",
      "Iteration:  76%|███████▋  | 483/632 [01:06<00:19,  7.83it/s]\u001b[A\n",
      "Iteration:  77%|███████▋  | 484/632 [01:06<00:18,  7.83it/s]\u001b[A\n",
      "Iteration:  77%|███████▋  | 485/632 [01:06<00:18,  7.93it/s]\u001b[A\n",
      "Iteration:  77%|███████▋  | 486/632 [01:06<00:19,  7.64it/s]\u001b[A\n",
      "Iteration:  77%|███████▋  | 487/632 [01:06<00:19,  7.47it/s]\u001b[A\n",
      "Iteration:  77%|███████▋  | 488/632 [01:06<00:19,  7.53it/s]\u001b[A\n",
      "Iteration:  77%|███████▋  | 489/632 [01:07<00:19,  7.16it/s]\u001b[A\n",
      "Iteration:  78%|███████▊  | 490/632 [01:07<00:21,  6.50it/s]\u001b[A\n",
      "Iteration:  78%|███████▊  | 491/632 [01:07<00:20,  6.74it/s]\u001b[A\n",
      "Iteration:  78%|███████▊  | 492/632 [01:07<00:20,  6.90it/s]\u001b[A\n",
      "Iteration:  78%|███████▊  | 493/632 [01:07<00:20,  6.94it/s]\u001b[A\n",
      "Iteration:  78%|███████▊  | 494/632 [01:07<00:21,  6.42it/s]\u001b[A\n",
      "Iteration:  78%|███████▊  | 495/632 [01:08<00:20,  6.65it/s]\u001b[A\n",
      "Iteration:  78%|███████▊  | 496/632 [01:08<00:19,  6.90it/s]\u001b[A\n",
      "Iteration:  79%|███████▊  | 497/632 [01:08<00:18,  7.27it/s]\u001b[A\n",
      "Iteration:  79%|███████▉  | 498/632 [01:08<00:18,  7.35it/s]\u001b[A\n",
      "Iteration:  79%|███████▉  | 499/632 [01:08<00:18,  7.32it/s]\u001b[A\n",
      "Iteration:  79%|███████▉  | 500/632 [01:08<00:19,  6.93it/s]\u001b[A\n",
      "Iteration:  79%|███████▉  | 501/632 [01:08<00:19,  6.78it/s]\u001b[A\n",
      "Iteration:  79%|███████▉  | 502/632 [01:08<00:18,  6.85it/s]\u001b[A\n",
      "Iteration:  80%|███████▉  | 503/632 [01:09<00:18,  6.91it/s]\u001b[A\n",
      "Iteration:  80%|███████▉  | 504/632 [01:09<00:18,  7.00it/s]\u001b[A\n",
      "Iteration:  80%|███████▉  | 505/632 [01:09<00:17,  7.25it/s]\u001b[A\n",
      "Iteration:  80%|████████  | 506/632 [01:09<00:17,  7.25it/s]\u001b[A\n",
      "Iteration:  80%|████████  | 507/632 [01:09<00:17,  7.25it/s]\u001b[A\n",
      "Iteration:  80%|████████  | 508/632 [01:09<00:17,  7.10it/s]\u001b[A\n",
      "Iteration:  81%|████████  | 509/632 [01:09<00:16,  7.35it/s]\u001b[A\n",
      "Iteration:  81%|████████  | 510/632 [01:10<00:18,  6.43it/s]\u001b[A\n",
      "Iteration:  81%|████████  | 511/632 [01:10<00:18,  6.60it/s]\u001b[A\n",
      "Iteration:  81%|████████  | 512/632 [01:10<00:17,  6.89it/s]\u001b[A\n",
      "Iteration:  81%|████████  | 513/632 [01:10<00:16,  7.03it/s]\u001b[A\n"
     ]
    },
    {
     "name": "stderr",
     "output_type": "stream",
     "text": [
      "Iteration:  81%|████████▏ | 514/632 [01:10<00:16,  7.31it/s]\u001b[A\n",
      "Iteration:  81%|████████▏ | 515/632 [01:10<00:16,  7.19it/s]\u001b[A\n",
      "Iteration:  82%|████████▏ | 516/632 [01:10<00:16,  7.12it/s]\u001b[A\n",
      "Iteration:  82%|████████▏ | 517/632 [01:11<00:16,  6.94it/s]\u001b[A\n",
      "Iteration:  82%|████████▏ | 518/632 [01:11<00:16,  7.08it/s]\u001b[A\n",
      "Iteration:  82%|████████▏ | 519/632 [01:11<00:15,  7.20it/s]\u001b[A\n",
      "Iteration:  82%|████████▏ | 520/632 [01:11<00:15,  7.18it/s]\u001b[A\n",
      "Iteration:  82%|████████▏ | 521/632 [01:11<00:16,  6.84it/s]\u001b[A\n",
      "Iteration:  83%|████████▎ | 522/632 [01:11<00:16,  6.74it/s]\u001b[A\n",
      "Iteration:  83%|████████▎ | 523/632 [01:11<00:15,  6.93it/s]\u001b[A\n",
      "Iteration:  83%|████████▎ | 524/632 [01:12<00:15,  6.80it/s]\u001b[A\n",
      "Iteration:  83%|████████▎ | 525/632 [01:12<00:16,  6.68it/s]\u001b[A\n",
      "Iteration:  83%|████████▎ | 526/632 [01:12<00:14,  7.08it/s]\u001b[A\n",
      "Iteration:  83%|████████▎ | 527/632 [01:12<00:14,  7.10it/s]\u001b[A\n",
      "Iteration:  84%|████████▎ | 528/632 [01:12<00:14,  7.06it/s]\u001b[A\n",
      "Iteration:  84%|████████▎ | 529/632 [01:12<00:14,  6.89it/s]\u001b[A\n",
      "Iteration:  84%|████████▍ | 530/632 [01:13<00:14,  6.81it/s]\u001b[A\n",
      "Iteration:  84%|████████▍ | 531/632 [01:13<00:14,  6.81it/s]\u001b[A\n",
      "Iteration:  84%|████████▍ | 532/632 [01:13<00:14,  7.05it/s]\u001b[A\n",
      "Iteration:  84%|████████▍ | 533/632 [01:13<00:13,  7.42it/s]\u001b[A\n",
      "Iteration:  84%|████████▍ | 534/632 [01:13<00:13,  7.16it/s]\u001b[A\n",
      "Iteration:  85%|████████▍ | 535/632 [01:13<00:12,  7.47it/s]\u001b[A\n",
      "Iteration:  85%|████████▍ | 536/632 [01:13<00:13,  7.25it/s]\u001b[A\n",
      "Iteration:  85%|████████▍ | 537/632 [01:13<00:13,  7.24it/s]\u001b[A\n",
      "Iteration:  85%|████████▌ | 538/632 [01:14<00:13,  7.03it/s]\u001b[A\n",
      "Iteration:  85%|████████▌ | 539/632 [01:14<00:12,  7.43it/s]\u001b[A\n",
      "Iteration:  85%|████████▌ | 540/632 [01:14<00:12,  7.41it/s]\u001b[A\n",
      "Iteration:  86%|████████▌ | 541/632 [01:14<00:12,  7.37it/s]\u001b[A\n",
      "Iteration:  86%|████████▌ | 542/632 [01:14<00:12,  7.10it/s]\u001b[A\n",
      "Iteration:  86%|████████▌ | 543/632 [01:14<00:12,  7.12it/s]\u001b[A\n",
      "Iteration:  86%|████████▌ | 544/632 [01:14<00:12,  7.11it/s]\u001b[A\n",
      "Iteration:  86%|████████▌ | 545/632 [01:15<00:12,  7.04it/s]\u001b[A\n",
      "Iteration:  86%|████████▋ | 546/632 [01:15<00:12,  7.07it/s]\u001b[A\n",
      "Iteration:  87%|████████▋ | 547/632 [01:15<00:11,  7.34it/s]\u001b[A\n",
      "Iteration:  87%|████████▋ | 548/632 [01:15<00:11,  7.41it/s]\u001b[A\n",
      "Iteration:  87%|████████▋ | 549/632 [01:15<00:11,  7.30it/s]\u001b[A\n",
      "Iteration:  87%|████████▋ | 550/632 [01:15<00:10,  7.58it/s]\u001b[A\n",
      "Iteration:  87%|████████▋ | 551/632 [01:15<00:10,  7.52it/s]\u001b[A\n",
      "Iteration:  87%|████████▋ | 552/632 [01:15<00:10,  7.54it/s]\u001b[A\n",
      "Iteration:  88%|████████▊ | 553/632 [01:16<00:10,  7.53it/s]\u001b[A\n",
      "Iteration:  88%|████████▊ | 554/632 [01:16<00:10,  7.64it/s]\u001b[A\n",
      "Iteration:  88%|████████▊ | 555/632 [01:16<00:10,  7.52it/s]\u001b[A\n",
      "Iteration:  88%|████████▊ | 556/632 [01:16<00:10,  7.55it/s]\u001b[A\n",
      "Iteration:  88%|████████▊ | 557/632 [01:16<00:10,  7.29it/s]\u001b[A\n",
      "Iteration:  88%|████████▊ | 558/632 [01:16<00:10,  7.30it/s]\u001b[A\n",
      "Iteration:  88%|████████▊ | 559/632 [01:16<00:09,  7.47it/s]\u001b[A\n",
      "Iteration:  89%|████████▊ | 560/632 [01:17<00:09,  7.40it/s]\u001b[A\n",
      "Iteration:  89%|████████▉ | 561/632 [01:17<00:09,  7.50it/s]\u001b[A\n",
      "Iteration:  89%|████████▉ | 562/632 [01:17<00:09,  7.41it/s]\u001b[A\n",
      "Iteration:  89%|████████▉ | 563/632 [01:17<00:09,  7.50it/s]\u001b[A\n",
      "Iteration:  89%|████████▉ | 564/632 [01:17<00:08,  7.86it/s]\u001b[A\n",
      "Iteration:  89%|████████▉ | 565/632 [01:17<00:08,  7.59it/s]\u001b[A\n",
      "Iteration:  90%|████████▉ | 566/632 [01:17<00:08,  7.76it/s]\u001b[A\n",
      "Iteration:  90%|████████▉ | 567/632 [01:17<00:08,  7.59it/s]\u001b[A\n",
      "Iteration:  90%|████████▉ | 568/632 [01:18<00:08,  7.33it/s]\u001b[A\n",
      "Iteration:  90%|█████████ | 569/632 [01:18<00:08,  7.30it/s]\u001b[A\n",
      "Iteration:  90%|█████████ | 570/632 [01:18<00:08,  7.44it/s]\u001b[A\n",
      "Iteration:  90%|█████████ | 571/632 [01:18<00:08,  7.16it/s]\u001b[A\n",
      "Iteration:  91%|█████████ | 572/632 [01:18<00:08,  7.20it/s]\u001b[A\n",
      "Iteration:  91%|█████████ | 573/632 [01:18<00:08,  7.20it/s]\u001b[A\n",
      "Iteration:  91%|█████████ | 574/632 [01:18<00:07,  7.41it/s]\u001b[A\n",
      "Iteration:  91%|█████████ | 575/632 [01:19<00:07,  7.37it/s]\u001b[A\n",
      "Iteration:  91%|█████████ | 576/632 [01:19<00:07,  7.33it/s]\u001b[A\n",
      "Iteration:  91%|█████████▏| 577/632 [01:19<00:07,  7.09it/s]\u001b[A\n",
      "Iteration:  91%|█████████▏| 578/632 [01:19<00:07,  7.11it/s]\u001b[A\n",
      "Iteration:  92%|█████████▏| 579/632 [01:19<00:07,  7.14it/s]\u001b[A\n",
      "Iteration:  92%|█████████▏| 580/632 [01:19<00:07,  7.24it/s]\u001b[A\n",
      "Iteration:  92%|█████████▏| 581/632 [01:19<00:07,  6.87it/s]\u001b[A\n",
      "Iteration:  92%|█████████▏| 582/632 [01:20<00:06,  7.30it/s]\u001b[A\n",
      "Iteration:  92%|█████████▏| 583/632 [01:20<00:06,  7.16it/s]\u001b[A\n",
      "Iteration:  92%|█████████▏| 584/632 [01:20<00:06,  7.14it/s]\u001b[A\n",
      "Iteration:  93%|█████████▎| 585/632 [01:20<00:06,  7.19it/s]\u001b[A\n",
      "Iteration:  93%|█████████▎| 586/632 [01:20<00:06,  7.29it/s]\u001b[A\n",
      "Iteration:  93%|█████████▎| 587/632 [01:20<00:06,  7.23it/s]\u001b[A\n",
      "Iteration:  93%|█████████▎| 588/632 [01:20<00:06,  6.88it/s]\u001b[A\n",
      "Iteration:  93%|█████████▎| 589/632 [01:21<00:05,  7.34it/s]\u001b[A\n",
      "Iteration:  93%|█████████▎| 590/632 [01:21<00:06,  6.95it/s]\u001b[A\n",
      "Iteration:  94%|█████████▎| 591/632 [01:21<00:05,  7.02it/s]\u001b[A\n",
      "Iteration:  94%|█████████▎| 592/632 [01:21<00:05,  7.03it/s]\u001b[A\n",
      "Iteration:  94%|█████████▍| 593/632 [01:21<00:05,  7.09it/s]\u001b[A\n",
      "Iteration:  94%|█████████▍| 594/632 [01:21<00:05,  7.39it/s]\u001b[A\n",
      "Iteration:  94%|█████████▍| 595/632 [01:21<00:05,  6.86it/s]\u001b[A\n",
      "Iteration:  94%|█████████▍| 596/632 [01:22<00:05,  6.90it/s]\u001b[A\n",
      "Iteration:  94%|█████████▍| 597/632 [01:22<00:05,  6.86it/s]\u001b[A\n",
      "Iteration:  95%|█████████▍| 598/632 [01:22<00:04,  7.05it/s]\u001b[A\n",
      "Iteration:  95%|█████████▍| 599/632 [01:22<00:04,  7.09it/s]\u001b[A\n",
      "Iteration:  95%|█████████▍| 600/632 [01:22<00:04,  6.98it/s]\u001b[A\n",
      "Iteration:  95%|█████████▌| 601/632 [01:22<00:04,  7.14it/s]\u001b[A\n",
      "Iteration:  95%|█████████▌| 602/632 [01:22<00:04,  7.35it/s]\u001b[A\n",
      "Iteration:  95%|█████████▌| 603/632 [01:23<00:04,  7.19it/s]\u001b[A\n",
      "Iteration:  96%|█████████▌| 604/632 [01:23<00:03,  7.07it/s]\u001b[A\n",
      "Iteration:  96%|█████████▌| 605/632 [01:23<00:03,  7.05it/s]\u001b[A\n",
      "Iteration:  96%|█████████▌| 606/632 [01:23<00:03,  6.96it/s]\u001b[A\n",
      "Iteration:  96%|█████████▌| 607/632 [01:23<00:03,  6.70it/s]\u001b[A\n",
      "Iteration:  96%|█████████▌| 608/632 [01:23<00:03,  6.85it/s]\u001b[A\n",
      "Iteration:  96%|█████████▋| 609/632 [01:23<00:03,  6.95it/s]\u001b[A\n",
      "Iteration:  97%|█████████▋| 610/632 [01:24<00:03,  7.12it/s]\u001b[A\n",
      "Iteration:  97%|█████████▋| 611/632 [01:24<00:02,  7.23it/s]\u001b[A\n",
      "Iteration:  97%|█████████▋| 612/632 [01:24<00:02,  7.26it/s]\u001b[A\n",
      "Iteration:  97%|█████████▋| 613/632 [01:24<00:02,  7.44it/s]\u001b[A\n",
      "Iteration:  97%|█████████▋| 614/632 [01:24<00:02,  7.55it/s]\u001b[A\n",
      "Iteration:  97%|█████████▋| 615/632 [01:24<00:02,  7.33it/s]\u001b[A\n",
      "Iteration:  97%|█████████▋| 616/632 [01:24<00:02,  7.02it/s]\u001b[A\n",
      "Iteration:  98%|█████████▊| 617/632 [01:25<00:02,  7.11it/s]\u001b[A\n",
      "Iteration:  98%|█████████▊| 618/632 [01:25<00:01,  7.40it/s]\u001b[A\n",
      "Iteration:  98%|█████████▊| 619/632 [01:25<00:01,  7.71it/s]\u001b[A\n",
      "Iteration:  98%|█████████▊| 620/632 [01:25<00:01,  7.76it/s]\u001b[A\n",
      "Iteration:  98%|█████████▊| 621/632 [01:25<00:01,  7.48it/s]\u001b[A\n",
      "Iteration:  98%|█████████▊| 622/632 [01:25<00:01,  7.33it/s]\u001b[A\n",
      "Iteration:  99%|█████████▊| 623/632 [01:25<00:01,  7.47it/s]\u001b[A\n",
      "Iteration:  99%|█████████▊| 624/632 [01:25<00:01,  7.34it/s]\u001b[A\n",
      "Iteration:  99%|█████████▉| 625/632 [01:26<00:00,  7.27it/s]\u001b[A\n",
      "Iteration:  99%|█████████▉| 626/632 [01:26<00:00,  7.19it/s]\u001b[A\n",
      "Iteration:  99%|█████████▉| 627/632 [01:26<00:00,  7.16it/s]\u001b[A\n",
      "Iteration:  99%|█████████▉| 628/632 [01:26<00:00,  7.19it/s]\u001b[A\n",
      "Iteration: 100%|█████████▉| 629/632 [01:26<00:00,  7.49it/s]\u001b[A\n",
      "Iteration: 100%|█████████▉| 630/632 [01:26<00:00,  7.68it/s]\u001b[A\n",
      "Iteration: 100%|█████████▉| 631/632 [01:26<00:00,  7.70it/s]\u001b[A\n",
      "Iteration: 100%|██████████| 632/632 [01:26<00:00,  7.27it/s]\u001b[A\n",
      "Epoch:  25%|██▌       | 1/4 [02:58<04:35, 91.99s/it]\n",
      "Convert Evaluating:   0%|          | 0/188 [00:00<?, ?it/s]\u001b[A\n",
      "Convert Evaluating:   3%|▎         | 5/188 [00:00<00:03, 46.61it/s]\u001b[A"
     ]
    },
    {
     "name": "stdout",
     "output_type": "stream",
     "text": [
      "2019-12-17 05:51:29 - Evaluation the model on  dataset after epoch 1:\n"
     ]
    },
    {
     "name": "stderr",
     "output_type": "stream",
     "text": [
      "\n",
      "Convert Evaluating:   5%|▌         | 10/188 [00:00<00:03, 46.80it/s]\u001b[A\n",
      "Convert Evaluating:   8%|▊         | 15/188 [00:00<00:03, 46.71it/s]\u001b[A\n",
      "Convert Evaluating:  11%|█         | 20/188 [00:00<00:03, 47.27it/s]\u001b[A\n",
      "Convert Evaluating:  13%|█▎        | 25/188 [00:00<00:03, 47.44it/s]\u001b[A\n",
      "Convert Evaluating:  16%|█▌        | 30/188 [00:00<00:03, 47.56it/s]\u001b[A\n",
      "Convert Evaluating:  19%|█▊        | 35/188 [00:00<00:03, 47.12it/s]\u001b[A\n",
      "Convert Evaluating:  21%|██▏       | 40/188 [00:00<00:03, 46.39it/s]\u001b[A\n",
      "Convert Evaluating:  24%|██▍       | 45/188 [00:00<00:03, 46.22it/s]\u001b[A\n",
      "Convert Evaluating:  27%|██▋       | 50/188 [00:01<00:02, 46.04it/s]\u001b[A\n",
      "Convert Evaluating:  29%|██▉       | 55/188 [00:01<00:02, 46.05it/s]\u001b[A\n",
      "Convert Evaluating:  32%|███▏      | 60/188 [00:01<00:02, 45.33it/s]\u001b[A\n",
      "Convert Evaluating:  35%|███▍      | 65/188 [00:01<00:02, 45.11it/s]\u001b[A\n",
      "Convert Evaluating:  37%|███▋      | 70/188 [00:01<00:02, 45.05it/s]\u001b[A\n",
      "Convert Evaluating:  40%|███▉      | 75/188 [00:01<00:02, 45.06it/s]\u001b[A\n",
      "Convert Evaluating:  43%|████▎     | 80/188 [00:01<00:02, 42.92it/s]\u001b[A\n",
      "Convert Evaluating:  45%|████▌     | 85/188 [00:01<00:02, 40.29it/s]\u001b[A\n",
      "Convert Evaluating:  48%|████▊     | 90/188 [00:02<00:02, 38.64it/s]\u001b[A\n",
      "Convert Evaluating:  50%|█████     | 94/188 [00:02<00:02, 37.84it/s]\u001b[A\n",
      "Convert Evaluating:  52%|█████▏    | 98/188 [00:02<00:02, 34.41it/s]\u001b[A\n",
      "Convert Evaluating:  54%|█████▍    | 102/188 [00:02<00:02, 35.51it/s]\u001b[A\n",
      "Convert Evaluating:  56%|█████▋    | 106/188 [00:02<00:02, 35.73it/s]\u001b[A\n",
      "Convert Evaluating:  59%|█████▊    | 110/188 [00:02<00:02, 35.59it/s]\u001b[A\n",
      "Convert Evaluating:  61%|██████    | 114/188 [00:02<00:02, 35.44it/s]\u001b[A\n",
      "Convert Evaluating:  63%|██████▎   | 118/188 [00:02<00:01, 35.52it/s]\u001b[A\n",
      "Convert Evaluating:  65%|██████▍   | 122/188 [00:02<00:01, 36.00it/s]\u001b[A\n",
      "Convert Evaluating:  67%|██████▋   | 126/188 [00:03<00:01, 35.52it/s]\u001b[A\n",
      "Convert Evaluating:  69%|██████▉   | 130/188 [00:03<00:01, 33.54it/s]\u001b[A\n",
      "Convert Evaluating:  71%|███████▏  | 134/188 [00:03<00:01, 32.15it/s]\u001b[A\n",
      "Convert Evaluating:  73%|███████▎  | 138/188 [00:03<00:01, 31.19it/s]\u001b[A\n",
      "Convert Evaluating:  76%|███████▌  | 142/188 [00:03<00:01, 29.83it/s]\u001b[A\n",
      "Convert Evaluating:  78%|███████▊  | 146/188 [00:03<00:01, 29.01it/s]\u001b[A\n",
      "Convert Evaluating:  80%|███████▉  | 150/188 [00:03<00:01, 29.76it/s]\u001b[A\n",
      "Convert Evaluating:  82%|████████▏ | 154/188 [00:04<00:01, 28.73it/s]\u001b[A\n",
      "Convert Evaluating:  84%|████████▍ | 158/188 [00:04<00:00, 30.05it/s]\u001b[A\n",
      "Convert Evaluating:  87%|████████▋ | 163/188 [00:04<00:00, 33.35it/s]\u001b[A\n",
      "Convert Evaluating:  89%|████████▉ | 168/188 [00:04<00:00, 35.99it/s]\u001b[A\n",
      "Convert Evaluating:  92%|█████████▏| 173/188 [00:04<00:00, 38.39it/s]\u001b[A\n",
      "Convert Evaluating:  95%|█████████▍| 178/188 [00:04<00:00, 40.28it/s]\u001b[A\n",
      "Convert Evaluating:  97%|█████████▋| 183/188 [00:04<00:00, 41.57it/s]\u001b[A\n",
      "Convert Evaluating: 100%|██████████| 188/188 [00:04<00:00, 38.87it/s]\u001b[A\n",
      "Epoch:  25%|██▌       | 1/4 [03:03<04:35, 91.99s/it]"
     ]
    },
    {
     "name": "stdout",
     "output_type": "stream",
     "text": [
      "2019-12-17 05:51:34 - Cosine-Similarity :\tPearson: 0.8720\tSpearman: 0.8756\n",
      "2019-12-17 05:51:34 - Manhattan-Distance:\tPearson: 0.8583\tSpearman: 0.8637\n",
      "2019-12-17 05:51:34 - Euclidean-Distance:\tPearson: 0.8592\tSpearman: 0.8644\n",
      "2019-12-17 05:51:34 - Dot-Product-Similarity:\tPearson: 0.8113\tSpearman: 0.8244\n",
      "2019-12-17 05:51:34 - Save model to output/training_stsbenchmark_continue_training-roberta-base-nli-stsb-mean-tokens-2019-12-17_05-48-22\n",
      "2019-12-17 05:51:34 - Configuration saved in output/training_stsbenchmark_continue_training-roberta-base-nli-stsb-mean-tokens-2019-12-17_05-48-22/0_RoBERTa/config.json\n"
     ]
    },
    {
     "name": "stderr",
     "output_type": "stream",
     "text": [
      "Epoch:  50%|█████     | 2/4 [03:05<03:04, 92.37s/it]\n",
      "                                                    A\n",
      "Epoch:  50%|█████     | 2/4 [03:05<03:04, 92.37s/it]\n",
      "Iteration:   0%|          | 0/632 [00:00<?, ?it/s]\u001b[A"
     ]
    },
    {
     "name": "stdout",
     "output_type": "stream",
     "text": [
      "2019-12-17 05:51:35 - Model weights saved in output/training_stsbenchmark_continue_training-roberta-base-nli-stsb-mean-tokens-2019-12-17_05-48-22/0_RoBERTa/pytorch_model.bin\n",
      "2019-12-17 05:51:35 - Restart data_iterator\n"
     ]
    },
    {
     "name": "stderr",
     "output_type": "stream",
     "text": [
      "\n",
      "Iteration:   0%|          | 1/632 [00:00<01:25,  7.42it/s]\u001b[A\n",
      "Iteration:   0%|          | 2/632 [00:00<01:23,  7.58it/s]\u001b[A\n",
      "Iteration:   0%|          | 3/632 [00:00<01:21,  7.70it/s]\u001b[A\n",
      "Iteration:   1%|          | 4/632 [00:00<01:21,  7.67it/s]\u001b[A\n",
      "Iteration:   1%|          | 5/632 [00:00<01:18,  7.95it/s]\u001b[A\n",
      "Iteration:   1%|          | 6/632 [00:00<01:18,  7.96it/s]\u001b[A\n",
      "Iteration:   1%|          | 7/632 [00:00<01:18,  7.95it/s]\u001b[A\n",
      "Iteration:   1%|▏         | 8/632 [00:01<01:23,  7.44it/s]\u001b[A\n",
      "Iteration:   1%|▏         | 9/632 [00:01<01:26,  7.22it/s]\u001b[A\n",
      "Iteration:   2%|▏         | 10/632 [00:01<01:23,  7.44it/s]\u001b[A\n",
      "Iteration:   2%|▏         | 11/632 [00:01<01:26,  7.14it/s]\u001b[A\n",
      "Iteration:   2%|▏         | 12/632 [00:01<01:26,  7.21it/s]\u001b[A\n",
      "Iteration:   2%|▏         | 13/632 [00:01<01:27,  7.11it/s]\u001b[A\n",
      "Iteration:   2%|▏         | 14/632 [00:01<01:25,  7.24it/s]\u001b[A\n",
      "Iteration:   2%|▏         | 15/632 [00:02<01:24,  7.33it/s]\u001b[A\n",
      "Iteration:   3%|▎         | 16/632 [00:02<01:25,  7.22it/s]\u001b[A\n",
      "Iteration:   3%|▎         | 17/632 [00:02<01:25,  7.21it/s]\u001b[A\n",
      "Iteration:   3%|▎         | 18/632 [00:02<01:29,  6.87it/s]\u001b[A\n",
      "Iteration:   3%|▎         | 19/632 [00:02<01:24,  7.26it/s]\u001b[A\n",
      "Iteration:   3%|▎         | 20/632 [00:02<01:28,  6.92it/s]\u001b[A\n",
      "Iteration:   3%|▎         | 21/632 [00:02<01:27,  7.02it/s]\u001b[A\n",
      "Iteration:   3%|▎         | 22/632 [00:03<01:26,  7.09it/s]\u001b[A\n",
      "Iteration:   4%|▎         | 23/632 [00:03<01:24,  7.23it/s]\u001b[A\n",
      "Iteration:   4%|▍         | 24/632 [00:03<01:24,  7.22it/s]\u001b[A\n",
      "Iteration:   4%|▍         | 25/632 [00:03<01:23,  7.23it/s]\u001b[A\n",
      "Iteration:   4%|▍         | 26/632 [00:03<01:26,  6.99it/s]\u001b[A\n",
      "Iteration:   4%|▍         | 27/632 [00:03<01:28,  6.85it/s]\u001b[A\n",
      "Iteration:   4%|▍         | 28/632 [00:03<01:28,  6.79it/s]\u001b[A\n",
      "Iteration:   5%|▍         | 29/632 [00:04<01:28,  6.81it/s]\u001b[A\n",
      "Iteration:   5%|▍         | 30/632 [00:04<01:28,  6.82it/s]\u001b[A\n",
      "Iteration:   5%|▍         | 31/632 [00:04<01:23,  7.24it/s]\u001b[A\n",
      "Iteration:   5%|▌         | 32/632 [00:04<01:24,  7.11it/s]\u001b[A\n",
      "Iteration:   5%|▌         | 33/632 [00:04<01:21,  7.37it/s]\u001b[A\n",
      "Iteration:   5%|▌         | 34/632 [00:04<01:19,  7.49it/s]\u001b[A\n",
      "Iteration:   6%|▌         | 35/632 [00:04<01:21,  7.36it/s]\u001b[A\n",
      "Iteration:   6%|▌         | 36/632 [00:04<01:25,  6.97it/s]\u001b[A\n",
      "Iteration:   6%|▌         | 37/632 [00:05<01:27,  6.82it/s]\u001b[A\n",
      "Iteration:   6%|▌         | 38/632 [00:05<01:28,  6.69it/s]\u001b[A\n",
      "Iteration:   6%|▌         | 39/632 [00:05<01:26,  6.84it/s]\u001b[A\n",
      "Iteration:   6%|▋         | 40/632 [00:05<01:26,  6.84it/s]\u001b[A\n",
      "Iteration:   6%|▋         | 41/632 [00:05<01:24,  6.96it/s]\u001b[A\n",
      "Iteration:   7%|▋         | 42/632 [00:05<01:23,  7.05it/s]\u001b[A\n",
      "Iteration:   7%|▋         | 43/632 [00:05<01:22,  7.15it/s]\u001b[A\n",
      "Iteration:   7%|▋         | 44/632 [00:06<01:18,  7.47it/s]\u001b[A\n",
      "Iteration:   7%|▋         | 45/632 [00:06<01:15,  7.82it/s]\u001b[A\n",
      "Iteration:   7%|▋         | 46/632 [00:06<01:18,  7.49it/s]\u001b[A\n",
      "Iteration:   7%|▋         | 47/632 [00:06<01:23,  7.04it/s]\u001b[A\n",
      "Iteration:   8%|▊         | 48/632 [00:06<01:21,  7.18it/s]\u001b[A\n",
      "Iteration:   8%|▊         | 49/632 [00:06<01:23,  6.98it/s]\u001b[A\n",
      "Iteration:   8%|▊         | 50/632 [00:06<01:24,  6.87it/s]\u001b[A\n",
      "Iteration:   8%|▊         | 51/632 [00:07<01:19,  7.31it/s]\u001b[A\n",
      "Iteration:   8%|▊         | 52/632 [00:07<01:19,  7.29it/s]\u001b[A\n",
      "Iteration:   8%|▊         | 53/632 [00:07<01:20,  7.22it/s]\u001b[A\n",
      "Iteration:   9%|▊         | 54/632 [00:07<01:17,  7.46it/s]\u001b[A\n",
      "Iteration:   9%|▊         | 55/632 [00:07<01:19,  7.23it/s]\u001b[A\n",
      "Iteration:   9%|▉         | 56/632 [00:07<01:18,  7.29it/s]\u001b[A\n",
      "Iteration:   9%|▉         | 57/632 [00:07<01:18,  7.34it/s]\u001b[A\n",
      "Iteration:   9%|▉         | 58/632 [00:08<01:19,  7.22it/s]\u001b[A\n",
      "Iteration:   9%|▉         | 59/632 [00:08<01:17,  7.35it/s]\u001b[A\n",
      "Iteration:   9%|▉         | 60/632 [00:08<01:18,  7.29it/s]\u001b[A\n",
      "Iteration:  10%|▉         | 61/632 [00:08<01:18,  7.27it/s]\u001b[A\n",
      "Iteration:  10%|▉         | 62/632 [00:08<01:18,  7.22it/s]\u001b[A\n",
      "Iteration:  10%|▉         | 63/632 [00:08<01:21,  6.97it/s]\u001b[A\n",
      "Iteration:  10%|█         | 64/632 [00:08<01:19,  7.12it/s]\u001b[A\n",
      "Iteration:  10%|█         | 65/632 [00:09<01:19,  7.14it/s]\u001b[A\n",
      "Iteration:  10%|█         | 66/632 [00:09<01:19,  7.14it/s]\u001b[A\n",
      "Iteration:  11%|█         | 67/632 [00:09<01:18,  7.22it/s]\u001b[A\n",
      "Iteration:  11%|█         | 68/632 [00:09<01:17,  7.29it/s]\u001b[A\n",
      "Iteration:  11%|█         | 69/632 [00:09<01:21,  6.89it/s]\u001b[A\n",
      "Iteration:  11%|█         | 70/632 [00:09<01:20,  6.94it/s]\u001b[A\n",
      "Iteration:  11%|█         | 71/632 [00:09<01:18,  7.12it/s]\u001b[A\n",
      "Iteration:  11%|█▏        | 72/632 [00:10<01:16,  7.36it/s]\u001b[A\n",
      "Iteration:  12%|█▏        | 73/632 [00:10<01:18,  7.14it/s]\u001b[A\n",
      "Iteration:  12%|█▏        | 74/632 [00:10<01:17,  7.18it/s]\u001b[A\n",
      "Iteration:  12%|█▏        | 75/632 [00:10<01:18,  7.11it/s]\u001b[A\n",
      "Iteration:  12%|█▏        | 76/632 [00:10<01:16,  7.24it/s]\u001b[A\n",
      "Iteration:  12%|█▏        | 77/632 [00:10<01:17,  7.13it/s]\u001b[A\n",
      "Iteration:  12%|█▏        | 78/632 [00:10<01:15,  7.30it/s]\u001b[A\n",
      "Iteration:  12%|█▎        | 79/632 [00:10<01:17,  7.11it/s]\u001b[A\n",
      "Iteration:  13%|█▎        | 80/632 [00:11<01:17,  7.10it/s]\u001b[A\n",
      "Iteration:  13%|█▎        | 81/632 [00:11<01:21,  6.75it/s]\u001b[A\n",
      "Iteration:  13%|█▎        | 82/632 [00:11<01:21,  6.75it/s]\u001b[A\n",
      "Iteration:  13%|█▎        | 83/632 [00:11<01:18,  6.97it/s]\u001b[A\n",
      "Iteration:  13%|█▎        | 84/632 [00:11<01:21,  6.71it/s]\u001b[A\n",
      "Iteration:  13%|█▎        | 85/632 [00:11<01:22,  6.61it/s]\u001b[A\n",
      "Iteration:  14%|█▎        | 86/632 [00:12<01:19,  6.83it/s]\u001b[A\n",
      "Iteration:  14%|█▍        | 87/632 [00:12<01:19,  6.89it/s]\u001b[A\n",
      "Iteration:  14%|█▍        | 88/632 [00:12<01:14,  7.32it/s]\u001b[A\n",
      "Iteration:  14%|█▍        | 89/632 [00:12<01:10,  7.70it/s]\u001b[A\n",
      "Iteration:  14%|█▍        | 90/632 [00:12<01:10,  7.70it/s]\u001b[A\n",
      "Iteration:  14%|█▍        | 91/632 [00:12<01:11,  7.58it/s]\u001b[A\n",
      "Iteration:  15%|█▍        | 92/632 [00:12<01:12,  7.45it/s]\u001b[A\n",
      "Iteration:  15%|█▍        | 93/632 [00:12<01:10,  7.61it/s]\u001b[A\n",
      "Iteration:  15%|█▍        | 94/632 [00:13<01:15,  7.11it/s]\u001b[A\n",
      "Iteration:  15%|█▌        | 95/632 [00:13<01:13,  7.33it/s]\u001b[A\n",
      "Iteration:  15%|█▌        | 96/632 [00:13<01:12,  7.36it/s]\u001b[A\n",
      "Iteration:  15%|█▌        | 97/632 [00:13<01:14,  7.20it/s]\u001b[A\n",
      "Iteration:  16%|█▌        | 98/632 [00:13<01:17,  6.87it/s]\u001b[A\n",
      "Iteration:  16%|█▌        | 99/632 [00:13<01:12,  7.34it/s]\u001b[A\n",
      "Iteration:  16%|█▌        | 100/632 [00:13<01:13,  7.20it/s]\u001b[A\n",
      "Iteration:  16%|█▌        | 101/632 [00:14<01:13,  7.21it/s]\u001b[A\n",
      "Iteration:  16%|█▌        | 102/632 [00:14<01:14,  7.11it/s]\u001b[A\n",
      "Iteration:  16%|█▋        | 103/632 [00:14<01:12,  7.25it/s]\u001b[A\n",
      "Iteration:  16%|█▋        | 104/632 [00:14<01:14,  7.05it/s]\u001b[A\n",
      "Iteration:  17%|█▋        | 105/632 [00:14<01:13,  7.20it/s]\u001b[A\n",
      "Iteration:  17%|█▋        | 106/632 [00:14<01:11,  7.31it/s]\u001b[A\n",
      "Iteration:  17%|█▋        | 107/632 [00:14<01:14,  7.08it/s]\u001b[A\n",
      "Iteration:  17%|█▋        | 108/632 [00:15<01:11,  7.32it/s]\u001b[A\n",
      "Iteration:  17%|█▋        | 109/632 [00:15<01:14,  7.07it/s]\u001b[A\n",
      "Iteration:  17%|█▋        | 110/632 [00:15<01:13,  7.12it/s]\u001b[A\n",
      "Iteration:  18%|█▊        | 111/632 [00:15<01:11,  7.25it/s]\u001b[A\n",
      "Iteration:  18%|█▊        | 112/632 [00:15<01:10,  7.34it/s]\u001b[A\n",
      "Iteration:  18%|█▊        | 113/632 [00:15<01:10,  7.32it/s]\u001b[A\n",
      "Iteration:  18%|█▊        | 114/632 [00:15<01:08,  7.55it/s]\u001b[A\n",
      "Iteration:  18%|█▊        | 115/632 [00:15<01:10,  7.36it/s]\u001b[A\n",
      "Iteration:  18%|█▊        | 116/632 [00:16<01:12,  7.12it/s]\u001b[A\n",
      "Iteration:  19%|█▊        | 117/632 [00:16<01:11,  7.22it/s]\u001b[A\n",
      "Iteration:  19%|█▊        | 118/632 [00:16<01:10,  7.30it/s]\u001b[A\n",
      "Iteration:  19%|█▉        | 119/632 [00:16<01:07,  7.58it/s]\u001b[A\n",
      "Iteration:  19%|█▉        | 120/632 [00:16<01:09,  7.35it/s]\u001b[A\n",
      "Iteration:  19%|█▉        | 121/632 [00:16<01:08,  7.48it/s]\u001b[A\n",
      "Iteration:  19%|█▉        | 122/632 [00:16<01:07,  7.56it/s]\u001b[A\n",
      "Iteration:  19%|█▉        | 123/632 [00:17<01:07,  7.56it/s]\u001b[A\n",
      "Iteration:  20%|█▉        | 124/632 [00:17<01:04,  7.84it/s]\u001b[A\n",
      "Iteration:  20%|█▉        | 125/632 [00:17<01:09,  7.26it/s]\u001b[A\n",
      "Iteration:  20%|█▉        | 126/632 [00:17<01:06,  7.56it/s]\u001b[A\n",
      "Iteration:  20%|██        | 127/632 [00:17<01:07,  7.49it/s]\u001b[A\n",
      "Iteration:  20%|██        | 128/632 [00:17<01:07,  7.47it/s]\u001b[A\n",
      "Iteration:  20%|██        | 129/632 [00:17<01:08,  7.38it/s]\u001b[A\n"
     ]
    },
    {
     "name": "stderr",
     "output_type": "stream",
     "text": [
      "Iteration:  21%|██        | 130/632 [00:18<01:07,  7.44it/s]\u001b[A\n",
      "Iteration:  21%|██        | 131/632 [00:18<01:06,  7.49it/s]\u001b[A\n",
      "Iteration:  21%|██        | 132/632 [00:18<01:08,  7.29it/s]\u001b[A\n",
      "Iteration:  21%|██        | 133/632 [00:18<01:09,  7.21it/s]\u001b[A\n",
      "Iteration:  21%|██        | 134/632 [00:18<01:08,  7.23it/s]\u001b[A\n",
      "Iteration:  21%|██▏       | 135/632 [00:18<01:05,  7.60it/s]\u001b[A\n",
      "Iteration:  22%|██▏       | 136/632 [00:18<01:05,  7.52it/s]\u001b[A\n",
      "Iteration:  22%|██▏       | 137/632 [00:18<01:05,  7.57it/s]\u001b[A\n",
      "Iteration:  22%|██▏       | 138/632 [00:19<01:09,  7.11it/s]\u001b[A\n",
      "Iteration:  22%|██▏       | 139/632 [00:19<01:11,  6.88it/s]\u001b[A\n",
      "Iteration:  22%|██▏       | 140/632 [00:19<01:10,  7.01it/s]\u001b[A\n",
      "Iteration:  22%|██▏       | 141/632 [00:19<01:12,  6.81it/s]\u001b[A\n",
      "Iteration:  22%|██▏       | 142/632 [00:19<01:10,  6.95it/s]\u001b[A\n",
      "Iteration:  23%|██▎       | 143/632 [00:19<01:08,  7.10it/s]\u001b[A\n",
      "Iteration:  23%|██▎       | 144/632 [00:19<01:04,  7.54it/s]\u001b[A\n",
      "Iteration:  23%|██▎       | 145/632 [00:20<01:03,  7.71it/s]\u001b[A\n",
      "Iteration:  23%|██▎       | 146/632 [00:20<01:02,  7.79it/s]\u001b[A\n",
      "Iteration:  23%|██▎       | 147/632 [00:20<01:02,  7.75it/s]\u001b[A\n",
      "Iteration:  23%|██▎       | 148/632 [00:20<01:04,  7.49it/s]\u001b[A\n",
      "Iteration:  24%|██▎       | 149/632 [00:20<01:06,  7.30it/s]\u001b[A\n",
      "Iteration:  24%|██▎       | 150/632 [00:20<01:06,  7.26it/s]\u001b[A\n",
      "Iteration:  24%|██▍       | 151/632 [00:20<01:05,  7.39it/s]\u001b[A\n",
      "Iteration:  24%|██▍       | 152/632 [00:20<01:03,  7.53it/s]\u001b[A\n",
      "Iteration:  24%|██▍       | 153/632 [00:21<01:03,  7.49it/s]\u001b[A\n",
      "Iteration:  24%|██▍       | 154/632 [00:21<01:06,  7.18it/s]\u001b[A\n",
      "Iteration:  25%|██▍       | 155/632 [00:21<01:04,  7.40it/s]\u001b[A\n",
      "Iteration:  25%|██▍       | 156/632 [00:21<01:03,  7.51it/s]\u001b[A\n",
      "Iteration:  25%|██▍       | 157/632 [00:21<01:04,  7.32it/s]\u001b[A\n",
      "Iteration:  25%|██▌       | 158/632 [00:21<01:05,  7.23it/s]\u001b[A\n",
      "Iteration:  25%|██▌       | 159/632 [00:21<01:04,  7.33it/s]\u001b[A\n",
      "Iteration:  25%|██▌       | 160/632 [00:22<01:05,  7.24it/s]\u001b[A\n",
      "Iteration:  25%|██▌       | 161/632 [00:22<01:02,  7.57it/s]\u001b[A\n",
      "Iteration:  26%|██▌       | 162/632 [00:22<01:06,  7.09it/s]\u001b[A\n",
      "Iteration:  26%|██▌       | 163/632 [00:22<01:03,  7.44it/s]\u001b[A\n",
      "Iteration:  26%|██▌       | 164/632 [00:22<01:03,  7.38it/s]\u001b[A\n",
      "Iteration:  26%|██▌       | 165/632 [00:22<01:02,  7.46it/s]\u001b[A\n",
      "Iteration:  26%|██▋       | 166/632 [00:22<01:02,  7.49it/s]\u001b[A\n",
      "Iteration:  26%|██▋       | 167/632 [00:23<00:59,  7.79it/s]\u001b[A\n",
      "Iteration:  27%|██▋       | 168/632 [00:23<00:57,  8.06it/s]\u001b[A\n",
      "Iteration:  27%|██▋       | 169/632 [00:23<00:58,  7.87it/s]\u001b[A\n",
      "Iteration:  27%|██▋       | 170/632 [00:23<01:00,  7.60it/s]\u001b[A\n",
      "Iteration:  27%|██▋       | 171/632 [00:23<01:00,  7.68it/s]\u001b[A\n",
      "Iteration:  27%|██▋       | 172/632 [00:23<00:59,  7.78it/s]\u001b[A\n",
      "Iteration:  27%|██▋       | 173/632 [00:23<01:00,  7.64it/s]\u001b[A\n",
      "Iteration:  28%|██▊       | 174/632 [00:23<01:02,  7.38it/s]\u001b[A\n",
      "Iteration:  28%|██▊       | 175/632 [00:24<01:01,  7.45it/s]\u001b[A\n",
      "Iteration:  28%|██▊       | 176/632 [00:24<01:02,  7.26it/s]\u001b[A\n",
      "Iteration:  28%|██▊       | 177/632 [00:24<01:02,  7.34it/s]\u001b[A\n",
      "Iteration:  28%|██▊       | 178/632 [00:24<01:02,  7.29it/s]\u001b[A\n",
      "Iteration:  28%|██▊       | 179/632 [00:24<01:04,  7.06it/s]\u001b[A\n",
      "Iteration:  28%|██▊       | 180/632 [00:24<01:02,  7.24it/s]\u001b[A\n",
      "Iteration:  29%|██▊       | 181/632 [00:24<01:02,  7.23it/s]\u001b[A\n",
      "Iteration:  29%|██▉       | 182/632 [00:25<01:02,  7.19it/s]\u001b[A\n",
      "Iteration:  29%|██▉       | 183/632 [00:25<01:02,  7.20it/s]\u001b[A\n",
      "Iteration:  29%|██▉       | 184/632 [00:25<01:05,  6.87it/s]\u001b[A\n",
      "Iteration:  29%|██▉       | 185/632 [00:25<01:05,  6.83it/s]\u001b[A\n",
      "Iteration:  29%|██▉       | 186/632 [00:25<01:03,  7.08it/s]\u001b[A\n",
      "Iteration:  30%|██▉       | 187/632 [00:25<01:03,  7.05it/s]\u001b[A\n",
      "Iteration:  30%|██▉       | 188/632 [00:25<01:03,  7.00it/s]\u001b[A\n",
      "Iteration:  30%|██▉       | 189/632 [00:26<01:05,  6.73it/s]\u001b[A\n",
      "Iteration:  30%|███       | 190/632 [00:26<01:01,  7.20it/s]\u001b[A\n",
      "Iteration:  30%|███       | 191/632 [00:26<01:00,  7.26it/s]\u001b[A\n",
      "Iteration:  30%|███       | 192/632 [00:26<01:00,  7.26it/s]\u001b[A\n",
      "Iteration:  31%|███       | 193/632 [00:26<01:02,  7.05it/s]\u001b[A\n",
      "Iteration:  31%|███       | 194/632 [00:26<01:01,  7.12it/s]\u001b[A\n",
      "Iteration:  31%|███       | 195/632 [00:26<01:00,  7.25it/s]\u001b[A\n",
      "Iteration:  31%|███       | 196/632 [00:27<00:57,  7.61it/s]\u001b[A\n",
      "Iteration:  31%|███       | 197/632 [00:27<00:59,  7.27it/s]\u001b[A\n",
      "Iteration:  31%|███▏      | 198/632 [00:27<00:57,  7.55it/s]\u001b[A\n",
      "Iteration:  31%|███▏      | 199/632 [00:27<00:58,  7.38it/s]\u001b[A\n",
      "Iteration:  32%|███▏      | 200/632 [00:27<00:57,  7.52it/s]\u001b[A\n",
      "Iteration:  32%|███▏      | 201/632 [00:27<00:55,  7.83it/s]\u001b[A\n",
      "Iteration:  32%|███▏      | 202/632 [00:27<00:54,  7.85it/s]\u001b[A\n",
      "Iteration:  32%|███▏      | 203/632 [00:27<00:54,  7.85it/s]\u001b[A\n",
      "Iteration:  32%|███▏      | 204/632 [00:28<00:55,  7.69it/s]\u001b[A\n",
      "Iteration:  32%|███▏      | 205/632 [00:28<00:53,  7.92it/s]\u001b[A\n",
      "Iteration:  33%|███▎      | 206/632 [00:28<00:57,  7.38it/s]\u001b[A\n",
      "Iteration:  33%|███▎      | 207/632 [00:28<00:56,  7.47it/s]\u001b[A\n",
      "Iteration:  33%|███▎      | 208/632 [00:28<00:56,  7.45it/s]\u001b[A\n",
      "Iteration:  33%|███▎      | 209/632 [00:28<00:54,  7.80it/s]\u001b[A\n",
      "Iteration:  33%|███▎      | 210/632 [00:28<00:57,  7.33it/s]\u001b[A\n",
      "Iteration:  33%|███▎      | 211/632 [00:28<00:55,  7.60it/s]\u001b[A\n",
      "Iteration:  34%|███▎      | 212/632 [00:29<00:54,  7.67it/s]\u001b[A\n",
      "Iteration:  34%|███▎      | 213/632 [00:29<00:54,  7.67it/s]\u001b[A\n",
      "Iteration:  34%|███▍      | 214/632 [00:29<00:54,  7.62it/s]\u001b[A\n",
      "Iteration:  34%|███▍      | 215/632 [00:29<00:53,  7.78it/s]\u001b[A\n",
      "Iteration:  34%|███▍      | 216/632 [00:29<00:55,  7.47it/s]\u001b[A\n",
      "Iteration:  34%|███▍      | 217/632 [00:29<00:55,  7.42it/s]\u001b[A\n",
      "Iteration:  34%|███▍      | 218/632 [00:29<00:55,  7.41it/s]\u001b[A\n",
      "Iteration:  35%|███▍      | 219/632 [00:30<00:56,  7.31it/s]\u001b[A\n",
      "Iteration:  35%|███▍      | 220/632 [00:30<00:53,  7.65it/s]\u001b[A\n",
      "Iteration:  35%|███▍      | 221/632 [00:30<00:55,  7.37it/s]\u001b[A\n",
      "Iteration:  35%|███▌      | 222/632 [00:30<00:57,  7.15it/s]\u001b[A\n",
      "Iteration:  35%|███▌      | 223/632 [00:30<00:55,  7.34it/s]\u001b[A\n",
      "Iteration:  35%|███▌      | 224/632 [00:30<00:57,  7.09it/s]\u001b[A\n",
      "Iteration:  36%|███▌      | 225/632 [00:30<00:57,  7.08it/s]\u001b[A\n",
      "Iteration:  36%|███▌      | 226/632 [00:31<00:53,  7.55it/s]\u001b[A\n",
      "Iteration:  36%|███▌      | 227/632 [00:31<00:55,  7.34it/s]\u001b[A\n",
      "Iteration:  36%|███▌      | 228/632 [00:31<00:58,  6.93it/s]\u001b[A\n",
      "Iteration:  36%|███▌      | 229/632 [00:31<00:57,  7.03it/s]\u001b[A\n",
      "Iteration:  36%|███▋      | 230/632 [00:31<00:54,  7.44it/s]\u001b[A\n",
      "Iteration:  37%|███▋      | 231/632 [00:31<00:53,  7.50it/s]\u001b[A\n",
      "Iteration:  37%|███▋      | 232/632 [00:31<00:52,  7.60it/s]\u001b[A\n",
      "Iteration:  37%|███▋      | 233/632 [00:31<00:53,  7.49it/s]\u001b[A\n",
      "Iteration:  37%|███▋      | 234/632 [00:32<00:52,  7.64it/s]\u001b[A\n",
      "Iteration:  37%|███▋      | 235/632 [00:32<00:53,  7.44it/s]\u001b[A\n",
      "Iteration:  37%|███▋      | 236/632 [00:32<00:54,  7.33it/s]\u001b[A\n",
      "Iteration:  38%|███▊      | 237/632 [00:32<00:56,  6.96it/s]\u001b[A\n",
      "Iteration:  38%|███▊      | 238/632 [00:32<00:58,  6.70it/s]\u001b[A\n",
      "Iteration:  38%|███▊      | 239/632 [00:32<00:56,  6.98it/s]\u001b[A\n",
      "Iteration:  38%|███▊      | 240/632 [00:32<00:52,  7.42it/s]\u001b[A\n",
      "Iteration:  38%|███▊      | 241/632 [00:33<00:52,  7.43it/s]\u001b[A\n",
      "Iteration:  38%|███▊      | 242/632 [00:33<00:53,  7.32it/s]\u001b[A\n",
      "Iteration:  38%|███▊      | 243/632 [00:33<00:53,  7.33it/s]\u001b[A\n",
      "Iteration:  39%|███▊      | 244/632 [00:33<00:51,  7.50it/s]\u001b[A\n",
      "Iteration:  39%|███▉      | 245/632 [00:33<00:49,  7.75it/s]\u001b[A\n",
      "Iteration:  39%|███▉      | 246/632 [00:33<00:50,  7.68it/s]\u001b[A\n",
      "Iteration:  39%|███▉      | 247/632 [00:33<00:51,  7.41it/s]\u001b[A\n",
      "Iteration:  39%|███▉      | 248/632 [00:34<00:52,  7.29it/s]\u001b[A\n",
      "Iteration:  39%|███▉      | 249/632 [00:34<00:53,  7.20it/s]\u001b[A\n",
      "Iteration:  40%|███▉      | 250/632 [00:34<00:54,  7.05it/s]\u001b[A\n",
      "Iteration:  40%|███▉      | 251/632 [00:34<00:51,  7.46it/s]\u001b[A\n",
      "Iteration:  40%|███▉      | 252/632 [00:34<00:50,  7.52it/s]\u001b[A\n",
      "Iteration:  40%|████      | 253/632 [00:34<00:51,  7.31it/s]\u001b[A\n",
      "Iteration:  40%|████      | 254/632 [00:34<00:50,  7.47it/s]\u001b[A\n",
      "Iteration:  40%|████      | 255/632 [00:34<00:48,  7.74it/s]\u001b[A\n",
      "Iteration:  41%|████      | 256/632 [00:35<00:49,  7.66it/s]\u001b[A\n",
      "Iteration:  41%|████      | 257/632 [00:35<00:51,  7.29it/s]\u001b[A\n"
     ]
    },
    {
     "name": "stderr",
     "output_type": "stream",
     "text": [
      "Iteration:  41%|████      | 258/632 [00:35<00:50,  7.35it/s]\u001b[A\n",
      "Iteration:  41%|████      | 259/632 [00:35<00:52,  7.11it/s]\u001b[A\n",
      "Iteration:  41%|████      | 260/632 [00:35<00:52,  7.08it/s]\u001b[A\n",
      "Iteration:  41%|████▏     | 261/632 [00:35<00:51,  7.26it/s]\u001b[A\n",
      "Iteration:  41%|████▏     | 262/632 [00:35<00:51,  7.12it/s]\u001b[A\n",
      "Iteration:  42%|████▏     | 263/632 [00:36<00:51,  7.15it/s]\u001b[A\n",
      "Iteration:  42%|████▏     | 264/632 [00:36<00:50,  7.28it/s]\u001b[A\n",
      "Iteration:  42%|████▏     | 265/632 [00:36<00:51,  7.11it/s]\u001b[A\n",
      "Iteration:  42%|████▏     | 266/632 [00:36<00:50,  7.22it/s]\u001b[A\n",
      "Iteration:  42%|████▏     | 267/632 [00:36<00:48,  7.46it/s]\u001b[A\n",
      "Iteration:  42%|████▏     | 268/632 [00:36<00:47,  7.62it/s]\u001b[A\n",
      "Iteration:  43%|████▎     | 269/632 [00:36<00:47,  7.70it/s]\u001b[A\n",
      "Iteration:  43%|████▎     | 270/632 [00:37<00:47,  7.54it/s]\u001b[A\n",
      "Iteration:  43%|████▎     | 271/632 [00:37<00:48,  7.49it/s]\u001b[A\n",
      "Iteration:  43%|████▎     | 272/632 [00:37<00:46,  7.76it/s]\u001b[A\n",
      "Iteration:  43%|████▎     | 273/632 [00:37<00:47,  7.57it/s]\u001b[A\n",
      "Iteration:  43%|████▎     | 274/632 [00:37<00:47,  7.52it/s]\u001b[A\n",
      "Iteration:  44%|████▎     | 275/632 [00:37<00:48,  7.35it/s]\u001b[A\n",
      "Iteration:  44%|████▎     | 276/632 [00:37<00:51,  6.95it/s]\u001b[A\n",
      "Iteration:  44%|████▍     | 277/632 [00:37<00:50,  7.01it/s]\u001b[A\n",
      "Iteration:  44%|████▍     | 278/632 [00:38<00:49,  7.11it/s]\u001b[A\n",
      "Iteration:  44%|████▍     | 279/632 [00:38<00:49,  7.09it/s]\u001b[A\n",
      "Iteration:  44%|████▍     | 280/632 [00:38<00:50,  7.01it/s]\u001b[A\n",
      "Iteration:  44%|████▍     | 281/632 [00:38<00:49,  7.08it/s]\u001b[A\n",
      "Iteration:  45%|████▍     | 282/632 [00:38<00:47,  7.30it/s]\u001b[A\n",
      "Iteration:  45%|████▍     | 283/632 [00:38<00:47,  7.28it/s]\u001b[A\n",
      "Iteration:  45%|████▍     | 284/632 [00:38<00:45,  7.63it/s]\u001b[A\n",
      "Iteration:  45%|████▌     | 285/632 [00:39<00:47,  7.33it/s]\u001b[A\n",
      "Iteration:  45%|████▌     | 286/632 [00:39<00:47,  7.34it/s]\u001b[A\n",
      "Iteration:  45%|████▌     | 287/632 [00:39<00:45,  7.51it/s]\u001b[A\n",
      "Iteration:  46%|████▌     | 288/632 [00:39<00:46,  7.35it/s]\u001b[A\n",
      "Iteration:  46%|████▌     | 289/632 [00:39<00:46,  7.39it/s]\u001b[A\n",
      "Iteration:  46%|████▌     | 290/632 [00:39<00:46,  7.38it/s]\u001b[A\n",
      "Iteration:  46%|████▌     | 291/632 [00:39<00:45,  7.51it/s]\u001b[A\n",
      "Iteration:  46%|████▌     | 292/632 [00:40<00:49,  6.94it/s]\u001b[A\n",
      "Iteration:  46%|████▋     | 293/632 [00:40<00:45,  7.38it/s]\u001b[A\n",
      "Iteration:  47%|████▋     | 294/632 [00:40<00:46,  7.34it/s]\u001b[A\n",
      "Iteration:  47%|████▋     | 295/632 [00:40<00:46,  7.29it/s]\u001b[A\n",
      "Iteration:  47%|████▋     | 296/632 [00:40<00:46,  7.23it/s]\u001b[A\n",
      "Iteration:  47%|████▋     | 297/632 [00:40<00:45,  7.37it/s]\u001b[A\n",
      "Iteration:  47%|████▋     | 298/632 [00:40<00:45,  7.42it/s]\u001b[A\n",
      "Iteration:  47%|████▋     | 299/632 [00:40<00:45,  7.30it/s]\u001b[A\n",
      "Iteration:  47%|████▋     | 300/632 [00:41<00:45,  7.28it/s]\u001b[A\n",
      "Iteration:  48%|████▊     | 301/632 [00:41<00:45,  7.20it/s]\u001b[A\n",
      "Iteration:  48%|████▊     | 302/632 [00:41<00:43,  7.55it/s]\u001b[A\n",
      "Iteration:  48%|████▊     | 303/632 [00:41<00:43,  7.57it/s]\u001b[A\n",
      "Iteration:  48%|████▊     | 304/632 [00:41<00:41,  7.82it/s]\u001b[A\n",
      "Iteration:  48%|████▊     | 305/632 [00:41<00:42,  7.63it/s]\u001b[A\n",
      "Iteration:  48%|████▊     | 306/632 [00:41<00:46,  6.97it/s]\u001b[A\n",
      "Iteration:  49%|████▊     | 307/632 [00:42<00:44,  7.34it/s]\u001b[A\n",
      "Iteration:  49%|████▊     | 308/632 [00:42<00:42,  7.60it/s]\u001b[A\n",
      "Iteration:  49%|████▉     | 309/632 [00:42<00:41,  7.81it/s]\u001b[A\n",
      "Iteration:  49%|████▉     | 310/632 [00:42<00:44,  7.24it/s]\u001b[A\n",
      "Iteration:  49%|████▉     | 311/632 [00:42<00:44,  7.22it/s]\u001b[A\n",
      "Iteration:  49%|████▉     | 312/632 [00:42<00:42,  7.51it/s]\u001b[A\n",
      "Iteration:  50%|████▉     | 313/632 [00:42<00:45,  7.05it/s]\u001b[A\n",
      "Iteration:  50%|████▉     | 314/632 [00:42<00:42,  7.44it/s]\u001b[A\n",
      "Iteration:  50%|████▉     | 315/632 [00:43<00:43,  7.29it/s]\u001b[A\n",
      "Iteration:  50%|█████     | 316/632 [00:43<00:41,  7.54it/s]\u001b[A\n",
      "Iteration:  50%|█████     | 317/632 [00:43<00:41,  7.54it/s]\u001b[A\n",
      "Iteration:  50%|█████     | 318/632 [00:43<00:42,  7.44it/s]\u001b[A\n",
      "Iteration:  50%|█████     | 319/632 [00:43<00:40,  7.67it/s]\u001b[A\n",
      "Iteration:  51%|█████     | 320/632 [00:43<00:39,  7.82it/s]\u001b[A\n",
      "Iteration:  51%|█████     | 321/632 [00:43<00:40,  7.63it/s]\u001b[A\n",
      "Iteration:  51%|█████     | 322/632 [00:44<00:39,  7.87it/s]\u001b[A\n",
      "Iteration:  51%|█████     | 323/632 [00:44<00:39,  7.88it/s]\u001b[A\n",
      "Iteration:  51%|█████▏    | 324/632 [00:44<00:40,  7.56it/s]\u001b[A\n",
      "Iteration:  51%|█████▏    | 325/632 [00:44<00:39,  7.84it/s]\u001b[A\n",
      "Iteration:  52%|█████▏    | 326/632 [00:44<00:42,  7.28it/s]\u001b[A\n",
      "Iteration:  52%|█████▏    | 327/632 [00:44<00:41,  7.30it/s]\u001b[A\n",
      "Iteration:  52%|█████▏    | 328/632 [00:44<00:40,  7.51it/s]\u001b[A\n",
      "Iteration:  52%|█████▏    | 329/632 [00:44<00:41,  7.34it/s]\u001b[A\n",
      "Iteration:  52%|█████▏    | 330/632 [00:45<00:40,  7.40it/s]\u001b[A\n",
      "Iteration:  52%|█████▏    | 331/632 [00:45<00:40,  7.35it/s]\u001b[A\n",
      "Iteration:  53%|█████▎    | 332/632 [00:45<00:41,  7.15it/s]\u001b[A\n",
      "Iteration:  53%|█████▎    | 333/632 [00:45<00:40,  7.37it/s]\u001b[A\n",
      "Iteration:  53%|█████▎    | 334/632 [00:45<00:40,  7.27it/s]\u001b[A\n",
      "Iteration:  53%|█████▎    | 335/632 [00:45<00:40,  7.40it/s]\u001b[A\n",
      "Iteration:  53%|█████▎    | 336/632 [00:45<00:41,  7.20it/s]\u001b[A\n",
      "Iteration:  53%|█████▎    | 337/632 [00:46<00:42,  7.00it/s]\u001b[A\n",
      "Iteration:  53%|█████▎    | 338/632 [00:46<00:42,  6.85it/s]\u001b[A\n",
      "Iteration:  54%|█████▎    | 339/632 [00:46<00:43,  6.71it/s]\u001b[A\n",
      "Iteration:  54%|█████▍    | 340/632 [00:46<00:41,  7.09it/s]\u001b[A\n",
      "Iteration:  54%|█████▍    | 341/632 [00:46<00:40,  7.17it/s]\u001b[A\n",
      "Iteration:  54%|█████▍    | 342/632 [00:46<00:40,  7.21it/s]\u001b[A\n",
      "Iteration:  54%|█████▍    | 343/632 [00:46<00:40,  7.20it/s]\u001b[A\n",
      "Iteration:  54%|█████▍    | 344/632 [00:47<00:38,  7.43it/s]\u001b[A\n",
      "Iteration:  55%|█████▍    | 345/632 [00:47<00:39,  7.32it/s]\u001b[A\n",
      "Iteration:  55%|█████▍    | 346/632 [00:47<00:41,  6.93it/s]\u001b[A\n",
      "Iteration:  55%|█████▍    | 347/632 [00:47<00:40,  6.97it/s]\u001b[A\n",
      "Iteration:  55%|█████▌    | 348/632 [00:47<00:38,  7.33it/s]\u001b[A\n",
      "Iteration:  55%|█████▌    | 349/632 [00:47<00:36,  7.66it/s]\u001b[A\n",
      "Iteration:  55%|█████▌    | 350/632 [00:47<00:37,  7.57it/s]\u001b[A\n",
      "Iteration:  56%|█████▌    | 351/632 [00:48<00:39,  7.09it/s]\u001b[A\n",
      "Iteration:  56%|█████▌    | 352/632 [00:48<00:37,  7.42it/s]\u001b[A\n",
      "Iteration:  56%|█████▌    | 353/632 [00:48<00:37,  7.47it/s]\u001b[A\n",
      "Iteration:  56%|█████▌    | 354/632 [00:48<00:37,  7.40it/s]\u001b[A\n",
      "Iteration:  56%|█████▌    | 355/632 [00:48<00:38,  7.10it/s]\u001b[A\n",
      "Iteration:  56%|█████▋    | 356/632 [00:48<00:38,  7.16it/s]\u001b[A\n",
      "Iteration:  56%|█████▋    | 357/632 [00:48<00:38,  7.18it/s]\u001b[A\n",
      "Iteration:  57%|█████▋    | 358/632 [00:48<00:37,  7.35it/s]\u001b[A\n",
      "Iteration:  57%|█████▋    | 359/632 [00:49<00:37,  7.28it/s]\u001b[A\n",
      "Iteration:  57%|█████▋    | 360/632 [00:49<00:37,  7.17it/s]\u001b[A\n",
      "Iteration:  57%|█████▋    | 361/632 [00:49<00:38,  7.10it/s]\u001b[A\n",
      "Iteration:  57%|█████▋    | 362/632 [00:49<00:37,  7.13it/s]\u001b[A\n",
      "Iteration:  57%|█████▋    | 363/632 [00:49<00:39,  6.90it/s]\u001b[A\n",
      "Iteration:  58%|█████▊    | 364/632 [00:49<00:37,  7.10it/s]\u001b[A\n",
      "Iteration:  58%|█████▊    | 365/632 [00:49<00:37,  7.15it/s]\u001b[A\n",
      "Iteration:  58%|█████▊    | 366/632 [00:50<00:36,  7.24it/s]\u001b[A\n",
      "Iteration:  58%|█████▊    | 367/632 [00:50<00:36,  7.25it/s]\u001b[A\n",
      "Iteration:  58%|█████▊    | 368/632 [00:50<00:35,  7.36it/s]\u001b[A\n",
      "Iteration:  58%|█████▊    | 369/632 [00:50<00:35,  7.50it/s]\u001b[A\n",
      "Iteration:  59%|█████▊    | 370/632 [00:50<00:36,  7.25it/s]\u001b[A\n",
      "Iteration:  59%|█████▊    | 371/632 [00:50<00:34,  7.51it/s]\u001b[A\n",
      "Iteration:  59%|█████▉    | 372/632 [00:50<00:34,  7.44it/s]\u001b[A\n",
      "Iteration:  59%|█████▉    | 373/632 [00:51<00:34,  7.40it/s]\u001b[A\n",
      "Iteration:  59%|█████▉    | 374/632 [00:51<00:35,  7.22it/s]\u001b[A\n",
      "Iteration:  59%|█████▉    | 375/632 [00:51<00:35,  7.33it/s]\u001b[A\n",
      "Iteration:  59%|█████▉    | 376/632 [00:51<00:35,  7.14it/s]\u001b[A\n",
      "Iteration:  60%|█████▉    | 377/632 [00:51<00:35,  7.12it/s]\u001b[A\n",
      "Iteration:  60%|█████▉    | 378/632 [00:51<00:35,  7.20it/s]\u001b[A\n",
      "Iteration:  60%|█████▉    | 379/632 [00:51<00:34,  7.24it/s]\u001b[A\n",
      "Iteration:  60%|██████    | 380/632 [00:52<00:35,  7.13it/s]\u001b[A\n",
      "Iteration:  60%|██████    | 381/632 [00:52<00:35,  7.09it/s]\u001b[A\n",
      "Iteration:  60%|██████    | 382/632 [00:52<00:34,  7.17it/s]\u001b[A\n",
      "Iteration:  61%|██████    | 383/632 [00:52<00:35,  6.92it/s]\u001b[A\n",
      "Iteration:  61%|██████    | 384/632 [00:52<00:35,  6.90it/s]\u001b[A\n",
      "Iteration:  61%|██████    | 385/632 [00:52<00:35,  6.97it/s]\u001b[A\n"
     ]
    },
    {
     "name": "stderr",
     "output_type": "stream",
     "text": [
      "Iteration:  61%|██████    | 386/632 [00:52<00:36,  6.80it/s]\u001b[A\n",
      "Iteration:  61%|██████    | 387/632 [00:53<00:35,  6.91it/s]\u001b[A\n",
      "Iteration:  61%|██████▏   | 388/632 [00:53<00:33,  7.25it/s]\u001b[A\n",
      "Iteration:  62%|██████▏   | 389/632 [00:53<00:34,  7.10it/s]\u001b[A\n",
      "Iteration:  62%|██████▏   | 390/632 [00:53<00:33,  7.14it/s]\u001b[A\n",
      "Iteration:  62%|██████▏   | 391/632 [00:53<00:32,  7.32it/s]\u001b[A\n",
      "Iteration:  62%|██████▏   | 392/632 [00:53<00:32,  7.40it/s]\u001b[A\n",
      "Iteration:  62%|██████▏   | 393/632 [00:53<00:32,  7.24it/s]\u001b[A\n",
      "Iteration:  62%|██████▏   | 394/632 [00:54<00:33,  7.13it/s]\u001b[A\n",
      "Iteration:  62%|██████▎   | 395/632 [00:54<00:33,  7.09it/s]\u001b[A\n",
      "Iteration:  63%|██████▎   | 396/632 [00:54<00:36,  6.47it/s]\u001b[A\n",
      "Iteration:  63%|██████▎   | 397/632 [00:54<00:34,  6.76it/s]\u001b[A\n",
      "Iteration:  63%|██████▎   | 398/632 [00:54<00:34,  6.84it/s]\u001b[A\n",
      "Iteration:  63%|██████▎   | 399/632 [00:54<00:33,  6.94it/s]\u001b[A\n",
      "Iteration:  63%|██████▎   | 400/632 [00:54<00:33,  6.83it/s]\u001b[A\n",
      "Iteration:  63%|██████▎   | 401/632 [00:55<00:33,  7.00it/s]\u001b[A\n",
      "Iteration:  64%|██████▎   | 402/632 [00:55<00:31,  7.28it/s]\u001b[A\n",
      "Iteration:  64%|██████▍   | 403/632 [00:55<00:31,  7.34it/s]\u001b[A\n",
      "Iteration:  64%|██████▍   | 404/632 [00:55<00:32,  7.05it/s]\u001b[A\n",
      "Iteration:  64%|██████▍   | 405/632 [00:55<00:31,  7.12it/s]\u001b[A\n",
      "Iteration:  64%|██████▍   | 406/632 [00:55<00:30,  7.31it/s]\u001b[A\n",
      "Iteration:  64%|██████▍   | 407/632 [00:55<00:32,  7.02it/s]\u001b[A\n",
      "Iteration:  65%|██████▍   | 408/632 [00:56<00:32,  6.98it/s]\u001b[A\n",
      "Iteration:  65%|██████▍   | 409/632 [00:56<00:31,  7.11it/s]\u001b[A\n",
      "Iteration:  65%|██████▍   | 410/632 [00:56<00:30,  7.23it/s]\u001b[A\n",
      "Iteration:  65%|██████▌   | 411/632 [00:56<00:31,  6.99it/s]\u001b[A\n",
      "Iteration:  65%|██████▌   | 412/632 [00:56<00:31,  7.00it/s]\u001b[A\n",
      "Iteration:  65%|██████▌   | 413/632 [00:56<00:30,  7.15it/s]\u001b[A\n",
      "Iteration:  66%|██████▌   | 414/632 [00:56<00:31,  6.92it/s]\u001b[A\n",
      "Iteration:  66%|██████▌   | 415/632 [00:57<00:30,  7.04it/s]\u001b[A\n",
      "Iteration:  66%|██████▌   | 416/632 [00:57<00:30,  7.00it/s]\u001b[A\n",
      "Iteration:  66%|██████▌   | 417/632 [00:57<00:30,  7.10it/s]\u001b[A\n",
      "Iteration:  66%|██████▌   | 418/632 [00:57<00:28,  7.40it/s]\u001b[A\n",
      "Iteration:  66%|██████▋   | 419/632 [00:57<00:28,  7.40it/s]\u001b[A\n",
      "Iteration:  66%|██████▋   | 420/632 [00:57<00:28,  7.32it/s]\u001b[A\n",
      "Iteration:  67%|██████▋   | 421/632 [00:57<00:29,  7.23it/s]\u001b[A\n",
      "Iteration:  67%|██████▋   | 422/632 [00:57<00:29,  7.22it/s]\u001b[A\n",
      "Iteration:  67%|██████▋   | 423/632 [00:58<00:28,  7.26it/s]\u001b[A\n",
      "Iteration:  67%|██████▋   | 424/632 [00:58<00:28,  7.29it/s]\u001b[A\n",
      "Iteration:  67%|██████▋   | 425/632 [00:58<00:27,  7.40it/s]\u001b[A\n",
      "Iteration:  67%|██████▋   | 426/632 [00:58<00:28,  7.31it/s]\u001b[A\n",
      "Iteration:  68%|██████▊   | 427/632 [00:58<00:27,  7.41it/s]\u001b[A\n",
      "Iteration:  68%|██████▊   | 428/632 [00:58<00:28,  7.13it/s]\u001b[A\n",
      "Iteration:  68%|██████▊   | 429/632 [00:58<00:28,  7.22it/s]\u001b[A\n",
      "Iteration:  68%|██████▊   | 430/632 [00:59<00:28,  7.20it/s]\u001b[A\n",
      "Iteration:  68%|██████▊   | 431/632 [00:59<00:28,  7.15it/s]\u001b[A\n",
      "Iteration:  68%|██████▊   | 432/632 [00:59<00:26,  7.45it/s]\u001b[A\n",
      "Iteration:  69%|██████▊   | 433/632 [00:59<00:26,  7.39it/s]\u001b[A\n",
      "Iteration:  69%|██████▊   | 434/632 [00:59<00:27,  7.33it/s]\u001b[A\n",
      "Iteration:  69%|██████▉   | 435/632 [00:59<00:26,  7.49it/s]\u001b[A\n",
      "Iteration:  69%|██████▉   | 436/632 [00:59<00:27,  7.18it/s]\u001b[A\n",
      "Iteration:  69%|██████▉   | 437/632 [01:00<00:26,  7.45it/s]\u001b[A\n",
      "Iteration:  69%|██████▉   | 438/632 [01:00<00:25,  7.56it/s]\u001b[A\n",
      "Iteration:  69%|██████▉   | 439/632 [01:00<00:25,  7.54it/s]\u001b[A\n",
      "Iteration:  70%|██████▉   | 440/632 [01:00<00:26,  7.23it/s]\u001b[A\n",
      "Iteration:  70%|██████▉   | 441/632 [01:00<00:25,  7.41it/s]\u001b[A\n",
      "Iteration:  70%|██████▉   | 442/632 [01:00<00:24,  7.72it/s]\u001b[A\n",
      "Iteration:  70%|███████   | 443/632 [01:00<00:24,  7.80it/s]\u001b[A\n",
      "Iteration:  70%|███████   | 444/632 [01:00<00:24,  7.56it/s]\u001b[A\n",
      "Iteration:  70%|███████   | 445/632 [01:01<00:24,  7.52it/s]\u001b[A\n",
      "Iteration:  71%|███████   | 446/632 [01:01<00:25,  7.34it/s]\u001b[A\n",
      "Iteration:  71%|███████   | 447/632 [01:01<00:25,  7.21it/s]\u001b[A\n",
      "Iteration:  71%|███████   | 448/632 [01:01<00:26,  7.01it/s]\u001b[A\n",
      "Iteration:  71%|███████   | 449/632 [01:01<00:26,  6.86it/s]\u001b[A\n",
      "Iteration:  71%|███████   | 450/632 [01:01<00:26,  6.91it/s]\u001b[A\n",
      "Iteration:  71%|███████▏  | 451/632 [01:01<00:25,  7.21it/s]\u001b[A\n",
      "Iteration:  72%|███████▏  | 452/632 [01:02<00:24,  7.24it/s]\u001b[A\n",
      "Iteration:  72%|███████▏  | 453/632 [01:02<00:24,  7.38it/s]\u001b[A\n",
      "Iteration:  72%|███████▏  | 454/632 [01:02<00:24,  7.19it/s]\u001b[A\n",
      "Iteration:  72%|███████▏  | 455/632 [01:02<00:25,  6.85it/s]\u001b[A\n",
      "Iteration:  72%|███████▏  | 456/632 [01:02<00:26,  6.62it/s]\u001b[A\n",
      "Iteration:  72%|███████▏  | 457/632 [01:02<00:25,  6.95it/s]\u001b[A\n",
      "Iteration:  72%|███████▏  | 458/632 [01:02<00:25,  6.77it/s]\u001b[A\n",
      "Iteration:  73%|███████▎  | 459/632 [01:03<00:24,  7.14it/s]\u001b[A\n",
      "Iteration:  73%|███████▎  | 460/632 [01:03<00:22,  7.49it/s]\u001b[A\n",
      "Iteration:  73%|███████▎  | 461/632 [01:03<00:21,  7.81it/s]\u001b[A\n",
      "Iteration:  73%|███████▎  | 462/632 [01:03<00:22,  7.49it/s]\u001b[A\n",
      "Iteration:  73%|███████▎  | 463/632 [01:03<00:23,  7.04it/s]\u001b[A\n",
      "Iteration:  73%|███████▎  | 464/632 [01:03<00:23,  7.22it/s]\u001b[A\n",
      "Iteration:  74%|███████▎  | 465/632 [01:03<00:22,  7.36it/s]\u001b[A\n",
      "Iteration:  74%|███████▎  | 466/632 [01:04<00:21,  7.67it/s]\u001b[A\n",
      "Iteration:  74%|███████▍  | 467/632 [01:04<00:21,  7.53it/s]\u001b[A\n",
      "Iteration:  74%|███████▍  | 468/632 [01:04<00:24,  6.75it/s]\u001b[A\n",
      "Iteration:  74%|███████▍  | 469/632 [01:04<00:23,  6.86it/s]\u001b[A\n",
      "Iteration:  74%|███████▍  | 470/632 [01:04<00:22,  7.20it/s]\u001b[A\n",
      "Iteration:  75%|███████▍  | 471/632 [01:04<00:22,  7.15it/s]\u001b[A\n",
      "Iteration:  75%|███████▍  | 472/632 [01:04<00:21,  7.32it/s]\u001b[A\n",
      "Iteration:  75%|███████▍  | 473/632 [01:04<00:21,  7.37it/s]\u001b[A\n",
      "Iteration:  75%|███████▌  | 474/632 [01:05<00:21,  7.32it/s]\u001b[A\n",
      "Iteration:  75%|███████▌  | 475/632 [01:05<00:21,  7.38it/s]\u001b[A\n",
      "Iteration:  75%|███████▌  | 476/632 [01:05<00:21,  7.41it/s]\u001b[A\n",
      "Iteration:  75%|███████▌  | 477/632 [01:05<00:21,  7.34it/s]\u001b[A\n",
      "Iteration:  76%|███████▌  | 478/632 [01:05<00:20,  7.51it/s]\u001b[A\n",
      "Iteration:  76%|███████▌  | 479/632 [01:05<00:20,  7.47it/s]\u001b[A\n",
      "Iteration:  76%|███████▌  | 480/632 [01:05<00:20,  7.42it/s]\u001b[A\n",
      "Iteration:  76%|███████▌  | 481/632 [01:06<00:20,  7.35it/s]\u001b[A\n",
      "Iteration:  76%|███████▋  | 482/632 [01:06<00:19,  7.55it/s]\u001b[A\n",
      "Iteration:  76%|███████▋  | 483/632 [01:06<00:19,  7.57it/s]\u001b[A\n",
      "Iteration:  77%|███████▋  | 484/632 [01:06<00:19,  7.58it/s]\u001b[A\n",
      "Iteration:  77%|███████▋  | 485/632 [01:06<00:18,  7.78it/s]\u001b[A\n",
      "Iteration:  77%|███████▋  | 486/632 [01:06<00:19,  7.62it/s]\u001b[A\n",
      "Iteration:  77%|███████▋  | 487/632 [01:06<00:20,  7.00it/s]\u001b[A\n",
      "Iteration:  77%|███████▋  | 488/632 [01:07<00:20,  6.86it/s]\u001b[A\n",
      "Iteration:  77%|███████▋  | 489/632 [01:07<00:20,  6.98it/s]\u001b[A\n",
      "Iteration:  78%|███████▊  | 490/632 [01:07<00:19,  7.15it/s]\u001b[A\n",
      "Iteration:  78%|███████▊  | 491/632 [01:07<00:19,  7.31it/s]\u001b[A\n",
      "Iteration:  78%|███████▊  | 492/632 [01:07<00:19,  7.23it/s]\u001b[A\n",
      "Iteration:  78%|███████▊  | 493/632 [01:07<00:19,  7.21it/s]\u001b[A\n",
      "Iteration:  78%|███████▊  | 494/632 [01:07<00:18,  7.40it/s]\u001b[A\n",
      "Iteration:  78%|███████▊  | 495/632 [01:07<00:18,  7.54it/s]\u001b[A\n",
      "Iteration:  78%|███████▊  | 496/632 [01:08<00:18,  7.49it/s]\u001b[A\n",
      "Iteration:  79%|███████▊  | 497/632 [01:08<00:18,  7.42it/s]\u001b[A\n",
      "Iteration:  79%|███████▉  | 498/632 [01:08<00:17,  7.68it/s]\u001b[A\n",
      "Iteration:  79%|███████▉  | 499/632 [01:08<00:17,  7.42it/s]\u001b[A\n",
      "Iteration:  79%|███████▉  | 500/632 [01:08<00:18,  7.22it/s]\u001b[A\n",
      "Iteration:  79%|███████▉  | 501/632 [01:08<00:18,  7.27it/s]\u001b[A\n",
      "Iteration:  79%|███████▉  | 502/632 [01:08<00:17,  7.35it/s]\u001b[A\n",
      "Iteration:  80%|███████▉  | 503/632 [01:09<00:17,  7.33it/s]\u001b[A\n",
      "Iteration:  80%|███████▉  | 504/632 [01:09<00:18,  7.09it/s]\u001b[A\n",
      "Iteration:  80%|███████▉  | 505/632 [01:09<00:17,  7.21it/s]\u001b[A\n",
      "Iteration:  80%|████████  | 506/632 [01:09<00:17,  7.27it/s]\u001b[A\n",
      "Iteration:  80%|████████  | 507/632 [01:09<00:16,  7.61it/s]\u001b[A\n",
      "Iteration:  80%|████████  | 508/632 [01:09<00:17,  7.13it/s]\u001b[A\n",
      "Iteration:  81%|████████  | 509/632 [01:09<00:16,  7.29it/s]\u001b[A\n",
      "Iteration:  81%|████████  | 510/632 [01:10<00:17,  7.01it/s]\u001b[A\n",
      "Iteration:  81%|████████  | 511/632 [01:10<00:17,  6.80it/s]\u001b[A\n",
      "Iteration:  81%|████████  | 512/632 [01:10<00:17,  6.93it/s]\u001b[A\n",
      "Iteration:  81%|████████  | 513/632 [01:10<00:16,  7.26it/s]\u001b[A\n"
     ]
    },
    {
     "name": "stderr",
     "output_type": "stream",
     "text": [
      "Iteration:  81%|████████▏ | 514/632 [01:10<00:15,  7.52it/s]\u001b[A\n",
      "Iteration:  81%|████████▏ | 515/632 [01:10<00:16,  7.28it/s]\u001b[A\n",
      "Iteration:  82%|████████▏ | 516/632 [01:10<00:16,  7.19it/s]\u001b[A\n",
      "Iteration:  82%|████████▏ | 517/632 [01:11<00:16,  6.83it/s]\u001b[A\n",
      "Iteration:  82%|████████▏ | 518/632 [01:11<00:16,  7.00it/s]\u001b[A\n",
      "Iteration:  82%|████████▏ | 519/632 [01:11<00:15,  7.21it/s]\u001b[A\n",
      "Iteration:  82%|████████▏ | 520/632 [01:11<00:14,  7.58it/s]\u001b[A\n",
      "Iteration:  82%|████████▏ | 521/632 [01:11<00:14,  7.50it/s]\u001b[A\n",
      "Iteration:  83%|████████▎ | 522/632 [01:11<00:15,  7.03it/s]\u001b[A\n",
      "Iteration:  83%|████████▎ | 523/632 [01:11<00:14,  7.46it/s]\u001b[A\n",
      "Iteration:  83%|████████▎ | 524/632 [01:11<00:14,  7.66it/s]\u001b[A\n",
      "Iteration:  83%|████████▎ | 525/632 [01:12<00:14,  7.55it/s]\u001b[A\n",
      "Iteration:  83%|████████▎ | 526/632 [01:12<00:14,  7.22it/s]\u001b[A\n",
      "Iteration:  83%|████████▎ | 527/632 [01:12<00:14,  7.20it/s]\u001b[A\n",
      "Iteration:  84%|████████▎ | 528/632 [01:12<00:14,  7.23it/s]\u001b[A\n",
      "Iteration:  84%|████████▎ | 529/632 [01:12<00:14,  7.25it/s]\u001b[A\n",
      "Iteration:  84%|████████▍ | 530/632 [01:12<00:14,  7.16it/s]\u001b[A\n",
      "Iteration:  84%|████████▍ | 531/632 [01:12<00:14,  7.08it/s]\u001b[A\n",
      "Iteration:  84%|████████▍ | 532/632 [01:13<00:13,  7.26it/s]\u001b[A\n",
      "Iteration:  84%|████████▍ | 533/632 [01:13<00:13,  7.40it/s]\u001b[A\n",
      "Iteration:  84%|████████▍ | 534/632 [01:13<00:14,  6.99it/s]\u001b[A\n",
      "Iteration:  85%|████████▍ | 535/632 [01:13<00:13,  7.03it/s]\u001b[A\n",
      "Iteration:  85%|████████▍ | 536/632 [01:13<00:13,  7.00it/s]\u001b[A\n",
      "Iteration:  85%|████████▍ | 537/632 [01:13<00:13,  7.24it/s]\u001b[A\n",
      "Iteration:  85%|████████▌ | 538/632 [01:13<00:13,  7.09it/s]\u001b[A\n",
      "Iteration:  85%|████████▌ | 539/632 [01:14<00:13,  7.03it/s]\u001b[A\n",
      "Iteration:  85%|████████▌ | 540/632 [01:14<00:13,  6.83it/s]\u001b[A\n",
      "Iteration:  86%|████████▌ | 541/632 [01:14<00:13,  6.89it/s]\u001b[A\n",
      "Iteration:  86%|████████▌ | 542/632 [01:14<00:13,  6.58it/s]\u001b[A\n",
      "Iteration:  86%|████████▌ | 543/632 [01:14<00:12,  6.88it/s]\u001b[A\n",
      "Iteration:  86%|████████▌ | 544/632 [01:14<00:11,  7.38it/s]\u001b[A\n",
      "Iteration:  86%|████████▌ | 545/632 [01:14<00:11,  7.42it/s]\u001b[A\n",
      "Iteration:  86%|████████▋ | 546/632 [01:15<00:11,  7.43it/s]\u001b[A\n",
      "Iteration:  87%|████████▋ | 547/632 [01:15<00:11,  7.16it/s]\u001b[A\n",
      "Iteration:  87%|████████▋ | 548/632 [01:15<00:11,  7.16it/s]\u001b[A\n",
      "Iteration:  87%|████████▋ | 549/632 [01:15<00:11,  7.16it/s]\u001b[A\n",
      "Iteration:  87%|████████▋ | 550/632 [01:15<00:11,  7.30it/s]\u001b[A\n",
      "Iteration:  87%|████████▋ | 551/632 [01:15<00:11,  7.22it/s]\u001b[A\n",
      "Iteration:  87%|████████▋ | 552/632 [01:15<00:11,  6.89it/s]\u001b[A\n",
      "Iteration:  88%|████████▊ | 553/632 [01:16<00:11,  6.77it/s]\u001b[A\n",
      "Iteration:  88%|████████▊ | 554/632 [01:16<00:11,  7.01it/s]\u001b[A\n",
      "Iteration:  88%|████████▊ | 555/632 [01:16<00:11,  6.83it/s]\u001b[A\n",
      "Iteration:  88%|████████▊ | 556/632 [01:16<00:10,  7.03it/s]\u001b[A\n",
      "Iteration:  88%|████████▊ | 557/632 [01:16<00:10,  7.22it/s]\u001b[A\n",
      "Iteration:  88%|████████▊ | 558/632 [01:16<00:09,  7.50it/s]\u001b[A\n",
      "Iteration:  88%|████████▊ | 559/632 [01:16<00:10,  7.25it/s]\u001b[A\n",
      "Iteration:  89%|████████▊ | 560/632 [01:17<00:10,  7.16it/s]\u001b[A\n",
      "Iteration:  89%|████████▉ | 561/632 [01:17<00:10,  6.81it/s]\u001b[A\n",
      "Iteration:  89%|████████▉ | 562/632 [01:17<00:10,  6.94it/s]\u001b[A\n",
      "Iteration:  89%|████████▉ | 563/632 [01:17<00:09,  7.15it/s]\u001b[A\n",
      "Iteration:  89%|████████▉ | 564/632 [01:17<00:09,  7.22it/s]\u001b[A\n",
      "Iteration:  89%|████████▉ | 565/632 [01:17<00:09,  7.20it/s]\u001b[A\n",
      "Iteration:  90%|████████▉ | 566/632 [01:17<00:08,  7.36it/s]\u001b[A\n",
      "Iteration:  90%|████████▉ | 567/632 [01:18<00:08,  7.28it/s]\u001b[A\n",
      "Iteration:  90%|████████▉ | 568/632 [01:18<00:09,  6.99it/s]\u001b[A\n",
      "Iteration:  90%|█████████ | 569/632 [01:18<00:08,  7.13it/s]\u001b[A\n",
      "Iteration:  90%|█████████ | 570/632 [01:18<00:08,  7.19it/s]\u001b[A\n",
      "Iteration:  90%|█████████ | 571/632 [01:18<00:08,  7.24it/s]\u001b[A\n",
      "Iteration:  91%|█████████ | 572/632 [01:18<00:08,  7.21it/s]\u001b[A\n",
      "Iteration:  91%|█████████ | 573/632 [01:18<00:08,  7.20it/s]\u001b[A\n",
      "Iteration:  91%|█████████ | 574/632 [01:19<00:08,  6.97it/s]\u001b[A\n",
      "Iteration:  91%|█████████ | 575/632 [01:19<00:07,  7.16it/s]\u001b[A\n",
      "Iteration:  91%|█████████ | 576/632 [01:19<00:07,  7.42it/s]\u001b[A\n",
      "Iteration:  91%|█████████▏| 577/632 [01:19<00:07,  7.28it/s]\u001b[A\n",
      "Iteration:  91%|█████████▏| 578/632 [01:19<00:07,  7.28it/s]\u001b[A\n",
      "Iteration:  92%|█████████▏| 579/632 [01:19<00:07,  7.27it/s]\u001b[A\n",
      "Iteration:  92%|█████████▏| 580/632 [01:19<00:06,  7.55it/s]\u001b[A\n",
      "Iteration:  92%|█████████▏| 581/632 [01:19<00:06,  7.63it/s]\u001b[A\n",
      "Iteration:  92%|█████████▏| 582/632 [01:20<00:06,  7.70it/s]\u001b[A\n",
      "Iteration:  92%|█████████▏| 583/632 [01:20<00:06,  7.58it/s]\u001b[A\n",
      "Iteration:  92%|█████████▏| 584/632 [01:20<00:06,  7.72it/s]\u001b[A\n",
      "Iteration:  93%|█████████▎| 585/632 [01:20<00:06,  7.66it/s]\u001b[A\n",
      "Iteration:  93%|█████████▎| 586/632 [01:20<00:05,  7.86it/s]\u001b[A\n",
      "Iteration:  93%|█████████▎| 587/632 [01:20<00:06,  7.35it/s]\u001b[A\n",
      "Iteration:  93%|█████████▎| 588/632 [01:20<00:06,  6.96it/s]\u001b[A\n",
      "Iteration:  93%|█████████▎| 589/632 [01:21<00:06,  6.61it/s]\u001b[A\n",
      "Iteration:  93%|█████████▎| 590/632 [01:21<00:06,  6.94it/s]\u001b[A\n",
      "Iteration:  94%|█████████▎| 591/632 [01:21<00:05,  7.24it/s]\u001b[A\n",
      "Iteration:  94%|█████████▎| 592/632 [01:21<00:06,  6.44it/s]\u001b[A\n",
      "Iteration:  94%|█████████▍| 593/632 [01:21<00:05,  7.01it/s]\u001b[A\n",
      "Iteration:  94%|█████████▍| 594/632 [01:21<00:05,  7.21it/s]\u001b[A\n",
      "Iteration:  94%|█████████▍| 595/632 [01:21<00:05,  7.22it/s]\u001b[A\n",
      "Iteration:  94%|█████████▍| 596/632 [01:22<00:04,  7.22it/s]\u001b[A\n",
      "Iteration:  94%|█████████▍| 597/632 [01:22<00:04,  7.22it/s]\u001b[A\n",
      "Iteration:  95%|█████████▍| 598/632 [01:22<00:04,  7.22it/s]\u001b[A\n",
      "Iteration:  95%|█████████▍| 599/632 [01:22<00:04,  7.26it/s]\u001b[A\n",
      "Iteration:  95%|█████████▍| 600/632 [01:22<00:04,  7.35it/s]\u001b[A\n",
      "Iteration:  95%|█████████▌| 601/632 [01:22<00:04,  7.29it/s]\u001b[A\n",
      "Iteration:  95%|█████████▌| 602/632 [01:22<00:04,  7.25it/s]\u001b[A\n",
      "Iteration:  95%|█████████▌| 603/632 [01:22<00:04,  7.24it/s]\u001b[A\n",
      "Iteration:  96%|█████████▌| 604/632 [01:23<00:03,  7.56it/s]\u001b[A\n",
      "Iteration:  96%|█████████▌| 605/632 [01:23<00:03,  7.31it/s]\u001b[A\n",
      "Iteration:  96%|█████████▌| 606/632 [01:23<00:03,  7.15it/s]\u001b[A\n",
      "Iteration:  96%|█████████▌| 607/632 [01:23<00:03,  7.51it/s]\u001b[A\n",
      "Iteration:  96%|█████████▌| 608/632 [01:23<00:03,  7.70it/s]\u001b[A\n",
      "Iteration:  96%|█████████▋| 609/632 [01:23<00:03,  7.49it/s]\u001b[A\n",
      "Iteration:  97%|█████████▋| 610/632 [01:23<00:03,  7.30it/s]\u001b[A\n",
      "Iteration:  97%|█████████▋| 611/632 [01:24<00:02,  7.31it/s]\u001b[A\n",
      "Iteration:  97%|█████████▋| 612/632 [01:24<00:02,  7.21it/s]\u001b[A\n",
      "Iteration:  97%|█████████▋| 613/632 [01:24<00:02,  6.91it/s]\u001b[A\n",
      "Iteration:  97%|█████████▋| 614/632 [01:24<00:02,  6.79it/s]\u001b[A\n",
      "Iteration:  97%|█████████▋| 615/632 [01:24<00:02,  6.73it/s]\u001b[A\n",
      "Iteration:  97%|█████████▋| 616/632 [01:24<00:02,  6.95it/s]\u001b[A\n",
      "Iteration:  98%|█████████▊| 617/632 [01:24<00:02,  7.08it/s]\u001b[A\n",
      "Iteration:  98%|█████████▊| 618/632 [01:25<00:02,  6.86it/s]\u001b[A\n",
      "Iteration:  98%|█████████▊| 619/632 [01:25<00:01,  6.90it/s]\u001b[A\n",
      "Iteration:  98%|█████████▊| 620/632 [01:25<00:01,  7.02it/s]\u001b[A\n",
      "Iteration:  98%|█████████▊| 621/632 [01:25<00:01,  6.60it/s]\u001b[A\n",
      "Iteration:  98%|█████████▊| 622/632 [01:25<00:01,  6.88it/s]\u001b[A\n",
      "Iteration:  99%|█████████▊| 623/632 [01:25<00:01,  6.17it/s]\u001b[A\n",
      "Iteration:  99%|█████████▊| 624/632 [01:26<00:01,  6.56it/s]\u001b[A\n",
      "Iteration:  99%|█████████▉| 625/632 [01:26<00:01,  6.86it/s]\u001b[A\n",
      "Iteration:  99%|█████████▉| 626/632 [01:26<00:00,  6.97it/s]\u001b[A\n",
      "Iteration:  99%|█████████▉| 627/632 [01:26<00:00,  7.16it/s]\u001b[A\n",
      "Iteration:  99%|█████████▉| 628/632 [01:26<00:00,  7.26it/s]\u001b[A\n",
      "Iteration: 100%|█████████▉| 629/632 [01:26<00:00,  7.08it/s]\u001b[A\n",
      "Iteration: 100%|█████████▉| 630/632 [01:26<00:00,  7.30it/s]\u001b[A\n",
      "Iteration: 100%|█████████▉| 631/632 [01:26<00:00,  7.28it/s]\u001b[A\n",
      "Iteration: 100%|██████████| 632/632 [01:27<00:00,  7.26it/s]\u001b[A\n",
      "Epoch:  50%|█████     | 2/4 [04:32<03:04, 92.37s/it]\n",
      "Convert Evaluating:   0%|          | 0/188 [00:00<?, ?it/s]\u001b[A\n",
      "Convert Evaluating:   3%|▎         | 5/188 [00:00<00:04, 45.61it/s]\u001b[A"
     ]
    },
    {
     "name": "stdout",
     "output_type": "stream",
     "text": [
      "2019-12-17 05:53:02 - Evaluation the model on  dataset after epoch 2:\n"
     ]
    },
    {
     "name": "stderr",
     "output_type": "stream",
     "text": [
      "\n",
      "Convert Evaluating:   5%|▌         | 10/188 [00:00<00:03, 46.04it/s]\u001b[A\n",
      "Convert Evaluating:   8%|▊         | 15/188 [00:00<00:03, 45.99it/s]\u001b[A\n",
      "Convert Evaluating:  11%|█         | 20/188 [00:00<00:03, 46.25it/s]\u001b[A\n",
      "Convert Evaluating:  13%|█▎        | 25/188 [00:00<00:03, 46.65it/s]\u001b[A\n",
      "Convert Evaluating:  16%|█▌        | 30/188 [00:00<00:03, 46.89it/s]\u001b[A\n",
      "Convert Evaluating:  19%|█▊        | 35/188 [00:00<00:03, 46.57it/s]\u001b[A\n",
      "Convert Evaluating:  21%|██▏       | 40/188 [00:00<00:03, 45.98it/s]\u001b[A\n",
      "Convert Evaluating:  24%|██▍       | 45/188 [00:00<00:03, 45.91it/s]\u001b[A\n",
      "Convert Evaluating:  27%|██▋       | 50/188 [00:01<00:03, 45.80it/s]\u001b[A\n",
      "Convert Evaluating:  29%|██▉       | 55/188 [00:01<00:02, 45.87it/s]\u001b[A\n",
      "Convert Evaluating:  32%|███▏      | 60/188 [00:01<00:02, 45.11it/s]\u001b[A\n",
      "Convert Evaluating:  35%|███▍      | 65/188 [00:01<00:02, 44.58it/s]\u001b[A\n",
      "Convert Evaluating:  37%|███▋      | 70/188 [00:01<00:02, 44.62it/s]\u001b[A\n",
      "Convert Evaluating:  40%|███▉      | 75/188 [00:01<00:02, 44.65it/s]\u001b[A\n",
      "Convert Evaluating:  43%|████▎     | 80/188 [00:01<00:02, 42.61it/s]\u001b[A\n",
      "Convert Evaluating:  45%|████▌     | 85/188 [00:01<00:02, 40.09it/s]\u001b[A\n",
      "Convert Evaluating:  48%|████▊     | 90/188 [00:02<00:02, 38.57it/s]\u001b[A\n",
      "Convert Evaluating:  50%|█████     | 94/188 [00:02<00:02, 38.11it/s]\u001b[A\n",
      "Convert Evaluating:  52%|█████▏    | 98/188 [00:02<00:02, 34.57it/s]\u001b[A\n",
      "Convert Evaluating:  54%|█████▍    | 102/188 [00:02<00:02, 35.72it/s]\u001b[A\n",
      "Convert Evaluating:  56%|█████▋    | 106/188 [00:02<00:02, 35.91it/s]\u001b[A\n",
      "Convert Evaluating:  59%|█████▊    | 110/188 [00:02<00:02, 35.77it/s]\u001b[A\n",
      "Convert Evaluating:  61%|██████    | 114/188 [00:02<00:02, 35.62it/s]\u001b[A\n",
      "Convert Evaluating:  63%|██████▎   | 118/188 [00:02<00:01, 35.64it/s]\u001b[A\n",
      "Convert Evaluating:  65%|██████▍   | 122/188 [00:02<00:01, 36.13it/s]\u001b[A\n",
      "Convert Evaluating:  67%|██████▋   | 126/188 [00:03<00:01, 35.69it/s]\u001b[A\n",
      "Convert Evaluating:  69%|██████▉   | 130/188 [00:03<00:01, 33.70it/s]\u001b[A\n",
      "Convert Evaluating:  71%|███████▏  | 134/188 [00:03<00:01, 32.23it/s]\u001b[A\n",
      "Convert Evaluating:  73%|███████▎  | 138/188 [00:03<00:01, 31.26it/s]\u001b[A\n",
      "Convert Evaluating:  76%|███████▌  | 142/188 [00:03<00:01, 29.87it/s]\u001b[A\n",
      "Convert Evaluating:  78%|███████▊  | 146/188 [00:03<00:01, 29.08it/s]\u001b[A\n",
      "Convert Evaluating:  80%|███████▉  | 150/188 [00:03<00:01, 29.82it/s]\u001b[A\n",
      "Convert Evaluating:  82%|████████▏ | 154/188 [00:04<00:01, 28.77it/s]\u001b[A\n",
      "Convert Evaluating:  84%|████████▍ | 158/188 [00:04<00:00, 30.10it/s]\u001b[A\n",
      "Convert Evaluating:  87%|████████▋ | 163/188 [00:04<00:00, 33.43it/s]\u001b[A\n",
      "Convert Evaluating:  89%|████████▉ | 168/188 [00:04<00:00, 36.32it/s]\u001b[A\n",
      "Convert Evaluating:  92%|█████████▏| 173/188 [00:04<00:00, 38.65it/s]\u001b[A\n",
      "Convert Evaluating:  95%|█████████▍| 178/188 [00:04<00:00, 40.40it/s]\u001b[A\n",
      "Convert Evaluating:  97%|█████████▋| 183/188 [00:04<00:00, 41.59it/s]\u001b[A\n",
      "Convert Evaluating: 100%|██████████| 188/188 [00:04<00:00, 38.81it/s]\u001b[A\n",
      "Epoch:  50%|█████     | 2/4 [04:37<03:04, 92.37s/it]"
     ]
    },
    {
     "name": "stdout",
     "output_type": "stream",
     "text": [
      "2019-12-17 05:53:07 - Cosine-Similarity :\tPearson: 0.8747\tSpearman: 0.8778\n",
      "2019-12-17 05:53:07 - Manhattan-Distance:\tPearson: 0.8568\tSpearman: 0.8621\n",
      "2019-12-17 05:53:07 - Euclidean-Distance:\tPearson: 0.8580\tSpearman: 0.8628\n",
      "2019-12-17 05:53:07 - Dot-Product-Similarity:\tPearson: 0.8074\tSpearman: 0.8212\n",
      "2019-12-17 05:53:07 - Save model to output/training_stsbenchmark_continue_training-roberta-base-nli-stsb-mean-tokens-2019-12-17_05-48-22\n",
      "2019-12-17 05:53:07 - Configuration saved in output/training_stsbenchmark_continue_training-roberta-base-nli-stsb-mean-tokens-2019-12-17_05-48-22/0_RoBERTa/config.json\n"
     ]
    },
    {
     "name": "stderr",
     "output_type": "stream",
     "text": [
      "Epoch:  75%|███████▌  | 3/4 [04:38<01:32, 92.74s/it]\n",
      "Iteration:   0%|          | 0/632 [00:00<?, ?it/s]\u001b[A\n",
      "                                                    \n",
      "Epoch:  75%|███████▌  | 3/4 [04:38<01:32, 92.74s/it]A"
     ]
    },
    {
     "name": "stdout",
     "output_type": "stream",
     "text": [
      "2019-12-17 05:53:09 - Model weights saved in output/training_stsbenchmark_continue_training-roberta-base-nli-stsb-mean-tokens-2019-12-17_05-48-22/0_RoBERTa/pytorch_model.bin\n",
      "2019-12-17 05:53:09 - Restart data_iterator\n"
     ]
    },
    {
     "name": "stderr",
     "output_type": "stream",
     "text": [
      "\n",
      "Iteration:   0%|          | 1/632 [00:00<01:28,  7.12it/s]\u001b[A\n",
      "Iteration:   0%|          | 2/632 [00:00<01:28,  7.15it/s]\u001b[A\n",
      "Iteration:   0%|          | 3/632 [00:00<01:29,  7.00it/s]\u001b[A\n",
      "Iteration:   1%|          | 4/632 [00:00<01:28,  7.13it/s]\u001b[A\n",
      "Iteration:   1%|          | 5/632 [00:00<01:28,  7.09it/s]\u001b[A\n",
      "Iteration:   1%|          | 6/632 [00:00<01:22,  7.56it/s]\u001b[A\n",
      "Iteration:   1%|          | 7/632 [00:00<01:21,  7.71it/s]\u001b[A\n",
      "Iteration:   1%|▏         | 8/632 [00:01<01:22,  7.56it/s]\u001b[A\n",
      "Iteration:   1%|▏         | 9/632 [00:01<01:28,  7.06it/s]\u001b[A\n",
      "Iteration:   2%|▏         | 10/632 [00:01<01:23,  7.49it/s]\u001b[A\n",
      "Iteration:   2%|▏         | 11/632 [00:01<01:23,  7.45it/s]\u001b[A\n",
      "Iteration:   2%|▏         | 12/632 [00:01<01:24,  7.37it/s]\u001b[A\n",
      "Iteration:   2%|▏         | 13/632 [00:01<01:24,  7.32it/s]\u001b[A\n",
      "Iteration:   2%|▏         | 14/632 [00:01<01:23,  7.42it/s]\u001b[A\n",
      "Iteration:   2%|▏         | 15/632 [00:02<01:22,  7.47it/s]\u001b[A\n",
      "Iteration:   3%|▎         | 16/632 [00:02<01:20,  7.66it/s]\u001b[A\n",
      "Iteration:   3%|▎         | 17/632 [00:02<01:19,  7.73it/s]\u001b[A\n",
      "Iteration:   3%|▎         | 18/632 [00:02<01:16,  7.99it/s]\u001b[A\n",
      "Iteration:   3%|▎         | 19/632 [00:02<01:18,  7.81it/s]\u001b[A\n",
      "Iteration:   3%|▎         | 20/632 [00:02<01:21,  7.54it/s]\u001b[A\n",
      "Iteration:   3%|▎         | 21/632 [00:02<01:19,  7.70it/s]\u001b[A\n",
      "Iteration:   3%|▎         | 22/632 [00:02<01:25,  7.16it/s]\u001b[A\n",
      "Iteration:   4%|▎         | 23/632 [00:03<01:26,  7.07it/s]\u001b[A\n",
      "Iteration:   4%|▍         | 24/632 [00:03<01:25,  7.10it/s]\u001b[A\n",
      "Iteration:   4%|▍         | 25/632 [00:03<01:23,  7.30it/s]\u001b[A\n",
      "Iteration:   4%|▍         | 26/632 [00:03<01:25,  7.07it/s]\u001b[A\n",
      "Iteration:   4%|▍         | 27/632 [00:03<01:24,  7.14it/s]\u001b[A\n",
      "Iteration:   4%|▍         | 28/632 [00:03<01:23,  7.21it/s]\u001b[A\n",
      "Iteration:   5%|▍         | 29/632 [00:03<01:22,  7.31it/s]\u001b[A\n",
      "Iteration:   5%|▍         | 30/632 [00:04<01:21,  7.37it/s]\u001b[A\n",
      "Iteration:   5%|▍         | 31/632 [00:04<01:21,  7.33it/s]\u001b[A\n",
      "Iteration:   5%|▌         | 32/632 [00:04<01:19,  7.52it/s]\u001b[A\n",
      "Iteration:   5%|▌         | 33/632 [00:04<01:17,  7.73it/s]\u001b[A\n",
      "Iteration:   5%|▌         | 34/632 [00:04<01:17,  7.67it/s]\u001b[A\n",
      "Iteration:   6%|▌         | 35/632 [00:04<01:22,  7.24it/s]\u001b[A\n",
      "Iteration:   6%|▌         | 36/632 [00:04<01:20,  7.38it/s]\u001b[A\n",
      "Iteration:   6%|▌         | 37/632 [00:04<01:18,  7.55it/s]\u001b[A\n",
      "Iteration:   6%|▌         | 38/632 [00:05<01:17,  7.66it/s]\u001b[A\n",
      "Iteration:   6%|▌         | 39/632 [00:05<01:22,  7.15it/s]\u001b[A\n",
      "Iteration:   6%|▋         | 40/632 [00:05<01:18,  7.55it/s]\u001b[A\n",
      "Iteration:   6%|▋         | 41/632 [00:05<01:20,  7.32it/s]\u001b[A\n",
      "Iteration:   7%|▋         | 42/632 [00:05<01:21,  7.22it/s]\u001b[A\n",
      "Iteration:   7%|▋         | 43/632 [00:05<01:25,  6.87it/s]\u001b[A\n",
      "Iteration:   7%|▋         | 44/632 [00:05<01:25,  6.91it/s]\u001b[A\n",
      "Iteration:   7%|▋         | 45/632 [00:06<01:21,  7.17it/s]\u001b[A\n",
      "Iteration:   7%|▋         | 46/632 [00:06<01:20,  7.27it/s]\u001b[A\n",
      "Iteration:   7%|▋         | 47/632 [00:06<01:17,  7.55it/s]\u001b[A\n",
      "Iteration:   8%|▊         | 48/632 [00:06<01:21,  7.18it/s]\u001b[A\n",
      "Iteration:   8%|▊         | 49/632 [00:06<01:21,  7.20it/s]\u001b[A\n",
      "Iteration:   8%|▊         | 50/632 [00:06<01:19,  7.33it/s]\u001b[A\n",
      "Iteration:   8%|▊         | 51/632 [00:06<01:22,  7.04it/s]\u001b[A\n",
      "Iteration:   8%|▊         | 52/632 [00:07<01:23,  6.99it/s]\u001b[A\n",
      "Iteration:   8%|▊         | 53/632 [00:07<01:20,  7.20it/s]\u001b[A\n",
      "Iteration:   9%|▊         | 54/632 [00:07<01:18,  7.35it/s]\u001b[A\n",
      "Iteration:   9%|▊         | 55/632 [00:07<01:19,  7.25it/s]\u001b[A\n",
      "Iteration:   9%|▉         | 56/632 [00:07<01:15,  7.67it/s]\u001b[A\n",
      "Iteration:   9%|▉         | 57/632 [00:07<01:17,  7.47it/s]\u001b[A\n",
      "Iteration:   9%|▉         | 58/632 [00:07<01:16,  7.52it/s]\u001b[A\n",
      "Iteration:   9%|▉         | 59/632 [00:08<01:15,  7.59it/s]\u001b[A\n",
      "Iteration:   9%|▉         | 60/632 [00:08<01:18,  7.25it/s]\u001b[A\n",
      "Iteration:  10%|▉         | 61/632 [00:08<01:17,  7.37it/s]\u001b[A\n",
      "Iteration:  10%|▉         | 62/632 [00:08<01:18,  7.25it/s]\u001b[A\n",
      "Iteration:  10%|▉         | 63/632 [00:08<01:20,  7.03it/s]\u001b[A\n",
      "Iteration:  10%|█         | 64/632 [00:08<01:16,  7.43it/s]\u001b[A\n",
      "Iteration:  10%|█         | 65/632 [00:08<01:19,  7.10it/s]\u001b[A\n",
      "Iteration:  10%|█         | 66/632 [00:09<01:19,  7.08it/s]\u001b[A\n",
      "Iteration:  11%|█         | 67/632 [00:09<01:15,  7.44it/s]\u001b[A\n",
      "Iteration:  11%|█         | 68/632 [00:09<01:13,  7.66it/s]\u001b[A\n",
      "Iteration:  11%|█         | 69/632 [00:09<01:18,  7.15it/s]\u001b[A\n",
      "Iteration:  11%|█         | 70/632 [00:09<01:19,  7.09it/s]\u001b[A\n",
      "Iteration:  11%|█         | 71/632 [00:09<01:17,  7.22it/s]\u001b[A\n",
      "Iteration:  11%|█▏        | 72/632 [00:09<01:21,  6.87it/s]\u001b[A\n",
      "Iteration:  12%|█▏        | 73/632 [00:09<01:20,  6.92it/s]\u001b[A\n",
      "Iteration:  12%|█▏        | 74/632 [00:10<01:19,  7.01it/s]\u001b[A\n",
      "Iteration:  12%|█▏        | 75/632 [00:10<01:15,  7.39it/s]\u001b[A\n",
      "Iteration:  12%|█▏        | 76/632 [00:10<01:19,  7.02it/s]\u001b[A\n",
      "Iteration:  12%|█▏        | 77/632 [00:10<01:21,  6.83it/s]\u001b[A\n",
      "Iteration:  12%|█▏        | 78/632 [00:10<01:19,  6.98it/s]\u001b[A\n",
      "Iteration:  12%|█▎        | 79/632 [00:10<01:17,  7.17it/s]\u001b[A\n",
      "Iteration:  13%|█▎        | 80/632 [00:10<01:16,  7.20it/s]\u001b[A\n",
      "Iteration:  13%|█▎        | 81/632 [00:11<01:18,  7.00it/s]\u001b[A\n",
      "Iteration:  13%|█▎        | 82/632 [00:11<01:18,  6.96it/s]\u001b[A\n",
      "Iteration:  13%|█▎        | 83/632 [00:11<01:17,  7.13it/s]\u001b[A\n",
      "Iteration:  13%|█▎        | 84/632 [00:11<01:12,  7.52it/s]\u001b[A\n",
      "Iteration:  13%|█▎        | 85/632 [00:11<01:09,  7.86it/s]\u001b[A\n",
      "Iteration:  14%|█▎        | 86/632 [00:11<01:13,  7.42it/s]\u001b[A\n",
      "Iteration:  14%|█▍        | 87/632 [00:11<01:13,  7.37it/s]\u001b[A\n",
      "Iteration:  14%|█▍        | 88/632 [00:12<01:16,  7.15it/s]\u001b[A\n",
      "Iteration:  14%|█▍        | 89/632 [00:12<01:14,  7.29it/s]\u001b[A\n",
      "Iteration:  14%|█▍        | 90/632 [00:12<01:14,  7.25it/s]\u001b[A\n",
      "Iteration:  14%|█▍        | 91/632 [00:12<01:17,  6.99it/s]\u001b[A\n",
      "Iteration:  15%|█▍        | 92/632 [00:12<01:16,  7.07it/s]\u001b[A\n",
      "Iteration:  15%|█▍        | 93/632 [00:12<01:13,  7.35it/s]\u001b[A\n",
      "Iteration:  15%|█▍        | 94/632 [00:12<01:13,  7.32it/s]\u001b[A\n",
      "Iteration:  15%|█▌        | 95/632 [00:13<01:11,  7.52it/s]\u001b[A\n",
      "Iteration:  15%|█▌        | 96/632 [00:13<01:11,  7.52it/s]\u001b[A\n",
      "Iteration:  15%|█▌        | 97/632 [00:13<01:08,  7.86it/s]\u001b[A\n",
      "Iteration:  16%|█▌        | 98/632 [00:13<01:08,  7.76it/s]\u001b[A\n",
      "Iteration:  16%|█▌        | 99/632 [00:13<01:07,  7.89it/s]\u001b[A\n",
      "Iteration:  16%|█▌        | 100/632 [00:13<01:10,  7.52it/s]\u001b[A\n",
      "Iteration:  16%|█▌        | 101/632 [00:13<01:12,  7.33it/s]\u001b[A\n",
      "Iteration:  16%|█▌        | 102/632 [00:13<01:14,  7.09it/s]\u001b[A\n",
      "Iteration:  16%|█▋        | 103/632 [00:14<01:14,  7.14it/s]\u001b[A\n",
      "Iteration:  16%|█▋        | 104/632 [00:14<01:13,  7.16it/s]\u001b[A\n",
      "Iteration:  17%|█▋        | 105/632 [00:14<01:13,  7.13it/s]\u001b[A\n",
      "Iteration:  17%|█▋        | 106/632 [00:14<01:13,  7.14it/s]\u001b[A\n",
      "Iteration:  17%|█▋        | 107/632 [00:14<01:12,  7.22it/s]\u001b[A\n",
      "Iteration:  17%|█▋        | 108/632 [00:14<01:12,  7.20it/s]\u001b[A\n",
      "Iteration:  17%|█▋        | 109/632 [00:14<01:22,  6.33it/s]\u001b[A\n",
      "Iteration:  17%|█▋        | 110/632 [00:15<01:18,  6.61it/s]\u001b[A\n",
      "Iteration:  18%|█▊        | 111/632 [00:15<01:18,  6.64it/s]\u001b[A\n",
      "Iteration:  18%|█▊        | 112/632 [00:15<01:17,  6.75it/s]\u001b[A\n",
      "Iteration:  18%|█▊        | 113/632 [00:15<01:14,  6.97it/s]\u001b[A\n",
      "Iteration:  18%|█▊        | 114/632 [00:15<01:13,  7.08it/s]\u001b[A\n",
      "Iteration:  18%|█▊        | 115/632 [00:15<01:12,  7.13it/s]\u001b[A\n",
      "Iteration:  18%|█▊        | 116/632 [00:15<01:13,  7.00it/s]\u001b[A\n",
      "Iteration:  19%|█▊        | 117/632 [00:16<01:09,  7.36it/s]\u001b[A\n",
      "Iteration:  19%|█▊        | 118/632 [00:16<01:11,  7.20it/s]\u001b[A\n",
      "Iteration:  19%|█▉        | 119/632 [00:16<01:14,  6.92it/s]\u001b[A\n",
      "Iteration:  19%|█▉        | 120/632 [00:16<01:09,  7.34it/s]\u001b[A\n",
      "Iteration:  19%|█▉        | 121/632 [00:16<01:09,  7.34it/s]\u001b[A\n",
      "Iteration:  19%|█▉        | 122/632 [00:16<01:06,  7.64it/s]\u001b[A\n",
      "Iteration:  19%|█▉        | 123/632 [00:16<01:08,  7.47it/s]\u001b[A\n",
      "Iteration:  20%|█▉        | 124/632 [00:17<01:08,  7.38it/s]\u001b[A\n",
      "Iteration:  20%|█▉        | 125/632 [00:17<01:06,  7.57it/s]\u001b[A\n",
      "Iteration:  20%|█▉        | 126/632 [00:17<01:07,  7.50it/s]\u001b[A\n",
      "Iteration:  20%|██        | 127/632 [00:17<01:06,  7.57it/s]\u001b[A\n",
      "Iteration:  20%|██        | 128/632 [00:17<01:09,  7.25it/s]\u001b[A\n",
      "Iteration:  20%|██        | 129/632 [00:17<01:11,  7.08it/s]\u001b[A\n"
     ]
    },
    {
     "name": "stderr",
     "output_type": "stream",
     "text": [
      "Iteration:  21%|██        | 130/632 [00:17<01:06,  7.53it/s]\u001b[A\n",
      "Iteration:  21%|██        | 131/632 [00:18<01:10,  7.07it/s]\u001b[A\n",
      "Iteration:  21%|██        | 132/632 [00:18<01:09,  7.22it/s]\u001b[A\n",
      "Iteration:  21%|██        | 133/632 [00:18<01:09,  7.16it/s]\u001b[A\n",
      "Iteration:  21%|██        | 134/632 [00:18<01:09,  7.17it/s]\u001b[A\n",
      "Iteration:  21%|██▏       | 135/632 [00:18<01:06,  7.43it/s]\u001b[A\n",
      "Iteration:  22%|██▏       | 136/632 [00:18<01:06,  7.45it/s]\u001b[A\n",
      "Iteration:  22%|██▏       | 137/632 [00:18<01:07,  7.32it/s]\u001b[A\n",
      "Iteration:  22%|██▏       | 138/632 [00:18<01:06,  7.40it/s]\u001b[A\n",
      "Iteration:  22%|██▏       | 139/632 [00:19<01:05,  7.54it/s]\u001b[A\n",
      "Iteration:  22%|██▏       | 140/632 [00:19<01:04,  7.63it/s]\u001b[A\n",
      "Iteration:  22%|██▏       | 141/632 [00:19<01:05,  7.54it/s]\u001b[A\n",
      "Iteration:  22%|██▏       | 142/632 [00:19<01:05,  7.53it/s]\u001b[A\n",
      "Iteration:  23%|██▎       | 143/632 [00:19<01:02,  7.78it/s]\u001b[A\n",
      "Iteration:  23%|██▎       | 144/632 [00:19<01:02,  7.75it/s]\u001b[A\n",
      "Iteration:  23%|██▎       | 145/632 [00:19<01:02,  7.76it/s]\u001b[A\n",
      "Iteration:  23%|██▎       | 146/632 [00:19<01:02,  7.81it/s]\u001b[A\n",
      "Iteration:  23%|██▎       | 147/632 [00:20<01:03,  7.63it/s]\u001b[A\n",
      "Iteration:  23%|██▎       | 148/632 [00:20<01:00,  7.94it/s]\u001b[A\n",
      "Iteration:  24%|██▎       | 149/632 [00:20<01:01,  7.87it/s]\u001b[A\n",
      "Iteration:  24%|██▎       | 150/632 [00:20<01:03,  7.60it/s]\u001b[A\n",
      "Iteration:  24%|██▍       | 151/632 [00:20<01:02,  7.64it/s]\u001b[A\n",
      "Iteration:  24%|██▍       | 152/632 [00:20<01:03,  7.60it/s]\u001b[A\n",
      "Iteration:  24%|██▍       | 153/632 [00:20<01:05,  7.36it/s]\u001b[A\n",
      "Iteration:  24%|██▍       | 154/632 [00:21<01:02,  7.61it/s]\u001b[A\n",
      "Iteration:  25%|██▍       | 155/632 [00:21<01:00,  7.88it/s]\u001b[A\n",
      "Iteration:  25%|██▍       | 156/632 [00:21<01:02,  7.65it/s]\u001b[A\n",
      "Iteration:  25%|██▍       | 157/632 [00:21<01:01,  7.71it/s]\u001b[A\n",
      "Iteration:  25%|██▌       | 158/632 [00:21<01:01,  7.73it/s]\u001b[A\n",
      "Iteration:  25%|██▌       | 159/632 [00:21<01:01,  7.66it/s]\u001b[A\n",
      "Iteration:  25%|██▌       | 160/632 [00:21<01:02,  7.50it/s]\u001b[A\n",
      "Iteration:  25%|██▌       | 161/632 [00:21<01:03,  7.36it/s]\u001b[A\n",
      "Iteration:  26%|██▌       | 162/632 [00:22<01:07,  6.99it/s]\u001b[A\n",
      "Iteration:  26%|██▌       | 163/632 [00:22<01:03,  7.39it/s]\u001b[A\n",
      "Iteration:  26%|██▌       | 164/632 [00:22<01:02,  7.45it/s]\u001b[A\n",
      "Iteration:  26%|██▌       | 165/632 [00:22<01:00,  7.69it/s]\u001b[A\n",
      "Iteration:  26%|██▋       | 166/632 [00:22<01:02,  7.40it/s]\u001b[A\n",
      "Iteration:  26%|██▋       | 167/632 [00:22<01:02,  7.46it/s]\u001b[A\n",
      "Iteration:  27%|██▋       | 168/632 [00:22<00:59,  7.76it/s]\u001b[A\n",
      "Iteration:  27%|██▋       | 169/632 [00:23<00:59,  7.75it/s]\u001b[A\n",
      "Iteration:  27%|██▋       | 170/632 [00:23<01:03,  7.33it/s]\u001b[A\n",
      "Iteration:  27%|██▋       | 171/632 [00:23<01:01,  7.50it/s]\u001b[A\n",
      "Iteration:  27%|██▋       | 172/632 [00:23<01:00,  7.56it/s]\u001b[A\n",
      "Iteration:  27%|██▋       | 173/632 [00:23<01:03,  7.29it/s]\u001b[A\n",
      "Iteration:  28%|██▊       | 174/632 [00:23<01:02,  7.27it/s]\u001b[A\n",
      "Iteration:  28%|██▊       | 175/632 [00:23<01:04,  7.03it/s]\u001b[A\n",
      "Iteration:  28%|██▊       | 176/632 [00:24<01:03,  7.17it/s]\u001b[A\n",
      "Iteration:  28%|██▊       | 177/632 [00:24<01:01,  7.46it/s]\u001b[A\n",
      "Iteration:  28%|██▊       | 178/632 [00:24<00:58,  7.78it/s]\u001b[A\n",
      "Iteration:  28%|██▊       | 179/632 [00:24<00:57,  7.95it/s]\u001b[A\n",
      "Iteration:  28%|██▊       | 180/632 [00:24<00:59,  7.57it/s]\u001b[A\n",
      "Iteration:  29%|██▊       | 181/632 [00:24<00:59,  7.59it/s]\u001b[A\n",
      "Iteration:  29%|██▉       | 182/632 [00:24<00:58,  7.63it/s]\u001b[A\n",
      "Iteration:  29%|██▉       | 183/632 [00:24<00:59,  7.55it/s]\u001b[A\n",
      "Iteration:  29%|██▉       | 184/632 [00:25<01:03,  7.07it/s]\u001b[A\n",
      "Iteration:  29%|██▉       | 185/632 [00:25<01:05,  6.79it/s]\u001b[A\n",
      "Iteration:  29%|██▉       | 186/632 [00:25<01:04,  6.93it/s]\u001b[A\n",
      "Iteration:  30%|██▉       | 187/632 [00:25<01:03,  6.97it/s]\u001b[A\n",
      "Iteration:  30%|██▉       | 188/632 [00:25<01:00,  7.34it/s]\u001b[A\n",
      "Iteration:  30%|██▉       | 189/632 [00:25<01:00,  7.29it/s]\u001b[A\n",
      "Iteration:  30%|███       | 190/632 [00:25<01:00,  7.31it/s]\u001b[A\n",
      "Iteration:  30%|███       | 191/632 [00:26<01:01,  7.22it/s]\u001b[A\n",
      "Iteration:  30%|███       | 192/632 [00:26<01:03,  6.89it/s]\u001b[A\n",
      "Iteration:  31%|███       | 193/632 [00:26<01:03,  6.94it/s]\u001b[A\n",
      "Iteration:  31%|███       | 194/632 [00:26<01:02,  7.01it/s]\u001b[A\n",
      "Iteration:  31%|███       | 195/632 [00:26<01:03,  6.87it/s]\u001b[A\n",
      "Iteration:  31%|███       | 196/632 [00:26<01:02,  6.98it/s]\u001b[A\n",
      "Iteration:  31%|███       | 197/632 [00:26<01:00,  7.14it/s]\u001b[A\n",
      "Iteration:  31%|███▏      | 198/632 [00:27<00:59,  7.27it/s]\u001b[A\n",
      "Iteration:  31%|███▏      | 199/632 [00:27<00:59,  7.28it/s]\u001b[A\n",
      "Iteration:  32%|███▏      | 200/632 [00:27<01:00,  7.18it/s]\u001b[A\n",
      "Iteration:  32%|███▏      | 201/632 [00:27<01:00,  7.14it/s]\u001b[A\n",
      "Iteration:  32%|███▏      | 202/632 [00:27<01:01,  7.03it/s]\u001b[A\n",
      "Iteration:  32%|███▏      | 203/632 [00:27<01:02,  6.83it/s]\u001b[A\n",
      "Iteration:  32%|███▏      | 204/632 [00:27<01:02,  6.81it/s]\u001b[A\n",
      "Iteration:  32%|███▏      | 205/632 [00:28<01:01,  6.96it/s]\u001b[A\n",
      "Iteration:  33%|███▎      | 206/632 [00:28<01:00,  7.07it/s]\u001b[A\n",
      "Iteration:  33%|███▎      | 207/632 [00:28<00:58,  7.28it/s]\u001b[A\n",
      "Iteration:  33%|███▎      | 208/632 [00:28<00:56,  7.44it/s]\u001b[A\n",
      "Iteration:  33%|███▎      | 209/632 [00:28<00:57,  7.33it/s]\u001b[A\n",
      "Iteration:  33%|███▎      | 210/632 [00:28<00:57,  7.32it/s]\u001b[A\n",
      "Iteration:  33%|███▎      | 211/632 [00:28<00:55,  7.53it/s]\u001b[A\n",
      "Iteration:  34%|███▎      | 212/632 [00:28<00:57,  7.33it/s]\u001b[A\n",
      "Iteration:  34%|███▎      | 213/632 [00:29<00:56,  7.42it/s]\u001b[A\n",
      "Iteration:  34%|███▍      | 214/632 [00:29<00:54,  7.70it/s]\u001b[A\n",
      "Iteration:  34%|███▍      | 215/632 [00:29<00:56,  7.40it/s]\u001b[A\n",
      "Iteration:  34%|███▍      | 216/632 [00:29<00:56,  7.37it/s]\u001b[A\n",
      "Iteration:  34%|███▍      | 217/632 [00:29<00:54,  7.66it/s]\u001b[A\n",
      "Iteration:  34%|███▍      | 218/632 [00:29<00:55,  7.52it/s]\u001b[A\n",
      "Iteration:  35%|███▍      | 219/632 [00:29<00:57,  7.14it/s]\u001b[A\n",
      "Iteration:  35%|███▍      | 220/632 [00:30<00:54,  7.60it/s]\u001b[A\n",
      "Iteration:  35%|███▍      | 221/632 [00:30<00:55,  7.42it/s]\u001b[A\n",
      "Iteration:  35%|███▌      | 222/632 [00:30<00:54,  7.49it/s]\u001b[A\n",
      "Iteration:  35%|███▌      | 223/632 [00:30<00:55,  7.40it/s]\u001b[A\n",
      "Iteration:  35%|███▌      | 224/632 [00:30<00:54,  7.53it/s]\u001b[A\n",
      "Iteration:  36%|███▌      | 225/632 [00:30<00:55,  7.30it/s]\u001b[A\n",
      "Iteration:  36%|███▌      | 226/632 [00:30<00:56,  7.15it/s]\u001b[A\n",
      "Iteration:  36%|███▌      | 227/632 [00:31<00:57,  7.09it/s]\u001b[A\n",
      "Iteration:  36%|███▌      | 228/632 [00:31<00:56,  7.11it/s]\u001b[A\n",
      "Iteration:  36%|███▌      | 229/632 [00:31<00:55,  7.21it/s]\u001b[A\n",
      "Iteration:  36%|███▋      | 230/632 [00:31<00:56,  7.10it/s]\u001b[A\n",
      "Iteration:  37%|███▋      | 231/632 [00:31<00:56,  7.16it/s]\u001b[A\n",
      "Iteration:  37%|███▋      | 232/632 [00:31<00:55,  7.25it/s]\u001b[A\n",
      "Iteration:  37%|███▋      | 233/632 [00:31<00:53,  7.50it/s]\u001b[A\n",
      "Iteration:  37%|███▋      | 234/632 [00:31<00:54,  7.35it/s]\u001b[A\n",
      "Iteration:  37%|███▋      | 235/632 [00:32<00:53,  7.36it/s]\u001b[A\n",
      "Iteration:  37%|███▋      | 236/632 [00:32<00:53,  7.38it/s]\u001b[A\n",
      "Iteration:  38%|███▊      | 237/632 [00:32<00:54,  7.20it/s]\u001b[A\n",
      "Iteration:  38%|███▊      | 238/632 [00:32<00:52,  7.47it/s]\u001b[A\n",
      "Iteration:  38%|███▊      | 239/632 [00:32<00:55,  7.10it/s]\u001b[A\n",
      "Iteration:  38%|███▊      | 240/632 [00:32<00:54,  7.21it/s]\u001b[A\n",
      "Iteration:  38%|███▊      | 241/632 [00:32<00:53,  7.34it/s]\u001b[A\n",
      "Iteration:  38%|███▊      | 242/632 [00:33<00:52,  7.40it/s]\u001b[A\n",
      "Iteration:  38%|███▊      | 243/632 [00:33<00:51,  7.49it/s]\u001b[A\n",
      "Iteration:  39%|███▊      | 244/632 [00:33<00:49,  7.85it/s]\u001b[A\n",
      "Iteration:  39%|███▉      | 245/632 [00:33<00:49,  7.87it/s]\u001b[A\n",
      "Iteration:  39%|███▉      | 246/632 [00:33<00:50,  7.67it/s]\u001b[A\n",
      "Iteration:  39%|███▉      | 247/632 [00:33<00:51,  7.54it/s]\u001b[A\n",
      "Iteration:  39%|███▉      | 248/632 [00:33<00:51,  7.41it/s]\u001b[A\n",
      "Iteration:  39%|███▉      | 249/632 [00:33<00:52,  7.30it/s]\u001b[A\n",
      "Iteration:  40%|███▉      | 250/632 [00:34<00:55,  6.93it/s]\u001b[A\n",
      "Iteration:  40%|███▉      | 251/632 [00:34<00:54,  6.99it/s]\u001b[A\n",
      "Iteration:  40%|███▉      | 252/632 [00:34<00:52,  7.18it/s]\u001b[A\n",
      "Iteration:  40%|████      | 253/632 [00:34<00:51,  7.35it/s]\u001b[A\n",
      "Iteration:  40%|████      | 254/632 [00:34<00:51,  7.34it/s]\u001b[A\n",
      "Iteration:  40%|████      | 255/632 [00:34<00:51,  7.27it/s]\u001b[A\n",
      "Iteration:  41%|████      | 256/632 [00:34<00:49,  7.62it/s]\u001b[A\n",
      "Iteration:  41%|████      | 257/632 [00:35<00:50,  7.44it/s]\u001b[A\n"
     ]
    },
    {
     "name": "stderr",
     "output_type": "stream",
     "text": [
      "Iteration:  41%|████      | 258/632 [00:35<00:49,  7.55it/s]\u001b[A\n",
      "Iteration:  41%|████      | 259/632 [00:35<00:50,  7.44it/s]\u001b[A\n",
      "Iteration:  41%|████      | 260/632 [00:35<00:55,  6.67it/s]\u001b[A\n",
      "Iteration:  41%|████▏     | 261/632 [00:35<00:54,  6.86it/s]\u001b[A\n",
      "Iteration:  41%|████▏     | 262/632 [00:35<00:53,  6.95it/s]\u001b[A\n",
      "Iteration:  42%|████▏     | 263/632 [00:35<00:52,  7.02it/s]\u001b[A\n",
      "Iteration:  42%|████▏     | 264/632 [00:36<00:52,  7.06it/s]\u001b[A\n",
      "Iteration:  42%|████▏     | 265/632 [00:36<00:49,  7.46it/s]\u001b[A\n",
      "Iteration:  42%|████▏     | 266/632 [00:36<00:48,  7.60it/s]\u001b[A\n",
      "Iteration:  42%|████▏     | 267/632 [00:36<00:48,  7.48it/s]\u001b[A\n",
      "Iteration:  42%|████▏     | 268/632 [00:36<00:50,  7.28it/s]\u001b[A\n",
      "Iteration:  43%|████▎     | 269/632 [00:36<00:49,  7.28it/s]\u001b[A\n",
      "Iteration:  43%|████▎     | 270/632 [00:36<00:49,  7.30it/s]\u001b[A\n",
      "Iteration:  43%|████▎     | 271/632 [00:37<00:47,  7.61it/s]\u001b[A\n",
      "Iteration:  43%|████▎     | 272/632 [00:37<00:48,  7.49it/s]\u001b[A\n",
      "Iteration:  43%|████▎     | 273/632 [00:37<00:49,  7.19it/s]\u001b[A\n",
      "Iteration:  43%|████▎     | 274/632 [00:37<00:48,  7.31it/s]\u001b[A\n",
      "Iteration:  44%|████▎     | 275/632 [00:37<00:49,  7.21it/s]\u001b[A\n",
      "Iteration:  44%|████▎     | 276/632 [00:37<00:47,  7.47it/s]\u001b[A\n",
      "Iteration:  44%|████▍     | 277/632 [00:37<00:47,  7.55it/s]\u001b[A\n",
      "Iteration:  44%|████▍     | 278/632 [00:37<00:47,  7.43it/s]\u001b[A\n",
      "Iteration:  44%|████▍     | 279/632 [00:38<00:47,  7.46it/s]\u001b[A\n",
      "Iteration:  44%|████▍     | 280/632 [00:38<00:48,  7.26it/s]\u001b[A\n",
      "Iteration:  44%|████▍     | 281/632 [00:38<00:50,  6.90it/s]\u001b[A\n",
      "Iteration:  45%|████▍     | 282/632 [00:38<00:49,  7.02it/s]\u001b[A\n",
      "Iteration:  45%|████▍     | 283/632 [00:38<00:49,  7.06it/s]\u001b[A\n",
      "Iteration:  45%|████▍     | 284/632 [00:38<00:48,  7.22it/s]\u001b[A\n",
      "Iteration:  45%|████▌     | 285/632 [00:38<00:47,  7.36it/s]\u001b[A\n",
      "Iteration:  45%|████▌     | 286/632 [00:39<00:47,  7.31it/s]\u001b[A\n",
      "Iteration:  45%|████▌     | 287/632 [00:39<00:45,  7.53it/s]\u001b[A\n",
      "Iteration:  46%|████▌     | 288/632 [00:39<00:46,  7.44it/s]\u001b[A\n",
      "Iteration:  46%|████▌     | 289/632 [00:39<00:45,  7.57it/s]\u001b[A\n",
      "Iteration:  46%|████▌     | 290/632 [00:39<00:45,  7.54it/s]\u001b[A\n",
      "Iteration:  46%|████▌     | 291/632 [00:39<00:45,  7.47it/s]\u001b[A\n",
      "Iteration:  46%|████▌     | 292/632 [00:39<00:45,  7.52it/s]\u001b[A\n",
      "Iteration:  46%|████▋     | 293/632 [00:40<00:45,  7.48it/s]\u001b[A\n",
      "Iteration:  47%|████▋     | 294/632 [00:40<00:44,  7.63it/s]\u001b[A\n",
      "Iteration:  47%|████▋     | 295/632 [00:40<00:48,  7.00it/s]\u001b[A\n",
      "Iteration:  47%|████▋     | 296/632 [00:40<00:47,  7.07it/s]\u001b[A\n",
      "Iteration:  47%|████▋     | 297/632 [00:40<00:49,  6.77it/s]\u001b[A\n",
      "Iteration:  47%|████▋     | 298/632 [00:40<00:46,  7.22it/s]\u001b[A\n",
      "Iteration:  47%|████▋     | 299/632 [00:40<00:48,  6.87it/s]\u001b[A\n",
      "Iteration:  47%|████▋     | 300/632 [00:41<00:48,  6.84it/s]\u001b[A\n",
      "Iteration:  48%|████▊     | 301/632 [00:41<00:46,  7.18it/s]\u001b[A\n",
      "Iteration:  48%|████▊     | 302/632 [00:41<00:43,  7.55it/s]\u001b[A\n",
      "Iteration:  48%|████▊     | 303/632 [00:41<00:43,  7.58it/s]\u001b[A\n",
      "Iteration:  48%|████▊     | 304/632 [00:41<00:45,  7.24it/s]\u001b[A\n",
      "Iteration:  48%|████▊     | 305/632 [00:41<00:44,  7.34it/s]\u001b[A\n",
      "Iteration:  48%|████▊     | 306/632 [00:41<00:43,  7.53it/s]\u001b[A\n",
      "Iteration:  49%|████▊     | 307/632 [00:41<00:44,  7.37it/s]\u001b[A\n",
      "Iteration:  49%|████▊     | 308/632 [00:42<00:44,  7.26it/s]\u001b[A\n",
      "Iteration:  49%|████▉     | 309/632 [00:42<00:44,  7.24it/s]\u001b[A\n",
      "Iteration:  49%|████▉     | 310/632 [00:42<00:44,  7.23it/s]\u001b[A\n",
      "Iteration:  49%|████▉     | 311/632 [00:42<00:43,  7.37it/s]\u001b[A\n",
      "Iteration:  49%|████▉     | 312/632 [00:42<00:43,  7.33it/s]\u001b[A\n",
      "Iteration:  50%|████▉     | 313/632 [00:42<00:43,  7.31it/s]\u001b[A\n",
      "Iteration:  50%|████▉     | 314/632 [00:42<00:45,  6.92it/s]\u001b[A\n",
      "Iteration:  50%|████▉     | 315/632 [00:43<00:44,  7.07it/s]\u001b[A\n",
      "Iteration:  50%|█████     | 316/632 [00:43<00:43,  7.30it/s]\u001b[A\n",
      "Iteration:  50%|█████     | 317/632 [00:43<00:43,  7.28it/s]\u001b[A\n",
      "Iteration:  50%|█████     | 318/632 [00:43<00:42,  7.43it/s]\u001b[A\n",
      "Iteration:  50%|█████     | 319/632 [00:43<00:44,  6.99it/s]\u001b[A\n",
      "Iteration:  51%|█████     | 320/632 [00:43<00:44,  7.04it/s]\u001b[A\n",
      "Iteration:  51%|█████     | 321/632 [00:43<00:46,  6.75it/s]\u001b[A\n",
      "Iteration:  51%|█████     | 322/632 [00:44<00:44,  6.91it/s]\u001b[A\n",
      "Iteration:  51%|█████     | 323/632 [00:44<00:43,  7.12it/s]\u001b[A\n",
      "Iteration:  51%|█████▏    | 324/632 [00:44<00:44,  6.90it/s]\u001b[A\n",
      "Iteration:  51%|█████▏    | 325/632 [00:44<00:43,  7.11it/s]\u001b[A\n",
      "Iteration:  52%|█████▏    | 326/632 [00:44<00:43,  7.00it/s]\u001b[A\n",
      "Iteration:  52%|█████▏    | 327/632 [00:44<00:42,  7.15it/s]\u001b[A\n",
      "Iteration:  52%|█████▏    | 328/632 [00:44<00:41,  7.30it/s]\u001b[A\n",
      "Iteration:  52%|█████▏    | 329/632 [00:45<00:40,  7.51it/s]\u001b[A\n",
      "Iteration:  52%|█████▏    | 330/632 [00:45<00:39,  7.63it/s]\u001b[A\n",
      "Iteration:  52%|█████▏    | 331/632 [00:45<00:38,  7.79it/s]\u001b[A\n",
      "Iteration:  53%|█████▎    | 332/632 [00:45<00:40,  7.49it/s]\u001b[A\n",
      "Iteration:  53%|█████▎    | 333/632 [00:45<00:39,  7.65it/s]\u001b[A\n",
      "Iteration:  53%|█████▎    | 334/632 [00:45<00:38,  7.66it/s]\u001b[A\n",
      "Iteration:  53%|█████▎    | 335/632 [00:45<00:38,  7.71it/s]\u001b[A\n",
      "Iteration:  53%|█████▎    | 336/632 [00:45<00:39,  7.51it/s]\u001b[A\n",
      "Iteration:  53%|█████▎    | 337/632 [00:46<00:41,  7.07it/s]\u001b[A\n",
      "Iteration:  53%|█████▎    | 338/632 [00:46<00:41,  7.15it/s]\u001b[A\n",
      "Iteration:  54%|█████▎    | 339/632 [00:46<00:38,  7.60it/s]\u001b[A\n",
      "Iteration:  54%|█████▍    | 340/632 [00:46<00:38,  7.55it/s]\u001b[A\n",
      "Iteration:  54%|█████▍    | 341/632 [00:46<00:37,  7.72it/s]\u001b[A\n",
      "Iteration:  54%|█████▍    | 342/632 [00:46<00:36,  7.91it/s]\u001b[A\n",
      "Iteration:  54%|█████▍    | 343/632 [00:46<00:35,  8.09it/s]\u001b[A\n",
      "Iteration:  54%|█████▍    | 344/632 [00:46<00:36,  7.93it/s]\u001b[A\n",
      "Iteration:  55%|█████▍    | 345/632 [00:47<00:38,  7.55it/s]\u001b[A\n",
      "Iteration:  55%|█████▍    | 346/632 [00:47<00:37,  7.62it/s]\u001b[A\n",
      "Iteration:  55%|█████▍    | 347/632 [00:47<00:37,  7.58it/s]\u001b[A\n",
      "Iteration:  55%|█████▌    | 348/632 [00:47<00:36,  7.75it/s]\u001b[A\n",
      "Iteration:  55%|█████▌    | 349/632 [00:47<00:38,  7.35it/s]\u001b[A\n",
      "Iteration:  55%|█████▌    | 350/632 [00:47<00:39,  7.16it/s]\u001b[A\n",
      "Iteration:  56%|█████▌    | 351/632 [00:47<00:42,  6.68it/s]\u001b[A\n",
      "Iteration:  56%|█████▌    | 352/632 [00:48<00:41,  6.79it/s]\u001b[A\n",
      "Iteration:  56%|█████▌    | 353/632 [00:48<00:40,  6.95it/s]\u001b[A\n",
      "Iteration:  56%|█████▌    | 354/632 [00:48<00:39,  6.96it/s]\u001b[A\n",
      "Iteration:  56%|█████▌    | 355/632 [00:48<00:39,  6.99it/s]\u001b[A\n",
      "Iteration:  56%|█████▋    | 356/632 [00:48<00:40,  6.87it/s]\u001b[A\n",
      "Iteration:  56%|█████▋    | 357/632 [00:48<00:38,  7.09it/s]\u001b[A\n",
      "Iteration:  57%|█████▋    | 358/632 [00:48<00:36,  7.43it/s]\u001b[A\n",
      "Iteration:  57%|█████▋    | 359/632 [00:49<00:37,  7.36it/s]\u001b[A\n",
      "Iteration:  57%|█████▋    | 360/632 [00:49<00:36,  7.49it/s]\u001b[A\n",
      "Iteration:  57%|█████▋    | 361/632 [00:49<00:36,  7.47it/s]\u001b[A\n",
      "Iteration:  57%|█████▋    | 362/632 [00:49<00:35,  7.58it/s]\u001b[A\n",
      "Iteration:  57%|█████▋    | 363/632 [00:49<00:37,  7.25it/s]\u001b[A\n",
      "Iteration:  58%|█████▊    | 364/632 [00:49<00:36,  7.28it/s]\u001b[A\n",
      "Iteration:  58%|█████▊    | 365/632 [00:49<00:38,  6.92it/s]\u001b[A\n",
      "Iteration:  58%|█████▊    | 366/632 [00:50<00:37,  7.04it/s]\u001b[A\n",
      "Iteration:  58%|█████▊    | 367/632 [00:50<00:37,  7.08it/s]\u001b[A\n",
      "Iteration:  58%|█████▊    | 368/632 [00:50<00:38,  6.80it/s]\u001b[A\n",
      "Iteration:  58%|█████▊    | 369/632 [00:50<00:37,  7.09it/s]\u001b[A\n",
      "Iteration:  59%|█████▊    | 370/632 [00:50<00:38,  6.79it/s]\u001b[A\n",
      "Iteration:  59%|█████▊    | 371/632 [00:50<00:39,  6.67it/s]\u001b[A\n",
      "Iteration:  59%|█████▉    | 372/632 [00:50<00:39,  6.62it/s]\u001b[A\n",
      "Iteration:  59%|█████▉    | 373/632 [00:51<00:36,  7.14it/s]\u001b[A\n",
      "Iteration:  59%|█████▉    | 374/632 [00:51<00:37,  6.82it/s]\u001b[A\n",
      "Iteration:  59%|█████▉    | 375/632 [00:51<00:38,  6.59it/s]\u001b[A\n",
      "Iteration:  59%|█████▉    | 376/632 [00:51<00:36,  6.94it/s]\u001b[A\n",
      "Iteration:  60%|█████▉    | 377/632 [00:51<00:36,  7.02it/s]\u001b[A\n",
      "Iteration:  60%|█████▉    | 378/632 [00:51<00:35,  7.10it/s]\u001b[A\n",
      "Iteration:  60%|█████▉    | 379/632 [00:51<00:36,  6.93it/s]\u001b[A\n",
      "Iteration:  60%|██████    | 380/632 [00:52<00:34,  7.37it/s]\u001b[A\n",
      "Iteration:  60%|██████    | 381/632 [00:52<00:32,  7.71it/s]\u001b[A\n",
      "Iteration:  60%|██████    | 382/632 [00:52<00:33,  7.43it/s]\u001b[A\n",
      "Iteration:  61%|██████    | 383/632 [00:52<00:33,  7.33it/s]\u001b[A\n",
      "Iteration:  61%|██████    | 384/632 [00:52<00:33,  7.42it/s]\u001b[A\n",
      "Iteration:  61%|██████    | 385/632 [00:52<00:33,  7.43it/s]\u001b[A\n"
     ]
    },
    {
     "name": "stderr",
     "output_type": "stream",
     "text": [
      "Iteration:  61%|██████    | 386/632 [00:52<00:31,  7.76it/s]\u001b[A\n",
      "Iteration:  61%|██████    | 387/632 [00:52<00:32,  7.58it/s]\u001b[A\n",
      "Iteration:  61%|██████▏   | 388/632 [00:53<00:32,  7.61it/s]\u001b[A\n",
      "Iteration:  62%|██████▏   | 389/632 [00:53<00:32,  7.47it/s]\u001b[A\n",
      "Iteration:  62%|██████▏   | 390/632 [00:53<00:34,  7.12it/s]\u001b[A\n",
      "Iteration:  62%|██████▏   | 391/632 [00:53<00:34,  7.08it/s]\u001b[A\n",
      "Iteration:  62%|██████▏   | 392/632 [00:53<00:33,  7.19it/s]\u001b[A\n",
      "Iteration:  62%|██████▏   | 393/632 [00:53<00:33,  7.17it/s]\u001b[A\n",
      "Iteration:  62%|██████▏   | 394/632 [00:53<00:32,  7.21it/s]\u001b[A\n",
      "Iteration:  62%|██████▎   | 395/632 [00:54<00:34,  6.95it/s]\u001b[A\n",
      "Iteration:  63%|██████▎   | 396/632 [00:54<00:31,  7.38it/s]\u001b[A\n",
      "Iteration:  63%|██████▎   | 397/632 [00:54<00:33,  6.98it/s]\u001b[A\n",
      "Iteration:  63%|██████▎   | 398/632 [00:54<00:33,  6.91it/s]\u001b[A\n",
      "Iteration:  63%|██████▎   | 399/632 [00:54<00:33,  6.87it/s]\u001b[A\n",
      "Iteration:  63%|██████▎   | 400/632 [00:54<00:31,  7.34it/s]\u001b[A\n",
      "Iteration:  63%|██████▎   | 401/632 [00:54<00:30,  7.65it/s]\u001b[A\n",
      "Iteration:  64%|██████▎   | 402/632 [00:55<00:29,  7.90it/s]\u001b[A\n",
      "Iteration:  64%|██████▍   | 403/632 [00:55<00:29,  7.66it/s]\u001b[A\n",
      "Iteration:  64%|██████▍   | 404/632 [00:55<00:31,  7.33it/s]\u001b[A\n",
      "Iteration:  64%|██████▍   | 405/632 [00:55<00:30,  7.37it/s]\u001b[A\n",
      "Iteration:  64%|██████▍   | 406/632 [00:55<00:32,  6.97it/s]\u001b[A\n",
      "Iteration:  64%|██████▍   | 407/632 [00:55<00:31,  7.05it/s]\u001b[A\n",
      "Iteration:  65%|██████▍   | 408/632 [00:55<00:30,  7.23it/s]\u001b[A\n",
      "Iteration:  65%|██████▍   | 409/632 [00:56<00:30,  7.37it/s]\u001b[A\n",
      "Iteration:  65%|██████▍   | 410/632 [00:56<00:30,  7.37it/s]\u001b[A\n",
      "Iteration:  65%|██████▌   | 411/632 [00:56<00:28,  7.70it/s]\u001b[A\n",
      "Iteration:  65%|██████▌   | 412/632 [00:56<00:28,  7.74it/s]\u001b[A\n",
      "Iteration:  65%|██████▌   | 413/632 [00:56<00:27,  8.02it/s]\u001b[A\n",
      "Iteration:  66%|██████▌   | 414/632 [00:56<00:26,  8.10it/s]\u001b[A\n",
      "Iteration:  66%|██████▌   | 415/632 [00:56<00:27,  7.95it/s]\u001b[A\n",
      "Iteration:  66%|██████▌   | 416/632 [00:56<00:26,  8.15it/s]\u001b[A\n",
      "Iteration:  66%|██████▌   | 417/632 [00:57<00:25,  8.28it/s]\u001b[A\n",
      "Iteration:  66%|██████▌   | 418/632 [00:57<00:27,  7.89it/s]\u001b[A\n",
      "Iteration:  66%|██████▋   | 419/632 [00:57<00:28,  7.51it/s]\u001b[A\n",
      "Iteration:  66%|██████▋   | 420/632 [00:57<00:27,  7.79it/s]\u001b[A\n",
      "Iteration:  67%|██████▋   | 421/632 [00:57<00:28,  7.35it/s]\u001b[A\n",
      "Iteration:  67%|██████▋   | 422/632 [00:57<00:27,  7.68it/s]\u001b[A\n",
      "Iteration:  67%|██████▋   | 423/632 [00:57<00:27,  7.56it/s]\u001b[A\n",
      "Iteration:  67%|██████▋   | 424/632 [00:57<00:26,  7.77it/s]\u001b[A\n",
      "Iteration:  67%|██████▋   | 425/632 [00:58<00:27,  7.61it/s]\u001b[A\n",
      "Iteration:  67%|██████▋   | 426/632 [00:58<00:27,  7.47it/s]\u001b[A\n",
      "Iteration:  68%|██████▊   | 427/632 [00:58<00:28,  7.31it/s]\u001b[A\n",
      "Iteration:  68%|██████▊   | 428/632 [00:58<00:27,  7.43it/s]\u001b[A\n",
      "Iteration:  68%|██████▊   | 429/632 [00:58<00:26,  7.61it/s]\u001b[A\n",
      "Iteration:  68%|██████▊   | 430/632 [00:58<00:26,  7.49it/s]\u001b[A\n",
      "Iteration:  68%|██████▊   | 431/632 [00:58<00:26,  7.50it/s]\u001b[A\n",
      "Iteration:  68%|██████▊   | 432/632 [00:59<00:26,  7.45it/s]\u001b[A\n",
      "Iteration:  69%|██████▊   | 433/632 [00:59<00:26,  7.43it/s]\u001b[A\n",
      "Iteration:  69%|██████▊   | 434/632 [00:59<00:26,  7.46it/s]\u001b[A\n",
      "Iteration:  69%|██████▉   | 435/632 [00:59<00:27,  7.17it/s]\u001b[A\n",
      "Iteration:  69%|██████▉   | 436/632 [00:59<00:27,  7.18it/s]\u001b[A\n",
      "Iteration:  69%|██████▉   | 437/632 [00:59<00:26,  7.42it/s]\u001b[A\n",
      "Iteration:  69%|██████▉   | 438/632 [00:59<00:26,  7.29it/s]\u001b[A\n",
      "Iteration:  69%|██████▉   | 439/632 [01:00<00:27,  7.15it/s]\u001b[A\n",
      "Iteration:  70%|██████▉   | 440/632 [01:00<00:26,  7.11it/s]\u001b[A\n",
      "Iteration:  70%|██████▉   | 441/632 [01:00<00:27,  6.95it/s]\u001b[A\n",
      "Iteration:  70%|██████▉   | 442/632 [01:00<00:25,  7.41it/s]\u001b[A\n",
      "Iteration:  70%|███████   | 443/632 [01:00<00:25,  7.32it/s]\u001b[A\n",
      "Iteration:  70%|███████   | 444/632 [01:00<00:26,  7.03it/s]\u001b[A\n",
      "Iteration:  70%|███████   | 445/632 [01:00<00:26,  7.17it/s]\u001b[A\n",
      "Iteration:  71%|███████   | 446/632 [01:01<00:28,  6.54it/s]\u001b[A\n",
      "Iteration:  71%|███████   | 447/632 [01:01<00:27,  6.74it/s]\u001b[A\n",
      "Iteration:  71%|███████   | 448/632 [01:01<00:25,  7.16it/s]\u001b[A\n",
      "Iteration:  71%|███████   | 449/632 [01:01<00:25,  7.11it/s]\u001b[A\n",
      "Iteration:  71%|███████   | 450/632 [01:01<00:25,  7.12it/s]\u001b[A\n",
      "Iteration:  71%|███████▏  | 451/632 [01:01<00:24,  7.36it/s]\u001b[A\n",
      "Iteration:  72%|███████▏  | 452/632 [01:01<00:24,  7.42it/s]\u001b[A\n",
      "Iteration:  72%|███████▏  | 453/632 [01:01<00:23,  7.71it/s]\u001b[A\n",
      "Iteration:  72%|███████▏  | 454/632 [01:02<00:23,  7.58it/s]\u001b[A\n",
      "Iteration:  72%|███████▏  | 455/632 [01:02<00:24,  7.18it/s]\u001b[A\n",
      "Iteration:  72%|███████▏  | 456/632 [01:02<00:24,  7.13it/s]\u001b[A\n",
      "Iteration:  72%|███████▏  | 457/632 [01:02<00:24,  7.21it/s]\u001b[A\n",
      "Iteration:  72%|███████▏  | 458/632 [01:02<00:23,  7.29it/s]\u001b[A\n",
      "Iteration:  73%|███████▎  | 459/632 [01:02<00:23,  7.36it/s]\u001b[A\n",
      "Iteration:  73%|███████▎  | 460/632 [01:02<00:23,  7.28it/s]\u001b[A\n",
      "Iteration:  73%|███████▎  | 461/632 [01:03<00:24,  6.92it/s]\u001b[A\n",
      "Iteration:  73%|███████▎  | 462/632 [01:03<00:24,  7.03it/s]\u001b[A\n",
      "Iteration:  73%|███████▎  | 463/632 [01:03<00:23,  7.21it/s]\u001b[A\n",
      "Iteration:  73%|███████▎  | 464/632 [01:03<00:23,  7.18it/s]\u001b[A\n",
      "Iteration:  74%|███████▎  | 465/632 [01:03<00:23,  7.15it/s]\u001b[A\n",
      "Iteration:  74%|███████▎  | 466/632 [01:03<00:22,  7.34it/s]\u001b[A\n",
      "Iteration:  74%|███████▍  | 467/632 [01:03<00:23,  6.94it/s]\u001b[A\n",
      "Iteration:  74%|███████▍  | 468/632 [01:04<00:24,  6.67it/s]\u001b[A\n",
      "Iteration:  74%|███████▍  | 469/632 [01:04<00:25,  6.50it/s]\u001b[A\n",
      "Iteration:  74%|███████▍  | 470/632 [01:04<00:24,  6.72it/s]\u001b[A\n",
      "Iteration:  75%|███████▍  | 471/632 [01:04<00:23,  6.80it/s]\u001b[A\n",
      "Iteration:  75%|███████▍  | 472/632 [01:04<00:22,  7.20it/s]\u001b[A\n",
      "Iteration:  75%|███████▍  | 473/632 [01:04<00:21,  7.37it/s]\u001b[A\n",
      "Iteration:  75%|███████▌  | 474/632 [01:04<00:22,  7.12it/s]\u001b[A\n",
      "Iteration:  75%|███████▌  | 475/632 [01:05<00:21,  7.23it/s]\u001b[A\n",
      "Iteration:  75%|███████▌  | 476/632 [01:05<00:21,  7.24it/s]\u001b[A\n",
      "Iteration:  75%|███████▌  | 477/632 [01:05<00:20,  7.66it/s]\u001b[A\n",
      "Iteration:  76%|███████▌  | 478/632 [01:05<00:19,  7.78it/s]\u001b[A\n",
      "Iteration:  76%|███████▌  | 479/632 [01:05<00:20,  7.35it/s]\u001b[A\n",
      "Iteration:  76%|███████▌  | 480/632 [01:05<00:21,  7.11it/s]\u001b[A\n",
      "Iteration:  76%|███████▌  | 481/632 [01:05<00:21,  6.95it/s]\u001b[A\n",
      "Iteration:  76%|███████▋  | 482/632 [01:06<00:20,  7.24it/s]\u001b[A\n",
      "Iteration:  76%|███████▋  | 483/632 [01:06<00:20,  7.25it/s]\u001b[A\n",
      "Iteration:  77%|███████▋  | 484/632 [01:06<00:20,  7.06it/s]\u001b[A\n",
      "Iteration:  77%|███████▋  | 485/632 [01:06<00:20,  7.08it/s]\u001b[A\n",
      "Iteration:  77%|███████▋  | 486/632 [01:06<00:21,  6.70it/s]\u001b[A\n",
      "Iteration:  77%|███████▋  | 487/632 [01:06<00:21,  6.70it/s]\u001b[A\n",
      "Iteration:  77%|███████▋  | 488/632 [01:06<00:21,  6.83it/s]\u001b[A\n",
      "Iteration:  77%|███████▋  | 489/632 [01:07<00:20,  6.93it/s]\u001b[A\n",
      "Iteration:  78%|███████▊  | 490/632 [01:07<00:20,  6.91it/s]\u001b[A\n",
      "Iteration:  78%|███████▊  | 491/632 [01:07<00:20,  6.94it/s]\u001b[A\n",
      "Iteration:  78%|███████▊  | 492/632 [01:07<00:19,  7.04it/s]\u001b[A\n",
      "Iteration:  78%|███████▊  | 493/632 [01:07<00:19,  7.07it/s]\u001b[A\n",
      "Iteration:  78%|███████▊  | 494/632 [01:07<00:19,  7.06it/s]\u001b[A\n",
      "Iteration:  78%|███████▊  | 495/632 [01:07<00:18,  7.37it/s]\u001b[A\n",
      "Iteration:  78%|███████▊  | 496/632 [01:07<00:18,  7.49it/s]\u001b[A\n",
      "Iteration:  79%|███████▊  | 497/632 [01:08<00:17,  7.51it/s]\u001b[A\n",
      "Iteration:  79%|███████▉  | 498/632 [01:08<00:18,  7.17it/s]\u001b[A\n",
      "Iteration:  79%|███████▉  | 499/632 [01:08<00:19,  6.85it/s]\u001b[A\n",
      "Iteration:  79%|███████▉  | 500/632 [01:08<00:19,  6.72it/s]\u001b[A\n",
      "Iteration:  79%|███████▉  | 501/632 [01:08<00:18,  7.10it/s]\u001b[A\n",
      "Iteration:  79%|███████▉  | 502/632 [01:08<00:18,  7.03it/s]\u001b[A\n",
      "Iteration:  80%|███████▉  | 503/632 [01:08<00:17,  7.19it/s]\u001b[A\n",
      "Iteration:  80%|███████▉  | 504/632 [01:09<00:18,  6.94it/s]\u001b[A\n",
      "Iteration:  80%|███████▉  | 505/632 [01:09<00:18,  6.95it/s]\u001b[A\n",
      "Iteration:  80%|████████  | 506/632 [01:09<00:17,  7.10it/s]\u001b[A\n",
      "Iteration:  80%|████████  | 507/632 [01:09<00:17,  7.18it/s]\u001b[A\n",
      "Iteration:  80%|████████  | 508/632 [01:09<00:17,  7.14it/s]\u001b[A\n",
      "Iteration:  81%|████████  | 509/632 [01:09<00:17,  7.20it/s]\u001b[A\n",
      "Iteration:  81%|████████  | 510/632 [01:09<00:16,  7.43it/s]\u001b[A\n",
      "Iteration:  81%|████████  | 511/632 [01:10<00:16,  7.55it/s]\u001b[A\n",
      "Iteration:  81%|████████  | 512/632 [01:10<00:16,  7.48it/s]\u001b[A\n",
      "Iteration:  81%|████████  | 513/632 [01:10<00:16,  7.41it/s]\u001b[A\n"
     ]
    },
    {
     "name": "stderr",
     "output_type": "stream",
     "text": [
      "Iteration:  81%|████████▏ | 514/632 [01:10<00:15,  7.72it/s]\u001b[A\n",
      "Iteration:  81%|████████▏ | 515/632 [01:10<00:15,  7.55it/s]\u001b[A\n",
      "Iteration:  82%|████████▏ | 516/632 [01:10<00:15,  7.59it/s]\u001b[A\n",
      "Iteration:  82%|████████▏ | 517/632 [01:10<00:15,  7.40it/s]\u001b[A\n",
      "Iteration:  82%|████████▏ | 518/632 [01:11<00:16,  6.83it/s]\u001b[A\n",
      "Iteration:  82%|████████▏ | 519/632 [01:11<00:15,  7.13it/s]\u001b[A\n",
      "Iteration:  82%|████████▏ | 520/632 [01:11<00:15,  7.18it/s]\u001b[A\n",
      "Iteration:  82%|████████▏ | 521/632 [01:11<00:15,  7.25it/s]\u001b[A\n",
      "Iteration:  83%|████████▎ | 522/632 [01:11<00:14,  7.41it/s]\u001b[A\n",
      "Iteration:  83%|████████▎ | 523/632 [01:11<00:14,  7.30it/s]\u001b[A\n",
      "Iteration:  83%|████████▎ | 524/632 [01:11<00:14,  7.49it/s]\u001b[A\n",
      "Iteration:  83%|████████▎ | 525/632 [01:12<00:14,  7.40it/s]\u001b[A\n",
      "Iteration:  83%|████████▎ | 526/632 [01:12<00:14,  7.41it/s]\u001b[A\n",
      "Iteration:  83%|████████▎ | 527/632 [01:12<00:13,  7.58it/s]\u001b[A\n",
      "Iteration:  84%|████████▎ | 528/632 [01:12<00:14,  7.18it/s]\u001b[A\n",
      "Iteration:  84%|████████▎ | 529/632 [01:12<00:14,  7.13it/s]\u001b[A\n",
      "Iteration:  84%|████████▍ | 530/632 [01:12<00:13,  7.50it/s]\u001b[A\n",
      "Iteration:  84%|████████▍ | 531/632 [01:12<00:13,  7.59it/s]\u001b[A\n",
      "Iteration:  84%|████████▍ | 532/632 [01:12<00:13,  7.35it/s]\u001b[A\n",
      "Iteration:  84%|████████▍ | 533/632 [01:13<00:13,  7.36it/s]\u001b[A\n",
      "Iteration:  84%|████████▍ | 534/632 [01:13<00:13,  7.27it/s]\u001b[A\n",
      "Iteration:  85%|████████▍ | 535/632 [01:13<00:13,  7.15it/s]\u001b[A\n",
      "Iteration:  85%|████████▍ | 536/632 [01:13<00:13,  7.20it/s]\u001b[A\n",
      "Iteration:  85%|████████▍ | 537/632 [01:13<00:12,  7.61it/s]\u001b[A\n",
      "Iteration:  85%|████████▌ | 538/632 [01:13<00:12,  7.26it/s]\u001b[A\n",
      "Iteration:  85%|████████▌ | 539/632 [01:13<00:12,  7.22it/s]\u001b[A\n",
      "Iteration:  85%|████████▌ | 540/632 [01:14<00:12,  7.33it/s]\u001b[A\n",
      "Iteration:  86%|████████▌ | 541/632 [01:14<00:11,  7.70it/s]\u001b[A\n",
      "Iteration:  86%|████████▌ | 542/632 [01:14<00:12,  7.38it/s]\u001b[A\n",
      "Iteration:  86%|████████▌ | 543/632 [01:14<00:11,  7.45it/s]\u001b[A\n",
      "Iteration:  86%|████████▌ | 544/632 [01:14<00:11,  7.48it/s]\u001b[A\n",
      "Iteration:  86%|████████▌ | 545/632 [01:14<00:12,  6.91it/s]\u001b[A\n",
      "Iteration:  86%|████████▋ | 546/632 [01:14<00:12,  7.07it/s]\u001b[A\n",
      "Iteration:  87%|████████▋ | 547/632 [01:15<00:11,  7.11it/s]\u001b[A\n",
      "Iteration:  87%|████████▋ | 548/632 [01:15<00:11,  7.14it/s]\u001b[A\n",
      "Iteration:  87%|████████▋ | 549/632 [01:15<00:11,  7.19it/s]\u001b[A\n",
      "Iteration:  87%|████████▋ | 550/632 [01:15<00:11,  7.13it/s]\u001b[A\n",
      "Iteration:  87%|████████▋ | 551/632 [01:15<00:11,  7.03it/s]\u001b[A\n",
      "Iteration:  87%|████████▋ | 552/632 [01:15<00:11,  7.15it/s]\u001b[A\n",
      "Iteration:  88%|████████▊ | 553/632 [01:15<00:10,  7.21it/s]\u001b[A\n",
      "Iteration:  88%|████████▊ | 554/632 [01:15<00:10,  7.30it/s]\u001b[A\n",
      "Iteration:  88%|████████▊ | 555/632 [01:16<00:10,  7.22it/s]\u001b[A\n",
      "Iteration:  88%|████████▊ | 556/632 [01:16<00:10,  7.17it/s]\u001b[A\n",
      "Iteration:  88%|████████▊ | 557/632 [01:16<00:09,  7.52it/s]\u001b[A\n",
      "Iteration:  88%|████████▊ | 558/632 [01:16<00:09,  7.44it/s]\u001b[A\n",
      "Iteration:  88%|████████▊ | 559/632 [01:16<00:09,  7.63it/s]\u001b[A\n",
      "Iteration:  89%|████████▊ | 560/632 [01:16<00:10,  7.11it/s]\u001b[A\n",
      "Iteration:  89%|████████▉ | 561/632 [01:16<00:10,  6.94it/s]\u001b[A\n",
      "Iteration:  89%|████████▉ | 562/632 [01:17<00:09,  7.19it/s]\u001b[A\n",
      "Iteration:  89%|████████▉ | 563/632 [01:17<00:09,  7.27it/s]\u001b[A\n",
      "Iteration:  89%|████████▉ | 564/632 [01:17<00:09,  7.35it/s]\u001b[A\n",
      "Iteration:  89%|████████▉ | 565/632 [01:17<00:09,  7.35it/s]\u001b[A\n",
      "Iteration:  90%|████████▉ | 566/632 [01:17<00:08,  7.34it/s]\u001b[A\n",
      "Iteration:  90%|████████▉ | 567/632 [01:17<00:08,  7.43it/s]\u001b[A\n",
      "Iteration:  90%|████████▉ | 568/632 [01:17<00:08,  7.76it/s]\u001b[A\n",
      "Iteration:  90%|█████████ | 569/632 [01:18<00:08,  7.61it/s]\u001b[A\n",
      "Iteration:  90%|█████████ | 570/632 [01:18<00:08,  7.34it/s]\u001b[A\n",
      "Iteration:  90%|█████████ | 571/632 [01:18<00:08,  7.29it/s]\u001b[A\n",
      "Iteration:  91%|█████████ | 572/632 [01:18<00:08,  7.24it/s]\u001b[A\n",
      "Iteration:  91%|█████████ | 573/632 [01:18<00:08,  7.26it/s]\u001b[A\n",
      "Iteration:  91%|█████████ | 574/632 [01:18<00:08,  6.93it/s]\u001b[A\n",
      "Iteration:  91%|█████████ | 575/632 [01:18<00:08,  6.92it/s]\u001b[A\n",
      "Iteration:  91%|█████████ | 576/632 [01:19<00:08,  6.80it/s]\u001b[A\n",
      "Iteration:  91%|█████████▏| 577/632 [01:19<00:07,  6.93it/s]\u001b[A\n",
      "Iteration:  91%|█████████▏| 578/632 [01:19<00:07,  7.24it/s]\u001b[A\n",
      "Iteration:  92%|█████████▏| 579/632 [01:19<00:07,  7.23it/s]\u001b[A\n",
      "Iteration:  92%|█████████▏| 580/632 [01:19<00:07,  7.16it/s]\u001b[A\n",
      "Iteration:  92%|█████████▏| 581/632 [01:19<00:07,  6.87it/s]\u001b[A\n",
      "Iteration:  92%|█████████▏| 582/632 [01:19<00:07,  7.11it/s]\u001b[A\n",
      "Iteration:  92%|█████████▏| 583/632 [01:20<00:07,  6.76it/s]\u001b[A\n",
      "Iteration:  92%|█████████▏| 584/632 [01:20<00:06,  6.98it/s]\u001b[A\n",
      "Iteration:  93%|█████████▎| 585/632 [01:20<00:06,  7.09it/s]\u001b[A\n",
      "Iteration:  93%|█████████▎| 586/632 [01:20<00:06,  7.11it/s]\u001b[A\n",
      "Iteration:  93%|█████████▎| 587/632 [01:20<00:06,  6.91it/s]\u001b[A\n",
      "Iteration:  93%|█████████▎| 588/632 [01:20<00:06,  6.86it/s]\u001b[A\n",
      "Iteration:  93%|█████████▎| 589/632 [01:20<00:06,  6.64it/s]\u001b[A\n",
      "Iteration:  93%|█████████▎| 590/632 [01:21<00:06,  6.93it/s]\u001b[A\n",
      "Iteration:  94%|█████████▎| 591/632 [01:21<00:05,  7.14it/s]\u001b[A\n",
      "Iteration:  94%|█████████▎| 592/632 [01:21<00:05,  7.22it/s]\u001b[A\n",
      "Iteration:  94%|█████████▍| 593/632 [01:21<00:05,  7.28it/s]\u001b[A\n",
      "Iteration:  94%|█████████▍| 594/632 [01:21<00:05,  7.24it/s]\u001b[A\n",
      "Iteration:  94%|█████████▍| 595/632 [01:21<00:05,  7.21it/s]\u001b[A\n",
      "Iteration:  94%|█████████▍| 596/632 [01:21<00:04,  7.25it/s]\u001b[A\n",
      "Iteration:  94%|█████████▍| 597/632 [01:22<00:04,  7.04it/s]\u001b[A\n",
      "Iteration:  95%|█████████▍| 598/632 [01:22<00:04,  7.46it/s]\u001b[A\n",
      "Iteration:  95%|█████████▍| 599/632 [01:22<00:04,  7.59it/s]\u001b[A\n",
      "Iteration:  95%|█████████▍| 600/632 [01:22<00:04,  7.54it/s]\u001b[A\n",
      "Iteration:  95%|█████████▌| 601/632 [01:22<00:04,  7.34it/s]\u001b[A\n",
      "Iteration:  95%|█████████▌| 602/632 [01:22<00:03,  7.55it/s]\u001b[A\n",
      "Iteration:  95%|█████████▌| 603/632 [01:22<00:04,  7.17it/s]\u001b[A\n",
      "Iteration:  96%|█████████▌| 604/632 [01:22<00:03,  7.04it/s]\u001b[A\n",
      "Iteration:  96%|█████████▌| 605/632 [01:23<00:04,  6.74it/s]\u001b[A\n",
      "Iteration:  96%|█████████▌| 606/632 [01:23<00:03,  6.81it/s]\u001b[A\n",
      "Iteration:  96%|█████████▌| 607/632 [01:23<00:03,  7.06it/s]\u001b[A\n",
      "Iteration:  96%|█████████▌| 608/632 [01:23<00:03,  7.05it/s]\u001b[A\n",
      "Iteration:  96%|█████████▋| 609/632 [01:23<00:03,  6.98it/s]\u001b[A\n",
      "Iteration:  97%|█████████▋| 610/632 [01:23<00:03,  6.95it/s]\u001b[A\n",
      "Iteration:  97%|█████████▋| 611/632 [01:23<00:02,  7.26it/s]\u001b[A\n",
      "Iteration:  97%|█████████▋| 612/632 [01:24<00:02,  7.25it/s]\u001b[A\n",
      "Iteration:  97%|█████████▋| 613/632 [01:24<00:02,  7.55it/s]\u001b[A\n",
      "Iteration:  97%|█████████▋| 614/632 [01:24<00:02,  7.50it/s]\u001b[A\n",
      "Iteration:  97%|█████████▋| 615/632 [01:24<00:02,  7.20it/s]\u001b[A\n",
      "Iteration:  97%|█████████▋| 616/632 [01:24<00:02,  7.15it/s]\u001b[A\n",
      "Iteration:  98%|█████████▊| 617/632 [01:24<00:02,  7.06it/s]\u001b[A\n",
      "Iteration:  98%|█████████▊| 618/632 [01:24<00:01,  7.39it/s]\u001b[A\n",
      "Iteration:  98%|█████████▊| 619/632 [01:25<00:01,  7.33it/s]\u001b[A\n",
      "Iteration:  98%|█████████▊| 620/632 [01:25<00:01,  7.70it/s]\u001b[A\n",
      "Iteration:  98%|█████████▊| 621/632 [01:25<00:01,  6.69it/s]\u001b[A\n",
      "Iteration:  98%|█████████▊| 622/632 [01:25<00:01,  6.81it/s]\u001b[A\n",
      "Iteration:  99%|█████████▊| 623/632 [01:25<00:01,  6.83it/s]\u001b[A\n",
      "Iteration:  99%|█████████▊| 624/632 [01:25<00:01,  6.98it/s]\u001b[A\n",
      "Iteration:  99%|█████████▉| 625/632 [01:25<00:01,  6.92it/s]\u001b[A\n",
      "Iteration:  99%|█████████▉| 626/632 [01:26<00:00,  7.15it/s]\u001b[A\n",
      "Iteration:  99%|█████████▉| 627/632 [01:26<00:00,  7.31it/s]\u001b[A\n",
      "Iteration:  99%|█████████▉| 628/632 [01:26<00:00,  7.06it/s]\u001b[A\n",
      "Iteration: 100%|█████████▉| 629/632 [01:26<00:00,  7.00it/s]\u001b[A\n",
      "Iteration: 100%|█████████▉| 630/632 [01:26<00:00,  7.09it/s]\u001b[A\n",
      "Iteration: 100%|█████████▉| 631/632 [01:26<00:00,  7.04it/s]\u001b[A\n",
      "Iteration: 100%|██████████| 632/632 [01:26<00:00,  7.28it/s]\u001b[A\n",
      "Epoch:  75%|███████▌  | 3/4 [06:05<01:32, 92.74s/it]\n",
      "Convert Evaluating:   0%|          | 0/188 [00:00<?, ?it/s]\u001b[A\n",
      "Convert Evaluating:   3%|▎         | 5/188 [00:00<00:03, 45.81it/s]\u001b[A"
     ]
    },
    {
     "name": "stdout",
     "output_type": "stream",
     "text": [
      "2019-12-17 05:54:36 - Evaluation the model on  dataset after epoch 3:\n"
     ]
    },
    {
     "name": "stderr",
     "output_type": "stream",
     "text": [
      "\n",
      "Convert Evaluating:   5%|▌         | 10/188 [00:00<00:03, 46.17it/s]\u001b[A\n",
      "Convert Evaluating:   8%|▊         | 15/188 [00:00<00:03, 46.33it/s]\u001b[A\n",
      "Convert Evaluating:  11%|█         | 20/188 [00:00<00:03, 46.81it/s]\u001b[A\n",
      "Convert Evaluating:  13%|█▎        | 25/188 [00:00<00:03, 46.98it/s]\u001b[A\n",
      "Convert Evaluating:  16%|█▌        | 30/188 [00:00<00:03, 47.07it/s]\u001b[A\n",
      "Convert Evaluating:  19%|█▊        | 35/188 [00:00<00:03, 46.68it/s]\u001b[A\n",
      "Convert Evaluating:  21%|██▏       | 40/188 [00:00<00:03, 45.98it/s]\u001b[A\n",
      "Convert Evaluating:  24%|██▍       | 45/188 [00:00<00:03, 45.85it/s]\u001b[A\n",
      "Convert Evaluating:  27%|██▋       | 50/188 [00:01<00:03, 45.73it/s]\u001b[A\n",
      "Convert Evaluating:  29%|██▉       | 55/188 [00:01<00:02, 45.79it/s]\u001b[A\n",
      "Convert Evaluating:  32%|███▏      | 60/188 [00:01<00:02, 44.54it/s]\u001b[A\n",
      "Convert Evaluating:  35%|███▍      | 65/188 [00:01<00:02, 44.49it/s]\u001b[A\n",
      "Convert Evaluating:  37%|███▋      | 70/188 [00:01<00:02, 44.27it/s]\u001b[A\n",
      "Convert Evaluating:  40%|███▉      | 75/188 [00:01<00:02, 44.23it/s]\u001b[A\n",
      "Convert Evaluating:  43%|████▎     | 80/188 [00:01<00:02, 42.31it/s]\u001b[A\n",
      "Convert Evaluating:  45%|████▌     | 85/188 [00:01<00:02, 39.87it/s]\u001b[A\n",
      "Convert Evaluating:  48%|████▊     | 90/188 [00:02<00:02, 38.30it/s]\u001b[A\n",
      "Convert Evaluating:  50%|█████     | 94/188 [00:02<00:02, 37.83it/s]\u001b[A\n",
      "Convert Evaluating:  52%|█████▏    | 98/188 [00:02<00:02, 34.37it/s]\u001b[A\n",
      "Convert Evaluating:  54%|█████▍    | 102/188 [00:02<00:02, 35.56it/s]\u001b[A\n",
      "Convert Evaluating:  56%|█████▋    | 106/188 [00:02<00:02, 35.81it/s]\u001b[A\n",
      "Convert Evaluating:  59%|█████▊    | 110/188 [00:02<00:02, 35.68it/s]\u001b[A\n",
      "Convert Evaluating:  61%|██████    | 114/188 [00:02<00:02, 35.15it/s]\u001b[A\n",
      "Convert Evaluating:  63%|██████▎   | 118/188 [00:02<00:01, 35.34it/s]\u001b[A\n",
      "Convert Evaluating:  65%|██████▍   | 122/188 [00:02<00:01, 35.90it/s]\u001b[A\n",
      "Convert Evaluating:  67%|██████▋   | 126/188 [00:03<00:01, 35.44it/s]\u001b[A\n",
      "Convert Evaluating:  69%|██████▉   | 130/188 [00:03<00:01, 33.49it/s]\u001b[A\n",
      "Convert Evaluating:  71%|███████▏  | 134/188 [00:03<00:01, 32.09it/s]\u001b[A\n",
      "Convert Evaluating:  73%|███████▎  | 138/188 [00:03<00:01, 31.20it/s]\u001b[A\n",
      "Convert Evaluating:  76%|███████▌  | 142/188 [00:03<00:01, 29.82it/s]\u001b[A\n",
      "Convert Evaluating:  78%|███████▊  | 146/188 [00:03<00:01, 29.01it/s]\u001b[A\n",
      "Convert Evaluating:  80%|███████▉  | 150/188 [00:03<00:01, 29.71it/s]\u001b[A\n",
      "Convert Evaluating:  81%|████████▏ | 153/188 [00:04<00:01, 28.85it/s]\u001b[A\n",
      "Convert Evaluating:  83%|████████▎ | 156/188 [00:04<00:01, 28.09it/s]\u001b[A\n",
      "Convert Evaluating:  86%|████████▌ | 161/188 [00:04<00:00, 31.43it/s]\u001b[A\n",
      "Convert Evaluating:  88%|████████▊ | 166/188 [00:04<00:00, 34.35it/s]\u001b[A\n",
      "Convert Evaluating:  91%|█████████ | 171/188 [00:04<00:00, 36.69it/s]\u001b[A\n",
      "Convert Evaluating:  94%|█████████▎| 176/188 [00:04<00:00, 38.48it/s]\u001b[A\n",
      "Convert Evaluating:  96%|█████████▋| 181/188 [00:04<00:00, 39.94it/s]\u001b[A\n",
      "Convert Evaluating: 100%|██████████| 188/188 [00:04<00:00, 38.48it/s]\u001b[A\n",
      "Epoch:  75%|███████▌  | 3/4 [06:10<01:32, 92.74s/it]"
     ]
    },
    {
     "name": "stdout",
     "output_type": "stream",
     "text": [
      "2019-12-17 05:54:40 - Cosine-Similarity :\tPearson: 0.8757\tSpearman: 0.8785\n",
      "2019-12-17 05:54:40 - Manhattan-Distance:\tPearson: 0.8581\tSpearman: 0.8636\n",
      "2019-12-17 05:54:40 - Euclidean-Distance:\tPearson: 0.8592\tSpearman: 0.8645\n",
      "2019-12-17 05:54:40 - Dot-Product-Similarity:\tPearson: 0.8140\tSpearman: 0.8265\n",
      "2019-12-17 05:54:40 - Save model to output/training_stsbenchmark_continue_training-roberta-base-nli-stsb-mean-tokens-2019-12-17_05-48-22\n",
      "2019-12-17 05:54:40 - Configuration saved in output/training_stsbenchmark_continue_training-roberta-base-nli-stsb-mean-tokens-2019-12-17_05-48-22/0_RoBERTa/config.json\n"
     ]
    },
    {
     "name": "stderr",
     "output_type": "stream",
     "text": [
      "Epoch: 100%|██████████| 4/4 [06:12<00:00, 93.19s/it]"
     ]
    },
    {
     "name": "stdout",
     "output_type": "stream",
     "text": [
      "2019-12-17 05:54:42 - Model weights saved in output/training_stsbenchmark_continue_training-roberta-base-nli-stsb-mean-tokens-2019-12-17_05-48-22/0_RoBERTa/pytorch_model.bin\n"
     ]
    },
    {
     "name": "stderr",
     "output_type": "stream",
     "text": [
      "\n"
     ]
    }
   ],
   "source": [
    "# Train the model\n",
    "model.fit(train_objectives=[(train_dataloader, train_loss)],\n",
    "          evaluator=evaluator,\n",
    "          epochs=num_epochs,\n",
    "          evaluation_steps=1000,\n",
    "          warmup_steps=warmup_steps,\n",
    "          output_path=model_save_path)"
   ]
  },
  {
   "cell_type": "code",
   "execution_count": 8,
   "metadata": {
    "scrolled": true
   },
   "outputs": [
    {
     "name": "stdout",
     "output_type": "stream",
     "text": [
      "2019-12-17 05:54:43 - Load pretrained SentenceTransformer: output/training_stsbenchmark_continue_training-roberta-base-nli-stsb-mean-tokens-2019-12-17_05-48-22\n",
      "2019-12-17 05:54:43 - Load SentenceTransformer from folder: output/training_stsbenchmark_continue_training-roberta-base-nli-stsb-mean-tokens-2019-12-17_05-48-22\n",
      "2019-12-17 05:54:43 - loading configuration file output/training_stsbenchmark_continue_training-roberta-base-nli-stsb-mean-tokens-2019-12-17_05-48-22/0_RoBERTa/config.json\n",
      "2019-12-17 05:54:43 - Model config {\n",
      "  \"attention_probs_dropout_prob\": 0.1,\n",
      "  \"finetuning_task\": null,\n",
      "  \"hidden_act\": \"gelu\",\n",
      "  \"hidden_dropout_prob\": 0.1,\n",
      "  \"hidden_size\": 768,\n",
      "  \"initializer_range\": 0.02,\n",
      "  \"intermediate_size\": 3072,\n",
      "  \"is_decoder\": false,\n",
      "  \"layer_norm_eps\": 1e-12,\n",
      "  \"max_position_embeddings\": 514,\n",
      "  \"num_attention_heads\": 12,\n",
      "  \"num_hidden_layers\": 12,\n",
      "  \"num_labels\": 2,\n",
      "  \"output_attentions\": false,\n",
      "  \"output_hidden_states\": false,\n",
      "  \"output_past\": true,\n",
      "  \"pruned_heads\": {},\n",
      "  \"torchscript\": false,\n",
      "  \"type_vocab_size\": 1,\n",
      "  \"use_bfloat16\": false,\n",
      "  \"vocab_size\": 50265\n",
      "}\n",
      "\n",
      "2019-12-17 05:54:43 - loading weights file output/training_stsbenchmark_continue_training-roberta-base-nli-stsb-mean-tokens-2019-12-17_05-48-22/0_RoBERTa/pytorch_model.bin\n",
      "2019-12-17 05:54:45 - Model name 'output/training_stsbenchmark_continue_training-roberta-base-nli-stsb-mean-tokens-2019-12-17_05-48-22/0_RoBERTa' not found in model shortcut name list (roberta-base, roberta-large, roberta-large-mnli, distilroberta-base, roberta-base-openai-detector, roberta-large-openai-detector). Assuming 'output/training_stsbenchmark_continue_training-roberta-base-nli-stsb-mean-tokens-2019-12-17_05-48-22/0_RoBERTa' is a path or url to a directory containing tokenizer files.\n",
      "2019-12-17 05:54:45 - loading file output/training_stsbenchmark_continue_training-roberta-base-nli-stsb-mean-tokens-2019-12-17_05-48-22/0_RoBERTa/vocab.json\n",
      "2019-12-17 05:54:45 - loading file output/training_stsbenchmark_continue_training-roberta-base-nli-stsb-mean-tokens-2019-12-17_05-48-22/0_RoBERTa/merges.txt\n",
      "2019-12-17 05:54:45 - loading file output/training_stsbenchmark_continue_training-roberta-base-nli-stsb-mean-tokens-2019-12-17_05-48-22/0_RoBERTa/added_tokens.json\n",
      "2019-12-17 05:54:45 - loading file output/training_stsbenchmark_continue_training-roberta-base-nli-stsb-mean-tokens-2019-12-17_05-48-22/0_RoBERTa/special_tokens_map.json\n",
      "2019-12-17 05:54:45 - loading file output/training_stsbenchmark_continue_training-roberta-base-nli-stsb-mean-tokens-2019-12-17_05-48-22/0_RoBERTa/tokenizer_config.json\n",
      "2019-12-17 05:54:45 - Use pytorch device: cuda\n"
     ]
    },
    {
     "name": "stderr",
     "output_type": "stream",
     "text": [
      "Convert dataset: 100%|██████████| 1500/1500 [00:00<00:00, 2764.23it/s]\n",
      "Convert Evaluating:   3%|▎         | 5/188 [00:00<00:03, 47.70it/s]"
     ]
    },
    {
     "name": "stdout",
     "output_type": "stream",
     "text": [
      "2019-12-17 05:54:46 - Num sentences: 1500\n",
      "2019-12-17 05:54:46 - Sentences 0 longer than max_seqence_length: 0\n",
      "2019-12-17 05:54:46 - Sentences 1 longer than max_seqence_length: 0\n",
      "2019-12-17 05:54:46 - Evaluation the model on  dataset:\n"
     ]
    },
    {
     "name": "stderr",
     "output_type": "stream",
     "text": [
      "Convert Evaluating: 100%|██████████| 188/188 [00:04<00:00, 39.23it/s]"
     ]
    },
    {
     "name": "stdout",
     "output_type": "stream",
     "text": [
      "2019-12-17 05:54:51 - Cosine-Similarity :\tPearson: 0.8757\tSpearman: 0.8785\n",
      "2019-12-17 05:54:51 - Manhattan-Distance:\tPearson: 0.8581\tSpearman: 0.8636\n",
      "2019-12-17 05:54:51 - Euclidean-Distance:\tPearson: 0.8592\tSpearman: 0.8645\n",
      "2019-12-17 05:54:51 - Dot-Product-Similarity:\tPearson: 0.8140\tSpearman: 0.8265\n"
     ]
    },
    {
     "name": "stderr",
     "output_type": "stream",
     "text": [
      "\n"
     ]
    },
    {
     "data": {
      "text/plain": [
       "0.8785484621675564"
      ]
     },
     "execution_count": 8,
     "metadata": {},
     "output_type": "execute_result"
    }
   ],
   "source": [
    "model = SentenceTransformer(model_save_path)\n",
    "test_data = SentencesDataset(examples=sts_reader.get_examples(\"sts-dev.csv\"), model=model)\n",
    "test_dataloader = DataLoader(test_data, shuffle=False, batch_size=train_batch_size)\n",
    "evaluator = EmbeddingSimilarityEvaluator(test_dataloader)\n",
    "model.evaluate(evaluator)"
   ]
  },
  {
   "cell_type": "code",
   "execution_count": 9,
   "metadata": {},
   "outputs": [],
   "source": [
    "from sentence_transformers import SentenceTransformer\n",
    "import scipy.spatial"
   ]
  },
  {
   "cell_type": "code",
   "execution_count": 10,
   "metadata": {},
   "outputs": [],
   "source": [
    "import requests\n",
    "import pandas as pd\n",
    "from sklearn.preprocessing import MinMaxScaler\n",
    "from numpy import dot\n",
    "from numpy.linalg import norm\n",
    "from scipy.stats import pearsonr"
   ]
  },
  {
   "cell_type": "code",
   "execution_count": 11,
   "metadata": {},
   "outputs": [
    {
     "name": "stdout",
     "output_type": "stream",
     "text": [
      "1500\n"
     ]
    }
   ],
   "source": [
    "data3 = open('/home/vv/git/Stsbenchmark/stsbenchmark/sts-dev.csv')\n",
    "d3 = data3.readlines()\n",
    "data = d3\n",
    "print(len(data))"
   ]
  },
  {
   "cell_type": "code",
   "execution_count": 12,
   "metadata": {},
   "outputs": [],
   "source": [
    "df = []\n",
    "for i in range(len(data)):\n",
    "    df.append(data[i].split('\\t'))\n",
    "score = []\n",
    "sentence1 = []\n",
    "sentence2 = []\n",
    "for j in range(len(df)):\n",
    "    score.append(df[j][4])\n",
    "    sentence1.append(df[j][5])\n",
    "    b = df[j][6]\n",
    "    sentence2.append(b.rstrip(\"\\n\"))"
   ]
  },
  {
   "cell_type": "code",
   "execution_count": 13,
   "metadata": {},
   "outputs": [],
   "source": [
    "dict = list(zip(sentence1, sentence2, score))\n",
    "df = pd.DataFrame(dict, columns = ['sentence1', 'sentence2', 'score'])"
   ]
  },
  {
   "cell_type": "code",
   "execution_count": 14,
   "metadata": {},
   "outputs": [
    {
     "data": {
      "text/html": [
       "<div>\n",
       "<style scoped>\n",
       "    .dataframe tbody tr th:only-of-type {\n",
       "        vertical-align: middle;\n",
       "    }\n",
       "\n",
       "    .dataframe tbody tr th {\n",
       "        vertical-align: top;\n",
       "    }\n",
       "\n",
       "    .dataframe thead th {\n",
       "        text-align: right;\n",
       "    }\n",
       "</style>\n",
       "<table border=\"1\" class=\"dataframe\">\n",
       "  <thead>\n",
       "    <tr style=\"text-align: right;\">\n",
       "      <th></th>\n",
       "      <th>sentence1</th>\n",
       "      <th>sentence2</th>\n",
       "      <th>score</th>\n",
       "    </tr>\n",
       "  </thead>\n",
       "  <tbody>\n",
       "    <tr>\n",
       "      <th>0</th>\n",
       "      <td>A man with a hard hat is dancing.</td>\n",
       "      <td>A man wearing a hard hat is dancing.</td>\n",
       "      <td>5.000</td>\n",
       "    </tr>\n",
       "    <tr>\n",
       "      <th>1</th>\n",
       "      <td>A young child is riding a horse.</td>\n",
       "      <td>A child is riding a horse.</td>\n",
       "      <td>4.750</td>\n",
       "    </tr>\n",
       "    <tr>\n",
       "      <th>2</th>\n",
       "      <td>A man is feeding a mouse to a snake.</td>\n",
       "      <td>The man is feeding a mouse to the snake.</td>\n",
       "      <td>5.000</td>\n",
       "    </tr>\n",
       "    <tr>\n",
       "      <th>3</th>\n",
       "      <td>A woman is playing the guitar.</td>\n",
       "      <td>A man is playing guitar.</td>\n",
       "      <td>2.400</td>\n",
       "    </tr>\n",
       "    <tr>\n",
       "      <th>4</th>\n",
       "      <td>A woman is playing the flute.</td>\n",
       "      <td>A man is playing a flute.</td>\n",
       "      <td>2.750</td>\n",
       "    </tr>\n",
       "  </tbody>\n",
       "</table>\n",
       "</div>"
      ],
      "text/plain": [
       "                              sentence1  \\\n",
       "0     A man with a hard hat is dancing.   \n",
       "1      A young child is riding a horse.   \n",
       "2  A man is feeding a mouse to a snake.   \n",
       "3        A woman is playing the guitar.   \n",
       "4         A woman is playing the flute.   \n",
       "\n",
       "                                  sentence2  score  \n",
       "0      A man wearing a hard hat is dancing.  5.000  \n",
       "1                A child is riding a horse.  4.750  \n",
       "2  The man is feeding a mouse to the snake.  5.000  \n",
       "3                  A man is playing guitar.  2.400  \n",
       "4                 A man is playing a flute.  2.750  "
      ]
     },
     "execution_count": 14,
     "metadata": {},
     "output_type": "execute_result"
    }
   ],
   "source": [
    "df.head()"
   ]
  },
  {
   "cell_type": "code",
   "execution_count": 15,
   "metadata": {},
   "outputs": [],
   "source": [
    "# scaler = MinMaxScaler()\n",
    "# df['score'] = scaler.fit_transform(df['score'].values.reshape(-1,1))"
   ]
  },
  {
   "cell_type": "code",
   "execution_count": 35,
   "metadata": {},
   "outputs": [
    {
     "data": {
      "text/html": [
       "<div>\n",
       "<style scoped>\n",
       "    .dataframe tbody tr th:only-of-type {\n",
       "        vertical-align: middle;\n",
       "    }\n",
       "\n",
       "    .dataframe tbody tr th {\n",
       "        vertical-align: top;\n",
       "    }\n",
       "\n",
       "    .dataframe thead th {\n",
       "        text-align: right;\n",
       "    }\n",
       "</style>\n",
       "<table border=\"1\" class=\"dataframe\">\n",
       "  <thead>\n",
       "    <tr style=\"text-align: right;\">\n",
       "      <th></th>\n",
       "      <th>sentence1</th>\n",
       "      <th>sentence2</th>\n",
       "      <th>score</th>\n",
       "      <th>score_bert</th>\n",
       "    </tr>\n",
       "  </thead>\n",
       "  <tbody>\n",
       "    <tr>\n",
       "      <th>0</th>\n",
       "      <td>A man with a hard hat is dancing.</td>\n",
       "      <td>A man wearing a hard hat is dancing.</td>\n",
       "      <td>5.000</td>\n",
       "      <td>4.984240</td>\n",
       "    </tr>\n",
       "    <tr>\n",
       "      <th>1</th>\n",
       "      <td>A young child is riding a horse.</td>\n",
       "      <td>A child is riding a horse.</td>\n",
       "      <td>4.750</td>\n",
       "      <td>4.967064</td>\n",
       "    </tr>\n",
       "    <tr>\n",
       "      <th>2</th>\n",
       "      <td>A man is feeding a mouse to a snake.</td>\n",
       "      <td>The man is feeding a mouse to the snake.</td>\n",
       "      <td>5.000</td>\n",
       "      <td>4.952880</td>\n",
       "    </tr>\n",
       "    <tr>\n",
       "      <th>3</th>\n",
       "      <td>A woman is playing the guitar.</td>\n",
       "      <td>A man is playing guitar.</td>\n",
       "      <td>2.400</td>\n",
       "      <td>3.032084</td>\n",
       "    </tr>\n",
       "    <tr>\n",
       "      <th>4</th>\n",
       "      <td>A woman is playing the flute.</td>\n",
       "      <td>A man is playing a flute.</td>\n",
       "      <td>2.750</td>\n",
       "      <td>4.105556</td>\n",
       "    </tr>\n",
       "    <tr>\n",
       "      <th>5</th>\n",
       "      <td>A woman is cutting an onion.</td>\n",
       "      <td>A man is cutting onions.</td>\n",
       "      <td>2.615</td>\n",
       "      <td>3.161915</td>\n",
       "    </tr>\n",
       "    <tr>\n",
       "      <th>6</th>\n",
       "      <td>A man is erasing a chalk board.</td>\n",
       "      <td>The man is erasing the chalk board.</td>\n",
       "      <td>5.000</td>\n",
       "      <td>4.928102</td>\n",
       "    </tr>\n",
       "    <tr>\n",
       "      <th>7</th>\n",
       "      <td>A woman is carrying a boy.</td>\n",
       "      <td>A woman is carrying her baby.</td>\n",
       "      <td>2.333</td>\n",
       "      <td>3.577638</td>\n",
       "    </tr>\n",
       "    <tr>\n",
       "      <th>8</th>\n",
       "      <td>Three men are playing guitars.</td>\n",
       "      <td>Three men are on stage playing guitars.</td>\n",
       "      <td>3.750</td>\n",
       "      <td>4.149126</td>\n",
       "    </tr>\n",
       "    <tr>\n",
       "      <th>9</th>\n",
       "      <td>A woman peels a potato.</td>\n",
       "      <td>A woman is peeling a potato.</td>\n",
       "      <td>5.000</td>\n",
       "      <td>4.959842</td>\n",
       "    </tr>\n",
       "    <tr>\n",
       "      <th>10</th>\n",
       "      <td>People are playing cricket.</td>\n",
       "      <td>Men are playing cricket.</td>\n",
       "      <td>3.200</td>\n",
       "      <td>4.169291</td>\n",
       "    </tr>\n",
       "    <tr>\n",
       "      <th>11</th>\n",
       "      <td>A man is playing a guitar.</td>\n",
       "      <td>A man is playing a flute.</td>\n",
       "      <td>1.583</td>\n",
       "      <td>1.817731</td>\n",
       "    </tr>\n",
       "    <tr>\n",
       "      <th>12</th>\n",
       "      <td>The cougar is chasing the bear.</td>\n",
       "      <td>A cougar is chasing a bear.</td>\n",
       "      <td>5.000</td>\n",
       "      <td>4.914759</td>\n",
       "    </tr>\n",
       "    <tr>\n",
       "      <th>13</th>\n",
       "      <td>The man cut down a tree with an axe.</td>\n",
       "      <td>A man chops down a tree with an axe.</td>\n",
       "      <td>5.000</td>\n",
       "      <td>4.920287</td>\n",
       "    </tr>\n",
       "    <tr>\n",
       "      <th>14</th>\n",
       "      <td>The man is playing the guitar.</td>\n",
       "      <td>A man is playing a guitar.</td>\n",
       "      <td>4.909</td>\n",
       "      <td>4.930138</td>\n",
       "    </tr>\n",
       "    <tr>\n",
       "      <th>15</th>\n",
       "      <td>A man is finding something.</td>\n",
       "      <td>A woman is slicing something.</td>\n",
       "      <td>0.800</td>\n",
       "      <td>0.754216</td>\n",
       "    </tr>\n",
       "    <tr>\n",
       "      <th>16</th>\n",
       "      <td>The girl sang into a microphone.</td>\n",
       "      <td>The lady sang into the microphone.</td>\n",
       "      <td>2.400</td>\n",
       "      <td>4.757285</td>\n",
       "    </tr>\n",
       "    <tr>\n",
       "      <th>17</th>\n",
       "      <td>A man is climbing a rope.</td>\n",
       "      <td>A man climbs a rope.</td>\n",
       "      <td>5.000</td>\n",
       "      <td>4.954791</td>\n",
       "    </tr>\n",
       "    <tr>\n",
       "      <th>18</th>\n",
       "      <td>Kittens are eating food.</td>\n",
       "      <td>Kittens are eating from dishes.</td>\n",
       "      <td>4.000</td>\n",
       "      <td>4.680212</td>\n",
       "    </tr>\n",
       "    <tr>\n",
       "      <th>19</th>\n",
       "      <td>A man is speaking.</td>\n",
       "      <td>A man is spitting.</td>\n",
       "      <td>0.636</td>\n",
       "      <td>1.675627</td>\n",
       "    </tr>\n",
       "  </tbody>\n",
       "</table>\n",
       "</div>"
      ],
      "text/plain": [
       "                               sentence1  \\\n",
       "0      A man with a hard hat is dancing.   \n",
       "1       A young child is riding a horse.   \n",
       "2   A man is feeding a mouse to a snake.   \n",
       "3         A woman is playing the guitar.   \n",
       "4          A woman is playing the flute.   \n",
       "5           A woman is cutting an onion.   \n",
       "6        A man is erasing a chalk board.   \n",
       "7             A woman is carrying a boy.   \n",
       "8         Three men are playing guitars.   \n",
       "9                A woman peels a potato.   \n",
       "10           People are playing cricket.   \n",
       "11            A man is playing a guitar.   \n",
       "12       The cougar is chasing the bear.   \n",
       "13  The man cut down a tree with an axe.   \n",
       "14        The man is playing the guitar.   \n",
       "15           A man is finding something.   \n",
       "16      The girl sang into a microphone.   \n",
       "17             A man is climbing a rope.   \n",
       "18              Kittens are eating food.   \n",
       "19                    A man is speaking.   \n",
       "\n",
       "                                   sentence2  score  score_bert  \n",
       "0       A man wearing a hard hat is dancing.  5.000    4.984240  \n",
       "1                 A child is riding a horse.  4.750    4.967064  \n",
       "2   The man is feeding a mouse to the snake.  5.000    4.952880  \n",
       "3                   A man is playing guitar.  2.400    3.032084  \n",
       "4                  A man is playing a flute.  2.750    4.105556  \n",
       "5                   A man is cutting onions.  2.615    3.161915  \n",
       "6        The man is erasing the chalk board.  5.000    4.928102  \n",
       "7              A woman is carrying her baby.  2.333    3.577638  \n",
       "8    Three men are on stage playing guitars.  3.750    4.149126  \n",
       "9               A woman is peeling a potato.  5.000    4.959842  \n",
       "10                  Men are playing cricket.  3.200    4.169291  \n",
       "11                 A man is playing a flute.  1.583    1.817731  \n",
       "12               A cougar is chasing a bear.  5.000    4.914759  \n",
       "13      A man chops down a tree with an axe.  5.000    4.920287  \n",
       "14                A man is playing a guitar.  4.909    4.930138  \n",
       "15             A woman is slicing something.  0.800    0.754216  \n",
       "16        The lady sang into the microphone.  2.400    4.757285  \n",
       "17                      A man climbs a rope.  5.000    4.954791  \n",
       "18           Kittens are eating from dishes.  4.000    4.680212  \n",
       "19                        A man is spitting.  0.636    1.675627  "
      ]
     },
     "execution_count": 35,
     "metadata": {},
     "output_type": "execute_result"
    }
   ],
   "source": [
    "df.head(20)"
   ]
  },
  {
   "cell_type": "code",
   "execution_count": 17,
   "metadata": {
    "scrolled": true
   },
   "outputs": [
    {
     "name": "stderr",
     "output_type": "stream",
     "text": [
      "Batches: 100%|██████████| 1/1 [00:00<00:00, 69.61it/s]\n",
      "Batches: 100%|██████████| 1/1 [00:00<00:00, 91.52it/s]\n",
      "Batches: 100%|██████████| 1/1 [00:00<00:00, 89.48it/s]\n",
      "Batches: 100%|██████████| 1/1 [00:00<00:00, 93.23it/s]\n",
      "Batches: 100%|██████████| 1/1 [00:00<00:00, 92.75it/s]\n",
      "Batches: 100%|██████████| 1/1 [00:00<00:00, 91.40it/s]\n",
      "Batches: 100%|██████████| 1/1 [00:00<00:00, 96.58it/s]\n",
      "Batches: 100%|██████████| 1/1 [00:00<00:00, 95.07it/s]"
     ]
    },
    {
     "name": "stdout",
     "output_type": "stream",
     "text": [
      "i :  0\n",
      "i :  1\n",
      "i :  2\n"
     ]
    },
    {
     "name": "stderr",
     "output_type": "stream",
     "text": [
      "\n",
      "Batches: 100%|██████████| 1/1 [00:00<00:00, 90.08it/s]\n",
      "Batches: 100%|██████████| 1/1 [00:00<00:00, 90.94it/s]\n",
      "Batches:   0%|          | 0/1 [00:00<?, ?it/s]"
     ]
    },
    {
     "name": "stdout",
     "output_type": "stream",
     "text": [
      "i :  3\n",
      "i :  4\n"
     ]
    },
    {
     "name": "stderr",
     "output_type": "stream",
     "text": [
      "Batches: 100%|██████████| 1/1 [00:00<00:00, 92.99it/s]\n",
      "Batches: 100%|██████████| 1/1 [00:00<00:00, 94.76it/s]\n",
      "Batches: 100%|██████████| 1/1 [00:00<00:00, 90.23it/s]\n",
      "Batches: 100%|██████████| 1/1 [00:00<00:00, 90.65it/s]\n",
      "Batches: 100%|██████████| 1/1 [00:00<00:00, 92.72it/s]\n",
      "Batches: 100%|██████████| 1/1 [00:00<00:00, 96.41it/s]\n",
      "Batches: 100%|██████████| 1/1 [00:00<00:00, 92.63it/s]\n",
      "Batches: 100%|██████████| 1/1 [00:00<00:00, 91.25it/s]\n",
      "Batches:   0%|          | 0/1 [00:00<?, ?it/s]"
     ]
    },
    {
     "name": "stdout",
     "output_type": "stream",
     "text": [
      "i :  5\n",
      "i :  6\n",
      "i :  7\n",
      "i :  8\n"
     ]
    },
    {
     "name": "stderr",
     "output_type": "stream",
     "text": [
      "Batches: 100%|██████████| 1/1 [00:00<00:00, 93.58it/s]\n",
      "Batches: 100%|██████████| 1/1 [00:00<00:00, 91.95it/s]\n",
      "Batches: 100%|██████████| 1/1 [00:00<00:00, 91.60it/s]\n",
      "Batches: 100%|██████████| 1/1 [00:00<00:00, 94.39it/s]\n",
      "Batches: 100%|██████████| 1/1 [00:00<00:00, 95.28it/s]\n",
      "Batches: 100%|██████████| 1/1 [00:00<00:00, 90.86it/s]\n",
      "Batches:   0%|          | 0/1 [00:00<?, ?it/s]"
     ]
    },
    {
     "name": "stdout",
     "output_type": "stream",
     "text": [
      "i :  9\n",
      "i :  10\n",
      "i :  11\n"
     ]
    },
    {
     "name": "stderr",
     "output_type": "stream",
     "text": [
      "Batches: 100%|██████████| 1/1 [00:00<00:00, 86.15it/s]\n",
      "Batches: 100%|██████████| 1/1 [00:00<00:00, 92.15it/s]\n",
      "Batches: 100%|██████████| 1/1 [00:00<00:00, 91.85it/s]\n",
      "Batches: 100%|██████████| 1/1 [00:00<00:00, 71.16it/s]\n",
      "Batches:   0%|          | 0/1 [00:00<?, ?it/s]"
     ]
    },
    {
     "name": "stdout",
     "output_type": "stream",
     "text": [
      "i :  12\n",
      "i :  13\n"
     ]
    },
    {
     "name": "stderr",
     "output_type": "stream",
     "text": [
      "Batches: 100%|██████████| 1/1 [00:00<00:00, 67.24it/s]\n",
      "Batches: 100%|██████████| 1/1 [00:00<00:00, 93.43it/s]\n",
      "Batches: 100%|██████████| 1/1 [00:00<00:00, 90.46it/s]\n",
      "Batches: 100%|██████████| 1/1 [00:00<00:00, 83.37it/s]\n",
      "Batches: 100%|██████████| 1/1 [00:00<00:00, 92.26it/s]\n",
      "Batches: 100%|██████████| 1/1 [00:00<00:00, 93.67it/s]\n",
      "Batches: 100%|██████████| 1/1 [00:00<00:00, 95.17it/s]\n",
      "Batches:   0%|          | 0/1 [00:00<?, ?it/s]"
     ]
    },
    {
     "name": "stdout",
     "output_type": "stream",
     "text": [
      "i :  14\n",
      "i :  15\n",
      "i :  16\n"
     ]
    },
    {
     "name": "stderr",
     "output_type": "stream",
     "text": [
      "Batches: 100%|██████████| 1/1 [00:00<00:00, 92.34it/s]\n",
      "Batches: 100%|██████████| 1/1 [00:00<00:00, 94.95it/s]\n",
      "Batches: 100%|██████████| 1/1 [00:00<00:00, 93.82it/s]\n",
      "Batches: 100%|██████████| 1/1 [00:00<00:00, 95.45it/s]\n",
      "Batches: 100%|██████████| 1/1 [00:00<00:00, 93.56it/s]\n",
      "Batches: 100%|██████████| 1/1 [00:00<00:00, 95.04it/s]\n",
      "Batches: 100%|██████████| 1/1 [00:00<00:00, 95.31it/s]\n",
      "Batches:   0%|          | 0/1 [00:00<?, ?it/s]"
     ]
    },
    {
     "name": "stdout",
     "output_type": "stream",
     "text": [
      "i :  17\n",
      "i :  18\n",
      "i :  19\n",
      "i :  20\n"
     ]
    },
    {
     "name": "stderr",
     "output_type": "stream",
     "text": [
      "Batches: 100%|██████████| 1/1 [00:00<00:00, 73.95it/s]\n",
      "Batches: 100%|██████████| 1/1 [00:00<00:00, 93.72it/s]\n",
      "Batches: 100%|██████████| 1/1 [00:00<00:00, 93.26it/s]\n",
      "Batches: 100%|██████████| 1/1 [00:00<00:00, 90.29it/s]\n",
      "Batches:   0%|          | 0/1 [00:00<?, ?it/s]"
     ]
    },
    {
     "name": "stdout",
     "output_type": "stream",
     "text": [
      "i :  21\n",
      "i :  22\n"
     ]
    },
    {
     "name": "stderr",
     "output_type": "stream",
     "text": [
      "Batches: 100%|██████████| 1/1 [00:00<00:00, 89.61it/s]\n",
      "Batches: 100%|██████████| 1/1 [00:00<00:00, 61.51it/s]\n",
      "Batches: 100%|██████████| 1/1 [00:00<00:00, 93.47it/s]\n",
      "Batches: 100%|██████████| 1/1 [00:00<00:00, 92.28it/s]\n",
      "Batches: 100%|██████████| 1/1 [00:00<00:00, 74.22it/s]\n",
      "Batches:   0%|          | 0/1 [00:00<?, ?it/s]"
     ]
    },
    {
     "name": "stdout",
     "output_type": "stream",
     "text": [
      "i :  23\n",
      "i :  24\n"
     ]
    },
    {
     "name": "stderr",
     "output_type": "stream",
     "text": [
      "Batches: 100%|██████████| 1/1 [00:00<00:00, 90.96it/s]\n",
      "Batches: 100%|██████████| 1/1 [00:00<00:00, 74.86it/s]\n",
      "Batches: 100%|██████████| 1/1 [00:00<00:00, 93.29it/s]\n",
      "Batches: 100%|██████████| 1/1 [00:00<00:00, 91.29it/s]\n",
      "Batches: 100%|██████████| 1/1 [00:00<00:00, 90.12it/s]\n",
      "Batches: 100%|██████████| 1/1 [00:00<00:00, 95.07it/s]\n",
      "Batches: 100%|██████████| 1/1 [00:00<00:00, 89.72it/s]\n",
      "Batches: 100%|██████████| 1/1 [00:00<00:00, 91.38it/s]\n",
      "Batches:   0%|          | 0/1 [00:00<?, ?it/s]"
     ]
    },
    {
     "name": "stdout",
     "output_type": "stream",
     "text": [
      "i :  25\n",
      "i :  26\n",
      "i :  27\n",
      "i :  28\n"
     ]
    },
    {
     "name": "stderr",
     "output_type": "stream",
     "text": [
      "Batches: 100%|██████████| 1/1 [00:00<00:00, 90.71it/s]\n",
      "Batches: 100%|██████████| 1/1 [00:00<00:00, 90.69it/s]\n",
      "Batches: 100%|██████████| 1/1 [00:00<00:00, 89.61it/s]\n",
      "Batches: 100%|██████████| 1/1 [00:00<00:00, 88.80it/s]\n",
      "Batches: 100%|██████████| 1/1 [00:00<00:00, 93.16it/s]\n",
      "Batches:   0%|          | 0/1 [00:00<?, ?it/s]"
     ]
    },
    {
     "name": "stdout",
     "output_type": "stream",
     "text": [
      "i :  29\n",
      "i :  30\n",
      "i :  31\n"
     ]
    },
    {
     "name": "stderr",
     "output_type": "stream",
     "text": [
      "Batches: 100%|██████████| 1/1 [00:00<00:00, 72.43it/s]\n",
      "Batches: 100%|██████████| 1/1 [00:00<00:00, 91.14it/s]\n",
      "Batches: 100%|██████████| 1/1 [00:00<00:00, 94.24it/s]\n",
      "Batches: 100%|██████████| 1/1 [00:00<00:00, 91.33it/s]\n",
      "Batches:   0%|          | 0/1 [00:00<?, ?it/s]"
     ]
    },
    {
     "name": "stdout",
     "output_type": "stream",
     "text": [
      "i :  32\n",
      "i :  33\n"
     ]
    },
    {
     "name": "stderr",
     "output_type": "stream",
     "text": [
      "Batches: 100%|██████████| 1/1 [00:00<00:00, 86.88it/s]\n",
      "Batches: 100%|██████████| 1/1 [00:00<00:00, 89.33it/s]\n",
      "Batches: 100%|██████████| 1/1 [00:00<00:00, 90.11it/s]\n",
      "Batches: 100%|██████████| 1/1 [00:00<00:00, 88.71it/s]\n",
      "Batches: 100%|██████████| 1/1 [00:00<00:00, 93.77it/s]\n",
      "Batches: 100%|██████████| 1/1 [00:00<00:00, 92.31it/s]\n",
      "Batches: 100%|██████████| 1/1 [00:00<00:00, 94.55it/s]\n",
      "Batches: 100%|██████████| 1/1 [00:00<00:00, 95.23it/s]\n",
      "Batches:   0%|          | 0/1 [00:00<?, ?it/s]"
     ]
    },
    {
     "name": "stdout",
     "output_type": "stream",
     "text": [
      "i :  34\n",
      "i :  35\n",
      "i :  36\n",
      "i :  37\n"
     ]
    },
    {
     "name": "stderr",
     "output_type": "stream",
     "text": [
      "Batches: 100%|██████████| 1/1 [00:00<00:00, 89.51it/s]\n",
      "Batches: 100%|██████████| 1/1 [00:00<00:00, 92.53it/s]\n",
      "Batches: 100%|██████████| 1/1 [00:00<00:00, 94.87it/s]\n",
      "Batches: 100%|██████████| 1/1 [00:00<00:00, 93.00it/s]\n",
      "Batches: 100%|██████████| 1/1 [00:00<00:00, 94.72it/s]\n",
      "Batches: 100%|██████████| 1/1 [00:00<00:00, 89.31it/s]\n",
      "Batches:   0%|          | 0/1 [00:00<?, ?it/s]"
     ]
    },
    {
     "name": "stdout",
     "output_type": "stream",
     "text": [
      "i :  38\n",
      "i :  39\n",
      "i :  40\n"
     ]
    },
    {
     "name": "stderr",
     "output_type": "stream",
     "text": [
      "Batches: 100%|██████████| 1/1 [00:00<00:00, 90.06it/s]\n",
      "Batches: 100%|██████████| 1/1 [00:00<00:00, 92.88it/s]\n",
      "Batches: 100%|██████████| 1/1 [00:00<00:00, 91.75it/s]\n",
      "Batches: 100%|██████████| 1/1 [00:00<00:00, 92.44it/s]\n",
      "Batches:   0%|          | 0/1 [00:00<?, ?it/s]"
     ]
    },
    {
     "name": "stdout",
     "output_type": "stream",
     "text": [
      "i :  41\n",
      "i :  42\n"
     ]
    },
    {
     "name": "stderr",
     "output_type": "stream",
     "text": [
      "Batches: 100%|██████████| 1/1 [00:00<00:00, 92.90it/s]\n",
      "Batches: 100%|██████████| 1/1 [00:00<00:00, 92.54it/s]\n",
      "Batches: 100%|██████████| 1/1 [00:00<00:00, 94.14it/s]\n",
      "Batches: 100%|██████████| 1/1 [00:00<00:00, 92.95it/s]\n",
      "Batches: 100%|██████████| 1/1 [00:00<00:00, 94.23it/s]\n",
      "Batches: 100%|██████████| 1/1 [00:00<00:00, 94.30it/s]\n",
      "Batches: 100%|██████████| 1/1 [00:00<00:00, 93.28it/s]\n",
      "Batches: 100%|██████████| 1/1 [00:00<00:00, 92.73it/s]\n",
      "Batches:   0%|          | 0/1 [00:00<?, ?it/s]"
     ]
    },
    {
     "name": "stdout",
     "output_type": "stream",
     "text": [
      "i :  43\n",
      "i :  44\n",
      "i :  45\n",
      "i :  46\n"
     ]
    },
    {
     "name": "stderr",
     "output_type": "stream",
     "text": [
      "Batches: 100%|██████████| 1/1 [00:00<00:00, 92.01it/s]\n",
      "Batches: 100%|██████████| 1/1 [00:00<00:00, 88.15it/s]\n",
      "Batches: 100%|██████████| 1/1 [00:00<00:00, 90.81it/s]\n",
      "Batches: 100%|██████████| 1/1 [00:00<00:00, 89.09it/s]\n",
      "Batches: 100%|██████████| 1/1 [00:00<00:00, 91.05it/s]\n",
      "Batches: 100%|██████████| 1/1 [00:00<00:00, 88.75it/s]\n",
      "Batches:   0%|          | 0/1 [00:00<?, ?it/s]"
     ]
    },
    {
     "name": "stdout",
     "output_type": "stream",
     "text": [
      "i :  47\n",
      "i :  48\n",
      "i :  49\n"
     ]
    },
    {
     "name": "stderr",
     "output_type": "stream",
     "text": [
      "Batches: 100%|██████████| 1/1 [00:00<00:00, 88.53it/s]\n",
      "Batches: 100%|██████████| 1/1 [00:00<00:00, 90.50it/s]\n",
      "Batches: 100%|██████████| 1/1 [00:00<00:00, 88.39it/s]\n",
      "Batches: 100%|██████████| 1/1 [00:00<00:00, 88.90it/s]\n",
      "Batches:   0%|          | 0/1 [00:00<?, ?it/s]"
     ]
    },
    {
     "name": "stdout",
     "output_type": "stream",
     "text": [
      "i :  50\n",
      "i :  51\n"
     ]
    },
    {
     "name": "stderr",
     "output_type": "stream",
     "text": [
      "Batches: 100%|██████████| 1/1 [00:00<00:00, 86.32it/s]\n",
      "Batches: 100%|██████████| 1/1 [00:00<00:00, 89.67it/s]\n",
      "Batches: 100%|██████████| 1/1 [00:00<00:00, 87.76it/s]\n",
      "Batches: 100%|██████████| 1/1 [00:00<00:00, 88.78it/s]\n",
      "Batches: 100%|██████████| 1/1 [00:00<00:00, 90.83it/s]\n",
      "Batches: 100%|██████████| 1/1 [00:00<00:00, 91.27it/s]\n",
      "Batches: 100%|██████████| 1/1 [00:00<00:00, 90.93it/s]\n",
      "Batches: 100%|██████████| 1/1 [00:00<00:00, 89.17it/s]\n",
      "Batches:   0%|          | 0/1 [00:00<?, ?it/s]"
     ]
    },
    {
     "name": "stdout",
     "output_type": "stream",
     "text": [
      "i :  52\n",
      "i :  53\n",
      "i :  54\n",
      "i :  55\n"
     ]
    },
    {
     "name": "stderr",
     "output_type": "stream",
     "text": [
      "Batches: 100%|██████████| 1/1 [00:00<00:00, 91.66it/s]\n",
      "Batches: 100%|██████████| 1/1 [00:00<00:00, 92.50it/s]\n",
      "Batches: 100%|██████████| 1/1 [00:00<00:00, 93.61it/s]\n",
      "Batches: 100%|██████████| 1/1 [00:00<00:00, 92.69it/s]\n",
      "Batches: 100%|██████████| 1/1 [00:00<00:00, 94.60it/s]\n",
      "Batches: 100%|██████████| 1/1 [00:00<00:00, 92.99it/s]\n",
      "Batches:   0%|          | 0/1 [00:00<?, ?it/s]"
     ]
    },
    {
     "name": "stdout",
     "output_type": "stream",
     "text": [
      "i :  56\n",
      "i :  57\n",
      "i :  58\n"
     ]
    },
    {
     "name": "stderr",
     "output_type": "stream",
     "text": [
      "Batches: 100%|██████████| 1/1 [00:00<00:00, 79.83it/s]\n",
      "Batches: 100%|██████████| 1/1 [00:00<00:00, 86.24it/s]\n",
      "Batches: 100%|██████████| 1/1 [00:00<00:00, 93.74it/s]\n",
      "Batches: 100%|██████████| 1/1 [00:00<00:00, 90.14it/s]\n",
      "Batches:   0%|          | 0/1 [00:00<?, ?it/s]"
     ]
    },
    {
     "name": "stdout",
     "output_type": "stream",
     "text": [
      "i :  59\n",
      "i :  60\n"
     ]
    },
    {
     "name": "stderr",
     "output_type": "stream",
     "text": [
      "Batches: 100%|██████████| 1/1 [00:00<00:00, 86.17it/s]\n",
      "Batches: 100%|██████████| 1/1 [00:00<00:00, 92.90it/s]\n",
      "Batches: 100%|██████████| 1/1 [00:00<00:00, 90.73it/s]\n",
      "Batches: 100%|██████████| 1/1 [00:00<00:00, 92.46it/s]\n",
      "Batches: 100%|██████████| 1/1 [00:00<00:00, 89.93it/s]\n",
      "Batches: 100%|██████████| 1/1 [00:00<00:00, 91.96it/s]\n",
      "Batches: 100%|██████████| 1/1 [00:00<00:00, 56.79it/s]\n",
      "Batches:   0%|          | 0/1 [00:00<?, ?it/s]"
     ]
    },
    {
     "name": "stdout",
     "output_type": "stream",
     "text": [
      "i :  61\n",
      "i :  62\n",
      "i :  63\n"
     ]
    },
    {
     "name": "stderr",
     "output_type": "stream",
     "text": [
      "Batches: 100%|██████████| 1/1 [00:00<00:00, 88.35it/s]\n",
      "Batches: 100%|██████████| 1/1 [00:00<00:00, 80.85it/s]\n",
      "Batches: 100%|██████████| 1/1 [00:00<00:00, 92.00it/s]\n",
      "Batches: 100%|██████████| 1/1 [00:00<00:00, 93.57it/s]\n",
      "Batches: 100%|██████████| 1/1 [00:00<00:00, 93.07it/s]\n",
      "Batches: 100%|██████████| 1/1 [00:00<00:00, 86.61it/s]\n",
      "Batches:   0%|          | 0/1 [00:00<?, ?it/s]"
     ]
    },
    {
     "name": "stdout",
     "output_type": "stream",
     "text": [
      "i :  64\n",
      "i :  65\n",
      "i :  66\n"
     ]
    },
    {
     "name": "stderr",
     "output_type": "stream",
     "text": [
      "Batches: 100%|██████████| 1/1 [00:00<00:00, 87.42it/s]\n",
      "Batches: 100%|██████████| 1/1 [00:00<00:00, 93.19it/s]\n",
      "Batches: 100%|██████████| 1/1 [00:00<00:00, 93.69it/s]\n",
      "Batches: 100%|██████████| 1/1 [00:00<00:00, 94.30it/s]\n",
      "Batches:   0%|          | 0/1 [00:00<?, ?it/s]"
     ]
    },
    {
     "name": "stdout",
     "output_type": "stream",
     "text": [
      "i :  67\n",
      "i :  68\n"
     ]
    },
    {
     "name": "stderr",
     "output_type": "stream",
     "text": [
      "Batches: 100%|██████████| 1/1 [00:00<00:00, 87.46it/s]\n",
      "Batches: 100%|██████████| 1/1 [00:00<00:00, 90.47it/s]\n",
      "Batches: 100%|██████████| 1/1 [00:00<00:00, 91.30it/s]\n",
      "Batches: 100%|██████████| 1/1 [00:00<00:00, 94.26it/s]\n",
      "Batches: 100%|██████████| 1/1 [00:00<00:00, 88.69it/s]\n",
      "Batches: 100%|██████████| 1/1 [00:00<00:00, 91.50it/s]\n",
      "Batches: 100%|██████████| 1/1 [00:00<00:00, 89.99it/s]\n",
      "Batches:   0%|          | 0/1 [00:00<?, ?it/s]"
     ]
    },
    {
     "name": "stdout",
     "output_type": "stream",
     "text": [
      "i :  69\n",
      "i :  70\n",
      "i :  71\n",
      "i :  72\n"
     ]
    },
    {
     "name": "stderr",
     "output_type": "stream",
     "text": [
      "Batches: 100%|██████████| 1/1 [00:00<00:00, 81.25it/s]\n",
      "Batches: 100%|██████████| 1/1 [00:00<00:00, 80.77it/s]\n",
      "Batches: 100%|██████████| 1/1 [00:00<00:00, 94.55it/s]\n",
      "Batches: 100%|██████████| 1/1 [00:00<00:00, 90.10it/s]\n",
      "Batches: 100%|██████████| 1/1 [00:00<00:00, 95.26it/s]\n",
      "Batches: 100%|██████████| 1/1 [00:00<00:00, 93.62it/s]\n",
      "Batches:   0%|          | 0/1 [00:00<?, ?it/s]"
     ]
    },
    {
     "name": "stdout",
     "output_type": "stream",
     "text": [
      "i :  73\n",
      "i :  74\n",
      "i :  75\n"
     ]
    },
    {
     "name": "stderr",
     "output_type": "stream",
     "text": [
      "Batches: 100%|██████████| 1/1 [00:00<00:00, 86.02it/s]\n",
      "Batches: 100%|██████████| 1/1 [00:00<00:00, 90.82it/s]\n",
      "Batches: 100%|██████████| 1/1 [00:00<00:00, 94.38it/s]\n",
      "Batches: 100%|██████████| 1/1 [00:00<00:00, 91.41it/s]\n",
      "Batches:   0%|          | 0/1 [00:00<?, ?it/s]"
     ]
    },
    {
     "name": "stdout",
     "output_type": "stream",
     "text": [
      "i :  76\n",
      "i :  77\n"
     ]
    },
    {
     "name": "stderr",
     "output_type": "stream",
     "text": [
      "Batches: 100%|██████████| 1/1 [00:00<00:00, 89.37it/s]\n",
      "Batches: 100%|██████████| 1/1 [00:00<00:00, 92.64it/s]\n",
      "Batches: 100%|██████████| 1/1 [00:00<00:00, 91.25it/s]\n",
      "Batches: 100%|██████████| 1/1 [00:00<00:00, 90.09it/s]\n",
      "Batches: 100%|██████████| 1/1 [00:00<00:00, 91.53it/s]\n",
      "Batches: 100%|██████████| 1/1 [00:00<00:00, 93.65it/s]\n",
      "Batches: 100%|██████████| 1/1 [00:00<00:00, 94.49it/s]\n",
      "Batches: 100%|██████████| 1/1 [00:00<00:00, 58.33it/s]\n"
     ]
    },
    {
     "name": "stdout",
     "output_type": "stream",
     "text": [
      "i :  78\n",
      "i :  79\n",
      "i :  80\n",
      "i :  81\n"
     ]
    },
    {
     "name": "stderr",
     "output_type": "stream",
     "text": [
      "Batches: 100%|██████████| 1/1 [00:00<00:00, 76.39it/s]\n",
      "Batches: 100%|██████████| 1/1 [00:00<00:00, 80.01it/s]\n",
      "Batches: 100%|██████████| 1/1 [00:00<00:00, 86.92it/s]\n",
      "Batches: 100%|██████████| 1/1 [00:00<00:00, 61.03it/s]\n",
      "Batches:   0%|          | 0/1 [00:00<?, ?it/s]"
     ]
    },
    {
     "name": "stdout",
     "output_type": "stream",
     "text": [
      "i :  82\n",
      "i :  83\n"
     ]
    },
    {
     "name": "stderr",
     "output_type": "stream",
     "text": [
      "Batches: 100%|██████████| 1/1 [00:00<00:00, 65.34it/s]\n",
      "Batches: 100%|██████████| 1/1 [00:00<00:00, 89.47it/s]\n",
      "Batches: 100%|██████████| 1/1 [00:00<00:00, 90.19it/s]\n",
      "Batches: 100%|██████████| 1/1 [00:00<00:00, 88.74it/s]\n",
      "Batches:   0%|          | 0/1 [00:00<?, ?it/s]"
     ]
    },
    {
     "name": "stdout",
     "output_type": "stream",
     "text": [
      "i :  84\n",
      "i :  85\n"
     ]
    },
    {
     "name": "stderr",
     "output_type": "stream",
     "text": [
      "Batches: 100%|██████████| 1/1 [00:00<00:00, 87.05it/s]\n",
      "Batches: 100%|██████████| 1/1 [00:00<00:00, 87.98it/s]\n",
      "Batches: 100%|██████████| 1/1 [00:00<00:00, 92.13it/s]\n",
      "Batches: 100%|██████████| 1/1 [00:00<00:00, 89.80it/s]\n",
      "Batches: 100%|██████████| 1/1 [00:00<00:00, 91.40it/s]\n",
      "Batches: 100%|██████████| 1/1 [00:00<00:00, 92.67it/s]\n",
      "Batches: 100%|██████████| 1/1 [00:00<00:00, 88.48it/s]\n",
      "Batches: 100%|██████████| 1/1 [00:00<00:00, 92.73it/s]\n",
      "Batches: 100%|██████████| 1/1 [00:00<00:00, 85.74it/s]\n",
      "Batches:   0%|          | 0/1 [00:00<?, ?it/s]"
     ]
    },
    {
     "name": "stdout",
     "output_type": "stream",
     "text": [
      "i :  86\n",
      "i :  87\n",
      "i :  88\n",
      "i :  89\n"
     ]
    },
    {
     "name": "stderr",
     "output_type": "stream",
     "text": [
      "Batches: 100%|██████████| 1/1 [00:00<00:00, 85.94it/s]\n",
      "Batches: 100%|██████████| 1/1 [00:00<00:00, 89.07it/s]\n",
      "Batches: 100%|██████████| 1/1 [00:00<00:00, 90.59it/s]\n",
      "Batches: 100%|██████████| 1/1 [00:00<00:00, 89.72it/s]\n",
      "Batches: 100%|██████████| 1/1 [00:00<00:00, 89.43it/s]\n",
      "Batches:   0%|          | 0/1 [00:00<?, ?it/s]"
     ]
    },
    {
     "name": "stdout",
     "output_type": "stream",
     "text": [
      "i :  90\n",
      "i :  91\n",
      "i :  92\n"
     ]
    },
    {
     "name": "stderr",
     "output_type": "stream",
     "text": [
      "Batches: 100%|██████████| 1/1 [00:00<00:00, 74.17it/s]\n",
      "Batches: 100%|██████████| 1/1 [00:00<00:00, 92.01it/s]\n",
      "Batches: 100%|██████████| 1/1 [00:00<00:00, 92.98it/s]\n",
      "Batches: 100%|██████████| 1/1 [00:00<00:00, 91.88it/s]\n"
     ]
    },
    {
     "name": "stdout",
     "output_type": "stream",
     "text": [
      "i :  93\n",
      "i :  94\n"
     ]
    },
    {
     "name": "stderr",
     "output_type": "stream",
     "text": [
      "Batches: 100%|██████████| 1/1 [00:00<00:00, 86.07it/s]\n",
      "Batches: 100%|██████████| 1/1 [00:00<00:00, 89.89it/s]\n",
      "Batches: 100%|██████████| 1/1 [00:00<00:00, 89.02it/s]\n",
      "Batches: 100%|██████████| 1/1 [00:00<00:00, 89.94it/s]\n",
      "Batches: 100%|██████████| 1/1 [00:00<00:00, 88.11it/s]\n",
      "Batches: 100%|██████████| 1/1 [00:00<00:00, 87.93it/s]\n",
      "Batches: 100%|██████████| 1/1 [00:00<00:00, 87.26it/s]\n",
      "Batches:   0%|          | 0/1 [00:00<?, ?it/s]"
     ]
    },
    {
     "name": "stdout",
     "output_type": "stream",
     "text": [
      "i :  95\n",
      "i :  96\n",
      "i :  97\n"
     ]
    },
    {
     "name": "stderr",
     "output_type": "stream",
     "text": [
      "Batches: 100%|██████████| 1/1 [00:00<00:00, 88.84it/s]\n",
      "Batches: 100%|██████████| 1/1 [00:00<00:00, 89.37it/s]\n",
      "Batches: 100%|██████████| 1/1 [00:00<00:00, 88.94it/s]\n",
      "Batches: 100%|██████████| 1/1 [00:00<00:00, 88.82it/s]\n",
      "Batches: 100%|██████████| 1/1 [00:00<00:00, 88.32it/s]\n",
      "Batches: 100%|██████████| 1/1 [00:00<00:00, 89.65it/s]\n",
      "Batches: 100%|██████████| 1/1 [00:00<00:00, 88.45it/s]"
     ]
    },
    {
     "name": "stdout",
     "output_type": "stream",
     "text": [
      "i :  98\n",
      "i :  99\n",
      "i :  100\n"
     ]
    },
    {
     "name": "stderr",
     "output_type": "stream",
     "text": [
      "\n",
      "Batches: 100%|██████████| 1/1 [00:00<00:00, 85.22it/s]\n",
      "Batches: 100%|██████████| 1/1 [00:00<00:00, 91.70it/s]\n",
      "Batches: 100%|██████████| 1/1 [00:00<00:00, 89.79it/s]\n",
      "Batches: 100%|██████████| 1/1 [00:00<00:00, 88.57it/s]"
     ]
    },
    {
     "name": "stdout",
     "output_type": "stream",
     "text": [
      "i :  101\n",
      "i :  102\n"
     ]
    },
    {
     "name": "stderr",
     "output_type": "stream",
     "text": [
      "\n",
      "Batches: 100%|██████████| 1/1 [00:00<00:00, 88.35it/s]\n",
      "Batches: 100%|██████████| 1/1 [00:00<00:00, 88.40it/s]\n",
      "Batches: 100%|██████████| 1/1 [00:00<00:00, 89.32it/s]\n",
      "Batches: 100%|██████████| 1/1 [00:00<00:00, 90.61it/s]\n",
      "Batches: 100%|██████████| 1/1 [00:00<00:00, 86.95it/s]\n",
      "Batches: 100%|██████████| 1/1 [00:00<00:00, 88.03it/s]"
     ]
    },
    {
     "name": "stdout",
     "output_type": "stream",
     "text": [
      "i :  103\n",
      "i :  104\n",
      "i :  105\n"
     ]
    },
    {
     "name": "stderr",
     "output_type": "stream",
     "text": [
      "\n",
      "Batches: 100%|██████████| 1/1 [00:00<00:00, 74.30it/s]\n",
      "Batches: 100%|██████████| 1/1 [00:00<00:00, 91.38it/s]\n",
      "Batches: 100%|██████████| 1/1 [00:00<00:00, 87.44it/s]\n",
      "Batches: 100%|██████████| 1/1 [00:00<00:00, 90.00it/s]\n",
      "Batches: 100%|██████████| 1/1 [00:00<00:00, 91.62it/s]\n",
      "Batches:   0%|          | 0/1 [00:00<?, ?it/s]"
     ]
    },
    {
     "name": "stdout",
     "output_type": "stream",
     "text": [
      "i :  106\n",
      "i :  107\n",
      "i :  108\n"
     ]
    },
    {
     "name": "stderr",
     "output_type": "stream",
     "text": [
      "Batches: 100%|██████████| 1/1 [00:00<00:00, 88.58it/s]\n",
      "Batches: 100%|██████████| 1/1 [00:00<00:00, 81.77it/s]\n",
      "Batches: 100%|██████████| 1/1 [00:00<00:00, 79.27it/s]\n",
      "Batches: 100%|██████████| 1/1 [00:00<00:00, 92.65it/s]\n",
      "Batches:   0%|          | 0/1 [00:00<?, ?it/s]"
     ]
    },
    {
     "name": "stdout",
     "output_type": "stream",
     "text": [
      "i :  109\n",
      "i :  110\n"
     ]
    },
    {
     "name": "stderr",
     "output_type": "stream",
     "text": [
      "Batches: 100%|██████████| 1/1 [00:00<00:00, 89.98it/s]\n",
      "Batches: 100%|██████████| 1/1 [00:00<00:00, 73.27it/s]\n",
      "Batches: 100%|██████████| 1/1 [00:00<00:00, 89.13it/s]\n",
      "Batches: 100%|██████████| 1/1 [00:00<00:00, 89.02it/s]\n",
      "Batches: 100%|██████████| 1/1 [00:00<00:00, 90.40it/s]\n",
      "Batches: 100%|██████████| 1/1 [00:00<00:00, 92.07it/s]\n",
      "Batches:   0%|          | 0/1 [00:00<?, ?it/s]"
     ]
    },
    {
     "name": "stdout",
     "output_type": "stream",
     "text": [
      "i :  111\n",
      "i :  112\n",
      "i :  113\n"
     ]
    },
    {
     "name": "stderr",
     "output_type": "stream",
     "text": [
      "Batches: 100%|██████████| 1/1 [00:00<00:00, 90.57it/s]\n",
      "Batches: 100%|██████████| 1/1 [00:00<00:00, 88.55it/s]\n",
      "Batches: 100%|██████████| 1/1 [00:00<00:00, 92.00it/s]\n",
      "Batches: 100%|██████████| 1/1 [00:00<00:00, 89.45it/s]\n",
      "Batches: 100%|██████████| 1/1 [00:00<00:00, 87.72it/s]\n",
      "Batches: 100%|██████████| 1/1 [00:00<00:00, 90.39it/s]\n",
      "Batches:   0%|          | 0/1 [00:00<?, ?it/s]"
     ]
    },
    {
     "name": "stdout",
     "output_type": "stream",
     "text": [
      "i :  114\n",
      "i :  115\n",
      "i :  116\n"
     ]
    },
    {
     "name": "stderr",
     "output_type": "stream",
     "text": [
      "Batches: 100%|██████████| 1/1 [00:00<00:00, 85.64it/s]\n",
      "Batches: 100%|██████████| 1/1 [00:00<00:00, 72.74it/s]\n",
      "Batches: 100%|██████████| 1/1 [00:00<00:00, 93.25it/s]\n",
      "Batches: 100%|██████████| 1/1 [00:00<00:00, 90.26it/s]\n",
      "Batches:   0%|          | 0/1 [00:00<?, ?it/s]"
     ]
    },
    {
     "name": "stdout",
     "output_type": "stream",
     "text": [
      "i :  117\n",
      "i :  118\n"
     ]
    },
    {
     "name": "stderr",
     "output_type": "stream",
     "text": [
      "Batches: 100%|██████████| 1/1 [00:00<00:00, 89.20it/s]\n",
      "Batches: 100%|██████████| 1/1 [00:00<00:00, 88.44it/s]\n",
      "Batches: 100%|██████████| 1/1 [00:00<00:00, 90.04it/s]\n",
      "Batches: 100%|██████████| 1/1 [00:00<00:00, 92.51it/s]\n",
      "Batches: 100%|██████████| 1/1 [00:00<00:00, 89.25it/s]\n",
      "Batches: 100%|██████████| 1/1 [00:00<00:00, 89.08it/s]\n",
      "Batches:   0%|          | 0/1 [00:00<?, ?it/s]"
     ]
    },
    {
     "name": "stdout",
     "output_type": "stream",
     "text": [
      "i :  119\n",
      "i :  120\n",
      "i :  121\n"
     ]
    },
    {
     "name": "stderr",
     "output_type": "stream",
     "text": [
      "Batches: 100%|██████████| 1/1 [00:00<00:00, 89.10it/s]\n",
      "Batches: 100%|██████████| 1/1 [00:00<00:00, 84.10it/s]\n",
      "Batches: 100%|██████████| 1/1 [00:00<00:00, 88.19it/s]\n",
      "Batches: 100%|██████████| 1/1 [00:00<00:00, 86.35it/s]\n",
      "Batches: 100%|██████████| 1/1 [00:00<00:00, 88.95it/s]\n",
      "Batches: 100%|██████████| 1/1 [00:00<00:00, 93.52it/s]\n",
      "Batches:   0%|          | 0/1 [00:00<?, ?it/s]"
     ]
    },
    {
     "name": "stdout",
     "output_type": "stream",
     "text": [
      "i :  122\n",
      "i :  123\n",
      "i :  124\n"
     ]
    },
    {
     "name": "stderr",
     "output_type": "stream",
     "text": [
      "Batches: 100%|██████████| 1/1 [00:00<00:00, 86.31it/s]\n",
      "Batches: 100%|██████████| 1/1 [00:00<00:00, 89.10it/s]\n",
      "Batches: 100%|██████████| 1/1 [00:00<00:00, 89.65it/s]\n",
      "Batches: 100%|██████████| 1/1 [00:00<00:00, 86.19it/s]\n",
      "Batches: 100%|██████████| 1/1 [00:00<00:00, 87.78it/s]"
     ]
    },
    {
     "name": "stdout",
     "output_type": "stream",
     "text": [
      "i :  125\n",
      "i :  126\n"
     ]
    },
    {
     "name": "stderr",
     "output_type": "stream",
     "text": [
      "\n",
      "Batches: 100%|██████████| 1/1 [00:00<00:00, 89.19it/s]\n",
      "Batches: 100%|██████████| 1/1 [00:00<00:00, 88.01it/s]\n",
      "Batches: 100%|██████████| 1/1 [00:00<00:00, 87.06it/s]\n",
      "Batches: 100%|██████████| 1/1 [00:00<00:00, 90.78it/s]\n",
      "Batches: 100%|██████████| 1/1 [00:00<00:00, 91.52it/s]\n",
      "Batches: 100%|██████████| 1/1 [00:00<00:00, 88.85it/s]"
     ]
    },
    {
     "name": "stdout",
     "output_type": "stream",
     "text": [
      "i :  127\n",
      "i :  128\n",
      "i :  129\n"
     ]
    },
    {
     "name": "stderr",
     "output_type": "stream",
     "text": [
      "\n",
      "Batches: 100%|██████████| 1/1 [00:00<00:00, 88.90it/s]\n",
      "Batches: 100%|██████████| 1/1 [00:00<00:00, 84.21it/s]\n",
      "Batches: 100%|██████████| 1/1 [00:00<00:00, 85.26it/s]\n",
      "Batches: 100%|██████████| 1/1 [00:00<00:00, 85.93it/s]\n",
      "Batches: 100%|██████████| 1/1 [00:00<00:00, 83.13it/s]\n",
      "Batches:   0%|          | 0/1 [00:00<?, ?it/s]"
     ]
    },
    {
     "name": "stdout",
     "output_type": "stream",
     "text": [
      "i :  130\n",
      "i :  131\n",
      "i :  132\n"
     ]
    },
    {
     "name": "stderr",
     "output_type": "stream",
     "text": [
      "Batches: 100%|██████████| 1/1 [00:00<00:00, 79.93it/s]\n",
      "Batches: 100%|██████████| 1/1 [00:00<00:00, 86.08it/s]\n",
      "Batches: 100%|██████████| 1/1 [00:00<00:00, 67.35it/s]\n",
      "Batches:   0%|          | 0/1 [00:00<?, ?it/s]"
     ]
    },
    {
     "name": "stdout",
     "output_type": "stream",
     "text": [
      "i :  133\n",
      "i :  134\n"
     ]
    },
    {
     "name": "stderr",
     "output_type": "stream",
     "text": [
      "Batches: 100%|██████████| 1/1 [00:00<00:00, 49.52it/s]\n",
      "Batches: 100%|██████████| 1/1 [00:00<00:00, 61.82it/s]\n",
      "Batches: 100%|██████████| 1/1 [00:00<00:00, 92.65it/s]\n",
      "Batches: 100%|██████████| 1/1 [00:00<00:00, 92.88it/s]\n",
      "Batches: 100%|██████████| 1/1 [00:00<00:00, 89.43it/s]\n",
      "Batches: 100%|██████████| 1/1 [00:00<00:00, 92.09it/s]\n",
      "Batches:   0%|          | 0/1 [00:00<?, ?it/s]"
     ]
    },
    {
     "name": "stdout",
     "output_type": "stream",
     "text": [
      "i :  135\n",
      "i :  136\n",
      "i :  137\n"
     ]
    },
    {
     "name": "stderr",
     "output_type": "stream",
     "text": [
      "Batches: 100%|██████████| 1/1 [00:00<00:00, 77.11it/s]\n",
      "Batches: 100%|██████████| 1/1 [00:00<00:00, 87.34it/s]\n",
      "Batches: 100%|██████████| 1/1 [00:00<00:00, 88.71it/s]\n",
      "Batches: 100%|██████████| 1/1 [00:00<00:00, 89.32it/s]\n",
      "Batches: 100%|██████████| 1/1 [00:00<00:00, 88.00it/s]\n",
      "Batches: 100%|██████████| 1/1 [00:00<00:00, 90.08it/s]\n",
      "Batches:   0%|          | 0/1 [00:00<?, ?it/s]"
     ]
    },
    {
     "name": "stdout",
     "output_type": "stream",
     "text": [
      "i :  138\n",
      "i :  139\n",
      "i :  140\n"
     ]
    },
    {
     "name": "stderr",
     "output_type": "stream",
     "text": [
      "Batches: 100%|██████████| 1/1 [00:00<00:00, 86.05it/s]\n",
      "Batches: 100%|██████████| 1/1 [00:00<00:00, 86.43it/s]\n",
      "Batches: 100%|██████████| 1/1 [00:00<00:00, 92.50it/s]\n",
      "Batches: 100%|██████████| 1/1 [00:00<00:00, 91.09it/s]\n",
      "Batches: 100%|██████████| 1/1 [00:00<00:00, 85.56it/s]\n",
      "Batches: 100%|██████████| 1/1 [00:00<00:00, 90.92it/s]\n",
      "Batches:   0%|          | 0/1 [00:00<?, ?it/s]"
     ]
    },
    {
     "name": "stdout",
     "output_type": "stream",
     "text": [
      "i :  141\n",
      "i :  142\n",
      "i :  143\n"
     ]
    },
    {
     "name": "stderr",
     "output_type": "stream",
     "text": [
      "Batches: 100%|██████████| 1/1 [00:00<00:00, 54.75it/s]\n",
      "Batches: 100%|██████████| 1/1 [00:00<00:00, 89.25it/s]\n",
      "Batches: 100%|██████████| 1/1 [00:00<00:00, 91.40it/s]\n",
      "Batches: 100%|██████████| 1/1 [00:00<00:00, 62.16it/s]\n",
      "Batches: 100%|██████████| 1/1 [00:00<00:00, 91.37it/s]\n",
      "Batches:   0%|          | 0/1 [00:00<?, ?it/s]"
     ]
    },
    {
     "name": "stdout",
     "output_type": "stream",
     "text": [
      "i :  144\n",
      "i :  145\n"
     ]
    },
    {
     "name": "stderr",
     "output_type": "stream",
     "text": [
      "Batches: 100%|██████████| 1/1 [00:00<00:00, 89.06it/s]\n",
      "Batches: 100%|██████████| 1/1 [00:00<00:00, 86.28it/s]\n",
      "Batches: 100%|██████████| 1/1 [00:00<00:00, 79.53it/s]\n",
      "Batches: 100%|██████████| 1/1 [00:00<00:00, 88.35it/s]\n",
      "Batches: 100%|██████████| 1/1 [00:00<00:00, 91.67it/s]\n",
      "Batches: 100%|██████████| 1/1 [00:00<00:00, 90.88it/s]"
     ]
    },
    {
     "name": "stdout",
     "output_type": "stream",
     "text": [
      "i :  146\n",
      "i :  147\n",
      "i :  148\n"
     ]
    },
    {
     "name": "stderr",
     "output_type": "stream",
     "text": [
      "\n",
      "Batches: 100%|██████████| 1/1 [00:00<00:00, 83.90it/s]\n",
      "Batches: 100%|██████████| 1/1 [00:00<00:00, 85.95it/s]\n",
      "Batches: 100%|██████████| 1/1 [00:00<00:00, 87.00it/s]\n",
      "Batches: 100%|██████████| 1/1 [00:00<00:00, 86.28it/s]\n",
      "Batches: 100%|██████████| 1/1 [00:00<00:00, 87.11it/s]\n",
      "Batches: 100%|██████████| 1/1 [00:00<00:00, 86.33it/s]\n",
      "Batches:   0%|          | 0/1 [00:00<?, ?it/s]"
     ]
    },
    {
     "name": "stdout",
     "output_type": "stream",
     "text": [
      "i :  149\n",
      "i :  150\n",
      "i :  151\n"
     ]
    },
    {
     "name": "stderr",
     "output_type": "stream",
     "text": [
      "Batches: 100%|██████████| 1/1 [00:00<00:00, 84.01it/s]\n",
      "Batches: 100%|██████████| 1/1 [00:00<00:00, 83.35it/s]\n",
      "Batches: 100%|██████████| 1/1 [00:00<00:00, 84.84it/s]\n",
      "Batches: 100%|██████████| 1/1 [00:00<00:00, 85.86it/s]\n",
      "Batches:   0%|          | 0/1 [00:00<?, ?it/s]"
     ]
    },
    {
     "name": "stdout",
     "output_type": "stream",
     "text": [
      "i :  152\n",
      "i :  153\n"
     ]
    },
    {
     "name": "stderr",
     "output_type": "stream",
     "text": [
      "Batches: 100%|██████████| 1/1 [00:00<00:00, 81.92it/s]\n",
      "Batches: 100%|██████████| 1/1 [00:00<00:00, 85.63it/s]\n",
      "Batches: 100%|██████████| 1/1 [00:00<00:00, 86.73it/s]\n",
      "Batches: 100%|██████████| 1/1 [00:00<00:00, 86.08it/s]\n",
      "Batches: 100%|██████████| 1/1 [00:00<00:00, 86.09it/s]\n",
      "Batches: 100%|██████████| 1/1 [00:00<00:00, 83.87it/s]\n",
      "Batches:   0%|          | 0/1 [00:00<?, ?it/s]"
     ]
    },
    {
     "name": "stdout",
     "output_type": "stream",
     "text": [
      "i :  154\n",
      "i :  155\n",
      "i :  156\n"
     ]
    },
    {
     "name": "stderr",
     "output_type": "stream",
     "text": [
      "Batches: 100%|██████████| 1/1 [00:00<00:00, 83.02it/s]\n",
      "Batches: 100%|██████████| 1/1 [00:00<00:00, 83.05it/s]\n",
      "Batches: 100%|██████████| 1/1 [00:00<00:00, 86.30it/s]\n",
      "Batches: 100%|██████████| 1/1 [00:00<00:00, 85.95it/s]\n",
      "Batches: 100%|██████████| 1/1 [00:00<00:00, 83.40it/s]\n",
      "Batches: 100%|██████████| 1/1 [00:00<00:00, 83.57it/s]\n",
      "Batches:   0%|          | 0/1 [00:00<?, ?it/s]"
     ]
    },
    {
     "name": "stdout",
     "output_type": "stream",
     "text": [
      "i :  157\n",
      "i :  158\n",
      "i :  159\n"
     ]
    },
    {
     "name": "stderr",
     "output_type": "stream",
     "text": [
      "Batches: 100%|██████████| 1/1 [00:00<00:00, 81.69it/s]\n",
      "Batches: 100%|██████████| 1/1 [00:00<00:00, 85.91it/s]\n",
      "Batches: 100%|██████████| 1/1 [00:00<00:00, 86.54it/s]\n",
      "Batches: 100%|██████████| 1/1 [00:00<00:00, 82.60it/s]\n",
      "Batches:   0%|          | 0/1 [00:00<?, ?it/s]"
     ]
    },
    {
     "name": "stdout",
     "output_type": "stream",
     "text": [
      "i :  160\n",
      "i :  161\n"
     ]
    },
    {
     "name": "stderr",
     "output_type": "stream",
     "text": [
      "Batches: 100%|██████████| 1/1 [00:00<00:00, 81.37it/s]\n",
      "Batches: 100%|██████████| 1/1 [00:00<00:00, 82.05it/s]\n",
      "Batches: 100%|██████████| 1/1 [00:00<00:00, 84.69it/s]\n",
      "Batches: 100%|██████████| 1/1 [00:00<00:00, 80.89it/s]\n",
      "Batches: 100%|██████████| 1/1 [00:00<00:00, 83.24it/s]\n",
      "Batches: 100%|██████████| 1/1 [00:00<00:00, 86.77it/s]"
     ]
    },
    {
     "name": "stdout",
     "output_type": "stream",
     "text": [
      "i :  162\n",
      "i :  163\n",
      "i :  164\n"
     ]
    },
    {
     "name": "stderr",
     "output_type": "stream",
     "text": [
      "\n",
      "Batches: 100%|██████████| 1/1 [00:00<00:00, 84.90it/s]\n",
      "Batches: 100%|██████████| 1/1 [00:00<00:00, 69.75it/s]\n",
      "Batches: 100%|██████████| 1/1 [00:00<00:00, 83.98it/s]\n",
      "Batches: 100%|██████████| 1/1 [00:00<00:00, 82.62it/s]\n",
      "Batches: 100%|██████████| 1/1 [00:00<00:00, 83.42it/s]\n",
      "Batches:   0%|          | 0/1 [00:00<?, ?it/s]"
     ]
    },
    {
     "name": "stdout",
     "output_type": "stream",
     "text": [
      "i :  165\n",
      "i :  166\n",
      "i :  167\n"
     ]
    },
    {
     "name": "stderr",
     "output_type": "stream",
     "text": [
      "Batches: 100%|██████████| 1/1 [00:00<00:00, 82.89it/s]\n",
      "Batches: 100%|██████████| 1/1 [00:00<00:00, 85.18it/s]\n",
      "Batches: 100%|██████████| 1/1 [00:00<00:00, 83.45it/s]\n",
      "Batches: 100%|██████████| 1/1 [00:00<00:00, 82.54it/s]\n",
      "Batches:   0%|          | 0/1 [00:00<?, ?it/s]"
     ]
    },
    {
     "name": "stdout",
     "output_type": "stream",
     "text": [
      "i :  168\n",
      "i :  169\n"
     ]
    },
    {
     "name": "stderr",
     "output_type": "stream",
     "text": [
      "Batches: 100%|██████████| 1/1 [00:00<00:00, 83.24it/s]\n",
      "Batches: 100%|██████████| 1/1 [00:00<00:00, 82.45it/s]\n",
      "Batches: 100%|██████████| 1/1 [00:00<00:00, 82.01it/s]\n",
      "Batches: 100%|██████████| 1/1 [00:00<00:00, 82.94it/s]\n",
      "Batches: 100%|██████████| 1/1 [00:00<00:00, 83.30it/s]\n",
      "Batches: 100%|██████████| 1/1 [00:00<00:00, 83.34it/s]\n",
      "Batches:   0%|          | 0/1 [00:00<?, ?it/s]"
     ]
    },
    {
     "name": "stdout",
     "output_type": "stream",
     "text": [
      "i :  170\n",
      "i :  171\n",
      "i :  172\n"
     ]
    },
    {
     "name": "stderr",
     "output_type": "stream",
     "text": [
      "Batches: 100%|██████████| 1/1 [00:00<00:00, 84.04it/s]\n",
      "Batches: 100%|██████████| 1/1 [00:00<00:00, 85.26it/s]\n",
      "Batches: 100%|██████████| 1/1 [00:00<00:00, 83.60it/s]\n",
      "Batches: 100%|██████████| 1/1 [00:00<00:00, 82.66it/s]\n",
      "Batches: 100%|██████████| 1/1 [00:00<00:00, 83.67it/s]\n",
      "Batches: 100%|██████████| 1/1 [00:00<00:00, 83.68it/s]\n",
      "Batches: 100%|██████████| 1/1 [00:00<00:00, 83.10it/s]"
     ]
    },
    {
     "name": "stdout",
     "output_type": "stream",
     "text": [
      "i :  173\n",
      "i :  174\n",
      "i :  175\n"
     ]
    },
    {
     "name": "stderr",
     "output_type": "stream",
     "text": [
      "\n",
      "Batches: 100%|██████████| 1/1 [00:00<00:00, 84.87it/s]\n",
      "Batches: 100%|██████████| 1/1 [00:00<00:00, 82.35it/s]\n",
      "Batches: 100%|██████████| 1/1 [00:00<00:00, 82.00it/s]\n",
      "Batches:   0%|          | 0/1 [00:00<?, ?it/s]"
     ]
    },
    {
     "name": "stdout",
     "output_type": "stream",
     "text": [
      "i :  176\n",
      "i :  177\n"
     ]
    },
    {
     "name": "stderr",
     "output_type": "stream",
     "text": [
      "Batches: 100%|██████████| 1/1 [00:00<00:00, 81.79it/s]\n",
      "Batches: 100%|██████████| 1/1 [00:00<00:00, 83.88it/s]\n",
      "Batches: 100%|██████████| 1/1 [00:00<00:00, 86.44it/s]\n",
      "Batches: 100%|██████████| 1/1 [00:00<00:00, 86.54it/s]\n",
      "Batches: 100%|██████████| 1/1 [00:00<00:00, 70.14it/s]\n",
      "Batches: 100%|██████████| 1/1 [00:00<00:00, 85.29it/s]\n",
      "Batches:   0%|          | 0/1 [00:00<?, ?it/s]"
     ]
    },
    {
     "name": "stdout",
     "output_type": "stream",
     "text": [
      "i :  178\n",
      "i :  179\n",
      "i :  180\n"
     ]
    },
    {
     "name": "stderr",
     "output_type": "stream",
     "text": [
      "Batches: 100%|██████████| 1/1 [00:00<00:00, 80.56it/s]\n",
      "Batches: 100%|██████████| 1/1 [00:00<00:00, 85.62it/s]\n",
      "Batches: 100%|██████████| 1/1 [00:00<00:00, 83.45it/s]\n",
      "Batches: 100%|██████████| 1/1 [00:00<00:00, 85.90it/s]\n",
      "Batches: 100%|██████████| 1/1 [00:00<00:00, 83.90it/s]\n",
      "Batches: 100%|██████████| 1/1 [00:00<00:00, 85.83it/s]\n",
      "Batches:   0%|          | 0/1 [00:00<?, ?it/s]"
     ]
    },
    {
     "name": "stdout",
     "output_type": "stream",
     "text": [
      "i :  181\n",
      "i :  182\n",
      "i :  183\n"
     ]
    },
    {
     "name": "stderr",
     "output_type": "stream",
     "text": [
      "Batches: 100%|██████████| 1/1 [00:00<00:00, 81.30it/s]\n",
      "Batches: 100%|██████████| 1/1 [00:00<00:00, 86.76it/s]\n",
      "Batches: 100%|██████████| 1/1 [00:00<00:00, 82.52it/s]\n",
      "Batches: 100%|██████████| 1/1 [00:00<00:00, 83.10it/s]\n",
      "Batches:   0%|          | 0/1 [00:00<?, ?it/s]"
     ]
    },
    {
     "name": "stdout",
     "output_type": "stream",
     "text": [
      "i :  184\n",
      "i :  185\n"
     ]
    },
    {
     "name": "stderr",
     "output_type": "stream",
     "text": [
      "Batches: 100%|██████████| 1/1 [00:00<00:00, 84.80it/s]\n",
      "Batches: 100%|██████████| 1/1 [00:00<00:00, 85.53it/s]\n",
      "Batches: 100%|██████████| 1/1 [00:00<00:00, 85.02it/s]\n",
      "Batches: 100%|██████████| 1/1 [00:00<00:00, 83.10it/s]\n",
      "Batches: 100%|██████████| 1/1 [00:00<00:00, 82.42it/s]\n",
      "Batches: 100%|██████████| 1/1 [00:00<00:00, 83.97it/s]\n",
      "Batches: 100%|██████████| 1/1 [00:00<00:00, 84.05it/s]"
     ]
    },
    {
     "name": "stdout",
     "output_type": "stream",
     "text": [
      "i :  186\n",
      "i :  187\n",
      "i :  188\n"
     ]
    },
    {
     "name": "stderr",
     "output_type": "stream",
     "text": [
      "\n",
      "Batches: 100%|██████████| 1/1 [00:00<00:00, 86.75it/s]\n",
      "Batches: 100%|██████████| 1/1 [00:00<00:00, 73.27it/s]\n",
      "Batches: 100%|██████████| 1/1 [00:00<00:00, 79.11it/s]\n",
      "Batches: 100%|██████████| 1/1 [00:00<00:00, 86.75it/s]\n",
      "Batches: 100%|██████████| 1/1 [00:00<00:00, 81.94it/s]\n",
      "Batches:   0%|          | 0/1 [00:00<?, ?it/s]"
     ]
    },
    {
     "name": "stdout",
     "output_type": "stream",
     "text": [
      "i :  189\n",
      "i :  190\n",
      "i :  191\n"
     ]
    },
    {
     "name": "stderr",
     "output_type": "stream",
     "text": [
      "Batches: 100%|██████████| 1/1 [00:00<00:00, 83.31it/s]\n",
      "Batches: 100%|██████████| 1/1 [00:00<00:00, 83.71it/s]\n",
      "Batches: 100%|██████████| 1/1 [00:00<00:00, 82.80it/s]\n",
      "Batches: 100%|██████████| 1/1 [00:00<00:00, 84.24it/s]\n",
      "Batches:   0%|          | 0/1 [00:00<?, ?it/s]"
     ]
    },
    {
     "name": "stdout",
     "output_type": "stream",
     "text": [
      "i :  192\n",
      "i :  193\n"
     ]
    },
    {
     "name": "stderr",
     "output_type": "stream",
     "text": [
      "Batches: 100%|██████████| 1/1 [00:00<00:00, 80.61it/s]\n",
      "Batches: 100%|██████████| 1/1 [00:00<00:00, 84.76it/s]\n",
      "Batches: 100%|██████████| 1/1 [00:00<00:00, 83.42it/s]\n",
      "Batches: 100%|██████████| 1/1 [00:00<00:00, 83.89it/s]\n",
      "Batches: 100%|██████████| 1/1 [00:00<00:00, 86.07it/s]\n",
      "Batches: 100%|██████████| 1/1 [00:00<00:00, 86.37it/s]\n",
      "Batches:   0%|          | 0/1 [00:00<?, ?it/s]"
     ]
    },
    {
     "name": "stdout",
     "output_type": "stream",
     "text": [
      "i :  194\n",
      "i :  195\n",
      "i :  196\n"
     ]
    },
    {
     "name": "stderr",
     "output_type": "stream",
     "text": [
      "Batches: 100%|██████████| 1/1 [00:00<00:00, 80.30it/s]\n",
      "Batches: 100%|██████████| 1/1 [00:00<00:00, 83.87it/s]\n",
      "Batches: 100%|██████████| 1/1 [00:00<00:00, 83.89it/s]\n",
      "Batches: 100%|██████████| 1/1 [00:00<00:00, 83.48it/s]\n",
      "Batches: 100%|██████████| 1/1 [00:00<00:00, 86.00it/s]\n",
      "Batches: 100%|██████████| 1/1 [00:00<00:00, 83.98it/s]\n",
      "Batches: 100%|██████████| 1/1 [00:00<00:00, 85.60it/s]\n"
     ]
    },
    {
     "name": "stdout",
     "output_type": "stream",
     "text": [
      "i :  197\n",
      "i :  198\n",
      "i :  199\n"
     ]
    },
    {
     "name": "stderr",
     "output_type": "stream",
     "text": [
      "Batches: 100%|██████████| 1/1 [00:00<00:00, 81.15it/s]\n",
      "Batches: 100%|██████████| 1/1 [00:00<00:00, 86.16it/s]\n",
      "Batches: 100%|██████████| 1/1 [00:00<00:00, 82.56it/s]\n",
      "Batches:   0%|          | 0/1 [00:00<?, ?it/s]"
     ]
    },
    {
     "name": "stdout",
     "output_type": "stream",
     "text": [
      "i :  200\n",
      "i :  201\n"
     ]
    },
    {
     "name": "stderr",
     "output_type": "stream",
     "text": [
      "Batches: 100%|██████████| 1/1 [00:00<00:00, 74.10it/s]\n",
      "Batches: 100%|██████████| 1/1 [00:00<00:00, 85.82it/s]\n",
      "Batches: 100%|██████████| 1/1 [00:00<00:00, 86.32it/s]\n",
      "Batches: 100%|██████████| 1/1 [00:00<00:00, 85.92it/s]\n",
      "Batches: 100%|██████████| 1/1 [00:00<00:00, 84.01it/s]\n",
      "Batches: 100%|██████████| 1/1 [00:00<00:00, 82.67it/s]\n",
      "Batches: 100%|██████████| 1/1 [00:00<00:00, 86.44it/s]"
     ]
    },
    {
     "name": "stdout",
     "output_type": "stream",
     "text": [
      "i :  202\n",
      "i :  203\n",
      "i :  204\n"
     ]
    },
    {
     "name": "stderr",
     "output_type": "stream",
     "text": [
      "\n",
      "Batches: 100%|██████████| 1/1 [00:00<00:00, 83.89it/s]\n",
      "Batches: 100%|██████████| 1/1 [00:00<00:00, 74.35it/s]\n",
      "Batches: 100%|██████████| 1/1 [00:00<00:00, 81.37it/s]\n",
      "Batches: 100%|██████████| 1/1 [00:00<00:00, 83.75it/s]\n",
      "Batches: 100%|██████████| 1/1 [00:00<00:00, 82.35it/s]\n",
      "Batches:   0%|          | 0/1 [00:00<?, ?it/s]"
     ]
    },
    {
     "name": "stdout",
     "output_type": "stream",
     "text": [
      "i :  205\n",
      "i :  206\n",
      "i :  207\n"
     ]
    },
    {
     "name": "stderr",
     "output_type": "stream",
     "text": [
      "Batches: 100%|██████████| 1/1 [00:00<00:00, 79.11it/s]\n",
      "Batches: 100%|██████████| 1/1 [00:00<00:00, 83.51it/s]\n",
      "Batches: 100%|██████████| 1/1 [00:00<00:00, 83.61it/s]\n",
      "Batches: 100%|██████████| 1/1 [00:00<00:00, 86.91it/s]\n",
      "Batches:   0%|          | 0/1 [00:00<?, ?it/s]"
     ]
    },
    {
     "name": "stdout",
     "output_type": "stream",
     "text": [
      "i :  208\n",
      "i :  209\n"
     ]
    },
    {
     "name": "stderr",
     "output_type": "stream",
     "text": [
      "Batches: 100%|██████████| 1/1 [00:00<00:00, 84.08it/s]\n",
      "Batches: 100%|██████████| 1/1 [00:00<00:00, 85.21it/s]\n",
      "Batches: 100%|██████████| 1/1 [00:00<00:00, 83.80it/s]\n",
      "Batches: 100%|██████████| 1/1 [00:00<00:00, 85.21it/s]\n",
      "Batches: 100%|██████████| 1/1 [00:00<00:00, 83.50it/s]\n",
      "Batches: 100%|██████████| 1/1 [00:00<00:00, 83.48it/s]\n",
      "Batches:   0%|          | 0/1 [00:00<?, ?it/s]"
     ]
    },
    {
     "name": "stdout",
     "output_type": "stream",
     "text": [
      "i :  210\n",
      "i :  211\n",
      "i :  212\n"
     ]
    },
    {
     "name": "stderr",
     "output_type": "stream",
     "text": [
      "Batches: 100%|██████████| 1/1 [00:00<00:00, 81.70it/s]\n",
      "Batches: 100%|██████████| 1/1 [00:00<00:00, 82.48it/s]\n",
      "Batches: 100%|██████████| 1/1 [00:00<00:00, 82.96it/s]\n",
      "Batches: 100%|██████████| 1/1 [00:00<00:00, 85.65it/s]\n",
      "Batches: 100%|██████████| 1/1 [00:00<00:00, 84.80it/s]\n",
      "Batches: 100%|██████████| 1/1 [00:00<00:00, 85.87it/s]\n",
      "Batches:   0%|          | 0/1 [00:00<?, ?it/s]"
     ]
    },
    {
     "name": "stdout",
     "output_type": "stream",
     "text": [
      "i :  213\n",
      "i :  214\n",
      "i :  215\n"
     ]
    },
    {
     "name": "stderr",
     "output_type": "stream",
     "text": [
      "Batches: 100%|██████████| 1/1 [00:00<00:00, 70.60it/s]\n",
      "Batches: 100%|██████████| 1/1 [00:00<00:00, 65.79it/s]\n",
      "Batches: 100%|██████████| 1/1 [00:00<00:00, 82.86it/s]\n",
      "Batches: 100%|██████████| 1/1 [00:00<00:00, 82.23it/s]\n",
      "Batches:   0%|          | 0/1 [00:00<?, ?it/s]"
     ]
    },
    {
     "name": "stdout",
     "output_type": "stream",
     "text": [
      "i :  216\n",
      "i :  217\n"
     ]
    },
    {
     "name": "stderr",
     "output_type": "stream",
     "text": [
      "Batches: 100%|██████████| 1/1 [00:00<00:00, 82.36it/s]\n",
      "Batches: 100%|██████████| 1/1 [00:00<00:00, 89.73it/s]\n",
      "Batches: 100%|██████████| 1/1 [00:00<00:00, 91.97it/s]\n",
      "Batches: 100%|██████████| 1/1 [00:00<00:00, 81.72it/s]\n",
      "Batches: 100%|██████████| 1/1 [00:00<00:00, 91.61it/s]\n",
      "Batches: 100%|██████████| 1/1 [00:00<00:00, 84.77it/s]\n",
      "Batches:   0%|          | 0/1 [00:00<?, ?it/s]"
     ]
    },
    {
     "name": "stdout",
     "output_type": "stream",
     "text": [
      "i :  218\n",
      "i :  219\n",
      "i :  220\n"
     ]
    },
    {
     "name": "stderr",
     "output_type": "stream",
     "text": [
      "Batches: 100%|██████████| 1/1 [00:00<00:00, 79.72it/s]\n",
      "Batches: 100%|██████████| 1/1 [00:00<00:00, 85.64it/s]\n",
      "Batches: 100%|██████████| 1/1 [00:00<00:00, 90.83it/s]\n",
      "Batches: 100%|██████████| 1/1 [00:00<00:00, 81.01it/s]\n",
      "Batches: 100%|██████████| 1/1 [00:00<00:00, 82.33it/s]\n",
      "Batches: 100%|██████████| 1/1 [00:00<00:00, 87.92it/s]\n",
      "Batches: 100%|██████████| 1/1 [00:00<00:00, 89.48it/s]\n",
      "Batches:   0%|          | 0/1 [00:00<?, ?it/s]"
     ]
    },
    {
     "name": "stdout",
     "output_type": "stream",
     "text": [
      "i :  221\n",
      "i :  222\n",
      "i :  223\n"
     ]
    },
    {
     "name": "stderr",
     "output_type": "stream",
     "text": [
      "Batches: 100%|██████████| 1/1 [00:00<00:00, 81.90it/s]\n",
      "Batches: 100%|██████████| 1/1 [00:00<00:00, 84.03it/s]\n",
      "Batches: 100%|██████████| 1/1 [00:00<00:00, 87.93it/s]\n",
      "Batches: 100%|██████████| 1/1 [00:00<00:00, 82.85it/s]\n",
      "Batches:   0%|          | 0/1 [00:00<?, ?it/s]"
     ]
    },
    {
     "name": "stdout",
     "output_type": "stream",
     "text": [
      "i :  224\n",
      "i :  225\n"
     ]
    },
    {
     "name": "stderr",
     "output_type": "stream",
     "text": [
      "Batches: 100%|██████████| 1/1 [00:00<00:00, 84.31it/s]\n",
      "Batches: 100%|██████████| 1/1 [00:00<00:00, 82.92it/s]\n",
      "Batches: 100%|██████████| 1/1 [00:00<00:00, 93.00it/s]\n",
      "Batches: 100%|██████████| 1/1 [00:00<00:00, 85.50it/s]\n",
      "Batches: 100%|██████████| 1/1 [00:00<00:00, 84.26it/s]\n",
      "Batches: 100%|██████████| 1/1 [00:00<00:00, 90.20it/s]\n",
      "Batches:   0%|          | 0/1 [00:00<?, ?it/s]"
     ]
    },
    {
     "name": "stdout",
     "output_type": "stream",
     "text": [
      "i :  226\n",
      "i :  227\n",
      "i :  228\n"
     ]
    },
    {
     "name": "stderr",
     "output_type": "stream",
     "text": [
      "Batches: 100%|██████████| 1/1 [00:00<00:00, 84.54it/s]\n",
      "Batches: 100%|██████████| 1/1 [00:00<00:00, 83.93it/s]\n",
      "Batches: 100%|██████████| 1/1 [00:00<00:00, 85.21it/s]\n",
      "Batches: 100%|██████████| 1/1 [00:00<00:00, 90.95it/s]\n",
      "Batches: 100%|██████████| 1/1 [00:00<00:00, 82.92it/s]\n",
      "Batches: 100%|██████████| 1/1 [00:00<00:00, 83.10it/s]\n",
      "Batches:   0%|          | 0/1 [00:00<?, ?it/s]"
     ]
    },
    {
     "name": "stdout",
     "output_type": "stream",
     "text": [
      "i :  229\n",
      "i :  230\n",
      "i :  231\n"
     ]
    },
    {
     "name": "stderr",
     "output_type": "stream",
     "text": [
      "Batches: 100%|██████████| 1/1 [00:00<00:00, 81.01it/s]\n",
      "Batches: 100%|██████████| 1/1 [00:00<00:00, 92.28it/s]\n",
      "Batches: 100%|██████████| 1/1 [00:00<00:00, 83.26it/s]\n",
      "Batches: 100%|██████████| 1/1 [00:00<00:00, 83.03it/s]\n",
      "Batches:   0%|          | 0/1 [00:00<?, ?it/s]"
     ]
    },
    {
     "name": "stdout",
     "output_type": "stream",
     "text": [
      "i :  232\n",
      "i :  233\n"
     ]
    },
    {
     "name": "stderr",
     "output_type": "stream",
     "text": [
      "Batches: 100%|██████████| 1/1 [00:00<00:00, 84.14it/s]\n",
      "Batches: 100%|██████████| 1/1 [00:00<00:00, 89.72it/s]\n",
      "Batches: 100%|██████████| 1/1 [00:00<00:00, 84.87it/s]\n",
      "Batches: 100%|██████████| 1/1 [00:00<00:00, 80.64it/s]\n",
      "Batches: 100%|██████████| 1/1 [00:00<00:00, 82.22it/s]\n",
      "Batches: 100%|██████████| 1/1 [00:00<00:00, 83.08it/s]\n",
      "Batches:   0%|          | 0/1 [00:00<?, ?it/s]"
     ]
    },
    {
     "name": "stdout",
     "output_type": "stream",
     "text": [
      "i :  234\n",
      "i :  235\n",
      "i :  236\n"
     ]
    },
    {
     "name": "stderr",
     "output_type": "stream",
     "text": [
      "Batches: 100%|██████████| 1/1 [00:00<00:00, 81.18it/s]\n",
      "Batches: 100%|██████████| 1/1 [00:00<00:00, 89.39it/s]\n",
      "Batches: 100%|██████████| 1/1 [00:00<00:00, 84.00it/s]\n",
      "Batches: 100%|██████████| 1/1 [00:00<00:00, 80.20it/s]\n",
      "Batches: 100%|██████████| 1/1 [00:00<00:00, 82.76it/s]\n",
      "Batches: 100%|██████████| 1/1 [00:00<00:00, 81.03it/s]\n",
      "Batches:   0%|          | 0/1 [00:00<?, ?it/s]"
     ]
    },
    {
     "name": "stdout",
     "output_type": "stream",
     "text": [
      "i :  237\n",
      "i :  238\n",
      "i :  239\n"
     ]
    },
    {
     "name": "stderr",
     "output_type": "stream",
     "text": [
      "Batches: 100%|██████████| 1/1 [00:00<00:00, 81.43it/s]\n",
      "Batches: 100%|██████████| 1/1 [00:00<00:00, 89.82it/s]\n",
      "Batches: 100%|██████████| 1/1 [00:00<00:00, 85.06it/s]\n",
      "Batches: 100%|██████████| 1/1 [00:00<00:00, 81.69it/s]\n",
      "Batches:   0%|          | 0/1 [00:00<?, ?it/s]"
     ]
    },
    {
     "name": "stdout",
     "output_type": "stream",
     "text": [
      "i :  240\n",
      "i :  241\n"
     ]
    },
    {
     "name": "stderr",
     "output_type": "stream",
     "text": [
      "Batches: 100%|██████████| 1/1 [00:00<00:00, 80.36it/s]\n",
      "Batches: 100%|██████████| 1/1 [00:00<00:00, 82.39it/s]\n",
      "Batches: 100%|██████████| 1/1 [00:00<00:00, 89.81it/s]\n",
      "Batches: 100%|██████████| 1/1 [00:00<00:00, 92.93it/s]\n",
      "Batches: 100%|██████████| 1/1 [00:00<00:00, 84.71it/s]\n",
      "Batches: 100%|██████████| 1/1 [00:00<00:00, 81.24it/s]\n",
      "Batches:   0%|          | 0/1 [00:00<?, ?it/s]"
     ]
    },
    {
     "name": "stdout",
     "output_type": "stream",
     "text": [
      "i :  242\n",
      "i :  243\n",
      "i :  244\n"
     ]
    },
    {
     "name": "stderr",
     "output_type": "stream",
     "text": [
      "Batches: 100%|██████████| 1/1 [00:00<00:00, 82.88it/s]\n",
      "Batches: 100%|██████████| 1/1 [00:00<00:00, 81.48it/s]\n",
      "Batches: 100%|██████████| 1/1 [00:00<00:00, 84.32it/s]\n",
      "Batches: 100%|██████████| 1/1 [00:00<00:00, 86.82it/s]\n",
      "Batches: 100%|██████████| 1/1 [00:00<00:00, 80.93it/s]\n",
      "Batches: 100%|██████████| 1/1 [00:00<00:00, 83.63it/s]\n",
      "Batches:   0%|          | 0/1 [00:00<?, ?it/s]"
     ]
    },
    {
     "name": "stdout",
     "output_type": "stream",
     "text": [
      "i :  245\n",
      "i :  246\n",
      "i :  247\n"
     ]
    },
    {
     "name": "stderr",
     "output_type": "stream",
     "text": [
      "Batches: 100%|██████████| 1/1 [00:00<00:00, 69.27it/s]\n",
      "Batches: 100%|██████████| 1/1 [00:00<00:00, 85.47it/s]\n",
      "Batches: 100%|██████████| 1/1 [00:00<00:00, 58.07it/s]\n",
      "Batches:   0%|          | 0/1 [00:00<?, ?it/s]"
     ]
    },
    {
     "name": "stdout",
     "output_type": "stream",
     "text": [
      "i :  248\n",
      "i :  249\n"
     ]
    },
    {
     "name": "stderr",
     "output_type": "stream",
     "text": [
      "Batches: 100%|██████████| 1/1 [00:00<00:00, 90.45it/s]\n",
      "Batches: 100%|██████████| 1/1 [00:00<00:00, 64.05it/s]\n",
      "Batches: 100%|██████████| 1/1 [00:00<00:00, 91.49it/s]\n",
      "Batches: 100%|██████████| 1/1 [00:00<00:00, 88.88it/s]\n",
      "Batches: 100%|██████████| 1/1 [00:00<00:00, 93.31it/s]\n",
      "Batches: 100%|██████████| 1/1 [00:00<00:00, 90.77it/s]\n",
      "Batches:   0%|          | 0/1 [00:00<?, ?it/s]"
     ]
    },
    {
     "name": "stdout",
     "output_type": "stream",
     "text": [
      "i :  250\n",
      "i :  251\n",
      "i :  252\n"
     ]
    },
    {
     "name": "stderr",
     "output_type": "stream",
     "text": [
      "Batches: 100%|██████████| 1/1 [00:00<00:00, 87.46it/s]\n",
      "Batches: 100%|██████████| 1/1 [00:00<00:00, 88.15it/s]\n",
      "Batches: 100%|██████████| 1/1 [00:00<00:00, 90.17it/s]\n",
      "Batches: 100%|██████████| 1/1 [00:00<00:00, 90.18it/s]\n",
      "Batches: 100%|██████████| 1/1 [00:00<00:00, 87.36it/s]\n",
      "Batches: 100%|██████████| 1/1 [00:00<00:00, 89.86it/s]\n",
      "Batches: 100%|██████████| 1/1 [00:00<00:00, 90.52it/s]\n",
      "Batches:   0%|          | 0/1 [00:00<?, ?it/s]"
     ]
    },
    {
     "name": "stdout",
     "output_type": "stream",
     "text": [
      "i :  253\n",
      "i :  254\n",
      "i :  255\n"
     ]
    },
    {
     "name": "stderr",
     "output_type": "stream",
     "text": [
      "Batches: 100%|██████████| 1/1 [00:00<00:00, 86.76it/s]\n",
      "Batches: 100%|██████████| 1/1 [00:00<00:00, 73.52it/s]\n",
      "Batches: 100%|██████████| 1/1 [00:00<00:00, 89.45it/s]\n",
      "Batches: 100%|██████████| 1/1 [00:00<00:00, 62.24it/s]\n",
      "Batches:   0%|          | 0/1 [00:00<?, ?it/s]"
     ]
    },
    {
     "name": "stdout",
     "output_type": "stream",
     "text": [
      "i :  256\n",
      "i :  257\n"
     ]
    },
    {
     "name": "stderr",
     "output_type": "stream",
     "text": [
      "Batches: 100%|██████████| 1/1 [00:00<00:00, 88.18it/s]\n",
      "Batches: 100%|██████████| 1/1 [00:00<00:00, 89.53it/s]\n",
      "Batches: 100%|██████████| 1/1 [00:00<00:00, 88.64it/s]\n",
      "Batches: 100%|██████████| 1/1 [00:00<00:00, 90.19it/s]\n",
      "Batches: 100%|██████████| 1/1 [00:00<00:00, 91.20it/s]\n",
      "Batches: 100%|██████████| 1/1 [00:00<00:00, 87.10it/s]\n",
      "Batches:   0%|          | 0/1 [00:00<?, ?it/s]"
     ]
    },
    {
     "name": "stdout",
     "output_type": "stream",
     "text": [
      "i :  258\n",
      "i :  259\n",
      "i :  260\n"
     ]
    },
    {
     "name": "stderr",
     "output_type": "stream",
     "text": [
      "Batches: 100%|██████████| 1/1 [00:00<00:00, 88.05it/s]\n",
      "Batches: 100%|██████████| 1/1 [00:00<00:00, 89.86it/s]\n",
      "Batches: 100%|██████████| 1/1 [00:00<00:00, 89.85it/s]\n",
      "Batches: 100%|██████████| 1/1 [00:00<00:00, 89.67it/s]\n",
      "Batches: 100%|██████████| 1/1 [00:00<00:00, 92.91it/s]\n",
      "Batches: 100%|██████████| 1/1 [00:00<00:00, 89.49it/s]\n",
      "Batches:   0%|          | 0/1 [00:00<?, ?it/s]"
     ]
    },
    {
     "name": "stdout",
     "output_type": "stream",
     "text": [
      "i :  261\n",
      "i :  262\n",
      "i :  263\n"
     ]
    },
    {
     "name": "stderr",
     "output_type": "stream",
     "text": [
      "Batches: 100%|██████████| 1/1 [00:00<00:00, 86.14it/s]\n",
      "Batches: 100%|██████████| 1/1 [00:00<00:00, 89.98it/s]\n",
      "Batches: 100%|██████████| 1/1 [00:00<00:00, 88.69it/s]\n",
      "Batches: 100%|██████████| 1/1 [00:00<00:00, 88.25it/s]\n",
      "Batches:   0%|          | 0/1 [00:00<?, ?it/s]"
     ]
    },
    {
     "name": "stdout",
     "output_type": "stream",
     "text": [
      "i :  264\n",
      "i :  265\n"
     ]
    },
    {
     "name": "stderr",
     "output_type": "stream",
     "text": [
      "Batches: 100%|██████████| 1/1 [00:00<00:00, 88.11it/s]\n",
      "Batches: 100%|██████████| 1/1 [00:00<00:00, 89.77it/s]\n",
      "Batches: 100%|██████████| 1/1 [00:00<00:00, 89.60it/s]\n",
      "Batches: 100%|██████████| 1/1 [00:00<00:00, 88.95it/s]\n",
      "Batches: 100%|██████████| 1/1 [00:00<00:00, 86.96it/s]\n",
      "Batches: 100%|██████████| 1/1 [00:00<00:00, 87.81it/s]\n",
      "Batches:   0%|          | 0/1 [00:00<?, ?it/s]"
     ]
    },
    {
     "name": "stdout",
     "output_type": "stream",
     "text": [
      "i :  266\n",
      "i :  267\n",
      "i :  268\n"
     ]
    },
    {
     "name": "stderr",
     "output_type": "stream",
     "text": [
      "Batches: 100%|██████████| 1/1 [00:00<00:00, 85.72it/s]\n",
      "Batches: 100%|██████████| 1/1 [00:00<00:00, 87.09it/s]\n",
      "Batches: 100%|██████████| 1/1 [00:00<00:00, 87.88it/s]\n",
      "Batches: 100%|██████████| 1/1 [00:00<00:00, 89.89it/s]\n",
      "Batches: 100%|██████████| 1/1 [00:00<00:00, 88.72it/s]\n",
      "Batches: 100%|██████████| 1/1 [00:00<00:00, 89.65it/s]\n",
      "Batches:   0%|          | 0/1 [00:00<?, ?it/s]"
     ]
    },
    {
     "name": "stdout",
     "output_type": "stream",
     "text": [
      "i :  269\n",
      "i :  270\n",
      "i :  271\n"
     ]
    },
    {
     "name": "stderr",
     "output_type": "stream",
     "text": [
      "Batches: 100%|██████████| 1/1 [00:00<00:00, 88.55it/s]\n",
      "Batches: 100%|██████████| 1/1 [00:00<00:00, 93.14it/s]\n",
      "Batches: 100%|██████████| 1/1 [00:00<00:00, 62.64it/s]\n",
      "Batches: 100%|██████████| 1/1 [00:00<00:00, 87.19it/s]\n",
      "Batches:   0%|          | 0/1 [00:00<?, ?it/s]"
     ]
    },
    {
     "name": "stdout",
     "output_type": "stream",
     "text": [
      "i :  272\n",
      "i :  273\n"
     ]
    },
    {
     "name": "stderr",
     "output_type": "stream",
     "text": [
      "Batches: 100%|██████████| 1/1 [00:00<00:00, 80.10it/s]\n",
      "Batches: 100%|██████████| 1/1 [00:00<00:00, 85.85it/s]\n",
      "Batches: 100%|██████████| 1/1 [00:00<00:00, 82.24it/s]\n",
      "Batches: 100%|██████████| 1/1 [00:00<00:00, 89.02it/s]\n",
      "Batches: 100%|██████████| 1/1 [00:00<00:00, 83.82it/s]\n",
      "Batches: 100%|██████████| 1/1 [00:00<00:00, 85.85it/s]\n",
      "Batches:   0%|          | 0/1 [00:00<?, ?it/s]"
     ]
    },
    {
     "name": "stdout",
     "output_type": "stream",
     "text": [
      "i :  274\n",
      "i :  275\n",
      "i :  276\n"
     ]
    },
    {
     "name": "stderr",
     "output_type": "stream",
     "text": [
      "Batches: 100%|██████████| 1/1 [00:00<00:00, 83.61it/s]\n",
      "Batches: 100%|██████████| 1/1 [00:00<00:00, 88.96it/s]\n",
      "Batches: 100%|██████████| 1/1 [00:00<00:00, 81.74it/s]\n",
      "Batches: 100%|██████████| 1/1 [00:00<00:00, 80.95it/s]\n",
      "Batches: 100%|██████████| 1/1 [00:00<00:00, 83.89it/s]\n",
      "Batches:   0%|          | 0/1 [00:00<?, ?it/s]"
     ]
    },
    {
     "name": "stdout",
     "output_type": "stream",
     "text": [
      "i :  277\n",
      "i :  278\n",
      "i :  279\n"
     ]
    },
    {
     "name": "stderr",
     "output_type": "stream",
     "text": [
      "Batches: 100%|██████████| 1/1 [00:00<00:00, 87.50it/s]\n",
      "Batches: 100%|██████████| 1/1 [00:00<00:00, 81.53it/s]\n",
      "Batches: 100%|██████████| 1/1 [00:00<00:00, 89.36it/s]\n",
      "Batches: 100%|██████████| 1/1 [00:00<00:00, 80.72it/s]\n",
      "Batches: 100%|██████████| 1/1 [00:00<00:00, 88.76it/s]\n",
      "Batches:   0%|          | 0/1 [00:00<?, ?it/s]"
     ]
    },
    {
     "name": "stdout",
     "output_type": "stream",
     "text": [
      "i :  280\n",
      "i :  281\n"
     ]
    },
    {
     "name": "stderr",
     "output_type": "stream",
     "text": [
      "Batches: 100%|██████████| 1/1 [00:00<00:00, 81.43it/s]\n",
      "Batches: 100%|██████████| 1/1 [00:00<00:00, 71.09it/s]\n",
      "Batches: 100%|██████████| 1/1 [00:00<00:00, 80.60it/s]\n",
      "Batches: 100%|██████████| 1/1 [00:00<00:00, 81.97it/s]\n",
      "Batches: 100%|██████████| 1/1 [00:00<00:00, 84.85it/s]\n",
      "Batches:   0%|          | 0/1 [00:00<?, ?it/s]"
     ]
    },
    {
     "name": "stdout",
     "output_type": "stream",
     "text": [
      "i :  282\n",
      "i :  283\n",
      "i :  284\n"
     ]
    },
    {
     "name": "stderr",
     "output_type": "stream",
     "text": [
      "Batches: 100%|██████████| 1/1 [00:00<00:00, 80.85it/s]\n",
      "Batches: 100%|██████████| 1/1 [00:00<00:00, 66.29it/s]\n",
      "Batches: 100%|██████████| 1/1 [00:00<00:00, 85.01it/s]\n",
      "Batches: 100%|██████████| 1/1 [00:00<00:00, 89.44it/s]\n",
      "Batches: 100%|██████████| 1/1 [00:00<00:00, 89.31it/s]\n",
      "Batches: 100%|██████████| 1/1 [00:00<00:00, 90.94it/s]\n",
      "Batches:   0%|          | 0/1 [00:00<?, ?it/s]"
     ]
    },
    {
     "name": "stdout",
     "output_type": "stream",
     "text": [
      "i :  285\n",
      "i :  286\n",
      "i :  287\n"
     ]
    },
    {
     "name": "stderr",
     "output_type": "stream",
     "text": [
      "Batches: 100%|██████████| 1/1 [00:00<00:00, 87.24it/s]\n",
      "Batches: 100%|██████████| 1/1 [00:00<00:00, 63.91it/s]\n",
      "Batches: 100%|██████████| 1/1 [00:00<00:00, 89.10it/s]\n",
      "Batches: 100%|██████████| 1/1 [00:00<00:00, 88.30it/s]\n",
      "Batches:   0%|          | 0/1 [00:00<?, ?it/s]"
     ]
    },
    {
     "name": "stdout",
     "output_type": "stream",
     "text": [
      "i :  288\n",
      "i :  289\n"
     ]
    },
    {
     "name": "stderr",
     "output_type": "stream",
     "text": [
      "Batches: 100%|██████████| 1/1 [00:00<00:00, 87.33it/s]\n",
      "Batches: 100%|██████████| 1/1 [00:00<00:00, 90.03it/s]\n",
      "Batches: 100%|██████████| 1/1 [00:00<00:00, 92.79it/s]\n",
      "Batches: 100%|██████████| 1/1 [00:00<00:00, 88.98it/s]\n",
      "Batches: 100%|██████████| 1/1 [00:00<00:00, 74.73it/s]\n",
      "Batches: 100%|██████████| 1/1 [00:00<00:00, 93.67it/s]\n",
      "Batches: 100%|██████████| 1/1 [00:00<00:00, 72.77it/s]\n",
      "Batches:   0%|          | 0/1 [00:00<?, ?it/s]"
     ]
    },
    {
     "name": "stdout",
     "output_type": "stream",
     "text": [
      "i :  290\n",
      "i :  291\n",
      "i :  292\n"
     ]
    },
    {
     "name": "stderr",
     "output_type": "stream",
     "text": [
      "Batches: 100%|██████████| 1/1 [00:00<00:00, 88.02it/s]\n",
      "Batches: 100%|██████████| 1/1 [00:00<00:00, 90.06it/s]\n",
      "Batches: 100%|██████████| 1/1 [00:00<00:00, 89.04it/s]\n",
      "Batches: 100%|██████████| 1/1 [00:00<00:00, 89.73it/s]\n",
      "Batches: 100%|██████████| 1/1 [00:00<00:00, 90.14it/s]\n",
      "Batches: 100%|██████████| 1/1 [00:00<00:00, 91.21it/s]\n",
      "Batches:   0%|          | 0/1 [00:00<?, ?it/s]"
     ]
    },
    {
     "name": "stdout",
     "output_type": "stream",
     "text": [
      "i :  293\n",
      "i :  294\n",
      "i :  295\n"
     ]
    },
    {
     "name": "stderr",
     "output_type": "stream",
     "text": [
      "Batches: 100%|██████████| 1/1 [00:00<00:00, 85.68it/s]\n",
      "Batches: 100%|██████████| 1/1 [00:00<00:00, 89.90it/s]\n",
      "Batches: 100%|██████████| 1/1 [00:00<00:00, 90.19it/s]\n",
      "Batches: 100%|██████████| 1/1 [00:00<00:00, 89.73it/s]\n",
      "Batches:   0%|          | 0/1 [00:00<?, ?it/s]"
     ]
    },
    {
     "name": "stdout",
     "output_type": "stream",
     "text": [
      "i :  296\n",
      "i :  297\n"
     ]
    },
    {
     "name": "stderr",
     "output_type": "stream",
     "text": [
      "Batches: 100%|██████████| 1/1 [00:00<00:00, 87.88it/s]\n",
      "Batches: 100%|██████████| 1/1 [00:00<00:00, 90.17it/s]\n",
      "Batches: 100%|██████████| 1/1 [00:00<00:00, 91.45it/s]\n",
      "Batches: 100%|██████████| 1/1 [00:00<00:00, 93.00it/s]\n",
      "Batches: 100%|██████████| 1/1 [00:00<00:00, 58.67it/s]\n",
      "Batches: 100%|██████████| 1/1 [00:00<00:00, 83.56it/s]\n",
      "Batches:   0%|          | 0/1 [00:00<?, ?it/s]"
     ]
    },
    {
     "name": "stdout",
     "output_type": "stream",
     "text": [
      "i :  298\n",
      "i :  299\n",
      "i :  300\n"
     ]
    },
    {
     "name": "stderr",
     "output_type": "stream",
     "text": [
      "Batches: 100%|██████████| 1/1 [00:00<00:00, 78.91it/s]\n",
      "Batches: 100%|██████████| 1/1 [00:00<00:00, 81.91it/s]\n",
      "Batches: 100%|██████████| 1/1 [00:00<00:00, 82.57it/s]\n",
      "Batches: 100%|██████████| 1/1 [00:00<00:00, 82.16it/s]\n",
      "Batches: 100%|██████████| 1/1 [00:00<00:00, 82.84it/s]\n",
      "Batches:   0%|          | 0/1 [00:00<?, ?it/s]"
     ]
    },
    {
     "name": "stdout",
     "output_type": "stream",
     "text": [
      "i :  301\n",
      "i :  302\n",
      "i :  303\n"
     ]
    },
    {
     "name": "stderr",
     "output_type": "stream",
     "text": [
      "Batches: 100%|██████████| 1/1 [00:00<00:00, 80.43it/s]\n",
      "Batches: 100%|██████████| 1/1 [00:00<00:00, 81.46it/s]\n",
      "Batches: 100%|██████████| 1/1 [00:00<00:00, 81.62it/s]\n",
      "Batches: 100%|██████████| 1/1 [00:00<00:00, 83.55it/s]\n",
      "Batches:   0%|          | 0/1 [00:00<?, ?it/s]"
     ]
    },
    {
     "name": "stdout",
     "output_type": "stream",
     "text": [
      "i :  304\n",
      "i :  305\n"
     ]
    },
    {
     "name": "stderr",
     "output_type": "stream",
     "text": [
      "Batches: 100%|██████████| 1/1 [00:00<00:00, 85.04it/s]\n",
      "Batches: 100%|██████████| 1/1 [00:00<00:00, 88.93it/s]\n",
      "Batches: 100%|██████████| 1/1 [00:00<00:00, 88.18it/s]\n",
      "Batches: 100%|██████████| 1/1 [00:00<00:00, 83.11it/s]\n",
      "Batches: 100%|██████████| 1/1 [00:00<00:00, 90.06it/s]\n",
      "Batches: 100%|██████████| 1/1 [00:00<00:00, 82.58it/s]\n",
      "Batches:   0%|          | 0/1 [00:00<?, ?it/s]"
     ]
    },
    {
     "name": "stdout",
     "output_type": "stream",
     "text": [
      "i :  306\n",
      "i :  307\n",
      "i :  308\n"
     ]
    },
    {
     "name": "stderr",
     "output_type": "stream",
     "text": [
      "Batches: 100%|██████████| 1/1 [00:00<00:00, 80.40it/s]\n",
      "Batches: 100%|██████████| 1/1 [00:00<00:00, 81.15it/s]\n",
      "Batches: 100%|██████████| 1/1 [00:00<00:00, 88.04it/s]\n",
      "Batches: 100%|██████████| 1/1 [00:00<00:00, 82.30it/s]\n",
      "Batches: 100%|██████████| 1/1 [00:00<00:00, 83.42it/s]\n",
      "Batches: 100%|██████████| 1/1 [00:00<00:00, 88.46it/s]\n",
      "Batches:   0%|          | 0/1 [00:00<?, ?it/s]"
     ]
    },
    {
     "name": "stdout",
     "output_type": "stream",
     "text": [
      "i :  309\n",
      "i :  310\n",
      "i :  311\n"
     ]
    },
    {
     "name": "stderr",
     "output_type": "stream",
     "text": [
      "Batches: 100%|██████████| 1/1 [00:00<00:00, 68.41it/s]\n",
      "Batches: 100%|██████████| 1/1 [00:00<00:00, 92.50it/s]\n",
      "Batches: 100%|██████████| 1/1 [00:00<00:00, 81.54it/s]\n",
      "Batches: 100%|██████████| 1/1 [00:00<00:00, 84.45it/s]\n",
      "Batches:   0%|          | 0/1 [00:00<?, ?it/s]"
     ]
    },
    {
     "name": "stdout",
     "output_type": "stream",
     "text": [
      "i :  312\n",
      "i :  313\n"
     ]
    },
    {
     "name": "stderr",
     "output_type": "stream",
     "text": [
      "Batches: 100%|██████████| 1/1 [00:00<00:00, 79.61it/s]\n",
      "Batches: 100%|██████████| 1/1 [00:00<00:00, 84.93it/s]\n",
      "Batches: 100%|██████████| 1/1 [00:00<00:00, 80.55it/s]\n",
      "Batches: 100%|██████████| 1/1 [00:00<00:00, 81.97it/s]\n",
      "Batches: 100%|██████████| 1/1 [00:00<00:00, 83.39it/s]\n",
      "Batches: 100%|██████████| 1/1 [00:00<00:00, 83.42it/s]\n",
      "Batches:   0%|          | 0/1 [00:00<?, ?it/s]"
     ]
    },
    {
     "name": "stdout",
     "output_type": "stream",
     "text": [
      "i :  314\n",
      "i :  315\n",
      "i :  316\n"
     ]
    },
    {
     "name": "stderr",
     "output_type": "stream",
     "text": [
      "Batches: 100%|██████████| 1/1 [00:00<00:00, 82.80it/s]\n",
      "Batches: 100%|██████████| 1/1 [00:00<00:00, 82.07it/s]\n",
      "Batches: 100%|██████████| 1/1 [00:00<00:00, 82.54it/s]\n",
      "Batches: 100%|██████████| 1/1 [00:00<00:00, 81.89it/s]\n",
      "Batches: 100%|██████████| 1/1 [00:00<00:00, 81.34it/s]\n",
      "Batches: 100%|██████████| 1/1 [00:00<00:00, 81.65it/s]\n",
      "Batches:   0%|          | 0/1 [00:00<?, ?it/s]"
     ]
    },
    {
     "name": "stdout",
     "output_type": "stream",
     "text": [
      "i :  317\n",
      "i :  318\n",
      "i :  319\n"
     ]
    },
    {
     "name": "stderr",
     "output_type": "stream",
     "text": [
      "Batches: 100%|██████████| 1/1 [00:00<00:00, 80.76it/s]\n",
      "Batches: 100%|██████████| 1/1 [00:00<00:00, 82.60it/s]\n",
      "Batches: 100%|██████████| 1/1 [00:00<00:00, 84.37it/s]\n",
      "Batches: 100%|██████████| 1/1 [00:00<00:00, 82.36it/s]\n",
      "Batches:   0%|          | 0/1 [00:00<?, ?it/s]"
     ]
    },
    {
     "name": "stdout",
     "output_type": "stream",
     "text": [
      "i :  320\n",
      "i :  321\n"
     ]
    },
    {
     "name": "stderr",
     "output_type": "stream",
     "text": [
      "Batches: 100%|██████████| 1/1 [00:00<00:00, 80.57it/s]\n",
      "Batches: 100%|██████████| 1/1 [00:00<00:00, 81.98it/s]\n",
      "Batches: 100%|██████████| 1/1 [00:00<00:00, 83.09it/s]\n",
      "Batches: 100%|██████████| 1/1 [00:00<00:00, 81.81it/s]\n",
      "Batches: 100%|██████████| 1/1 [00:00<00:00, 84.97it/s]\n",
      "Batches: 100%|██████████| 1/1 [00:00<00:00, 81.62it/s]\n",
      "Batches:   0%|          | 0/1 [00:00<?, ?it/s]"
     ]
    },
    {
     "name": "stdout",
     "output_type": "stream",
     "text": [
      "i :  322\n",
      "i :  323\n",
      "i :  324\n"
     ]
    },
    {
     "name": "stderr",
     "output_type": "stream",
     "text": [
      "Batches: 100%|██████████| 1/1 [00:00<00:00, 80.03it/s]\n",
      "Batches: 100%|██████████| 1/1 [00:00<00:00, 82.35it/s]\n",
      "Batches: 100%|██████████| 1/1 [00:00<00:00, 82.14it/s]\n",
      "Batches: 100%|██████████| 1/1 [00:00<00:00, 81.57it/s]\n",
      "Batches: 100%|██████████| 1/1 [00:00<00:00, 82.19it/s]\n",
      "Batches: 100%|██████████| 1/1 [00:00<00:00, 81.87it/s]\n",
      "Batches:   0%|          | 0/1 [00:00<?, ?it/s]"
     ]
    },
    {
     "name": "stdout",
     "output_type": "stream",
     "text": [
      "i :  325\n",
      "i :  326\n",
      "i :  327\n"
     ]
    },
    {
     "name": "stderr",
     "output_type": "stream",
     "text": [
      "Batches: 100%|██████████| 1/1 [00:00<00:00, 80.18it/s]\n",
      "Batches: 100%|██████████| 1/1 [00:00<00:00, 82.11it/s]\n",
      "Batches: 100%|██████████| 1/1 [00:00<00:00, 80.23it/s]\n",
      "Batches: 100%|██████████| 1/1 [00:00<00:00, 82.61it/s]\n",
      "Batches:   0%|          | 0/1 [00:00<?, ?it/s]"
     ]
    },
    {
     "name": "stdout",
     "output_type": "stream",
     "text": [
      "i :  328\n",
      "i :  329\n"
     ]
    },
    {
     "name": "stderr",
     "output_type": "stream",
     "text": [
      "Batches: 100%|██████████| 1/1 [00:00<00:00, 80.13it/s]\n",
      "Batches: 100%|██████████| 1/1 [00:00<00:00, 84.37it/s]\n",
      "Batches: 100%|██████████| 1/1 [00:00<00:00, 80.67it/s]\n",
      "Batches: 100%|██████████| 1/1 [00:00<00:00, 81.58it/s]\n",
      "Batches: 100%|██████████| 1/1 [00:00<00:00, 85.10it/s]\n",
      "Batches: 100%|██████████| 1/1 [00:00<00:00, 82.76it/s]\n",
      "Batches:   0%|          | 0/1 [00:00<?, ?it/s]"
     ]
    },
    {
     "name": "stdout",
     "output_type": "stream",
     "text": [
      "i :  330\n",
      "i :  331\n",
      "i :  332\n"
     ]
    },
    {
     "name": "stderr",
     "output_type": "stream",
     "text": [
      "Batches: 100%|██████████| 1/1 [00:00<00:00, 81.53it/s]\n",
      "Batches: 100%|██████████| 1/1 [00:00<00:00, 84.33it/s]\n",
      "Batches: 100%|██████████| 1/1 [00:00<00:00, 80.51it/s]\n",
      "Batches: 100%|██████████| 1/1 [00:00<00:00, 81.29it/s]\n",
      "Batches: 100%|██████████| 1/1 [00:00<00:00, 82.75it/s]\n",
      "Batches: 100%|██████████| 1/1 [00:00<00:00, 81.22it/s]\n",
      "Batches:   0%|          | 0/1 [00:00<?, ?it/s]"
     ]
    },
    {
     "name": "stdout",
     "output_type": "stream",
     "text": [
      "i :  333\n",
      "i :  334\n",
      "i :  335\n"
     ]
    },
    {
     "name": "stderr",
     "output_type": "stream",
     "text": [
      "Batches: 100%|██████████| 1/1 [00:00<00:00, 81.28it/s]\n",
      "Batches: 100%|██████████| 1/1 [00:00<00:00, 82.39it/s]\n",
      "Batches: 100%|██████████| 1/1 [00:00<00:00, 81.37it/s]\n",
      "Batches: 100%|██████████| 1/1 [00:00<00:00, 57.79it/s]\n",
      "Batches:   0%|          | 0/1 [00:00<?, ?it/s]"
     ]
    },
    {
     "name": "stdout",
     "output_type": "stream",
     "text": [
      "i :  336\n",
      "i :  337\n"
     ]
    },
    {
     "name": "stderr",
     "output_type": "stream",
     "text": [
      "Batches: 100%|██████████| 1/1 [00:00<00:00, 87.92it/s]\n",
      "Batches: 100%|██████████| 1/1 [00:00<00:00, 89.80it/s]\n",
      "Batches: 100%|██████████| 1/1 [00:00<00:00, 89.82it/s]\n",
      "Batches: 100%|██████████| 1/1 [00:00<00:00, 70.77it/s]\n",
      "Batches: 100%|██████████| 1/1 [00:00<00:00, 79.94it/s]\n",
      "Batches: 100%|██████████| 1/1 [00:00<00:00, 91.34it/s]\n",
      "Batches:   0%|          | 0/1 [00:00<?, ?it/s]"
     ]
    },
    {
     "name": "stdout",
     "output_type": "stream",
     "text": [
      "i :  338\n",
      "i :  339\n",
      "i :  340\n"
     ]
    },
    {
     "name": "stderr",
     "output_type": "stream",
     "text": [
      "Batches: 100%|██████████| 1/1 [00:00<00:00, 89.32it/s]\n",
      "Batches: 100%|██████████| 1/1 [00:00<00:00, 90.07it/s]\n",
      "Batches: 100%|██████████| 1/1 [00:00<00:00, 91.50it/s]\n",
      "Batches: 100%|██████████| 1/1 [00:00<00:00, 90.30it/s]\n",
      "Batches: 100%|██████████| 1/1 [00:00<00:00, 89.19it/s]\n",
      "Batches: 100%|██████████| 1/1 [00:00<00:00, 93.86it/s]\n",
      "Batches: 100%|██████████| 1/1 [00:00<00:00, 91.87it/s]\n",
      "Batches:   0%|          | 0/1 [00:00<?, ?it/s]"
     ]
    },
    {
     "name": "stdout",
     "output_type": "stream",
     "text": [
      "i :  341\n",
      "i :  342\n",
      "i :  343\n"
     ]
    },
    {
     "name": "stderr",
     "output_type": "stream",
     "text": [
      "Batches: 100%|██████████| 1/1 [00:00<00:00, 90.96it/s]\n",
      "Batches: 100%|██████████| 1/1 [00:00<00:00, 95.47it/s]\n",
      "Batches: 100%|██████████| 1/1 [00:00<00:00, 89.54it/s]\n",
      "Batches: 100%|██████████| 1/1 [00:00<00:00, 92.40it/s]\n",
      "Batches:   0%|          | 0/1 [00:00<?, ?it/s]"
     ]
    },
    {
     "name": "stdout",
     "output_type": "stream",
     "text": [
      "i :  344\n",
      "i :  345\n"
     ]
    },
    {
     "name": "stderr",
     "output_type": "stream",
     "text": [
      "Batches: 100%|██████████| 1/1 [00:00<00:00, 88.20it/s]\n",
      "Batches: 100%|██████████| 1/1 [00:00<00:00, 91.82it/s]\n",
      "Batches: 100%|██████████| 1/1 [00:00<00:00, 92.15it/s]\n",
      "Batches: 100%|██████████| 1/1 [00:00<00:00, 91.58it/s]\n",
      "Batches: 100%|██████████| 1/1 [00:00<00:00, 90.20it/s]\n",
      "Batches: 100%|██████████| 1/1 [00:00<00:00, 89.22it/s]\n",
      "Batches: 100%|██████████| 1/1 [00:00<00:00, 93.59it/s]\n",
      "Batches:   0%|          | 0/1 [00:00<?, ?it/s]"
     ]
    },
    {
     "name": "stdout",
     "output_type": "stream",
     "text": [
      "i :  346\n",
      "i :  347\n",
      "i :  348\n",
      "i :  349\n"
     ]
    },
    {
     "name": "stderr",
     "output_type": "stream",
     "text": [
      "Batches: 100%|██████████| 1/1 [00:00<00:00, 89.49it/s]\n",
      "Batches: 100%|██████████| 1/1 [00:00<00:00, 91.73it/s]\n",
      "Batches: 100%|██████████| 1/1 [00:00<00:00, 93.50it/s]\n",
      "Batches: 100%|██████████| 1/1 [00:00<00:00, 95.35it/s]\n",
      "Batches: 100%|██████████| 1/1 [00:00<00:00, 92.90it/s]\n",
      "Batches: 100%|██████████| 1/1 [00:00<00:00, 90.46it/s]\n",
      "Batches:   0%|          | 0/1 [00:00<?, ?it/s]"
     ]
    },
    {
     "name": "stdout",
     "output_type": "stream",
     "text": [
      "i :  350\n",
      "i :  351\n",
      "i :  352\n"
     ]
    },
    {
     "name": "stderr",
     "output_type": "stream",
     "text": [
      "Batches: 100%|██████████| 1/1 [00:00<00:00, 87.52it/s]\n",
      "Batches: 100%|██████████| 1/1 [00:00<00:00, 90.89it/s]\n",
      "Batches: 100%|██████████| 1/1 [00:00<00:00, 87.75it/s]\n",
      "Batches: 100%|██████████| 1/1 [00:00<00:00, 91.01it/s]\n",
      "Batches:   0%|          | 0/1 [00:00<?, ?it/s]"
     ]
    },
    {
     "name": "stdout",
     "output_type": "stream",
     "text": [
      "i :  353\n",
      "i :  354\n"
     ]
    },
    {
     "name": "stderr",
     "output_type": "stream",
     "text": [
      "Batches: 100%|██████████| 1/1 [00:00<00:00, 87.81it/s]\n",
      "Batches: 100%|██████████| 1/1 [00:00<00:00, 93.56it/s]\n",
      "Batches: 100%|██████████| 1/1 [00:00<00:00, 91.34it/s]\n",
      "Batches: 100%|██████████| 1/1 [00:00<00:00, 91.51it/s]\n",
      "Batches: 100%|██████████| 1/1 [00:00<00:00, 91.85it/s]\n",
      "Batches: 100%|██████████| 1/1 [00:00<00:00, 94.97it/s]\n",
      "Batches: 100%|██████████| 1/1 [00:00<00:00, 94.48it/s]\n",
      "Batches: 100%|██████████| 1/1 [00:00<00:00, 95.83it/s]\n",
      "Batches:   0%|          | 0/1 [00:00<?, ?it/s]"
     ]
    },
    {
     "name": "stdout",
     "output_type": "stream",
     "text": [
      "i :  355\n",
      "i :  356\n",
      "i :  357\n",
      "i :  358\n"
     ]
    },
    {
     "name": "stderr",
     "output_type": "stream",
     "text": [
      "Batches: 100%|██████████| 1/1 [00:00<00:00, 92.91it/s]\n",
      "Batches: 100%|██████████| 1/1 [00:00<00:00, 94.01it/s]\n",
      "Batches: 100%|██████████| 1/1 [00:00<00:00, 91.94it/s]\n",
      "Batches: 100%|██████████| 1/1 [00:00<00:00, 90.47it/s]\n",
      "Batches: 100%|██████████| 1/1 [00:00<00:00, 93.32it/s]\n",
      "Batches: 100%|██████████| 1/1 [00:00<00:00, 90.76it/s]\n",
      "Batches:   0%|          | 0/1 [00:00<?, ?it/s]"
     ]
    },
    {
     "name": "stdout",
     "output_type": "stream",
     "text": [
      "i :  359\n",
      "i :  360\n",
      "i :  361\n"
     ]
    },
    {
     "name": "stderr",
     "output_type": "stream",
     "text": [
      "Batches: 100%|██████████| 1/1 [00:00<00:00, 89.44it/s]\n",
      "Batches: 100%|██████████| 1/1 [00:00<00:00, 91.82it/s]\n",
      "Batches: 100%|██████████| 1/1 [00:00<00:00, 92.17it/s]\n",
      "Batches: 100%|██████████| 1/1 [00:00<00:00, 92.54it/s]\n",
      "Batches:   0%|          | 0/1 [00:00<?, ?it/s]"
     ]
    },
    {
     "name": "stdout",
     "output_type": "stream",
     "text": [
      "i :  362\n",
      "i :  363\n"
     ]
    },
    {
     "name": "stderr",
     "output_type": "stream",
     "text": [
      "Batches: 100%|██████████| 1/1 [00:00<00:00, 87.42it/s]\n",
      "Batches: 100%|██████████| 1/1 [00:00<00:00, 93.14it/s]\n",
      "Batches: 100%|██████████| 1/1 [00:00<00:00, 89.74it/s]\n",
      "Batches: 100%|██████████| 1/1 [00:00<00:00, 92.23it/s]\n",
      "Batches: 100%|██████████| 1/1 [00:00<00:00, 89.86it/s]\n",
      "Batches: 100%|██████████| 1/1 [00:00<00:00, 92.82it/s]\n",
      "Batches: 100%|██████████| 1/1 [00:00<00:00, 90.20it/s]\n",
      "Batches: 100%|██████████| 1/1 [00:00<00:00, 92.83it/s]\n",
      "Batches:   0%|          | 0/1 [00:00<?, ?it/s]"
     ]
    },
    {
     "name": "stdout",
     "output_type": "stream",
     "text": [
      "i :  364\n",
      "i :  365\n",
      "i :  366\n",
      "i :  367\n"
     ]
    },
    {
     "name": "stderr",
     "output_type": "stream",
     "text": [
      "Batches: 100%|██████████| 1/1 [00:00<00:00, 79.59it/s]\n",
      "Batches: 100%|██████████| 1/1 [00:00<00:00, 91.76it/s]\n",
      "Batches: 100%|██████████| 1/1 [00:00<00:00, 92.97it/s]\n",
      "Batches: 100%|██████████| 1/1 [00:00<00:00, 87.21it/s]\n",
      "Batches: 100%|██████████| 1/1 [00:00<00:00, 85.08it/s]\n",
      "Batches: 100%|██████████| 1/1 [00:00<00:00, 91.68it/s]\n",
      "Batches:   0%|          | 0/1 [00:00<?, ?it/s]"
     ]
    },
    {
     "name": "stdout",
     "output_type": "stream",
     "text": [
      "i :  368\n",
      "i :  369\n",
      "i :  370\n"
     ]
    },
    {
     "name": "stderr",
     "output_type": "stream",
     "text": [
      "Batches: 100%|██████████| 1/1 [00:00<00:00, 91.48it/s]\n",
      "Batches: 100%|██████████| 1/1 [00:00<00:00, 95.50it/s]\n",
      "Batches: 100%|██████████| 1/1 [00:00<00:00, 92.99it/s]\n",
      "Batches: 100%|██████████| 1/1 [00:00<00:00, 93.30it/s]\n",
      "Batches:   0%|          | 0/1 [00:00<?, ?it/s]"
     ]
    },
    {
     "name": "stdout",
     "output_type": "stream",
     "text": [
      "i :  371\n",
      "i :  372\n"
     ]
    },
    {
     "name": "stderr",
     "output_type": "stream",
     "text": [
      "Batches: 100%|██████████| 1/1 [00:00<00:00, 95.28it/s]\n",
      "Batches: 100%|██████████| 1/1 [00:00<00:00, 92.79it/s]\n",
      "Batches: 100%|██████████| 1/1 [00:00<00:00, 87.95it/s]\n",
      "Batches: 100%|██████████| 1/1 [00:00<00:00, 91.65it/s]\n",
      "Batches: 100%|██████████| 1/1 [00:00<00:00, 91.68it/s]\n",
      "Batches: 100%|██████████| 1/1 [00:00<00:00, 91.81it/s]\n",
      "Batches: 100%|██████████| 1/1 [00:00<00:00, 91.92it/s]\n",
      "Batches: 100%|██████████| 1/1 [00:00<00:00, 92.79it/s]\n",
      "Batches:   0%|          | 0/1 [00:00<?, ?it/s]"
     ]
    },
    {
     "name": "stdout",
     "output_type": "stream",
     "text": [
      "i :  373\n",
      "i :  374\n",
      "i :  375\n",
      "i :  376\n"
     ]
    },
    {
     "name": "stderr",
     "output_type": "stream",
     "text": [
      "Batches: 100%|██████████| 1/1 [00:00<00:00, 90.42it/s]\n",
      "Batches: 100%|██████████| 1/1 [00:00<00:00, 89.76it/s]\n",
      "Batches: 100%|██████████| 1/1 [00:00<00:00, 91.44it/s]\n",
      "Batches: 100%|██████████| 1/1 [00:00<00:00, 91.96it/s]\n",
      "Batches: 100%|██████████| 1/1 [00:00<00:00, 95.25it/s]\n",
      "Batches: 100%|██████████| 1/1 [00:00<00:00, 95.94it/s]\n",
      "Batches:   0%|          | 0/1 [00:00<?, ?it/s]"
     ]
    },
    {
     "name": "stdout",
     "output_type": "stream",
     "text": [
      "i :  377\n",
      "i :  378\n",
      "i :  379\n"
     ]
    },
    {
     "name": "stderr",
     "output_type": "stream",
     "text": [
      "Batches: 100%|██████████| 1/1 [00:00<00:00, 89.57it/s]\n",
      "Batches: 100%|██████████| 1/1 [00:00<00:00, 92.21it/s]\n",
      "Batches: 100%|██████████| 1/1 [00:00<00:00, 91.03it/s]\n",
      "Batches: 100%|██████████| 1/1 [00:00<00:00, 91.91it/s]\n",
      "Batches:   0%|          | 0/1 [00:00<?, ?it/s]"
     ]
    },
    {
     "name": "stdout",
     "output_type": "stream",
     "text": [
      "i :  380\n",
      "i :  381\n"
     ]
    },
    {
     "name": "stderr",
     "output_type": "stream",
     "text": [
      "Batches: 100%|██████████| 1/1 [00:00<00:00, 89.77it/s]\n",
      "Batches: 100%|██████████| 1/1 [00:00<00:00, 92.99it/s]\n",
      "Batches: 100%|██████████| 1/1 [00:00<00:00, 91.56it/s]\n",
      "Batches: 100%|██████████| 1/1 [00:00<00:00, 91.65it/s]\n",
      "Batches: 100%|██████████| 1/1 [00:00<00:00, 88.96it/s]\n",
      "Batches: 100%|██████████| 1/1 [00:00<00:00, 91.48it/s]\n",
      "Batches: 100%|██████████| 1/1 [00:00<00:00, 89.43it/s]\n",
      "Batches: 100%|██████████| 1/1 [00:00<00:00, 91.94it/s]\n",
      "Batches:   0%|          | 0/1 [00:00<?, ?it/s]"
     ]
    },
    {
     "name": "stdout",
     "output_type": "stream",
     "text": [
      "i :  382\n",
      "i :  383\n",
      "i :  384\n",
      "i :  385\n"
     ]
    },
    {
     "name": "stderr",
     "output_type": "stream",
     "text": [
      "Batches: 100%|██████████| 1/1 [00:00<00:00, 90.53it/s]\n",
      "Batches: 100%|██████████| 1/1 [00:00<00:00, 90.72it/s]\n",
      "Batches: 100%|██████████| 1/1 [00:00<00:00, 92.16it/s]\n",
      "Batches: 100%|██████████| 1/1 [00:00<00:00, 92.29it/s]\n",
      "Batches: 100%|██████████| 1/1 [00:00<00:00, 93.03it/s]\n",
      "Batches: 100%|██████████| 1/1 [00:00<00:00, 92.38it/s]\n",
      "Batches:   0%|          | 0/1 [00:00<?, ?it/s]"
     ]
    },
    {
     "name": "stdout",
     "output_type": "stream",
     "text": [
      "i :  386\n",
      "i :  387\n",
      "i :  388\n"
     ]
    },
    {
     "name": "stderr",
     "output_type": "stream",
     "text": [
      "Batches: 100%|██████████| 1/1 [00:00<00:00, 78.88it/s]\n",
      "Batches: 100%|██████████| 1/1 [00:00<00:00, 95.31it/s]\n",
      "Batches: 100%|██████████| 1/1 [00:00<00:00, 89.44it/s]\n",
      "Batches: 100%|██████████| 1/1 [00:00<00:00, 91.34it/s]\n",
      "Batches:   0%|          | 0/1 [00:00<?, ?it/s]"
     ]
    },
    {
     "name": "stdout",
     "output_type": "stream",
     "text": [
      "i :  389\n",
      "i :  390\n"
     ]
    },
    {
     "name": "stderr",
     "output_type": "stream",
     "text": [
      "Batches: 100%|██████████| 1/1 [00:00<00:00, 93.45it/s]\n",
      "Batches: 100%|██████████| 1/1 [00:00<00:00, 96.08it/s]\n",
      "Batches: 100%|██████████| 1/1 [00:00<00:00, 92.68it/s]\n",
      "Batches: 100%|██████████| 1/1 [00:00<00:00, 93.07it/s]\n",
      "Batches: 100%|██████████| 1/1 [00:00<00:00, 91.52it/s]\n",
      "Batches: 100%|██████████| 1/1 [00:00<00:00, 92.04it/s]\n",
      "Batches: 100%|██████████| 1/1 [00:00<00:00, 92.55it/s]\n",
      "Batches: 100%|██████████| 1/1 [00:00<00:00, 95.72it/s]\n",
      "Batches:   0%|          | 0/1 [00:00<?, ?it/s]"
     ]
    },
    {
     "name": "stdout",
     "output_type": "stream",
     "text": [
      "i :  391\n",
      "i :  392\n",
      "i :  393\n",
      "i :  394\n"
     ]
    },
    {
     "name": "stderr",
     "output_type": "stream",
     "text": [
      "Batches: 100%|██████████| 1/1 [00:00<00:00, 91.40it/s]\n",
      "Batches: 100%|██████████| 1/1 [00:00<00:00, 96.85it/s]\n",
      "Batches: 100%|██████████| 1/1 [00:00<00:00, 89.11it/s]\n",
      "Batches: 100%|██████████| 1/1 [00:00<00:00, 91.19it/s]\n",
      "Batches: 100%|██████████| 1/1 [00:00<00:00, 59.56it/s]\n",
      "Batches:   0%|          | 0/1 [00:00<?, ?it/s]"
     ]
    },
    {
     "name": "stdout",
     "output_type": "stream",
     "text": [
      "i :  395\n",
      "i :  396\n"
     ]
    },
    {
     "name": "stderr",
     "output_type": "stream",
     "text": [
      "Batches: 100%|██████████| 1/1 [00:00<00:00, 90.30it/s]\n",
      "Batches: 100%|██████████| 1/1 [00:00<00:00, 91.16it/s]\n",
      "Batches: 100%|██████████| 1/1 [00:00<00:00, 91.03it/s]\n",
      "Batches: 100%|██████████| 1/1 [00:00<00:00, 91.50it/s]\n",
      "Batches:   0%|          | 0/1 [00:00<?, ?it/s]"
     ]
    },
    {
     "name": "stdout",
     "output_type": "stream",
     "text": [
      "i :  397\n",
      "i :  398\n"
     ]
    },
    {
     "name": "stderr",
     "output_type": "stream",
     "text": [
      "Batches: 100%|██████████| 1/1 [00:00<00:00, 88.89it/s]\n",
      "Batches: 100%|██████████| 1/1 [00:00<00:00, 95.06it/s]\n",
      "Batches: 100%|██████████| 1/1 [00:00<00:00, 95.27it/s]\n",
      "Batches: 100%|██████████| 1/1 [00:00<00:00, 90.64it/s]\n",
      "Batches: 100%|██████████| 1/1 [00:00<00:00, 93.57it/s]\n",
      "Batches: 100%|██████████| 1/1 [00:00<00:00, 91.81it/s]\n",
      "Batches: 100%|██████████| 1/1 [00:00<00:00, 91.83it/s]\n",
      "Batches: 100%|██████████| 1/1 [00:00<00:00, 91.89it/s]\n",
      "Batches:   0%|          | 0/1 [00:00<?, ?it/s]"
     ]
    },
    {
     "name": "stdout",
     "output_type": "stream",
     "text": [
      "i :  399\n",
      "i :  400\n",
      "i :  401\n",
      "i :  402\n"
     ]
    },
    {
     "name": "stderr",
     "output_type": "stream",
     "text": [
      "Batches: 100%|██████████| 1/1 [00:00<00:00, 88.85it/s]\n",
      "Batches: 100%|██████████| 1/1 [00:00<00:00, 88.45it/s]\n",
      "Batches: 100%|██████████| 1/1 [00:00<00:00, 90.15it/s]\n",
      "Batches: 100%|██████████| 1/1 [00:00<00:00, 93.58it/s]\n",
      "Batches: 100%|██████████| 1/1 [00:00<00:00, 90.59it/s]\n",
      "Batches:   0%|          | 0/1 [00:00<?, ?it/s]"
     ]
    },
    {
     "name": "stdout",
     "output_type": "stream",
     "text": [
      "i :  403\n",
      "i :  404\n",
      "i :  405\n"
     ]
    },
    {
     "name": "stderr",
     "output_type": "stream",
     "text": [
      "Batches: 100%|██████████| 1/1 [00:00<00:00, 89.29it/s]\n",
      "Batches: 100%|██████████| 1/1 [00:00<00:00, 92.24it/s]\n",
      "Batches: 100%|██████████| 1/1 [00:00<00:00, 91.69it/s]\n",
      "Batches: 100%|██████████| 1/1 [00:00<00:00, 91.23it/s]\n",
      "Batches:   0%|          | 0/1 [00:00<?, ?it/s]"
     ]
    },
    {
     "name": "stdout",
     "output_type": "stream",
     "text": [
      "i :  406\n",
      "i :  407\n"
     ]
    },
    {
     "name": "stderr",
     "output_type": "stream",
     "text": [
      "Batches: 100%|██████████| 1/1 [00:00<00:00, 88.98it/s]\n",
      "Batches: 100%|██████████| 1/1 [00:00<00:00, 92.72it/s]\n",
      "Batches: 100%|██████████| 1/1 [00:00<00:00, 92.97it/s]\n",
      "Batches: 100%|██████████| 1/1 [00:00<00:00, 89.77it/s]\n",
      "Batches: 100%|██████████| 1/1 [00:00<00:00, 88.64it/s]\n",
      "Batches: 100%|██████████| 1/1 [00:00<00:00, 93.26it/s]\n",
      "Batches: 100%|██████████| 1/1 [00:00<00:00, 91.13it/s]\n",
      "Batches: 100%|██████████| 1/1 [00:00<00:00, 89.60it/s]\n",
      "Batches:   0%|          | 0/1 [00:00<?, ?it/s]"
     ]
    },
    {
     "name": "stdout",
     "output_type": "stream",
     "text": [
      "i :  408\n",
      "i :  409\n",
      "i :  410\n",
      "i :  411\n"
     ]
    },
    {
     "name": "stderr",
     "output_type": "stream",
     "text": [
      "Batches: 100%|██████████| 1/1 [00:00<00:00, 89.64it/s]\n",
      "Batches: 100%|██████████| 1/1 [00:00<00:00, 90.25it/s]\n",
      "Batches: 100%|██████████| 1/1 [00:00<00:00, 88.41it/s]\n",
      "Batches: 100%|██████████| 1/1 [00:00<00:00, 92.08it/s]\n",
      "Batches: 100%|██████████| 1/1 [00:00<00:00, 90.27it/s]\n",
      "Batches: 100%|██████████| 1/1 [00:00<00:00, 88.27it/s]\n",
      "Batches:   0%|          | 0/1 [00:00<?, ?it/s]"
     ]
    },
    {
     "name": "stdout",
     "output_type": "stream",
     "text": [
      "i :  412\n",
      "i :  413\n",
      "i :  414\n"
     ]
    },
    {
     "name": "stderr",
     "output_type": "stream",
     "text": [
      "Batches: 100%|██████████| 1/1 [00:00<00:00, 71.31it/s]\n",
      "Batches: 100%|██████████| 1/1 [00:00<00:00, 90.91it/s]\n",
      "Batches: 100%|██████████| 1/1 [00:00<00:00, 95.10it/s]\n",
      "Batches:   0%|          | 0/1 [00:00<?, ?it/s]"
     ]
    },
    {
     "name": "stdout",
     "output_type": "stream",
     "text": [
      "i :  415\n"
     ]
    },
    {
     "name": "stderr",
     "output_type": "stream",
     "text": [
      "Batches: 100%|██████████| 1/1 [00:00<00:00, 88.59it/s]\n",
      "Batches: 100%|██████████| 1/1 [00:00<00:00, 91.74it/s]\n",
      "Batches: 100%|██████████| 1/1 [00:00<00:00, 91.42it/s]\n",
      "Batches: 100%|██████████| 1/1 [00:00<00:00, 87.94it/s]\n",
      "Batches: 100%|██████████| 1/1 [00:00<00:00, 93.48it/s]\n",
      "Batches: 100%|██████████| 1/1 [00:00<00:00, 93.61it/s]\n",
      "Batches: 100%|██████████| 1/1 [00:00<00:00, 95.12it/s]\n",
      "Batches: 100%|██████████| 1/1 [00:00<00:00, 95.89it/s]\n",
      "Batches: 100%|██████████| 1/1 [00:00<00:00, 90.54it/s]\n",
      "Batches:   0%|          | 0/1 [00:00<?, ?it/s]"
     ]
    },
    {
     "name": "stdout",
     "output_type": "stream",
     "text": [
      "i :  416\n",
      "i :  417\n",
      "i :  418\n",
      "i :  419\n",
      "i :  420\n"
     ]
    },
    {
     "name": "stderr",
     "output_type": "stream",
     "text": [
      "Batches: 100%|██████████| 1/1 [00:00<00:00, 76.08it/s]\n",
      "Batches: 100%|██████████| 1/1 [00:00<00:00, 91.79it/s]\n",
      "Batches: 100%|██████████| 1/1 [00:00<00:00, 91.67it/s]\n",
      "Batches: 100%|██████████| 1/1 [00:00<00:00, 90.97it/s]\n",
      "Batches: 100%|██████████| 1/1 [00:00<00:00, 94.41it/s]\n",
      "Batches: 100%|██████████| 1/1 [00:00<00:00, 93.10it/s]\n",
      "Batches:   0%|          | 0/1 [00:00<?, ?it/s]"
     ]
    },
    {
     "name": "stdout",
     "output_type": "stream",
     "text": [
      "i :  421\n",
      "i :  422\n",
      "i :  423\n"
     ]
    },
    {
     "name": "stderr",
     "output_type": "stream",
     "text": [
      "Batches: 100%|██████████| 1/1 [00:00<00:00, 90.63it/s]\n",
      "Batches: 100%|██████████| 1/1 [00:00<00:00, 90.60it/s]\n",
      "Batches:   0%|          | 0/1 [00:00<?, ?it/s]"
     ]
    },
    {
     "name": "stdout",
     "output_type": "stream",
     "text": [
      "i :  424\n"
     ]
    },
    {
     "name": "stderr",
     "output_type": "stream",
     "text": [
      "Batches: 100%|██████████| 1/1 [00:00<00:00, 84.35it/s]\n",
      "Batches: 100%|██████████| 1/1 [00:00<00:00, 88.15it/s]\n",
      "Batches: 100%|██████████| 1/1 [00:00<00:00, 90.75it/s]\n",
      "Batches: 100%|██████████| 1/1 [00:00<00:00, 76.70it/s]\n",
      "Batches: 100%|██████████| 1/1 [00:00<00:00, 60.15it/s]\n",
      "Batches: 100%|██████████| 1/1 [00:00<00:00, 90.40it/s]\n",
      "Batches: 100%|██████████| 1/1 [00:00<00:00, 91.69it/s]\n",
      "Batches: 100%|██████████| 1/1 [00:00<00:00, 91.42it/s]\n",
      "Batches: 100%|██████████| 1/1 [00:00<00:00, 91.69it/s]\n",
      "Batches:   0%|          | 0/1 [00:00<?, ?it/s]"
     ]
    },
    {
     "name": "stdout",
     "output_type": "stream",
     "text": [
      "i :  425\n",
      "i :  426\n",
      "i :  427\n",
      "i :  428\n"
     ]
    },
    {
     "name": "stderr",
     "output_type": "stream",
     "text": [
      "Batches: 100%|██████████| 1/1 [00:00<00:00, 88.35it/s]\n",
      "Batches: 100%|██████████| 1/1 [00:00<00:00, 95.31it/s]\n",
      "Batches: 100%|██████████| 1/1 [00:00<00:00, 95.13it/s]\n",
      "Batches: 100%|██████████| 1/1 [00:00<00:00, 95.03it/s]\n",
      "Batches: 100%|██████████| 1/1 [00:00<00:00, 93.24it/s]\n",
      "Batches: 100%|██████████| 1/1 [00:00<00:00, 92.53it/s]\n",
      "Batches:   0%|          | 0/1 [00:00<?, ?it/s]"
     ]
    },
    {
     "name": "stdout",
     "output_type": "stream",
     "text": [
      "i :  429\n",
      "i :  430\n",
      "i :  431\n"
     ]
    },
    {
     "name": "stderr",
     "output_type": "stream",
     "text": [
      "Batches: 100%|██████████| 1/1 [00:00<00:00, 89.26it/s]\n",
      "Batches: 100%|██████████| 1/1 [00:00<00:00, 91.57it/s]\n",
      "Batches:   0%|          | 0/1 [00:00<?, ?it/s]"
     ]
    },
    {
     "name": "stdout",
     "output_type": "stream",
     "text": [
      "i :  432\n"
     ]
    },
    {
     "name": "stderr",
     "output_type": "stream",
     "text": [
      "Batches: 100%|██████████| 1/1 [00:00<00:00, 87.93it/s]\n",
      "Batches: 100%|██████████| 1/1 [00:00<00:00, 94.49it/s]\n",
      "Batches: 100%|██████████| 1/1 [00:00<00:00, 92.29it/s]\n",
      "Batches: 100%|██████████| 1/1 [00:00<00:00, 91.85it/s]\n",
      "Batches: 100%|██████████| 1/1 [00:00<00:00, 89.40it/s]\n",
      "Batches: 100%|██████████| 1/1 [00:00<00:00, 88.47it/s]\n",
      "Batches: 100%|██████████| 1/1 [00:00<00:00, 92.68it/s]\n",
      "Batches: 100%|██████████| 1/1 [00:00<00:00, 90.45it/s]\n",
      "Batches: 100%|██████████| 1/1 [00:00<00:00, 88.38it/s]\n",
      "Batches:   0%|          | 0/1 [00:00<?, ?it/s]"
     ]
    },
    {
     "name": "stdout",
     "output_type": "stream",
     "text": [
      "i :  433\n",
      "i :  434\n",
      "i :  435\n",
      "i :  436\n",
      "i :  437\n"
     ]
    },
    {
     "name": "stderr",
     "output_type": "stream",
     "text": [
      "Batches: 100%|██████████| 1/1 [00:00<00:00, 80.11it/s]\n",
      "Batches: 100%|██████████| 1/1 [00:00<00:00, 83.92it/s]\n",
      "Batches: 100%|██████████| 1/1 [00:00<00:00, 88.43it/s]\n",
      "Batches: 100%|██████████| 1/1 [00:00<00:00, 91.63it/s]\n",
      "Batches: 100%|██████████| 1/1 [00:00<00:00, 91.19it/s]\n",
      "Batches:   0%|          | 0/1 [00:00<?, ?it/s]"
     ]
    },
    {
     "name": "stdout",
     "output_type": "stream",
     "text": [
      "i :  438\n",
      "i :  439\n"
     ]
    },
    {
     "name": "stderr",
     "output_type": "stream",
     "text": [
      "Batches: 100%|██████████| 1/1 [00:00<00:00, 90.86it/s]\n",
      "Batches: 100%|██████████| 1/1 [00:00<00:00, 73.74it/s]\n",
      "Batches:   0%|          | 0/1 [00:00<?, ?it/s]"
     ]
    },
    {
     "name": "stdout",
     "output_type": "stream",
     "text": [
      "i :  440\n"
     ]
    },
    {
     "name": "stderr",
     "output_type": "stream",
     "text": [
      "Batches: 100%|██████████| 1/1 [00:00<00:00, 89.31it/s]\n",
      "Batches: 100%|██████████| 1/1 [00:00<00:00, 91.38it/s]\n",
      "Batches: 100%|██████████| 1/1 [00:00<00:00, 90.83it/s]\n",
      "Batches: 100%|██████████| 1/1 [00:00<00:00, 85.30it/s]\n",
      "Batches: 100%|██████████| 1/1 [00:00<00:00, 94.15it/s]\n",
      "Batches: 100%|██████████| 1/1 [00:00<00:00, 91.81it/s]\n",
      "Batches: 100%|██████████| 1/1 [00:00<00:00, 88.89it/s]\n",
      "Batches: 100%|██████████| 1/1 [00:00<00:00, 90.50it/s]\n",
      "Batches: 100%|██████████| 1/1 [00:00<00:00, 92.35it/s]\n",
      "Batches: 100%|██████████| 1/1 [00:00<00:00, 87.41it/s]\n",
      "Batches:   0%|          | 0/1 [00:00<?, ?it/s]"
     ]
    },
    {
     "name": "stdout",
     "output_type": "stream",
     "text": [
      "i :  441\n",
      "i :  442\n",
      "i :  443\n",
      "i :  444\n",
      "i :  445\n"
     ]
    },
    {
     "name": "stderr",
     "output_type": "stream",
     "text": [
      "Batches: 100%|██████████| 1/1 [00:00<00:00, 87.47it/s]\n",
      "Batches: 100%|██████████| 1/1 [00:00<00:00, 78.36it/s]\n",
      "Batches: 100%|██████████| 1/1 [00:00<00:00, 79.86it/s]\n",
      "Batches: 100%|██████████| 1/1 [00:00<00:00, 90.45it/s]\n",
      "Batches:   0%|          | 0/1 [00:00<?, ?it/s]"
     ]
    },
    {
     "name": "stdout",
     "output_type": "stream",
     "text": [
      "i :  446\n",
      "i :  447\n"
     ]
    },
    {
     "name": "stderr",
     "output_type": "stream",
     "text": [
      "Batches: 100%|██████████| 1/1 [00:00<00:00, 88.09it/s]\n",
      "Batches: 100%|██████████| 1/1 [00:00<00:00, 57.59it/s]\n",
      "Batches:   0%|          | 0/1 [00:00<?, ?it/s]"
     ]
    },
    {
     "name": "stdout",
     "output_type": "stream",
     "text": [
      "i :  448\n"
     ]
    },
    {
     "name": "stderr",
     "output_type": "stream",
     "text": [
      "Batches: 100%|██████████| 1/1 [00:00<00:00, 90.97it/s]\n",
      "Batches: 100%|██████████| 1/1 [00:00<00:00, 90.85it/s]\n",
      "Batches: 100%|██████████| 1/1 [00:00<00:00, 91.90it/s]\n",
      "Batches: 100%|██████████| 1/1 [00:00<00:00, 88.98it/s]\n",
      "Batches: 100%|██████████| 1/1 [00:00<00:00, 89.08it/s]\n",
      "Batches: 100%|██████████| 1/1 [00:00<00:00, 90.41it/s]\n",
      "Batches: 100%|██████████| 1/1 [00:00<00:00, 91.33it/s]\n",
      "Batches: 100%|██████████| 1/1 [00:00<00:00, 88.51it/s]\n",
      "Batches: 100%|██████████| 1/1 [00:00<00:00, 90.15it/s]\n",
      "Batches: 100%|██████████| 1/1 [00:00<00:00, 86.74it/s]\n",
      "Batches:   0%|          | 0/1 [00:00<?, ?it/s]"
     ]
    },
    {
     "name": "stdout",
     "output_type": "stream",
     "text": [
      "i :  449\n",
      "i :  450\n",
      "i :  451\n",
      "i :  452\n",
      "i :  453\n"
     ]
    },
    {
     "name": "stderr",
     "output_type": "stream",
     "text": [
      "Batches: 100%|██████████| 1/1 [00:00<00:00, 86.50it/s]\n",
      "Batches: 100%|██████████| 1/1 [00:00<00:00, 90.03it/s]\n",
      "Batches: 100%|██████████| 1/1 [00:00<00:00, 90.52it/s]\n",
      "Batches: 100%|██████████| 1/1 [00:00<00:00, 88.89it/s]\n",
      "Batches:   0%|          | 0/1 [00:00<?, ?it/s]"
     ]
    },
    {
     "name": "stdout",
     "output_type": "stream",
     "text": [
      "i :  454\n",
      "i :  455\n"
     ]
    },
    {
     "name": "stderr",
     "output_type": "stream",
     "text": [
      "Batches: 100%|██████████| 1/1 [00:00<00:00, 87.38it/s]\n",
      "Batches: 100%|██████████| 1/1 [00:00<00:00, 87.94it/s]\n",
      "Batches: 100%|██████████| 1/1 [00:00<00:00, 90.44it/s]\n",
      "Batches:   0%|          | 0/1 [00:00<?, ?it/s]"
     ]
    },
    {
     "name": "stdout",
     "output_type": "stream",
     "text": [
      "i :  456\n",
      "i :  457\n"
     ]
    },
    {
     "name": "stderr",
     "output_type": "stream",
     "text": [
      "Batches: 100%|██████████| 1/1 [00:00<00:00, 87.27it/s]\n",
      "Batches: 100%|██████████| 1/1 [00:00<00:00, 90.43it/s]\n",
      "Batches: 100%|██████████| 1/1 [00:00<00:00, 91.14it/s]\n",
      "Batches: 100%|██████████| 1/1 [00:00<00:00, 90.03it/s]\n",
      "Batches: 100%|██████████| 1/1 [00:00<00:00, 88.48it/s]\n",
      "Batches: 100%|██████████| 1/1 [00:00<00:00, 89.17it/s]\n",
      "Batches: 100%|██████████| 1/1 [00:00<00:00, 90.83it/s]\n",
      "Batches: 100%|██████████| 1/1 [00:00<00:00, 87.85it/s]\n",
      "Batches: 100%|██████████| 1/1 [00:00<00:00, 88.26it/s]\n",
      "Batches: 100%|██████████| 1/1 [00:00<00:00, 89.45it/s]\n",
      "Batches:   0%|          | 0/1 [00:00<?, ?it/s]"
     ]
    },
    {
     "name": "stdout",
     "output_type": "stream",
     "text": [
      "i :  458\n",
      "i :  459\n",
      "i :  460\n",
      "i :  461\n",
      "i :  462\n"
     ]
    },
    {
     "name": "stderr",
     "output_type": "stream",
     "text": [
      "Batches: 100%|██████████| 1/1 [00:00<00:00, 85.12it/s]\n",
      "Batches: 100%|██████████| 1/1 [00:00<00:00, 88.13it/s]\n",
      "Batches: 100%|██████████| 1/1 [00:00<00:00, 88.29it/s]\n",
      "Batches: 100%|██████████| 1/1 [00:00<00:00, 90.58it/s]\n",
      "Batches:   0%|          | 0/1 [00:00<?, ?it/s]"
     ]
    },
    {
     "name": "stdout",
     "output_type": "stream",
     "text": [
      "i :  463\n",
      "i :  464\n"
     ]
    },
    {
     "name": "stderr",
     "output_type": "stream",
     "text": [
      "Batches: 100%|██████████| 1/1 [00:00<00:00, 85.62it/s]\n",
      "Batches: 100%|██████████| 1/1 [00:00<00:00, 89.79it/s]\n",
      "Batches: 100%|██████████| 1/1 [00:00<00:00, 90.51it/s]\n",
      "Batches: 100%|██████████| 1/1 [00:00<00:00, 89.74it/s]\n",
      "Batches:   0%|          | 0/1 [00:00<?, ?it/s]"
     ]
    },
    {
     "name": "stdout",
     "output_type": "stream",
     "text": [
      "i :  465\n",
      "i :  466\n"
     ]
    },
    {
     "name": "stderr",
     "output_type": "stream",
     "text": [
      "Batches: 100%|██████████| 1/1 [00:00<00:00, 86.16it/s]\n",
      "Batches: 100%|██████████| 1/1 [00:00<00:00, 89.31it/s]\n",
      "Batches: 100%|██████████| 1/1 [00:00<00:00, 87.70it/s]\n",
      "Batches: 100%|██████████| 1/1 [00:00<00:00, 89.44it/s]\n",
      "Batches: 100%|██████████| 1/1 [00:00<00:00, 88.85it/s]\n",
      "Batches: 100%|██████████| 1/1 [00:00<00:00, 89.46it/s]\n",
      "Batches: 100%|██████████| 1/1 [00:00<00:00, 90.43it/s]\n",
      "Batches: 100%|██████████| 1/1 [00:00<00:00, 89.40it/s]\n",
      "Batches: 100%|██████████| 1/1 [00:00<00:00, 90.80it/s]\n",
      "Batches: 100%|██████████| 1/1 [00:00<00:00, 89.64it/s]\n",
      "Batches:   0%|          | 0/1 [00:00<?, ?it/s]"
     ]
    },
    {
     "name": "stdout",
     "output_type": "stream",
     "text": [
      "i :  467\n",
      "i :  468\n",
      "i :  469\n",
      "i :  470\n",
      "i :  471\n"
     ]
    },
    {
     "name": "stderr",
     "output_type": "stream",
     "text": [
      "Batches: 100%|██████████| 1/1 [00:00<00:00, 76.13it/s]\n",
      "Batches: 100%|██████████| 1/1 [00:00<00:00, 90.37it/s]\n",
      "Batches: 100%|██████████| 1/1 [00:00<00:00, 80.86it/s]\n",
      "Batches:   0%|          | 0/1 [00:00<?, ?it/s]"
     ]
    },
    {
     "name": "stdout",
     "output_type": "stream",
     "text": [
      "i :  472\n"
     ]
    },
    {
     "name": "stderr",
     "output_type": "stream",
     "text": [
      "Batches: 100%|██████████| 1/1 [00:00<00:00, 63.78it/s]\n",
      "Batches: 100%|██████████| 1/1 [00:00<00:00, 89.74it/s]\n",
      "Batches: 100%|██████████| 1/1 [00:00<00:00, 92.79it/s]\n",
      "Batches: 100%|██████████| 1/1 [00:00<00:00, 89.69it/s]\n",
      "Batches:   0%|          | 0/1 [00:00<?, ?it/s]"
     ]
    },
    {
     "name": "stdout",
     "output_type": "stream",
     "text": [
      "i :  473\n",
      "i :  474\n"
     ]
    },
    {
     "name": "stderr",
     "output_type": "stream",
     "text": [
      "Batches: 100%|██████████| 1/1 [00:00<00:00, 89.46it/s]\n",
      "Batches: 100%|██████████| 1/1 [00:00<00:00, 88.39it/s]\n",
      "Batches: 100%|██████████| 1/1 [00:00<00:00, 88.88it/s]\n",
      "Batches: 100%|██████████| 1/1 [00:00<00:00, 89.37it/s]\n",
      "Batches: 100%|██████████| 1/1 [00:00<00:00, 89.73it/s]\n",
      "Batches: 100%|██████████| 1/1 [00:00<00:00, 87.40it/s]\n",
      "Batches: 100%|██████████| 1/1 [00:00<00:00, 88.82it/s]\n",
      "Batches: 100%|██████████| 1/1 [00:00<00:00, 87.63it/s]\n",
      "Batches: 100%|██████████| 1/1 [00:00<00:00, 91.64it/s]\n",
      "Batches: 100%|██████████| 1/1 [00:00<00:00, 90.73it/s]\n",
      "Batches:   0%|          | 0/1 [00:00<?, ?it/s]"
     ]
    },
    {
     "name": "stdout",
     "output_type": "stream",
     "text": [
      "i :  475\n",
      "i :  476\n",
      "i :  477\n",
      "i :  478\n",
      "i :  479\n"
     ]
    },
    {
     "name": "stderr",
     "output_type": "stream",
     "text": [
      "Batches: 100%|██████████| 1/1 [00:00<00:00, 87.23it/s]\n",
      "Batches: 100%|██████████| 1/1 [00:00<00:00, 91.17it/s]\n",
      "Batches: 100%|██████████| 1/1 [00:00<00:00, 88.98it/s]\n",
      "Batches:   0%|          | 0/1 [00:00<?, ?it/s]"
     ]
    },
    {
     "name": "stdout",
     "output_type": "stream",
     "text": [
      "i :  480\n",
      "i :  481\n"
     ]
    },
    {
     "name": "stderr",
     "output_type": "stream",
     "text": [
      "Batches: 100%|██████████| 1/1 [00:00<00:00, 79.37it/s]\n",
      "Batches: 100%|██████████| 1/1 [00:00<00:00, 86.51it/s]\n",
      "Batches: 100%|██████████| 1/1 [00:00<00:00, 86.80it/s]\n",
      "Batches: 100%|██████████| 1/1 [00:00<00:00, 89.59it/s]\n",
      "Batches:   0%|          | 0/1 [00:00<?, ?it/s]"
     ]
    },
    {
     "name": "stdout",
     "output_type": "stream",
     "text": [
      "i :  482\n",
      "i :  483\n"
     ]
    },
    {
     "name": "stderr",
     "output_type": "stream",
     "text": [
      "Batches: 100%|██████████| 1/1 [00:00<00:00, 59.78it/s]\n",
      "Batches: 100%|██████████| 1/1 [00:00<00:00, 65.00it/s]\n",
      "Batches: 100%|██████████| 1/1 [00:00<00:00, 91.05it/s]\n",
      "Batches: 100%|██████████| 1/1 [00:00<00:00, 89.82it/s]\n",
      "Batches: 100%|██████████| 1/1 [00:00<00:00, 90.67it/s]\n",
      "Batches: 100%|██████████| 1/1 [00:00<00:00, 89.19it/s]\n",
      "Batches: 100%|██████████| 1/1 [00:00<00:00, 61.16it/s]\n",
      "Batches: 100%|██████████| 1/1 [00:00<00:00, 89.45it/s]\n",
      "Batches:   0%|          | 0/1 [00:00<?, ?it/s]"
     ]
    },
    {
     "name": "stdout",
     "output_type": "stream",
     "text": [
      "i :  484\n",
      "i :  485\n",
      "i :  486\n",
      "i :  487\n"
     ]
    },
    {
     "name": "stderr",
     "output_type": "stream",
     "text": [
      "Batches: 100%|██████████| 1/1 [00:00<00:00, 86.28it/s]\n",
      "Batches: 100%|██████████| 1/1 [00:00<00:00, 92.34it/s]\n",
      "Batches: 100%|██████████| 1/1 [00:00<00:00, 87.89it/s]\n",
      "Batches: 100%|██████████| 1/1 [00:00<00:00, 88.33it/s]\n",
      "Batches:   0%|          | 0/1 [00:00<?, ?it/s]"
     ]
    },
    {
     "name": "stdout",
     "output_type": "stream",
     "text": [
      "i :  488\n",
      "i :  489\n"
     ]
    },
    {
     "name": "stderr",
     "output_type": "stream",
     "text": [
      "Batches: 100%|██████████| 1/1 [00:00<00:00, 88.88it/s]\n",
      "Batches: 100%|██████████| 1/1 [00:00<00:00, 89.04it/s]\n",
      "Batches: 100%|██████████| 1/1 [00:00<00:00, 87.81it/s]\n",
      "Batches: 100%|██████████| 1/1 [00:00<00:00, 89.49it/s]\n",
      "Batches: 100%|██████████| 1/1 [00:00<00:00, 88.01it/s]\n",
      "Batches:   0%|          | 0/1 [00:00<?, ?it/s]"
     ]
    },
    {
     "name": "stdout",
     "output_type": "stream",
     "text": [
      "i :  490\n",
      "i :  491\n"
     ]
    },
    {
     "name": "stderr",
     "output_type": "stream",
     "text": [
      "Batches: 100%|██████████| 1/1 [00:00<00:00, 89.22it/s]\n",
      "Batches: 100%|██████████| 1/1 [00:00<00:00, 87.81it/s]\n",
      "Batches: 100%|██████████| 1/1 [00:00<00:00, 88.93it/s]\n",
      "Batches: 100%|██████████| 1/1 [00:00<00:00, 89.74it/s]\n",
      "Batches: 100%|██████████| 1/1 [00:00<00:00, 89.21it/s]\n",
      "Batches: 100%|██████████| 1/1 [00:00<00:00, 91.62it/s]\n",
      "Batches: 100%|██████████| 1/1 [00:00<00:00, 92.60it/s]\n",
      "Batches: 100%|██████████| 1/1 [00:00<00:00, 86.40it/s]\n",
      "Batches: 100%|██████████| 1/1 [00:00<00:00, 88.92it/s]\n",
      "Batches:   0%|          | 0/1 [00:00<?, ?it/s]"
     ]
    },
    {
     "name": "stdout",
     "output_type": "stream",
     "text": [
      "i :  492\n",
      "i :  493\n",
      "i :  494\n",
      "i :  495\n",
      "i :  496\n"
     ]
    },
    {
     "name": "stderr",
     "output_type": "stream",
     "text": [
      "Batches: 100%|██████████| 1/1 [00:00<00:00, 77.06it/s]\n",
      "Batches: 100%|██████████| 1/1 [00:00<00:00, 86.23it/s]\n",
      "Batches: 100%|██████████| 1/1 [00:00<00:00, 75.03it/s]\n",
      "Batches:   0%|          | 0/1 [00:00<?, ?it/s]"
     ]
    },
    {
     "name": "stdout",
     "output_type": "stream",
     "text": [
      "i :  497\n"
     ]
    },
    {
     "name": "stderr",
     "output_type": "stream",
     "text": [
      "Batches: 100%|██████████| 1/1 [00:00<00:00, 78.44it/s]\n",
      "Batches: 100%|██████████| 1/1 [00:00<00:00, 78.03it/s]\n",
      "Batches: 100%|██████████| 1/1 [00:00<00:00, 56.24it/s]\n",
      "Batches: 100%|██████████| 1/1 [00:00<00:00, 81.10it/s]"
     ]
    },
    {
     "name": "stdout",
     "output_type": "stream",
     "text": [
      "i :  498\n",
      "i :  499\n"
     ]
    },
    {
     "name": "stderr",
     "output_type": "stream",
     "text": [
      "\n",
      "Batches: 100%|██████████| 1/1 [00:00<00:00, 84.47it/s]\n",
      "Batches: 100%|██████████| 1/1 [00:00<00:00, 83.52it/s]\n",
      "Batches: 100%|██████████| 1/1 [00:00<00:00, 83.62it/s]\n",
      "Batches: 100%|██████████| 1/1 [00:00<00:00, 83.42it/s]\n",
      "Batches: 100%|██████████| 1/1 [00:00<00:00, 83.09it/s]\n",
      "Batches: 100%|██████████| 1/1 [00:00<00:00, 83.20it/s]\n",
      "Batches: 100%|██████████| 1/1 [00:00<00:00, 82.94it/s]\n",
      "Batches: 100%|██████████| 1/1 [00:00<00:00, 85.62it/s]\n",
      "Batches: 100%|██████████| 1/1 [00:00<00:00, 83.44it/s]\n",
      "Batches:   0%|          | 0/1 [00:00<?, ?it/s]"
     ]
    },
    {
     "name": "stdout",
     "output_type": "stream",
     "text": [
      "i :  500\n",
      "i :  501\n",
      "i :  502\n",
      "i :  503\n",
      "i :  504\n"
     ]
    },
    {
     "name": "stderr",
     "output_type": "stream",
     "text": [
      "Batches: 100%|██████████| 1/1 [00:00<00:00, 83.36it/s]\n",
      "Batches: 100%|██████████| 1/1 [00:00<00:00, 67.22it/s]\n",
      "Batches:   0%|          | 0/1 [00:00<?, ?it/s]"
     ]
    },
    {
     "name": "stdout",
     "output_type": "stream",
     "text": [
      "i :  505\n"
     ]
    },
    {
     "name": "stderr",
     "output_type": "stream",
     "text": [
      "Batches: 100%|██████████| 1/1 [00:00<00:00, 76.00it/s]\n",
      "Batches: 100%|██████████| 1/1 [00:00<00:00, 90.47it/s]\n",
      "Batches: 100%|██████████| 1/1 [00:00<00:00, 90.75it/s]\n",
      "Batches: 100%|██████████| 1/1 [00:00<00:00, 88.51it/s]\n",
      "Batches: 100%|██████████| 1/1 [00:00<00:00, 88.88it/s]\n",
      "Batches:   0%|          | 0/1 [00:00<?, ?it/s]"
     ]
    },
    {
     "name": "stdout",
     "output_type": "stream",
     "text": [
      "i :  506\n",
      "i :  507\n"
     ]
    },
    {
     "name": "stderr",
     "output_type": "stream",
     "text": [
      "Batches: 100%|██████████| 1/1 [00:00<00:00, 88.33it/s]\n",
      "Batches: 100%|██████████| 1/1 [00:00<00:00, 58.52it/s]\n",
      "Batches: 100%|██████████| 1/1 [00:00<00:00, 88.32it/s]\n",
      "Batches: 100%|██████████| 1/1 [00:00<00:00, 50.87it/s]\n",
      "Batches: 100%|██████████| 1/1 [00:00<00:00, 88.80it/s]\n",
      "Batches: 100%|██████████| 1/1 [00:00<00:00, 85.67it/s]\n",
      "Batches: 100%|██████████| 1/1 [00:00<00:00, 85.90it/s]\n",
      "Batches: 100%|██████████| 1/1 [00:00<00:00, 85.48it/s]\n",
      "Batches: 100%|██████████| 1/1 [00:00<00:00, 84.57it/s]\n",
      "Batches:   0%|          | 0/1 [00:00<?, ?it/s]"
     ]
    },
    {
     "name": "stdout",
     "output_type": "stream",
     "text": [
      "i :  508\n",
      "i :  509\n",
      "i :  510\n",
      "i :  511\n",
      "i :  512\n"
     ]
    },
    {
     "name": "stderr",
     "output_type": "stream",
     "text": [
      "Batches: 100%|██████████| 1/1 [00:00<00:00, 84.55it/s]\n",
      "Batches: 100%|██████████| 1/1 [00:00<00:00, 86.38it/s]\n",
      "Batches:   0%|          | 0/1 [00:00<?, ?it/s]"
     ]
    },
    {
     "name": "stdout",
     "output_type": "stream",
     "text": [
      "i :  513\n"
     ]
    },
    {
     "name": "stderr",
     "output_type": "stream",
     "text": [
      "Batches: 100%|██████████| 1/1 [00:00<00:00, 80.47it/s]\n",
      "Batches: 100%|██████████| 1/1 [00:00<00:00, 79.89it/s]\n",
      "Batches: 100%|██████████| 1/1 [00:00<00:00, 79.48it/s]\n",
      "Batches: 100%|██████████| 1/1 [00:00<00:00, 81.16it/s]\n",
      "Batches:   0%|          | 0/1 [00:00<?, ?it/s]"
     ]
    },
    {
     "name": "stdout",
     "output_type": "stream",
     "text": [
      "i :  514\n",
      "i :  515\n"
     ]
    },
    {
     "name": "stderr",
     "output_type": "stream",
     "text": [
      "Batches: 100%|██████████| 1/1 [00:00<00:00, 67.34it/s]\n",
      "Batches: 100%|██████████| 1/1 [00:00<00:00, 81.03it/s]\n",
      "Batches: 100%|██████████| 1/1 [00:00<00:00, 81.17it/s]\n",
      "Batches: 100%|██████████| 1/1 [00:00<00:00, 81.33it/s]\n",
      "Batches: 100%|██████████| 1/1 [00:00<00:00, 84.51it/s]\n",
      "Batches: 100%|██████████| 1/1 [00:00<00:00, 81.87it/s]\n",
      "Batches: 100%|██████████| 1/1 [00:00<00:00, 84.03it/s]\n",
      "Batches: 100%|██████████| 1/1 [00:00<00:00, 81.97it/s]\n",
      "Batches: 100%|██████████| 1/1 [00:00<00:00, 80.97it/s]\n",
      "Batches: 100%|██████████| 1/1 [00:00<00:00, 80.21it/s]\n",
      "Batches:   0%|          | 0/1 [00:00<?, ?it/s]"
     ]
    },
    {
     "name": "stdout",
     "output_type": "stream",
     "text": [
      "i :  516\n",
      "i :  517\n",
      "i :  518\n",
      "i :  519\n",
      "i :  520\n"
     ]
    },
    {
     "name": "stderr",
     "output_type": "stream",
     "text": [
      "Batches: 100%|██████████| 1/1 [00:00<00:00, 53.97it/s]\n",
      "Batches: 100%|██████████| 1/1 [00:00<00:00, 90.54it/s]\n",
      "Batches:   0%|          | 0/1 [00:00<?, ?it/s]"
     ]
    },
    {
     "name": "stdout",
     "output_type": "stream",
     "text": [
      "i :  521\n"
     ]
    },
    {
     "name": "stderr",
     "output_type": "stream",
     "text": [
      "Batches: 100%|██████████| 1/1 [00:00<00:00, 89.16it/s]\n",
      "Batches: 100%|██████████| 1/1 [00:00<00:00, 58.06it/s]\n",
      "Batches: 100%|██████████| 1/1 [00:00<00:00, 89.99it/s]\n",
      "Batches: 100%|██████████| 1/1 [00:00<00:00, 93.56it/s]\n",
      "Batches:   0%|          | 0/1 [00:00<?, ?it/s]"
     ]
    },
    {
     "name": "stdout",
     "output_type": "stream",
     "text": [
      "i :  522\n",
      "i :  523\n"
     ]
    },
    {
     "name": "stderr",
     "output_type": "stream",
     "text": [
      "Batches: 100%|██████████| 1/1 [00:00<00:00, 88.00it/s]\n",
      "Batches: 100%|██████████| 1/1 [00:00<00:00, 89.84it/s]\n",
      "Batches: 100%|██████████| 1/1 [00:00<00:00, 89.68it/s]\n",
      "Batches: 100%|██████████| 1/1 [00:00<00:00, 89.86it/s]\n",
      "Batches: 100%|██████████| 1/1 [00:00<00:00, 89.00it/s]\n",
      "Batches: 100%|██████████| 1/1 [00:00<00:00, 90.36it/s]\n",
      "Batches: 100%|██████████| 1/1 [00:00<00:00, 89.65it/s]\n",
      "Batches: 100%|██████████| 1/1 [00:00<00:00, 89.71it/s]\n",
      "Batches: 100%|██████████| 1/1 [00:00<00:00, 89.34it/s]\n",
      "Batches: 100%|██████████| 1/1 [00:00<00:00, 89.16it/s]\n",
      "Batches: 100%|██████████| 1/1 [00:00<00:00, 85.33it/s]\n",
      "Batches:   0%|          | 0/1 [00:00<?, ?it/s]"
     ]
    },
    {
     "name": "stdout",
     "output_type": "stream",
     "text": [
      "i :  524\n",
      "i :  525\n",
      "i :  526\n",
      "i :  527\n",
      "i :  528\n"
     ]
    },
    {
     "name": "stderr",
     "output_type": "stream",
     "text": [
      "Batches: 100%|██████████| 1/1 [00:00<00:00, 84.89it/s]\n",
      "Batches: 100%|██████████| 1/1 [00:00<00:00, 70.76it/s]\n",
      "Batches:   0%|          | 0/1 [00:00<?, ?it/s]"
     ]
    },
    {
     "name": "stdout",
     "output_type": "stream",
     "text": [
      "i :  529\n"
     ]
    },
    {
     "name": "stderr",
     "output_type": "stream",
     "text": [
      "Batches: 100%|██████████| 1/1 [00:00<00:00, 74.07it/s]\n",
      "Batches: 100%|██████████| 1/1 [00:00<00:00, 72.37it/s]\n",
      "Batches: 100%|██████████| 1/1 [00:00<00:00, 84.72it/s]\n",
      "Batches:   0%|          | 0/1 [00:00<?, ?it/s]"
     ]
    },
    {
     "name": "stdout",
     "output_type": "stream",
     "text": [
      "i :  530\n",
      "i :  531\n"
     ]
    },
    {
     "name": "stderr",
     "output_type": "stream",
     "text": [
      "Batches: 100%|██████████| 1/1 [00:00<00:00, 56.31it/s]\n",
      "Batches: 100%|██████████| 1/1 [00:00<00:00, 88.27it/s]\n",
      "Batches: 100%|██████████| 1/1 [00:00<00:00, 87.06it/s]\n",
      "Batches: 100%|██████████| 1/1 [00:00<00:00, 86.40it/s]\n",
      "Batches: 100%|██████████| 1/1 [00:00<00:00, 52.80it/s]\n",
      "Batches: 100%|██████████| 1/1 [00:00<00:00, 86.73it/s]\n",
      "Batches: 100%|██████████| 1/1 [00:00<00:00, 86.12it/s]\n",
      "Batches: 100%|██████████| 1/1 [00:00<00:00, 86.75it/s]\n",
      "Batches: 100%|██████████| 1/1 [00:00<00:00, 85.44it/s]\n",
      "Batches:   0%|          | 0/1 [00:00<?, ?it/s]"
     ]
    },
    {
     "name": "stdout",
     "output_type": "stream",
     "text": [
      "i :  532\n",
      "i :  533\n",
      "i :  534\n",
      "i :  535\n"
     ]
    },
    {
     "name": "stderr",
     "output_type": "stream",
     "text": [
      "Batches: 100%|██████████| 1/1 [00:00<00:00, 85.77it/s]\n",
      "Batches: 100%|██████████| 1/1 [00:00<00:00, 82.85it/s]\n",
      "Batches: 100%|██████████| 1/1 [00:00<00:00, 82.70it/s]\n",
      "Batches:   0%|          | 0/1 [00:00<?, ?it/s]"
     ]
    },
    {
     "name": "stdout",
     "output_type": "stream",
     "text": [
      "i :  536\n",
      "i :  537\n"
     ]
    },
    {
     "name": "stderr",
     "output_type": "stream",
     "text": [
      "Batches: 100%|██████████| 1/1 [00:00<00:00, 80.73it/s]\n",
      "Batches: 100%|██████████| 1/1 [00:00<00:00, 81.89it/s]\n",
      "Batches: 100%|██████████| 1/1 [00:00<00:00, 87.84it/s]\n",
      "Batches: 100%|██████████| 1/1 [00:00<00:00, 83.73it/s]\n",
      "Batches:   0%|          | 0/1 [00:00<?, ?it/s]"
     ]
    },
    {
     "name": "stdout",
     "output_type": "stream",
     "text": [
      "i :  538\n",
      "i :  539\n"
     ]
    },
    {
     "name": "stderr",
     "output_type": "stream",
     "text": [
      "Batches: 100%|██████████| 1/1 [00:00<00:00, 80.76it/s]\n",
      "Batches: 100%|██████████| 1/1 [00:00<00:00, 81.70it/s]\n",
      "Batches: 100%|██████████| 1/1 [00:00<00:00, 87.58it/s]\n",
      "Batches: 100%|██████████| 1/1 [00:00<00:00, 82.83it/s]\n",
      "Batches: 100%|██████████| 1/1 [00:00<00:00, 82.64it/s]\n",
      "Batches: 100%|██████████| 1/1 [00:00<00:00, 81.29it/s]\n",
      "Batches: 100%|██████████| 1/1 [00:00<00:00, 85.39it/s]\n",
      "Batches: 100%|██████████| 1/1 [00:00<00:00, 79.42it/s]\n",
      "Batches: 100%|██████████| 1/1 [00:00<00:00, 89.19it/s]"
     ]
    },
    {
     "name": "stdout",
     "output_type": "stream",
     "text": [
      "i :  540\n",
      "i :  541\n",
      "i :  542\n",
      "i :  543\n"
     ]
    },
    {
     "name": "stderr",
     "output_type": "stream",
     "text": [
      "\n",
      "Batches: 100%|██████████| 1/1 [00:00<00:00, 81.03it/s]\n",
      "Batches: 100%|██████████| 1/1 [00:00<00:00, 79.12it/s]\n",
      "Batches: 100%|██████████| 1/1 [00:00<00:00, 89.49it/s]\n",
      "Batches: 100%|██████████| 1/1 [00:00<00:00, 85.31it/s]\n",
      "Batches:   0%|          | 0/1 [00:00<?, ?it/s]"
     ]
    },
    {
     "name": "stdout",
     "output_type": "stream",
     "text": [
      "i :  544\n",
      "i :  545\n"
     ]
    },
    {
     "name": "stderr",
     "output_type": "stream",
     "text": [
      "Batches: 100%|██████████| 1/1 [00:00<00:00, 79.58it/s]\n",
      "Batches: 100%|██████████| 1/1 [00:00<00:00, 92.03it/s]\n",
      "Batches: 100%|██████████| 1/1 [00:00<00:00, 75.24it/s]\n",
      "Batches:   0%|          | 0/1 [00:00<?, ?it/s]"
     ]
    },
    {
     "name": "stdout",
     "output_type": "stream",
     "text": [
      "i :  546\n",
      "i :  547\n"
     ]
    },
    {
     "name": "stderr",
     "output_type": "stream",
     "text": [
      "Batches: 100%|██████████| 1/1 [00:00<00:00, 78.51it/s]\n",
      "Batches: 100%|██████████| 1/1 [00:00<00:00, 82.87it/s]\n",
      "Batches: 100%|██████████| 1/1 [00:00<00:00, 84.88it/s]\n",
      "Batches: 100%|██████████| 1/1 [00:00<00:00, 88.89it/s]\n",
      "Batches: 100%|██████████| 1/1 [00:00<00:00, 78.89it/s]\n",
      "Batches: 100%|██████████| 1/1 [00:00<00:00, 84.35it/s]\n",
      "Batches: 100%|██████████| 1/1 [00:00<00:00, 82.72it/s]\n",
      "Batches: 100%|██████████| 1/1 [00:00<00:00, 87.50it/s]\n",
      "Batches: 100%|██████████| 1/1 [00:00<00:00, 85.11it/s]\n",
      "Batches:   0%|          | 0/1 [00:00<?, ?it/s]"
     ]
    },
    {
     "name": "stdout",
     "output_type": "stream",
     "text": [
      "i :  548\n",
      "i :  549\n",
      "i :  550\n",
      "i :  551\n"
     ]
    },
    {
     "name": "stderr",
     "output_type": "stream",
     "text": [
      "Batches: 100%|██████████| 1/1 [00:00<00:00, 79.93it/s]\n",
      "Batches: 100%|██████████| 1/1 [00:00<00:00, 78.67it/s]\n",
      "Batches: 100%|██████████| 1/1 [00:00<00:00, 82.02it/s]\n",
      "Batches:   0%|          | 0/1 [00:00<?, ?it/s]"
     ]
    },
    {
     "name": "stdout",
     "output_type": "stream",
     "text": [
      "i :  552\n",
      "i :  553\n"
     ]
    },
    {
     "name": "stderr",
     "output_type": "stream",
     "text": [
      "Batches: 100%|██████████| 1/1 [00:00<00:00, 79.51it/s]\n",
      "Batches: 100%|██████████| 1/1 [00:00<00:00, 85.64it/s]\n",
      "Batches: 100%|██████████| 1/1 [00:00<00:00, 81.46it/s]\n",
      "Batches: 100%|██████████| 1/1 [00:00<00:00, 81.35it/s]\n",
      "Batches:   0%|          | 0/1 [00:00<?, ?it/s]"
     ]
    },
    {
     "name": "stdout",
     "output_type": "stream",
     "text": [
      "i :  554\n",
      "i :  555\n"
     ]
    },
    {
     "name": "stderr",
     "output_type": "stream",
     "text": [
      "Batches: 100%|██████████| 1/1 [00:00<00:00, 83.50it/s]\n",
      "Batches: 100%|██████████| 1/1 [00:00<00:00, 60.00it/s]\n",
      "Batches: 100%|██████████| 1/1 [00:00<00:00, 87.43it/s]\n",
      "Batches: 100%|██████████| 1/1 [00:00<00:00, 87.26it/s]\n",
      "Batches: 100%|██████████| 1/1 [00:00<00:00, 86.78it/s]\n",
      "Batches: 100%|██████████| 1/1 [00:00<00:00, 83.93it/s]\n",
      "Batches: 100%|██████████| 1/1 [00:00<00:00, 89.65it/s]\n",
      "Batches: 100%|██████████| 1/1 [00:00<00:00, 89.82it/s]\n",
      "Batches:   0%|          | 0/1 [00:00<?, ?it/s]"
     ]
    },
    {
     "name": "stdout",
     "output_type": "stream",
     "text": [
      "i :  556\n",
      "i :  557\n",
      "i :  558\n",
      "i :  559\n"
     ]
    },
    {
     "name": "stderr",
     "output_type": "stream",
     "text": [
      "Batches: 100%|██████████| 1/1 [00:00<00:00, 81.40it/s]\n",
      "Batches: 100%|██████████| 1/1 [00:00<00:00, 84.43it/s]\n",
      "Batches: 100%|██████████| 1/1 [00:00<00:00, 87.12it/s]\n",
      "Batches: 100%|██████████| 1/1 [00:00<00:00, 87.85it/s]\n",
      "Batches:   0%|          | 0/1 [00:00<?, ?it/s]"
     ]
    },
    {
     "name": "stdout",
     "output_type": "stream",
     "text": [
      "i :  560\n",
      "i :  561\n"
     ]
    },
    {
     "name": "stderr",
     "output_type": "stream",
     "text": [
      "Batches: 100%|██████████| 1/1 [00:00<00:00, 54.59it/s]\n",
      "Batches: 100%|██████████| 1/1 [00:00<00:00, 91.05it/s]\n",
      "Batches: 100%|██████████| 1/1 [00:00<00:00, 90.72it/s]\n",
      "Batches: 100%|██████████| 1/1 [00:00<00:00, 93.01it/s]\n",
      "Batches: 100%|██████████| 1/1 [00:00<00:00, 89.69it/s]\n",
      "Batches:   0%|          | 0/1 [00:00<?, ?it/s]"
     ]
    },
    {
     "name": "stdout",
     "output_type": "stream",
     "text": [
      "i :  562\n",
      "i :  563\n"
     ]
    },
    {
     "name": "stderr",
     "output_type": "stream",
     "text": [
      "Batches: 100%|██████████| 1/1 [00:00<00:00, 85.81it/s]\n",
      "Batches: 100%|██████████| 1/1 [00:00<00:00, 70.49it/s]\n",
      "Batches: 100%|██████████| 1/1 [00:00<00:00, 87.60it/s]\n",
      "Batches: 100%|██████████| 1/1 [00:00<00:00, 89.80it/s]\n",
      "Batches: 100%|██████████| 1/1 [00:00<00:00, 89.18it/s]\n",
      "Batches: 100%|██████████| 1/1 [00:00<00:00, 89.80it/s]\n",
      "Batches: 100%|██████████| 1/1 [00:00<00:00, 89.45it/s]\n",
      "Batches: 100%|██████████| 1/1 [00:00<00:00, 89.06it/s]\n",
      "Batches:   0%|          | 0/1 [00:00<?, ?it/s]"
     ]
    },
    {
     "name": "stdout",
     "output_type": "stream",
     "text": [
      "i :  564\n",
      "i :  565\n",
      "i :  566\n",
      "i :  567\n"
     ]
    },
    {
     "name": "stderr",
     "output_type": "stream",
     "text": [
      "Batches: 100%|██████████| 1/1 [00:00<00:00, 86.22it/s]\n",
      "Batches: 100%|██████████| 1/1 [00:00<00:00, 74.28it/s]\n",
      "Batches: 100%|██████████| 1/1 [00:00<00:00, 88.59it/s]\n",
      "Batches: 100%|██████████| 1/1 [00:00<00:00, 90.08it/s]\n",
      "Batches:   0%|          | 0/1 [00:00<?, ?it/s]"
     ]
    },
    {
     "name": "stdout",
     "output_type": "stream",
     "text": [
      "i :  568\n",
      "i :  569\n"
     ]
    },
    {
     "name": "stderr",
     "output_type": "stream",
     "text": [
      "Batches: 100%|██████████| 1/1 [00:00<00:00, 87.93it/s]\n",
      "Batches: 100%|██████████| 1/1 [00:00<00:00, 88.55it/s]\n",
      "Batches: 100%|██████████| 1/1 [00:00<00:00, 89.42it/s]\n",
      "Batches: 100%|██████████| 1/1 [00:00<00:00, 92.28it/s]\n",
      "Batches:   0%|          | 0/1 [00:00<?, ?it/s]"
     ]
    },
    {
     "name": "stdout",
     "output_type": "stream",
     "text": [
      "i :  570\n",
      "i :  571\n"
     ]
    },
    {
     "name": "stderr",
     "output_type": "stream",
     "text": [
      "Batches: 100%|██████████| 1/1 [00:00<00:00, 89.81it/s]\n",
      "Batches: 100%|██████████| 1/1 [00:00<00:00, 88.85it/s]\n",
      "Batches: 100%|██████████| 1/1 [00:00<00:00, 89.62it/s]\n",
      "Batches: 100%|██████████| 1/1 [00:00<00:00, 88.84it/s]\n",
      "Batches: 100%|██████████| 1/1 [00:00<00:00, 88.99it/s]\n",
      "Batches: 100%|██████████| 1/1 [00:00<00:00, 90.89it/s]\n",
      "Batches: 100%|██████████| 1/1 [00:00<00:00, 90.76it/s]\n",
      "Batches: 100%|██████████| 1/1 [00:00<00:00, 92.39it/s]\n",
      "Batches:   0%|          | 0/1 [00:00<?, ?it/s]"
     ]
    },
    {
     "name": "stdout",
     "output_type": "stream",
     "text": [
      "i :  572\n",
      "i :  573\n",
      "i :  574\n",
      "i :  575\n"
     ]
    },
    {
     "name": "stderr",
     "output_type": "stream",
     "text": [
      "Batches: 100%|██████████| 1/1 [00:00<00:00, 90.23it/s]\n",
      "Batches: 100%|██████████| 1/1 [00:00<00:00, 89.60it/s]\n",
      "Batches: 100%|██████████| 1/1 [00:00<00:00, 93.14it/s]\n",
      "Batches: 100%|██████████| 1/1 [00:00<00:00, 88.53it/s]\n",
      "Batches: 100%|██████████| 1/1 [00:00<00:00, 87.71it/s]"
     ]
    },
    {
     "name": "stdout",
     "output_type": "stream",
     "text": [
      "i :  576\n",
      "i :  577\n"
     ]
    },
    {
     "name": "stderr",
     "output_type": "stream",
     "text": [
      "\n",
      "Batches: 100%|██████████| 1/1 [00:00<00:00, 86.84it/s]\n",
      "Batches: 100%|██████████| 1/1 [00:00<00:00, 90.03it/s]\n",
      "Batches: 100%|██████████| 1/1 [00:00<00:00, 88.41it/s]\n",
      "Batches:   0%|          | 0/1 [00:00<?, ?it/s]"
     ]
    },
    {
     "name": "stdout",
     "output_type": "stream",
     "text": [
      "i :  578\n",
      "i :  579\n"
     ]
    },
    {
     "name": "stderr",
     "output_type": "stream",
     "text": [
      "Batches: 100%|██████████| 1/1 [00:00<00:00, 88.00it/s]\n",
      "Batches: 100%|██████████| 1/1 [00:00<00:00, 73.89it/s]\n",
      "Batches: 100%|██████████| 1/1 [00:00<00:00, 88.57it/s]\n",
      "Batches: 100%|██████████| 1/1 [00:00<00:00, 90.88it/s]\n",
      "Batches: 100%|██████████| 1/1 [00:00<00:00, 92.98it/s]\n",
      "Batches: 100%|██████████| 1/1 [00:00<00:00, 91.02it/s]\n",
      "Batches: 100%|██████████| 1/1 [00:00<00:00, 93.27it/s]\n",
      "Batches: 100%|██████████| 1/1 [00:00<00:00, 94.14it/s]\n",
      "Batches:   0%|          | 0/1 [00:00<?, ?it/s]"
     ]
    },
    {
     "name": "stdout",
     "output_type": "stream",
     "text": [
      "i :  580\n",
      "i :  581\n",
      "i :  582\n",
      "i :  583\n"
     ]
    },
    {
     "name": "stderr",
     "output_type": "stream",
     "text": [
      "Batches: 100%|██████████| 1/1 [00:00<00:00, 91.07it/s]\n",
      "Batches: 100%|██████████| 1/1 [00:00<00:00, 86.84it/s]\n",
      "Batches: 100%|██████████| 1/1 [00:00<00:00, 89.05it/s]\n",
      "Batches: 100%|██████████| 1/1 [00:00<00:00, 88.46it/s]\n",
      "Batches:   0%|          | 0/1 [00:00<?, ?it/s]"
     ]
    },
    {
     "name": "stdout",
     "output_type": "stream",
     "text": [
      "i :  584\n",
      "i :  585\n"
     ]
    },
    {
     "name": "stderr",
     "output_type": "stream",
     "text": [
      "Batches: 100%|██████████| 1/1 [00:00<00:00, 87.60it/s]\n",
      "Batches: 100%|██████████| 1/1 [00:00<00:00, 87.98it/s]\n",
      "Batches: 100%|██████████| 1/1 [00:00<00:00, 87.49it/s]\n",
      "Batches: 100%|██████████| 1/1 [00:00<00:00, 93.02it/s]\n",
      "Batches:   0%|          | 0/1 [00:00<?, ?it/s]"
     ]
    },
    {
     "name": "stdout",
     "output_type": "stream",
     "text": [
      "i :  586\n",
      "i :  587\n"
     ]
    },
    {
     "name": "stderr",
     "output_type": "stream",
     "text": [
      "Batches: 100%|██████████| 1/1 [00:00<00:00, 90.94it/s]\n",
      "Batches: 100%|██████████| 1/1 [00:00<00:00, 74.87it/s]\n",
      "Batches: 100%|██████████| 1/1 [00:00<00:00, 88.48it/s]\n",
      "Batches: 100%|██████████| 1/1 [00:00<00:00, 92.52it/s]\n",
      "Batches: 100%|██████████| 1/1 [00:00<00:00, 87.51it/s]\n",
      "Batches: 100%|██████████| 1/1 [00:00<00:00, 89.09it/s]\n",
      "Batches: 100%|██████████| 1/1 [00:00<00:00, 93.35it/s]\n",
      "Batches: 100%|██████████| 1/1 [00:00<00:00, 90.58it/s]\n",
      "Batches:   0%|          | 0/1 [00:00<?, ?it/s]"
     ]
    },
    {
     "name": "stdout",
     "output_type": "stream",
     "text": [
      "i :  588\n",
      "i :  589\n",
      "i :  590\n",
      "i :  591\n"
     ]
    },
    {
     "name": "stderr",
     "output_type": "stream",
     "text": [
      "Batches: 100%|██████████| 1/1 [00:00<00:00, 86.80it/s]\n",
      "Batches: 100%|██████████| 1/1 [00:00<00:00, 74.00it/s]\n",
      "Batches: 100%|██████████| 1/1 [00:00<00:00, 89.38it/s]\n",
      "Batches: 100%|██████████| 1/1 [00:00<00:00, 93.23it/s]\n",
      "Batches:   0%|          | 0/1 [00:00<?, ?it/s]"
     ]
    },
    {
     "name": "stdout",
     "output_type": "stream",
     "text": [
      "i :  592\n",
      "i :  593\n"
     ]
    },
    {
     "name": "stderr",
     "output_type": "stream",
     "text": [
      "Batches: 100%|██████████| 1/1 [00:00<00:00, 89.27it/s]\n",
      "Batches: 100%|██████████| 1/1 [00:00<00:00, 73.16it/s]\n",
      "Batches: 100%|██████████| 1/1 [00:00<00:00, 90.15it/s]\n",
      "Batches: 100%|██████████| 1/1 [00:00<00:00, 89.92it/s]\n",
      "Batches:   0%|          | 0/1 [00:00<?, ?it/s]"
     ]
    },
    {
     "name": "stdout",
     "output_type": "stream",
     "text": [
      "i :  594\n",
      "i :  595\n"
     ]
    },
    {
     "name": "stderr",
     "output_type": "stream",
     "text": [
      "Batches: 100%|██████████| 1/1 [00:00<00:00, 89.11it/s]\n",
      "Batches: 100%|██████████| 1/1 [00:00<00:00, 91.12it/s]\n",
      "Batches: 100%|██████████| 1/1 [00:00<00:00, 88.92it/s]\n",
      "Batches: 100%|██████████| 1/1 [00:00<00:00, 89.84it/s]\n",
      "Batches: 100%|██████████| 1/1 [00:00<00:00, 91.86it/s]\n",
      "Batches: 100%|██████████| 1/1 [00:00<00:00, 87.24it/s]\n",
      "Batches: 100%|██████████| 1/1 [00:00<00:00, 90.01it/s]\n",
      "Batches: 100%|██████████| 1/1 [00:00<00:00, 90.18it/s]\n",
      "Batches:   0%|          | 0/1 [00:00<?, ?it/s]"
     ]
    },
    {
     "name": "stdout",
     "output_type": "stream",
     "text": [
      "i :  596\n",
      "i :  597\n",
      "i :  598\n",
      "i :  599\n"
     ]
    },
    {
     "name": "stderr",
     "output_type": "stream",
     "text": [
      "Batches: 100%|██████████| 1/1 [00:00<00:00, 88.67it/s]\n",
      "Batches: 100%|██████████| 1/1 [00:00<00:00, 86.94it/s]\n",
      "Batches: 100%|██████████| 1/1 [00:00<00:00, 88.80it/s]\n",
      "Batches: 100%|██████████| 1/1 [00:00<00:00, 90.33it/s]\n",
      "Batches:   0%|          | 0/1 [00:00<?, ?it/s]"
     ]
    },
    {
     "name": "stdout",
     "output_type": "stream",
     "text": [
      "i :  600\n",
      "i :  601\n"
     ]
    },
    {
     "name": "stderr",
     "output_type": "stream",
     "text": [
      "Batches: 100%|██████████| 1/1 [00:00<00:00, 72.22it/s]\n",
      "Batches: 100%|██████████| 1/1 [00:00<00:00, 77.10it/s]\n",
      "Batches: 100%|██████████| 1/1 [00:00<00:00, 90.61it/s]\n",
      "Batches: 100%|██████████| 1/1 [00:00<00:00, 90.41it/s]\n",
      "Batches:   0%|          | 0/1 [00:00<?, ?it/s]"
     ]
    },
    {
     "name": "stdout",
     "output_type": "stream",
     "text": [
      "i :  602\n",
      "i :  603\n"
     ]
    },
    {
     "name": "stderr",
     "output_type": "stream",
     "text": [
      "Batches: 100%|██████████| 1/1 [00:00<00:00, 89.23it/s]\n",
      "Batches: 100%|██████████| 1/1 [00:00<00:00, 89.43it/s]\n",
      "Batches: 100%|██████████| 1/1 [00:00<00:00, 91.32it/s]\n",
      "Batches: 100%|██████████| 1/1 [00:00<00:00, 63.85it/s]\n",
      "Batches: 100%|██████████| 1/1 [00:00<00:00, 90.22it/s]\n",
      "Batches: 100%|██████████| 1/1 [00:00<00:00, 82.87it/s]\n",
      "Batches: 100%|██████████| 1/1 [00:00<00:00, 80.89it/s]\n",
      "Batches:   0%|          | 0/1 [00:00<?, ?it/s]"
     ]
    },
    {
     "name": "stdout",
     "output_type": "stream",
     "text": [
      "i :  604\n",
      "i :  605\n",
      "i :  606\n",
      "i :  607\n"
     ]
    },
    {
     "name": "stderr",
     "output_type": "stream",
     "text": [
      "Batches: 100%|██████████| 1/1 [00:00<00:00, 83.44it/s]\n",
      "Batches: 100%|██████████| 1/1 [00:00<00:00, 85.51it/s]\n",
      "Batches: 100%|██████████| 1/1 [00:00<00:00, 82.20it/s]\n",
      "Batches: 100%|██████████| 1/1 [00:00<00:00, 82.30it/s]\n",
      "Batches:   0%|          | 0/1 [00:00<?, ?it/s]"
     ]
    },
    {
     "name": "stdout",
     "output_type": "stream",
     "text": [
      "i :  608\n",
      "i :  609\n"
     ]
    },
    {
     "name": "stderr",
     "output_type": "stream",
     "text": [
      "Batches: 100%|██████████| 1/1 [00:00<00:00, 80.09it/s]\n",
      "Batches: 100%|██████████| 1/1 [00:00<00:00, 83.47it/s]\n",
      "Batches: 100%|██████████| 1/1 [00:00<00:00, 80.78it/s]\n",
      "Batches: 100%|██████████| 1/1 [00:00<00:00, 82.05it/s]\n",
      "Batches:   0%|          | 0/1 [00:00<?, ?it/s]"
     ]
    },
    {
     "name": "stdout",
     "output_type": "stream",
     "text": [
      "i :  610\n",
      "i :  611\n"
     ]
    },
    {
     "name": "stderr",
     "output_type": "stream",
     "text": [
      "Batches: 100%|██████████| 1/1 [00:00<00:00, 78.89it/s]\n",
      "Batches: 100%|██████████| 1/1 [00:00<00:00, 81.89it/s]\n",
      "Batches: 100%|██████████| 1/1 [00:00<00:00, 81.78it/s]\n",
      "Batches: 100%|██████████| 1/1 [00:00<00:00, 82.99it/s]\n",
      "Batches: 100%|██████████| 1/1 [00:00<00:00, 81.75it/s]\n",
      "Batches: 100%|██████████| 1/1 [00:00<00:00, 81.61it/s]\n",
      "Batches: 100%|██████████| 1/1 [00:00<00:00, 83.94it/s]\n",
      "Batches: 100%|██████████| 1/1 [00:00<00:00, 61.91it/s]\n",
      "Batches:   0%|          | 0/1 [00:00<?, ?it/s]"
     ]
    },
    {
     "name": "stdout",
     "output_type": "stream",
     "text": [
      "i :  612\n",
      "i :  613\n",
      "i :  614\n",
      "i :  615\n"
     ]
    },
    {
     "name": "stderr",
     "output_type": "stream",
     "text": [
      "Batches: 100%|██████████| 1/1 [00:00<00:00, 87.16it/s]\n",
      "Batches: 100%|██████████| 1/1 [00:00<00:00, 87.62it/s]\n",
      "Batches: 100%|██████████| 1/1 [00:00<00:00, 93.46it/s]\n",
      "Batches: 100%|██████████| 1/1 [00:00<00:00, 91.56it/s]\n",
      "Batches:   0%|          | 0/1 [00:00<?, ?it/s]"
     ]
    },
    {
     "name": "stdout",
     "output_type": "stream",
     "text": [
      "i :  616\n",
      "i :  617\n"
     ]
    },
    {
     "name": "stderr",
     "output_type": "stream",
     "text": [
      "Batches: 100%|██████████| 1/1 [00:00<00:00, 86.98it/s]\n",
      "Batches: 100%|██████████| 1/1 [00:00<00:00, 88.05it/s]\n",
      "Batches: 100%|██████████| 1/1 [00:00<00:00, 89.05it/s]\n",
      "Batches: 100%|██████████| 1/1 [00:00<00:00, 88.22it/s]\n",
      "Batches: 100%|██████████| 1/1 [00:00<00:00, 78.37it/s]"
     ]
    },
    {
     "name": "stdout",
     "output_type": "stream",
     "text": [
      "i :  618\n",
      "i :  619\n"
     ]
    },
    {
     "name": "stderr",
     "output_type": "stream",
     "text": [
      "\n",
      "Batches: 100%|██████████| 1/1 [00:00<00:00, 87.77it/s]\n",
      "Batches: 100%|██████████| 1/1 [00:00<00:00, 76.44it/s]\n",
      "Batches: 100%|██████████| 1/1 [00:00<00:00, 89.65it/s]\n",
      "Batches: 100%|██████████| 1/1 [00:00<00:00, 92.51it/s]\n",
      "Batches: 100%|██████████| 1/1 [00:00<00:00, 91.41it/s]\n",
      "Batches: 100%|██████████| 1/1 [00:00<00:00, 90.25it/s]\n",
      "Batches: 100%|██████████| 1/1 [00:00<00:00, 89.93it/s]\n",
      "Batches: 100%|██████████| 1/1 [00:00<00:00, 89.75it/s]\n",
      "Batches:   0%|          | 0/1 [00:00<?, ?it/s]"
     ]
    },
    {
     "name": "stdout",
     "output_type": "stream",
     "text": [
      "i :  620\n",
      "i :  621\n",
      "i :  622\n",
      "i :  623\n"
     ]
    },
    {
     "name": "stderr",
     "output_type": "stream",
     "text": [
      "Batches: 100%|██████████| 1/1 [00:00<00:00, 86.59it/s]\n",
      "Batches: 100%|██████████| 1/1 [00:00<00:00, 89.65it/s]\n",
      "Batches: 100%|██████████| 1/1 [00:00<00:00, 89.87it/s]\n",
      "Batches: 100%|██████████| 1/1 [00:00<00:00, 90.03it/s]\n",
      "Batches:   0%|          | 0/1 [00:00<?, ?it/s]"
     ]
    },
    {
     "name": "stdout",
     "output_type": "stream",
     "text": [
      "i :  624\n",
      "i :  625\n"
     ]
    },
    {
     "name": "stderr",
     "output_type": "stream",
     "text": [
      "Batches: 100%|██████████| 1/1 [00:00<00:00, 87.95it/s]\n",
      "Batches: 100%|██████████| 1/1 [00:00<00:00, 89.52it/s]\n",
      "Batches: 100%|██████████| 1/1 [00:00<00:00, 90.96it/s]\n",
      "Batches: 100%|██████████| 1/1 [00:00<00:00, 89.57it/s]\n",
      "Batches:   0%|          | 0/1 [00:00<?, ?it/s]"
     ]
    },
    {
     "name": "stdout",
     "output_type": "stream",
     "text": [
      "i :  626\n",
      "i :  627\n"
     ]
    },
    {
     "name": "stderr",
     "output_type": "stream",
     "text": [
      "Batches: 100%|██████████| 1/1 [00:00<00:00, 85.55it/s]\n",
      "Batches: 100%|██████████| 1/1 [00:00<00:00, 89.44it/s]\n",
      "Batches: 100%|██████████| 1/1 [00:00<00:00, 90.04it/s]\n",
      "Batches: 100%|██████████| 1/1 [00:00<00:00, 89.64it/s]\n",
      "Batches: 100%|██████████| 1/1 [00:00<00:00, 89.47it/s]\n",
      "Batches: 100%|██████████| 1/1 [00:00<00:00, 58.32it/s]\n",
      "Batches: 100%|██████████| 1/1 [00:00<00:00, 90.37it/s]\n",
      "Batches: 100%|██████████| 1/1 [00:00<00:00, 91.21it/s]\n",
      "Batches:   0%|          | 0/1 [00:00<?, ?it/s]"
     ]
    },
    {
     "name": "stdout",
     "output_type": "stream",
     "text": [
      "i :  628\n",
      "i :  629\n",
      "i :  630\n",
      "i :  631\n"
     ]
    },
    {
     "name": "stderr",
     "output_type": "stream",
     "text": [
      "Batches: 100%|██████████| 1/1 [00:00<00:00, 89.53it/s]\n",
      "Batches: 100%|██████████| 1/1 [00:00<00:00, 91.77it/s]\n",
      "Batches: 100%|██████████| 1/1 [00:00<00:00, 90.79it/s]\n",
      "Batches: 100%|██████████| 1/1 [00:00<00:00, 91.42it/s]\n",
      "Batches:   0%|          | 0/1 [00:00<?, ?it/s]"
     ]
    },
    {
     "name": "stdout",
     "output_type": "stream",
     "text": [
      "i :  632\n",
      "i :  633\n"
     ]
    },
    {
     "name": "stderr",
     "output_type": "stream",
     "text": [
      "Batches: 100%|██████████| 1/1 [00:00<00:00, 88.32it/s]\n",
      "Batches: 100%|██████████| 1/1 [00:00<00:00, 91.12it/s]\n",
      "Batches: 100%|██████████| 1/1 [00:00<00:00, 89.51it/s]\n",
      "Batches: 100%|██████████| 1/1 [00:00<00:00, 90.14it/s]\n",
      "Batches:   0%|          | 0/1 [00:00<?, ?it/s]"
     ]
    },
    {
     "name": "stdout",
     "output_type": "stream",
     "text": [
      "i :  634\n",
      "i :  635\n"
     ]
    },
    {
     "name": "stderr",
     "output_type": "stream",
     "text": [
      "Batches: 100%|██████████| 1/1 [00:00<00:00, 88.36it/s]\n",
      "Batches: 100%|██████████| 1/1 [00:00<00:00, 88.05it/s]\n",
      "Batches: 100%|██████████| 1/1 [00:00<00:00, 89.99it/s]\n",
      "Batches: 100%|██████████| 1/1 [00:00<00:00, 91.60it/s]\n",
      "Batches: 100%|██████████| 1/1 [00:00<00:00, 90.50it/s]\n",
      "Batches: 100%|██████████| 1/1 [00:00<00:00, 88.95it/s]\n",
      "Batches: 100%|██████████| 1/1 [00:00<00:00, 88.39it/s]\n",
      "Batches: 100%|██████████| 1/1 [00:00<00:00, 90.96it/s]\n",
      "Batches: 100%|██████████| 1/1 [00:00<00:00, 89.69it/s]\n",
      "Batches:   0%|          | 0/1 [00:00<?, ?it/s]"
     ]
    },
    {
     "name": "stdout",
     "output_type": "stream",
     "text": [
      "i :  636\n",
      "i :  637\n",
      "i :  638\n",
      "i :  639\n",
      "i :  640\n"
     ]
    },
    {
     "name": "stderr",
     "output_type": "stream",
     "text": [
      "Batches: 100%|██████████| 1/1 [00:00<00:00, 89.55it/s]\n",
      "Batches: 100%|██████████| 1/1 [00:00<00:00, 89.93it/s]\n",
      "Batches: 100%|██████████| 1/1 [00:00<00:00, 90.54it/s]\n",
      "Batches: 100%|██████████| 1/1 [00:00<00:00, 89.80it/s]\n",
      "Batches:   0%|          | 0/1 [00:00<?, ?it/s]"
     ]
    },
    {
     "name": "stdout",
     "output_type": "stream",
     "text": [
      "i :  641\n",
      "i :  642\n"
     ]
    },
    {
     "name": "stderr",
     "output_type": "stream",
     "text": [
      "Batches: 100%|██████████| 1/1 [00:00<00:00, 87.80it/s]\n",
      "Batches: 100%|██████████| 1/1 [00:00<00:00, 90.50it/s]\n",
      "Batches: 100%|██████████| 1/1 [00:00<00:00, 90.25it/s]\n",
      "Batches: 100%|██████████| 1/1 [00:00<00:00, 89.81it/s]\n",
      "Batches:   0%|          | 0/1 [00:00<?, ?it/s]"
     ]
    },
    {
     "name": "stdout",
     "output_type": "stream",
     "text": [
      "i :  643\n",
      "i :  644\n"
     ]
    },
    {
     "name": "stderr",
     "output_type": "stream",
     "text": [
      "Batches: 100%|██████████| 1/1 [00:00<00:00, 88.68it/s]\n",
      "Batches: 100%|██████████| 1/1 [00:00<00:00, 89.46it/s]\n",
      "Batches: 100%|██████████| 1/1 [00:00<00:00, 91.22it/s]\n",
      "Batches: 100%|██████████| 1/1 [00:00<00:00, 90.09it/s]\n",
      "Batches: 100%|██████████| 1/1 [00:00<00:00, 89.00it/s]\n",
      "Batches: 100%|██████████| 1/1 [00:00<00:00, 90.28it/s]\n",
      "Batches: 100%|██████████| 1/1 [00:00<00:00, 91.26it/s]\n",
      "Batches: 100%|██████████| 1/1 [00:00<00:00, 89.95it/s]\n",
      "Batches: 100%|██████████| 1/1 [00:00<00:00, 91.95it/s]\n",
      "Batches: 100%|██████████| 1/1 [00:00<00:00, 90.58it/s]\n",
      "Batches:   0%|          | 0/1 [00:00<?, ?it/s]"
     ]
    },
    {
     "name": "stdout",
     "output_type": "stream",
     "text": [
      "i :  645\n",
      "i :  646\n",
      "i :  647\n",
      "i :  648\n",
      "i :  649\n"
     ]
    },
    {
     "name": "stderr",
     "output_type": "stream",
     "text": [
      "Batches: 100%|██████████| 1/1 [00:00<00:00, 78.17it/s]\n",
      "Batches: 100%|██████████| 1/1 [00:00<00:00, 81.72it/s]\n",
      "Batches: 100%|██████████| 1/1 [00:00<00:00, 87.36it/s]\n",
      "Batches: 100%|██████████| 1/1 [00:00<00:00, 90.60it/s]"
     ]
    },
    {
     "name": "stdout",
     "output_type": "stream",
     "text": [
      "i :  650\n"
     ]
    },
    {
     "name": "stderr",
     "output_type": "stream",
     "text": [
      "\n",
      "Batches: 100%|██████████| 1/1 [00:00<00:00, 65.35it/s]\n",
      "Batches: 100%|██████████| 1/1 [00:00<00:00, 72.36it/s]\n",
      "Batches: 100%|██████████| 1/1 [00:00<00:00, 90.64it/s]\n",
      "Batches:   0%|          | 0/1 [00:00<?, ?it/s]"
     ]
    },
    {
     "name": "stdout",
     "output_type": "stream",
     "text": [
      "i :  651\n",
      "i :  652\n"
     ]
    },
    {
     "name": "stderr",
     "output_type": "stream",
     "text": [
      "Batches: 100%|██████████| 1/1 [00:00<00:00, 88.62it/s]\n",
      "Batches: 100%|██████████| 1/1 [00:00<00:00, 90.17it/s]\n",
      "Batches: 100%|██████████| 1/1 [00:00<00:00, 88.50it/s]\n",
      "Batches: 100%|██████████| 1/1 [00:00<00:00, 90.57it/s]\n",
      "Batches: 100%|██████████| 1/1 [00:00<00:00, 89.23it/s]\n",
      "Batches: 100%|██████████| 1/1 [00:00<00:00, 88.40it/s]\n",
      "Batches: 100%|██████████| 1/1 [00:00<00:00, 90.21it/s]\n",
      "Batches: 100%|██████████| 1/1 [00:00<00:00, 90.39it/s]\n",
      "Batches: 100%|██████████| 1/1 [00:00<00:00, 83.50it/s]\n",
      "Batches: 100%|██████████| 1/1 [00:00<00:00, 89.90it/s]\n",
      "Batches:   0%|          | 0/1 [00:00<?, ?it/s]"
     ]
    },
    {
     "name": "stdout",
     "output_type": "stream",
     "text": [
      "i :  653\n",
      "i :  654\n",
      "i :  655\n",
      "i :  656\n",
      "i :  657\n"
     ]
    },
    {
     "name": "stderr",
     "output_type": "stream",
     "text": [
      "Batches: 100%|██████████| 1/1 [00:00<00:00, 88.64it/s]\n",
      "Batches: 100%|██████████| 1/1 [00:00<00:00, 88.13it/s]\n",
      "Batches:   0%|          | 0/1 [00:00<?, ?it/s]"
     ]
    },
    {
     "name": "stdout",
     "output_type": "stream",
     "text": [
      "i :  658\n"
     ]
    },
    {
     "name": "stderr",
     "output_type": "stream",
     "text": [
      "Batches: 100%|██████████| 1/1 [00:00<00:00, 87.47it/s]\n",
      "Batches: 100%|██████████| 1/1 [00:00<00:00, 89.78it/s]\n",
      "Batches: 100%|██████████| 1/1 [00:00<00:00, 91.11it/s]\n",
      "Batches: 100%|██████████| 1/1 [00:00<00:00, 88.15it/s]\n",
      "Batches: 100%|██████████| 1/1 [00:00<00:00, 89.39it/s]\n",
      "Batches:   0%|          | 0/1 [00:00<?, ?it/s]"
     ]
    },
    {
     "name": "stdout",
     "output_type": "stream",
     "text": [
      "i :  659\n",
      "i :  660\n",
      "i :  661\n"
     ]
    },
    {
     "name": "stderr",
     "output_type": "stream",
     "text": [
      "Batches: 100%|██████████| 1/1 [00:00<00:00, 76.92it/s]\n",
      "Batches: 100%|██████████| 1/1 [00:00<00:00, 88.82it/s]\n",
      "Batches: 100%|██████████| 1/1 [00:00<00:00, 87.68it/s]\n",
      "Batches: 100%|██████████| 1/1 [00:00<00:00, 91.05it/s]\n",
      "Batches: 100%|██████████| 1/1 [00:00<00:00, 90.98it/s]\n",
      "Batches: 100%|██████████| 1/1 [00:00<00:00, 88.32it/s]\n",
      "Batches: 100%|██████████| 1/1 [00:00<00:00, 89.89it/s]\n",
      "Batches: 100%|██████████| 1/1 [00:00<00:00, 90.59it/s]\n",
      "Batches: 100%|██████████| 1/1 [00:00<00:00, 86.99it/s]\n",
      "Batches: 100%|██████████| 1/1 [00:00<00:00, 88.54it/s]\n"
     ]
    },
    {
     "name": "stdout",
     "output_type": "stream",
     "text": [
      "i :  662\n",
      "i :  663\n",
      "i :  664\n",
      "i :  665\n",
      "i :  666\n"
     ]
    },
    {
     "name": "stderr",
     "output_type": "stream",
     "text": [
      "Batches: 100%|██████████| 1/1 [00:00<00:00, 85.84it/s]\n",
      "Batches: 100%|██████████| 1/1 [00:00<00:00, 89.67it/s]\n"
     ]
    },
    {
     "name": "stdout",
     "output_type": "stream",
     "text": [
      "i :  667\n"
     ]
    },
    {
     "name": "stderr",
     "output_type": "stream",
     "text": [
      "Batches: 100%|██████████| 1/1 [00:00<00:00, 78.16it/s]\n",
      "Batches: 100%|██████████| 1/1 [00:00<00:00, 81.72it/s]\n",
      "Batches: 100%|██████████| 1/1 [00:00<00:00, 90.85it/s]\n",
      "Batches: 100%|██████████| 1/1 [00:00<00:00, 89.27it/s]\n",
      "Batches: 100%|██████████| 1/1 [00:00<00:00, 91.03it/s]\n",
      "Batches:   0%|          | 0/1 [00:00<?, ?it/s]"
     ]
    },
    {
     "name": "stdout",
     "output_type": "stream",
     "text": [
      "i :  668\n",
      "i :  669\n"
     ]
    },
    {
     "name": "stderr",
     "output_type": "stream",
     "text": [
      "Batches: 100%|██████████| 1/1 [00:00<00:00, 87.37it/s]\n",
      "Batches: 100%|██████████| 1/1 [00:00<00:00, 80.68it/s]\n",
      "Batches: 100%|██████████| 1/1 [00:00<00:00, 81.92it/s]\n",
      "Batches: 100%|██████████| 1/1 [00:00<00:00, 89.19it/s]\n",
      "Batches: 100%|██████████| 1/1 [00:00<00:00, 90.83it/s]\n",
      "Batches: 100%|██████████| 1/1 [00:00<00:00, 90.24it/s]\n",
      "Batches: 100%|██████████| 1/1 [00:00<00:00, 87.91it/s]\n",
      "Batches: 100%|██████████| 1/1 [00:00<00:00, 52.79it/s]\n",
      "Batches: 100%|██████████| 1/1 [00:00<00:00, 90.24it/s]\n",
      "Batches: 100%|██████████| 1/1 [00:00<00:00, 89.19it/s]\n",
      "Batches:   0%|          | 0/1 [00:00<?, ?it/s]"
     ]
    },
    {
     "name": "stdout",
     "output_type": "stream",
     "text": [
      "i :  670\n",
      "i :  671\n",
      "i :  672\n",
      "i :  673\n",
      "i :  674\n"
     ]
    },
    {
     "name": "stderr",
     "output_type": "stream",
     "text": [
      "Batches: 100%|██████████| 1/1 [00:00<00:00, 85.08it/s]\n",
      "Batches: 100%|██████████| 1/1 [00:00<00:00, 91.24it/s]\n",
      "Batches: 100%|██████████| 1/1 [00:00<00:00, 89.51it/s]\n",
      "Batches: 100%|██████████| 1/1 [00:00<00:00, 90.67it/s]\n",
      "Batches: 100%|██████████| 1/1 [00:00<00:00, 90.93it/s]\n",
      "Batches: 100%|██████████| 1/1 [00:00<00:00, 90.90it/s]\n",
      "Batches: 100%|██████████| 1/1 [00:00<00:00, 89.73it/s]\n",
      "Batches: 100%|██████████| 1/1 [00:00<00:00, 88.36it/s]\n",
      "Batches: 100%|██████████| 1/1 [00:00<00:00, 89.64it/s]\n",
      "Batches: 100%|██████████| 1/1 [00:00<00:00, 91.02it/s]\n",
      "Batches: 100%|██████████| 1/1 [00:00<00:00, 90.64it/s]\n",
      "Batches: 100%|██████████| 1/1 [00:00<00:00, 91.29it/s]\n",
      "Batches: 100%|██████████| 1/1 [00:00<00:00, 89.05it/s]\n",
      "Batches: 100%|██████████| 1/1 [00:00<00:00, 90.80it/s]\n",
      "Batches: 100%|██████████| 1/1 [00:00<00:00, 89.89it/s]\n",
      "Batches: 100%|██████████| 1/1 [00:00<00:00, 90.07it/s]\n",
      "Batches: 100%|██████████| 1/1 [00:00<00:00, 89.18it/s]\n",
      "Batches:   0%|          | 0/1 [00:00<?, ?it/s]"
     ]
    },
    {
     "name": "stdout",
     "output_type": "stream",
     "text": [
      "i :  675\n",
      "i :  676\n",
      "i :  677\n",
      "i :  678\n",
      "i :  679\n",
      "i :  680\n",
      "i :  681\n",
      "i :  682\n",
      "i :  683\n"
     ]
    },
    {
     "name": "stderr",
     "output_type": "stream",
     "text": [
      "Batches: 100%|██████████| 1/1 [00:00<00:00, 73.88it/s]\n",
      "Batches: 100%|██████████| 1/1 [00:00<00:00, 89.45it/s]\n",
      "Batches: 100%|██████████| 1/1 [00:00<00:00, 86.31it/s]\n",
      "Batches: 100%|██████████| 1/1 [00:00<00:00, 91.07it/s]\n",
      "Batches: 100%|██████████| 1/1 [00:00<00:00, 87.17it/s]\n",
      "Batches: 100%|██████████| 1/1 [00:00<00:00, 90.71it/s]\n",
      "Batches: 100%|██████████| 1/1 [00:00<00:00, 90.65it/s]\n",
      "Batches: 100%|██████████| 1/1 [00:00<00:00, 89.39it/s]\n",
      "Batches: 100%|██████████| 1/1 [00:00<00:00, 87.62it/s]\n",
      "Batches: 100%|██████████| 1/1 [00:00<00:00, 89.19it/s]\n",
      "Batches: 100%|██████████| 1/1 [00:00<00:00, 86.96it/s]\n",
      "Batches: 100%|██████████| 1/1 [00:00<00:00, 89.65it/s]\n",
      "Batches: 100%|██████████| 1/1 [00:00<00:00, 89.98it/s]\n",
      "Batches: 100%|██████████| 1/1 [00:00<00:00, 89.33it/s]\n",
      "Batches: 100%|██████████| 1/1 [00:00<00:00, 90.80it/s]\n",
      "Batches: 100%|██████████| 1/1 [00:00<00:00, 89.69it/s]\n",
      "Batches: 100%|██████████| 1/1 [00:00<00:00, 90.48it/s]\n",
      "Batches: 100%|██████████| 1/1 [00:00<00:00, 89.27it/s]\n",
      "Batches:   0%|          | 0/1 [00:00<?, ?it/s]"
     ]
    },
    {
     "name": "stdout",
     "output_type": "stream",
     "text": [
      "i :  684\n",
      "i :  685\n",
      "i :  686\n",
      "i :  687\n",
      "i :  688\n",
      "i :  689\n",
      "i :  690\n",
      "i :  691\n",
      "i :  692\n"
     ]
    },
    {
     "name": "stderr",
     "output_type": "stream",
     "text": [
      "Batches: 100%|██████████| 1/1 [00:00<00:00, 85.70it/s]\n",
      "Batches: 100%|██████████| 1/1 [00:00<00:00, 88.99it/s]\n",
      "Batches: 100%|██████████| 1/1 [00:00<00:00, 77.78it/s]\n",
      "Batches: 100%|██████████| 1/1 [00:00<00:00, 88.64it/s]\n",
      "Batches: 100%|██████████| 1/1 [00:00<00:00, 89.98it/s]\n",
      "Batches: 100%|██████████| 1/1 [00:00<00:00, 89.71it/s]\n",
      "Batches: 100%|██████████| 1/1 [00:00<00:00, 89.83it/s]\n",
      "Batches: 100%|██████████| 1/1 [00:00<00:00, 91.85it/s]\n",
      "Batches: 100%|██████████| 1/1 [00:00<00:00, 89.64it/s]\n",
      "Batches: 100%|██████████| 1/1 [00:00<00:00, 89.92it/s]\n",
      "Batches: 100%|██████████| 1/1 [00:00<00:00, 88.47it/s]\n",
      "Batches: 100%|██████████| 1/1 [00:00<00:00, 89.68it/s]\n",
      "Batches: 100%|██████████| 1/1 [00:00<00:00, 90.83it/s]\n",
      "Batches: 100%|██████████| 1/1 [00:00<00:00, 89.50it/s]\n",
      "Batches: 100%|██████████| 1/1 [00:00<00:00, 90.09it/s]\n",
      "Batches: 100%|██████████| 1/1 [00:00<00:00, 89.84it/s]\n",
      "Batches: 100%|██████████| 1/1 [00:00<00:00, 90.58it/s]\n",
      "Batches: 100%|██████████| 1/1 [00:00<00:00, 89.92it/s]\n"
     ]
    },
    {
     "name": "stdout",
     "output_type": "stream",
     "text": [
      "i :  693\n",
      "i :  694\n",
      "i :  695\n",
      "i :  696\n",
      "i :  697\n",
      "i :  698\n",
      "i :  699\n",
      "i :  700\n",
      "i :  701\n"
     ]
    },
    {
     "name": "stderr",
     "output_type": "stream",
     "text": [
      "Batches: 100%|██████████| 1/1 [00:00<00:00, 85.12it/s]\n",
      "Batches: 100%|██████████| 1/1 [00:00<00:00, 89.42it/s]\n",
      "Batches: 100%|██████████| 1/1 [00:00<00:00, 86.67it/s]\n",
      "Batches: 100%|██████████| 1/1 [00:00<00:00, 89.71it/s]\n",
      "Batches: 100%|██████████| 1/1 [00:00<00:00, 87.56it/s]\n",
      "Batches: 100%|██████████| 1/1 [00:00<00:00, 89.36it/s]\n",
      "Batches: 100%|██████████| 1/1 [00:00<00:00, 87.74it/s]\n",
      "Batches: 100%|██████████| 1/1 [00:00<00:00, 89.74it/s]\n",
      "Batches: 100%|██████████| 1/1 [00:00<00:00, 88.10it/s]\n",
      "Batches: 100%|██████████| 1/1 [00:00<00:00, 87.87it/s]\n",
      "Batches: 100%|██████████| 1/1 [00:00<00:00, 88.27it/s]\n",
      "Batches: 100%|██████████| 1/1 [00:00<00:00, 88.83it/s]\n",
      "Batches: 100%|██████████| 1/1 [00:00<00:00, 87.03it/s]\n",
      "Batches: 100%|██████████| 1/1 [00:00<00:00, 88.16it/s]\n",
      "Batches: 100%|██████████| 1/1 [00:00<00:00, 91.05it/s]\n",
      "Batches: 100%|██████████| 1/1 [00:00<00:00, 88.67it/s]\n",
      "Batches: 100%|██████████| 1/1 [00:00<00:00, 89.88it/s]\n",
      "Batches:   0%|          | 0/1 [00:00<?, ?it/s]"
     ]
    },
    {
     "name": "stdout",
     "output_type": "stream",
     "text": [
      "i :  702\n",
      "i :  703\n",
      "i :  704\n",
      "i :  705\n",
      "i :  706\n",
      "i :  707\n",
      "i :  708\n",
      "i :  709\n"
     ]
    },
    {
     "name": "stderr",
     "output_type": "stream",
     "text": [
      "Batches: 100%|██████████| 1/1 [00:00<00:00, 78.51it/s]\n",
      "Batches: 100%|██████████| 1/1 [00:00<00:00, 89.12it/s]\n",
      "Batches: 100%|██████████| 1/1 [00:00<00:00, 89.09it/s]\n",
      "Batches: 100%|██████████| 1/1 [00:00<00:00, 89.09it/s]\n",
      "Batches: 100%|██████████| 1/1 [00:00<00:00, 89.16it/s]\n",
      "Batches: 100%|██████████| 1/1 [00:00<00:00, 87.93it/s]\n",
      "Batches: 100%|██████████| 1/1 [00:00<00:00, 89.69it/s]\n",
      "Batches: 100%|██████████| 1/1 [00:00<00:00, 87.89it/s]\n",
      "Batches: 100%|██████████| 1/1 [00:00<00:00, 89.43it/s]\n",
      "Batches: 100%|██████████| 1/1 [00:00<00:00, 86.80it/s]\n",
      "Batches: 100%|██████████| 1/1 [00:00<00:00, 88.30it/s]\n",
      "Batches: 100%|██████████| 1/1 [00:00<00:00, 87.44it/s]\n",
      "Batches: 100%|██████████| 1/1 [00:00<00:00, 89.05it/s]\n",
      "Batches: 100%|██████████| 1/1 [00:00<00:00, 80.02it/s]\n",
      "Batches: 100%|██████████| 1/1 [00:00<00:00, 85.39it/s]\n",
      "Batches: 100%|██████████| 1/1 [00:00<00:00, 88.69it/s]\n",
      "Batches: 100%|██████████| 1/1 [00:00<00:00, 89.66it/s]\n"
     ]
    },
    {
     "name": "stdout",
     "output_type": "stream",
     "text": [
      "i :  710\n",
      "i :  711\n",
      "i :  712\n",
      "i :  713\n",
      "i :  714\n",
      "i :  715\n",
      "i :  716\n",
      "i :  717\n",
      "i :  718\n"
     ]
    },
    {
     "name": "stderr",
     "output_type": "stream",
     "text": [
      "Batches: 100%|██████████| 1/1 [00:00<00:00, 86.24it/s]\n",
      "Batches: 100%|██████████| 1/1 [00:00<00:00, 89.10it/s]\n",
      "Batches: 100%|██████████| 1/1 [00:00<00:00, 78.51it/s]\n",
      "Batches: 100%|██████████| 1/1 [00:00<00:00, 81.34it/s]\n",
      "Batches: 100%|██████████| 1/1 [00:00<00:00, 91.29it/s]\n",
      "Batches: 100%|██████████| 1/1 [00:00<00:00, 88.97it/s]\n",
      "Batches: 100%|██████████| 1/1 [00:00<00:00, 88.43it/s]\n",
      "Batches: 100%|██████████| 1/1 [00:00<00:00, 88.42it/s]\n",
      "Batches: 100%|██████████| 1/1 [00:00<00:00, 90.42it/s]\n",
      "Batches: 100%|██████████| 1/1 [00:00<00:00, 88.60it/s]\n",
      "Batches: 100%|██████████| 1/1 [00:00<00:00, 90.30it/s]\n",
      "Batches: 100%|██████████| 1/1 [00:00<00:00, 89.89it/s]\n",
      "Batches: 100%|██████████| 1/1 [00:00<00:00, 89.48it/s]\n",
      "Batches: 100%|██████████| 1/1 [00:00<00:00, 90.15it/s]\n",
      "Batches: 100%|██████████| 1/1 [00:00<00:00, 89.94it/s]\n",
      "Batches: 100%|██████████| 1/1 [00:00<00:00, 89.17it/s]\n",
      "Batches: 100%|██████████| 1/1 [00:00<00:00, 90.73it/s]\n",
      "Batches: 100%|██████████| 1/1 [00:00<00:00, 89.66it/s]\n"
     ]
    },
    {
     "name": "stdout",
     "output_type": "stream",
     "text": [
      "i :  719\n",
      "i :  720\n",
      "i :  721\n",
      "i :  722\n",
      "i :  723\n",
      "i :  724\n",
      "i :  725\n",
      "i :  726\n",
      "i :  727\n"
     ]
    },
    {
     "name": "stderr",
     "output_type": "stream",
     "text": [
      "Batches: 100%|██████████| 1/1 [00:00<00:00, 76.89it/s]\n",
      "Batches: 100%|██████████| 1/1 [00:00<00:00, 91.74it/s]\n",
      "Batches: 100%|██████████| 1/1 [00:00<00:00, 87.76it/s]\n",
      "Batches: 100%|██████████| 1/1 [00:00<00:00, 75.72it/s]\n",
      "Batches: 100%|██████████| 1/1 [00:00<00:00, 88.92it/s]\n",
      "Batches: 100%|██████████| 1/1 [00:00<00:00, 89.70it/s]\n",
      "Batches: 100%|██████████| 1/1 [00:00<00:00, 90.29it/s]\n",
      "Batches: 100%|██████████| 1/1 [00:00<00:00, 91.02it/s]\n",
      "Batches: 100%|██████████| 1/1 [00:00<00:00, 91.61it/s]\n",
      "Batches: 100%|██████████| 1/1 [00:00<00:00, 88.89it/s]\n",
      "Batches: 100%|██████████| 1/1 [00:00<00:00, 90.16it/s]\n",
      "Batches: 100%|██████████| 1/1 [00:00<00:00, 88.26it/s]\n",
      "Batches: 100%|██████████| 1/1 [00:00<00:00, 90.72it/s]\n",
      "Batches: 100%|██████████| 1/1 [00:00<00:00, 88.41it/s]\n",
      "Batches: 100%|██████████| 1/1 [00:00<00:00, 91.13it/s]\n",
      "Batches: 100%|██████████| 1/1 [00:00<00:00, 88.93it/s]\n",
      "Batches: 100%|██████████| 1/1 [00:00<00:00, 88.30it/s]\n",
      "Batches: 100%|██████████| 1/1 [00:00<00:00, 90.01it/s]\n",
      "Batches:   0%|          | 0/1 [00:00<?, ?it/s]"
     ]
    },
    {
     "name": "stdout",
     "output_type": "stream",
     "text": [
      "i :  728\n",
      "i :  729\n",
      "i :  730\n",
      "i :  731\n",
      "i :  732\n",
      "i :  733\n",
      "i :  734\n",
      "i :  735\n",
      "i :  736\n"
     ]
    },
    {
     "name": "stderr",
     "output_type": "stream",
     "text": [
      "Batches: 100%|██████████| 1/1 [00:00<00:00, 86.35it/s]\n",
      "Batches: 100%|██████████| 1/1 [00:00<00:00, 89.10it/s]\n",
      "Batches: 100%|██████████| 1/1 [00:00<00:00, 90.29it/s]\n",
      "Batches: 100%|██████████| 1/1 [00:00<00:00, 90.43it/s]\n",
      "Batches: 100%|██████████| 1/1 [00:00<00:00, 91.01it/s]\n",
      "Batches: 100%|██████████| 1/1 [00:00<00:00, 58.90it/s]\n",
      "Batches: 100%|██████████| 1/1 [00:00<00:00, 90.68it/s]\n",
      "Batches: 100%|██████████| 1/1 [00:00<00:00, 88.59it/s]\n",
      "Batches: 100%|██████████| 1/1 [00:00<00:00, 89.89it/s]\n",
      "Batches: 100%|██████████| 1/1 [00:00<00:00, 89.07it/s]\n",
      "Batches: 100%|██████████| 1/1 [00:00<00:00, 86.91it/s]\n",
      "Batches: 100%|██████████| 1/1 [00:00<00:00, 89.27it/s]\n",
      "Batches: 100%|██████████| 1/1 [00:00<00:00, 87.21it/s]\n",
      "Batches: 100%|██████████| 1/1 [00:00<00:00, 88.97it/s]\n",
      "Batches: 100%|██████████| 1/1 [00:00<00:00, 86.55it/s]\n",
      "Batches: 100%|██████████| 1/1 [00:00<00:00, 87.98it/s]\n",
      "Batches: 100%|██████████| 1/1 [00:00<00:00, 89.49it/s]\n",
      "Batches:   0%|          | 0/1 [00:00<?, ?it/s]"
     ]
    },
    {
     "name": "stdout",
     "output_type": "stream",
     "text": [
      "i :  737\n",
      "i :  738\n",
      "i :  739\n",
      "i :  740\n",
      "i :  741\n",
      "i :  742\n",
      "i :  743\n",
      "i :  744\n"
     ]
    },
    {
     "name": "stderr",
     "output_type": "stream",
     "text": [
      "Batches: 100%|██████████| 1/1 [00:00<00:00, 87.19it/s]\n",
      "Batches: 100%|██████████| 1/1 [00:00<00:00, 90.59it/s]\n",
      "Batches: 100%|██████████| 1/1 [00:00<00:00, 87.98it/s]\n",
      "Batches: 100%|██████████| 1/1 [00:00<00:00, 87.36it/s]\n",
      "Batches: 100%|██████████| 1/1 [00:00<00:00, 88.50it/s]\n",
      "Batches: 100%|██████████| 1/1 [00:00<00:00, 76.53it/s]\n",
      "Batches: 100%|██████████| 1/1 [00:00<00:00, 81.85it/s]\n",
      "Batches: 100%|██████████| 1/1 [00:00<00:00, 88.01it/s]\n",
      "Batches: 100%|██████████| 1/1 [00:00<00:00, 90.58it/s]\n",
      "Batches: 100%|██████████| 1/1 [00:00<00:00, 90.74it/s]\n",
      "Batches: 100%|██████████| 1/1 [00:00<00:00, 88.67it/s]\n",
      "Batches: 100%|██████████| 1/1 [00:00<00:00, 89.27it/s]\n",
      "Batches: 100%|██████████| 1/1 [00:00<00:00, 89.12it/s]\n",
      "Batches: 100%|██████████| 1/1 [00:00<00:00, 90.49it/s]\n",
      "Batches: 100%|██████████| 1/1 [00:00<00:00, 89.16it/s]\n",
      "Batches: 100%|██████████| 1/1 [00:00<00:00, 89.99it/s]\n",
      "Batches:   0%|          | 0/1 [00:00<?, ?it/s]"
     ]
    },
    {
     "name": "stdout",
     "output_type": "stream",
     "text": [
      "i :  745\n",
      "i :  746\n",
      "i :  747\n",
      "i :  748\n",
      "i :  749\n",
      "i :  750\n",
      "i :  751\n",
      "i :  752\n"
     ]
    },
    {
     "name": "stderr",
     "output_type": "stream",
     "text": [
      "Batches: 100%|██████████| 1/1 [00:00<00:00, 86.90it/s]\n",
      "Batches: 100%|██████████| 1/1 [00:00<00:00, 75.78it/s]\n",
      "Batches: 100%|██████████| 1/1 [00:00<00:00, 88.30it/s]\n",
      "Batches: 100%|██████████| 1/1 [00:00<00:00, 87.45it/s]\n",
      "Batches: 100%|██████████| 1/1 [00:00<00:00, 89.07it/s]\n",
      "Batches: 100%|██████████| 1/1 [00:00<00:00, 89.09it/s]\n",
      "Batches: 100%|██████████| 1/1 [00:00<00:00, 89.15it/s]\n",
      "Batches: 100%|██████████| 1/1 [00:00<00:00, 87.61it/s]\n",
      "Batches: 100%|██████████| 1/1 [00:00<00:00, 89.03it/s]\n",
      "Batches: 100%|██████████| 1/1 [00:00<00:00, 87.39it/s]\n",
      "Batches: 100%|██████████| 1/1 [00:00<00:00, 90.37it/s]\n",
      "Batches: 100%|██████████| 1/1 [00:00<00:00, 89.83it/s]\n",
      "Batches: 100%|██████████| 1/1 [00:00<00:00, 89.06it/s]\n",
      "Batches: 100%|██████████| 1/1 [00:00<00:00, 89.52it/s]\n",
      "Batches: 100%|██████████| 1/1 [00:00<00:00, 90.04it/s]\n",
      "Batches: 100%|██████████| 1/1 [00:00<00:00, 89.88it/s]\n",
      "Batches: 100%|██████████| 1/1 [00:00<00:00, 88.98it/s]"
     ]
    },
    {
     "name": "stdout",
     "output_type": "stream",
     "text": [
      "i :  753\n",
      "i :  754\n",
      "i :  755\n",
      "i :  756\n",
      "i :  757\n",
      "i :  758\n",
      "i :  759\n",
      "i :  760\n"
     ]
    },
    {
     "name": "stderr",
     "output_type": "stream",
     "text": [
      "\n",
      "Batches: 100%|██████████| 1/1 [00:00<00:00, 85.74it/s]\n",
      "Batches: 100%|██████████| 1/1 [00:00<00:00, 87.15it/s]\n",
      "Batches: 100%|██████████| 1/1 [00:00<00:00, 73.76it/s]\n",
      "Batches: 100%|██████████| 1/1 [00:00<00:00, 87.17it/s]\n",
      "Batches: 100%|██████████| 1/1 [00:00<00:00, 86.92it/s]\n",
      "Batches: 100%|██████████| 1/1 [00:00<00:00, 88.28it/s]\n",
      "Batches: 100%|██████████| 1/1 [00:00<00:00, 89.17it/s]\n",
      "Batches: 100%|██████████| 1/1 [00:00<00:00, 88.84it/s]\n",
      "Batches: 100%|██████████| 1/1 [00:00<00:00, 87.07it/s]\n",
      "Batches: 100%|██████████| 1/1 [00:00<00:00, 88.03it/s]\n",
      "Batches: 100%|██████████| 1/1 [00:00<00:00, 89.50it/s]\n",
      "Batches: 100%|██████████| 1/1 [00:00<00:00, 87.53it/s]\n",
      "Batches: 100%|██████████| 1/1 [00:00<00:00, 88.84it/s]\n",
      "Batches: 100%|██████████| 1/1 [00:00<00:00, 89.69it/s]\n",
      "Batches: 100%|██████████| 1/1 [00:00<00:00, 90.04it/s]\n",
      "Batches:   0%|          | 0/1 [00:00<?, ?it/s]"
     ]
    },
    {
     "name": "stdout",
     "output_type": "stream",
     "text": [
      "i :  761\n",
      "i :  762\n",
      "i :  763\n",
      "i :  764\n",
      "i :  765\n",
      "i :  766\n",
      "i :  767\n",
      "i :  768\n"
     ]
    },
    {
     "name": "stderr",
     "output_type": "stream",
     "text": [
      "Batches: 100%|██████████| 1/1 [00:00<00:00, 85.97it/s]\n",
      "Batches: 100%|██████████| 1/1 [00:00<00:00, 89.21it/s]\n",
      "Batches: 100%|██████████| 1/1 [00:00<00:00, 87.64it/s]\n",
      "Batches: 100%|██████████| 1/1 [00:00<00:00, 87.39it/s]\n",
      "Batches: 100%|██████████| 1/1 [00:00<00:00, 88.43it/s]\n",
      "Batches: 100%|██████████| 1/1 [00:00<00:00, 75.80it/s]\n",
      "Batches: 100%|██████████| 1/1 [00:00<00:00, 53.22it/s]\n",
      "Batches: 100%|██████████| 1/1 [00:00<00:00, 55.32it/s]\n",
      "Batches: 100%|██████████| 1/1 [00:00<00:00, 90.86it/s]\n",
      "Batches: 100%|██████████| 1/1 [00:00<00:00, 89.93it/s]\n",
      "Batches: 100%|██████████| 1/1 [00:00<00:00, 89.35it/s]\n",
      "Batches: 100%|██████████| 1/1 [00:00<00:00, 88.10it/s]\n",
      "Batches: 100%|██████████| 1/1 [00:00<00:00, 88.49it/s]\n",
      "Batches: 100%|██████████| 1/1 [00:00<00:00, 89.23it/s]\n",
      "Batches: 100%|██████████| 1/1 [00:00<00:00, 89.34it/s]\n",
      "Batches:   0%|          | 0/1 [00:00<?, ?it/s]"
     ]
    },
    {
     "name": "stdout",
     "output_type": "stream",
     "text": [
      "i :  769\n",
      "i :  770\n",
      "i :  771\n",
      "i :  772\n",
      "i :  773\n",
      "i :  774\n",
      "i :  775\n",
      "i :  776\n"
     ]
    },
    {
     "name": "stderr",
     "output_type": "stream",
     "text": [
      "Batches: 100%|██████████| 1/1 [00:00<00:00, 65.44it/s]\n",
      "Batches: 100%|██████████| 1/1 [00:00<00:00, 90.95it/s]\n",
      "Batches: 100%|██████████| 1/1 [00:00<00:00, 65.47it/s]\n",
      "Batches: 100%|██████████| 1/1 [00:00<00:00, 89.41it/s]\n",
      "Batches: 100%|██████████| 1/1 [00:00<00:00, 91.76it/s]\n",
      "Batches: 100%|██████████| 1/1 [00:00<00:00, 60.56it/s]\n",
      "Batches: 100%|██████████| 1/1 [00:00<00:00, 85.98it/s]\n",
      "Batches: 100%|██████████| 1/1 [00:00<00:00, 89.81it/s]\n",
      "Batches: 100%|██████████| 1/1 [00:00<00:00, 90.90it/s]\n",
      "Batches: 100%|██████████| 1/1 [00:00<00:00, 91.26it/s]\n",
      "Batches: 100%|██████████| 1/1 [00:00<00:00, 88.57it/s]\n",
      "Batches: 100%|██████████| 1/1 [00:00<00:00, 89.14it/s]\n",
      "Batches: 100%|██████████| 1/1 [00:00<00:00, 90.32it/s]\n",
      "Batches: 100%|██████████| 1/1 [00:00<00:00, 89.43it/s]\n",
      "Batches: 100%|██████████| 1/1 [00:00<00:00, 90.86it/s]\n",
      "Batches: 100%|██████████| 1/1 [00:00<00:00, 89.09it/s]\n",
      "Batches: 100%|██████████| 1/1 [00:00<00:00, 90.61it/s]\n",
      "Batches:   0%|          | 0/1 [00:00<?, ?it/s]"
     ]
    },
    {
     "name": "stdout",
     "output_type": "stream",
     "text": [
      "i :  777\n",
      "i :  778\n",
      "i :  779\n",
      "i :  780\n",
      "i :  781\n",
      "i :  782\n",
      "i :  783\n",
      "i :  784\n"
     ]
    },
    {
     "name": "stderr",
     "output_type": "stream",
     "text": [
      "Batches: 100%|██████████| 1/1 [00:00<00:00, 87.83it/s]\n",
      "Batches: 100%|██████████| 1/1 [00:00<00:00, 89.27it/s]\n",
      "Batches: 100%|██████████| 1/1 [00:00<00:00, 89.10it/s]\n",
      "Batches: 100%|██████████| 1/1 [00:00<00:00, 87.77it/s]\n",
      "Batches: 100%|██████████| 1/1 [00:00<00:00, 89.81it/s]\n",
      "Batches: 100%|██████████| 1/1 [00:00<00:00, 90.26it/s]\n",
      "Batches: 100%|██████████| 1/1 [00:00<00:00, 88.80it/s]\n",
      "Batches: 100%|██████████| 1/1 [00:00<00:00, 60.89it/s]\n",
      "Batches: 100%|██████████| 1/1 [00:00<00:00, 89.89it/s]\n",
      "Batches: 100%|██████████| 1/1 [00:00<00:00, 90.37it/s]\n",
      "Batches: 100%|██████████| 1/1 [00:00<00:00, 74.17it/s]\n",
      "Batches: 100%|██████████| 1/1 [00:00<00:00, 88.90it/s]\n",
      "Batches: 100%|██████████| 1/1 [00:00<00:00, 88.59it/s]\n",
      "Batches: 100%|██████████| 1/1 [00:00<00:00, 88.02it/s]\n",
      "Batches: 100%|██████████| 1/1 [00:00<00:00, 88.96it/s]\n",
      "Batches: 100%|██████████| 1/1 [00:00<00:00, 89.43it/s]\n",
      "Batches:   0%|          | 0/1 [00:00<?, ?it/s]"
     ]
    },
    {
     "name": "stdout",
     "output_type": "stream",
     "text": [
      "i :  785\n",
      "i :  786\n",
      "i :  787\n",
      "i :  788\n",
      "i :  789\n",
      "i :  790\n",
      "i :  791\n",
      "i :  792\n"
     ]
    },
    {
     "name": "stderr",
     "output_type": "stream",
     "text": [
      "Batches: 100%|██████████| 1/1 [00:00<00:00, 87.44it/s]\n",
      "Batches: 100%|██████████| 1/1 [00:00<00:00, 90.61it/s]\n",
      "Batches: 100%|██████████| 1/1 [00:00<00:00, 87.57it/s]\n",
      "Batches: 100%|██████████| 1/1 [00:00<00:00, 90.67it/s]\n",
      "Batches: 100%|██████████| 1/1 [00:00<00:00, 89.46it/s]\n",
      "Batches: 100%|██████████| 1/1 [00:00<00:00, 89.77it/s]\n",
      "Batches: 100%|██████████| 1/1 [00:00<00:00, 88.31it/s]\n",
      "Batches: 100%|██████████| 1/1 [00:00<00:00, 88.74it/s]\n",
      "Batches: 100%|██████████| 1/1 [00:00<00:00, 88.13it/s]\n",
      "Batches: 100%|██████████| 1/1 [00:00<00:00, 89.63it/s]\n",
      "Batches: 100%|██████████| 1/1 [00:00<00:00, 89.13it/s]\n",
      "Batches: 100%|██████████| 1/1 [00:00<00:00, 76.21it/s]\n",
      "Batches: 100%|██████████| 1/1 [00:00<00:00, 83.77it/s]\n",
      "Batches: 100%|██████████| 1/1 [00:00<00:00, 90.56it/s]\n",
      "Batches: 100%|██████████| 1/1 [00:00<00:00, 88.06it/s]\n",
      "Batches: 100%|██████████| 1/1 [00:00<00:00, 88.91it/s]\n",
      "Batches:   0%|          | 0/1 [00:00<?, ?it/s]"
     ]
    },
    {
     "name": "stdout",
     "output_type": "stream",
     "text": [
      "i :  793\n",
      "i :  794\n",
      "i :  795\n",
      "i :  796\n",
      "i :  797\n",
      "i :  798\n",
      "i :  799\n",
      "i :  800\n"
     ]
    },
    {
     "name": "stderr",
     "output_type": "stream",
     "text": [
      "Batches: 100%|██████████| 1/1 [00:00<00:00, 79.36it/s]\n",
      "Batches: 100%|██████████| 1/1 [00:00<00:00, 89.48it/s]\n",
      "Batches: 100%|██████████| 1/1 [00:00<00:00, 88.22it/s]\n",
      "Batches: 100%|██████████| 1/1 [00:00<00:00, 89.84it/s]\n",
      "Batches: 100%|██████████| 1/1 [00:00<00:00, 87.90it/s]\n",
      "Batches: 100%|██████████| 1/1 [00:00<00:00, 89.71it/s]\n",
      "Batches: 100%|██████████| 1/1 [00:00<00:00, 88.18it/s]\n",
      "Batches: 100%|██████████| 1/1 [00:00<00:00, 87.19it/s]\n",
      "Batches: 100%|██████████| 1/1 [00:00<00:00, 88.78it/s]\n",
      "Batches: 100%|██████████| 1/1 [00:00<00:00, 86.88it/s]\n",
      "Batches: 100%|██████████| 1/1 [00:00<00:00, 89.80it/s]\n",
      "Batches: 100%|██████████| 1/1 [00:00<00:00, 89.89it/s]\n",
      "Batches: 100%|██████████| 1/1 [00:00<00:00, 86.63it/s]\n",
      "Batches: 100%|██████████| 1/1 [00:00<00:00, 80.31it/s]\n",
      "Batches: 100%|██████████| 1/1 [00:00<00:00, 69.31it/s]\n",
      "Batches: 100%|██████████| 1/1 [00:00<00:00, 68.21it/s]\n",
      "Batches:   0%|          | 0/1 [00:00<?, ?it/s]"
     ]
    },
    {
     "name": "stdout",
     "output_type": "stream",
     "text": [
      "i :  801\n",
      "i :  802\n",
      "i :  803\n",
      "i :  804\n",
      "i :  805\n",
      "i :  806\n",
      "i :  807\n",
      "i :  808\n"
     ]
    },
    {
     "name": "stderr",
     "output_type": "stream",
     "text": [
      "Batches: 100%|██████████| 1/1 [00:00<00:00, 70.57it/s]\n",
      "Batches: 100%|██████████| 1/1 [00:00<00:00, 75.13it/s]\n",
      "Batches: 100%|██████████| 1/1 [00:00<00:00, 82.06it/s]\n",
      "Batches: 100%|██████████| 1/1 [00:00<00:00, 81.77it/s]\n",
      "Batches: 100%|██████████| 1/1 [00:00<00:00, 82.70it/s]\n",
      "Batches: 100%|██████████| 1/1 [00:00<00:00, 82.51it/s]\n",
      "Batches: 100%|██████████| 1/1 [00:00<00:00, 80.94it/s]\n",
      "Batches: 100%|██████████| 1/1 [00:00<00:00, 82.34it/s]\n",
      "Batches: 100%|██████████| 1/1 [00:00<00:00, 80.88it/s]\n",
      "Batches: 100%|██████████| 1/1 [00:00<00:00, 82.46it/s]\n",
      "Batches: 100%|██████████| 1/1 [00:00<00:00, 81.31it/s]\n",
      "Batches: 100%|██████████| 1/1 [00:00<00:00, 79.70it/s]\n",
      "Batches: 100%|██████████| 1/1 [00:00<00:00, 68.40it/s]\n",
      "Batches: 100%|██████████| 1/1 [00:00<00:00, 70.42it/s]\n",
      "Batches: 100%|██████████| 1/1 [00:00<00:00, 84.19it/s]\n",
      "Batches:   0%|          | 0/1 [00:00<?, ?it/s]"
     ]
    },
    {
     "name": "stdout",
     "output_type": "stream",
     "text": [
      "i :  809\n",
      "i :  810\n",
      "i :  811\n",
      "i :  812\n",
      "i :  813\n",
      "i :  814\n",
      "i :  815\n",
      "i :  816\n"
     ]
    },
    {
     "name": "stderr",
     "output_type": "stream",
     "text": [
      "Batches: 100%|██████████| 1/1 [00:00<00:00, 69.25it/s]\n",
      "Batches: 100%|██████████| 1/1 [00:00<00:00, 83.75it/s]\n",
      "Batches: 100%|██████████| 1/1 [00:00<00:00, 72.85it/s]\n",
      "Batches: 100%|██████████| 1/1 [00:00<00:00, 83.52it/s]\n",
      "Batches: 100%|██████████| 1/1 [00:00<00:00, 83.75it/s]\n",
      "Batches: 100%|██████████| 1/1 [00:00<00:00, 82.85it/s]\n",
      "Batches: 100%|██████████| 1/1 [00:00<00:00, 80.34it/s]\n",
      "Batches: 100%|██████████| 1/1 [00:00<00:00, 85.10it/s]\n",
      "Batches: 100%|██████████| 1/1 [00:00<00:00, 84.59it/s]\n",
      "Batches: 100%|██████████| 1/1 [00:00<00:00, 83.15it/s]\n",
      "Batches: 100%|██████████| 1/1 [00:00<00:00, 84.02it/s]\n",
      "Batches: 100%|██████████| 1/1 [00:00<00:00, 84.37it/s]\n",
      "Batches: 100%|██████████| 1/1 [00:00<00:00, 83.34it/s]\n",
      "Batches: 100%|██████████| 1/1 [00:00<00:00, 85.05it/s]\n",
      "Batches: 100%|██████████| 1/1 [00:00<00:00, 84.35it/s]\n",
      "Batches: 100%|██████████| 1/1 [00:00<00:00, 84.52it/s]\n",
      "Batches:   0%|          | 0/1 [00:00<?, ?it/s]"
     ]
    },
    {
     "name": "stdout",
     "output_type": "stream",
     "text": [
      "i :  817\n",
      "i :  818\n",
      "i :  819\n",
      "i :  820\n",
      "i :  821\n",
      "i :  822\n",
      "i :  823\n",
      "i :  824\n"
     ]
    },
    {
     "name": "stderr",
     "output_type": "stream",
     "text": [
      "Batches: 100%|██████████| 1/1 [00:00<00:00, 81.86it/s]\n",
      "Batches: 100%|██████████| 1/1 [00:00<00:00, 83.93it/s]\n",
      "Batches: 100%|██████████| 1/1 [00:00<00:00, 82.47it/s]\n",
      "Batches: 100%|██████████| 1/1 [00:00<00:00, 83.47it/s]\n",
      "Batches: 100%|██████████| 1/1 [00:00<00:00, 84.81it/s]\n",
      "Batches: 100%|██████████| 1/1 [00:00<00:00, 84.59it/s]\n",
      "Batches: 100%|██████████| 1/1 [00:00<00:00, 83.64it/s]\n",
      "Batches: 100%|██████████| 1/1 [00:00<00:00, 85.06it/s]\n",
      "Batches: 100%|██████████| 1/1 [00:00<00:00, 84.36it/s]\n",
      "Batches: 100%|██████████| 1/1 [00:00<00:00, 84.84it/s]\n",
      "Batches: 100%|██████████| 1/1 [00:00<00:00, 83.92it/s]\n",
      "Batches: 100%|██████████| 1/1 [00:00<00:00, 89.14it/s]\n",
      "Batches: 100%|██████████| 1/1 [00:00<00:00, 87.74it/s]\n",
      "Batches: 100%|██████████| 1/1 [00:00<00:00, 74.69it/s]\n",
      "Batches: 100%|██████████| 1/1 [00:00<00:00, 89.70it/s]\n",
      "Batches: 100%|██████████| 1/1 [00:00<00:00, 75.04it/s]\n",
      "Batches: 100%|██████████| 1/1 [00:00<00:00, 87.69it/s]"
     ]
    },
    {
     "name": "stdout",
     "output_type": "stream",
     "text": [
      "i :  825\n",
      "i :  826\n",
      "i :  827\n",
      "i :  828\n",
      "i :  829\n",
      "i :  830\n",
      "i :  831\n",
      "i :  832\n"
     ]
    },
    {
     "name": "stderr",
     "output_type": "stream",
     "text": [
      "\n",
      "Batches: 100%|██████████| 1/1 [00:00<00:00, 88.45it/s]\n",
      "Batches: 100%|██████████| 1/1 [00:00<00:00, 72.34it/s]\n",
      "Batches: 100%|██████████| 1/1 [00:00<00:00, 90.15it/s]\n",
      "Batches: 100%|██████████| 1/1 [00:00<00:00, 76.79it/s]\n",
      "Batches: 100%|██████████| 1/1 [00:00<00:00, 89.45it/s]\n",
      "Batches: 100%|██████████| 1/1 [00:00<00:00, 74.37it/s]\n",
      "Batches: 100%|██████████| 1/1 [00:00<00:00, 90.85it/s]\n",
      "Batches: 100%|██████████| 1/1 [00:00<00:00, 86.59it/s]\n",
      "Batches: 100%|██████████| 1/1 [00:00<00:00, 88.01it/s]\n",
      "Batches: 100%|██████████| 1/1 [00:00<00:00, 87.06it/s]\n",
      "Batches: 100%|██████████| 1/1 [00:00<00:00, 87.94it/s]\n",
      "Batches: 100%|██████████| 1/1 [00:00<00:00, 86.22it/s]\n",
      "Batches: 100%|██████████| 1/1 [00:00<00:00, 83.54it/s]\n",
      "Batches: 100%|██████████| 1/1 [00:00<00:00, 72.48it/s]\n",
      "Batches: 100%|██████████| 1/1 [00:00<00:00, 84.27it/s]\n",
      "Batches: 100%|██████████| 1/1 [00:00<00:00, 84.91it/s]\n"
     ]
    },
    {
     "name": "stdout",
     "output_type": "stream",
     "text": [
      "i :  833\n",
      "i :  834\n",
      "i :  835\n",
      "i :  836\n",
      "i :  837\n",
      "i :  838\n",
      "i :  839\n",
      "i :  840\n"
     ]
    },
    {
     "name": "stderr",
     "output_type": "stream",
     "text": [
      "Batches: 100%|██████████| 1/1 [00:00<00:00, 82.04it/s]\n",
      "Batches: 100%|██████████| 1/1 [00:00<00:00, 69.91it/s]\n",
      "Batches: 100%|██████████| 1/1 [00:00<00:00, 85.57it/s]\n",
      "Batches: 100%|██████████| 1/1 [00:00<00:00, 81.19it/s]\n",
      "Batches: 100%|██████████| 1/1 [00:00<00:00, 89.96it/s]\n",
      "Batches: 100%|██████████| 1/1 [00:00<00:00, 88.29it/s]\n",
      "Batches: 100%|██████████| 1/1 [00:00<00:00, 88.19it/s]\n",
      "Batches: 100%|██████████| 1/1 [00:00<00:00, 76.58it/s]\n",
      "Batches: 100%|██████████| 1/1 [00:00<00:00, 89.31it/s]\n",
      "Batches: 100%|██████████| 1/1 [00:00<00:00, 77.44it/s]\n",
      "Batches: 100%|██████████| 1/1 [00:00<00:00, 83.81it/s]\n",
      "Batches: 100%|██████████| 1/1 [00:00<00:00, 82.44it/s]\n",
      "Batches: 100%|██████████| 1/1 [00:00<00:00, 90.04it/s]\n",
      "Batches: 100%|██████████| 1/1 [00:00<00:00, 75.19it/s]\n",
      "Batches: 100%|██████████| 1/1 [00:00<00:00, 89.60it/s]\n",
      "Batches:   0%|          | 0/1 [00:00<?, ?it/s]"
     ]
    },
    {
     "name": "stdout",
     "output_type": "stream",
     "text": [
      "i :  841\n",
      "i :  842\n",
      "i :  843\n",
      "i :  844\n",
      "i :  845\n",
      "i :  846\n",
      "i :  847\n",
      "i :  848\n"
     ]
    },
    {
     "name": "stderr",
     "output_type": "stream",
     "text": [
      "Batches: 100%|██████████| 1/1 [00:00<00:00, 75.11it/s]\n",
      "Batches: 100%|██████████| 1/1 [00:00<00:00, 84.46it/s]\n",
      "Batches: 100%|██████████| 1/1 [00:00<00:00, 87.48it/s]\n",
      "Batches: 100%|██████████| 1/1 [00:00<00:00, 88.15it/s]\n",
      "Batches: 100%|██████████| 1/1 [00:00<00:00, 87.32it/s]\n",
      "Batches: 100%|██████████| 1/1 [00:00<00:00, 89.34it/s]\n",
      "Batches: 100%|██████████| 1/1 [00:00<00:00, 87.00it/s]\n",
      "Batches: 100%|██████████| 1/1 [00:00<00:00, 88.57it/s]\n",
      "Batches: 100%|██████████| 1/1 [00:00<00:00, 89.94it/s]\n",
      "Batches: 100%|██████████| 1/1 [00:00<00:00, 88.13it/s]\n",
      "Batches: 100%|██████████| 1/1 [00:00<00:00, 90.53it/s]\n",
      "Batches: 100%|██████████| 1/1 [00:00<00:00, 88.82it/s]\n",
      "Batches: 100%|██████████| 1/1 [00:00<00:00, 89.45it/s]\n",
      "Batches: 100%|██████████| 1/1 [00:00<00:00, 88.51it/s]\n",
      "Batches: 100%|██████████| 1/1 [00:00<00:00, 90.33it/s]\n",
      "Batches: 100%|██████████| 1/1 [00:00<00:00, 90.58it/s]\n",
      "Batches: 100%|██████████| 1/1 [00:00<00:00, 89.69it/s]\n",
      "Batches: 100%|██████████| 1/1 [00:00<00:00, 87.17it/s]\n"
     ]
    },
    {
     "name": "stdout",
     "output_type": "stream",
     "text": [
      "i :  849\n",
      "i :  850\n",
      "i :  851\n",
      "i :  852\n",
      "i :  853\n",
      "i :  854\n",
      "i :  855\n",
      "i :  856\n",
      "i :  857\n"
     ]
    },
    {
     "name": "stderr",
     "output_type": "stream",
     "text": [
      "Batches: 100%|██████████| 1/1 [00:00<00:00, 85.55it/s]\n",
      "Batches: 100%|██████████| 1/1 [00:00<00:00, 88.36it/s]\n",
      "Batches: 100%|██████████| 1/1 [00:00<00:00, 89.90it/s]\n",
      "Batches: 100%|██████████| 1/1 [00:00<00:00, 87.43it/s]\n",
      "Batches: 100%|██████████| 1/1 [00:00<00:00, 90.12it/s]\n",
      "Batches: 100%|██████████| 1/1 [00:00<00:00, 55.51it/s]\n",
      "Batches: 100%|██████████| 1/1 [00:00<00:00, 90.45it/s]\n",
      "Batches: 100%|██████████| 1/1 [00:00<00:00, 88.83it/s]\n",
      "Batches: 100%|██████████| 1/1 [00:00<00:00, 87.39it/s]\n",
      "Batches: 100%|██████████| 1/1 [00:00<00:00, 89.08it/s]\n",
      "Batches: 100%|██████████| 1/1 [00:00<00:00, 89.43it/s]\n",
      "Batches: 100%|██████████| 1/1 [00:00<00:00, 89.22it/s]\n",
      "Batches: 100%|██████████| 1/1 [00:00<00:00, 89.83it/s]\n",
      "Batches: 100%|██████████| 1/1 [00:00<00:00, 91.00it/s]\n",
      "Batches: 100%|██████████| 1/1 [00:00<00:00, 87.06it/s]\n",
      "Batches: 100%|██████████| 1/1 [00:00<00:00, 88.18it/s]\n",
      "Batches: 100%|██████████| 1/1 [00:00<00:00, 89.47it/s]\n",
      "Batches:   0%|          | 0/1 [00:00<?, ?it/s]"
     ]
    },
    {
     "name": "stdout",
     "output_type": "stream",
     "text": [
      "i :  858\n",
      "i :  859\n",
      "i :  860\n",
      "i :  861\n",
      "i :  862\n",
      "i :  863\n",
      "i :  864\n",
      "i :  865\n"
     ]
    },
    {
     "name": "stderr",
     "output_type": "stream",
     "text": [
      "Batches: 100%|██████████| 1/1 [00:00<00:00, 87.24it/s]\n",
      "Batches: 100%|██████████| 1/1 [00:00<00:00, 87.97it/s]\n",
      "Batches: 100%|██████████| 1/1 [00:00<00:00, 89.76it/s]\n",
      "Batches: 100%|██████████| 1/1 [00:00<00:00, 86.16it/s]\n",
      "Batches: 100%|██████████| 1/1 [00:00<00:00, 88.55it/s]\n",
      "Batches: 100%|██████████| 1/1 [00:00<00:00, 85.47it/s]\n",
      "Batches: 100%|██████████| 1/1 [00:00<00:00, 87.33it/s]\n",
      "Batches: 100%|██████████| 1/1 [00:00<00:00, 65.12it/s]\n",
      "Batches: 100%|██████████| 1/1 [00:00<00:00, 89.09it/s]\n",
      "Batches: 100%|██████████| 1/1 [00:00<00:00, 91.00it/s]\n",
      "Batches: 100%|██████████| 1/1 [00:00<00:00, 89.47it/s]\n",
      "Batches: 100%|██████████| 1/1 [00:00<00:00, 90.55it/s]\n",
      "Batches: 100%|██████████| 1/1 [00:00<00:00, 88.66it/s]\n",
      "Batches: 100%|██████████| 1/1 [00:00<00:00, 68.10it/s]\n",
      "Batches: 100%|██████████| 1/1 [00:00<00:00, 82.79it/s]\n",
      "Batches: 100%|██████████| 1/1 [00:00<00:00, 90.88it/s]\n",
      "Batches:   0%|          | 0/1 [00:00<?, ?it/s]"
     ]
    },
    {
     "name": "stdout",
     "output_type": "stream",
     "text": [
      "i :  866\n",
      "i :  867\n",
      "i :  868\n",
      "i :  869\n",
      "i :  870\n",
      "i :  871\n",
      "i :  872\n",
      "i :  873\n"
     ]
    },
    {
     "name": "stderr",
     "output_type": "stream",
     "text": [
      "Batches: 100%|██████████| 1/1 [00:00<00:00, 90.28it/s]\n",
      "Batches: 100%|██████████| 1/1 [00:00<00:00, 91.10it/s]\n",
      "Batches: 100%|██████████| 1/1 [00:00<00:00, 91.48it/s]\n",
      "Batches: 100%|██████████| 1/1 [00:00<00:00, 91.96it/s]\n",
      "Batches: 100%|██████████| 1/1 [00:00<00:00, 91.70it/s]\n",
      "Batches: 100%|██████████| 1/1 [00:00<00:00, 90.99it/s]\n",
      "Batches: 100%|██████████| 1/1 [00:00<00:00, 91.43it/s]\n",
      "Batches: 100%|██████████| 1/1 [00:00<00:00, 89.48it/s]\n",
      "Batches: 100%|██████████| 1/1 [00:00<00:00, 89.25it/s]\n",
      "Batches: 100%|██████████| 1/1 [00:00<00:00, 88.95it/s]\n",
      "Batches: 100%|██████████| 1/1 [00:00<00:00, 89.92it/s]\n",
      "Batches: 100%|██████████| 1/1 [00:00<00:00, 89.48it/s]\n",
      "Batches: 100%|██████████| 1/1 [00:00<00:00, 57.75it/s]\n",
      "Batches: 100%|██████████| 1/1 [00:00<00:00, 89.55it/s]\n",
      "Batches: 100%|██████████| 1/1 [00:00<00:00, 90.08it/s]\n",
      "Batches: 100%|██████████| 1/1 [00:00<00:00, 89.55it/s]\n",
      "Batches: 100%|██████████| 1/1 [00:00<00:00, 89.78it/s]\n",
      "Batches:   0%|          | 0/1 [00:00<?, ?it/s]"
     ]
    },
    {
     "name": "stdout",
     "output_type": "stream",
     "text": [
      "i :  874\n",
      "i :  875\n",
      "i :  876\n",
      "i :  877\n",
      "i :  878\n",
      "i :  879\n",
      "i :  880\n",
      "i :  881\n",
      "i :  882\n"
     ]
    },
    {
     "name": "stderr",
     "output_type": "stream",
     "text": [
      "Batches: 100%|██████████| 1/1 [00:00<00:00, 87.68it/s]\n",
      "Batches: 100%|██████████| 1/1 [00:00<00:00, 88.93it/s]\n",
      "Batches: 100%|██████████| 1/1 [00:00<00:00, 86.92it/s]\n",
      "Batches: 100%|██████████| 1/1 [00:00<00:00, 91.19it/s]\n",
      "Batches: 100%|██████████| 1/1 [00:00<00:00, 90.59it/s]\n",
      "Batches: 100%|██████████| 1/1 [00:00<00:00, 89.38it/s]\n",
      "Batches: 100%|██████████| 1/1 [00:00<00:00, 90.53it/s]\n",
      "Batches: 100%|██████████| 1/1 [00:00<00:00, 84.11it/s]\n",
      "Batches: 100%|██████████| 1/1 [00:00<00:00, 86.96it/s]\n",
      "Batches: 100%|██████████| 1/1 [00:00<00:00, 90.64it/s]\n",
      "Batches: 100%|██████████| 1/1 [00:00<00:00, 90.22it/s]\n",
      "Batches: 100%|██████████| 1/1 [00:00<00:00, 91.45it/s]\n",
      "Batches: 100%|██████████| 1/1 [00:00<00:00, 90.97it/s]\n",
      "Batches: 100%|██████████| 1/1 [00:00<00:00, 89.68it/s]\n",
      "Batches: 100%|██████████| 1/1 [00:00<00:00, 76.56it/s]\n",
      "Batches: 100%|██████████| 1/1 [00:00<00:00, 92.16it/s]\n",
      "Batches: 100%|██████████| 1/1 [00:00<00:00, 93.15it/s]\n",
      "Batches:   0%|          | 0/1 [00:00<?, ?it/s]"
     ]
    },
    {
     "name": "stdout",
     "output_type": "stream",
     "text": [
      "i :  883\n",
      "i :  884\n",
      "i :  885\n",
      "i :  886\n",
      "i :  887\n",
      "i :  888\n",
      "i :  889\n",
      "i :  890\n"
     ]
    },
    {
     "name": "stderr",
     "output_type": "stream",
     "text": [
      "Batches: 100%|██████████| 1/1 [00:00<00:00, 87.81it/s]\n",
      "Batches: 100%|██████████| 1/1 [00:00<00:00, 80.37it/s]\n",
      "Batches: 100%|██████████| 1/1 [00:00<00:00, 87.28it/s]\n",
      "Batches: 100%|██████████| 1/1 [00:00<00:00, 89.71it/s]\n",
      "Batches: 100%|██████████| 1/1 [00:00<00:00, 91.72it/s]\n",
      "Batches: 100%|██████████| 1/1 [00:00<00:00, 93.04it/s]\n",
      "Batches: 100%|██████████| 1/1 [00:00<00:00, 92.54it/s]\n",
      "Batches: 100%|██████████| 1/1 [00:00<00:00, 90.25it/s]\n",
      "Batches: 100%|██████████| 1/1 [00:00<00:00, 90.04it/s]\n",
      "Batches: 100%|██████████| 1/1 [00:00<00:00, 90.01it/s]\n",
      "Batches: 100%|██████████| 1/1 [00:00<00:00, 91.04it/s]\n",
      "Batches: 100%|██████████| 1/1 [00:00<00:00, 91.42it/s]\n",
      "Batches: 100%|██████████| 1/1 [00:00<00:00, 90.22it/s]\n",
      "Batches: 100%|██████████| 1/1 [00:00<00:00, 92.47it/s]\n",
      "Batches: 100%|██████████| 1/1 [00:00<00:00, 90.58it/s]\n",
      "Batches: 100%|██████████| 1/1 [00:00<00:00, 61.04it/s]\n",
      "Batches:   0%|          | 0/1 [00:00<?, ?it/s]"
     ]
    },
    {
     "name": "stdout",
     "output_type": "stream",
     "text": [
      "i :  891\n",
      "i :  892\n",
      "i :  893\n",
      "i :  894\n",
      "i :  895\n",
      "i :  896\n",
      "i :  897\n",
      "i :  898\n"
     ]
    },
    {
     "name": "stderr",
     "output_type": "stream",
     "text": [
      "Batches: 100%|██████████| 1/1 [00:00<00:00, 87.70it/s]\n",
      "Batches: 100%|██████████| 1/1 [00:00<00:00, 71.94it/s]\n",
      "Batches: 100%|██████████| 1/1 [00:00<00:00, 89.72it/s]\n",
      "Batches: 100%|██████████| 1/1 [00:00<00:00, 90.09it/s]\n",
      "Batches: 100%|██████████| 1/1 [00:00<00:00, 90.11it/s]\n",
      "Batches: 100%|██████████| 1/1 [00:00<00:00, 86.34it/s]\n",
      "Batches: 100%|██████████| 1/1 [00:00<00:00, 89.85it/s]\n",
      "Batches: 100%|██████████| 1/1 [00:00<00:00, 88.00it/s]\n",
      "Batches: 100%|██████████| 1/1 [00:00<00:00, 88.15it/s]\n",
      "Batches: 100%|██████████| 1/1 [00:00<00:00, 90.77it/s]\n",
      "Batches: 100%|██████████| 1/1 [00:00<00:00, 88.90it/s]\n",
      "Batches: 100%|██████████| 1/1 [00:00<00:00, 87.83it/s]\n",
      "Batches: 100%|██████████| 1/1 [00:00<00:00, 90.95it/s]\n",
      "Batches: 100%|██████████| 1/1 [00:00<00:00, 90.17it/s]\n",
      "Batches: 100%|██████████| 1/1 [00:00<00:00, 89.06it/s]\n",
      "Batches: 100%|██████████| 1/1 [00:00<00:00, 90.67it/s]\n",
      "Batches:   0%|          | 0/1 [00:00<?, ?it/s]"
     ]
    },
    {
     "name": "stdout",
     "output_type": "stream",
     "text": [
      "i :  899\n",
      "i :  900\n",
      "i :  901\n",
      "i :  902\n",
      "i :  903\n",
      "i :  904\n",
      "i :  905\n",
      "i :  906\n"
     ]
    },
    {
     "name": "stderr",
     "output_type": "stream",
     "text": [
      "Batches: 100%|██████████| 1/1 [00:00<00:00, 87.33it/s]\n",
      "Batches: 100%|██████████| 1/1 [00:00<00:00, 75.94it/s]\n",
      "Batches: 100%|██████████| 1/1 [00:00<00:00, 89.98it/s]\n",
      "Batches: 100%|██████████| 1/1 [00:00<00:00, 88.04it/s]\n",
      "Batches: 100%|██████████| 1/1 [00:00<00:00, 91.46it/s]\n",
      "Batches: 100%|██████████| 1/1 [00:00<00:00, 86.92it/s]\n",
      "Batches: 100%|██████████| 1/1 [00:00<00:00, 91.10it/s]\n",
      "Batches: 100%|██████████| 1/1 [00:00<00:00, 87.97it/s]\n",
      "Batches: 100%|██████████| 1/1 [00:00<00:00, 89.17it/s]\n",
      "Batches: 100%|██████████| 1/1 [00:00<00:00, 88.14it/s]\n",
      "Batches: 100%|██████████| 1/1 [00:00<00:00, 89.81it/s]\n",
      "Batches: 100%|██████████| 1/1 [00:00<00:00, 86.71it/s]\n",
      "Batches: 100%|██████████| 1/1 [00:00<00:00, 89.58it/s]\n",
      "Batches: 100%|██████████| 1/1 [00:00<00:00, 88.18it/s]\n",
      "Batches: 100%|██████████| 1/1 [00:00<00:00, 88.60it/s]\n",
      "Batches: 100%|██████████| 1/1 [00:00<00:00, 88.01it/s]\n",
      "Batches: 100%|██████████| 1/1 [00:00<00:00, 88.76it/s]\n"
     ]
    },
    {
     "name": "stdout",
     "output_type": "stream",
     "text": [
      "i :  907\n",
      "i :  908\n",
      "i :  909\n",
      "i :  910\n",
      "i :  911\n",
      "i :  912\n",
      "i :  913\n",
      "i :  914\n"
     ]
    },
    {
     "name": "stderr",
     "output_type": "stream",
     "text": [
      "Batches: 100%|██████████| 1/1 [00:00<00:00, 71.53it/s]\n",
      "Batches: 100%|██████████| 1/1 [00:00<00:00, 89.21it/s]\n",
      "Batches: 100%|██████████| 1/1 [00:00<00:00, 87.09it/s]\n",
      "Batches: 100%|██████████| 1/1 [00:00<00:00, 88.82it/s]\n",
      "Batches: 100%|██████████| 1/1 [00:00<00:00, 87.04it/s]\n",
      "Batches: 100%|██████████| 1/1 [00:00<00:00, 88.66it/s]\n",
      "Batches: 100%|██████████| 1/1 [00:00<00:00, 90.15it/s]\n",
      "Batches: 100%|██████████| 1/1 [00:00<00:00, 88.15it/s]\n",
      "Batches: 100%|██████████| 1/1 [00:00<00:00, 87.19it/s]\n",
      "Batches: 100%|██████████| 1/1 [00:00<00:00, 87.39it/s]\n",
      "Batches: 100%|██████████| 1/1 [00:00<00:00, 86.58it/s]\n",
      "Batches: 100%|██████████| 1/1 [00:00<00:00, 89.47it/s]\n",
      "Batches: 100%|██████████| 1/1 [00:00<00:00, 87.54it/s]\n",
      "Batches: 100%|██████████| 1/1 [00:00<00:00, 87.40it/s]\n",
      "Batches: 100%|██████████| 1/1 [00:00<00:00, 88.57it/s]\n",
      "Batches: 100%|██████████| 1/1 [00:00<00:00, 89.69it/s]\n",
      "Batches: 100%|██████████| 1/1 [00:00<00:00, 86.87it/s]\n",
      "Batches: 100%|██████████| 1/1 [00:00<00:00, 88.02it/s]\n",
      "Batches:   0%|          | 0/1 [00:00<?, ?it/s]"
     ]
    },
    {
     "name": "stdout",
     "output_type": "stream",
     "text": [
      "i :  915\n",
      "i :  916\n",
      "i :  917\n",
      "i :  918\n",
      "i :  919\n",
      "i :  920\n",
      "i :  921\n",
      "i :  922\n",
      "i :  923\n",
      "i :  924\n"
     ]
    },
    {
     "name": "stderr",
     "output_type": "stream",
     "text": [
      "Batches: 100%|██████████| 1/1 [00:00<00:00, 86.21it/s]\n",
      "Batches: 100%|██████████| 1/1 [00:00<00:00, 89.08it/s]\n",
      "Batches: 100%|██████████| 1/1 [00:00<00:00, 75.66it/s]\n",
      "Batches: 100%|██████████| 1/1 [00:00<00:00, 83.37it/s]\n",
      "Batches: 100%|██████████| 1/1 [00:00<00:00, 86.50it/s]\n",
      "Batches: 100%|██████████| 1/1 [00:00<00:00, 88.66it/s]\n",
      "Batches: 100%|██████████| 1/1 [00:00<00:00, 82.57it/s]\n",
      "Batches: 100%|██████████| 1/1 [00:00<00:00, 60.02it/s]\n",
      "Batches: 100%|██████████| 1/1 [00:00<00:00, 87.50it/s]\n",
      "Batches: 100%|██████████| 1/1 [00:00<00:00, 88.63it/s]\n",
      "Batches: 100%|██████████| 1/1 [00:00<00:00, 91.14it/s]\n",
      "Batches: 100%|██████████| 1/1 [00:00<00:00, 90.55it/s]\n",
      "Batches: 100%|██████████| 1/1 [00:00<00:00, 90.79it/s]\n",
      "Batches: 100%|██████████| 1/1 [00:00<00:00, 88.91it/s]\n",
      "Batches: 100%|██████████| 1/1 [00:00<00:00, 88.48it/s]\n",
      "Batches: 100%|██████████| 1/1 [00:00<00:00, 89.39it/s]\n",
      "Batches: 100%|██████████| 1/1 [00:00<00:00, 87.25it/s]\n",
      "Batches:   0%|          | 0/1 [00:00<?, ?it/s]"
     ]
    },
    {
     "name": "stdout",
     "output_type": "stream",
     "text": [
      "i :  925\n",
      "i :  926\n",
      "i :  927\n",
      "i :  928\n",
      "i :  929\n",
      "i :  930\n",
      "i :  931\n",
      "i :  932\n"
     ]
    },
    {
     "name": "stderr",
     "output_type": "stream",
     "text": [
      "Batches: 100%|██████████| 1/1 [00:00<00:00, 86.72it/s]\n",
      "Batches: 100%|██████████| 1/1 [00:00<00:00, 90.14it/s]\n",
      "Batches: 100%|██████████| 1/1 [00:00<00:00, 89.27it/s]\n",
      "Batches: 100%|██████████| 1/1 [00:00<00:00, 87.66it/s]\n",
      "Batches: 100%|██████████| 1/1 [00:00<00:00, 89.32it/s]\n",
      "Batches: 100%|██████████| 1/1 [00:00<00:00, 89.61it/s]\n",
      "Batches: 100%|██████████| 1/1 [00:00<00:00, 86.84it/s]\n",
      "Batches: 100%|██████████| 1/1 [00:00<00:00, 78.55it/s]\n",
      "Batches: 100%|██████████| 1/1 [00:00<00:00, 81.24it/s]\n",
      "Batches: 100%|██████████| 1/1 [00:00<00:00, 89.07it/s]\n",
      "Batches: 100%|██████████| 1/1 [00:00<00:00, 88.86it/s]\n",
      "Batches: 100%|██████████| 1/1 [00:00<00:00, 88.37it/s]\n",
      "Batches: 100%|██████████| 1/1 [00:00<00:00, 89.34it/s]\n",
      "Batches: 100%|██████████| 1/1 [00:00<00:00, 90.88it/s]\n",
      "Batches: 100%|██████████| 1/1 [00:00<00:00, 89.05it/s]\n",
      "Batches: 100%|██████████| 1/1 [00:00<00:00, 88.06it/s]\n",
      "Batches:   0%|          | 0/1 [00:00<?, ?it/s]"
     ]
    },
    {
     "name": "stdout",
     "output_type": "stream",
     "text": [
      "i :  933\n",
      "i :  934\n",
      "i :  935\n",
      "i :  936\n",
      "i :  937\n",
      "i :  938\n",
      "i :  939\n",
      "i :  940\n"
     ]
    },
    {
     "name": "stderr",
     "output_type": "stream",
     "text": [
      "Batches: 100%|██████████| 1/1 [00:00<00:00, 87.26it/s]\n",
      "Batches: 100%|██████████| 1/1 [00:00<00:00, 90.59it/s]\n",
      "Batches: 100%|██████████| 1/1 [00:00<00:00, 89.29it/s]\n",
      "Batches: 100%|██████████| 1/1 [00:00<00:00, 90.81it/s]\n",
      "Batches: 100%|██████████| 1/1 [00:00<00:00, 89.46it/s]\n",
      "Batches: 100%|██████████| 1/1 [00:00<00:00, 87.88it/s]\n",
      "Batches: 100%|██████████| 1/1 [00:00<00:00, 89.51it/s]\n",
      "Batches: 100%|██████████| 1/1 [00:00<00:00, 74.75it/s]\n",
      "Batches: 100%|██████████| 1/1 [00:00<00:00, 88.89it/s]\n",
      "Batches: 100%|██████████| 1/1 [00:00<00:00, 87.23it/s]\n",
      "Batches: 100%|██████████| 1/1 [00:00<00:00, 88.13it/s]\n",
      "Batches: 100%|██████████| 1/1 [00:00<00:00, 76.36it/s]\n",
      "Batches: 100%|██████████| 1/1 [00:00<00:00, 88.81it/s]\n",
      "Batches: 100%|██████████| 1/1 [00:00<00:00, 89.66it/s]\n",
      "Batches: 100%|██████████| 1/1 [00:00<00:00, 90.96it/s]\n",
      "Batches: 100%|██████████| 1/1 [00:00<00:00, 90.56it/s]\n",
      "Batches:   0%|          | 0/1 [00:00<?, ?it/s]"
     ]
    },
    {
     "name": "stdout",
     "output_type": "stream",
     "text": [
      "i :  941\n",
      "i :  942\n",
      "i :  943\n",
      "i :  944\n",
      "i :  945\n",
      "i :  946\n",
      "i :  947\n",
      "i :  948\n"
     ]
    },
    {
     "name": "stderr",
     "output_type": "stream",
     "text": [
      "Batches: 100%|██████████| 1/1 [00:00<00:00, 86.15it/s]\n",
      "Batches: 100%|██████████| 1/1 [00:00<00:00, 73.15it/s]\n",
      "Batches: 100%|██████████| 1/1 [00:00<00:00, 88.78it/s]\n",
      "Batches: 100%|██████████| 1/1 [00:00<00:00, 90.88it/s]\n",
      "Batches: 100%|██████████| 1/1 [00:00<00:00, 89.55it/s]\n",
      "Batches: 100%|██████████| 1/1 [00:00<00:00, 90.42it/s]\n",
      "Batches: 100%|██████████| 1/1 [00:00<00:00, 89.42it/s]\n",
      "Batches: 100%|██████████| 1/1 [00:00<00:00, 87.66it/s]\n",
      "Batches: 100%|██████████| 1/1 [00:00<00:00, 88.37it/s]\n",
      "Batches: 100%|██████████| 1/1 [00:00<00:00, 90.21it/s]\n",
      "Batches: 100%|██████████| 1/1 [00:00<00:00, 88.99it/s]\n",
      "Batches: 100%|██████████| 1/1 [00:00<00:00, 88.38it/s]\n",
      "Batches: 100%|██████████| 1/1 [00:00<00:00, 88.19it/s]\n",
      "Batches: 100%|██████████| 1/1 [00:00<00:00, 73.14it/s]\n",
      "Batches: 100%|██████████| 1/1 [00:00<00:00, 88.95it/s]\n",
      "Batches: 100%|██████████| 1/1 [00:00<00:00, 90.47it/s]\n",
      "Batches:   0%|          | 0/1 [00:00<?, ?it/s]"
     ]
    },
    {
     "name": "stdout",
     "output_type": "stream",
     "text": [
      "i :  949\n",
      "i :  950\n",
      "i :  951\n",
      "i :  952\n",
      "i :  953\n",
      "i :  954\n",
      "i :  955\n",
      "i :  956\n"
     ]
    },
    {
     "name": "stderr",
     "output_type": "stream",
     "text": [
      "Batches: 100%|██████████| 1/1 [00:00<00:00, 86.57it/s]\n",
      "Batches: 100%|██████████| 1/1 [00:00<00:00, 87.62it/s]\n",
      "Batches: 100%|██████████| 1/1 [00:00<00:00, 90.58it/s]\n",
      "Batches: 100%|██████████| 1/1 [00:00<00:00, 88.69it/s]\n",
      "Batches: 100%|██████████| 1/1 [00:00<00:00, 91.18it/s]\n",
      "Batches: 100%|██████████| 1/1 [00:00<00:00, 87.94it/s]\n",
      "Batches: 100%|██████████| 1/1 [00:00<00:00, 89.66it/s]\n",
      "Batches: 100%|██████████| 1/1 [00:00<00:00, 90.67it/s]\n",
      "Batches: 100%|██████████| 1/1 [00:00<00:00, 89.24it/s]\n",
      "Batches: 100%|██████████| 1/1 [00:00<00:00, 90.38it/s]\n",
      "Batches: 100%|██████████| 1/1 [00:00<00:00, 89.53it/s]\n",
      "Batches: 100%|██████████| 1/1 [00:00<00:00, 90.75it/s]\n",
      "Batches: 100%|██████████| 1/1 [00:00<00:00, 90.04it/s]\n",
      "Batches: 100%|██████████| 1/1 [00:00<00:00, 76.67it/s]\n",
      "Batches: 100%|██████████| 1/1 [00:00<00:00, 84.00it/s]\n",
      "Batches: 100%|██████████| 1/1 [00:00<00:00, 88.95it/s]\n",
      "Batches: 100%|██████████| 1/1 [00:00<00:00, 89.27it/s]\n",
      "Batches:   0%|          | 0/1 [00:00<?, ?it/s]"
     ]
    },
    {
     "name": "stdout",
     "output_type": "stream",
     "text": [
      "i :  957\n",
      "i :  958\n",
      "i :  959\n",
      "i :  960\n",
      "i :  961\n",
      "i :  962\n",
      "i :  963\n",
      "i :  964\n",
      "i :  965\n"
     ]
    },
    {
     "name": "stderr",
     "output_type": "stream",
     "text": [
      "Batches: 100%|██████████| 1/1 [00:00<00:00, 73.82it/s]\n",
      "Batches: 100%|██████████| 1/1 [00:00<00:00, 89.20it/s]\n",
      "Batches: 100%|██████████| 1/1 [00:00<00:00, 87.71it/s]\n",
      "Batches: 100%|██████████| 1/1 [00:00<00:00, 89.55it/s]\n",
      "Batches: 100%|██████████| 1/1 [00:00<00:00, 90.32it/s]\n",
      "Batches: 100%|██████████| 1/1 [00:00<00:00, 91.36it/s]\n",
      "Batches: 100%|██████████| 1/1 [00:00<00:00, 87.92it/s]\n",
      "Batches: 100%|██████████| 1/1 [00:00<00:00, 89.81it/s]\n",
      "Batches: 100%|██████████| 1/1 [00:00<00:00, 88.10it/s]\n",
      "Batches: 100%|██████████| 1/1 [00:00<00:00, 89.33it/s]\n",
      "Batches: 100%|██████████| 1/1 [00:00<00:00, 88.66it/s]\n",
      "Batches: 100%|██████████| 1/1 [00:00<00:00, 88.56it/s]\n",
      "Batches: 100%|██████████| 1/1 [00:00<00:00, 91.13it/s]\n",
      "Batches: 100%|██████████| 1/1 [00:00<00:00, 90.23it/s]\n",
      "Batches: 100%|██████████| 1/1 [00:00<00:00, 77.66it/s]\n",
      "Batches: 100%|██████████| 1/1 [00:00<00:00, 83.46it/s]\n",
      "Batches: 100%|██████████| 1/1 [00:00<00:00, 88.42it/s]\n",
      "Batches: 100%|██████████| 1/1 [00:00<00:00, 88.77it/s]\n"
     ]
    },
    {
     "name": "stdout",
     "output_type": "stream",
     "text": [
      "i :  966\n",
      "i :  967\n",
      "i :  968\n",
      "i :  969\n",
      "i :  970\n",
      "i :  971\n",
      "i :  972\n",
      "i :  973\n",
      "i :  974\n"
     ]
    },
    {
     "name": "stderr",
     "output_type": "stream",
     "text": [
      "Batches: 100%|██████████| 1/1 [00:00<00:00, 72.02it/s]\n",
      "Batches: 100%|██████████| 1/1 [00:00<00:00, 89.98it/s]\n",
      "Batches: 100%|██████████| 1/1 [00:00<00:00, 89.00it/s]\n",
      "Batches: 100%|██████████| 1/1 [00:00<00:00, 87.81it/s]\n",
      "Batches: 100%|██████████| 1/1 [00:00<00:00, 88.94it/s]\n",
      "Batches: 100%|██████████| 1/1 [00:00<00:00, 89.40it/s]\n",
      "Batches: 100%|██████████| 1/1 [00:00<00:00, 86.84it/s]\n",
      "Batches: 100%|██████████| 1/1 [00:00<00:00, 89.84it/s]\n",
      "Batches: 100%|██████████| 1/1 [00:00<00:00, 88.34it/s]\n",
      "Batches: 100%|██████████| 1/1 [00:00<00:00, 89.54it/s]\n",
      "Batches: 100%|██████████| 1/1 [00:00<00:00, 87.34it/s]\n",
      "Batches: 100%|██████████| 1/1 [00:00<00:00, 88.73it/s]\n",
      "Batches: 100%|██████████| 1/1 [00:00<00:00, 90.94it/s]\n",
      "Batches: 100%|██████████| 1/1 [00:00<00:00, 90.50it/s]\n",
      "Batches: 100%|██████████| 1/1 [00:00<00:00, 75.37it/s]\n",
      "Batches: 100%|██████████| 1/1 [00:00<00:00, 88.51it/s]\n",
      "Batches: 100%|██████████| 1/1 [00:00<00:00, 89.43it/s]\n",
      "Batches: 100%|██████████| 1/1 [00:00<00:00, 89.60it/s]\n",
      "Batches:   0%|          | 0/1 [00:00<?, ?it/s]"
     ]
    },
    {
     "name": "stdout",
     "output_type": "stream",
     "text": [
      "i :  975\n",
      "i :  976\n",
      "i :  977\n",
      "i :  978\n",
      "i :  979\n",
      "i :  980\n",
      "i :  981\n",
      "i :  982\n",
      "i :  983\n"
     ]
    },
    {
     "name": "stderr",
     "output_type": "stream",
     "text": [
      "Batches: 100%|██████████| 1/1 [00:00<00:00, 85.71it/s]\n",
      "Batches: 100%|██████████| 1/1 [00:00<00:00, 89.47it/s]\n",
      "Batches: 100%|██████████| 1/1 [00:00<00:00, 86.50it/s]\n",
      "Batches: 100%|██████████| 1/1 [00:00<00:00, 76.53it/s]\n",
      "Batches: 100%|██████████| 1/1 [00:00<00:00, 87.98it/s]\n",
      "Batches: 100%|██████████| 1/1 [00:00<00:00, 88.96it/s]\n",
      "Batches: 100%|██████████| 1/1 [00:00<00:00, 87.94it/s]\n",
      "Batches: 100%|██████████| 1/1 [00:00<00:00, 89.16it/s]\n",
      "Batches: 100%|██████████| 1/1 [00:00<00:00, 87.24it/s]\n",
      "Batches: 100%|██████████| 1/1 [00:00<00:00, 90.17it/s]\n",
      "Batches: 100%|██████████| 1/1 [00:00<00:00, 88.00it/s]\n",
      "Batches: 100%|██████████| 1/1 [00:00<00:00, 88.41it/s]\n",
      "Batches: 100%|██████████| 1/1 [00:00<00:00, 88.75it/s]\n",
      "Batches: 100%|██████████| 1/1 [00:00<00:00, 88.79it/s]\n",
      "Batches: 100%|██████████| 1/1 [00:00<00:00, 87.04it/s]\n",
      "Batches: 100%|██████████| 1/1 [00:00<00:00, 88.96it/s]\n",
      "Batches: 100%|██████████| 1/1 [00:00<00:00, 90.55it/s]\n",
      "Batches: 100%|██████████| 1/1 [00:00<00:00, 89.49it/s]\n"
     ]
    },
    {
     "name": "stdout",
     "output_type": "stream",
     "text": [
      "i :  984\n",
      "i :  985\n",
      "i :  986\n",
      "i :  987\n",
      "i :  988\n",
      "i :  989\n",
      "i :  990\n",
      "i :  991\n",
      "i :  992\n"
     ]
    },
    {
     "name": "stderr",
     "output_type": "stream",
     "text": [
      "Batches: 100%|██████████| 1/1 [00:00<00:00, 86.27it/s]\n",
      "Batches: 100%|██████████| 1/1 [00:00<00:00, 88.56it/s]\n",
      "Batches: 100%|██████████| 1/1 [00:00<00:00, 88.89it/s]\n",
      "Batches: 100%|██████████| 1/1 [00:00<00:00, 89.46it/s]\n",
      "Batches: 100%|██████████| 1/1 [00:00<00:00, 88.50it/s]\n",
      "Batches: 100%|██████████| 1/1 [00:00<00:00, 89.66it/s]\n",
      "Batches: 100%|██████████| 1/1 [00:00<00:00, 86.71it/s]\n",
      "Batches: 100%|██████████| 1/1 [00:00<00:00, 86.30it/s]\n",
      "Batches: 100%|██████████| 1/1 [00:00<00:00, 87.33it/s]\n",
      "Batches: 100%|██████████| 1/1 [00:00<00:00, 88.90it/s]\n",
      "Batches: 100%|██████████| 1/1 [00:00<00:00, 85.77it/s]\n",
      "Batches: 100%|██████████| 1/1 [00:00<00:00, 88.86it/s]\n",
      "Batches: 100%|██████████| 1/1 [00:00<00:00, 90.83it/s]\n",
      "Batches: 100%|██████████| 1/1 [00:00<00:00, 89.44it/s]\n",
      "Batches: 100%|██████████| 1/1 [00:00<00:00, 90.19it/s]\n",
      "Batches: 100%|██████████| 1/1 [00:00<00:00, 88.26it/s]\n",
      "Batches: 100%|██████████| 1/1 [00:00<00:00, 87.93it/s]\n",
      "Batches: 100%|██████████| 1/1 [00:00<00:00, 90.64it/s]\n"
     ]
    },
    {
     "name": "stdout",
     "output_type": "stream",
     "text": [
      "i :  993\n",
      "i :  994\n",
      "i :  995\n",
      "i :  996\n",
      "i :  997\n",
      "i :  998\n",
      "i :  999\n",
      "i :  1000\n",
      "i :  1001\n"
     ]
    },
    {
     "name": "stderr",
     "output_type": "stream",
     "text": [
      "Batches: 100%|██████████| 1/1 [00:00<00:00, 78.40it/s]\n",
      "Batches: 100%|██████████| 1/1 [00:00<00:00, 82.80it/s]\n",
      "Batches: 100%|██████████| 1/1 [00:00<00:00, 87.27it/s]\n",
      "Batches: 100%|██████████| 1/1 [00:00<00:00, 88.22it/s]\n",
      "Batches: 100%|██████████| 1/1 [00:00<00:00, 87.61it/s]\n",
      "Batches: 100%|██████████| 1/1 [00:00<00:00, 88.59it/s]\n",
      "Batches: 100%|██████████| 1/1 [00:00<00:00, 87.34it/s]\n",
      "Batches: 100%|██████████| 1/1 [00:00<00:00, 88.44it/s]\n",
      "Batches: 100%|██████████| 1/1 [00:00<00:00, 87.14it/s]\n",
      "Batches: 100%|██████████| 1/1 [00:00<00:00, 88.44it/s]\n",
      "Batches: 100%|██████████| 1/1 [00:00<00:00, 87.99it/s]\n",
      "Batches: 100%|██████████| 1/1 [00:00<00:00, 89.03it/s]\n",
      "Batches: 100%|██████████| 1/1 [00:00<00:00, 88.76it/s]\n",
      "Batches: 100%|██████████| 1/1 [00:00<00:00, 89.05it/s]\n",
      "Batches: 100%|██████████| 1/1 [00:00<00:00, 87.52it/s]\n",
      "Batches: 100%|██████████| 1/1 [00:00<00:00, 90.71it/s]\n",
      "Batches: 100%|██████████| 1/1 [00:00<00:00, 90.36it/s]\n",
      "Batches: 100%|██████████| 1/1 [00:00<00:00, 88.50it/s]\n",
      "Batches:   0%|          | 0/1 [00:00<?, ?it/s]"
     ]
    },
    {
     "name": "stdout",
     "output_type": "stream",
     "text": [
      "i :  1002\n",
      "i :  1003\n",
      "i :  1004\n",
      "i :  1005\n",
      "i :  1006\n",
      "i :  1007\n",
      "i :  1008\n",
      "i :  1009\n",
      "i :  1010\n"
     ]
    },
    {
     "name": "stderr",
     "output_type": "stream",
     "text": [
      "Batches: 100%|██████████| 1/1 [00:00<00:00, 86.81it/s]\n",
      "Batches: 100%|██████████| 1/1 [00:00<00:00, 88.06it/s]\n",
      "Batches: 100%|██████████| 1/1 [00:00<00:00, 77.45it/s]\n",
      "Batches: 100%|██████████| 1/1 [00:00<00:00, 82.19it/s]\n",
      "Batches: 100%|██████████| 1/1 [00:00<00:00, 83.09it/s]\n",
      "Batches: 100%|██████████| 1/1 [00:00<00:00, 66.46it/s]\n",
      "Batches: 100%|██████████| 1/1 [00:00<00:00, 89.14it/s]\n",
      "Batches: 100%|██████████| 1/1 [00:00<00:00, 87.64it/s]\n",
      "Batches: 100%|██████████| 1/1 [00:00<00:00, 89.47it/s]\n",
      "Batches: 100%|██████████| 1/1 [00:00<00:00, 86.68it/s]\n",
      "Batches: 100%|██████████| 1/1 [00:00<00:00, 88.29it/s]\n",
      "Batches: 100%|██████████| 1/1 [00:00<00:00, 88.72it/s]\n",
      "Batches: 100%|██████████| 1/1 [00:00<00:00, 89.21it/s]\n",
      "Batches: 100%|██████████| 1/1 [00:00<00:00, 88.00it/s]\n",
      "Batches: 100%|██████████| 1/1 [00:00<00:00, 84.40it/s]\n",
      "Batches: 100%|██████████| 1/1 [00:00<00:00, 88.40it/s]\n",
      "Batches: 100%|██████████| 1/1 [00:00<00:00, 86.53it/s]\n",
      "Batches:   0%|          | 0/1 [00:00<?, ?it/s]"
     ]
    },
    {
     "name": "stdout",
     "output_type": "stream",
     "text": [
      "i :  1011\n",
      "i :  1012\n",
      "i :  1013\n",
      "i :  1014\n",
      "i :  1015\n",
      "i :  1016\n",
      "i :  1017\n",
      "i :  1018\n"
     ]
    },
    {
     "name": "stderr",
     "output_type": "stream",
     "text": [
      "Batches: 100%|██████████| 1/1 [00:00<00:00, 86.38it/s]\n",
      "Batches: 100%|██████████| 1/1 [00:00<00:00, 89.40it/s]\n",
      "Batches: 100%|██████████| 1/1 [00:00<00:00, 90.28it/s]\n",
      "Batches: 100%|██████████| 1/1 [00:00<00:00, 88.11it/s]\n",
      "Batches: 100%|██████████| 1/1 [00:00<00:00, 89.55it/s]\n",
      "Batches: 100%|██████████| 1/1 [00:00<00:00, 90.45it/s]\n",
      "Batches: 100%|██████████| 1/1 [00:00<00:00, 90.66it/s]\n",
      "Batches: 100%|██████████| 1/1 [00:00<00:00, 87.32it/s]\n",
      "Batches: 100%|██████████| 1/1 [00:00<00:00, 87.14it/s]\n",
      "Batches: 100%|██████████| 1/1 [00:00<00:00, 88.43it/s]\n",
      "Batches: 100%|██████████| 1/1 [00:00<00:00, 87.82it/s]\n",
      "Batches: 100%|██████████| 1/1 [00:00<00:00, 88.22it/s]\n",
      "Batches: 100%|██████████| 1/1 [00:00<00:00, 88.76it/s]\n",
      "Batches: 100%|██████████| 1/1 [00:00<00:00, 86.13it/s]\n",
      "Batches: 100%|██████████| 1/1 [00:00<00:00, 88.91it/s]\n",
      "Batches: 100%|██████████| 1/1 [00:00<00:00, 77.83it/s]\n",
      "Batches:   0%|          | 0/1 [00:00<?, ?it/s]"
     ]
    },
    {
     "name": "stdout",
     "output_type": "stream",
     "text": [
      "i :  1019\n",
      "i :  1020\n",
      "i :  1021\n",
      "i :  1022\n",
      "i :  1023\n",
      "i :  1024\n",
      "i :  1025\n",
      "i :  1026\n"
     ]
    },
    {
     "name": "stderr",
     "output_type": "stream",
     "text": [
      "Batches: 100%|██████████| 1/1 [00:00<00:00, 79.39it/s]\n",
      "Batches: 100%|██████████| 1/1 [00:00<00:00, 87.97it/s]\n",
      "Batches: 100%|██████████| 1/1 [00:00<00:00, 87.89it/s]\n",
      "Batches: 100%|██████████| 1/1 [00:00<00:00, 88.63it/s]\n",
      "Batches: 100%|██████████| 1/1 [00:00<00:00, 88.30it/s]\n",
      "Batches: 100%|██████████| 1/1 [00:00<00:00, 88.91it/s]\n",
      "Batches: 100%|██████████| 1/1 [00:00<00:00, 87.67it/s]\n",
      "Batches: 100%|██████████| 1/1 [00:00<00:00, 89.60it/s]\n",
      "Batches: 100%|██████████| 1/1 [00:00<00:00, 87.83it/s]\n",
      "Batches: 100%|██████████| 1/1 [00:00<00:00, 71.67it/s]\n",
      "Batches: 100%|██████████| 1/1 [00:00<00:00, 69.24it/s]\n",
      "Batches: 100%|██████████| 1/1 [00:00<00:00, 87.95it/s]\n",
      "Batches: 100%|██████████| 1/1 [00:00<00:00, 88.40it/s]\n",
      "Batches: 100%|██████████| 1/1 [00:00<00:00, 89.51it/s]\n",
      "Batches: 100%|██████████| 1/1 [00:00<00:00, 88.54it/s]\n",
      "Batches: 100%|██████████| 1/1 [00:00<00:00, 89.90it/s]\n",
      "Batches:   0%|          | 0/1 [00:00<?, ?it/s]"
     ]
    },
    {
     "name": "stdout",
     "output_type": "stream",
     "text": [
      "i :  1027\n",
      "i :  1028\n",
      "i :  1029\n",
      "i :  1030\n",
      "i :  1031\n",
      "i :  1032\n",
      "i :  1033\n",
      "i :  1034\n"
     ]
    },
    {
     "name": "stderr",
     "output_type": "stream",
     "text": [
      "Batches: 100%|██████████| 1/1 [00:00<00:00, 88.24it/s]\n",
      "Batches: 100%|██████████| 1/1 [00:00<00:00, 90.08it/s]\n",
      "Batches: 100%|██████████| 1/1 [00:00<00:00, 89.31it/s]\n",
      "Batches: 100%|██████████| 1/1 [00:00<00:00, 90.46it/s]\n",
      "Batches: 100%|██████████| 1/1 [00:00<00:00, 90.79it/s]\n",
      "Batches: 100%|██████████| 1/1 [00:00<00:00, 90.06it/s]\n",
      "Batches: 100%|██████████| 1/1 [00:00<00:00, 89.42it/s]\n",
      "Batches: 100%|██████████| 1/1 [00:00<00:00, 89.39it/s]\n",
      "Batches: 100%|██████████| 1/1 [00:00<00:00, 90.13it/s]\n",
      "Batches: 100%|██████████| 1/1 [00:00<00:00, 90.23it/s]\n",
      "Batches: 100%|██████████| 1/1 [00:00<00:00, 89.48it/s]\n",
      "Batches: 100%|██████████| 1/1 [00:00<00:00, 87.98it/s]\n",
      "Batches: 100%|██████████| 1/1 [00:00<00:00, 88.92it/s]\n",
      "Batches: 100%|██████████| 1/1 [00:00<00:00, 87.89it/s]\n",
      "Batches: 100%|██████████| 1/1 [00:00<00:00, 89.24it/s]\n",
      "Batches: 100%|██████████| 1/1 [00:00<00:00, 90.43it/s]\n",
      "Batches: 100%|██████████| 1/1 [00:00<00:00, 88.96it/s]\n",
      "Batches:   0%|          | 0/1 [00:00<?, ?it/s]"
     ]
    },
    {
     "name": "stdout",
     "output_type": "stream",
     "text": [
      "i :  1035\n",
      "i :  1036\n",
      "i :  1037\n",
      "i :  1038\n",
      "i :  1039\n",
      "i :  1040\n",
      "i :  1041\n",
      "i :  1042\n",
      "i :  1043\n"
     ]
    },
    {
     "name": "stderr",
     "output_type": "stream",
     "text": [
      "Batches: 100%|██████████| 1/1 [00:00<00:00, 79.38it/s]\n",
      "Batches: 100%|██████████| 1/1 [00:00<00:00, 81.37it/s]\n",
      "Batches: 100%|██████████| 1/1 [00:00<00:00, 88.13it/s]\n",
      "Batches: 100%|██████████| 1/1 [00:00<00:00, 90.22it/s]\n",
      "Batches: 100%|██████████| 1/1 [00:00<00:00, 88.59it/s]\n",
      "Batches: 100%|██████████| 1/1 [00:00<00:00, 89.47it/s]\n",
      "Batches: 100%|██████████| 1/1 [00:00<00:00, 88.31it/s]\n",
      "Batches: 100%|██████████| 1/1 [00:00<00:00, 89.71it/s]\n",
      "Batches: 100%|██████████| 1/1 [00:00<00:00, 89.85it/s]\n",
      "Batches: 100%|██████████| 1/1 [00:00<00:00, 89.41it/s]\n",
      "Batches: 100%|██████████| 1/1 [00:00<00:00, 91.13it/s]\n",
      "Batches: 100%|██████████| 1/1 [00:00<00:00, 89.80it/s]\n",
      "Batches: 100%|██████████| 1/1 [00:00<00:00, 91.07it/s]\n",
      "Batches: 100%|██████████| 1/1 [00:00<00:00, 89.79it/s]\n",
      "Batches: 100%|██████████| 1/1 [00:00<00:00, 88.13it/s]\n",
      "Batches: 100%|██████████| 1/1 [00:00<00:00, 89.47it/s]\n",
      "Batches: 100%|██████████| 1/1 [00:00<00:00, 77.64it/s]\n",
      "Batches: 100%|██████████| 1/1 [00:00<00:00, 81.38it/s]\n"
     ]
    },
    {
     "name": "stdout",
     "output_type": "stream",
     "text": [
      "i :  1044\n",
      "i :  1045\n",
      "i :  1046\n",
      "i :  1047\n",
      "i :  1048\n",
      "i :  1049\n",
      "i :  1050\n",
      "i :  1051\n",
      "i :  1052\n"
     ]
    },
    {
     "name": "stderr",
     "output_type": "stream",
     "text": [
      "Batches: 100%|██████████| 1/1 [00:00<00:00, 87.83it/s]\n",
      "Batches: 100%|██████████| 1/1 [00:00<00:00, 90.16it/s]\n",
      "Batches: 100%|██████████| 1/1 [00:00<00:00, 90.58it/s]\n",
      "Batches: 100%|██████████| 1/1 [00:00<00:00, 89.11it/s]\n",
      "Batches: 100%|██████████| 1/1 [00:00<00:00, 88.15it/s]\n",
      "Batches: 100%|██████████| 1/1 [00:00<00:00, 87.77it/s]\n",
      "Batches: 100%|██████████| 1/1 [00:00<00:00, 82.70it/s]\n",
      "Batches: 100%|██████████| 1/1 [00:00<00:00, 90.35it/s]\n",
      "Batches: 100%|██████████| 1/1 [00:00<00:00, 90.21it/s]\n",
      "Batches: 100%|██████████| 1/1 [00:00<00:00, 89.35it/s]\n",
      "Batches: 100%|██████████| 1/1 [00:00<00:00, 86.92it/s]\n",
      "Batches: 100%|██████████| 1/1 [00:00<00:00, 89.10it/s]\n",
      "Batches: 100%|██████████| 1/1 [00:00<00:00, 88.66it/s]\n",
      "Batches: 100%|██████████| 1/1 [00:00<00:00, 88.57it/s]\n",
      "Batches: 100%|██████████| 1/1 [00:00<00:00, 87.97it/s]\n",
      "Batches: 100%|██████████| 1/1 [00:00<00:00, 89.57it/s]\n",
      "Batches: 100%|██████████| 1/1 [00:00<00:00, 71.22it/s]\n",
      "Batches:   0%|          | 0/1 [00:00<?, ?it/s]"
     ]
    },
    {
     "name": "stdout",
     "output_type": "stream",
     "text": [
      "i :  1053\n",
      "i :  1054\n",
      "i :  1055\n",
      "i :  1056\n",
      "i :  1057\n",
      "i :  1058\n",
      "i :  1059\n",
      "i :  1060\n"
     ]
    },
    {
     "name": "stderr",
     "output_type": "stream",
     "text": [
      "Batches: 100%|██████████| 1/1 [00:00<00:00, 88.15it/s]\n",
      "Batches: 100%|██████████| 1/1 [00:00<00:00, 72.77it/s]\n",
      "Batches: 100%|██████████| 1/1 [00:00<00:00, 89.14it/s]\n",
      "Batches: 100%|██████████| 1/1 [00:00<00:00, 89.83it/s]\n",
      "Batches: 100%|██████████| 1/1 [00:00<00:00, 88.71it/s]\n",
      "Batches: 100%|██████████| 1/1 [00:00<00:00, 90.76it/s]\n",
      "Batches: 100%|██████████| 1/1 [00:00<00:00, 89.72it/s]\n",
      "Batches: 100%|██████████| 1/1 [00:00<00:00, 91.49it/s]\n",
      "Batches: 100%|██████████| 1/1 [00:00<00:00, 89.04it/s]\n",
      "Batches: 100%|██████████| 1/1 [00:00<00:00, 87.64it/s]\n",
      "Batches: 100%|██████████| 1/1 [00:00<00:00, 89.55it/s]\n",
      "Batches: 100%|██████████| 1/1 [00:00<00:00, 88.73it/s]\n",
      "Batches: 100%|██████████| 1/1 [00:00<00:00, 88.59it/s]\n",
      "Batches: 100%|██████████| 1/1 [00:00<00:00, 90.19it/s]\n",
      "Batches: 100%|██████████| 1/1 [00:00<00:00, 88.64it/s]\n",
      "Batches: 100%|██████████| 1/1 [00:00<00:00, 87.98it/s]\n",
      "Batches: 100%|██████████| 1/1 [00:00<00:00, 89.11it/s]\n"
     ]
    },
    {
     "name": "stdout",
     "output_type": "stream",
     "text": [
      "i :  1061\n",
      "i :  1062\n",
      "i :  1063\n",
      "i :  1064\n",
      "i :  1065\n",
      "i :  1066\n",
      "i :  1067\n",
      "i :  1068\n",
      "i :  1069\n"
     ]
    },
    {
     "name": "stderr",
     "output_type": "stream",
     "text": [
      "Batches: 100%|██████████| 1/1 [00:00<00:00, 86.23it/s]\n",
      "Batches: 100%|██████████| 1/1 [00:00<00:00, 88.55it/s]\n",
      "Batches: 100%|██████████| 1/1 [00:00<00:00, 87.30it/s]\n",
      "Batches: 100%|██████████| 1/1 [00:00<00:00, 89.21it/s]\n",
      "Batches: 100%|██████████| 1/1 [00:00<00:00, 89.84it/s]\n",
      "Batches: 100%|██████████| 1/1 [00:00<00:00, 88.98it/s]\n",
      "Batches: 100%|██████████| 1/1 [00:00<00:00, 87.22it/s]\n",
      "Batches: 100%|██████████| 1/1 [00:00<00:00, 88.83it/s]\n",
      "Batches: 100%|██████████| 1/1 [00:00<00:00, 88.19it/s]\n",
      "Batches: 100%|██████████| 1/1 [00:00<00:00, 91.05it/s]\n",
      "Batches: 100%|██████████| 1/1 [00:00<00:00, 87.59it/s]\n",
      "Batches: 100%|██████████| 1/1 [00:00<00:00, 89.17it/s]\n",
      "Batches: 100%|██████████| 1/1 [00:00<00:00, 86.55it/s]\n",
      "Batches: 100%|██████████| 1/1 [00:00<00:00, 88.47it/s]\n",
      "Batches: 100%|██████████| 1/1 [00:00<00:00, 86.59it/s]\n",
      "Batches: 100%|██████████| 1/1 [00:00<00:00, 87.31it/s]\n",
      "Batches: 100%|██████████| 1/1 [00:00<00:00, 86.85it/s]\n",
      "Batches: 100%|██████████| 1/1 [00:00<00:00, 87.85it/s]\n"
     ]
    },
    {
     "name": "stdout",
     "output_type": "stream",
     "text": [
      "i :  1070\n",
      "i :  1071\n",
      "i :  1072\n",
      "i :  1073\n",
      "i :  1074\n",
      "i :  1075\n",
      "i :  1076\n",
      "i :  1077\n"
     ]
    },
    {
     "name": "stderr",
     "output_type": "stream",
     "text": [
      "Batches: 100%|██████████| 1/1 [00:00<00:00, 86.58it/s]\n",
      "Batches: 100%|██████████| 1/1 [00:00<00:00, 88.02it/s]\n",
      "Batches: 100%|██████████| 1/1 [00:00<00:00, 87.20it/s]\n",
      "Batches: 100%|██████████| 1/1 [00:00<00:00, 88.25it/s]\n",
      "Batches: 100%|██████████| 1/1 [00:00<00:00, 90.52it/s]\n",
      "Batches: 100%|██████████| 1/1 [00:00<00:00, 89.12it/s]\n",
      "Batches: 100%|██████████| 1/1 [00:00<00:00, 86.82it/s]\n",
      "Batches: 100%|██████████| 1/1 [00:00<00:00, 89.27it/s]\n",
      "Batches: 100%|██████████| 1/1 [00:00<00:00, 90.62it/s]\n",
      "Batches: 100%|██████████| 1/1 [00:00<00:00, 89.11it/s]\n",
      "Batches: 100%|██████████| 1/1 [00:00<00:00, 89.07it/s]\n",
      "Batches: 100%|██████████| 1/1 [00:00<00:00, 90.07it/s]\n",
      "Batches: 100%|██████████| 1/1 [00:00<00:00, 87.14it/s]\n",
      "Batches: 100%|██████████| 1/1 [00:00<00:00, 87.63it/s]\n",
      "Batches: 100%|██████████| 1/1 [00:00<00:00, 87.07it/s]\n",
      "Batches: 100%|██████████| 1/1 [00:00<00:00, 90.42it/s]\n",
      "Batches: 100%|██████████| 1/1 [00:00<00:00, 74.38it/s]\n",
      "Batches:   0%|          | 0/1 [00:00<?, ?it/s]"
     ]
    },
    {
     "name": "stdout",
     "output_type": "stream",
     "text": [
      "i :  1078\n",
      "i :  1079\n",
      "i :  1080\n",
      "i :  1081\n",
      "i :  1082\n",
      "i :  1083\n",
      "i :  1084\n",
      "i :  1085\n",
      "i :  1086\n"
     ]
    },
    {
     "name": "stderr",
     "output_type": "stream",
     "text": [
      "Batches: 100%|██████████| 1/1 [00:00<00:00, 87.65it/s]\n",
      "Batches: 100%|██████████| 1/1 [00:00<00:00, 77.30it/s]\n",
      "Batches: 100%|██████████| 1/1 [00:00<00:00, 89.68it/s]\n",
      "Batches: 100%|██████████| 1/1 [00:00<00:00, 89.64it/s]\n",
      "Batches: 100%|██████████| 1/1 [00:00<00:00, 89.08it/s]\n",
      "Batches: 100%|██████████| 1/1 [00:00<00:00, 87.16it/s]\n",
      "Batches: 100%|██████████| 1/1 [00:00<00:00, 90.54it/s]\n",
      "Batches: 100%|██████████| 1/1 [00:00<00:00, 88.41it/s]\n",
      "Batches: 100%|██████████| 1/1 [00:00<00:00, 89.52it/s]\n",
      "Batches: 100%|██████████| 1/1 [00:00<00:00, 89.79it/s]\n",
      "Batches: 100%|██████████| 1/1 [00:00<00:00, 90.47it/s]\n",
      "Batches: 100%|██████████| 1/1 [00:00<00:00, 88.48it/s]\n",
      "Batches: 100%|██████████| 1/1 [00:00<00:00, 89.35it/s]\n",
      "Batches: 100%|██████████| 1/1 [00:00<00:00, 86.81it/s]\n",
      "Batches: 100%|██████████| 1/1 [00:00<00:00, 88.92it/s]\n",
      "Batches: 100%|██████████| 1/1 [00:00<00:00, 89.18it/s]\n",
      "Batches: 100%|██████████| 1/1 [00:00<00:00, 88.58it/s]\n",
      "Batches:   0%|          | 0/1 [00:00<?, ?it/s]"
     ]
    },
    {
     "name": "stdout",
     "output_type": "stream",
     "text": [
      "i :  1087\n",
      "i :  1088\n",
      "i :  1089\n",
      "i :  1090\n",
      "i :  1091\n",
      "i :  1092\n",
      "i :  1093\n",
      "i :  1094\n",
      "i :  1095\n"
     ]
    },
    {
     "name": "stderr",
     "output_type": "stream",
     "text": [
      "Batches: 100%|██████████| 1/1 [00:00<00:00, 79.40it/s]\n",
      "Batches: 100%|██████████| 1/1 [00:00<00:00, 70.76it/s]\n",
      "Batches: 100%|██████████| 1/1 [00:00<00:00, 89.91it/s]\n",
      "Batches: 100%|██████████| 1/1 [00:00<00:00, 89.33it/s]\n",
      "Batches: 100%|██████████| 1/1 [00:00<00:00, 90.07it/s]\n",
      "Batches: 100%|██████████| 1/1 [00:00<00:00, 88.37it/s]\n",
      "Batches: 100%|██████████| 1/1 [00:00<00:00, 90.12it/s]\n",
      "Batches: 100%|██████████| 1/1 [00:00<00:00, 89.22it/s]\n",
      "Batches: 100%|██████████| 1/1 [00:00<00:00, 88.21it/s]\n",
      "Batches: 100%|██████████| 1/1 [00:00<00:00, 88.35it/s]\n",
      "Batches: 100%|██████████| 1/1 [00:00<00:00, 87.89it/s]\n",
      "Batches: 100%|██████████| 1/1 [00:00<00:00, 83.85it/s]\n",
      "Batches: 100%|██████████| 1/1 [00:00<00:00, 87.22it/s]\n",
      "Batches: 100%|██████████| 1/1 [00:00<00:00, 87.94it/s]\n",
      "Batches: 100%|██████████| 1/1 [00:00<00:00, 90.08it/s]\n",
      "Batches: 100%|██████████| 1/1 [00:00<00:00, 88.66it/s]\n",
      "Batches: 100%|██████████| 1/1 [00:00<00:00, 90.47it/s]\n",
      "Batches: 100%|██████████| 1/1 [00:00<00:00, 88.68it/s]\n",
      "Batches:   0%|          | 0/1 [00:00<?, ?it/s]"
     ]
    },
    {
     "name": "stdout",
     "output_type": "stream",
     "text": [
      "i :  1096\n",
      "i :  1097\n",
      "i :  1098\n",
      "i :  1099\n",
      "i :  1100\n",
      "i :  1101\n",
      "i :  1102\n",
      "i :  1103\n",
      "i :  1104\n"
     ]
    },
    {
     "name": "stderr",
     "output_type": "stream",
     "text": [
      "Batches: 100%|██████████| 1/1 [00:00<00:00, 72.90it/s]\n",
      "Batches: 100%|██████████| 1/1 [00:00<00:00, 88.94it/s]\n",
      "Batches: 100%|██████████| 1/1 [00:00<00:00, 90.47it/s]\n",
      "Batches: 100%|██████████| 1/1 [00:00<00:00, 89.33it/s]\n",
      "Batches: 100%|██████████| 1/1 [00:00<00:00, 87.88it/s]\n",
      "Batches: 100%|██████████| 1/1 [00:00<00:00, 90.27it/s]\n",
      "Batches: 100%|██████████| 1/1 [00:00<00:00, 87.31it/s]\n",
      "Batches: 100%|██████████| 1/1 [00:00<00:00, 89.42it/s]\n",
      "Batches: 100%|██████████| 1/1 [00:00<00:00, 87.89it/s]\n",
      "Batches: 100%|██████████| 1/1 [00:00<00:00, 89.72it/s]\n",
      "Batches: 100%|██████████| 1/1 [00:00<00:00, 75.70it/s]\n",
      "Batches: 100%|██████████| 1/1 [00:00<00:00, 88.27it/s]\n",
      "Batches: 100%|██████████| 1/1 [00:00<00:00, 88.06it/s]\n",
      "Batches: 100%|██████████| 1/1 [00:00<00:00, 88.05it/s]\n",
      "Batches: 100%|██████████| 1/1 [00:00<00:00, 89.46it/s]\n",
      "Batches: 100%|██████████| 1/1 [00:00<00:00, 89.82it/s]\n",
      "Batches: 100%|██████████| 1/1 [00:00<00:00, 88.33it/s]\n",
      "Batches: 100%|██████████| 1/1 [00:00<00:00, 88.60it/s]\n"
     ]
    },
    {
     "name": "stdout",
     "output_type": "stream",
     "text": [
      "i :  1105\n",
      "i :  1106\n",
      "i :  1107\n",
      "i :  1108\n",
      "i :  1109\n",
      "i :  1110\n",
      "i :  1111\n",
      "i :  1112\n",
      "i :  1113\n"
     ]
    },
    {
     "name": "stderr",
     "output_type": "stream",
     "text": [
      "Batches: 100%|██████████| 1/1 [00:00<00:00, 85.94it/s]\n",
      "Batches: 100%|██████████| 1/1 [00:00<00:00, 88.93it/s]\n",
      "Batches: 100%|██████████| 1/1 [00:00<00:00, 91.07it/s]\n",
      "Batches: 100%|██████████| 1/1 [00:00<00:00, 89.91it/s]\n",
      "Batches: 100%|██████████| 1/1 [00:00<00:00, 85.73it/s]\n",
      "Batches: 100%|██████████| 1/1 [00:00<00:00, 89.05it/s]\n",
      "Batches: 100%|██████████| 1/1 [00:00<00:00, 87.28it/s]\n",
      "Batches: 100%|██████████| 1/1 [00:00<00:00, 88.02it/s]\n",
      "Batches: 100%|██████████| 1/1 [00:00<00:00, 88.09it/s]\n",
      "Batches: 100%|██████████| 1/1 [00:00<00:00, 88.91it/s]\n",
      "Batches: 100%|██████████| 1/1 [00:00<00:00, 78.10it/s]\n",
      "Batches: 100%|██████████| 1/1 [00:00<00:00, 80.50it/s]\n",
      "Batches: 100%|██████████| 1/1 [00:00<00:00, 91.12it/s]\n",
      "Batches: 100%|██████████| 1/1 [00:00<00:00, 89.76it/s]\n",
      "Batches: 100%|██████████| 1/1 [00:00<00:00, 90.60it/s]\n",
      "Batches: 100%|██████████| 1/1 [00:00<00:00, 88.85it/s]\n",
      "Batches: 100%|██████████| 1/1 [00:00<00:00, 87.68it/s]\n",
      "Batches:   0%|          | 0/1 [00:00<?, ?it/s]"
     ]
    },
    {
     "name": "stdout",
     "output_type": "stream",
     "text": [
      "i :  1114\n",
      "i :  1115\n",
      "i :  1116\n",
      "i :  1117\n",
      "i :  1118\n",
      "i :  1119\n",
      "i :  1120\n",
      "i :  1121\n"
     ]
    },
    {
     "name": "stderr",
     "output_type": "stream",
     "text": [
      "Batches: 100%|██████████| 1/1 [00:00<00:00, 86.81it/s]\n",
      "Batches: 100%|██████████| 1/1 [00:00<00:00, 87.36it/s]\n",
      "Batches: 100%|██████████| 1/1 [00:00<00:00, 89.32it/s]\n",
      "Batches: 100%|██████████| 1/1 [00:00<00:00, 88.27it/s]\n",
      "Batches: 100%|██████████| 1/1 [00:00<00:00, 89.08it/s]\n",
      "Batches: 100%|██████████| 1/1 [00:00<00:00, 90.96it/s]\n",
      "Batches: 100%|██████████| 1/1 [00:00<00:00, 89.07it/s]\n",
      "Batches: 100%|██████████| 1/1 [00:00<00:00, 87.97it/s]\n",
      "Batches: 100%|██████████| 1/1 [00:00<00:00, 88.89it/s]\n",
      "Batches: 100%|██████████| 1/1 [00:00<00:00, 88.20it/s]\n",
      "Batches: 100%|██████████| 1/1 [00:00<00:00, 88.98it/s]\n",
      "Batches: 100%|██████████| 1/1 [00:00<00:00, 87.47it/s]\n",
      "Batches: 100%|██████████| 1/1 [00:00<00:00, 88.66it/s]\n",
      "Batches: 100%|██████████| 1/1 [00:00<00:00, 87.57it/s]\n",
      "Batches: 100%|██████████| 1/1 [00:00<00:00, 89.45it/s]\n",
      "Batches: 100%|██████████| 1/1 [00:00<00:00, 87.03it/s]\n",
      "Batches: 100%|██████████| 1/1 [00:00<00:00, 89.05it/s]\n",
      "Batches:   0%|          | 0/1 [00:00<?, ?it/s]"
     ]
    },
    {
     "name": "stdout",
     "output_type": "stream",
     "text": [
      "i :  1122\n",
      "i :  1123\n",
      "i :  1124\n",
      "i :  1125\n",
      "i :  1126\n",
      "i :  1127\n",
      "i :  1128\n",
      "i :  1129\n",
      "i :  1130\n"
     ]
    },
    {
     "name": "stderr",
     "output_type": "stream",
     "text": [
      "Batches: 100%|██████████| 1/1 [00:00<00:00, 88.26it/s]\n",
      "Batches: 100%|██████████| 1/1 [00:00<00:00, 89.14it/s]\n",
      "Batches: 100%|██████████| 1/1 [00:00<00:00, 87.24it/s]\n",
      "Batches: 100%|██████████| 1/1 [00:00<00:00, 89.20it/s]\n",
      "Batches: 100%|██████████| 1/1 [00:00<00:00, 88.86it/s]\n",
      "Batches: 100%|██████████| 1/1 [00:00<00:00, 88.04it/s]\n",
      "Batches: 100%|██████████| 1/1 [00:00<00:00, 87.20it/s]\n",
      "Batches: 100%|██████████| 1/1 [00:00<00:00, 88.36it/s]\n",
      "Batches: 100%|██████████| 1/1 [00:00<00:00, 75.93it/s]\n",
      "Batches: 100%|██████████| 1/1 [00:00<00:00, 89.09it/s]\n",
      "Batches: 100%|██████████| 1/1 [00:00<00:00, 88.98it/s]\n",
      "Batches: 100%|██████████| 1/1 [00:00<00:00, 88.81it/s]\n",
      "Batches: 100%|██████████| 1/1 [00:00<00:00, 89.29it/s]\n",
      "Batches: 100%|██████████| 1/1 [00:00<00:00, 88.60it/s]\n",
      "Batches: 100%|██████████| 1/1 [00:00<00:00, 90.57it/s]\n",
      "Batches: 100%|██████████| 1/1 [00:00<00:00, 88.85it/s]\n",
      "Batches: 100%|██████████| 1/1 [00:00<00:00, 87.24it/s]\n",
      "Batches:   0%|          | 0/1 [00:00<?, ?it/s]"
     ]
    },
    {
     "name": "stdout",
     "output_type": "stream",
     "text": [
      "i :  1131\n",
      "i :  1132\n",
      "i :  1133\n",
      "i :  1134\n",
      "i :  1135\n",
      "i :  1136\n",
      "i :  1137\n",
      "i :  1138\n"
     ]
    },
    {
     "name": "stderr",
     "output_type": "stream",
     "text": [
      "Batches: 100%|██████████| 1/1 [00:00<00:00, 87.24it/s]\n",
      "Batches: 100%|██████████| 1/1 [00:00<00:00, 88.95it/s]\n",
      "Batches: 100%|██████████| 1/1 [00:00<00:00, 88.63it/s]\n",
      "Batches: 100%|██████████| 1/1 [00:00<00:00, 90.38it/s]\n",
      "Batches: 100%|██████████| 1/1 [00:00<00:00, 89.08it/s]\n",
      "Batches: 100%|██████████| 1/1 [00:00<00:00, 90.17it/s]\n",
      "Batches: 100%|██████████| 1/1 [00:00<00:00, 90.59it/s]\n",
      "Batches: 100%|██████████| 1/1 [00:00<00:00, 90.70it/s]\n",
      "Batches: 100%|██████████| 1/1 [00:00<00:00, 89.37it/s]\n",
      "Batches: 100%|██████████| 1/1 [00:00<00:00, 80.26it/s]\n",
      "Batches: 100%|██████████| 1/1 [00:00<00:00, 87.79it/s]\n",
      "Batches: 100%|██████████| 1/1 [00:00<00:00, 90.67it/s]\n",
      "Batches: 100%|██████████| 1/1 [00:00<00:00, 90.32it/s]\n",
      "Batches: 100%|██████████| 1/1 [00:00<00:00, 88.11it/s]\n",
      "Batches: 100%|██████████| 1/1 [00:00<00:00, 61.97it/s]\n",
      "Batches: 100%|██████████| 1/1 [00:00<00:00, 88.71it/s]\n",
      "Batches:   0%|          | 0/1 [00:00<?, ?it/s]"
     ]
    },
    {
     "name": "stdout",
     "output_type": "stream",
     "text": [
      "i :  1139\n",
      "i :  1140\n",
      "i :  1141\n",
      "i :  1142\n",
      "i :  1143\n",
      "i :  1144\n",
      "i :  1145\n",
      "i :  1146\n"
     ]
    },
    {
     "name": "stderr",
     "output_type": "stream",
     "text": [
      "Batches: 100%|██████████| 1/1 [00:00<00:00, 87.38it/s]\n",
      "Batches: 100%|██████████| 1/1 [00:00<00:00, 87.06it/s]\n",
      "Batches: 100%|██████████| 1/1 [00:00<00:00, 88.92it/s]\n",
      "Batches: 100%|██████████| 1/1 [00:00<00:00, 89.46it/s]\n",
      "Batches: 100%|██████████| 1/1 [00:00<00:00, 87.22it/s]\n",
      "Batches: 100%|██████████| 1/1 [00:00<00:00, 87.41it/s]\n",
      "Batches: 100%|██████████| 1/1 [00:00<00:00, 87.34it/s]\n",
      "Batches: 100%|██████████| 1/1 [00:00<00:00, 89.39it/s]\n",
      "Batches: 100%|██████████| 1/1 [00:00<00:00, 88.33it/s]\n",
      "Batches: 100%|██████████| 1/1 [00:00<00:00, 89.62it/s]\n",
      "Batches: 100%|██████████| 1/1 [00:00<00:00, 88.62it/s]\n",
      "Batches: 100%|██████████| 1/1 [00:00<00:00, 90.04it/s]\n",
      "Batches: 100%|██████████| 1/1 [00:00<00:00, 90.44it/s]\n",
      "Batches: 100%|██████████| 1/1 [00:00<00:00, 90.03it/s]\n",
      "Batches: 100%|██████████| 1/1 [00:00<00:00, 89.06it/s]\n",
      "Batches: 100%|██████████| 1/1 [00:00<00:00, 85.87it/s]\n",
      "Batches: 100%|██████████| 1/1 [00:00<00:00, 86.47it/s]\n"
     ]
    },
    {
     "name": "stdout",
     "output_type": "stream",
     "text": [
      "i :  1147\n",
      "i :  1148\n",
      "i :  1149\n",
      "i :  1150\n",
      "i :  1151\n",
      "i :  1152\n",
      "i :  1153\n",
      "i :  1154\n",
      "i :  1155\n"
     ]
    },
    {
     "name": "stderr",
     "output_type": "stream",
     "text": [
      "Batches: 100%|██████████| 1/1 [00:00<00:00, 87.93it/s]\n",
      "Batches: 100%|██████████| 1/1 [00:00<00:00, 89.00it/s]\n",
      "Batches: 100%|██████████| 1/1 [00:00<00:00, 89.25it/s]\n",
      "Batches: 100%|██████████| 1/1 [00:00<00:00, 88.33it/s]\n",
      "Batches: 100%|██████████| 1/1 [00:00<00:00, 87.23it/s]\n",
      "Batches: 100%|██████████| 1/1 [00:00<00:00, 88.96it/s]\n",
      "Batches: 100%|██████████| 1/1 [00:00<00:00, 87.70it/s]\n",
      "Batches: 100%|██████████| 1/1 [00:00<00:00, 89.28it/s]\n",
      "Batches: 100%|██████████| 1/1 [00:00<00:00, 86.67it/s]\n",
      "Batches: 100%|██████████| 1/1 [00:00<00:00, 61.61it/s]\n",
      "Batches: 100%|██████████| 1/1 [00:00<00:00, 88.86it/s]\n",
      "Batches: 100%|██████████| 1/1 [00:00<00:00, 87.63it/s]\n",
      "Batches: 100%|██████████| 1/1 [00:00<00:00, 88.95it/s]\n",
      "Batches: 100%|██████████| 1/1 [00:00<00:00, 89.39it/s]\n",
      "Batches: 100%|██████████| 1/1 [00:00<00:00, 85.84it/s]\n",
      "Batches: 100%|██████████| 1/1 [00:00<00:00, 87.79it/s]\n",
      "Batches: 100%|██████████| 1/1 [00:00<00:00, 89.50it/s]\n",
      "Batches:   0%|          | 0/1 [00:00<?, ?it/s]"
     ]
    },
    {
     "name": "stdout",
     "output_type": "stream",
     "text": [
      "i :  1156\n",
      "i :  1157\n",
      "i :  1158\n",
      "i :  1159\n",
      "i :  1160\n",
      "i :  1161\n",
      "i :  1162\n",
      "i :  1163\n"
     ]
    },
    {
     "name": "stderr",
     "output_type": "stream",
     "text": [
      "Batches: 100%|██████████| 1/1 [00:00<00:00, 85.42it/s]\n",
      "Batches: 100%|██████████| 1/1 [00:00<00:00, 87.85it/s]\n",
      "Batches: 100%|██████████| 1/1 [00:00<00:00, 87.56it/s]\n",
      "Batches: 100%|██████████| 1/1 [00:00<00:00, 88.30it/s]\n",
      "Batches: 100%|██████████| 1/1 [00:00<00:00, 88.20it/s]\n",
      "Batches: 100%|██████████| 1/1 [00:00<00:00, 85.64it/s]\n",
      "Batches: 100%|██████████| 1/1 [00:00<00:00, 88.67it/s]\n",
      "Batches: 100%|██████████| 1/1 [00:00<00:00, 89.30it/s]\n",
      "Batches: 100%|██████████| 1/1 [00:00<00:00, 88.50it/s]\n",
      "Batches: 100%|██████████| 1/1 [00:00<00:00, 90.34it/s]\n",
      "Batches: 100%|██████████| 1/1 [00:00<00:00, 88.24it/s]\n",
      "Batches: 100%|██████████| 1/1 [00:00<00:00, 91.03it/s]\n",
      "Batches: 100%|██████████| 1/1 [00:00<00:00, 88.04it/s]\n",
      "Batches: 100%|██████████| 1/1 [00:00<00:00, 89.14it/s]\n",
      "Batches: 100%|██████████| 1/1 [00:00<00:00, 89.12it/s]\n",
      "Batches: 100%|██████████| 1/1 [00:00<00:00, 86.89it/s]\n",
      "Batches: 100%|██████████| 1/1 [00:00<00:00, 87.54it/s]"
     ]
    },
    {
     "name": "stdout",
     "output_type": "stream",
     "text": [
      "i :  1164\n",
      "i :  1165\n",
      "i :  1166\n",
      "i :  1167\n",
      "i :  1168\n",
      "i :  1169\n",
      "i :  1170\n",
      "i :  1171\n"
     ]
    },
    {
     "name": "stderr",
     "output_type": "stream",
     "text": [
      "\n",
      "Batches: 100%|██████████| 1/1 [00:00<00:00, 88.71it/s]\n",
      "Batches: 100%|██████████| 1/1 [00:00<00:00, 88.87it/s]\n",
      "Batches: 100%|██████████| 1/1 [00:00<00:00, 76.64it/s]\n",
      "Batches: 100%|██████████| 1/1 [00:00<00:00, 86.75it/s]\n",
      "Batches: 100%|██████████| 1/1 [00:00<00:00, 86.38it/s]\n",
      "Batches: 100%|██████████| 1/1 [00:00<00:00, 84.12it/s]\n",
      "Batches: 100%|██████████| 1/1 [00:00<00:00, 82.65it/s]\n",
      "Batches: 100%|██████████| 1/1 [00:00<00:00, 81.36it/s]\n",
      "Batches: 100%|██████████| 1/1 [00:00<00:00, 83.69it/s]\n",
      "Batches: 100%|██████████| 1/1 [00:00<00:00, 81.93it/s]\n",
      "Batches: 100%|██████████| 1/1 [00:00<00:00, 82.83it/s]\n",
      "Batches: 100%|██████████| 1/1 [00:00<00:00, 83.33it/s]\n",
      "Batches: 100%|██████████| 1/1 [00:00<00:00, 83.77it/s]\n",
      "Batches: 100%|██████████| 1/1 [00:00<00:00, 82.45it/s]\n",
      "Batches: 100%|██████████| 1/1 [00:00<00:00, 83.67it/s]\n",
      "Batches: 100%|██████████| 1/1 [00:00<00:00, 82.53it/s]\n",
      "Batches: 100%|██████████| 1/1 [00:00<00:00, 81.57it/s]"
     ]
    },
    {
     "name": "stdout",
     "output_type": "stream",
     "text": [
      "i :  1172\n",
      "i :  1173\n",
      "i :  1174\n",
      "i :  1175\n",
      "i :  1176\n",
      "i :  1177\n",
      "i :  1178\n",
      "i :  1179\n",
      "i :  1180\n"
     ]
    },
    {
     "name": "stderr",
     "output_type": "stream",
     "text": [
      "\n",
      "Batches: 100%|██████████| 1/1 [00:00<00:00, 71.04it/s]\n",
      "Batches: 100%|██████████| 1/1 [00:00<00:00, 83.65it/s]\n",
      "Batches: 100%|██████████| 1/1 [00:00<00:00, 84.05it/s]\n",
      "Batches: 100%|██████████| 1/1 [00:00<00:00, 82.71it/s]\n",
      "Batches: 100%|██████████| 1/1 [00:00<00:00, 84.01it/s]\n",
      "Batches: 100%|██████████| 1/1 [00:00<00:00, 83.18it/s]\n",
      "Batches: 100%|██████████| 1/1 [00:00<00:00, 81.95it/s]\n",
      "Batches: 100%|██████████| 1/1 [00:00<00:00, 81.64it/s]\n",
      "Batches: 100%|██████████| 1/1 [00:00<00:00, 83.35it/s]\n",
      "Batches: 100%|██████████| 1/1 [00:00<00:00, 83.14it/s]\n",
      "Batches: 100%|██████████| 1/1 [00:00<00:00, 83.93it/s]\n",
      "Batches: 100%|██████████| 1/1 [00:00<00:00, 83.77it/s]\n",
      "Batches: 100%|██████████| 1/1 [00:00<00:00, 82.63it/s]\n",
      "Batches: 100%|██████████| 1/1 [00:00<00:00, 83.72it/s]\n",
      "Batches: 100%|██████████| 1/1 [00:00<00:00, 82.85it/s]\n",
      "Batches: 100%|██████████| 1/1 [00:00<00:00, 83.46it/s]\n",
      "Batches:   0%|          | 0/1 [00:00<?, ?it/s]"
     ]
    },
    {
     "name": "stdout",
     "output_type": "stream",
     "text": [
      "i :  1181\n",
      "i :  1182\n",
      "i :  1183\n",
      "i :  1184\n",
      "i :  1185\n",
      "i :  1186\n",
      "i :  1187\n",
      "i :  1188\n"
     ]
    },
    {
     "name": "stderr",
     "output_type": "stream",
     "text": [
      "Batches: 100%|██████████| 1/1 [00:00<00:00, 69.78it/s]\n",
      "Batches: 100%|██████████| 1/1 [00:00<00:00, 82.83it/s]\n",
      "Batches: 100%|██████████| 1/1 [00:00<00:00, 82.28it/s]\n",
      "Batches: 100%|██████████| 1/1 [00:00<00:00, 83.53it/s]\n",
      "Batches: 100%|██████████| 1/1 [00:00<00:00, 83.40it/s]\n",
      "Batches: 100%|██████████| 1/1 [00:00<00:00, 82.76it/s]\n",
      "Batches: 100%|██████████| 1/1 [00:00<00:00, 81.64it/s]\n",
      "Batches: 100%|██████████| 1/1 [00:00<00:00, 83.85it/s]\n",
      "Batches: 100%|██████████| 1/1 [00:00<00:00, 82.56it/s]\n",
      "Batches: 100%|██████████| 1/1 [00:00<00:00, 83.10it/s]\n",
      "Batches: 100%|██████████| 1/1 [00:00<00:00, 83.00it/s]\n",
      "Batches: 100%|██████████| 1/1 [00:00<00:00, 81.18it/s]\n",
      "Batches: 100%|██████████| 1/1 [00:00<00:00, 82.48it/s]\n",
      "Batches: 100%|██████████| 1/1 [00:00<00:00, 83.95it/s]\n",
      "Batches: 100%|██████████| 1/1 [00:00<00:00, 82.95it/s]\n",
      "Batches: 100%|██████████| 1/1 [00:00<00:00, 83.66it/s]\n"
     ]
    },
    {
     "name": "stdout",
     "output_type": "stream",
     "text": [
      "i :  1189\n",
      "i :  1190\n",
      "i :  1191\n",
      "i :  1192\n",
      "i :  1193\n",
      "i :  1194\n",
      "i :  1195\n",
      "i :  1196\n"
     ]
    },
    {
     "name": "stderr",
     "output_type": "stream",
     "text": [
      "Batches: 100%|██████████| 1/1 [00:00<00:00, 70.29it/s]\n",
      "Batches: 100%|██████████| 1/1 [00:00<00:00, 83.76it/s]\n",
      "Batches: 100%|██████████| 1/1 [00:00<00:00, 82.20it/s]\n",
      "Batches: 100%|██████████| 1/1 [00:00<00:00, 83.37it/s]\n",
      "Batches: 100%|██████████| 1/1 [00:00<00:00, 82.57it/s]\n",
      "Batches: 100%|██████████| 1/1 [00:00<00:00, 83.44it/s]\n",
      "Batches: 100%|██████████| 1/1 [00:00<00:00, 82.14it/s]\n",
      "Batches: 100%|██████████| 1/1 [00:00<00:00, 83.39it/s]\n",
      "Batches: 100%|██████████| 1/1 [00:00<00:00, 82.72it/s]\n",
      "Batches: 100%|██████████| 1/1 [00:00<00:00, 83.69it/s]\n",
      "Batches: 100%|██████████| 1/1 [00:00<00:00, 82.54it/s]\n",
      "Batches: 100%|██████████| 1/1 [00:00<00:00, 81.06it/s]\n",
      "Batches: 100%|██████████| 1/1 [00:00<00:00, 81.25it/s]\n",
      "Batches: 100%|██████████| 1/1 [00:00<00:00, 83.72it/s]\n",
      "Batches: 100%|██████████| 1/1 [00:00<00:00, 82.11it/s]\n",
      "Batches: 100%|██████████| 1/1 [00:00<00:00, 84.05it/s]"
     ]
    },
    {
     "name": "stdout",
     "output_type": "stream",
     "text": [
      "i :  1197\n",
      "i :  1198\n",
      "i :  1199\n",
      "i :  1200\n",
      "i :  1201\n",
      "i :  1202\n",
      "i :  1203\n",
      "i :  1204\n"
     ]
    },
    {
     "name": "stderr",
     "output_type": "stream",
     "text": [
      "\n",
      "Batches: 100%|██████████| 1/1 [00:00<00:00, 82.54it/s]\n",
      "Batches: 100%|██████████| 1/1 [00:00<00:00, 83.21it/s]\n",
      "Batches: 100%|██████████| 1/1 [00:00<00:00, 83.34it/s]\n",
      "Batches: 100%|██████████| 1/1 [00:00<00:00, 89.60it/s]\n",
      "Batches: 100%|██████████| 1/1 [00:00<00:00, 87.46it/s]\n",
      "Batches: 100%|██████████| 1/1 [00:00<00:00, 86.67it/s]\n",
      "Batches: 100%|██████████| 1/1 [00:00<00:00, 88.21it/s]\n",
      "Batches: 100%|██████████| 1/1 [00:00<00:00, 85.98it/s]\n",
      "Batches: 100%|██████████| 1/1 [00:00<00:00, 89.53it/s]\n",
      "Batches: 100%|██████████| 1/1 [00:00<00:00, 88.53it/s]\n",
      "Batches: 100%|██████████| 1/1 [00:00<00:00, 87.44it/s]\n",
      "Batches: 100%|██████████| 1/1 [00:00<00:00, 89.33it/s]\n",
      "Batches: 100%|██████████| 1/1 [00:00<00:00, 88.24it/s]\n",
      "Batches: 100%|██████████| 1/1 [00:00<00:00, 86.80it/s]\n",
      "Batches: 100%|██████████| 1/1 [00:00<00:00, 87.26it/s]\n",
      "Batches: 100%|██████████| 1/1 [00:00<00:00, 89.25it/s]\n",
      "Batches:   0%|          | 0/1 [00:00<?, ?it/s]"
     ]
    },
    {
     "name": "stdout",
     "output_type": "stream",
     "text": [
      "i :  1205\n",
      "i :  1206\n",
      "i :  1207\n",
      "i :  1208\n",
      "i :  1209\n",
      "i :  1210\n",
      "i :  1211\n",
      "i :  1212\n"
     ]
    },
    {
     "name": "stderr",
     "output_type": "stream",
     "text": [
      "Batches: 100%|██████████| 1/1 [00:00<00:00, 86.47it/s]\n",
      "Batches: 100%|██████████| 1/1 [00:00<00:00, 76.91it/s]\n",
      "Batches: 100%|██████████| 1/1 [00:00<00:00, 87.90it/s]\n",
      "Batches: 100%|██████████| 1/1 [00:00<00:00, 86.73it/s]\n",
      "Batches: 100%|██████████| 1/1 [00:00<00:00, 88.37it/s]\n",
      "Batches: 100%|██████████| 1/1 [00:00<00:00, 88.91it/s]\n",
      "Batches: 100%|██████████| 1/1 [00:00<00:00, 89.09it/s]\n",
      "Batches: 100%|██████████| 1/1 [00:00<00:00, 87.46it/s]\n",
      "Batches: 100%|██████████| 1/1 [00:00<00:00, 88.19it/s]\n",
      "Batches: 100%|██████████| 1/1 [00:00<00:00, 89.43it/s]\n",
      "Batches: 100%|██████████| 1/1 [00:00<00:00, 88.52it/s]\n",
      "Batches: 100%|██████████| 1/1 [00:00<00:00, 86.41it/s]\n",
      "Batches: 100%|██████████| 1/1 [00:00<00:00, 88.06it/s]\n",
      "Batches: 100%|██████████| 1/1 [00:00<00:00, 87.20it/s]\n",
      "Batches: 100%|██████████| 1/1 [00:00<00:00, 88.04it/s]\n",
      "Batches: 100%|██████████| 1/1 [00:00<00:00, 89.64it/s]\n",
      "Batches:   0%|          | 0/1 [00:00<?, ?it/s]"
     ]
    },
    {
     "name": "stdout",
     "output_type": "stream",
     "text": [
      "i :  1213\n",
      "i :  1214\n",
      "i :  1215\n",
      "i :  1216\n",
      "i :  1217\n",
      "i :  1218\n",
      "i :  1219\n",
      "i :  1220\n"
     ]
    },
    {
     "name": "stderr",
     "output_type": "stream",
     "text": [
      "Batches: 100%|██████████| 1/1 [00:00<00:00, 86.68it/s]\n",
      "Batches: 100%|██████████| 1/1 [00:00<00:00, 79.04it/s]\n",
      "Batches: 100%|██████████| 1/1 [00:00<00:00, 82.66it/s]\n",
      "Batches: 100%|██████████| 1/1 [00:00<00:00, 86.93it/s]\n",
      "Batches: 100%|██████████| 1/1 [00:00<00:00, 84.92it/s]\n",
      "Batches: 100%|██████████| 1/1 [00:00<00:00, 82.35it/s]\n",
      "Batches: 100%|██████████| 1/1 [00:00<00:00, 89.93it/s]\n",
      "Batches: 100%|██████████| 1/1 [00:00<00:00, 88.93it/s]\n",
      "Batches: 100%|██████████| 1/1 [00:00<00:00, 88.71it/s]\n",
      "Batches: 100%|██████████| 1/1 [00:00<00:00, 88.46it/s]\n",
      "Batches: 100%|██████████| 1/1 [00:00<00:00, 89.72it/s]\n",
      "Batches: 100%|██████████| 1/1 [00:00<00:00, 88.87it/s]\n",
      "Batches: 100%|██████████| 1/1 [00:00<00:00, 88.55it/s]\n",
      "Batches: 100%|██████████| 1/1 [00:00<00:00, 89.45it/s]\n",
      "Batches: 100%|██████████| 1/1 [00:00<00:00, 88.49it/s]\n",
      "Batches: 100%|██████████| 1/1 [00:00<00:00, 88.59it/s]\n",
      "Batches:   0%|          | 0/1 [00:00<?, ?it/s]"
     ]
    },
    {
     "name": "stdout",
     "output_type": "stream",
     "text": [
      "i :  1221\n",
      "i :  1222\n",
      "i :  1223\n",
      "i :  1224\n",
      "i :  1225\n",
      "i :  1226\n",
      "i :  1227\n",
      "i :  1228\n"
     ]
    },
    {
     "name": "stderr",
     "output_type": "stream",
     "text": [
      "Batches: 100%|██████████| 1/1 [00:00<00:00, 86.13it/s]\n",
      "Batches: 100%|██████████| 1/1 [00:00<00:00, 72.03it/s]\n",
      "Batches: 100%|██████████| 1/1 [00:00<00:00, 87.41it/s]\n",
      "Batches: 100%|██████████| 1/1 [00:00<00:00, 86.47it/s]\n",
      "Batches: 100%|██████████| 1/1 [00:00<00:00, 87.57it/s]\n",
      "Batches: 100%|██████████| 1/1 [00:00<00:00, 88.88it/s]\n",
      "Batches: 100%|██████████| 1/1 [00:00<00:00, 89.25it/s]\n",
      "Batches: 100%|██████████| 1/1 [00:00<00:00, 86.49it/s]\n",
      "Batches: 100%|██████████| 1/1 [00:00<00:00, 89.41it/s]\n",
      "Batches: 100%|██████████| 1/1 [00:00<00:00, 89.26it/s]\n",
      "Batches: 100%|██████████| 1/1 [00:00<00:00, 87.97it/s]\n",
      "Batches: 100%|██████████| 1/1 [00:00<00:00, 88.84it/s]\n",
      "Batches: 100%|██████████| 1/1 [00:00<00:00, 87.63it/s]\n",
      "Batches: 100%|██████████| 1/1 [00:00<00:00, 89.43it/s]\n",
      "Batches: 100%|██████████| 1/1 [00:00<00:00, 88.73it/s]\n",
      "Batches: 100%|██████████| 1/1 [00:00<00:00, 89.03it/s]\n",
      "Batches:   0%|          | 0/1 [00:00<?, ?it/s]"
     ]
    },
    {
     "name": "stdout",
     "output_type": "stream",
     "text": [
      "i :  1229\n",
      "i :  1230\n",
      "i :  1231\n",
      "i :  1232\n",
      "i :  1233\n",
      "i :  1234\n",
      "i :  1235\n",
      "i :  1236\n"
     ]
    },
    {
     "name": "stderr",
     "output_type": "stream",
     "text": [
      "Batches: 100%|██████████| 1/1 [00:00<00:00, 86.24it/s]\n",
      "Batches: 100%|██████████| 1/1 [00:00<00:00, 89.03it/s]\n",
      "Batches: 100%|██████████| 1/1 [00:00<00:00, 88.38it/s]\n",
      "Batches: 100%|██████████| 1/1 [00:00<00:00, 85.58it/s]\n",
      "Batches: 100%|██████████| 1/1 [00:00<00:00, 87.46it/s]\n",
      "Batches: 100%|██████████| 1/1 [00:00<00:00, 86.91it/s]\n",
      "Batches: 100%|██████████| 1/1 [00:00<00:00, 88.80it/s]\n",
      "Batches: 100%|██████████| 1/1 [00:00<00:00, 89.48it/s]\n",
      "Batches: 100%|██████████| 1/1 [00:00<00:00, 88.72it/s]\n",
      "Batches: 100%|██████████| 1/1 [00:00<00:00, 89.75it/s]\n",
      "Batches: 100%|██████████| 1/1 [00:00<00:00, 87.74it/s]\n",
      "Batches: 100%|██████████| 1/1 [00:00<00:00, 89.05it/s]\n",
      "Batches: 100%|██████████| 1/1 [00:00<00:00, 88.34it/s]\n",
      "Batches: 100%|██████████| 1/1 [00:00<00:00, 89.64it/s]\n",
      "Batches: 100%|██████████| 1/1 [00:00<00:00, 88.63it/s]\n",
      "Batches: 100%|██████████| 1/1 [00:00<00:00, 64.73it/s]\n",
      "Batches:   0%|          | 0/1 [00:00<?, ?it/s]"
     ]
    },
    {
     "name": "stdout",
     "output_type": "stream",
     "text": [
      "i :  1237\n",
      "i :  1238\n",
      "i :  1239\n",
      "i :  1240\n",
      "i :  1241\n",
      "i :  1242\n",
      "i :  1243\n",
      "i :  1244\n"
     ]
    },
    {
     "name": "stderr",
     "output_type": "stream",
     "text": [
      "Batches: 100%|██████████| 1/1 [00:00<00:00, 86.36it/s]\n",
      "Batches: 100%|██████████| 1/1 [00:00<00:00, 86.84it/s]\n",
      "Batches: 100%|██████████| 1/1 [00:00<00:00, 65.91it/s]\n",
      "Batches: 100%|██████████| 1/1 [00:00<00:00, 59.02it/s]\n",
      "Batches: 100%|██████████| 1/1 [00:00<00:00, 83.47it/s]\n",
      "Batches: 100%|██████████| 1/1 [00:00<00:00, 83.34it/s]\n",
      "Batches: 100%|██████████| 1/1 [00:00<00:00, 83.55it/s]\n",
      "Batches: 100%|██████████| 1/1 [00:00<00:00, 80.59it/s]\n",
      "Batches: 100%|██████████| 1/1 [00:00<00:00, 83.14it/s]\n",
      "Batches: 100%|██████████| 1/1 [00:00<00:00, 86.98it/s]\n",
      "Batches: 100%|██████████| 1/1 [00:00<00:00, 82.99it/s]\n",
      "Batches: 100%|██████████| 1/1 [00:00<00:00, 83.65it/s]\n",
      "Batches: 100%|██████████| 1/1 [00:00<00:00, 82.94it/s]\n",
      "Batches: 100%|██████████| 1/1 [00:00<00:00, 54.29it/s]\n",
      "Batches: 100%|██████████| 1/1 [00:00<00:00, 89.01it/s]\n",
      "Batches:   0%|          | 0/1 [00:00<?, ?it/s]"
     ]
    },
    {
     "name": "stdout",
     "output_type": "stream",
     "text": [
      "i :  1245\n",
      "i :  1246\n",
      "i :  1247\n",
      "i :  1248\n",
      "i :  1249\n",
      "i :  1250\n",
      "i :  1251\n",
      "i :  1252\n"
     ]
    },
    {
     "name": "stderr",
     "output_type": "stream",
     "text": [
      "Batches: 100%|██████████| 1/1 [00:00<00:00, 73.45it/s]\n",
      "Batches: 100%|██████████| 1/1 [00:00<00:00, 92.68it/s]\n",
      "Batches: 100%|██████████| 1/1 [00:00<00:00, 91.16it/s]\n",
      "Batches: 100%|██████████| 1/1 [00:00<00:00, 89.20it/s]\n",
      "Batches: 100%|██████████| 1/1 [00:00<00:00, 90.99it/s]\n",
      "Batches: 100%|██████████| 1/1 [00:00<00:00, 89.65it/s]\n",
      "Batches: 100%|██████████| 1/1 [00:00<00:00, 93.36it/s]\n",
      "Batches: 100%|██████████| 1/1 [00:00<00:00, 89.83it/s]\n",
      "Batches: 100%|██████████| 1/1 [00:00<00:00, 88.47it/s]\n",
      "Batches: 100%|██████████| 1/1 [00:00<00:00, 91.07it/s]\n",
      "Batches: 100%|██████████| 1/1 [00:00<00:00, 89.02it/s]\n",
      "Batches: 100%|██████████| 1/1 [00:00<00:00, 89.84it/s]\n",
      "Batches: 100%|██████████| 1/1 [00:00<00:00, 90.12it/s]\n",
      "Batches: 100%|██████████| 1/1 [00:00<00:00, 90.11it/s]\n",
      "Batches: 100%|██████████| 1/1 [00:00<00:00, 92.06it/s]\n",
      "Batches: 100%|██████████| 1/1 [00:00<00:00, 89.93it/s]\n",
      "Batches: 100%|██████████| 1/1 [00:00<00:00, 91.33it/s]\n",
      "Batches: 100%|██████████| 1/1 [00:00<00:00, 88.96it/s]\n",
      "Batches:   0%|          | 0/1 [00:00<?, ?it/s]"
     ]
    },
    {
     "name": "stdout",
     "output_type": "stream",
     "text": [
      "i :  1253\n",
      "i :  1254\n",
      "i :  1255\n",
      "i :  1256\n",
      "i :  1257\n",
      "i :  1258\n",
      "i :  1259\n",
      "i :  1260\n",
      "i :  1261\n"
     ]
    },
    {
     "name": "stderr",
     "output_type": "stream",
     "text": [
      "Batches: 100%|██████████| 1/1 [00:00<00:00, 89.01it/s]\n",
      "Batches: 100%|██████████| 1/1 [00:00<00:00, 89.26it/s]\n",
      "Batches: 100%|██████████| 1/1 [00:00<00:00, 89.96it/s]\n",
      "Batches: 100%|██████████| 1/1 [00:00<00:00, 90.54it/s]\n",
      "Batches: 100%|██████████| 1/1 [00:00<00:00, 91.04it/s]\n",
      "Batches: 100%|██████████| 1/1 [00:00<00:00, 84.04it/s]\n",
      "Batches: 100%|██████████| 1/1 [00:00<00:00, 90.63it/s]\n",
      "Batches: 100%|██████████| 1/1 [00:00<00:00, 88.95it/s]\n",
      "Batches: 100%|██████████| 1/1 [00:00<00:00, 87.93it/s]\n",
      "Batches: 100%|██████████| 1/1 [00:00<00:00, 89.84it/s]\n",
      "Batches: 100%|██████████| 1/1 [00:00<00:00, 90.69it/s]\n",
      "Batches: 100%|██████████| 1/1 [00:00<00:00, 89.62it/s]\n",
      "Batches: 100%|██████████| 1/1 [00:00<00:00, 90.80it/s]\n",
      "Batches: 100%|██████████| 1/1 [00:00<00:00, 89.45it/s]\n",
      "Batches: 100%|██████████| 1/1 [00:00<00:00, 88.30it/s]\n",
      "Batches: 100%|██████████| 1/1 [00:00<00:00, 91.97it/s]\n",
      "Batches: 100%|██████████| 1/1 [00:00<00:00, 89.03it/s]\n",
      "Batches: 100%|██████████| 1/1 [00:00<00:00, 92.90it/s]\n",
      "Batches:   0%|          | 0/1 [00:00<?, ?it/s]"
     ]
    },
    {
     "name": "stdout",
     "output_type": "stream",
     "text": [
      "i :  1262\n",
      "i :  1263\n",
      "i :  1264\n",
      "i :  1265\n",
      "i :  1266\n",
      "i :  1267\n",
      "i :  1268\n",
      "i :  1269\n",
      "i :  1270\n"
     ]
    },
    {
     "name": "stderr",
     "output_type": "stream",
     "text": [
      "Batches: 100%|██████████| 1/1 [00:00<00:00, 89.45it/s]\n",
      "Batches: 100%|██████████| 1/1 [00:00<00:00, 88.77it/s]\n",
      "Batches: 100%|██████████| 1/1 [00:00<00:00, 93.98it/s]\n",
      "Batches: 100%|██████████| 1/1 [00:00<00:00, 93.56it/s]\n",
      "Batches: 100%|██████████| 1/1 [00:00<00:00, 90.82it/s]\n",
      "Batches: 100%|██████████| 1/1 [00:00<00:00, 89.93it/s]\n",
      "Batches: 100%|██████████| 1/1 [00:00<00:00, 90.30it/s]\n",
      "Batches: 100%|██████████| 1/1 [00:00<00:00, 92.31it/s]\n",
      "Batches: 100%|██████████| 1/1 [00:00<00:00, 91.05it/s]\n",
      "Batches: 100%|██████████| 1/1 [00:00<00:00, 88.31it/s]\n",
      "Batches: 100%|██████████| 1/1 [00:00<00:00, 65.95it/s]\n",
      "Batches: 100%|██████████| 1/1 [00:00<00:00, 89.13it/s]\n",
      "Batches: 100%|██████████| 1/1 [00:00<00:00, 85.54it/s]\n",
      "Batches: 100%|██████████| 1/1 [00:00<00:00, 89.75it/s]\n",
      "Batches: 100%|██████████| 1/1 [00:00<00:00, 88.57it/s]\n",
      "Batches: 100%|██████████| 1/1 [00:00<00:00, 87.93it/s]\n",
      "Batches: 100%|██████████| 1/1 [00:00<00:00, 90.07it/s]\n",
      "Batches:   0%|          | 0/1 [00:00<?, ?it/s]"
     ]
    },
    {
     "name": "stdout",
     "output_type": "stream",
     "text": [
      "i :  1271\n",
      "i :  1272\n",
      "i :  1273\n",
      "i :  1274\n",
      "i :  1275\n",
      "i :  1276\n",
      "i :  1277\n",
      "i :  1278\n"
     ]
    },
    {
     "name": "stderr",
     "output_type": "stream",
     "text": [
      "Batches: 100%|██████████| 1/1 [00:00<00:00, 87.93it/s]\n",
      "Batches: 100%|██████████| 1/1 [00:00<00:00, 91.69it/s]\n",
      "Batches: 100%|██████████| 1/1 [00:00<00:00, 88.38it/s]\n",
      "Batches: 100%|██████████| 1/1 [00:00<00:00, 85.36it/s]\n",
      "Batches: 100%|██████████| 1/1 [00:00<00:00, 88.39it/s]\n",
      "Batches: 100%|██████████| 1/1 [00:00<00:00, 90.23it/s]\n",
      "Batches: 100%|██████████| 1/1 [00:00<00:00, 89.27it/s]\n",
      "Batches: 100%|██████████| 1/1 [00:00<00:00, 93.01it/s]\n",
      "Batches: 100%|██████████| 1/1 [00:00<00:00, 88.43it/s]\n",
      "Batches: 100%|██████████| 1/1 [00:00<00:00, 89.86it/s]\n",
      "Batches: 100%|██████████| 1/1 [00:00<00:00, 62.68it/s]\n",
      "Batches: 100%|██████████| 1/1 [00:00<00:00, 86.84it/s]\n",
      "Batches: 100%|██████████| 1/1 [00:00<00:00, 87.21it/s]\n",
      "Batches: 100%|██████████| 1/1 [00:00<00:00, 87.23it/s]\n",
      "Batches: 100%|██████████| 1/1 [00:00<00:00, 88.18it/s]\n",
      "Batches: 100%|██████████| 1/1 [00:00<00:00, 91.39it/s]\n",
      "Batches:   0%|          | 0/1 [00:00<?, ?it/s]"
     ]
    },
    {
     "name": "stdout",
     "output_type": "stream",
     "text": [
      "i :  1279\n",
      "i :  1280\n",
      "i :  1281\n",
      "i :  1282\n",
      "i :  1283\n",
      "i :  1284\n",
      "i :  1285\n",
      "i :  1286\n"
     ]
    },
    {
     "name": "stderr",
     "output_type": "stream",
     "text": [
      "Batches: 100%|██████████| 1/1 [00:00<00:00, 89.18it/s]\n",
      "Batches: 100%|██████████| 1/1 [00:00<00:00, 91.56it/s]\n",
      "Batches: 100%|██████████| 1/1 [00:00<00:00, 93.53it/s]\n",
      "Batches: 100%|██████████| 1/1 [00:00<00:00, 92.77it/s]\n",
      "Batches: 100%|██████████| 1/1 [00:00<00:00, 93.01it/s]\n",
      "Batches: 100%|██████████| 1/1 [00:00<00:00, 93.26it/s]\n",
      "Batches: 100%|██████████| 1/1 [00:00<00:00, 92.32it/s]\n",
      "Batches: 100%|██████████| 1/1 [00:00<00:00, 91.70it/s]\n",
      "Batches: 100%|██████████| 1/1 [00:00<00:00, 92.70it/s]\n",
      "Batches: 100%|██████████| 1/1 [00:00<00:00, 92.75it/s]\n",
      "Batches: 100%|██████████| 1/1 [00:00<00:00, 90.22it/s]\n",
      "Batches: 100%|██████████| 1/1 [00:00<00:00, 89.70it/s]\n",
      "Batches: 100%|██████████| 1/1 [00:00<00:00, 93.87it/s]\n",
      "Batches: 100%|██████████| 1/1 [00:00<00:00, 91.85it/s]\n",
      "Batches: 100%|██████████| 1/1 [00:00<00:00, 90.53it/s]\n",
      "Batches: 100%|██████████| 1/1 [00:00<00:00, 92.01it/s]\n",
      "Batches: 100%|██████████| 1/1 [00:00<00:00, 90.48it/s]\n",
      "Batches:   0%|          | 0/1 [00:00<?, ?it/s]"
     ]
    },
    {
     "name": "stdout",
     "output_type": "stream",
     "text": [
      "i :  1287\n",
      "i :  1288\n",
      "i :  1289\n",
      "i :  1290\n",
      "i :  1291\n",
      "i :  1292\n",
      "i :  1293\n",
      "i :  1294\n",
      "i :  1295\n"
     ]
    },
    {
     "name": "stderr",
     "output_type": "stream",
     "text": [
      "Batches: 100%|██████████| 1/1 [00:00<00:00, 87.38it/s]\n",
      "Batches: 100%|██████████| 1/1 [00:00<00:00, 92.62it/s]\n",
      "Batches: 100%|██████████| 1/1 [00:00<00:00, 87.92it/s]\n",
      "Batches: 100%|██████████| 1/1 [00:00<00:00, 90.16it/s]\n",
      "Batches: 100%|██████████| 1/1 [00:00<00:00, 89.94it/s]\n",
      "Batches: 100%|██████████| 1/1 [00:00<00:00, 89.80it/s]\n",
      "Batches: 100%|██████████| 1/1 [00:00<00:00, 93.29it/s]\n",
      "Batches: 100%|██████████| 1/1 [00:00<00:00, 90.54it/s]\n",
      "Batches: 100%|██████████| 1/1 [00:00<00:00, 92.45it/s]\n",
      "Batches: 100%|██████████| 1/1 [00:00<00:00, 90.44it/s]\n",
      "Batches: 100%|██████████| 1/1 [00:00<00:00, 91.81it/s]\n",
      "Batches: 100%|██████████| 1/1 [00:00<00:00, 91.31it/s]\n",
      "Batches: 100%|██████████| 1/1 [00:00<00:00, 92.75it/s]\n",
      "Batches: 100%|██████████| 1/1 [00:00<00:00, 90.39it/s]\n",
      "Batches: 100%|██████████| 1/1 [00:00<00:00, 91.90it/s]\n",
      "Batches: 100%|██████████| 1/1 [00:00<00:00, 93.57it/s]\n",
      "Batches: 100%|██████████| 1/1 [00:00<00:00, 91.40it/s]\n",
      "Batches: 100%|██████████| 1/1 [00:00<00:00, 95.53it/s]\n",
      "Batches:   0%|          | 0/1 [00:00<?, ?it/s]"
     ]
    },
    {
     "name": "stdout",
     "output_type": "stream",
     "text": [
      "i :  1296\n",
      "i :  1297\n",
      "i :  1298\n",
      "i :  1299\n",
      "i :  1300\n",
      "i :  1301\n",
      "i :  1302\n",
      "i :  1303\n",
      "i :  1304\n"
     ]
    },
    {
     "name": "stderr",
     "output_type": "stream",
     "text": [
      "Batches: 100%|██████████| 1/1 [00:00<00:00, 89.88it/s]\n",
      "Batches: 100%|██████████| 1/1 [00:00<00:00, 92.43it/s]\n",
      "Batches: 100%|██████████| 1/1 [00:00<00:00, 92.01it/s]\n",
      "Batches: 100%|██████████| 1/1 [00:00<00:00, 92.65it/s]\n",
      "Batches: 100%|██████████| 1/1 [00:00<00:00, 91.42it/s]\n",
      "Batches: 100%|██████████| 1/1 [00:00<00:00, 90.98it/s]\n",
      "Batches: 100%|██████████| 1/1 [00:00<00:00, 93.34it/s]\n",
      "Batches: 100%|██████████| 1/1 [00:00<00:00, 90.52it/s]\n",
      "Batches: 100%|██████████| 1/1 [00:00<00:00, 92.66it/s]\n",
      "Batches: 100%|██████████| 1/1 [00:00<00:00, 90.73it/s]\n",
      "Batches: 100%|██████████| 1/1 [00:00<00:00, 63.60it/s]\n",
      "Batches: 100%|██████████| 1/1 [00:00<00:00, 93.62it/s]\n",
      "Batches: 100%|██████████| 1/1 [00:00<00:00, 73.09it/s]\n",
      "Batches: 100%|██████████| 1/1 [00:00<00:00, 93.11it/s]\n",
      "Batches: 100%|██████████| 1/1 [00:00<00:00, 91.25it/s]\n",
      "Batches: 100%|██████████| 1/1 [00:00<00:00, 89.86it/s]\n",
      "Batches: 100%|██████████| 1/1 [00:00<00:00, 91.30it/s]\n",
      "Batches:   0%|          | 0/1 [00:00<?, ?it/s]"
     ]
    },
    {
     "name": "stdout",
     "output_type": "stream",
     "text": [
      "i :  1305\n",
      "i :  1306\n",
      "i :  1307\n",
      "i :  1308\n",
      "i :  1309\n",
      "i :  1310\n",
      "i :  1311\n",
      "i :  1312\n"
     ]
    },
    {
     "name": "stderr",
     "output_type": "stream",
     "text": [
      "Batches: 100%|██████████| 1/1 [00:00<00:00, 89.27it/s]\n",
      "Batches: 100%|██████████| 1/1 [00:00<00:00, 90.00it/s]\n",
      "Batches: 100%|██████████| 1/1 [00:00<00:00, 87.99it/s]\n",
      "Batches: 100%|██████████| 1/1 [00:00<00:00, 89.54it/s]\n",
      "Batches: 100%|██████████| 1/1 [00:00<00:00, 90.72it/s]\n",
      "Batches: 100%|██████████| 1/1 [00:00<00:00, 91.74it/s]\n",
      "Batches: 100%|██████████| 1/1 [00:00<00:00, 85.45it/s]\n",
      "Batches: 100%|██████████| 1/1 [00:00<00:00, 91.78it/s]\n",
      "Batches: 100%|██████████| 1/1 [00:00<00:00, 89.72it/s]\n",
      "Batches: 100%|██████████| 1/1 [00:00<00:00, 90.81it/s]\n",
      "Batches: 100%|██████████| 1/1 [00:00<00:00, 91.49it/s]\n",
      "Batches: 100%|██████████| 1/1 [00:00<00:00, 91.40it/s]\n",
      "Batches: 100%|██████████| 1/1 [00:00<00:00, 90.77it/s]\n",
      "Batches: 100%|██████████| 1/1 [00:00<00:00, 91.28it/s]\n",
      "Batches: 100%|██████████| 1/1 [00:00<00:00, 90.79it/s]\n",
      "Batches: 100%|██████████| 1/1 [00:00<00:00, 78.54it/s]\n",
      "Batches:   0%|          | 0/1 [00:00<?, ?it/s]"
     ]
    },
    {
     "name": "stdout",
     "output_type": "stream",
     "text": [
      "i :  1313\n",
      "i :  1314\n",
      "i :  1315\n",
      "i :  1316\n",
      "i :  1317\n",
      "i :  1318\n",
      "i :  1319\n",
      "i :  1320\n"
     ]
    },
    {
     "name": "stderr",
     "output_type": "stream",
     "text": [
      "Batches: 100%|██████████| 1/1 [00:00<00:00, 81.56it/s]\n",
      "Batches: 100%|██████████| 1/1 [00:00<00:00, 91.14it/s]\n",
      "Batches: 100%|██████████| 1/1 [00:00<00:00, 91.42it/s]\n",
      "Batches: 100%|██████████| 1/1 [00:00<00:00, 91.36it/s]\n",
      "Batches: 100%|██████████| 1/1 [00:00<00:00, 90.86it/s]\n",
      "Batches: 100%|██████████| 1/1 [00:00<00:00, 88.53it/s]\n",
      "Batches: 100%|██████████| 1/1 [00:00<00:00, 90.73it/s]\n",
      "Batches: 100%|██████████| 1/1 [00:00<00:00, 91.62it/s]\n",
      "Batches: 100%|██████████| 1/1 [00:00<00:00, 91.11it/s]\n",
      "Batches: 100%|██████████| 1/1 [00:00<00:00, 92.06it/s]\n",
      "Batches: 100%|██████████| 1/1 [00:00<00:00, 92.58it/s]\n",
      "Batches: 100%|██████████| 1/1 [00:00<00:00, 91.59it/s]\n",
      "Batches: 100%|██████████| 1/1 [00:00<00:00, 82.83it/s]\n",
      "Batches: 100%|██████████| 1/1 [00:00<00:00, 75.08it/s]\n",
      "Batches: 100%|██████████| 1/1 [00:00<00:00, 63.02it/s]\n",
      "Batches: 100%|██████████| 1/1 [00:00<00:00, 90.46it/s]\n",
      "Batches:   0%|          | 0/1 [00:00<?, ?it/s]"
     ]
    },
    {
     "name": "stdout",
     "output_type": "stream",
     "text": [
      "i :  1321\n",
      "i :  1322\n",
      "i :  1323\n",
      "i :  1324\n",
      "i :  1325\n",
      "i :  1326\n",
      "i :  1327\n",
      "i :  1328\n"
     ]
    },
    {
     "name": "stderr",
     "output_type": "stream",
     "text": [
      "Batches: 100%|██████████| 1/1 [00:00<00:00, 88.64it/s]\n",
      "Batches: 100%|██████████| 1/1 [00:00<00:00, 92.07it/s]\n",
      "Batches: 100%|██████████| 1/1 [00:00<00:00, 91.97it/s]\n",
      "Batches: 100%|██████████| 1/1 [00:00<00:00, 91.90it/s]\n",
      "Batches: 100%|██████████| 1/1 [00:00<00:00, 93.12it/s]\n",
      "Batches: 100%|██████████| 1/1 [00:00<00:00, 90.79it/s]\n",
      "Batches: 100%|██████████| 1/1 [00:00<00:00, 91.01it/s]\n",
      "Batches: 100%|██████████| 1/1 [00:00<00:00, 88.38it/s]\n",
      "Batches: 100%|██████████| 1/1 [00:00<00:00, 90.21it/s]\n",
      "Batches: 100%|██████████| 1/1 [00:00<00:00, 88.05it/s]\n",
      "Batches: 100%|██████████| 1/1 [00:00<00:00, 91.30it/s]\n",
      "Batches: 100%|██████████| 1/1 [00:00<00:00, 79.14it/s]\n",
      "Batches: 100%|██████████| 1/1 [00:00<00:00, 87.59it/s]\n",
      "Batches: 100%|██████████| 1/1 [00:00<00:00, 74.03it/s]\n",
      "Batches: 100%|██████████| 1/1 [00:00<00:00, 91.31it/s]\n",
      "Batches: 100%|██████████| 1/1 [00:00<00:00, 86.46it/s]\n",
      "Batches:   0%|          | 0/1 [00:00<?, ?it/s]"
     ]
    },
    {
     "name": "stdout",
     "output_type": "stream",
     "text": [
      "i :  1329\n",
      "i :  1330\n",
      "i :  1331\n",
      "i :  1332\n",
      "i :  1333\n",
      "i :  1334\n",
      "i :  1335\n",
      "i :  1336\n"
     ]
    },
    {
     "name": "stderr",
     "output_type": "stream",
     "text": [
      "Batches: 100%|██████████| 1/1 [00:00<00:00, 71.68it/s]\n",
      "Batches: 100%|██████████| 1/1 [00:00<00:00, 91.00it/s]\n",
      "Batches: 100%|██████████| 1/1 [00:00<00:00, 89.95it/s]\n",
      "Batches: 100%|██████████| 1/1 [00:00<00:00, 90.42it/s]\n",
      "Batches: 100%|██████████| 1/1 [00:00<00:00, 91.07it/s]\n",
      "Batches: 100%|██████████| 1/1 [00:00<00:00, 90.35it/s]\n",
      "Batches: 100%|██████████| 1/1 [00:00<00:00, 93.78it/s]\n",
      "Batches: 100%|██████████| 1/1 [00:00<00:00, 90.99it/s]\n",
      "Batches: 100%|██████████| 1/1 [00:00<00:00, 90.32it/s]\n",
      "Batches: 100%|██████████| 1/1 [00:00<00:00, 93.54it/s]\n",
      "Batches: 100%|██████████| 1/1 [00:00<00:00, 90.53it/s]\n",
      "Batches: 100%|██████████| 1/1 [00:00<00:00, 93.60it/s]\n",
      "Batches: 100%|██████████| 1/1 [00:00<00:00, 92.28it/s]\n",
      "Batches: 100%|██████████| 1/1 [00:00<00:00, 93.78it/s]\n",
      "Batches: 100%|██████████| 1/1 [00:00<00:00, 88.12it/s]\n",
      "Batches: 100%|██████████| 1/1 [00:00<00:00, 90.79it/s]\n",
      "Batches:   0%|          | 0/1 [00:00<?, ?it/s]"
     ]
    },
    {
     "name": "stdout",
     "output_type": "stream",
     "text": [
      "i :  1337\n",
      "i :  1338\n",
      "i :  1339\n",
      "i :  1340\n",
      "i :  1341\n",
      "i :  1342\n",
      "i :  1343\n",
      "i :  1344\n"
     ]
    },
    {
     "name": "stderr",
     "output_type": "stream",
     "text": [
      "Batches: 100%|██████████| 1/1 [00:00<00:00, 84.54it/s]\n",
      "Batches: 100%|██████████| 1/1 [00:00<00:00, 89.63it/s]\n",
      "Batches: 100%|██████████| 1/1 [00:00<00:00, 91.36it/s]\n",
      "Batches: 100%|██████████| 1/1 [00:00<00:00, 94.01it/s]\n",
      "Batches: 100%|██████████| 1/1 [00:00<00:00, 90.83it/s]\n",
      "Batches: 100%|██████████| 1/1 [00:00<00:00, 89.14it/s]\n",
      "Batches: 100%|██████████| 1/1 [00:00<00:00, 91.31it/s]\n",
      "Batches: 100%|██████████| 1/1 [00:00<00:00, 87.73it/s]\n",
      "Batches: 100%|██████████| 1/1 [00:00<00:00, 89.84it/s]\n",
      "Batches: 100%|██████████| 1/1 [00:00<00:00, 89.44it/s]\n",
      "Batches: 100%|██████████| 1/1 [00:00<00:00, 91.97it/s]\n",
      "Batches: 100%|██████████| 1/1 [00:00<00:00, 88.89it/s]\n",
      "Batches: 100%|██████████| 1/1 [00:00<00:00, 92.97it/s]\n",
      "Batches: 100%|██████████| 1/1 [00:00<00:00, 88.03it/s]\n",
      "Batches: 100%|██████████| 1/1 [00:00<00:00, 90.35it/s]\n",
      "Batches: 100%|██████████| 1/1 [00:00<00:00, 93.11it/s]\n",
      "Batches: 100%|██████████| 1/1 [00:00<00:00, 91.63it/s]\n",
      "Batches:   0%|          | 0/1 [00:00<?, ?it/s]"
     ]
    },
    {
     "name": "stdout",
     "output_type": "stream",
     "text": [
      "i :  1345\n",
      "i :  1346\n",
      "i :  1347\n",
      "i :  1348\n",
      "i :  1349\n",
      "i :  1350\n",
      "i :  1351\n",
      "i :  1352\n",
      "i :  1353\n"
     ]
    },
    {
     "name": "stderr",
     "output_type": "stream",
     "text": [
      "Batches: 100%|██████████| 1/1 [00:00<00:00, 86.31it/s]\n",
      "Batches: 100%|██████████| 1/1 [00:00<00:00, 90.70it/s]\n",
      "Batches: 100%|██████████| 1/1 [00:00<00:00, 89.69it/s]\n",
      "Batches: 100%|██████████| 1/1 [00:00<00:00, 90.74it/s]\n",
      "Batches: 100%|██████████| 1/1 [00:00<00:00, 87.87it/s]\n",
      "Batches: 100%|██████████| 1/1 [00:00<00:00, 89.06it/s]\n",
      "Batches: 100%|██████████| 1/1 [00:00<00:00, 92.59it/s]\n",
      "Batches: 100%|██████████| 1/1 [00:00<00:00, 90.37it/s]\n",
      "Batches: 100%|██████████| 1/1 [00:00<00:00, 88.53it/s]\n",
      "Batches: 100%|██████████| 1/1 [00:00<00:00, 90.02it/s]\n",
      "Batches: 100%|██████████| 1/1 [00:00<00:00, 92.15it/s]\n",
      "Batches: 100%|██████████| 1/1 [00:00<00:00, 90.17it/s]\n",
      "Batches: 100%|██████████| 1/1 [00:00<00:00, 90.05it/s]\n",
      "Batches: 100%|██████████| 1/1 [00:00<00:00, 93.38it/s]\n",
      "Batches: 100%|██████████| 1/1 [00:00<00:00, 92.06it/s]\n",
      "Batches: 100%|██████████| 1/1 [00:00<00:00, 89.90it/s]\n",
      "Batches: 100%|██████████| 1/1 [00:00<00:00, 88.72it/s]\n",
      "Batches: 100%|██████████| 1/1 [00:00<00:00, 89.99it/s]\n",
      "Batches:   0%|          | 0/1 [00:00<?, ?it/s]"
     ]
    },
    {
     "name": "stdout",
     "output_type": "stream",
     "text": [
      "i :  1354\n",
      "i :  1355\n",
      "i :  1356\n",
      "i :  1357\n",
      "i :  1358\n",
      "i :  1359\n",
      "i :  1360\n",
      "i :  1361\n",
      "i :  1362\n"
     ]
    },
    {
     "name": "stderr",
     "output_type": "stream",
     "text": [
      "Batches: 100%|██████████| 1/1 [00:00<00:00, 90.20it/s]\n",
      "Batches: 100%|██████████| 1/1 [00:00<00:00, 91.22it/s]\n",
      "Batches: 100%|██████████| 1/1 [00:00<00:00, 91.18it/s]\n",
      "Batches: 100%|██████████| 1/1 [00:00<00:00, 92.84it/s]\n",
      "Batches: 100%|██████████| 1/1 [00:00<00:00, 91.19it/s]\n",
      "Batches: 100%|██████████| 1/1 [00:00<00:00, 90.64it/s]\n",
      "Batches: 100%|██████████| 1/1 [00:00<00:00, 88.05it/s]\n",
      "Batches: 100%|██████████| 1/1 [00:00<00:00, 91.35it/s]\n",
      "Batches: 100%|██████████| 1/1 [00:00<00:00, 91.19it/s]\n",
      "Batches: 100%|██████████| 1/1 [00:00<00:00, 89.81it/s]\n",
      "Batches: 100%|██████████| 1/1 [00:00<00:00, 94.30it/s]\n",
      "Batches: 100%|██████████| 1/1 [00:00<00:00, 94.52it/s]\n",
      "Batches: 100%|██████████| 1/1 [00:00<00:00, 95.20it/s]\n",
      "Batches: 100%|██████████| 1/1 [00:00<00:00, 92.57it/s]\n",
      "Batches: 100%|██████████| 1/1 [00:00<00:00, 93.29it/s]\n",
      "Batches: 100%|██████████| 1/1 [00:00<00:00, 94.83it/s]\n",
      "Batches: 100%|██████████| 1/1 [00:00<00:00, 90.04it/s]\n",
      "Batches: 100%|██████████| 1/1 [00:00<00:00, 90.24it/s]\n",
      "Batches:   0%|          | 0/1 [00:00<?, ?it/s]"
     ]
    },
    {
     "name": "stdout",
     "output_type": "stream",
     "text": [
      "i :  1363\n",
      "i :  1364\n",
      "i :  1365\n",
      "i :  1366\n",
      "i :  1367\n",
      "i :  1368\n",
      "i :  1369\n",
      "i :  1370\n",
      "i :  1371\n"
     ]
    },
    {
     "name": "stderr",
     "output_type": "stream",
     "text": [
      "Batches: 100%|██████████| 1/1 [00:00<00:00, 89.08it/s]\n",
      "Batches: 100%|██████████| 1/1 [00:00<00:00, 59.66it/s]\n",
      "Batches: 100%|██████████| 1/1 [00:00<00:00, 89.88it/s]\n",
      "Batches: 100%|██████████| 1/1 [00:00<00:00, 91.01it/s]\n",
      "Batches: 100%|██████████| 1/1 [00:00<00:00, 92.57it/s]\n",
      "Batches: 100%|██████████| 1/1 [00:00<00:00, 94.39it/s]\n",
      "Batches: 100%|██████████| 1/1 [00:00<00:00, 90.46it/s]\n",
      "Batches: 100%|██████████| 1/1 [00:00<00:00, 89.83it/s]\n",
      "Batches: 100%|██████████| 1/1 [00:00<00:00, 92.04it/s]\n",
      "Batches: 100%|██████████| 1/1 [00:00<00:00, 90.52it/s]\n",
      "Batches: 100%|██████████| 1/1 [00:00<00:00, 92.40it/s]\n",
      "Batches: 100%|██████████| 1/1 [00:00<00:00, 93.98it/s]\n",
      "Batches: 100%|██████████| 1/1 [00:00<00:00, 92.78it/s]\n",
      "Batches: 100%|██████████| 1/1 [00:00<00:00, 89.37it/s]\n",
      "Batches: 100%|██████████| 1/1 [00:00<00:00, 92.77it/s]\n",
      "Batches: 100%|██████████| 1/1 [00:00<00:00, 90.10it/s]\n",
      "Batches: 100%|██████████| 1/1 [00:00<00:00, 91.37it/s]\n",
      "Batches: 100%|██████████| 1/1 [00:00<00:00, 90.28it/s]\n",
      "Batches:   0%|          | 0/1 [00:00<?, ?it/s]"
     ]
    },
    {
     "name": "stdout",
     "output_type": "stream",
     "text": [
      "i :  1372\n",
      "i :  1373\n",
      "i :  1374\n",
      "i :  1375\n",
      "i :  1376\n",
      "i :  1377\n",
      "i :  1378\n",
      "i :  1379\n",
      "i :  1380\n"
     ]
    },
    {
     "name": "stderr",
     "output_type": "stream",
     "text": [
      "Batches: 100%|██████████| 1/1 [00:00<00:00, 89.62it/s]\n",
      "Batches: 100%|██████████| 1/1 [00:00<00:00, 91.35it/s]\n",
      "Batches: 100%|██████████| 1/1 [00:00<00:00, 91.21it/s]\n",
      "Batches: 100%|██████████| 1/1 [00:00<00:00, 92.05it/s]\n",
      "Batches: 100%|██████████| 1/1 [00:00<00:00, 92.49it/s]\n",
      "Batches: 100%|██████████| 1/1 [00:00<00:00, 91.88it/s]\n",
      "Batches: 100%|██████████| 1/1 [00:00<00:00, 91.24it/s]\n",
      "Batches: 100%|██████████| 1/1 [00:00<00:00, 92.03it/s]\n",
      "Batches: 100%|██████████| 1/1 [00:00<00:00, 91.49it/s]\n",
      "Batches: 100%|██████████| 1/1 [00:00<00:00, 89.93it/s]\n",
      "Batches: 100%|██████████| 1/1 [00:00<00:00, 91.54it/s]\n",
      "Batches: 100%|██████████| 1/1 [00:00<00:00, 91.55it/s]\n",
      "Batches: 100%|██████████| 1/1 [00:00<00:00, 91.28it/s]\n",
      "Batches: 100%|██████████| 1/1 [00:00<00:00, 89.00it/s]\n",
      "Batches: 100%|██████████| 1/1 [00:00<00:00, 88.04it/s]\n",
      "Batches: 100%|██████████| 1/1 [00:00<00:00, 91.46it/s]\n",
      "Batches: 100%|██████████| 1/1 [00:00<00:00, 89.22it/s]\n",
      "Batches: 100%|██████████| 1/1 [00:00<00:00, 91.05it/s]\n",
      "Batches:   0%|          | 0/1 [00:00<?, ?it/s]"
     ]
    },
    {
     "name": "stdout",
     "output_type": "stream",
     "text": [
      "i :  1381\n",
      "i :  1382\n",
      "i :  1383\n",
      "i :  1384\n",
      "i :  1385\n",
      "i :  1386\n",
      "i :  1387\n",
      "i :  1388\n",
      "i :  1389\n"
     ]
    },
    {
     "name": "stderr",
     "output_type": "stream",
     "text": [
      "Batches: 100%|██████████| 1/1 [00:00<00:00, 79.08it/s]\n",
      "Batches: 100%|██████████| 1/1 [00:00<00:00, 78.20it/s]\n",
      "Batches: 100%|██████████| 1/1 [00:00<00:00, 60.41it/s]\n",
      "Batches: 100%|██████████| 1/1 [00:00<00:00, 91.81it/s]\n",
      "Batches: 100%|██████████| 1/1 [00:00<00:00, 90.02it/s]\n",
      "Batches: 100%|██████████| 1/1 [00:00<00:00, 90.22it/s]\n",
      "Batches: 100%|██████████| 1/1 [00:00<00:00, 92.78it/s]\n",
      "Batches: 100%|██████████| 1/1 [00:00<00:00, 89.84it/s]\n",
      "Batches: 100%|██████████| 1/1 [00:00<00:00, 84.78it/s]\n",
      "Batches: 100%|██████████| 1/1 [00:00<00:00, 88.22it/s]\n",
      "Batches: 100%|██████████| 1/1 [00:00<00:00, 90.16it/s]\n",
      "Batches: 100%|██████████| 1/1 [00:00<00:00, 93.28it/s]\n",
      "Batches: 100%|██████████| 1/1 [00:00<00:00, 92.20it/s]\n",
      "Batches: 100%|██████████| 1/1 [00:00<00:00, 89.81it/s]\n",
      "Batches: 100%|██████████| 1/1 [00:00<00:00, 92.79it/s]\n",
      "Batches: 100%|██████████| 1/1 [00:00<00:00, 91.74it/s]\n",
      "Batches: 100%|██████████| 1/1 [00:00<00:00, 92.92it/s]\n",
      "Batches:   0%|          | 0/1 [00:00<?, ?it/s]"
     ]
    },
    {
     "name": "stdout",
     "output_type": "stream",
     "text": [
      "i :  1390\n",
      "i :  1391\n",
      "i :  1392\n",
      "i :  1393\n",
      "i :  1394\n",
      "i :  1395\n",
      "i :  1396\n",
      "i :  1397\n"
     ]
    },
    {
     "name": "stderr",
     "output_type": "stream",
     "text": [
      "Batches: 100%|██████████| 1/1 [00:00<00:00, 87.91it/s]\n",
      "Batches: 100%|██████████| 1/1 [00:00<00:00, 75.82it/s]\n",
      "Batches: 100%|██████████| 1/1 [00:00<00:00, 92.41it/s]\n",
      "Batches: 100%|██████████| 1/1 [00:00<00:00, 92.38it/s]\n",
      "Batches: 100%|██████████| 1/1 [00:00<00:00, 90.49it/s]\n",
      "Batches: 100%|██████████| 1/1 [00:00<00:00, 60.80it/s]\n",
      "Batches: 100%|██████████| 1/1 [00:00<00:00, 92.64it/s]\n",
      "Batches: 100%|██████████| 1/1 [00:00<00:00, 87.87it/s]\n",
      "Batches: 100%|██████████| 1/1 [00:00<00:00, 91.26it/s]\n",
      "Batches: 100%|██████████| 1/1 [00:00<00:00, 91.44it/s]\n",
      "Batches: 100%|██████████| 1/1 [00:00<00:00, 89.94it/s]\n",
      "Batches: 100%|██████████| 1/1 [00:00<00:00, 91.40it/s]\n",
      "Batches: 100%|██████████| 1/1 [00:00<00:00, 91.72it/s]\n",
      "Batches: 100%|██████████| 1/1 [00:00<00:00, 90.68it/s]\n",
      "Batches: 100%|██████████| 1/1 [00:00<00:00, 88.44it/s]\n",
      "Batches: 100%|██████████| 1/1 [00:00<00:00, 91.54it/s]\n",
      "Batches:   0%|          | 0/1 [00:00<?, ?it/s]"
     ]
    },
    {
     "name": "stdout",
     "output_type": "stream",
     "text": [
      "i :  1398\n",
      "i :  1399\n",
      "i :  1400\n",
      "i :  1401\n",
      "i :  1402\n",
      "i :  1403\n",
      "i :  1404\n",
      "i :  1405\n"
     ]
    },
    {
     "name": "stderr",
     "output_type": "stream",
     "text": [
      "Batches: 100%|██████████| 1/1 [00:00<00:00, 89.84it/s]\n",
      "Batches: 100%|██████████| 1/1 [00:00<00:00, 78.12it/s]\n",
      "Batches: 100%|██████████| 1/1 [00:00<00:00, 91.71it/s]\n",
      "Batches: 100%|██████████| 1/1 [00:00<00:00, 95.17it/s]\n",
      "Batches: 100%|██████████| 1/1 [00:00<00:00, 92.50it/s]\n",
      "Batches: 100%|██████████| 1/1 [00:00<00:00, 91.70it/s]\n",
      "Batches: 100%|██████████| 1/1 [00:00<00:00, 93.08it/s]\n",
      "Batches: 100%|██████████| 1/1 [00:00<00:00, 76.22it/s]\n",
      "Batches: 100%|██████████| 1/1 [00:00<00:00, 94.93it/s]\n",
      "Batches: 100%|██████████| 1/1 [00:00<00:00, 91.64it/s]\n",
      "Batches: 100%|██████████| 1/1 [00:00<00:00, 91.71it/s]\n",
      "Batches: 100%|██████████| 1/1 [00:00<00:00, 91.54it/s]\n",
      "Batches: 100%|██████████| 1/1 [00:00<00:00, 89.43it/s]\n",
      "Batches: 100%|██████████| 1/1 [00:00<00:00, 91.35it/s]\n",
      "Batches: 100%|██████████| 1/1 [00:00<00:00, 89.83it/s]\n",
      "Batches: 100%|██████████| 1/1 [00:00<00:00, 91.32it/s]\n",
      "Batches:   0%|          | 0/1 [00:00<?, ?it/s]"
     ]
    },
    {
     "name": "stdout",
     "output_type": "stream",
     "text": [
      "i :  1406\n",
      "i :  1407\n",
      "i :  1408\n",
      "i :  1409\n",
      "i :  1410\n",
      "i :  1411\n",
      "i :  1412\n",
      "i :  1413\n"
     ]
    },
    {
     "name": "stderr",
     "output_type": "stream",
     "text": [
      "Batches: 100%|██████████| 1/1 [00:00<00:00, 87.91it/s]\n",
      "Batches: 100%|██████████| 1/1 [00:00<00:00, 91.45it/s]\n",
      "Batches: 100%|██████████| 1/1 [00:00<00:00, 90.55it/s]\n",
      "Batches: 100%|██████████| 1/1 [00:00<00:00, 77.52it/s]\n",
      "Batches: 100%|██████████| 1/1 [00:00<00:00, 92.24it/s]\n",
      "Batches: 100%|██████████| 1/1 [00:00<00:00, 94.76it/s]\n",
      "Batches: 100%|██████████| 1/1 [00:00<00:00, 93.11it/s]\n",
      "Batches: 100%|██████████| 1/1 [00:00<00:00, 91.49it/s]\n",
      "Batches: 100%|██████████| 1/1 [00:00<00:00, 90.47it/s]\n",
      "Batches: 100%|██████████| 1/1 [00:00<00:00, 90.33it/s]\n",
      "Batches: 100%|██████████| 1/1 [00:00<00:00, 90.71it/s]\n",
      "Batches: 100%|██████████| 1/1 [00:00<00:00, 91.43it/s]\n",
      "Batches: 100%|██████████| 1/1 [00:00<00:00, 90.09it/s]\n",
      "Batches: 100%|██████████| 1/1 [00:00<00:00, 88.08it/s]\n",
      "Batches: 100%|██████████| 1/1 [00:00<00:00, 92.60it/s]\n",
      "Batches: 100%|██████████| 1/1 [00:00<00:00, 93.98it/s]\n",
      "Batches: 100%|██████████| 1/1 [00:00<00:00, 95.73it/s]\n",
      "Batches:   0%|          | 0/1 [00:00<?, ?it/s]"
     ]
    },
    {
     "name": "stdout",
     "output_type": "stream",
     "text": [
      "i :  1414\n",
      "i :  1415\n",
      "i :  1416\n",
      "i :  1417\n",
      "i :  1418\n",
      "i :  1419\n",
      "i :  1420\n",
      "i :  1421\n",
      "i :  1422\n"
     ]
    },
    {
     "name": "stderr",
     "output_type": "stream",
     "text": [
      "Batches: 100%|██████████| 1/1 [00:00<00:00, 75.13it/s]\n",
      "Batches: 100%|██████████| 1/1 [00:00<00:00, 91.47it/s]\n",
      "Batches: 100%|██████████| 1/1 [00:00<00:00, 91.46it/s]\n",
      "Batches: 100%|██████████| 1/1 [00:00<00:00, 90.14it/s]\n",
      "Batches: 100%|██████████| 1/1 [00:00<00:00, 89.56it/s]\n",
      "Batches: 100%|██████████| 1/1 [00:00<00:00, 91.65it/s]\n",
      "Batches: 100%|██████████| 1/1 [00:00<00:00, 91.38it/s]\n",
      "Batches: 100%|██████████| 1/1 [00:00<00:00, 77.23it/s]\n",
      "Batches: 100%|██████████| 1/1 [00:00<00:00, 90.45it/s]\n",
      "Batches: 100%|██████████| 1/1 [00:00<00:00, 77.57it/s]\n",
      "Batches: 100%|██████████| 1/1 [00:00<00:00, 89.49it/s]\n",
      "Batches: 100%|██████████| 1/1 [00:00<00:00, 91.25it/s]\n",
      "Batches: 100%|██████████| 1/1 [00:00<00:00, 90.73it/s]\n",
      "Batches: 100%|██████████| 1/1 [00:00<00:00, 79.19it/s]\n",
      "Batches: 100%|██████████| 1/1 [00:00<00:00, 89.01it/s]\n",
      "Batches: 100%|██████████| 1/1 [00:00<00:00, 78.41it/s]\n",
      "Batches: 100%|██████████| 1/1 [00:00<00:00, 84.51it/s]\n",
      "Batches:   0%|          | 0/1 [00:00<?, ?it/s]"
     ]
    },
    {
     "name": "stdout",
     "output_type": "stream",
     "text": [
      "i :  1423\n",
      "i :  1424\n",
      "i :  1425\n",
      "i :  1426\n",
      "i :  1427\n",
      "i :  1428\n",
      "i :  1429\n",
      "i :  1430\n"
     ]
    },
    {
     "name": "stderr",
     "output_type": "stream",
     "text": [
      "Batches: 100%|██████████| 1/1 [00:00<00:00, 78.33it/s]\n",
      "Batches: 100%|██████████| 1/1 [00:00<00:00, 78.40it/s]\n",
      "Batches: 100%|██████████| 1/1 [00:00<00:00, 89.61it/s]\n",
      "Batches: 100%|██████████| 1/1 [00:00<00:00, 81.87it/s]\n",
      "Batches: 100%|██████████| 1/1 [00:00<00:00, 88.99it/s]\n",
      "Batches: 100%|██████████| 1/1 [00:00<00:00, 90.59it/s]\n",
      "Batches: 100%|██████████| 1/1 [00:00<00:00, 77.13it/s]\n",
      "Batches: 100%|██████████| 1/1 [00:00<00:00, 95.80it/s]\n",
      "Batches: 100%|██████████| 1/1 [00:00<00:00, 88.25it/s]\n",
      "Batches: 100%|██████████| 1/1 [00:00<00:00, 75.77it/s]\n",
      "Batches: 100%|██████████| 1/1 [00:00<00:00, 88.52it/s]\n",
      "Batches: 100%|██████████| 1/1 [00:00<00:00, 79.24it/s]\n",
      "Batches: 100%|██████████| 1/1 [00:00<00:00, 88.14it/s]\n",
      "Batches: 100%|██████████| 1/1 [00:00<00:00, 90.93it/s]\n",
      "Batches: 100%|██████████| 1/1 [00:00<00:00, 77.27it/s]\n",
      "Batches:   0%|          | 0/1 [00:00<?, ?it/s]"
     ]
    },
    {
     "name": "stdout",
     "output_type": "stream",
     "text": [
      "i :  1431\n",
      "i :  1432\n",
      "i :  1433\n",
      "i :  1434\n",
      "i :  1435\n",
      "i :  1436\n",
      "i :  1437\n",
      "i :  1438\n"
     ]
    },
    {
     "name": "stderr",
     "output_type": "stream",
     "text": [
      "Batches: 100%|██████████| 1/1 [00:00<00:00, 88.45it/s]\n",
      "Batches: 100%|██████████| 1/1 [00:00<00:00, 75.29it/s]\n",
      "Batches: 100%|██████████| 1/1 [00:00<00:00, 90.91it/s]\n",
      "Batches: 100%|██████████| 1/1 [00:00<00:00, 77.24it/s]\n",
      "Batches: 100%|██████████| 1/1 [00:00<00:00, 90.29it/s]\n",
      "Batches: 100%|██████████| 1/1 [00:00<00:00, 75.88it/s]\n",
      "Batches: 100%|██████████| 1/1 [00:00<00:00, 86.09it/s]\n",
      "Batches: 100%|██████████| 1/1 [00:00<00:00, 91.26it/s]\n",
      "Batches: 100%|██████████| 1/1 [00:00<00:00, 90.49it/s]\n",
      "Batches: 100%|██████████| 1/1 [00:00<00:00, 74.60it/s]\n",
      "Batches: 100%|██████████| 1/1 [00:00<00:00, 73.27it/s]\n",
      "Batches: 100%|██████████| 1/1 [00:00<00:00, 91.34it/s]\n",
      "Batches: 100%|██████████| 1/1 [00:00<00:00, 76.96it/s]\n",
      "Batches: 100%|██████████| 1/1 [00:00<00:00, 86.69it/s]\n",
      "Batches: 100%|██████████| 1/1 [00:00<00:00, 90.27it/s]\n",
      "Batches: 100%|██████████| 1/1 [00:00<00:00, 90.09it/s]\n",
      "Batches:   0%|          | 0/1 [00:00<?, ?it/s]"
     ]
    },
    {
     "name": "stdout",
     "output_type": "stream",
     "text": [
      "i :  1439\n",
      "i :  1440\n",
      "i :  1441\n",
      "i :  1442\n",
      "i :  1443\n",
      "i :  1444\n",
      "i :  1445\n",
      "i :  1446\n"
     ]
    },
    {
     "name": "stderr",
     "output_type": "stream",
     "text": [
      "Batches: 100%|██████████| 1/1 [00:00<00:00, 88.63it/s]\n",
      "Batches: 100%|██████████| 1/1 [00:00<00:00, 90.62it/s]\n",
      "Batches: 100%|██████████| 1/1 [00:00<00:00, 91.52it/s]\n",
      "Batches: 100%|██████████| 1/1 [00:00<00:00, 90.37it/s]\n",
      "Batches: 100%|██████████| 1/1 [00:00<00:00, 58.66it/s]\n",
      "Batches: 100%|██████████| 1/1 [00:00<00:00, 89.86it/s]\n",
      "Batches: 100%|██████████| 1/1 [00:00<00:00, 92.97it/s]\n",
      "Batches: 100%|██████████| 1/1 [00:00<00:00, 89.45it/s]\n",
      "Batches: 100%|██████████| 1/1 [00:00<00:00, 95.34it/s]\n",
      "Batches: 100%|██████████| 1/1 [00:00<00:00, 92.27it/s]\n",
      "Batches: 100%|██████████| 1/1 [00:00<00:00, 92.98it/s]\n",
      "Batches: 100%|██████████| 1/1 [00:00<00:00, 90.34it/s]\n",
      "Batches: 100%|██████████| 1/1 [00:00<00:00, 92.00it/s]\n",
      "Batches: 100%|██████████| 1/1 [00:00<00:00, 92.42it/s]\n",
      "Batches: 100%|██████████| 1/1 [00:00<00:00, 91.35it/s]\n",
      "Batches: 100%|██████████| 1/1 [00:00<00:00, 95.67it/s]\n",
      "Batches: 100%|██████████| 1/1 [00:00<00:00, 92.75it/s]\n",
      "Batches:   0%|          | 0/1 [00:00<?, ?it/s]"
     ]
    },
    {
     "name": "stdout",
     "output_type": "stream",
     "text": [
      "i :  1447\n",
      "i :  1448\n",
      "i :  1449\n",
      "i :  1450\n",
      "i :  1451\n",
      "i :  1452\n",
      "i :  1453\n",
      "i :  1454\n"
     ]
    },
    {
     "name": "stderr",
     "output_type": "stream",
     "text": [
      "Batches: 100%|██████████| 1/1 [00:00<00:00, 90.96it/s]\n",
      "Batches: 100%|██████████| 1/1 [00:00<00:00, 89.56it/s]\n",
      "Batches: 100%|██████████| 1/1 [00:00<00:00, 89.80it/s]\n",
      "Batches: 100%|██████████| 1/1 [00:00<00:00, 88.79it/s]\n",
      "Batches: 100%|██████████| 1/1 [00:00<00:00, 91.93it/s]\n",
      "Batches: 100%|██████████| 1/1 [00:00<00:00, 92.08it/s]\n",
      "Batches: 100%|██████████| 1/1 [00:00<00:00, 90.22it/s]\n",
      "Batches: 100%|██████████| 1/1 [00:00<00:00, 60.28it/s]\n",
      "Batches: 100%|██████████| 1/1 [00:00<00:00, 90.67it/s]\n",
      "Batches: 100%|██████████| 1/1 [00:00<00:00, 90.88it/s]\n",
      "Batches: 100%|██████████| 1/1 [00:00<00:00, 91.48it/s]\n",
      "Batches: 100%|██████████| 1/1 [00:00<00:00, 89.01it/s]\n",
      "Batches: 100%|██████████| 1/1 [00:00<00:00, 91.26it/s]\n",
      "Batches: 100%|██████████| 1/1 [00:00<00:00, 90.23it/s]\n",
      "Batches: 100%|██████████| 1/1 [00:00<00:00, 90.74it/s]\n",
      "Batches: 100%|██████████| 1/1 [00:00<00:00, 92.53it/s]\n",
      "Batches:   0%|          | 0/1 [00:00<?, ?it/s]"
     ]
    },
    {
     "name": "stdout",
     "output_type": "stream",
     "text": [
      "i :  1455\n",
      "i :  1456\n",
      "i :  1457\n",
      "i :  1458\n",
      "i :  1459\n",
      "i :  1460\n",
      "i :  1461\n",
      "i :  1462\n"
     ]
    },
    {
     "name": "stderr",
     "output_type": "stream",
     "text": [
      "Batches: 100%|██████████| 1/1 [00:00<00:00, 90.27it/s]\n",
      "Batches: 100%|██████████| 1/1 [00:00<00:00, 89.49it/s]\n",
      "Batches: 100%|██████████| 1/1 [00:00<00:00, 89.87it/s]\n",
      "Batches: 100%|██████████| 1/1 [00:00<00:00, 91.17it/s]\n",
      "Batches: 100%|██████████| 1/1 [00:00<00:00, 91.52it/s]\n",
      "Batches: 100%|██████████| 1/1 [00:00<00:00, 91.95it/s]\n",
      "Batches: 100%|██████████| 1/1 [00:00<00:00, 90.49it/s]\n",
      "Batches: 100%|██████████| 1/1 [00:00<00:00, 91.36it/s]\n",
      "Batches: 100%|██████████| 1/1 [00:00<00:00, 91.63it/s]\n",
      "Batches: 100%|██████████| 1/1 [00:00<00:00, 90.82it/s]\n",
      "Batches: 100%|██████████| 1/1 [00:00<00:00, 92.92it/s]\n",
      "Batches: 100%|██████████| 1/1 [00:00<00:00, 77.25it/s]\n",
      "Batches: 100%|██████████| 1/1 [00:00<00:00, 94.46it/s]\n",
      "Batches: 100%|██████████| 1/1 [00:00<00:00, 89.30it/s]\n",
      "Batches: 100%|██████████| 1/1 [00:00<00:00, 88.25it/s]\n",
      "Batches: 100%|██████████| 1/1 [00:00<00:00, 91.27it/s]\n",
      "Batches: 100%|██████████| 1/1 [00:00<00:00, 91.71it/s]"
     ]
    },
    {
     "name": "stdout",
     "output_type": "stream",
     "text": [
      "i :  1463\n",
      "i :  1464\n",
      "i :  1465\n",
      "i :  1466\n",
      "i :  1467\n",
      "i :  1468\n",
      "i :  1469\n",
      "i :  1470\n"
     ]
    },
    {
     "name": "stderr",
     "output_type": "stream",
     "text": [
      "\n",
      "Batches: 100%|██████████| 1/1 [00:00<00:00, 75.36it/s]\n",
      "Batches: 100%|██████████| 1/1 [00:00<00:00, 86.56it/s]\n",
      "Batches: 100%|██████████| 1/1 [00:00<00:00, 93.71it/s]\n",
      "Batches: 100%|██████████| 1/1 [00:00<00:00, 91.02it/s]\n",
      "Batches: 100%|██████████| 1/1 [00:00<00:00, 94.17it/s]\n",
      "Batches: 100%|██████████| 1/1 [00:00<00:00, 89.79it/s]\n",
      "Batches: 100%|██████████| 1/1 [00:00<00:00, 90.95it/s]\n",
      "Batches: 100%|██████████| 1/1 [00:00<00:00, 89.75it/s]\n",
      "Batches: 100%|██████████| 1/1 [00:00<00:00, 88.35it/s]\n",
      "Batches: 100%|██████████| 1/1 [00:00<00:00, 91.13it/s]\n",
      "Batches: 100%|██████████| 1/1 [00:00<00:00, 92.86it/s]\n",
      "Batches: 100%|██████████| 1/1 [00:00<00:00, 88.79it/s]\n",
      "Batches: 100%|██████████| 1/1 [00:00<00:00, 89.89it/s]\n",
      "Batches: 100%|██████████| 1/1 [00:00<00:00, 91.58it/s]\n",
      "Batches: 100%|██████████| 1/1 [00:00<00:00, 92.73it/s]\n",
      "Batches: 100%|██████████| 1/1 [00:00<00:00, 90.44it/s]\n",
      "Batches:   0%|          | 0/1 [00:00<?, ?it/s]"
     ]
    },
    {
     "name": "stdout",
     "output_type": "stream",
     "text": [
      "i :  1471\n",
      "i :  1472\n",
      "i :  1473\n",
      "i :  1474\n",
      "i :  1475\n",
      "i :  1476\n",
      "i :  1477\n",
      "i :  1478\n",
      "i :  1479\n"
     ]
    },
    {
     "name": "stderr",
     "output_type": "stream",
     "text": [
      "Batches: 100%|██████████| 1/1 [00:00<00:00, 87.86it/s]\n",
      "Batches: 100%|██████████| 1/1 [00:00<00:00, 92.89it/s]\n",
      "Batches: 100%|██████████| 1/1 [00:00<00:00, 90.10it/s]\n",
      "Batches: 100%|██████████| 1/1 [00:00<00:00, 90.06it/s]\n",
      "Batches: 100%|██████████| 1/1 [00:00<00:00, 91.69it/s]\n",
      "Batches: 100%|██████████| 1/1 [00:00<00:00, 94.91it/s]\n",
      "Batches: 100%|██████████| 1/1 [00:00<00:00, 90.90it/s]\n",
      "Batches: 100%|██████████| 1/1 [00:00<00:00, 90.28it/s]\n",
      "Batches: 100%|██████████| 1/1 [00:00<00:00, 91.48it/s]\n",
      "Batches: 100%|██████████| 1/1 [00:00<00:00, 89.82it/s]\n",
      "Batches: 100%|██████████| 1/1 [00:00<00:00, 91.61it/s]\n",
      "Batches: 100%|██████████| 1/1 [00:00<00:00, 91.38it/s]\n",
      "Batches: 100%|██████████| 1/1 [00:00<00:00, 90.16it/s]\n",
      "Batches: 100%|██████████| 1/1 [00:00<00:00, 90.08it/s]\n",
      "Batches: 100%|██████████| 1/1 [00:00<00:00, 91.01it/s]\n",
      "Batches: 100%|██████████| 1/1 [00:00<00:00, 89.74it/s]\n",
      "Batches: 100%|██████████| 1/1 [00:00<00:00, 91.47it/s]\n",
      "Batches: 100%|██████████| 1/1 [00:00<00:00, 90.34it/s]\n",
      "Batches:   0%|          | 0/1 [00:00<?, ?it/s]"
     ]
    },
    {
     "name": "stdout",
     "output_type": "stream",
     "text": [
      "i :  1480\n",
      "i :  1481\n",
      "i :  1482\n",
      "i :  1483\n",
      "i :  1484\n",
      "i :  1485\n",
      "i :  1486\n",
      "i :  1487\n",
      "i :  1488\n"
     ]
    },
    {
     "name": "stderr",
     "output_type": "stream",
     "text": [
      "Batches: 100%|██████████| 1/1 [00:00<00:00, 93.01it/s]\n",
      "Batches: 100%|██████████| 1/1 [00:00<00:00, 92.91it/s]\n",
      "Batches: 100%|██████████| 1/1 [00:00<00:00, 87.96it/s]\n",
      "Batches: 100%|██████████| 1/1 [00:00<00:00, 91.17it/s]\n",
      "Batches: 100%|██████████| 1/1 [00:00<00:00, 94.07it/s]\n",
      "Batches: 100%|██████████| 1/1 [00:00<00:00, 93.33it/s]\n",
      "Batches: 100%|██████████| 1/1 [00:00<00:00, 90.61it/s]\n",
      "Batches: 100%|██████████| 1/1 [00:00<00:00, 91.40it/s]\n",
      "Batches: 100%|██████████| 1/1 [00:00<00:00, 90.25it/s]\n",
      "Batches: 100%|██████████| 1/1 [00:00<00:00, 92.60it/s]\n",
      "Batches: 100%|██████████| 1/1 [00:00<00:00, 88.18it/s]\n",
      "Batches: 100%|██████████| 1/1 [00:00<00:00, 89.06it/s]\n",
      "Batches: 100%|██████████| 1/1 [00:00<00:00, 92.54it/s]\n",
      "Batches: 100%|██████████| 1/1 [00:00<00:00, 91.07it/s]\n",
      "Batches: 100%|██████████| 1/1 [00:00<00:00, 91.63it/s]\n",
      "Batches: 100%|██████████| 1/1 [00:00<00:00, 91.20it/s]\n",
      "Batches: 100%|██████████| 1/1 [00:00<00:00, 91.30it/s]\n",
      "Batches: 100%|██████████| 1/1 [00:00<00:00, 90.29it/s]\n",
      "Batches:   0%|          | 0/1 [00:00<?, ?it/s]"
     ]
    },
    {
     "name": "stdout",
     "output_type": "stream",
     "text": [
      "i :  1489\n",
      "i :  1490\n",
      "i :  1491\n",
      "i :  1492\n",
      "i :  1493\n",
      "i :  1494\n",
      "i :  1495\n",
      "i :  1496\n",
      "i :  1497\n"
     ]
    },
    {
     "name": "stderr",
     "output_type": "stream",
     "text": [
      "Batches: 100%|██████████| 1/1 [00:00<00:00, 89.75it/s]\n",
      "Batches: 100%|██████████| 1/1 [00:00<00:00, 91.09it/s]\n",
      "Batches: 100%|██████████| 1/1 [00:00<00:00, 91.11it/s]\n",
      "Batches: 100%|██████████| 1/1 [00:00<00:00, 91.88it/s]"
     ]
    },
    {
     "name": "stdout",
     "output_type": "stream",
     "text": [
      "i :  1498\n",
      "i :  1499\n"
     ]
    },
    {
     "name": "stderr",
     "output_type": "stream",
     "text": [
      "\n"
     ]
    }
   ],
   "source": [
    "closest_n = 1\n",
    "sentence2=[]\n",
    "sentence1=[]\n",
    "score=[]\n",
    "for i in range(0,len(df)):\n",
    "    sent1_list = []\n",
    "    sent2_list=[]\n",
    "    sent1 = df.sentence1[i]\n",
    "    sent2 = df.sentence2[i]\n",
    "    sent1_list.append(sent1)\n",
    "    sent2_list.append(sent2)\n",
    "    sent1_embeddings = model.encode(sent1_list)\n",
    "    sent2_embeddings = model.encode(sent2_list)\n",
    "    for query, query_embedding in zip(sent2_list, sent2_embeddings):\n",
    "        distances = scipy.spatial.distance.cdist([query_embedding], sent1_embeddings, \"cosine\")[0]\n",
    "        results = zip(range(len(distances)), distances)\n",
    "        results = sorted(results, key=lambda x: x[1])\n",
    "        sentence2.append(sent2_list[0])\n",
    "        for idx, distance in results[0:closest_n]:\n",
    "            sentence1.append(sent1_list[0])\n",
    "            score.append((1-distance)*5)\n",
    "            print(\"i : \", i)"
   ]
  },
  {
   "cell_type": "code",
   "execution_count": 18,
   "metadata": {},
   "outputs": [],
   "source": [
    "df['score_bert'] = score\n",
    "df[\"score\"] = df[\"score\"].apply(pd.to_numeric, downcast='float', errors='coerce')"
   ]
  },
  {
   "cell_type": "code",
   "execution_count": 19,
   "metadata": {},
   "outputs": [
    {
     "data": {
      "text/html": [
       "<div>\n",
       "<style scoped>\n",
       "    .dataframe tbody tr th:only-of-type {\n",
       "        vertical-align: middle;\n",
       "    }\n",
       "\n",
       "    .dataframe tbody tr th {\n",
       "        vertical-align: top;\n",
       "    }\n",
       "\n",
       "    .dataframe thead th {\n",
       "        text-align: right;\n",
       "    }\n",
       "</style>\n",
       "<table border=\"1\" class=\"dataframe\">\n",
       "  <thead>\n",
       "    <tr style=\"text-align: right;\">\n",
       "      <th></th>\n",
       "      <th>score</th>\n",
       "      <th>score_bert</th>\n",
       "    </tr>\n",
       "  </thead>\n",
       "  <tbody>\n",
       "    <tr>\n",
       "      <th>score</th>\n",
       "      <td>1.000000</td>\n",
       "      <td>0.875673</td>\n",
       "    </tr>\n",
       "    <tr>\n",
       "      <th>score_bert</th>\n",
       "      <td>0.875673</td>\n",
       "      <td>1.000000</td>\n",
       "    </tr>\n",
       "  </tbody>\n",
       "</table>\n",
       "</div>"
      ],
      "text/plain": [
       "               score  score_bert\n",
       "score       1.000000    0.875673\n",
       "score_bert  0.875673    1.000000"
      ]
     },
     "execution_count": 19,
     "metadata": {},
     "output_type": "execute_result"
    }
   ],
   "source": [
    "df.corr()"
   ]
  },
  {
   "cell_type": "code",
   "execution_count": 31,
   "metadata": {},
   "outputs": [
    {
     "name": "stdout",
     "output_type": "stream",
     "text": [
      "0.875673229683211\n"
     ]
    }
   ],
   "source": [
    "from scipy.stats.stats import pearsonr   \n",
    "a = df.score\n",
    "b = df.score_bert  \n",
    "print (pearsonr(a,b)[0])"
   ]
  },
  {
   "cell_type": "code",
   "execution_count": null,
   "metadata": {},
   "outputs": [],
   "source": []
  },
  {
   "cell_type": "code",
   "execution_count": 20,
   "metadata": {},
   "outputs": [],
   "source": [
    "# scaler = MinMaxScaler()\n",
    "# df['score_bert'] = scaler.fit_transform(df['score_bert'].values.reshape(-1,1))"
   ]
  },
  {
   "cell_type": "code",
   "execution_count": 32,
   "metadata": {},
   "outputs": [],
   "source": [
    "s1= [\"hi\",\n",
    "     \"how are you?\",\n",
    "     \"whats up bro how are you?\",\n",
    "     \"good night\",\n",
    "     \"I LOVE YOU\",\n",
    "     \"hey whatsup?\",\n",
    "     \"Three men are on stage playing guitars.\",\n",
    "     \"A woman is peeling garlic.\",\n",
    "     \"phone is not responding.\",\n",
    "     \"i love you\",\n",
    "     \"How do you book the ticket?\",\n",
    "     \"I am going to Afghanisthan?\",\n",
    "     \"India defeated west Indies yesterday.\"]\n",
    "\n",
    "\n",
    "\n",
    "s2= [\"hello\",\n",
    "     \"howdy?\",\n",
    "     \"Hello bro how are you doing?\",\n",
    "     \"good morning\",\n",
    "     \"I HATE YOU\",\n",
    "     \"hey what you doing?\",\n",
    "     \"Three men are playing guitars.\",\n",
    "     \"A man is breaking water jugs.\",\n",
    "     \"my phone is not working.\",\n",
    "     \"I like you\",\n",
    "     \"How can the ticket be booked?\",\n",
    "     \"I am planning to visit Afghanisthan\",\n",
    "     \"West Indies lost to India yesterday.\"]"
   ]
  },
  {
   "cell_type": "code",
   "execution_count": 33,
   "metadata": {},
   "outputs": [
    {
     "name": "stderr",
     "output_type": "stream",
     "text": [
      "Batches: 100%|██████████| 1/1 [00:00<00:00, 21.08it/s]\n",
      "Batches: 100%|██████████| 1/1 [00:00<00:00, 95.37it/s]\n",
      "Batches: 100%|██████████| 1/1 [00:00<00:00, 94.27it/s]\n",
      "Batches: 100%|██████████| 1/1 [00:00<00:00, 95.66it/s]\n",
      "Batches: 100%|██████████| 1/1 [00:00<00:00, 57.73it/s]\n",
      "Batches: 100%|██████████| 1/1 [00:00<00:00, 69.55it/s]\n",
      "Batches: 100%|██████████| 1/1 [00:00<00:00, 94.84it/s]\n",
      "Batches: 100%|██████████| 1/1 [00:00<00:00, 95.11it/s]\n",
      "Batches: 100%|██████████| 1/1 [00:00<00:00, 93.75it/s]\n",
      "Batches: 100%|██████████| 1/1 [00:00<00:00, 94.14it/s]\n",
      "Batches: 100%|██████████| 1/1 [00:00<00:00, 89.13it/s]\n",
      "Batches: 100%|██████████| 1/1 [00:00<00:00, 94.18it/s]\n",
      "Batches: 100%|██████████| 1/1 [00:00<00:00, 89.82it/s]\n",
      "Batches: 100%|██████████| 1/1 [00:00<00:00, 91.61it/s]\n",
      "Batches: 100%|██████████| 1/1 [00:00<00:00, 94.06it/s]\n",
      "Batches: 100%|██████████| 1/1 [00:00<00:00, 90.01it/s]\n",
      "Batches: 100%|██████████| 1/1 [00:00<00:00, 92.39it/s]\n",
      "Batches: 100%|██████████| 1/1 [00:00<00:00, 91.83it/s]\n",
      "Batches: 100%|██████████| 1/1 [00:00<00:00, 94.39it/s]\n",
      "Batches: 100%|██████████| 1/1 [00:00<00:00, 90.72it/s]\n",
      "Batches: 100%|██████████| 1/1 [00:00<00:00, 91.15it/s]\n",
      "Batches: 100%|██████████| 1/1 [00:00<00:00, 90.98it/s]\n",
      "Batches: 100%|██████████| 1/1 [00:00<00:00, 89.83it/s]\n",
      "Batches: 100%|██████████| 1/1 [00:00<00:00, 87.48it/s]\n",
      "Batches: 100%|██████████| 1/1 [00:00<00:00, 89.15it/s]\n",
      "Batches: 100%|██████████| 1/1 [00:00<00:00, 87.12it/s]\n"
     ]
    }
   ],
   "source": [
    "closest_n = 1\n",
    "sentenc2=[]\n",
    "sentenc1=[]\n",
    "scor=[]\n",
    "for i in range(0,len(s2)):\n",
    "    sent1_list = []\n",
    "    sent2_list=[]\n",
    "    sent1 = s1[i]\n",
    "    sent2 = s2[i]\n",
    "    sent1_list.append(sent1)\n",
    "    sent2_list.append(sent2)\n",
    "    sent1_embeddings = model.encode(sent1_list)\n",
    "    sent2_embeddings = model.encode(sent2_list)\n",
    "    for query, query_embedding in zip(sent2_list, sent2_embeddings):\n",
    "        distances = scipy.spatial.distance.cdist([query_embedding], sent1_embeddings, \"cosine\")[0]\n",
    "        results = zip(range(len(distances)), distances)\n",
    "        results = sorted(results, key=lambda x: x[1])\n",
    "        sentenc2.append(sent2_list[0])\n",
    "        for idx, distance in results[0:closest_n]:\n",
    "            sentenc1.append(sent1_list[0])\n",
    "            scor.append(1-distance)"
   ]
  },
  {
   "cell_type": "code",
   "execution_count": 34,
   "metadata": {
    "scrolled": false
   },
   "outputs": [
    {
     "name": "stdout",
     "output_type": "stream",
     "text": [
      "sentence 1: hi\n",
      "sentence 2: hello\n",
      "score: 0.9563732486332157\n",
      "\n",
      "sentence 1: how are you?\n",
      "sentence 2: howdy?\n",
      "score: 0.9557301913736441\n",
      "\n",
      "sentence 1: whats up bro how are you?\n",
      "sentence 2: Hello bro how are you doing?\n",
      "score: 0.9766089925130007\n",
      "\n",
      "sentence 1: good night\n",
      "sentence 2: good morning\n",
      "score: 0.9514795816088559\n",
      "\n",
      "sentence 1: I LOVE YOU\n",
      "sentence 2: I HATE YOU\n",
      "score: 0.17871691536618195\n",
      "\n",
      "sentence 1: hey whatsup?\n",
      "sentence 2: hey what you doing?\n",
      "score: 0.9855035207128972\n",
      "\n",
      "sentence 1: Three men are on stage playing guitars.\n",
      "sentence 2: Three men are playing guitars.\n",
      "score: 0.8298251178029261\n",
      "\n",
      "sentence 1: A woman is peeling garlic.\n",
      "sentence 2: A man is breaking water jugs.\n",
      "score: -0.019689163093569606\n",
      "\n",
      "sentence 1: phone is not responding.\n",
      "sentence 2: my phone is not working.\n",
      "score: 0.9522446739628657\n",
      "\n",
      "sentence 1: i love you\n",
      "sentence 2: I like you\n",
      "score: 0.9569670388014893\n",
      "\n",
      "sentence 1: How do you book the ticket?\n",
      "sentence 2: How can the ticket be booked?\n",
      "score: 0.9543446558084833\n",
      "\n",
      "sentence 1: I am going to Afghanisthan?\n",
      "sentence 2: I am planning to visit Afghanisthan\n",
      "score: 0.9512960193162758\n",
      "\n",
      "sentence 1: India defeated west Indies yesterday.\n",
      "sentence 2: West Indies lost to India yesterday.\n",
      "score: 0.9394596229921597\n",
      "\n"
     ]
    }
   ],
   "source": [
    "for k in range(len(scor)):\n",
    "    print(\"sentence 1:\", sentenc1[k])\n",
    "    print(\"sentence 2:\", sentenc2[k])\n",
    "    print(\"score:\", scor[k])\n",
    "    print(\"\")"
   ]
  },
  {
   "cell_type": "code",
   "execution_count": null,
   "metadata": {},
   "outputs": [],
   "source": []
  }
 ],
 "metadata": {
  "kernelspec": {
   "display_name": "Python 3",
   "language": "python",
   "name": "python3"
  },
  "language_info": {
   "codemirror_mode": {
    "name": "ipython",
    "version": 3
   },
   "file_extension": ".py",
   "mimetype": "text/x-python",
   "name": "python",
   "nbconvert_exporter": "python",
   "pygments_lexer": "ipython3",
   "version": "3.6.8"
  }
 },
 "nbformat": 4,
 "nbformat_minor": 2
}
