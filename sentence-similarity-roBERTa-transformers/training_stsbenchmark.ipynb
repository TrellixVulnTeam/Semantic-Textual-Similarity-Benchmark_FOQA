{
 "cells": [
  {
   "cell_type": "code",
   "execution_count": 3,
   "metadata": {},
   "outputs": [],
   "source": [
    "\"\"\"\n",
    "This examples trains BERT for the STSbenchmark from scratch. It generates sentence embeddings\n",
    "that can be compared using cosine-similarity to measure the similarity.\n",
    "\"\"\"\n",
    "from torch.utils.data import DataLoader\n",
    "import math\n",
    "from sentence_transformers import SentenceTransformer,  SentencesDataset, LoggingHandler, losses, models\n",
    "from sentence_transformers.evaluation import EmbeddingSimilarityEvaluator\n",
    "from sentence_transformers.readers import STSDataReader\n",
    "import logging\n",
    "from datetime import datetime\n",
    "\n",
    "\n",
    "#### Just some code to print debug information to stdout\n",
    "logging.basicConfig(format='%(asctime)s - %(message)s',\n",
    "                    datefmt='%Y-%m-%d %H:%M:%S',\n",
    "                    level=logging.INFO,\n",
    "                    handlers=[LoggingHandler()])\n",
    "#### /print debug information to stdout"
   ]
  },
  {
   "cell_type": "code",
   "execution_count": 4,
   "metadata": {},
   "outputs": [
    {
     "data": {
      "text/plain": [
       "'/home/vv/git/chirag'"
      ]
     },
     "execution_count": 4,
     "metadata": {},
     "output_type": "execute_result"
    }
   ],
   "source": [
    "pwd"
   ]
  },
  {
   "cell_type": "code",
   "execution_count": 5,
   "metadata": {},
   "outputs": [],
   "source": [
    "# Read the dataset\n",
    "train_batch_size = 16\n",
    "num_epochs = 4\n",
    "model_save_path = 'output/training_stsbenchmark_bert-'+datetime.now().strftime(\"%Y-%m-%d_%H-%M-%S\")\n",
    "sts_reader = STSDataReader('./stsbenchmark', normalize_scores=True)"
   ]
  },
  {
   "cell_type": "code",
   "execution_count": 6,
   "metadata": {},
   "outputs": [
    {
     "name": "stdout",
     "output_type": "stream",
     "text": [
      "2019-12-17 05:57:27 - loading configuration file https://s3.amazonaws.com/models.huggingface.co/bert/bert-base-uncased-config.json from cache at /home/vv/.cache/torch/transformers/4dad0251492946e18ac39290fcfe91b89d370fee250efe9521476438fe8ca185.bf3b9ea126d8c0001ee8a1e8b92229871d06d36d8808208cc2449280da87785c\n",
      "2019-12-17 05:57:27 - Model config {\n",
      "  \"attention_probs_dropout_prob\": 0.1,\n",
      "  \"finetuning_task\": null,\n",
      "  \"hidden_act\": \"gelu\",\n",
      "  \"hidden_dropout_prob\": 0.1,\n",
      "  \"hidden_size\": 768,\n",
      "  \"initializer_range\": 0.02,\n",
      "  \"intermediate_size\": 3072,\n",
      "  \"is_decoder\": false,\n",
      "  \"layer_norm_eps\": 1e-12,\n",
      "  \"max_position_embeddings\": 512,\n",
      "  \"num_attention_heads\": 12,\n",
      "  \"num_hidden_layers\": 12,\n",
      "  \"num_labels\": 2,\n",
      "  \"output_attentions\": false,\n",
      "  \"output_hidden_states\": false,\n",
      "  \"output_past\": true,\n",
      "  \"pruned_heads\": {},\n",
      "  \"torchscript\": false,\n",
      "  \"type_vocab_size\": 2,\n",
      "  \"use_bfloat16\": false,\n",
      "  \"vocab_size\": 30522\n",
      "}\n",
      "\n",
      "2019-12-17 05:57:28 - loading weights file https://s3.amazonaws.com/models.huggingface.co/bert/bert-base-uncased-pytorch_model.bin from cache at /home/vv/.cache/torch/transformers/aa1ef1aede4482d0dbcd4d52baad8ae300e60902e88fcb0bebdec09afd232066.36ca03ab34a1a5d5fa7bc3d03d55c4fa650fed07220e2eeebc06ce58d0e9a157\n",
      "2019-12-17 05:57:32 - loading file https://s3.amazonaws.com/models.huggingface.co/bert/bert-base-uncased-vocab.txt from cache at /home/vv/.cache/torch/transformers/26bc1ad6c0ac742e9b52263248f6d0f00068293b33709fae12320c0e35ccfbbb.542ce4285a40d23a559526243235df47c5f75c197f04f37d1a0c124c32c9a084\n"
     ]
    }
   ],
   "source": [
    "# Use BERT for mapping tokens to embeddings\n",
    "word_embedding_model = models.BERT('bert-base-uncased')"
   ]
  },
  {
   "cell_type": "code",
   "execution_count": 7,
   "metadata": {},
   "outputs": [
    {
     "name": "stdout",
     "output_type": "stream",
     "text": [
      "2019-12-17 05:57:44 - Use pytorch device: cuda\n"
     ]
    },
    {
     "name": "stderr",
     "output_type": "stream",
     "text": [
      "Convert dataset:   7%|▋         | 357/5051 [00:00<00:01, 3566.08it/s]"
     ]
    },
    {
     "name": "stdout",
     "output_type": "stream",
     "text": [
      "2019-12-17 05:57:48 - Read STSbenchmark train dataset\n"
     ]
    },
    {
     "name": "stderr",
     "output_type": "stream",
     "text": [
      "Convert dataset: 100%|██████████| 5051/5051 [00:01<00:00, 2768.64it/s]\n",
      "Convert dataset:  25%|██▌       | 376/1500 [00:00<00:00, 3755.89it/s]"
     ]
    },
    {
     "name": "stdout",
     "output_type": "stream",
     "text": [
      "2019-12-17 05:57:49 - Num sentences: 5051\n",
      "2019-12-17 05:57:49 - Sentences 0 longer than max_seqence_length: 0\n",
      "2019-12-17 05:57:49 - Sentences 1 longer than max_seqence_length: 0\n",
      "2019-12-17 05:57:49 - Read STSbenchmark dev dataset\n"
     ]
    },
    {
     "name": "stderr",
     "output_type": "stream",
     "text": [
      "Convert dataset: 100%|██████████| 1500/1500 [00:00<00:00, 2594.61it/s]"
     ]
    },
    {
     "name": "stdout",
     "output_type": "stream",
     "text": [
      "2019-12-17 05:57:50 - Num sentences: 1500\n",
      "2019-12-17 05:57:50 - Sentences 0 longer than max_seqence_length: 0\n",
      "2019-12-17 05:57:50 - Sentences 1 longer than max_seqence_length: 0\n"
     ]
    },
    {
     "name": "stderr",
     "output_type": "stream",
     "text": [
      "\n"
     ]
    }
   ],
   "source": [
    "# Apply mean pooling to get one fixed sized sentence vector\n",
    "pooling_model = models.Pooling(word_embedding_model.get_word_embedding_dimension(),\n",
    "                               pooling_mode_mean_tokens=True,\n",
    "                               pooling_mode_cls_token=False,\n",
    "                               pooling_mode_max_tokens=False)\n",
    "\n",
    "model = SentenceTransformer(modules=[word_embedding_model, pooling_model])\n",
    "\n",
    "# Convert the dataset to a DataLoader ready for training\n",
    "logging.info(\"Read STSbenchmark train dataset\")\n",
    "train_data = SentencesDataset(sts_reader.get_examples('sts-train.csv'), model)\n",
    "train_dataloader = DataLoader(train_data, shuffle=True, batch_size=train_batch_size)\n",
    "train_loss = losses.CosineSimilarityLoss(model=model)\n",
    "\n",
    "\n",
    "logging.info(\"Read STSbenchmark dev dataset\")\n",
    "dev_data = SentencesDataset(examples=sts_reader.get_examples('sts-dev.csv'), model=model)\n",
    "dev_dataloader = DataLoader(dev_data, shuffle=False, batch_size=train_batch_size)\n",
    "evaluator = EmbeddingSimilarityEvaluator(dev_dataloader)"
   ]
  },
  {
   "cell_type": "code",
   "execution_count": 8,
   "metadata": {},
   "outputs": [
    {
     "name": "stdout",
     "output_type": "stream",
     "text": [
      "2019-12-17 05:58:03 - Warmup-steps: 127\n"
     ]
    }
   ],
   "source": [
    "# Configure the training. We skip evaluation in this example\n",
    "warmup_steps = math.ceil(len(train_data)*num_epochs/train_batch_size*0.1) #10% of train data for warm-up\n",
    "logging.info(\"Warmup-steps: {}\".format(warmup_steps))"
   ]
  },
  {
   "cell_type": "code",
   "execution_count": 9,
   "metadata": {},
   "outputs": [
    {
     "name": "stderr",
     "output_type": "stream",
     "text": [
      "Epoch:   0%|          | 0/4 [00:00<?, ?it/s]\n",
      "Iteration:   0%|          | 0/316 [00:00<?, ?it/s]\u001b[A\n",
      "Epoch:   0%|          | 0/4 [00:00<?, ?it/s]\n"
     ]
    },
    {
     "ename": "RuntimeError",
     "evalue": "CUDA out of memory. Tried to allocate 20.00 MiB (GPU 0; 5.79 GiB total capacity; 865.68 MiB already allocated; 17.44 MiB free; 4.32 MiB cached)",
     "output_type": "error",
     "traceback": [
      "\u001b[0;31m---------------------------------------------------------------------------\u001b[0m",
      "\u001b[0;31mRuntimeError\u001b[0m                              Traceback (most recent call last)",
      "\u001b[0;32m<ipython-input-9-272d1eef997b>\u001b[0m in \u001b[0;36m<module>\u001b[0;34m\u001b[0m\n\u001b[1;32m      5\u001b[0m           \u001b[0mevaluation_steps\u001b[0m\u001b[0;34m=\u001b[0m\u001b[0;36m1000\u001b[0m\u001b[0;34m,\u001b[0m\u001b[0;34m\u001b[0m\u001b[0;34m\u001b[0m\u001b[0m\n\u001b[1;32m      6\u001b[0m           \u001b[0mwarmup_steps\u001b[0m\u001b[0;34m=\u001b[0m\u001b[0mwarmup_steps\u001b[0m\u001b[0;34m,\u001b[0m\u001b[0;34m\u001b[0m\u001b[0;34m\u001b[0m\u001b[0m\n\u001b[0;32m----> 7\u001b[0;31m           output_path=model_save_path)\n\u001b[0m",
      "\u001b[0;32m~/venv/lib/python3.6/site-packages/sentence_transformers/SentenceTransformer.py\u001b[0m in \u001b[0;36mfit\u001b[0;34m(self, train_objectives, evaluator, epochs, scheduler, warmup_steps, optimizer_class, optimizer_params, weight_decay, evaluation_steps, output_path, save_best_model, max_grad_norm, fp16, fp16_opt_level, local_rank)\u001b[0m\n\u001b[1;32m    349\u001b[0m \u001b[0;34m\u001b[0m\u001b[0m\n\u001b[1;32m    350\u001b[0m                 \u001b[0mfeatures\u001b[0m\u001b[0;34m,\u001b[0m \u001b[0mlabels\u001b[0m \u001b[0;34m=\u001b[0m \u001b[0mbatch_to_device\u001b[0m\u001b[0;34m(\u001b[0m\u001b[0mdata\u001b[0m\u001b[0;34m,\u001b[0m \u001b[0mself\u001b[0m\u001b[0;34m.\u001b[0m\u001b[0mdevice\u001b[0m\u001b[0;34m)\u001b[0m\u001b[0;34m\u001b[0m\u001b[0;34m\u001b[0m\u001b[0m\n\u001b[0;32m--> 351\u001b[0;31m                 \u001b[0mloss_value\u001b[0m \u001b[0;34m=\u001b[0m \u001b[0mloss_model\u001b[0m\u001b[0;34m(\u001b[0m\u001b[0mfeatures\u001b[0m\u001b[0;34m,\u001b[0m \u001b[0mlabels\u001b[0m\u001b[0;34m)\u001b[0m\u001b[0;34m\u001b[0m\u001b[0;34m\u001b[0m\u001b[0m\n\u001b[0m\u001b[1;32m    352\u001b[0m \u001b[0;34m\u001b[0m\u001b[0m\n\u001b[1;32m    353\u001b[0m                 \u001b[0;32mif\u001b[0m \u001b[0mfp16\u001b[0m\u001b[0;34m:\u001b[0m\u001b[0;34m\u001b[0m\u001b[0;34m\u001b[0m\u001b[0m\n",
      "\u001b[0;32m~/venv/lib/python3.6/site-packages/torch/nn/modules/module.py\u001b[0m in \u001b[0;36m__call__\u001b[0;34m(self, *input, **kwargs)\u001b[0m\n\u001b[1;32m    539\u001b[0m             \u001b[0mresult\u001b[0m \u001b[0;34m=\u001b[0m \u001b[0mself\u001b[0m\u001b[0;34m.\u001b[0m\u001b[0m_slow_forward\u001b[0m\u001b[0;34m(\u001b[0m\u001b[0;34m*\u001b[0m\u001b[0minput\u001b[0m\u001b[0;34m,\u001b[0m \u001b[0;34m**\u001b[0m\u001b[0mkwargs\u001b[0m\u001b[0;34m)\u001b[0m\u001b[0;34m\u001b[0m\u001b[0;34m\u001b[0m\u001b[0m\n\u001b[1;32m    540\u001b[0m         \u001b[0;32melse\u001b[0m\u001b[0;34m:\u001b[0m\u001b[0;34m\u001b[0m\u001b[0;34m\u001b[0m\u001b[0m\n\u001b[0;32m--> 541\u001b[0;31m             \u001b[0mresult\u001b[0m \u001b[0;34m=\u001b[0m \u001b[0mself\u001b[0m\u001b[0;34m.\u001b[0m\u001b[0mforward\u001b[0m\u001b[0;34m(\u001b[0m\u001b[0;34m*\u001b[0m\u001b[0minput\u001b[0m\u001b[0;34m,\u001b[0m \u001b[0;34m**\u001b[0m\u001b[0mkwargs\u001b[0m\u001b[0;34m)\u001b[0m\u001b[0;34m\u001b[0m\u001b[0;34m\u001b[0m\u001b[0m\n\u001b[0m\u001b[1;32m    542\u001b[0m         \u001b[0;32mfor\u001b[0m \u001b[0mhook\u001b[0m \u001b[0;32min\u001b[0m \u001b[0mself\u001b[0m\u001b[0;34m.\u001b[0m\u001b[0m_forward_hooks\u001b[0m\u001b[0;34m.\u001b[0m\u001b[0mvalues\u001b[0m\u001b[0;34m(\u001b[0m\u001b[0;34m)\u001b[0m\u001b[0;34m:\u001b[0m\u001b[0;34m\u001b[0m\u001b[0;34m\u001b[0m\u001b[0m\n\u001b[1;32m    543\u001b[0m             \u001b[0mhook_result\u001b[0m \u001b[0;34m=\u001b[0m \u001b[0mhook\u001b[0m\u001b[0;34m(\u001b[0m\u001b[0mself\u001b[0m\u001b[0;34m,\u001b[0m \u001b[0minput\u001b[0m\u001b[0;34m,\u001b[0m \u001b[0mresult\u001b[0m\u001b[0;34m)\u001b[0m\u001b[0;34m\u001b[0m\u001b[0;34m\u001b[0m\u001b[0m\n",
      "\u001b[0;32m~/venv/lib/python3.6/site-packages/sentence_transformers/losses/CosineSimilarityLoss.py\u001b[0m in \u001b[0;36mforward\u001b[0;34m(self, sentence_features, labels)\u001b[0m\n\u001b[1;32m     11\u001b[0m \u001b[0;34m\u001b[0m\u001b[0m\n\u001b[1;32m     12\u001b[0m     \u001b[0;32mdef\u001b[0m \u001b[0mforward\u001b[0m\u001b[0;34m(\u001b[0m\u001b[0mself\u001b[0m\u001b[0;34m,\u001b[0m \u001b[0msentence_features\u001b[0m\u001b[0;34m:\u001b[0m \u001b[0mIterable\u001b[0m\u001b[0;34m[\u001b[0m\u001b[0mDict\u001b[0m\u001b[0;34m[\u001b[0m\u001b[0mstr\u001b[0m\u001b[0;34m,\u001b[0m \u001b[0mTensor\u001b[0m\u001b[0;34m]\u001b[0m\u001b[0;34m]\u001b[0m\u001b[0;34m,\u001b[0m \u001b[0mlabels\u001b[0m\u001b[0;34m:\u001b[0m \u001b[0mTensor\u001b[0m\u001b[0;34m)\u001b[0m\u001b[0;34m:\u001b[0m\u001b[0;34m\u001b[0m\u001b[0;34m\u001b[0m\u001b[0m\n\u001b[0;32m---> 13\u001b[0;31m         \u001b[0mreps\u001b[0m \u001b[0;34m=\u001b[0m \u001b[0;34m[\u001b[0m\u001b[0mself\u001b[0m\u001b[0;34m.\u001b[0m\u001b[0mmodel\u001b[0m\u001b[0;34m(\u001b[0m\u001b[0msentence_feature\u001b[0m\u001b[0;34m)\u001b[0m\u001b[0;34m[\u001b[0m\u001b[0;34m'sentence_embedding'\u001b[0m\u001b[0;34m]\u001b[0m \u001b[0;32mfor\u001b[0m \u001b[0msentence_feature\u001b[0m \u001b[0;32min\u001b[0m \u001b[0msentence_features\u001b[0m\u001b[0;34m]\u001b[0m\u001b[0;34m\u001b[0m\u001b[0;34m\u001b[0m\u001b[0m\n\u001b[0m\u001b[1;32m     14\u001b[0m         \u001b[0mrep_a\u001b[0m\u001b[0;34m,\u001b[0m \u001b[0mrep_b\u001b[0m \u001b[0;34m=\u001b[0m \u001b[0mreps\u001b[0m\u001b[0;34m\u001b[0m\u001b[0;34m\u001b[0m\u001b[0m\n\u001b[1;32m     15\u001b[0m \u001b[0;34m\u001b[0m\u001b[0m\n",
      "\u001b[0;32m~/venv/lib/python3.6/site-packages/sentence_transformers/losses/CosineSimilarityLoss.py\u001b[0m in \u001b[0;36m<listcomp>\u001b[0;34m(.0)\u001b[0m\n\u001b[1;32m     11\u001b[0m \u001b[0;34m\u001b[0m\u001b[0m\n\u001b[1;32m     12\u001b[0m     \u001b[0;32mdef\u001b[0m \u001b[0mforward\u001b[0m\u001b[0;34m(\u001b[0m\u001b[0mself\u001b[0m\u001b[0;34m,\u001b[0m \u001b[0msentence_features\u001b[0m\u001b[0;34m:\u001b[0m \u001b[0mIterable\u001b[0m\u001b[0;34m[\u001b[0m\u001b[0mDict\u001b[0m\u001b[0;34m[\u001b[0m\u001b[0mstr\u001b[0m\u001b[0;34m,\u001b[0m \u001b[0mTensor\u001b[0m\u001b[0;34m]\u001b[0m\u001b[0;34m]\u001b[0m\u001b[0;34m,\u001b[0m \u001b[0mlabels\u001b[0m\u001b[0;34m:\u001b[0m \u001b[0mTensor\u001b[0m\u001b[0;34m)\u001b[0m\u001b[0;34m:\u001b[0m\u001b[0;34m\u001b[0m\u001b[0;34m\u001b[0m\u001b[0m\n\u001b[0;32m---> 13\u001b[0;31m         \u001b[0mreps\u001b[0m \u001b[0;34m=\u001b[0m \u001b[0;34m[\u001b[0m\u001b[0mself\u001b[0m\u001b[0;34m.\u001b[0m\u001b[0mmodel\u001b[0m\u001b[0;34m(\u001b[0m\u001b[0msentence_feature\u001b[0m\u001b[0;34m)\u001b[0m\u001b[0;34m[\u001b[0m\u001b[0;34m'sentence_embedding'\u001b[0m\u001b[0;34m]\u001b[0m \u001b[0;32mfor\u001b[0m \u001b[0msentence_feature\u001b[0m \u001b[0;32min\u001b[0m \u001b[0msentence_features\u001b[0m\u001b[0;34m]\u001b[0m\u001b[0;34m\u001b[0m\u001b[0;34m\u001b[0m\u001b[0m\n\u001b[0m\u001b[1;32m     14\u001b[0m         \u001b[0mrep_a\u001b[0m\u001b[0;34m,\u001b[0m \u001b[0mrep_b\u001b[0m \u001b[0;34m=\u001b[0m \u001b[0mreps\u001b[0m\u001b[0;34m\u001b[0m\u001b[0;34m\u001b[0m\u001b[0m\n\u001b[1;32m     15\u001b[0m \u001b[0;34m\u001b[0m\u001b[0m\n",
      "\u001b[0;32m~/venv/lib/python3.6/site-packages/torch/nn/modules/module.py\u001b[0m in \u001b[0;36m__call__\u001b[0;34m(self, *input, **kwargs)\u001b[0m\n\u001b[1;32m    539\u001b[0m             \u001b[0mresult\u001b[0m \u001b[0;34m=\u001b[0m \u001b[0mself\u001b[0m\u001b[0;34m.\u001b[0m\u001b[0m_slow_forward\u001b[0m\u001b[0;34m(\u001b[0m\u001b[0;34m*\u001b[0m\u001b[0minput\u001b[0m\u001b[0;34m,\u001b[0m \u001b[0;34m**\u001b[0m\u001b[0mkwargs\u001b[0m\u001b[0;34m)\u001b[0m\u001b[0;34m\u001b[0m\u001b[0;34m\u001b[0m\u001b[0m\n\u001b[1;32m    540\u001b[0m         \u001b[0;32melse\u001b[0m\u001b[0;34m:\u001b[0m\u001b[0;34m\u001b[0m\u001b[0;34m\u001b[0m\u001b[0m\n\u001b[0;32m--> 541\u001b[0;31m             \u001b[0mresult\u001b[0m \u001b[0;34m=\u001b[0m \u001b[0mself\u001b[0m\u001b[0;34m.\u001b[0m\u001b[0mforward\u001b[0m\u001b[0;34m(\u001b[0m\u001b[0;34m*\u001b[0m\u001b[0minput\u001b[0m\u001b[0;34m,\u001b[0m \u001b[0;34m**\u001b[0m\u001b[0mkwargs\u001b[0m\u001b[0;34m)\u001b[0m\u001b[0;34m\u001b[0m\u001b[0;34m\u001b[0m\u001b[0m\n\u001b[0m\u001b[1;32m    542\u001b[0m         \u001b[0;32mfor\u001b[0m \u001b[0mhook\u001b[0m \u001b[0;32min\u001b[0m \u001b[0mself\u001b[0m\u001b[0;34m.\u001b[0m\u001b[0m_forward_hooks\u001b[0m\u001b[0;34m.\u001b[0m\u001b[0mvalues\u001b[0m\u001b[0;34m(\u001b[0m\u001b[0;34m)\u001b[0m\u001b[0;34m:\u001b[0m\u001b[0;34m\u001b[0m\u001b[0;34m\u001b[0m\u001b[0m\n\u001b[1;32m    543\u001b[0m             \u001b[0mhook_result\u001b[0m \u001b[0;34m=\u001b[0m \u001b[0mhook\u001b[0m\u001b[0;34m(\u001b[0m\u001b[0mself\u001b[0m\u001b[0;34m,\u001b[0m \u001b[0minput\u001b[0m\u001b[0;34m,\u001b[0m \u001b[0mresult\u001b[0m\u001b[0;34m)\u001b[0m\u001b[0;34m\u001b[0m\u001b[0;34m\u001b[0m\u001b[0m\n",
      "\u001b[0;32m~/venv/lib/python3.6/site-packages/torch/nn/modules/container.py\u001b[0m in \u001b[0;36mforward\u001b[0;34m(self, input)\u001b[0m\n\u001b[1;32m     90\u001b[0m     \u001b[0;32mdef\u001b[0m \u001b[0mforward\u001b[0m\u001b[0;34m(\u001b[0m\u001b[0mself\u001b[0m\u001b[0;34m,\u001b[0m \u001b[0minput\u001b[0m\u001b[0;34m)\u001b[0m\u001b[0;34m:\u001b[0m\u001b[0;34m\u001b[0m\u001b[0;34m\u001b[0m\u001b[0m\n\u001b[1;32m     91\u001b[0m         \u001b[0;32mfor\u001b[0m \u001b[0mmodule\u001b[0m \u001b[0;32min\u001b[0m \u001b[0mself\u001b[0m\u001b[0;34m.\u001b[0m\u001b[0m_modules\u001b[0m\u001b[0;34m.\u001b[0m\u001b[0mvalues\u001b[0m\u001b[0;34m(\u001b[0m\u001b[0;34m)\u001b[0m\u001b[0;34m:\u001b[0m\u001b[0;34m\u001b[0m\u001b[0;34m\u001b[0m\u001b[0m\n\u001b[0;32m---> 92\u001b[0;31m             \u001b[0minput\u001b[0m \u001b[0;34m=\u001b[0m \u001b[0mmodule\u001b[0m\u001b[0;34m(\u001b[0m\u001b[0minput\u001b[0m\u001b[0;34m)\u001b[0m\u001b[0;34m\u001b[0m\u001b[0;34m\u001b[0m\u001b[0m\n\u001b[0m\u001b[1;32m     93\u001b[0m         \u001b[0;32mreturn\u001b[0m \u001b[0minput\u001b[0m\u001b[0;34m\u001b[0m\u001b[0;34m\u001b[0m\u001b[0m\n\u001b[1;32m     94\u001b[0m \u001b[0;34m\u001b[0m\u001b[0m\n",
      "\u001b[0;32m~/venv/lib/python3.6/site-packages/torch/nn/modules/module.py\u001b[0m in \u001b[0;36m__call__\u001b[0;34m(self, *input, **kwargs)\u001b[0m\n\u001b[1;32m    539\u001b[0m             \u001b[0mresult\u001b[0m \u001b[0;34m=\u001b[0m \u001b[0mself\u001b[0m\u001b[0;34m.\u001b[0m\u001b[0m_slow_forward\u001b[0m\u001b[0;34m(\u001b[0m\u001b[0;34m*\u001b[0m\u001b[0minput\u001b[0m\u001b[0;34m,\u001b[0m \u001b[0;34m**\u001b[0m\u001b[0mkwargs\u001b[0m\u001b[0;34m)\u001b[0m\u001b[0;34m\u001b[0m\u001b[0;34m\u001b[0m\u001b[0m\n\u001b[1;32m    540\u001b[0m         \u001b[0;32melse\u001b[0m\u001b[0;34m:\u001b[0m\u001b[0;34m\u001b[0m\u001b[0;34m\u001b[0m\u001b[0m\n\u001b[0;32m--> 541\u001b[0;31m             \u001b[0mresult\u001b[0m \u001b[0;34m=\u001b[0m \u001b[0mself\u001b[0m\u001b[0;34m.\u001b[0m\u001b[0mforward\u001b[0m\u001b[0;34m(\u001b[0m\u001b[0;34m*\u001b[0m\u001b[0minput\u001b[0m\u001b[0;34m,\u001b[0m \u001b[0;34m**\u001b[0m\u001b[0mkwargs\u001b[0m\u001b[0;34m)\u001b[0m\u001b[0;34m\u001b[0m\u001b[0;34m\u001b[0m\u001b[0m\n\u001b[0m\u001b[1;32m    542\u001b[0m         \u001b[0;32mfor\u001b[0m \u001b[0mhook\u001b[0m \u001b[0;32min\u001b[0m \u001b[0mself\u001b[0m\u001b[0;34m.\u001b[0m\u001b[0m_forward_hooks\u001b[0m\u001b[0;34m.\u001b[0m\u001b[0mvalues\u001b[0m\u001b[0;34m(\u001b[0m\u001b[0;34m)\u001b[0m\u001b[0;34m:\u001b[0m\u001b[0;34m\u001b[0m\u001b[0;34m\u001b[0m\u001b[0m\n\u001b[1;32m    543\u001b[0m             \u001b[0mhook_result\u001b[0m \u001b[0;34m=\u001b[0m \u001b[0mhook\u001b[0m\u001b[0;34m(\u001b[0m\u001b[0mself\u001b[0m\u001b[0;34m,\u001b[0m \u001b[0minput\u001b[0m\u001b[0;34m,\u001b[0m \u001b[0mresult\u001b[0m\u001b[0;34m)\u001b[0m\u001b[0;34m\u001b[0m\u001b[0;34m\u001b[0m\u001b[0m\n",
      "\u001b[0;32m~/venv/lib/python3.6/site-packages/sentence_transformers/models/BERT.py\u001b[0m in \u001b[0;36mforward\u001b[0;34m(self, features)\u001b[0m\n\u001b[1;32m     30\u001b[0m     \u001b[0;32mdef\u001b[0m \u001b[0mforward\u001b[0m\u001b[0;34m(\u001b[0m\u001b[0mself\u001b[0m\u001b[0;34m,\u001b[0m \u001b[0mfeatures\u001b[0m\u001b[0;34m)\u001b[0m\u001b[0;34m:\u001b[0m\u001b[0;34m\u001b[0m\u001b[0;34m\u001b[0m\u001b[0m\n\u001b[1;32m     31\u001b[0m         \u001b[0;34m\"\"\"Returns token_embeddings, cls_token\"\"\"\u001b[0m\u001b[0;34m\u001b[0m\u001b[0;34m\u001b[0m\u001b[0m\n\u001b[0;32m---> 32\u001b[0;31m         \u001b[0moutput_tokens\u001b[0m \u001b[0;34m=\u001b[0m \u001b[0mself\u001b[0m\u001b[0;34m.\u001b[0m\u001b[0mbert\u001b[0m\u001b[0;34m(\u001b[0m\u001b[0minput_ids\u001b[0m\u001b[0;34m=\u001b[0m\u001b[0mfeatures\u001b[0m\u001b[0;34m[\u001b[0m\u001b[0;34m'input_ids'\u001b[0m\u001b[0;34m]\u001b[0m\u001b[0;34m,\u001b[0m \u001b[0mtoken_type_ids\u001b[0m\u001b[0;34m=\u001b[0m\u001b[0mfeatures\u001b[0m\u001b[0;34m[\u001b[0m\u001b[0;34m'token_type_ids'\u001b[0m\u001b[0;34m]\u001b[0m\u001b[0;34m,\u001b[0m \u001b[0mattention_mask\u001b[0m\u001b[0;34m=\u001b[0m\u001b[0mfeatures\u001b[0m\u001b[0;34m[\u001b[0m\u001b[0;34m'input_mask'\u001b[0m\u001b[0;34m]\u001b[0m\u001b[0;34m)\u001b[0m\u001b[0;34m[\u001b[0m\u001b[0;36m0\u001b[0m\u001b[0;34m]\u001b[0m\u001b[0;34m\u001b[0m\u001b[0;34m\u001b[0m\u001b[0m\n\u001b[0m\u001b[1;32m     33\u001b[0m         \u001b[0mcls_tokens\u001b[0m \u001b[0;34m=\u001b[0m \u001b[0moutput_tokens\u001b[0m\u001b[0;34m[\u001b[0m\u001b[0;34m:\u001b[0m\u001b[0;34m,\u001b[0m \u001b[0;36m0\u001b[0m\u001b[0;34m,\u001b[0m \u001b[0;34m:\u001b[0m\u001b[0;34m]\u001b[0m  \u001b[0;31m# CLS token is first token\u001b[0m\u001b[0;34m\u001b[0m\u001b[0;34m\u001b[0m\u001b[0m\n\u001b[1;32m     34\u001b[0m         \u001b[0mfeatures\u001b[0m\u001b[0;34m.\u001b[0m\u001b[0mupdate\u001b[0m\u001b[0;34m(\u001b[0m\u001b[0;34m{\u001b[0m\u001b[0;34m'token_embeddings'\u001b[0m\u001b[0;34m:\u001b[0m \u001b[0moutput_tokens\u001b[0m\u001b[0;34m,\u001b[0m \u001b[0;34m'cls_token_embeddings'\u001b[0m\u001b[0;34m:\u001b[0m \u001b[0mcls_tokens\u001b[0m\u001b[0;34m,\u001b[0m \u001b[0;34m'input_mask'\u001b[0m\u001b[0;34m:\u001b[0m \u001b[0mfeatures\u001b[0m\u001b[0;34m[\u001b[0m\u001b[0;34m'input_mask'\u001b[0m\u001b[0;34m]\u001b[0m\u001b[0;34m}\u001b[0m\u001b[0;34m)\u001b[0m\u001b[0;34m\u001b[0m\u001b[0;34m\u001b[0m\u001b[0m\n",
      "\u001b[0;32m~/venv/lib/python3.6/site-packages/torch/nn/modules/module.py\u001b[0m in \u001b[0;36m__call__\u001b[0;34m(self, *input, **kwargs)\u001b[0m\n\u001b[1;32m    539\u001b[0m             \u001b[0mresult\u001b[0m \u001b[0;34m=\u001b[0m \u001b[0mself\u001b[0m\u001b[0;34m.\u001b[0m\u001b[0m_slow_forward\u001b[0m\u001b[0;34m(\u001b[0m\u001b[0;34m*\u001b[0m\u001b[0minput\u001b[0m\u001b[0;34m,\u001b[0m \u001b[0;34m**\u001b[0m\u001b[0mkwargs\u001b[0m\u001b[0;34m)\u001b[0m\u001b[0;34m\u001b[0m\u001b[0;34m\u001b[0m\u001b[0m\n\u001b[1;32m    540\u001b[0m         \u001b[0;32melse\u001b[0m\u001b[0;34m:\u001b[0m\u001b[0;34m\u001b[0m\u001b[0;34m\u001b[0m\u001b[0m\n\u001b[0;32m--> 541\u001b[0;31m             \u001b[0mresult\u001b[0m \u001b[0;34m=\u001b[0m \u001b[0mself\u001b[0m\u001b[0;34m.\u001b[0m\u001b[0mforward\u001b[0m\u001b[0;34m(\u001b[0m\u001b[0;34m*\u001b[0m\u001b[0minput\u001b[0m\u001b[0;34m,\u001b[0m \u001b[0;34m**\u001b[0m\u001b[0mkwargs\u001b[0m\u001b[0;34m)\u001b[0m\u001b[0;34m\u001b[0m\u001b[0;34m\u001b[0m\u001b[0m\n\u001b[0m\u001b[1;32m    542\u001b[0m         \u001b[0;32mfor\u001b[0m \u001b[0mhook\u001b[0m \u001b[0;32min\u001b[0m \u001b[0mself\u001b[0m\u001b[0;34m.\u001b[0m\u001b[0m_forward_hooks\u001b[0m\u001b[0;34m.\u001b[0m\u001b[0mvalues\u001b[0m\u001b[0;34m(\u001b[0m\u001b[0;34m)\u001b[0m\u001b[0;34m:\u001b[0m\u001b[0;34m\u001b[0m\u001b[0;34m\u001b[0m\u001b[0m\n\u001b[1;32m    543\u001b[0m             \u001b[0mhook_result\u001b[0m \u001b[0;34m=\u001b[0m \u001b[0mhook\u001b[0m\u001b[0;34m(\u001b[0m\u001b[0mself\u001b[0m\u001b[0;34m,\u001b[0m \u001b[0minput\u001b[0m\u001b[0;34m,\u001b[0m \u001b[0mresult\u001b[0m\u001b[0;34m)\u001b[0m\u001b[0;34m\u001b[0m\u001b[0;34m\u001b[0m\u001b[0m\n",
      "\u001b[0;32m~/venv/lib/python3.6/site-packages/transformers/modeling_bert.py\u001b[0m in \u001b[0;36mforward\u001b[0;34m(self, input_ids, attention_mask, token_type_ids, position_ids, head_mask, inputs_embeds, encoder_hidden_states, encoder_attention_mask)\u001b[0m\n\u001b[1;32m    725\u001b[0m                                        \u001b[0mhead_mask\u001b[0m\u001b[0;34m=\u001b[0m\u001b[0mhead_mask\u001b[0m\u001b[0;34m,\u001b[0m\u001b[0;34m\u001b[0m\u001b[0;34m\u001b[0m\u001b[0m\n\u001b[1;32m    726\u001b[0m                                        \u001b[0mencoder_hidden_states\u001b[0m\u001b[0;34m=\u001b[0m\u001b[0mencoder_hidden_states\u001b[0m\u001b[0;34m,\u001b[0m\u001b[0;34m\u001b[0m\u001b[0;34m\u001b[0m\u001b[0m\n\u001b[0;32m--> 727\u001b[0;31m                                        encoder_attention_mask=encoder_extended_attention_mask)\n\u001b[0m\u001b[1;32m    728\u001b[0m         \u001b[0msequence_output\u001b[0m \u001b[0;34m=\u001b[0m \u001b[0mencoder_outputs\u001b[0m\u001b[0;34m[\u001b[0m\u001b[0;36m0\u001b[0m\u001b[0;34m]\u001b[0m\u001b[0;34m\u001b[0m\u001b[0;34m\u001b[0m\u001b[0m\n\u001b[1;32m    729\u001b[0m         \u001b[0mpooled_output\u001b[0m \u001b[0;34m=\u001b[0m \u001b[0mself\u001b[0m\u001b[0;34m.\u001b[0m\u001b[0mpooler\u001b[0m\u001b[0;34m(\u001b[0m\u001b[0msequence_output\u001b[0m\u001b[0;34m)\u001b[0m\u001b[0;34m\u001b[0m\u001b[0;34m\u001b[0m\u001b[0m\n",
      "\u001b[0;32m~/venv/lib/python3.6/site-packages/torch/nn/modules/module.py\u001b[0m in \u001b[0;36m__call__\u001b[0;34m(self, *input, **kwargs)\u001b[0m\n\u001b[1;32m    539\u001b[0m             \u001b[0mresult\u001b[0m \u001b[0;34m=\u001b[0m \u001b[0mself\u001b[0m\u001b[0;34m.\u001b[0m\u001b[0m_slow_forward\u001b[0m\u001b[0;34m(\u001b[0m\u001b[0;34m*\u001b[0m\u001b[0minput\u001b[0m\u001b[0;34m,\u001b[0m \u001b[0;34m**\u001b[0m\u001b[0mkwargs\u001b[0m\u001b[0;34m)\u001b[0m\u001b[0;34m\u001b[0m\u001b[0;34m\u001b[0m\u001b[0m\n\u001b[1;32m    540\u001b[0m         \u001b[0;32melse\u001b[0m\u001b[0;34m:\u001b[0m\u001b[0;34m\u001b[0m\u001b[0;34m\u001b[0m\u001b[0m\n\u001b[0;32m--> 541\u001b[0;31m             \u001b[0mresult\u001b[0m \u001b[0;34m=\u001b[0m \u001b[0mself\u001b[0m\u001b[0;34m.\u001b[0m\u001b[0mforward\u001b[0m\u001b[0;34m(\u001b[0m\u001b[0;34m*\u001b[0m\u001b[0minput\u001b[0m\u001b[0;34m,\u001b[0m \u001b[0;34m**\u001b[0m\u001b[0mkwargs\u001b[0m\u001b[0;34m)\u001b[0m\u001b[0;34m\u001b[0m\u001b[0;34m\u001b[0m\u001b[0m\n\u001b[0m\u001b[1;32m    542\u001b[0m         \u001b[0;32mfor\u001b[0m \u001b[0mhook\u001b[0m \u001b[0;32min\u001b[0m \u001b[0mself\u001b[0m\u001b[0;34m.\u001b[0m\u001b[0m_forward_hooks\u001b[0m\u001b[0;34m.\u001b[0m\u001b[0mvalues\u001b[0m\u001b[0;34m(\u001b[0m\u001b[0;34m)\u001b[0m\u001b[0;34m:\u001b[0m\u001b[0;34m\u001b[0m\u001b[0;34m\u001b[0m\u001b[0m\n\u001b[1;32m    543\u001b[0m             \u001b[0mhook_result\u001b[0m \u001b[0;34m=\u001b[0m \u001b[0mhook\u001b[0m\u001b[0;34m(\u001b[0m\u001b[0mself\u001b[0m\u001b[0;34m,\u001b[0m \u001b[0minput\u001b[0m\u001b[0;34m,\u001b[0m \u001b[0mresult\u001b[0m\u001b[0;34m)\u001b[0m\u001b[0;34m\u001b[0m\u001b[0;34m\u001b[0m\u001b[0m\n",
      "\u001b[0;32m~/venv/lib/python3.6/site-packages/transformers/modeling_bert.py\u001b[0m in \u001b[0;36mforward\u001b[0;34m(self, hidden_states, attention_mask, head_mask, encoder_hidden_states, encoder_attention_mask)\u001b[0m\n\u001b[1;32m    378\u001b[0m                 \u001b[0mall_hidden_states\u001b[0m \u001b[0;34m=\u001b[0m \u001b[0mall_hidden_states\u001b[0m \u001b[0;34m+\u001b[0m \u001b[0;34m(\u001b[0m\u001b[0mhidden_states\u001b[0m\u001b[0;34m,\u001b[0m\u001b[0;34m)\u001b[0m\u001b[0;34m\u001b[0m\u001b[0;34m\u001b[0m\u001b[0m\n\u001b[1;32m    379\u001b[0m \u001b[0;34m\u001b[0m\u001b[0m\n\u001b[0;32m--> 380\u001b[0;31m             \u001b[0mlayer_outputs\u001b[0m \u001b[0;34m=\u001b[0m \u001b[0mlayer_module\u001b[0m\u001b[0;34m(\u001b[0m\u001b[0mhidden_states\u001b[0m\u001b[0;34m,\u001b[0m \u001b[0mattention_mask\u001b[0m\u001b[0;34m,\u001b[0m \u001b[0mhead_mask\u001b[0m\u001b[0;34m[\u001b[0m\u001b[0mi\u001b[0m\u001b[0;34m]\u001b[0m\u001b[0;34m,\u001b[0m \u001b[0mencoder_hidden_states\u001b[0m\u001b[0;34m,\u001b[0m \u001b[0mencoder_attention_mask\u001b[0m\u001b[0;34m)\u001b[0m\u001b[0;34m\u001b[0m\u001b[0;34m\u001b[0m\u001b[0m\n\u001b[0m\u001b[1;32m    381\u001b[0m             \u001b[0mhidden_states\u001b[0m \u001b[0;34m=\u001b[0m \u001b[0mlayer_outputs\u001b[0m\u001b[0;34m[\u001b[0m\u001b[0;36m0\u001b[0m\u001b[0;34m]\u001b[0m\u001b[0;34m\u001b[0m\u001b[0;34m\u001b[0m\u001b[0m\n\u001b[1;32m    382\u001b[0m \u001b[0;34m\u001b[0m\u001b[0m\n",
      "\u001b[0;32m~/venv/lib/python3.6/site-packages/torch/nn/modules/module.py\u001b[0m in \u001b[0;36m__call__\u001b[0;34m(self, *input, **kwargs)\u001b[0m\n\u001b[1;32m    539\u001b[0m             \u001b[0mresult\u001b[0m \u001b[0;34m=\u001b[0m \u001b[0mself\u001b[0m\u001b[0;34m.\u001b[0m\u001b[0m_slow_forward\u001b[0m\u001b[0;34m(\u001b[0m\u001b[0;34m*\u001b[0m\u001b[0minput\u001b[0m\u001b[0;34m,\u001b[0m \u001b[0;34m**\u001b[0m\u001b[0mkwargs\u001b[0m\u001b[0;34m)\u001b[0m\u001b[0;34m\u001b[0m\u001b[0;34m\u001b[0m\u001b[0m\n\u001b[1;32m    540\u001b[0m         \u001b[0;32melse\u001b[0m\u001b[0;34m:\u001b[0m\u001b[0;34m\u001b[0m\u001b[0;34m\u001b[0m\u001b[0m\n\u001b[0;32m--> 541\u001b[0;31m             \u001b[0mresult\u001b[0m \u001b[0;34m=\u001b[0m \u001b[0mself\u001b[0m\u001b[0;34m.\u001b[0m\u001b[0mforward\u001b[0m\u001b[0;34m(\u001b[0m\u001b[0;34m*\u001b[0m\u001b[0minput\u001b[0m\u001b[0;34m,\u001b[0m \u001b[0;34m**\u001b[0m\u001b[0mkwargs\u001b[0m\u001b[0;34m)\u001b[0m\u001b[0;34m\u001b[0m\u001b[0;34m\u001b[0m\u001b[0m\n\u001b[0m\u001b[1;32m    542\u001b[0m         \u001b[0;32mfor\u001b[0m \u001b[0mhook\u001b[0m \u001b[0;32min\u001b[0m \u001b[0mself\u001b[0m\u001b[0;34m.\u001b[0m\u001b[0m_forward_hooks\u001b[0m\u001b[0;34m.\u001b[0m\u001b[0mvalues\u001b[0m\u001b[0;34m(\u001b[0m\u001b[0;34m)\u001b[0m\u001b[0;34m:\u001b[0m\u001b[0;34m\u001b[0m\u001b[0;34m\u001b[0m\u001b[0m\n\u001b[1;32m    543\u001b[0m             \u001b[0mhook_result\u001b[0m \u001b[0;34m=\u001b[0m \u001b[0mhook\u001b[0m\u001b[0;34m(\u001b[0m\u001b[0mself\u001b[0m\u001b[0;34m,\u001b[0m \u001b[0minput\u001b[0m\u001b[0;34m,\u001b[0m \u001b[0mresult\u001b[0m\u001b[0;34m)\u001b[0m\u001b[0;34m\u001b[0m\u001b[0;34m\u001b[0m\u001b[0m\n",
      "\u001b[0;32m~/venv/lib/python3.6/site-packages/transformers/modeling_bert.py\u001b[0m in \u001b[0;36mforward\u001b[0;34m(self, hidden_states, attention_mask, head_mask, encoder_hidden_states, encoder_attention_mask)\u001b[0m\n\u001b[1;32m    349\u001b[0m \u001b[0;34m\u001b[0m\u001b[0m\n\u001b[1;32m    350\u001b[0m     \u001b[0;32mdef\u001b[0m \u001b[0mforward\u001b[0m\u001b[0;34m(\u001b[0m\u001b[0mself\u001b[0m\u001b[0;34m,\u001b[0m \u001b[0mhidden_states\u001b[0m\u001b[0;34m,\u001b[0m \u001b[0mattention_mask\u001b[0m\u001b[0;34m=\u001b[0m\u001b[0;32mNone\u001b[0m\u001b[0;34m,\u001b[0m \u001b[0mhead_mask\u001b[0m\u001b[0;34m=\u001b[0m\u001b[0;32mNone\u001b[0m\u001b[0;34m,\u001b[0m \u001b[0mencoder_hidden_states\u001b[0m\u001b[0;34m=\u001b[0m\u001b[0;32mNone\u001b[0m\u001b[0;34m,\u001b[0m \u001b[0mencoder_attention_mask\u001b[0m\u001b[0;34m=\u001b[0m\u001b[0;32mNone\u001b[0m\u001b[0;34m)\u001b[0m\u001b[0;34m:\u001b[0m\u001b[0;34m\u001b[0m\u001b[0;34m\u001b[0m\u001b[0m\n\u001b[0;32m--> 351\u001b[0;31m         \u001b[0mself_attention_outputs\u001b[0m \u001b[0;34m=\u001b[0m \u001b[0mself\u001b[0m\u001b[0;34m.\u001b[0m\u001b[0mattention\u001b[0m\u001b[0;34m(\u001b[0m\u001b[0mhidden_states\u001b[0m\u001b[0;34m,\u001b[0m \u001b[0mattention_mask\u001b[0m\u001b[0;34m,\u001b[0m \u001b[0mhead_mask\u001b[0m\u001b[0;34m)\u001b[0m\u001b[0;34m\u001b[0m\u001b[0;34m\u001b[0m\u001b[0m\n\u001b[0m\u001b[1;32m    352\u001b[0m         \u001b[0mattention_output\u001b[0m \u001b[0;34m=\u001b[0m \u001b[0mself_attention_outputs\u001b[0m\u001b[0;34m[\u001b[0m\u001b[0;36m0\u001b[0m\u001b[0;34m]\u001b[0m\u001b[0;34m\u001b[0m\u001b[0;34m\u001b[0m\u001b[0m\n\u001b[1;32m    353\u001b[0m         \u001b[0moutputs\u001b[0m \u001b[0;34m=\u001b[0m \u001b[0mself_attention_outputs\u001b[0m\u001b[0;34m[\u001b[0m\u001b[0;36m1\u001b[0m\u001b[0;34m:\u001b[0m\u001b[0;34m]\u001b[0m  \u001b[0;31m# add self attentions if we output attention weights\u001b[0m\u001b[0;34m\u001b[0m\u001b[0;34m\u001b[0m\u001b[0m\n",
      "\u001b[0;32m~/venv/lib/python3.6/site-packages/torch/nn/modules/module.py\u001b[0m in \u001b[0;36m__call__\u001b[0;34m(self, *input, **kwargs)\u001b[0m\n\u001b[1;32m    539\u001b[0m             \u001b[0mresult\u001b[0m \u001b[0;34m=\u001b[0m \u001b[0mself\u001b[0m\u001b[0;34m.\u001b[0m\u001b[0m_slow_forward\u001b[0m\u001b[0;34m(\u001b[0m\u001b[0;34m*\u001b[0m\u001b[0minput\u001b[0m\u001b[0;34m,\u001b[0m \u001b[0;34m**\u001b[0m\u001b[0mkwargs\u001b[0m\u001b[0;34m)\u001b[0m\u001b[0;34m\u001b[0m\u001b[0;34m\u001b[0m\u001b[0m\n\u001b[1;32m    540\u001b[0m         \u001b[0;32melse\u001b[0m\u001b[0;34m:\u001b[0m\u001b[0;34m\u001b[0m\u001b[0;34m\u001b[0m\u001b[0m\n\u001b[0;32m--> 541\u001b[0;31m             \u001b[0mresult\u001b[0m \u001b[0;34m=\u001b[0m \u001b[0mself\u001b[0m\u001b[0;34m.\u001b[0m\u001b[0mforward\u001b[0m\u001b[0;34m(\u001b[0m\u001b[0;34m*\u001b[0m\u001b[0minput\u001b[0m\u001b[0;34m,\u001b[0m \u001b[0;34m**\u001b[0m\u001b[0mkwargs\u001b[0m\u001b[0;34m)\u001b[0m\u001b[0;34m\u001b[0m\u001b[0;34m\u001b[0m\u001b[0m\n\u001b[0m\u001b[1;32m    542\u001b[0m         \u001b[0;32mfor\u001b[0m \u001b[0mhook\u001b[0m \u001b[0;32min\u001b[0m \u001b[0mself\u001b[0m\u001b[0;34m.\u001b[0m\u001b[0m_forward_hooks\u001b[0m\u001b[0;34m.\u001b[0m\u001b[0mvalues\u001b[0m\u001b[0;34m(\u001b[0m\u001b[0;34m)\u001b[0m\u001b[0;34m:\u001b[0m\u001b[0;34m\u001b[0m\u001b[0;34m\u001b[0m\u001b[0m\n\u001b[1;32m    543\u001b[0m             \u001b[0mhook_result\u001b[0m \u001b[0;34m=\u001b[0m \u001b[0mhook\u001b[0m\u001b[0;34m(\u001b[0m\u001b[0mself\u001b[0m\u001b[0;34m,\u001b[0m \u001b[0minput\u001b[0m\u001b[0;34m,\u001b[0m \u001b[0mresult\u001b[0m\u001b[0;34m)\u001b[0m\u001b[0;34m\u001b[0m\u001b[0;34m\u001b[0m\u001b[0m\n",
      "\u001b[0;32m~/venv/lib/python3.6/site-packages/transformers/modeling_bert.py\u001b[0m in \u001b[0;36mforward\u001b[0;34m(self, hidden_states, attention_mask, head_mask, encoder_hidden_states, encoder_attention_mask)\u001b[0m\n\u001b[1;32m    303\u001b[0m \u001b[0;34m\u001b[0m\u001b[0m\n\u001b[1;32m    304\u001b[0m     \u001b[0;32mdef\u001b[0m \u001b[0mforward\u001b[0m\u001b[0;34m(\u001b[0m\u001b[0mself\u001b[0m\u001b[0;34m,\u001b[0m \u001b[0mhidden_states\u001b[0m\u001b[0;34m,\u001b[0m \u001b[0mattention_mask\u001b[0m\u001b[0;34m=\u001b[0m\u001b[0;32mNone\u001b[0m\u001b[0;34m,\u001b[0m \u001b[0mhead_mask\u001b[0m\u001b[0;34m=\u001b[0m\u001b[0;32mNone\u001b[0m\u001b[0;34m,\u001b[0m \u001b[0mencoder_hidden_states\u001b[0m\u001b[0;34m=\u001b[0m\u001b[0;32mNone\u001b[0m\u001b[0;34m,\u001b[0m \u001b[0mencoder_attention_mask\u001b[0m\u001b[0;34m=\u001b[0m\u001b[0;32mNone\u001b[0m\u001b[0;34m)\u001b[0m\u001b[0;34m:\u001b[0m\u001b[0;34m\u001b[0m\u001b[0;34m\u001b[0m\u001b[0m\n\u001b[0;32m--> 305\u001b[0;31m         \u001b[0mself_outputs\u001b[0m \u001b[0;34m=\u001b[0m \u001b[0mself\u001b[0m\u001b[0;34m.\u001b[0m\u001b[0mself\u001b[0m\u001b[0;34m(\u001b[0m\u001b[0mhidden_states\u001b[0m\u001b[0;34m,\u001b[0m \u001b[0mattention_mask\u001b[0m\u001b[0;34m,\u001b[0m \u001b[0mhead_mask\u001b[0m\u001b[0;34m,\u001b[0m \u001b[0mencoder_hidden_states\u001b[0m\u001b[0;34m,\u001b[0m \u001b[0mencoder_attention_mask\u001b[0m\u001b[0;34m)\u001b[0m\u001b[0;34m\u001b[0m\u001b[0;34m\u001b[0m\u001b[0m\n\u001b[0m\u001b[1;32m    306\u001b[0m         \u001b[0mattention_output\u001b[0m \u001b[0;34m=\u001b[0m \u001b[0mself\u001b[0m\u001b[0;34m.\u001b[0m\u001b[0moutput\u001b[0m\u001b[0;34m(\u001b[0m\u001b[0mself_outputs\u001b[0m\u001b[0;34m[\u001b[0m\u001b[0;36m0\u001b[0m\u001b[0;34m]\u001b[0m\u001b[0;34m,\u001b[0m \u001b[0mhidden_states\u001b[0m\u001b[0;34m)\u001b[0m\u001b[0;34m\u001b[0m\u001b[0;34m\u001b[0m\u001b[0m\n\u001b[1;32m    307\u001b[0m         \u001b[0moutputs\u001b[0m \u001b[0;34m=\u001b[0m \u001b[0;34m(\u001b[0m\u001b[0mattention_output\u001b[0m\u001b[0;34m,\u001b[0m\u001b[0;34m)\u001b[0m \u001b[0;34m+\u001b[0m \u001b[0mself_outputs\u001b[0m\u001b[0;34m[\u001b[0m\u001b[0;36m1\u001b[0m\u001b[0;34m:\u001b[0m\u001b[0;34m]\u001b[0m  \u001b[0;31m# add attentions if we output them\u001b[0m\u001b[0;34m\u001b[0m\u001b[0;34m\u001b[0m\u001b[0m\n",
      "\u001b[0;32m~/venv/lib/python3.6/site-packages/torch/nn/modules/module.py\u001b[0m in \u001b[0;36m__call__\u001b[0;34m(self, *input, **kwargs)\u001b[0m\n\u001b[1;32m    539\u001b[0m             \u001b[0mresult\u001b[0m \u001b[0;34m=\u001b[0m \u001b[0mself\u001b[0m\u001b[0;34m.\u001b[0m\u001b[0m_slow_forward\u001b[0m\u001b[0;34m(\u001b[0m\u001b[0;34m*\u001b[0m\u001b[0minput\u001b[0m\u001b[0;34m,\u001b[0m \u001b[0;34m**\u001b[0m\u001b[0mkwargs\u001b[0m\u001b[0;34m)\u001b[0m\u001b[0;34m\u001b[0m\u001b[0;34m\u001b[0m\u001b[0m\n\u001b[1;32m    540\u001b[0m         \u001b[0;32melse\u001b[0m\u001b[0;34m:\u001b[0m\u001b[0;34m\u001b[0m\u001b[0;34m\u001b[0m\u001b[0m\n\u001b[0;32m--> 541\u001b[0;31m             \u001b[0mresult\u001b[0m \u001b[0;34m=\u001b[0m \u001b[0mself\u001b[0m\u001b[0;34m.\u001b[0m\u001b[0mforward\u001b[0m\u001b[0;34m(\u001b[0m\u001b[0;34m*\u001b[0m\u001b[0minput\u001b[0m\u001b[0;34m,\u001b[0m \u001b[0;34m**\u001b[0m\u001b[0mkwargs\u001b[0m\u001b[0;34m)\u001b[0m\u001b[0;34m\u001b[0m\u001b[0;34m\u001b[0m\u001b[0m\n\u001b[0m\u001b[1;32m    542\u001b[0m         \u001b[0;32mfor\u001b[0m \u001b[0mhook\u001b[0m \u001b[0;32min\u001b[0m \u001b[0mself\u001b[0m\u001b[0;34m.\u001b[0m\u001b[0m_forward_hooks\u001b[0m\u001b[0;34m.\u001b[0m\u001b[0mvalues\u001b[0m\u001b[0;34m(\u001b[0m\u001b[0;34m)\u001b[0m\u001b[0;34m:\u001b[0m\u001b[0;34m\u001b[0m\u001b[0;34m\u001b[0m\u001b[0m\n\u001b[1;32m    543\u001b[0m             \u001b[0mhook_result\u001b[0m \u001b[0;34m=\u001b[0m \u001b[0mhook\u001b[0m\u001b[0;34m(\u001b[0m\u001b[0mself\u001b[0m\u001b[0;34m,\u001b[0m \u001b[0minput\u001b[0m\u001b[0;34m,\u001b[0m \u001b[0mresult\u001b[0m\u001b[0;34m)\u001b[0m\u001b[0;34m\u001b[0m\u001b[0;34m\u001b[0m\u001b[0m\n",
      "\u001b[0;32m~/venv/lib/python3.6/site-packages/transformers/modeling_bert.py\u001b[0m in \u001b[0;36mforward\u001b[0;34m(self, hidden_states, attention_mask, head_mask, encoder_hidden_states, encoder_attention_mask)\u001b[0m\n\u001b[1;32m    250\u001b[0m         \u001b[0mcontext_layer\u001b[0m \u001b[0;34m=\u001b[0m \u001b[0mtorch\u001b[0m\u001b[0;34m.\u001b[0m\u001b[0mmatmul\u001b[0m\u001b[0;34m(\u001b[0m\u001b[0mattention_probs\u001b[0m\u001b[0;34m,\u001b[0m \u001b[0mvalue_layer\u001b[0m\u001b[0;34m)\u001b[0m\u001b[0;34m\u001b[0m\u001b[0;34m\u001b[0m\u001b[0m\n\u001b[1;32m    251\u001b[0m \u001b[0;34m\u001b[0m\u001b[0m\n\u001b[0;32m--> 252\u001b[0;31m         \u001b[0mcontext_layer\u001b[0m \u001b[0;34m=\u001b[0m \u001b[0mcontext_layer\u001b[0m\u001b[0;34m.\u001b[0m\u001b[0mpermute\u001b[0m\u001b[0;34m(\u001b[0m\u001b[0;36m0\u001b[0m\u001b[0;34m,\u001b[0m \u001b[0;36m2\u001b[0m\u001b[0;34m,\u001b[0m \u001b[0;36m1\u001b[0m\u001b[0;34m,\u001b[0m \u001b[0;36m3\u001b[0m\u001b[0;34m)\u001b[0m\u001b[0;34m.\u001b[0m\u001b[0mcontiguous\u001b[0m\u001b[0;34m(\u001b[0m\u001b[0;34m)\u001b[0m\u001b[0;34m\u001b[0m\u001b[0;34m\u001b[0m\u001b[0m\n\u001b[0m\u001b[1;32m    253\u001b[0m         \u001b[0mnew_context_layer_shape\u001b[0m \u001b[0;34m=\u001b[0m \u001b[0mcontext_layer\u001b[0m\u001b[0;34m.\u001b[0m\u001b[0msize\u001b[0m\u001b[0;34m(\u001b[0m\u001b[0;34m)\u001b[0m\u001b[0;34m[\u001b[0m\u001b[0;34m:\u001b[0m\u001b[0;34m-\u001b[0m\u001b[0;36m2\u001b[0m\u001b[0;34m]\u001b[0m \u001b[0;34m+\u001b[0m \u001b[0;34m(\u001b[0m\u001b[0mself\u001b[0m\u001b[0;34m.\u001b[0m\u001b[0mall_head_size\u001b[0m\u001b[0;34m,\u001b[0m\u001b[0;34m)\u001b[0m\u001b[0;34m\u001b[0m\u001b[0;34m\u001b[0m\u001b[0m\n\u001b[1;32m    254\u001b[0m         \u001b[0mcontext_layer\u001b[0m \u001b[0;34m=\u001b[0m \u001b[0mcontext_layer\u001b[0m\u001b[0;34m.\u001b[0m\u001b[0mview\u001b[0m\u001b[0;34m(\u001b[0m\u001b[0;34m*\u001b[0m\u001b[0mnew_context_layer_shape\u001b[0m\u001b[0;34m)\u001b[0m\u001b[0;34m\u001b[0m\u001b[0;34m\u001b[0m\u001b[0m\n",
      "\u001b[0;31mRuntimeError\u001b[0m: CUDA out of memory. Tried to allocate 20.00 MiB (GPU 0; 5.79 GiB total capacity; 865.68 MiB already allocated; 17.44 MiB free; 4.32 MiB cached)"
     ]
    }
   ],
   "source": [
    "# Train the model\n",
    "model.fit(train_objectives=[(train_dataloader, train_loss)],\n",
    "          evaluator=evaluator,\n",
    "          epochs=num_epochs,\n",
    "          evaluation_steps=1000,\n",
    "          warmup_steps=warmup_steps,\n",
    "          output_path=model_save_path)"
   ]
  },
  {
   "cell_type": "code",
   "execution_count": 10,
   "metadata": {
    "scrolled": true
   },
   "outputs": [
    {
     "name": "stdout",
     "output_type": "stream",
     "text": [
      "2019-12-17 05:58:36 - Load pretrained SentenceTransformer: output/training_stsbenchmark_bert-2019-12-17_05-57-26\n",
      "2019-12-17 05:58:36 - Load SentenceTransformer from folder: output/training_stsbenchmark_bert-2019-12-17_05-57-26\n"
     ]
    },
    {
     "ename": "FileNotFoundError",
     "evalue": "[Errno 2] No such file or directory: 'output/training_stsbenchmark_bert-2019-12-17_05-57-26/modules.json'",
     "output_type": "error",
     "traceback": [
      "\u001b[0;31m---------------------------------------------------------------------------\u001b[0m",
      "\u001b[0;31mFileNotFoundError\u001b[0m                         Traceback (most recent call last)",
      "\u001b[0;32m<ipython-input-10-6edb646386c5>\u001b[0m in \u001b[0;36m<module>\u001b[0;34m\u001b[0m\n\u001b[1;32m      5\u001b[0m \u001b[0;31m##############################################################################\u001b[0m\u001b[0;34m\u001b[0m\u001b[0;34m\u001b[0m\u001b[0;34m\u001b[0m\u001b[0m\n\u001b[1;32m      6\u001b[0m \u001b[0;34m\u001b[0m\u001b[0m\n\u001b[0;32m----> 7\u001b[0;31m \u001b[0mmodel\u001b[0m \u001b[0;34m=\u001b[0m \u001b[0mSentenceTransformer\u001b[0m\u001b[0;34m(\u001b[0m\u001b[0mmodel_save_path\u001b[0m\u001b[0;34m)\u001b[0m\u001b[0;34m\u001b[0m\u001b[0;34m\u001b[0m\u001b[0m\n\u001b[0m\u001b[1;32m      8\u001b[0m \u001b[0mtest_data\u001b[0m \u001b[0;34m=\u001b[0m \u001b[0mSentencesDataset\u001b[0m\u001b[0;34m(\u001b[0m\u001b[0mexamples\u001b[0m\u001b[0;34m=\u001b[0m\u001b[0msts_reader\u001b[0m\u001b[0;34m.\u001b[0m\u001b[0mget_examples\u001b[0m\u001b[0;34m(\u001b[0m\u001b[0;34m\"sts-test.csv\"\u001b[0m\u001b[0;34m)\u001b[0m\u001b[0;34m,\u001b[0m \u001b[0mmodel\u001b[0m\u001b[0;34m=\u001b[0m\u001b[0mmodel\u001b[0m\u001b[0;34m)\u001b[0m\u001b[0;34m\u001b[0m\u001b[0;34m\u001b[0m\u001b[0m\n\u001b[1;32m      9\u001b[0m \u001b[0mtest_dataloader\u001b[0m \u001b[0;34m=\u001b[0m \u001b[0mDataLoader\u001b[0m\u001b[0;34m(\u001b[0m\u001b[0mtest_data\u001b[0m\u001b[0;34m,\u001b[0m \u001b[0mshuffle\u001b[0m\u001b[0;34m=\u001b[0m\u001b[0;32mFalse\u001b[0m\u001b[0;34m,\u001b[0m \u001b[0mbatch_size\u001b[0m\u001b[0;34m=\u001b[0m\u001b[0mtrain_batch_size\u001b[0m\u001b[0;34m)\u001b[0m\u001b[0;34m\u001b[0m\u001b[0;34m\u001b[0m\u001b[0m\n",
      "\u001b[0;32m~/venv/lib/python3.6/site-packages/sentence_transformers/SentenceTransformer.py\u001b[0m in \u001b[0;36m__init__\u001b[0;34m(self, model_name_or_path, modules, device)\u001b[0m\n\u001b[1;32m     74\u001b[0m                             \u001b[0mlogging\u001b[0m\u001b[0;34m.\u001b[0m\u001b[0mwarning\u001b[0m\u001b[0;34m(\u001b[0m\u001b[0;34m\"You try to use a model that was created with version {}, however, your version is {}. This might cause unexpected behavior or errors. In that case, try to update to the latest version.\\n\\n\\n\"\u001b[0m\u001b[0;34m.\u001b[0m\u001b[0mformat\u001b[0m\u001b[0;34m(\u001b[0m\u001b[0mconfig\u001b[0m\u001b[0;34m[\u001b[0m\u001b[0;34m'__version__'\u001b[0m\u001b[0;34m]\u001b[0m\u001b[0;34m,\u001b[0m \u001b[0m__version__\u001b[0m\u001b[0;34m)\u001b[0m\u001b[0;34m)\u001b[0m\u001b[0;34m\u001b[0m\u001b[0;34m\u001b[0m\u001b[0m\n\u001b[1;32m     75\u001b[0m \u001b[0;34m\u001b[0m\u001b[0m\n\u001b[0;32m---> 76\u001b[0;31m                 \u001b[0;32mwith\u001b[0m \u001b[0mopen\u001b[0m\u001b[0;34m(\u001b[0m\u001b[0mos\u001b[0m\u001b[0;34m.\u001b[0m\u001b[0mpath\u001b[0m\u001b[0;34m.\u001b[0m\u001b[0mjoin\u001b[0m\u001b[0;34m(\u001b[0m\u001b[0mmodel_path\u001b[0m\u001b[0;34m,\u001b[0m \u001b[0;34m'modules.json'\u001b[0m\u001b[0;34m)\u001b[0m\u001b[0;34m)\u001b[0m \u001b[0;32mas\u001b[0m \u001b[0mfIn\u001b[0m\u001b[0;34m:\u001b[0m\u001b[0;34m\u001b[0m\u001b[0;34m\u001b[0m\u001b[0m\n\u001b[0m\u001b[1;32m     77\u001b[0m                     \u001b[0mcontained_modules\u001b[0m \u001b[0;34m=\u001b[0m \u001b[0mjson\u001b[0m\u001b[0;34m.\u001b[0m\u001b[0mload\u001b[0m\u001b[0;34m(\u001b[0m\u001b[0mfIn\u001b[0m\u001b[0;34m)\u001b[0m\u001b[0;34m\u001b[0m\u001b[0;34m\u001b[0m\u001b[0m\n\u001b[1;32m     78\u001b[0m \u001b[0;34m\u001b[0m\u001b[0m\n",
      "\u001b[0;31mFileNotFoundError\u001b[0m: [Errno 2] No such file or directory: 'output/training_stsbenchmark_bert-2019-12-17_05-57-26/modules.json'"
     ]
    }
   ],
   "source": [
    "##############################################################################\n",
    "#\n",
    "# Load the stored model and evaluate its performance on STS benchmark dataset\n",
    "#\n",
    "##############################################################################\n",
    "\n",
    "model = SentenceTransformer(model_save_path)\n",
    "test_data = SentencesDataset(examples=sts_reader.get_examples(\"sts-test.csv\"), model=model)\n",
    "test_dataloader = DataLoader(test_data, shuffle=False, batch_size=train_batch_size)\n",
    "evaluator = EmbeddingSimilarityEvaluator(test_dataloader)\n",
    "model.evaluate(evaluator)"
   ]
  },
  {
   "cell_type": "code",
   "execution_count": 8,
   "metadata": {
    "scrolled": true
   },
   "outputs": [
    {
     "name": "stdout",
     "output_type": "stream",
     "text": [
      "2019-12-17 05:54:43 - Load pretrained SentenceTransformer: output/training_stsbenchmark_continue_training-roberta-base-nli-stsb-mean-tokens-2019-12-17_05-48-22\n",
      "2019-12-17 05:54:43 - Load SentenceTransformer from folder: output/training_stsbenchmark_continue_training-roberta-base-nli-stsb-mean-tokens-2019-12-17_05-48-22\n",
      "2019-12-17 05:54:43 - loading configuration file output/training_stsbenchmark_continue_training-roberta-base-nli-stsb-mean-tokens-2019-12-17_05-48-22/0_RoBERTa/config.json\n",
      "2019-12-17 05:54:43 - Model config {\n",
      "  \"attention_probs_dropout_prob\": 0.1,\n",
      "  \"finetuning_task\": null,\n",
      "  \"hidden_act\": \"gelu\",\n",
      "  \"hidden_dropout_prob\": 0.1,\n",
      "  \"hidden_size\": 768,\n",
      "  \"initializer_range\": 0.02,\n",
      "  \"intermediate_size\": 3072,\n",
      "  \"is_decoder\": false,\n",
      "  \"layer_norm_eps\": 1e-12,\n",
      "  \"max_position_embeddings\": 514,\n",
      "  \"num_attention_heads\": 12,\n",
      "  \"num_hidden_layers\": 12,\n",
      "  \"num_labels\": 2,\n",
      "  \"output_attentions\": false,\n",
      "  \"output_hidden_states\": false,\n",
      "  \"output_past\": true,\n",
      "  \"pruned_heads\": {},\n",
      "  \"torchscript\": false,\n",
      "  \"type_vocab_size\": 1,\n",
      "  \"use_bfloat16\": false,\n",
      "  \"vocab_size\": 50265\n",
      "}\n",
      "\n",
      "2019-12-17 05:54:43 - loading weights file output/training_stsbenchmark_continue_training-roberta-base-nli-stsb-mean-tokens-2019-12-17_05-48-22/0_RoBERTa/pytorch_model.bin\n",
      "2019-12-17 05:54:45 - Model name 'output/training_stsbenchmark_continue_training-roberta-base-nli-stsb-mean-tokens-2019-12-17_05-48-22/0_RoBERTa' not found in model shortcut name list (roberta-base, roberta-large, roberta-large-mnli, distilroberta-base, roberta-base-openai-detector, roberta-large-openai-detector). Assuming 'output/training_stsbenchmark_continue_training-roberta-base-nli-stsb-mean-tokens-2019-12-17_05-48-22/0_RoBERTa' is a path or url to a directory containing tokenizer files.\n",
      "2019-12-17 05:54:45 - loading file output/training_stsbenchmark_continue_training-roberta-base-nli-stsb-mean-tokens-2019-12-17_05-48-22/0_RoBERTa/vocab.json\n",
      "2019-12-17 05:54:45 - loading file output/training_stsbenchmark_continue_training-roberta-base-nli-stsb-mean-tokens-2019-12-17_05-48-22/0_RoBERTa/merges.txt\n",
      "2019-12-17 05:54:45 - loading file output/training_stsbenchmark_continue_training-roberta-base-nli-stsb-mean-tokens-2019-12-17_05-48-22/0_RoBERTa/added_tokens.json\n",
      "2019-12-17 05:54:45 - loading file output/training_stsbenchmark_continue_training-roberta-base-nli-stsb-mean-tokens-2019-12-17_05-48-22/0_RoBERTa/special_tokens_map.json\n",
      "2019-12-17 05:54:45 - loading file output/training_stsbenchmark_continue_training-roberta-base-nli-stsb-mean-tokens-2019-12-17_05-48-22/0_RoBERTa/tokenizer_config.json\n",
      "2019-12-17 05:54:45 - Use pytorch device: cuda\n"
     ]
    },
    {
     "name": "stderr",
     "output_type": "stream",
     "text": [
      "Convert dataset: 100%|██████████| 1500/1500 [00:00<00:00, 2764.23it/s]\n",
      "Convert Evaluating:   3%|▎         | 5/188 [00:00<00:03, 47.70it/s]"
     ]
    },
    {
     "name": "stdout",
     "output_type": "stream",
     "text": [
      "2019-12-17 05:54:46 - Num sentences: 1500\n",
      "2019-12-17 05:54:46 - Sentences 0 longer than max_seqence_length: 0\n",
      "2019-12-17 05:54:46 - Sentences 1 longer than max_seqence_length: 0\n",
      "2019-12-17 05:54:46 - Evaluation the model on  dataset:\n"
     ]
    },
    {
     "name": "stderr",
     "output_type": "stream",
     "text": [
      "Convert Evaluating: 100%|██████████| 188/188 [00:04<00:00, 39.23it/s]"
     ]
    },
    {
     "name": "stdout",
     "output_type": "stream",
     "text": [
      "2019-12-17 05:54:51 - Cosine-Similarity :\tPearson: 0.8757\tSpearman: 0.8785\n",
      "2019-12-17 05:54:51 - Manhattan-Distance:\tPearson: 0.8581\tSpearman: 0.8636\n",
      "2019-12-17 05:54:51 - Euclidean-Distance:\tPearson: 0.8592\tSpearman: 0.8645\n",
      "2019-12-17 05:54:51 - Dot-Product-Similarity:\tPearson: 0.8140\tSpearman: 0.8265\n"
     ]
    },
    {
     "name": "stderr",
     "output_type": "stream",
     "text": [
      "\n"
     ]
    },
    {
     "data": {
      "text/plain": [
       "0.8785484621675564"
      ]
     },
     "execution_count": 8,
     "metadata": {},
     "output_type": "execute_result"
    }
   ],
   "source": [
    "model = SentenceTransformer(model_save_path)\n",
    "test_data = SentencesDataset(examples=sts_reader.get_examples(\"sts-dev.csv\"), model=model)\n",
    "test_dataloader = DataLoader(test_data, shuffle=False, batch_size=train_batch_size)\n",
    "evaluator = EmbeddingSimilarityEvaluator(test_dataloader)\n",
    "model.evaluate(evaluator)"
   ]
  },
  {
   "cell_type": "code",
   "execution_count": 9,
   "metadata": {},
   "outputs": [],
   "source": [
    "from sentence_transformers import SentenceTransformer\n",
    "import scipy.spatial"
   ]
  },
  {
   "cell_type": "code",
   "execution_count": 10,
   "metadata": {},
   "outputs": [],
   "source": [
    "import requests\n",
    "import pandas as pd\n",
    "from sklearn.preprocessing import MinMaxScaler\n",
    "from numpy import dot\n",
    "from numpy.linalg import norm\n",
    "from scipy.stats import pearsonr"
   ]
  },
  {
   "cell_type": "code",
   "execution_count": 11,
   "metadata": {},
   "outputs": [
    {
     "name": "stdout",
     "output_type": "stream",
     "text": [
      "1500\n"
     ]
    }
   ],
   "source": [
    "data3 = open('/home/vv/git/Stsbenchmark/stsbenchmark/sts-dev.csv')\n",
    "d3 = data3.readlines()\n",
    "data = d3\n",
    "print(len(data))"
   ]
  },
  {
   "cell_type": "code",
   "execution_count": 12,
   "metadata": {},
   "outputs": [],
   "source": [
    "df = []\n",
    "for i in range(len(data)):\n",
    "    df.append(data[i].split('\\t'))\n",
    "score = []\n",
    "sentence1 = []\n",
    "sentence2 = []\n",
    "for j in range(len(df)):\n",
    "    score.append(df[j][4])\n",
    "    sentence1.append(df[j][5])\n",
    "    b = df[j][6]\n",
    "    sentence2.append(b.rstrip(\"\\n\"))"
   ]
  },
  {
   "cell_type": "code",
   "execution_count": 13,
   "metadata": {},
   "outputs": [],
   "source": [
    "dict = list(zip(sentence1, sentence2, score))\n",
    "df = pd.DataFrame(dict, columns = ['sentence1', 'sentence2', 'score'])"
   ]
  },
  {
   "cell_type": "code",
   "execution_count": 14,
   "metadata": {},
   "outputs": [
    {
     "data": {
      "text/html": [
       "<div>\n",
       "<style scoped>\n",
       "    .dataframe tbody tr th:only-of-type {\n",
       "        vertical-align: middle;\n",
       "    }\n",
       "\n",
       "    .dataframe tbody tr th {\n",
       "        vertical-align: top;\n",
       "    }\n",
       "\n",
       "    .dataframe thead th {\n",
       "        text-align: right;\n",
       "    }\n",
       "</style>\n",
       "<table border=\"1\" class=\"dataframe\">\n",
       "  <thead>\n",
       "    <tr style=\"text-align: right;\">\n",
       "      <th></th>\n",
       "      <th>sentence1</th>\n",
       "      <th>sentence2</th>\n",
       "      <th>score</th>\n",
       "    </tr>\n",
       "  </thead>\n",
       "  <tbody>\n",
       "    <tr>\n",
       "      <th>0</th>\n",
       "      <td>A man with a hard hat is dancing.</td>\n",
       "      <td>A man wearing a hard hat is dancing.</td>\n",
       "      <td>5.000</td>\n",
       "    </tr>\n",
       "    <tr>\n",
       "      <th>1</th>\n",
       "      <td>A young child is riding a horse.</td>\n",
       "      <td>A child is riding a horse.</td>\n",
       "      <td>4.750</td>\n",
       "    </tr>\n",
       "    <tr>\n",
       "      <th>2</th>\n",
       "      <td>A man is feeding a mouse to a snake.</td>\n",
       "      <td>The man is feeding a mouse to the snake.</td>\n",
       "      <td>5.000</td>\n",
       "    </tr>\n",
       "    <tr>\n",
       "      <th>3</th>\n",
       "      <td>A woman is playing the guitar.</td>\n",
       "      <td>A man is playing guitar.</td>\n",
       "      <td>2.400</td>\n",
       "    </tr>\n",
       "    <tr>\n",
       "      <th>4</th>\n",
       "      <td>A woman is playing the flute.</td>\n",
       "      <td>A man is playing a flute.</td>\n",
       "      <td>2.750</td>\n",
       "    </tr>\n",
       "  </tbody>\n",
       "</table>\n",
       "</div>"
      ],
      "text/plain": [
       "                              sentence1  \\\n",
       "0     A man with a hard hat is dancing.   \n",
       "1      A young child is riding a horse.   \n",
       "2  A man is feeding a mouse to a snake.   \n",
       "3        A woman is playing the guitar.   \n",
       "4         A woman is playing the flute.   \n",
       "\n",
       "                                  sentence2  score  \n",
       "0      A man wearing a hard hat is dancing.  5.000  \n",
       "1                A child is riding a horse.  4.750  \n",
       "2  The man is feeding a mouse to the snake.  5.000  \n",
       "3                  A man is playing guitar.  2.400  \n",
       "4                 A man is playing a flute.  2.750  "
      ]
     },
     "execution_count": 14,
     "metadata": {},
     "output_type": "execute_result"
    }
   ],
   "source": [
    "df.head()"
   ]
  },
  {
   "cell_type": "code",
   "execution_count": 15,
   "metadata": {},
   "outputs": [],
   "source": [
    "# scaler = MinMaxScaler()\n",
    "# df['score'] = scaler.fit_transform(df['score'].values.reshape(-1,1))"
   ]
  },
  {
   "cell_type": "code",
   "execution_count": 16,
   "metadata": {},
   "outputs": [
    {
     "data": {
      "text/html": [
       "<div>\n",
       "<style scoped>\n",
       "    .dataframe tbody tr th:only-of-type {\n",
       "        vertical-align: middle;\n",
       "    }\n",
       "\n",
       "    .dataframe tbody tr th {\n",
       "        vertical-align: top;\n",
       "    }\n",
       "\n",
       "    .dataframe thead th {\n",
       "        text-align: right;\n",
       "    }\n",
       "</style>\n",
       "<table border=\"1\" class=\"dataframe\">\n",
       "  <thead>\n",
       "    <tr style=\"text-align: right;\">\n",
       "      <th></th>\n",
       "      <th>sentence1</th>\n",
       "      <th>sentence2</th>\n",
       "      <th>score</th>\n",
       "    </tr>\n",
       "  </thead>\n",
       "  <tbody>\n",
       "    <tr>\n",
       "      <th>0</th>\n",
       "      <td>A man with a hard hat is dancing.</td>\n",
       "      <td>A man wearing a hard hat is dancing.</td>\n",
       "      <td>5.000</td>\n",
       "    </tr>\n",
       "    <tr>\n",
       "      <th>1</th>\n",
       "      <td>A young child is riding a horse.</td>\n",
       "      <td>A child is riding a horse.</td>\n",
       "      <td>4.750</td>\n",
       "    </tr>\n",
       "    <tr>\n",
       "      <th>2</th>\n",
       "      <td>A man is feeding a mouse to a snake.</td>\n",
       "      <td>The man is feeding a mouse to the snake.</td>\n",
       "      <td>5.000</td>\n",
       "    </tr>\n",
       "    <tr>\n",
       "      <th>3</th>\n",
       "      <td>A woman is playing the guitar.</td>\n",
       "      <td>A man is playing guitar.</td>\n",
       "      <td>2.400</td>\n",
       "    </tr>\n",
       "    <tr>\n",
       "      <th>4</th>\n",
       "      <td>A woman is playing the flute.</td>\n",
       "      <td>A man is playing a flute.</td>\n",
       "      <td>2.750</td>\n",
       "    </tr>\n",
       "  </tbody>\n",
       "</table>\n",
       "</div>"
      ],
      "text/plain": [
       "                              sentence1  \\\n",
       "0     A man with a hard hat is dancing.   \n",
       "1      A young child is riding a horse.   \n",
       "2  A man is feeding a mouse to a snake.   \n",
       "3        A woman is playing the guitar.   \n",
       "4         A woman is playing the flute.   \n",
       "\n",
       "                                  sentence2  score  \n",
       "0      A man wearing a hard hat is dancing.  5.000  \n",
       "1                A child is riding a horse.  4.750  \n",
       "2  The man is feeding a mouse to the snake.  5.000  \n",
       "3                  A man is playing guitar.  2.400  \n",
       "4                 A man is playing a flute.  2.750  "
      ]
     },
     "execution_count": 16,
     "metadata": {},
     "output_type": "execute_result"
    }
   ],
   "source": [
    "df.head()"
   ]
  },
  {
   "cell_type": "code",
   "execution_count": 17,
   "metadata": {
    "scrolled": true
   },
   "outputs": [
    {
     "name": "stderr",
     "output_type": "stream",
     "text": [
      "Batches: 100%|██████████| 1/1 [00:00<00:00, 69.61it/s]\n",
      "Batches: 100%|██████████| 1/1 [00:00<00:00, 91.52it/s]\n",
      "Batches: 100%|██████████| 1/1 [00:00<00:00, 89.48it/s]\n",
      "Batches: 100%|██████████| 1/1 [00:00<00:00, 93.23it/s]\n",
      "Batches: 100%|██████████| 1/1 [00:00<00:00, 92.75it/s]\n",
      "Batches: 100%|██████████| 1/1 [00:00<00:00, 91.40it/s]\n",
      "Batches: 100%|██████████| 1/1 [00:00<00:00, 96.58it/s]\n",
      "Batches: 100%|██████████| 1/1 [00:00<00:00, 95.07it/s]"
     ]
    },
    {
     "name": "stdout",
     "output_type": "stream",
     "text": [
      "i :  0\n",
      "i :  1\n",
      "i :  2\n"
     ]
    },
    {
     "name": "stderr",
     "output_type": "stream",
     "text": [
      "\n",
      "Batches: 100%|██████████| 1/1 [00:00<00:00, 90.08it/s]\n",
      "Batches: 100%|██████████| 1/1 [00:00<00:00, 90.94it/s]\n",
      "Batches:   0%|          | 0/1 [00:00<?, ?it/s]"
     ]
    },
    {
     "name": "stdout",
     "output_type": "stream",
     "text": [
      "i :  3\n",
      "i :  4\n"
     ]
    },
    {
     "name": "stderr",
     "output_type": "stream",
     "text": [
      "Batches: 100%|██████████| 1/1 [00:00<00:00, 92.99it/s]\n",
      "Batches: 100%|██████████| 1/1 [00:00<00:00, 94.76it/s]\n",
      "Batches: 100%|██████████| 1/1 [00:00<00:00, 90.23it/s]\n",
      "Batches: 100%|██████████| 1/1 [00:00<00:00, 90.65it/s]\n",
      "Batches: 100%|██████████| 1/1 [00:00<00:00, 92.72it/s]\n",
      "Batches: 100%|██████████| 1/1 [00:00<00:00, 96.41it/s]\n",
      "Batches: 100%|██████████| 1/1 [00:00<00:00, 92.63it/s]\n",
      "Batches: 100%|██████████| 1/1 [00:00<00:00, 91.25it/s]\n",
      "Batches:   0%|          | 0/1 [00:00<?, ?it/s]"
     ]
    },
    {
     "name": "stdout",
     "output_type": "stream",
     "text": [
      "i :  5\n",
      "i :  6\n",
      "i :  7\n",
      "i :  8\n"
     ]
    },
    {
     "name": "stderr",
     "output_type": "stream",
     "text": [
      "Batches: 100%|██████████| 1/1 [00:00<00:00, 93.58it/s]\n",
      "Batches: 100%|██████████| 1/1 [00:00<00:00, 91.95it/s]\n",
      "Batches: 100%|██████████| 1/1 [00:00<00:00, 91.60it/s]\n",
      "Batches: 100%|██████████| 1/1 [00:00<00:00, 94.39it/s]\n",
      "Batches: 100%|██████████| 1/1 [00:00<00:00, 95.28it/s]\n",
      "Batches: 100%|██████████| 1/1 [00:00<00:00, 90.86it/s]\n",
      "Batches:   0%|          | 0/1 [00:00<?, ?it/s]"
     ]
    },
    {
     "name": "stdout",
     "output_type": "stream",
     "text": [
      "i :  9\n",
      "i :  10\n",
      "i :  11\n"
     ]
    },
    {
     "name": "stderr",
     "output_type": "stream",
     "text": [
      "Batches: 100%|██████████| 1/1 [00:00<00:00, 86.15it/s]\n",
      "Batches: 100%|██████████| 1/1 [00:00<00:00, 92.15it/s]\n",
      "Batches: 100%|██████████| 1/1 [00:00<00:00, 91.85it/s]\n",
      "Batches: 100%|██████████| 1/1 [00:00<00:00, 71.16it/s]\n",
      "Batches:   0%|          | 0/1 [00:00<?, ?it/s]"
     ]
    },
    {
     "name": "stdout",
     "output_type": "stream",
     "text": [
      "i :  12\n",
      "i :  13\n"
     ]
    },
    {
     "name": "stderr",
     "output_type": "stream",
     "text": [
      "Batches: 100%|██████████| 1/1 [00:00<00:00, 67.24it/s]\n",
      "Batches: 100%|██████████| 1/1 [00:00<00:00, 93.43it/s]\n",
      "Batches: 100%|██████████| 1/1 [00:00<00:00, 90.46it/s]\n",
      "Batches: 100%|██████████| 1/1 [00:00<00:00, 83.37it/s]\n",
      "Batches: 100%|██████████| 1/1 [00:00<00:00, 92.26it/s]\n",
      "Batches: 100%|██████████| 1/1 [00:00<00:00, 93.67it/s]\n",
      "Batches: 100%|██████████| 1/1 [00:00<00:00, 95.17it/s]\n",
      "Batches:   0%|          | 0/1 [00:00<?, ?it/s]"
     ]
    },
    {
     "name": "stdout",
     "output_type": "stream",
     "text": [
      "i :  14\n",
      "i :  15\n",
      "i :  16\n"
     ]
    },
    {
     "name": "stderr",
     "output_type": "stream",
     "text": [
      "Batches: 100%|██████████| 1/1 [00:00<00:00, 92.34it/s]\n",
      "Batches: 100%|██████████| 1/1 [00:00<00:00, 94.95it/s]\n",
      "Batches: 100%|██████████| 1/1 [00:00<00:00, 93.82it/s]\n",
      "Batches: 100%|██████████| 1/1 [00:00<00:00, 95.45it/s]\n",
      "Batches: 100%|██████████| 1/1 [00:00<00:00, 93.56it/s]\n",
      "Batches: 100%|██████████| 1/1 [00:00<00:00, 95.04it/s]\n",
      "Batches: 100%|██████████| 1/1 [00:00<00:00, 95.31it/s]\n",
      "Batches:   0%|          | 0/1 [00:00<?, ?it/s]"
     ]
    },
    {
     "name": "stdout",
     "output_type": "stream",
     "text": [
      "i :  17\n",
      "i :  18\n",
      "i :  19\n",
      "i :  20\n"
     ]
    },
    {
     "name": "stderr",
     "output_type": "stream",
     "text": [
      "Batches: 100%|██████████| 1/1 [00:00<00:00, 73.95it/s]\n",
      "Batches: 100%|██████████| 1/1 [00:00<00:00, 93.72it/s]\n",
      "Batches: 100%|██████████| 1/1 [00:00<00:00, 93.26it/s]\n",
      "Batches: 100%|██████████| 1/1 [00:00<00:00, 90.29it/s]\n",
      "Batches:   0%|          | 0/1 [00:00<?, ?it/s]"
     ]
    },
    {
     "name": "stdout",
     "output_type": "stream",
     "text": [
      "i :  21\n",
      "i :  22\n"
     ]
    },
    {
     "name": "stderr",
     "output_type": "stream",
     "text": [
      "Batches: 100%|██████████| 1/1 [00:00<00:00, 89.61it/s]\n",
      "Batches: 100%|██████████| 1/1 [00:00<00:00, 61.51it/s]\n",
      "Batches: 100%|██████████| 1/1 [00:00<00:00, 93.47it/s]\n",
      "Batches: 100%|██████████| 1/1 [00:00<00:00, 92.28it/s]\n",
      "Batches: 100%|██████████| 1/1 [00:00<00:00, 74.22it/s]\n",
      "Batches:   0%|          | 0/1 [00:00<?, ?it/s]"
     ]
    },
    {
     "name": "stdout",
     "output_type": "stream",
     "text": [
      "i :  23\n",
      "i :  24\n"
     ]
    },
    {
     "name": "stderr",
     "output_type": "stream",
     "text": [
      "Batches: 100%|██████████| 1/1 [00:00<00:00, 90.96it/s]\n",
      "Batches: 100%|██████████| 1/1 [00:00<00:00, 74.86it/s]\n",
      "Batches: 100%|██████████| 1/1 [00:00<00:00, 93.29it/s]\n",
      "Batches: 100%|██████████| 1/1 [00:00<00:00, 91.29it/s]\n",
      "Batches: 100%|██████████| 1/1 [00:00<00:00, 90.12it/s]\n",
      "Batches: 100%|██████████| 1/1 [00:00<00:00, 95.07it/s]\n",
      "Batches: 100%|██████████| 1/1 [00:00<00:00, 89.72it/s]\n",
      "Batches: 100%|██████████| 1/1 [00:00<00:00, 91.38it/s]\n",
      "Batches:   0%|          | 0/1 [00:00<?, ?it/s]"
     ]
    },
    {
     "name": "stdout",
     "output_type": "stream",
     "text": [
      "i :  25\n",
      "i :  26\n",
      "i :  27\n",
      "i :  28\n"
     ]
    },
    {
     "name": "stderr",
     "output_type": "stream",
     "text": [
      "Batches: 100%|██████████| 1/1 [00:00<00:00, 90.71it/s]\n",
      "Batches: 100%|██████████| 1/1 [00:00<00:00, 90.69it/s]\n",
      "Batches: 100%|██████████| 1/1 [00:00<00:00, 89.61it/s]\n",
      "Batches: 100%|██████████| 1/1 [00:00<00:00, 88.80it/s]\n",
      "Batches: 100%|██████████| 1/1 [00:00<00:00, 93.16it/s]\n",
      "Batches:   0%|          | 0/1 [00:00<?, ?it/s]"
     ]
    },
    {
     "name": "stdout",
     "output_type": "stream",
     "text": [
      "i :  29\n",
      "i :  30\n",
      "i :  31\n"
     ]
    },
    {
     "name": "stderr",
     "output_type": "stream",
     "text": [
      "Batches: 100%|██████████| 1/1 [00:00<00:00, 72.43it/s]\n",
      "Batches: 100%|██████████| 1/1 [00:00<00:00, 91.14it/s]\n",
      "Batches: 100%|██████████| 1/1 [00:00<00:00, 94.24it/s]\n",
      "Batches: 100%|██████████| 1/1 [00:00<00:00, 91.33it/s]\n",
      "Batches:   0%|          | 0/1 [00:00<?, ?it/s]"
     ]
    },
    {
     "name": "stdout",
     "output_type": "stream",
     "text": [
      "i :  32\n",
      "i :  33\n"
     ]
    },
    {
     "name": "stderr",
     "output_type": "stream",
     "text": [
      "Batches: 100%|██████████| 1/1 [00:00<00:00, 86.88it/s]\n",
      "Batches: 100%|██████████| 1/1 [00:00<00:00, 89.33it/s]\n",
      "Batches: 100%|██████████| 1/1 [00:00<00:00, 90.11it/s]\n",
      "Batches: 100%|██████████| 1/1 [00:00<00:00, 88.71it/s]\n",
      "Batches: 100%|██████████| 1/1 [00:00<00:00, 93.77it/s]\n",
      "Batches: 100%|██████████| 1/1 [00:00<00:00, 92.31it/s]\n",
      "Batches: 100%|██████████| 1/1 [00:00<00:00, 94.55it/s]\n",
      "Batches: 100%|██████████| 1/1 [00:00<00:00, 95.23it/s]\n",
      "Batches:   0%|          | 0/1 [00:00<?, ?it/s]"
     ]
    },
    {
     "name": "stdout",
     "output_type": "stream",
     "text": [
      "i :  34\n",
      "i :  35\n",
      "i :  36\n",
      "i :  37\n"
     ]
    },
    {
     "name": "stderr",
     "output_type": "stream",
     "text": [
      "Batches: 100%|██████████| 1/1 [00:00<00:00, 89.51it/s]\n",
      "Batches: 100%|██████████| 1/1 [00:00<00:00, 92.53it/s]\n",
      "Batches: 100%|██████████| 1/1 [00:00<00:00, 94.87it/s]\n",
      "Batches: 100%|██████████| 1/1 [00:00<00:00, 93.00it/s]\n",
      "Batches: 100%|██████████| 1/1 [00:00<00:00, 94.72it/s]\n",
      "Batches: 100%|██████████| 1/1 [00:00<00:00, 89.31it/s]\n",
      "Batches:   0%|          | 0/1 [00:00<?, ?it/s]"
     ]
    },
    {
     "name": "stdout",
     "output_type": "stream",
     "text": [
      "i :  38\n",
      "i :  39\n",
      "i :  40\n"
     ]
    },
    {
     "name": "stderr",
     "output_type": "stream",
     "text": [
      "Batches: 100%|██████████| 1/1 [00:00<00:00, 90.06it/s]\n",
      "Batches: 100%|██████████| 1/1 [00:00<00:00, 92.88it/s]\n",
      "Batches: 100%|██████████| 1/1 [00:00<00:00, 91.75it/s]\n",
      "Batches: 100%|██████████| 1/1 [00:00<00:00, 92.44it/s]\n",
      "Batches:   0%|          | 0/1 [00:00<?, ?it/s]"
     ]
    },
    {
     "name": "stdout",
     "output_type": "stream",
     "text": [
      "i :  41\n",
      "i :  42\n"
     ]
    },
    {
     "name": "stderr",
     "output_type": "stream",
     "text": [
      "Batches: 100%|██████████| 1/1 [00:00<00:00, 92.90it/s]\n",
      "Batches: 100%|██████████| 1/1 [00:00<00:00, 92.54it/s]\n",
      "Batches: 100%|██████████| 1/1 [00:00<00:00, 94.14it/s]\n",
      "Batches: 100%|██████████| 1/1 [00:00<00:00, 92.95it/s]\n",
      "Batches: 100%|██████████| 1/1 [00:00<00:00, 94.23it/s]\n",
      "Batches: 100%|██████████| 1/1 [00:00<00:00, 94.30it/s]\n",
      "Batches: 100%|██████████| 1/1 [00:00<00:00, 93.28it/s]\n",
      "Batches: 100%|██████████| 1/1 [00:00<00:00, 92.73it/s]\n",
      "Batches:   0%|          | 0/1 [00:00<?, ?it/s]"
     ]
    },
    {
     "name": "stdout",
     "output_type": "stream",
     "text": [
      "i :  43\n",
      "i :  44\n",
      "i :  45\n",
      "i :  46\n"
     ]
    },
    {
     "name": "stderr",
     "output_type": "stream",
     "text": [
      "Batches: 100%|██████████| 1/1 [00:00<00:00, 92.01it/s]\n",
      "Batches: 100%|██████████| 1/1 [00:00<00:00, 88.15it/s]\n",
      "Batches: 100%|██████████| 1/1 [00:00<00:00, 90.81it/s]\n",
      "Batches: 100%|██████████| 1/1 [00:00<00:00, 89.09it/s]\n",
      "Batches: 100%|██████████| 1/1 [00:00<00:00, 91.05it/s]\n",
      "Batches: 100%|██████████| 1/1 [00:00<00:00, 88.75it/s]\n",
      "Batches:   0%|          | 0/1 [00:00<?, ?it/s]"
     ]
    },
    {
     "name": "stdout",
     "output_type": "stream",
     "text": [
      "i :  47\n",
      "i :  48\n",
      "i :  49\n"
     ]
    },
    {
     "name": "stderr",
     "output_type": "stream",
     "text": [
      "Batches: 100%|██████████| 1/1 [00:00<00:00, 88.53it/s]\n",
      "Batches: 100%|██████████| 1/1 [00:00<00:00, 90.50it/s]\n",
      "Batches: 100%|██████████| 1/1 [00:00<00:00, 88.39it/s]\n",
      "Batches: 100%|██████████| 1/1 [00:00<00:00, 88.90it/s]\n",
      "Batches:   0%|          | 0/1 [00:00<?, ?it/s]"
     ]
    },
    {
     "name": "stdout",
     "output_type": "stream",
     "text": [
      "i :  50\n",
      "i :  51\n"
     ]
    },
    {
     "name": "stderr",
     "output_type": "stream",
     "text": [
      "Batches: 100%|██████████| 1/1 [00:00<00:00, 86.32it/s]\n",
      "Batches: 100%|██████████| 1/1 [00:00<00:00, 89.67it/s]\n",
      "Batches: 100%|██████████| 1/1 [00:00<00:00, 87.76it/s]\n",
      "Batches: 100%|██████████| 1/1 [00:00<00:00, 88.78it/s]\n",
      "Batches: 100%|██████████| 1/1 [00:00<00:00, 90.83it/s]\n",
      "Batches: 100%|██████████| 1/1 [00:00<00:00, 91.27it/s]\n",
      "Batches: 100%|██████████| 1/1 [00:00<00:00, 90.93it/s]\n",
      "Batches: 100%|██████████| 1/1 [00:00<00:00, 89.17it/s]\n",
      "Batches:   0%|          | 0/1 [00:00<?, ?it/s]"
     ]
    },
    {
     "name": "stdout",
     "output_type": "stream",
     "text": [
      "i :  52\n",
      "i :  53\n",
      "i :  54\n",
      "i :  55\n"
     ]
    },
    {
     "name": "stderr",
     "output_type": "stream",
     "text": [
      "Batches: 100%|██████████| 1/1 [00:00<00:00, 91.66it/s]\n",
      "Batches: 100%|██████████| 1/1 [00:00<00:00, 92.50it/s]\n",
      "Batches: 100%|██████████| 1/1 [00:00<00:00, 93.61it/s]\n",
      "Batches: 100%|██████████| 1/1 [00:00<00:00, 92.69it/s]\n",
      "Batches: 100%|██████████| 1/1 [00:00<00:00, 94.60it/s]\n",
      "Batches: 100%|██████████| 1/1 [00:00<00:00, 92.99it/s]\n",
      "Batches:   0%|          | 0/1 [00:00<?, ?it/s]"
     ]
    },
    {
     "name": "stdout",
     "output_type": "stream",
     "text": [
      "i :  56\n",
      "i :  57\n",
      "i :  58\n"
     ]
    },
    {
     "name": "stderr",
     "output_type": "stream",
     "text": [
      "Batches: 100%|██████████| 1/1 [00:00<00:00, 79.83it/s]\n",
      "Batches: 100%|██████████| 1/1 [00:00<00:00, 86.24it/s]\n",
      "Batches: 100%|██████████| 1/1 [00:00<00:00, 93.74it/s]\n",
      "Batches: 100%|██████████| 1/1 [00:00<00:00, 90.14it/s]\n",
      "Batches:   0%|          | 0/1 [00:00<?, ?it/s]"
     ]
    },
    {
     "name": "stdout",
     "output_type": "stream",
     "text": [
      "i :  59\n",
      "i :  60\n"
     ]
    },
    {
     "name": "stderr",
     "output_type": "stream",
     "text": [
      "Batches: 100%|██████████| 1/1 [00:00<00:00, 86.17it/s]\n",
      "Batches: 100%|██████████| 1/1 [00:00<00:00, 92.90it/s]\n",
      "Batches: 100%|██████████| 1/1 [00:00<00:00, 90.73it/s]\n",
      "Batches: 100%|██████████| 1/1 [00:00<00:00, 92.46it/s]\n",
      "Batches: 100%|██████████| 1/1 [00:00<00:00, 89.93it/s]\n",
      "Batches: 100%|██████████| 1/1 [00:00<00:00, 91.96it/s]\n",
      "Batches: 100%|██████████| 1/1 [00:00<00:00, 56.79it/s]\n",
      "Batches:   0%|          | 0/1 [00:00<?, ?it/s]"
     ]
    },
    {
     "name": "stdout",
     "output_type": "stream",
     "text": [
      "i :  61\n",
      "i :  62\n",
      "i :  63\n"
     ]
    },
    {
     "name": "stderr",
     "output_type": "stream",
     "text": [
      "Batches: 100%|██████████| 1/1 [00:00<00:00, 88.35it/s]\n",
      "Batches: 100%|██████████| 1/1 [00:00<00:00, 80.85it/s]\n",
      "Batches: 100%|██████████| 1/1 [00:00<00:00, 92.00it/s]\n",
      "Batches: 100%|██████████| 1/1 [00:00<00:00, 93.57it/s]\n",
      "Batches: 100%|██████████| 1/1 [00:00<00:00, 93.07it/s]\n",
      "Batches: 100%|██████████| 1/1 [00:00<00:00, 86.61it/s]\n",
      "Batches:   0%|          | 0/1 [00:00<?, ?it/s]"
     ]
    },
    {
     "name": "stdout",
     "output_type": "stream",
     "text": [
      "i :  64\n",
      "i :  65\n",
      "i :  66\n"
     ]
    },
    {
     "name": "stderr",
     "output_type": "stream",
     "text": [
      "Batches: 100%|██████████| 1/1 [00:00<00:00, 87.42it/s]\n",
      "Batches: 100%|██████████| 1/1 [00:00<00:00, 93.19it/s]\n",
      "Batches: 100%|██████████| 1/1 [00:00<00:00, 93.69it/s]\n",
      "Batches: 100%|██████████| 1/1 [00:00<00:00, 94.30it/s]\n",
      "Batches:   0%|          | 0/1 [00:00<?, ?it/s]"
     ]
    },
    {
     "name": "stdout",
     "output_type": "stream",
     "text": [
      "i :  67\n",
      "i :  68\n"
     ]
    },
    {
     "name": "stderr",
     "output_type": "stream",
     "text": [
      "Batches: 100%|██████████| 1/1 [00:00<00:00, 87.46it/s]\n",
      "Batches: 100%|██████████| 1/1 [00:00<00:00, 90.47it/s]\n",
      "Batches: 100%|██████████| 1/1 [00:00<00:00, 91.30it/s]\n",
      "Batches: 100%|██████████| 1/1 [00:00<00:00, 94.26it/s]\n",
      "Batches: 100%|██████████| 1/1 [00:00<00:00, 88.69it/s]\n",
      "Batches: 100%|██████████| 1/1 [00:00<00:00, 91.50it/s]\n",
      "Batches: 100%|██████████| 1/1 [00:00<00:00, 89.99it/s]\n",
      "Batches:   0%|          | 0/1 [00:00<?, ?it/s]"
     ]
    },
    {
     "name": "stdout",
     "output_type": "stream",
     "text": [
      "i :  69\n",
      "i :  70\n",
      "i :  71\n",
      "i :  72\n"
     ]
    },
    {
     "name": "stderr",
     "output_type": "stream",
     "text": [
      "Batches: 100%|██████████| 1/1 [00:00<00:00, 81.25it/s]\n",
      "Batches: 100%|██████████| 1/1 [00:00<00:00, 80.77it/s]\n",
      "Batches: 100%|██████████| 1/1 [00:00<00:00, 94.55it/s]\n",
      "Batches: 100%|██████████| 1/1 [00:00<00:00, 90.10it/s]\n",
      "Batches: 100%|██████████| 1/1 [00:00<00:00, 95.26it/s]\n",
      "Batches: 100%|██████████| 1/1 [00:00<00:00, 93.62it/s]\n",
      "Batches:   0%|          | 0/1 [00:00<?, ?it/s]"
     ]
    },
    {
     "name": "stdout",
     "output_type": "stream",
     "text": [
      "i :  73\n",
      "i :  74\n",
      "i :  75\n"
     ]
    },
    {
     "name": "stderr",
     "output_type": "stream",
     "text": [
      "Batches: 100%|██████████| 1/1 [00:00<00:00, 86.02it/s]\n",
      "Batches: 100%|██████████| 1/1 [00:00<00:00, 90.82it/s]\n",
      "Batches: 100%|██████████| 1/1 [00:00<00:00, 94.38it/s]\n",
      "Batches: 100%|██████████| 1/1 [00:00<00:00, 91.41it/s]\n",
      "Batches:   0%|          | 0/1 [00:00<?, ?it/s]"
     ]
    },
    {
     "name": "stdout",
     "output_type": "stream",
     "text": [
      "i :  76\n",
      "i :  77\n"
     ]
    },
    {
     "name": "stderr",
     "output_type": "stream",
     "text": [
      "Batches: 100%|██████████| 1/1 [00:00<00:00, 89.37it/s]\n",
      "Batches: 100%|██████████| 1/1 [00:00<00:00, 92.64it/s]\n",
      "Batches: 100%|██████████| 1/1 [00:00<00:00, 91.25it/s]\n",
      "Batches: 100%|██████████| 1/1 [00:00<00:00, 90.09it/s]\n",
      "Batches: 100%|██████████| 1/1 [00:00<00:00, 91.53it/s]\n",
      "Batches: 100%|██████████| 1/1 [00:00<00:00, 93.65it/s]\n",
      "Batches: 100%|██████████| 1/1 [00:00<00:00, 94.49it/s]\n",
      "Batches: 100%|██████████| 1/1 [00:00<00:00, 58.33it/s]\n"
     ]
    },
    {
     "name": "stdout",
     "output_type": "stream",
     "text": [
      "i :  78\n",
      "i :  79\n",
      "i :  80\n",
      "i :  81\n"
     ]
    },
    {
     "name": "stderr",
     "output_type": "stream",
     "text": [
      "Batches: 100%|██████████| 1/1 [00:00<00:00, 76.39it/s]\n",
      "Batches: 100%|██████████| 1/1 [00:00<00:00, 80.01it/s]\n",
      "Batches: 100%|██████████| 1/1 [00:00<00:00, 86.92it/s]\n",
      "Batches: 100%|██████████| 1/1 [00:00<00:00, 61.03it/s]\n",
      "Batches:   0%|          | 0/1 [00:00<?, ?it/s]"
     ]
    },
    {
     "name": "stdout",
     "output_type": "stream",
     "text": [
      "i :  82\n",
      "i :  83\n"
     ]
    },
    {
     "name": "stderr",
     "output_type": "stream",
     "text": [
      "Batches: 100%|██████████| 1/1 [00:00<00:00, 65.34it/s]\n",
      "Batches: 100%|██████████| 1/1 [00:00<00:00, 89.47it/s]\n",
      "Batches: 100%|██████████| 1/1 [00:00<00:00, 90.19it/s]\n",
      "Batches: 100%|██████████| 1/1 [00:00<00:00, 88.74it/s]\n",
      "Batches:   0%|          | 0/1 [00:00<?, ?it/s]"
     ]
    },
    {
     "name": "stdout",
     "output_type": "stream",
     "text": [
      "i :  84\n",
      "i :  85\n"
     ]
    },
    {
     "name": "stderr",
     "output_type": "stream",
     "text": [
      "Batches: 100%|██████████| 1/1 [00:00<00:00, 87.05it/s]\n",
      "Batches: 100%|██████████| 1/1 [00:00<00:00, 87.98it/s]\n",
      "Batches: 100%|██████████| 1/1 [00:00<00:00, 92.13it/s]\n",
      "Batches: 100%|██████████| 1/1 [00:00<00:00, 89.80it/s]\n",
      "Batches: 100%|██████████| 1/1 [00:00<00:00, 91.40it/s]\n",
      "Batches: 100%|██████████| 1/1 [00:00<00:00, 92.67it/s]\n",
      "Batches: 100%|██████████| 1/1 [00:00<00:00, 88.48it/s]\n",
      "Batches: 100%|██████████| 1/1 [00:00<00:00, 92.73it/s]\n",
      "Batches: 100%|██████████| 1/1 [00:00<00:00, 85.74it/s]\n",
      "Batches:   0%|          | 0/1 [00:00<?, ?it/s]"
     ]
    },
    {
     "name": "stdout",
     "output_type": "stream",
     "text": [
      "i :  86\n",
      "i :  87\n",
      "i :  88\n",
      "i :  89\n"
     ]
    },
    {
     "name": "stderr",
     "output_type": "stream",
     "text": [
      "Batches: 100%|██████████| 1/1 [00:00<00:00, 85.94it/s]\n",
      "Batches: 100%|██████████| 1/1 [00:00<00:00, 89.07it/s]\n",
      "Batches: 100%|██████████| 1/1 [00:00<00:00, 90.59it/s]\n",
      "Batches: 100%|██████████| 1/1 [00:00<00:00, 89.72it/s]\n",
      "Batches: 100%|██████████| 1/1 [00:00<00:00, 89.43it/s]\n",
      "Batches:   0%|          | 0/1 [00:00<?, ?it/s]"
     ]
    },
    {
     "name": "stdout",
     "output_type": "stream",
     "text": [
      "i :  90\n",
      "i :  91\n",
      "i :  92\n"
     ]
    },
    {
     "name": "stderr",
     "output_type": "stream",
     "text": [
      "Batches: 100%|██████████| 1/1 [00:00<00:00, 74.17it/s]\n",
      "Batches: 100%|██████████| 1/1 [00:00<00:00, 92.01it/s]\n",
      "Batches: 100%|██████████| 1/1 [00:00<00:00, 92.98it/s]\n",
      "Batches: 100%|██████████| 1/1 [00:00<00:00, 91.88it/s]\n"
     ]
    },
    {
     "name": "stdout",
     "output_type": "stream",
     "text": [
      "i :  93\n",
      "i :  94\n"
     ]
    },
    {
     "name": "stderr",
     "output_type": "stream",
     "text": [
      "Batches: 100%|██████████| 1/1 [00:00<00:00, 86.07it/s]\n",
      "Batches: 100%|██████████| 1/1 [00:00<00:00, 89.89it/s]\n",
      "Batches: 100%|██████████| 1/1 [00:00<00:00, 89.02it/s]\n",
      "Batches: 100%|██████████| 1/1 [00:00<00:00, 89.94it/s]\n",
      "Batches: 100%|██████████| 1/1 [00:00<00:00, 88.11it/s]\n",
      "Batches: 100%|██████████| 1/1 [00:00<00:00, 87.93it/s]\n",
      "Batches: 100%|██████████| 1/1 [00:00<00:00, 87.26it/s]\n",
      "Batches:   0%|          | 0/1 [00:00<?, ?it/s]"
     ]
    },
    {
     "name": "stdout",
     "output_type": "stream",
     "text": [
      "i :  95\n",
      "i :  96\n",
      "i :  97\n"
     ]
    },
    {
     "name": "stderr",
     "output_type": "stream",
     "text": [
      "Batches: 100%|██████████| 1/1 [00:00<00:00, 88.84it/s]\n",
      "Batches: 100%|██████████| 1/1 [00:00<00:00, 89.37it/s]\n",
      "Batches: 100%|██████████| 1/1 [00:00<00:00, 88.94it/s]\n",
      "Batches: 100%|██████████| 1/1 [00:00<00:00, 88.82it/s]\n",
      "Batches: 100%|██████████| 1/1 [00:00<00:00, 88.32it/s]\n",
      "Batches: 100%|██████████| 1/1 [00:00<00:00, 89.65it/s]\n",
      "Batches: 100%|██████████| 1/1 [00:00<00:00, 88.45it/s]"
     ]
    },
    {
     "name": "stdout",
     "output_type": "stream",
     "text": [
      "i :  98\n",
      "i :  99\n",
      "i :  100\n"
     ]
    },
    {
     "name": "stderr",
     "output_type": "stream",
     "text": [
      "\n",
      "Batches: 100%|██████████| 1/1 [00:00<00:00, 85.22it/s]\n",
      "Batches: 100%|██████████| 1/1 [00:00<00:00, 91.70it/s]\n",
      "Batches: 100%|██████████| 1/1 [00:00<00:00, 89.79it/s]\n",
      "Batches: 100%|██████████| 1/1 [00:00<00:00, 88.57it/s]"
     ]
    },
    {
     "name": "stdout",
     "output_type": "stream",
     "text": [
      "i :  101\n",
      "i :  102\n"
     ]
    },
    {
     "name": "stderr",
     "output_type": "stream",
     "text": [
      "\n",
      "Batches: 100%|██████████| 1/1 [00:00<00:00, 88.35it/s]\n",
      "Batches: 100%|██████████| 1/1 [00:00<00:00, 88.40it/s]\n",
      "Batches: 100%|██████████| 1/1 [00:00<00:00, 89.32it/s]\n",
      "Batches: 100%|██████████| 1/1 [00:00<00:00, 90.61it/s]\n",
      "Batches: 100%|██████████| 1/1 [00:00<00:00, 86.95it/s]\n",
      "Batches: 100%|██████████| 1/1 [00:00<00:00, 88.03it/s]"
     ]
    },
    {
     "name": "stdout",
     "output_type": "stream",
     "text": [
      "i :  103\n",
      "i :  104\n",
      "i :  105\n"
     ]
    },
    {
     "name": "stderr",
     "output_type": "stream",
     "text": [
      "\n",
      "Batches: 100%|██████████| 1/1 [00:00<00:00, 74.30it/s]\n",
      "Batches: 100%|██████████| 1/1 [00:00<00:00, 91.38it/s]\n",
      "Batches: 100%|██████████| 1/1 [00:00<00:00, 87.44it/s]\n",
      "Batches: 100%|██████████| 1/1 [00:00<00:00, 90.00it/s]\n",
      "Batches: 100%|██████████| 1/1 [00:00<00:00, 91.62it/s]\n",
      "Batches:   0%|          | 0/1 [00:00<?, ?it/s]"
     ]
    },
    {
     "name": "stdout",
     "output_type": "stream",
     "text": [
      "i :  106\n",
      "i :  107\n",
      "i :  108\n"
     ]
    },
    {
     "name": "stderr",
     "output_type": "stream",
     "text": [
      "Batches: 100%|██████████| 1/1 [00:00<00:00, 88.58it/s]\n",
      "Batches: 100%|██████████| 1/1 [00:00<00:00, 81.77it/s]\n",
      "Batches: 100%|██████████| 1/1 [00:00<00:00, 79.27it/s]\n",
      "Batches: 100%|██████████| 1/1 [00:00<00:00, 92.65it/s]\n",
      "Batches:   0%|          | 0/1 [00:00<?, ?it/s]"
     ]
    },
    {
     "name": "stdout",
     "output_type": "stream",
     "text": [
      "i :  109\n",
      "i :  110\n"
     ]
    },
    {
     "name": "stderr",
     "output_type": "stream",
     "text": [
      "Batches: 100%|██████████| 1/1 [00:00<00:00, 89.98it/s]\n",
      "Batches: 100%|██████████| 1/1 [00:00<00:00, 73.27it/s]\n",
      "Batches: 100%|██████████| 1/1 [00:00<00:00, 89.13it/s]\n",
      "Batches: 100%|██████████| 1/1 [00:00<00:00, 89.02it/s]\n",
      "Batches: 100%|██████████| 1/1 [00:00<00:00, 90.40it/s]\n",
      "Batches: 100%|██████████| 1/1 [00:00<00:00, 92.07it/s]\n",
      "Batches:   0%|          | 0/1 [00:00<?, ?it/s]"
     ]
    },
    {
     "name": "stdout",
     "output_type": "stream",
     "text": [
      "i :  111\n",
      "i :  112\n",
      "i :  113\n"
     ]
    },
    {
     "name": "stderr",
     "output_type": "stream",
     "text": [
      "Batches: 100%|██████████| 1/1 [00:00<00:00, 90.57it/s]\n",
      "Batches: 100%|██████████| 1/1 [00:00<00:00, 88.55it/s]\n",
      "Batches: 100%|██████████| 1/1 [00:00<00:00, 92.00it/s]\n",
      "Batches: 100%|██████████| 1/1 [00:00<00:00, 89.45it/s]\n",
      "Batches: 100%|██████████| 1/1 [00:00<00:00, 87.72it/s]\n",
      "Batches: 100%|██████████| 1/1 [00:00<00:00, 90.39it/s]\n",
      "Batches:   0%|          | 0/1 [00:00<?, ?it/s]"
     ]
    },
    {
     "name": "stdout",
     "output_type": "stream",
     "text": [
      "i :  114\n",
      "i :  115\n",
      "i :  116\n"
     ]
    },
    {
     "name": "stderr",
     "output_type": "stream",
     "text": [
      "Batches: 100%|██████████| 1/1 [00:00<00:00, 85.64it/s]\n",
      "Batches: 100%|██████████| 1/1 [00:00<00:00, 72.74it/s]\n",
      "Batches: 100%|██████████| 1/1 [00:00<00:00, 93.25it/s]\n",
      "Batches: 100%|██████████| 1/1 [00:00<00:00, 90.26it/s]\n",
      "Batches:   0%|          | 0/1 [00:00<?, ?it/s]"
     ]
    },
    {
     "name": "stdout",
     "output_type": "stream",
     "text": [
      "i :  117\n",
      "i :  118\n"
     ]
    },
    {
     "name": "stderr",
     "output_type": "stream",
     "text": [
      "Batches: 100%|██████████| 1/1 [00:00<00:00, 89.20it/s]\n",
      "Batches: 100%|██████████| 1/1 [00:00<00:00, 88.44it/s]\n",
      "Batches: 100%|██████████| 1/1 [00:00<00:00, 90.04it/s]\n",
      "Batches: 100%|██████████| 1/1 [00:00<00:00, 92.51it/s]\n",
      "Batches: 100%|██████████| 1/1 [00:00<00:00, 89.25it/s]\n",
      "Batches: 100%|██████████| 1/1 [00:00<00:00, 89.08it/s]\n",
      "Batches:   0%|          | 0/1 [00:00<?, ?it/s]"
     ]
    },
    {
     "name": "stdout",
     "output_type": "stream",
     "text": [
      "i :  119\n",
      "i :  120\n",
      "i :  121\n"
     ]
    },
    {
     "name": "stderr",
     "output_type": "stream",
     "text": [
      "Batches: 100%|██████████| 1/1 [00:00<00:00, 89.10it/s]\n",
      "Batches: 100%|██████████| 1/1 [00:00<00:00, 84.10it/s]\n",
      "Batches: 100%|██████████| 1/1 [00:00<00:00, 88.19it/s]\n",
      "Batches: 100%|██████████| 1/1 [00:00<00:00, 86.35it/s]\n",
      "Batches: 100%|██████████| 1/1 [00:00<00:00, 88.95it/s]\n",
      "Batches: 100%|██████████| 1/1 [00:00<00:00, 93.52it/s]\n",
      "Batches:   0%|          | 0/1 [00:00<?, ?it/s]"
     ]
    },
    {
     "name": "stdout",
     "output_type": "stream",
     "text": [
      "i :  122\n",
      "i :  123\n",
      "i :  124\n"
     ]
    },
    {
     "name": "stderr",
     "output_type": "stream",
     "text": [
      "Batches: 100%|██████████| 1/1 [00:00<00:00, 86.31it/s]\n",
      "Batches: 100%|██████████| 1/1 [00:00<00:00, 89.10it/s]\n",
      "Batches: 100%|██████████| 1/1 [00:00<00:00, 89.65it/s]\n",
      "Batches: 100%|██████████| 1/1 [00:00<00:00, 86.19it/s]\n",
      "Batches: 100%|██████████| 1/1 [00:00<00:00, 87.78it/s]"
     ]
    },
    {
     "name": "stdout",
     "output_type": "stream",
     "text": [
      "i :  125\n",
      "i :  126\n"
     ]
    },
    {
     "name": "stderr",
     "output_type": "stream",
     "text": [
      "\n",
      "Batches: 100%|██████████| 1/1 [00:00<00:00, 89.19it/s]\n",
      "Batches: 100%|██████████| 1/1 [00:00<00:00, 88.01it/s]\n",
      "Batches: 100%|██████████| 1/1 [00:00<00:00, 87.06it/s]\n",
      "Batches: 100%|██████████| 1/1 [00:00<00:00, 90.78it/s]\n",
      "Batches: 100%|██████████| 1/1 [00:00<00:00, 91.52it/s]\n",
      "Batches: 100%|██████████| 1/1 [00:00<00:00, 88.85it/s]"
     ]
    },
    {
     "name": "stdout",
     "output_type": "stream",
     "text": [
      "i :  127\n",
      "i :  128\n",
      "i :  129\n"
     ]
    },
    {
     "name": "stderr",
     "output_type": "stream",
     "text": [
      "\n",
      "Batches: 100%|██████████| 1/1 [00:00<00:00, 88.90it/s]\n",
      "Batches: 100%|██████████| 1/1 [00:00<00:00, 84.21it/s]\n",
      "Batches: 100%|██████████| 1/1 [00:00<00:00, 85.26it/s]\n",
      "Batches: 100%|██████████| 1/1 [00:00<00:00, 85.93it/s]\n",
      "Batches: 100%|██████████| 1/1 [00:00<00:00, 83.13it/s]\n",
      "Batches:   0%|          | 0/1 [00:00<?, ?it/s]"
     ]
    },
    {
     "name": "stdout",
     "output_type": "stream",
     "text": [
      "i :  130\n",
      "i :  131\n",
      "i :  132\n"
     ]
    },
    {
     "name": "stderr",
     "output_type": "stream",
     "text": [
      "Batches: 100%|██████████| 1/1 [00:00<00:00, 79.93it/s]\n",
      "Batches: 100%|██████████| 1/1 [00:00<00:00, 86.08it/s]\n",
      "Batches: 100%|██████████| 1/1 [00:00<00:00, 67.35it/s]\n",
      "Batches:   0%|          | 0/1 [00:00<?, ?it/s]"
     ]
    },
    {
     "name": "stdout",
     "output_type": "stream",
     "text": [
      "i :  133\n",
      "i :  134\n"
     ]
    },
    {
     "name": "stderr",
     "output_type": "stream",
     "text": [
      "Batches: 100%|██████████| 1/1 [00:00<00:00, 49.52it/s]\n",
      "Batches: 100%|██████████| 1/1 [00:00<00:00, 61.82it/s]\n",
      "Batches: 100%|██████████| 1/1 [00:00<00:00, 92.65it/s]\n",
      "Batches: 100%|██████████| 1/1 [00:00<00:00, 92.88it/s]\n",
      "Batches: 100%|██████████| 1/1 [00:00<00:00, 89.43it/s]\n",
      "Batches: 100%|██████████| 1/1 [00:00<00:00, 92.09it/s]\n",
      "Batches:   0%|          | 0/1 [00:00<?, ?it/s]"
     ]
    },
    {
     "name": "stdout",
     "output_type": "stream",
     "text": [
      "i :  135\n",
      "i :  136\n",
      "i :  137\n"
     ]
    },
    {
     "name": "stderr",
     "output_type": "stream",
     "text": [
      "Batches: 100%|██████████| 1/1 [00:00<00:00, 77.11it/s]\n",
      "Batches: 100%|██████████| 1/1 [00:00<00:00, 87.34it/s]\n",
      "Batches: 100%|██████████| 1/1 [00:00<00:00, 88.71it/s]\n",
      "Batches: 100%|██████████| 1/1 [00:00<00:00, 89.32it/s]\n",
      "Batches: 100%|██████████| 1/1 [00:00<00:00, 88.00it/s]\n",
      "Batches: 100%|██████████| 1/1 [00:00<00:00, 90.08it/s]\n",
      "Batches:   0%|          | 0/1 [00:00<?, ?it/s]"
     ]
    },
    {
     "name": "stdout",
     "output_type": "stream",
     "text": [
      "i :  138\n",
      "i :  139\n",
      "i :  140\n"
     ]
    },
    {
     "name": "stderr",
     "output_type": "stream",
     "text": [
      "Batches: 100%|██████████| 1/1 [00:00<00:00, 86.05it/s]\n",
      "Batches: 100%|██████████| 1/1 [00:00<00:00, 86.43it/s]\n",
      "Batches: 100%|██████████| 1/1 [00:00<00:00, 92.50it/s]\n",
      "Batches: 100%|██████████| 1/1 [00:00<00:00, 91.09it/s]\n",
      "Batches: 100%|██████████| 1/1 [00:00<00:00, 85.56it/s]\n",
      "Batches: 100%|██████████| 1/1 [00:00<00:00, 90.92it/s]\n",
      "Batches:   0%|          | 0/1 [00:00<?, ?it/s]"
     ]
    },
    {
     "name": "stdout",
     "output_type": "stream",
     "text": [
      "i :  141\n",
      "i :  142\n",
      "i :  143\n"
     ]
    },
    {
     "name": "stderr",
     "output_type": "stream",
     "text": [
      "Batches: 100%|██████████| 1/1 [00:00<00:00, 54.75it/s]\n",
      "Batches: 100%|██████████| 1/1 [00:00<00:00, 89.25it/s]\n",
      "Batches: 100%|██████████| 1/1 [00:00<00:00, 91.40it/s]\n",
      "Batches: 100%|██████████| 1/1 [00:00<00:00, 62.16it/s]\n",
      "Batches: 100%|██████████| 1/1 [00:00<00:00, 91.37it/s]\n",
      "Batches:   0%|          | 0/1 [00:00<?, ?it/s]"
     ]
    },
    {
     "name": "stdout",
     "output_type": "stream",
     "text": [
      "i :  144\n",
      "i :  145\n"
     ]
    },
    {
     "name": "stderr",
     "output_type": "stream",
     "text": [
      "Batches: 100%|██████████| 1/1 [00:00<00:00, 89.06it/s]\n",
      "Batches: 100%|██████████| 1/1 [00:00<00:00, 86.28it/s]\n",
      "Batches: 100%|██████████| 1/1 [00:00<00:00, 79.53it/s]\n",
      "Batches: 100%|██████████| 1/1 [00:00<00:00, 88.35it/s]\n",
      "Batches: 100%|██████████| 1/1 [00:00<00:00, 91.67it/s]\n",
      "Batches: 100%|██████████| 1/1 [00:00<00:00, 90.88it/s]"
     ]
    },
    {
     "name": "stdout",
     "output_type": "stream",
     "text": [
      "i :  146\n",
      "i :  147\n",
      "i :  148\n"
     ]
    },
    {
     "name": "stderr",
     "output_type": "stream",
     "text": [
      "\n",
      "Batches: 100%|██████████| 1/1 [00:00<00:00, 83.90it/s]\n",
      "Batches: 100%|██████████| 1/1 [00:00<00:00, 85.95it/s]\n",
      "Batches: 100%|██████████| 1/1 [00:00<00:00, 87.00it/s]\n",
      "Batches: 100%|██████████| 1/1 [00:00<00:00, 86.28it/s]\n",
      "Batches: 100%|██████████| 1/1 [00:00<00:00, 87.11it/s]\n",
      "Batches: 100%|██████████| 1/1 [00:00<00:00, 86.33it/s]\n",
      "Batches:   0%|          | 0/1 [00:00<?, ?it/s]"
     ]
    },
    {
     "name": "stdout",
     "output_type": "stream",
     "text": [
      "i :  149\n",
      "i :  150\n",
      "i :  151\n"
     ]
    },
    {
     "name": "stderr",
     "output_type": "stream",
     "text": [
      "Batches: 100%|██████████| 1/1 [00:00<00:00, 84.01it/s]\n",
      "Batches: 100%|██████████| 1/1 [00:00<00:00, 83.35it/s]\n",
      "Batches: 100%|██████████| 1/1 [00:00<00:00, 84.84it/s]\n",
      "Batches: 100%|██████████| 1/1 [00:00<00:00, 85.86it/s]\n",
      "Batches:   0%|          | 0/1 [00:00<?, ?it/s]"
     ]
    },
    {
     "name": "stdout",
     "output_type": "stream",
     "text": [
      "i :  152\n",
      "i :  153\n"
     ]
    },
    {
     "name": "stderr",
     "output_type": "stream",
     "text": [
      "Batches: 100%|██████████| 1/1 [00:00<00:00, 81.92it/s]\n",
      "Batches: 100%|██████████| 1/1 [00:00<00:00, 85.63it/s]\n",
      "Batches: 100%|██████████| 1/1 [00:00<00:00, 86.73it/s]\n",
      "Batches: 100%|██████████| 1/1 [00:00<00:00, 86.08it/s]\n",
      "Batches: 100%|██████████| 1/1 [00:00<00:00, 86.09it/s]\n",
      "Batches: 100%|██████████| 1/1 [00:00<00:00, 83.87it/s]\n",
      "Batches:   0%|          | 0/1 [00:00<?, ?it/s]"
     ]
    },
    {
     "name": "stdout",
     "output_type": "stream",
     "text": [
      "i :  154\n",
      "i :  155\n",
      "i :  156\n"
     ]
    },
    {
     "name": "stderr",
     "output_type": "stream",
     "text": [
      "Batches: 100%|██████████| 1/1 [00:00<00:00, 83.02it/s]\n",
      "Batches: 100%|██████████| 1/1 [00:00<00:00, 83.05it/s]\n",
      "Batches: 100%|██████████| 1/1 [00:00<00:00, 86.30it/s]\n",
      "Batches: 100%|██████████| 1/1 [00:00<00:00, 85.95it/s]\n",
      "Batches: 100%|██████████| 1/1 [00:00<00:00, 83.40it/s]\n",
      "Batches: 100%|██████████| 1/1 [00:00<00:00, 83.57it/s]\n",
      "Batches:   0%|          | 0/1 [00:00<?, ?it/s]"
     ]
    },
    {
     "name": "stdout",
     "output_type": "stream",
     "text": [
      "i :  157\n",
      "i :  158\n",
      "i :  159\n"
     ]
    },
    {
     "name": "stderr",
     "output_type": "stream",
     "text": [
      "Batches: 100%|██████████| 1/1 [00:00<00:00, 81.69it/s]\n",
      "Batches: 100%|██████████| 1/1 [00:00<00:00, 85.91it/s]\n",
      "Batches: 100%|██████████| 1/1 [00:00<00:00, 86.54it/s]\n",
      "Batches: 100%|██████████| 1/1 [00:00<00:00, 82.60it/s]\n",
      "Batches:   0%|          | 0/1 [00:00<?, ?it/s]"
     ]
    },
    {
     "name": "stdout",
     "output_type": "stream",
     "text": [
      "i :  160\n",
      "i :  161\n"
     ]
    },
    {
     "name": "stderr",
     "output_type": "stream",
     "text": [
      "Batches: 100%|██████████| 1/1 [00:00<00:00, 81.37it/s]\n",
      "Batches: 100%|██████████| 1/1 [00:00<00:00, 82.05it/s]\n",
      "Batches: 100%|██████████| 1/1 [00:00<00:00, 84.69it/s]\n",
      "Batches: 100%|██████████| 1/1 [00:00<00:00, 80.89it/s]\n",
      "Batches: 100%|██████████| 1/1 [00:00<00:00, 83.24it/s]\n",
      "Batches: 100%|██████████| 1/1 [00:00<00:00, 86.77it/s]"
     ]
    },
    {
     "name": "stdout",
     "output_type": "stream",
     "text": [
      "i :  162\n",
      "i :  163\n",
      "i :  164\n"
     ]
    },
    {
     "name": "stderr",
     "output_type": "stream",
     "text": [
      "\n",
      "Batches: 100%|██████████| 1/1 [00:00<00:00, 84.90it/s]\n",
      "Batches: 100%|██████████| 1/1 [00:00<00:00, 69.75it/s]\n",
      "Batches: 100%|██████████| 1/1 [00:00<00:00, 83.98it/s]\n",
      "Batches: 100%|██████████| 1/1 [00:00<00:00, 82.62it/s]\n",
      "Batches: 100%|██████████| 1/1 [00:00<00:00, 83.42it/s]\n",
      "Batches:   0%|          | 0/1 [00:00<?, ?it/s]"
     ]
    },
    {
     "name": "stdout",
     "output_type": "stream",
     "text": [
      "i :  165\n",
      "i :  166\n",
      "i :  167\n"
     ]
    },
    {
     "name": "stderr",
     "output_type": "stream",
     "text": [
      "Batches: 100%|██████████| 1/1 [00:00<00:00, 82.89it/s]\n",
      "Batches: 100%|██████████| 1/1 [00:00<00:00, 85.18it/s]\n",
      "Batches: 100%|██████████| 1/1 [00:00<00:00, 83.45it/s]\n",
      "Batches: 100%|██████████| 1/1 [00:00<00:00, 82.54it/s]\n",
      "Batches:   0%|          | 0/1 [00:00<?, ?it/s]"
     ]
    },
    {
     "name": "stdout",
     "output_type": "stream",
     "text": [
      "i :  168\n",
      "i :  169\n"
     ]
    },
    {
     "name": "stderr",
     "output_type": "stream",
     "text": [
      "Batches: 100%|██████████| 1/1 [00:00<00:00, 83.24it/s]\n",
      "Batches: 100%|██████████| 1/1 [00:00<00:00, 82.45it/s]\n",
      "Batches: 100%|██████████| 1/1 [00:00<00:00, 82.01it/s]\n",
      "Batches: 100%|██████████| 1/1 [00:00<00:00, 82.94it/s]\n",
      "Batches: 100%|██████████| 1/1 [00:00<00:00, 83.30it/s]\n",
      "Batches: 100%|██████████| 1/1 [00:00<00:00, 83.34it/s]\n",
      "Batches:   0%|          | 0/1 [00:00<?, ?it/s]"
     ]
    },
    {
     "name": "stdout",
     "output_type": "stream",
     "text": [
      "i :  170\n",
      "i :  171\n",
      "i :  172\n"
     ]
    },
    {
     "name": "stderr",
     "output_type": "stream",
     "text": [
      "Batches: 100%|██████████| 1/1 [00:00<00:00, 84.04it/s]\n",
      "Batches: 100%|██████████| 1/1 [00:00<00:00, 85.26it/s]\n",
      "Batches: 100%|██████████| 1/1 [00:00<00:00, 83.60it/s]\n",
      "Batches: 100%|██████████| 1/1 [00:00<00:00, 82.66it/s]\n",
      "Batches: 100%|██████████| 1/1 [00:00<00:00, 83.67it/s]\n",
      "Batches: 100%|██████████| 1/1 [00:00<00:00, 83.68it/s]\n",
      "Batches: 100%|██████████| 1/1 [00:00<00:00, 83.10it/s]"
     ]
    },
    {
     "name": "stdout",
     "output_type": "stream",
     "text": [
      "i :  173\n",
      "i :  174\n",
      "i :  175\n"
     ]
    },
    {
     "name": "stderr",
     "output_type": "stream",
     "text": [
      "\n",
      "Batches: 100%|██████████| 1/1 [00:00<00:00, 84.87it/s]\n",
      "Batches: 100%|██████████| 1/1 [00:00<00:00, 82.35it/s]\n",
      "Batches: 100%|██████████| 1/1 [00:00<00:00, 82.00it/s]\n",
      "Batches:   0%|          | 0/1 [00:00<?, ?it/s]"
     ]
    },
    {
     "name": "stdout",
     "output_type": "stream",
     "text": [
      "i :  176\n",
      "i :  177\n"
     ]
    },
    {
     "name": "stderr",
     "output_type": "stream",
     "text": [
      "Batches: 100%|██████████| 1/1 [00:00<00:00, 81.79it/s]\n",
      "Batches: 100%|██████████| 1/1 [00:00<00:00, 83.88it/s]\n",
      "Batches: 100%|██████████| 1/1 [00:00<00:00, 86.44it/s]\n",
      "Batches: 100%|██████████| 1/1 [00:00<00:00, 86.54it/s]\n",
      "Batches: 100%|██████████| 1/1 [00:00<00:00, 70.14it/s]\n",
      "Batches: 100%|██████████| 1/1 [00:00<00:00, 85.29it/s]\n",
      "Batches:   0%|          | 0/1 [00:00<?, ?it/s]"
     ]
    },
    {
     "name": "stdout",
     "output_type": "stream",
     "text": [
      "i :  178\n",
      "i :  179\n",
      "i :  180\n"
     ]
    },
    {
     "name": "stderr",
     "output_type": "stream",
     "text": [
      "Batches: 100%|██████████| 1/1 [00:00<00:00, 80.56it/s]\n",
      "Batches: 100%|██████████| 1/1 [00:00<00:00, 85.62it/s]\n",
      "Batches: 100%|██████████| 1/1 [00:00<00:00, 83.45it/s]\n",
      "Batches: 100%|██████████| 1/1 [00:00<00:00, 85.90it/s]\n",
      "Batches: 100%|██████████| 1/1 [00:00<00:00, 83.90it/s]\n",
      "Batches: 100%|██████████| 1/1 [00:00<00:00, 85.83it/s]\n",
      "Batches:   0%|          | 0/1 [00:00<?, ?it/s]"
     ]
    },
    {
     "name": "stdout",
     "output_type": "stream",
     "text": [
      "i :  181\n",
      "i :  182\n",
      "i :  183\n"
     ]
    },
    {
     "name": "stderr",
     "output_type": "stream",
     "text": [
      "Batches: 100%|██████████| 1/1 [00:00<00:00, 81.30it/s]\n",
      "Batches: 100%|██████████| 1/1 [00:00<00:00, 86.76it/s]\n",
      "Batches: 100%|██████████| 1/1 [00:00<00:00, 82.52it/s]\n",
      "Batches: 100%|██████████| 1/1 [00:00<00:00, 83.10it/s]\n",
      "Batches:   0%|          | 0/1 [00:00<?, ?it/s]"
     ]
    },
    {
     "name": "stdout",
     "output_type": "stream",
     "text": [
      "i :  184\n",
      "i :  185\n"
     ]
    },
    {
     "name": "stderr",
     "output_type": "stream",
     "text": [
      "Batches: 100%|██████████| 1/1 [00:00<00:00, 84.80it/s]\n",
      "Batches: 100%|██████████| 1/1 [00:00<00:00, 85.53it/s]\n",
      "Batches: 100%|██████████| 1/1 [00:00<00:00, 85.02it/s]\n",
      "Batches: 100%|██████████| 1/1 [00:00<00:00, 83.10it/s]\n",
      "Batches: 100%|██████████| 1/1 [00:00<00:00, 82.42it/s]\n",
      "Batches: 100%|██████████| 1/1 [00:00<00:00, 83.97it/s]\n",
      "Batches: 100%|██████████| 1/1 [00:00<00:00, 84.05it/s]"
     ]
    },
    {
     "name": "stdout",
     "output_type": "stream",
     "text": [
      "i :  186\n",
      "i :  187\n",
      "i :  188\n"
     ]
    },
    {
     "name": "stderr",
     "output_type": "stream",
     "text": [
      "\n",
      "Batches: 100%|██████████| 1/1 [00:00<00:00, 86.75it/s]\n",
      "Batches: 100%|██████████| 1/1 [00:00<00:00, 73.27it/s]\n",
      "Batches: 100%|██████████| 1/1 [00:00<00:00, 79.11it/s]\n",
      "Batches: 100%|██████████| 1/1 [00:00<00:00, 86.75it/s]\n",
      "Batches: 100%|██████████| 1/1 [00:00<00:00, 81.94it/s]\n",
      "Batches:   0%|          | 0/1 [00:00<?, ?it/s]"
     ]
    },
    {
     "name": "stdout",
     "output_type": "stream",
     "text": [
      "i :  189\n",
      "i :  190\n",
      "i :  191\n"
     ]
    },
    {
     "name": "stderr",
     "output_type": "stream",
     "text": [
      "Batches: 100%|██████████| 1/1 [00:00<00:00, 83.31it/s]\n",
      "Batches: 100%|██████████| 1/1 [00:00<00:00, 83.71it/s]\n",
      "Batches: 100%|██████████| 1/1 [00:00<00:00, 82.80it/s]\n",
      "Batches: 100%|██████████| 1/1 [00:00<00:00, 84.24it/s]\n",
      "Batches:   0%|          | 0/1 [00:00<?, ?it/s]"
     ]
    },
    {
     "name": "stdout",
     "output_type": "stream",
     "text": [
      "i :  192\n",
      "i :  193\n"
     ]
    },
    {
     "name": "stderr",
     "output_type": "stream",
     "text": [
      "Batches: 100%|██████████| 1/1 [00:00<00:00, 80.61it/s]\n",
      "Batches: 100%|██████████| 1/1 [00:00<00:00, 84.76it/s]\n",
      "Batches: 100%|██████████| 1/1 [00:00<00:00, 83.42it/s]\n",
      "Batches: 100%|██████████| 1/1 [00:00<00:00, 83.89it/s]\n",
      "Batches: 100%|██████████| 1/1 [00:00<00:00, 86.07it/s]\n",
      "Batches: 100%|██████████| 1/1 [00:00<00:00, 86.37it/s]\n",
      "Batches:   0%|          | 0/1 [00:00<?, ?it/s]"
     ]
    },
    {
     "name": "stdout",
     "output_type": "stream",
     "text": [
      "i :  194\n",
      "i :  195\n",
      "i :  196\n"
     ]
    },
    {
     "name": "stderr",
     "output_type": "stream",
     "text": [
      "Batches: 100%|██████████| 1/1 [00:00<00:00, 80.30it/s]\n",
      "Batches: 100%|██████████| 1/1 [00:00<00:00, 83.87it/s]\n",
      "Batches: 100%|██████████| 1/1 [00:00<00:00, 83.89it/s]\n",
      "Batches: 100%|██████████| 1/1 [00:00<00:00, 83.48it/s]\n",
      "Batches: 100%|██████████| 1/1 [00:00<00:00, 86.00it/s]\n",
      "Batches: 100%|██████████| 1/1 [00:00<00:00, 83.98it/s]\n",
      "Batches: 100%|██████████| 1/1 [00:00<00:00, 85.60it/s]\n"
     ]
    },
    {
     "name": "stdout",
     "output_type": "stream",
     "text": [
      "i :  197\n",
      "i :  198\n",
      "i :  199\n"
     ]
    },
    {
     "name": "stderr",
     "output_type": "stream",
     "text": [
      "Batches: 100%|██████████| 1/1 [00:00<00:00, 81.15it/s]\n",
      "Batches: 100%|██████████| 1/1 [00:00<00:00, 86.16it/s]\n",
      "Batches: 100%|██████████| 1/1 [00:00<00:00, 82.56it/s]\n",
      "Batches:   0%|          | 0/1 [00:00<?, ?it/s]"
     ]
    },
    {
     "name": "stdout",
     "output_type": "stream",
     "text": [
      "i :  200\n",
      "i :  201\n"
     ]
    },
    {
     "name": "stderr",
     "output_type": "stream",
     "text": [
      "Batches: 100%|██████████| 1/1 [00:00<00:00, 74.10it/s]\n",
      "Batches: 100%|██████████| 1/1 [00:00<00:00, 85.82it/s]\n",
      "Batches: 100%|██████████| 1/1 [00:00<00:00, 86.32it/s]\n",
      "Batches: 100%|██████████| 1/1 [00:00<00:00, 85.92it/s]\n",
      "Batches: 100%|██████████| 1/1 [00:00<00:00, 84.01it/s]\n",
      "Batches: 100%|██████████| 1/1 [00:00<00:00, 82.67it/s]\n",
      "Batches: 100%|██████████| 1/1 [00:00<00:00, 86.44it/s]"
     ]
    },
    {
     "name": "stdout",
     "output_type": "stream",
     "text": [
      "i :  202\n",
      "i :  203\n",
      "i :  204\n"
     ]
    },
    {
     "name": "stderr",
     "output_type": "stream",
     "text": [
      "\n",
      "Batches: 100%|██████████| 1/1 [00:00<00:00, 83.89it/s]\n",
      "Batches: 100%|██████████| 1/1 [00:00<00:00, 74.35it/s]\n",
      "Batches: 100%|██████████| 1/1 [00:00<00:00, 81.37it/s]\n",
      "Batches: 100%|██████████| 1/1 [00:00<00:00, 83.75it/s]\n",
      "Batches: 100%|██████████| 1/1 [00:00<00:00, 82.35it/s]\n",
      "Batches:   0%|          | 0/1 [00:00<?, ?it/s]"
     ]
    },
    {
     "name": "stdout",
     "output_type": "stream",
     "text": [
      "i :  205\n",
      "i :  206\n",
      "i :  207\n"
     ]
    },
    {
     "name": "stderr",
     "output_type": "stream",
     "text": [
      "Batches: 100%|██████████| 1/1 [00:00<00:00, 79.11it/s]\n",
      "Batches: 100%|██████████| 1/1 [00:00<00:00, 83.51it/s]\n",
      "Batches: 100%|██████████| 1/1 [00:00<00:00, 83.61it/s]\n",
      "Batches: 100%|██████████| 1/1 [00:00<00:00, 86.91it/s]\n",
      "Batches:   0%|          | 0/1 [00:00<?, ?it/s]"
     ]
    },
    {
     "name": "stdout",
     "output_type": "stream",
     "text": [
      "i :  208\n",
      "i :  209\n"
     ]
    },
    {
     "name": "stderr",
     "output_type": "stream",
     "text": [
      "Batches: 100%|██████████| 1/1 [00:00<00:00, 84.08it/s]\n",
      "Batches: 100%|██████████| 1/1 [00:00<00:00, 85.21it/s]\n",
      "Batches: 100%|██████████| 1/1 [00:00<00:00, 83.80it/s]\n",
      "Batches: 100%|██████████| 1/1 [00:00<00:00, 85.21it/s]\n",
      "Batches: 100%|██████████| 1/1 [00:00<00:00, 83.50it/s]\n",
      "Batches: 100%|██████████| 1/1 [00:00<00:00, 83.48it/s]\n",
      "Batches:   0%|          | 0/1 [00:00<?, ?it/s]"
     ]
    },
    {
     "name": "stdout",
     "output_type": "stream",
     "text": [
      "i :  210\n",
      "i :  211\n",
      "i :  212\n"
     ]
    },
    {
     "name": "stderr",
     "output_type": "stream",
     "text": [
      "Batches: 100%|██████████| 1/1 [00:00<00:00, 81.70it/s]\n",
      "Batches: 100%|██████████| 1/1 [00:00<00:00, 82.48it/s]\n",
      "Batches: 100%|██████████| 1/1 [00:00<00:00, 82.96it/s]\n",
      "Batches: 100%|██████████| 1/1 [00:00<00:00, 85.65it/s]\n",
      "Batches: 100%|██████████| 1/1 [00:00<00:00, 84.80it/s]\n",
      "Batches: 100%|██████████| 1/1 [00:00<00:00, 85.87it/s]\n",
      "Batches:   0%|          | 0/1 [00:00<?, ?it/s]"
     ]
    },
    {
     "name": "stdout",
     "output_type": "stream",
     "text": [
      "i :  213\n",
      "i :  214\n",
      "i :  215\n"
     ]
    },
    {
     "name": "stderr",
     "output_type": "stream",
     "text": [
      "Batches: 100%|██████████| 1/1 [00:00<00:00, 70.60it/s]\n",
      "Batches: 100%|██████████| 1/1 [00:00<00:00, 65.79it/s]\n",
      "Batches: 100%|██████████| 1/1 [00:00<00:00, 82.86it/s]\n",
      "Batches: 100%|██████████| 1/1 [00:00<00:00, 82.23it/s]\n",
      "Batches:   0%|          | 0/1 [00:00<?, ?it/s]"
     ]
    },
    {
     "name": "stdout",
     "output_type": "stream",
     "text": [
      "i :  216\n",
      "i :  217\n"
     ]
    },
    {
     "name": "stderr",
     "output_type": "stream",
     "text": [
      "Batches: 100%|██████████| 1/1 [00:00<00:00, 82.36it/s]\n",
      "Batches: 100%|██████████| 1/1 [00:00<00:00, 89.73it/s]\n",
      "Batches: 100%|██████████| 1/1 [00:00<00:00, 91.97it/s]\n",
      "Batches: 100%|██████████| 1/1 [00:00<00:00, 81.72it/s]\n",
      "Batches: 100%|██████████| 1/1 [00:00<00:00, 91.61it/s]\n",
      "Batches: 100%|██████████| 1/1 [00:00<00:00, 84.77it/s]\n",
      "Batches:   0%|          | 0/1 [00:00<?, ?it/s]"
     ]
    },
    {
     "name": "stdout",
     "output_type": "stream",
     "text": [
      "i :  218\n",
      "i :  219\n",
      "i :  220\n"
     ]
    },
    {
     "name": "stderr",
     "output_type": "stream",
     "text": [
      "Batches: 100%|██████████| 1/1 [00:00<00:00, 79.72it/s]\n",
      "Batches: 100%|██████████| 1/1 [00:00<00:00, 85.64it/s]\n",
      "Batches: 100%|██████████| 1/1 [00:00<00:00, 90.83it/s]\n",
      "Batches: 100%|██████████| 1/1 [00:00<00:00, 81.01it/s]\n",
      "Batches: 100%|██████████| 1/1 [00:00<00:00, 82.33it/s]\n",
      "Batches: 100%|██████████| 1/1 [00:00<00:00, 87.92it/s]\n",
      "Batches: 100%|██████████| 1/1 [00:00<00:00, 89.48it/s]\n",
      "Batches:   0%|          | 0/1 [00:00<?, ?it/s]"
     ]
    },
    {
     "name": "stdout",
     "output_type": "stream",
     "text": [
      "i :  221\n",
      "i :  222\n",
      "i :  223\n"
     ]
    },
    {
     "name": "stderr",
     "output_type": "stream",
     "text": [
      "Batches: 100%|██████████| 1/1 [00:00<00:00, 81.90it/s]\n",
      "Batches: 100%|██████████| 1/1 [00:00<00:00, 84.03it/s]\n",
      "Batches: 100%|██████████| 1/1 [00:00<00:00, 87.93it/s]\n",
      "Batches: 100%|██████████| 1/1 [00:00<00:00, 82.85it/s]\n",
      "Batches:   0%|          | 0/1 [00:00<?, ?it/s]"
     ]
    },
    {
     "name": "stdout",
     "output_type": "stream",
     "text": [
      "i :  224\n",
      "i :  225\n"
     ]
    },
    {
     "name": "stderr",
     "output_type": "stream",
     "text": [
      "Batches: 100%|██████████| 1/1 [00:00<00:00, 84.31it/s]\n",
      "Batches: 100%|██████████| 1/1 [00:00<00:00, 82.92it/s]\n",
      "Batches: 100%|██████████| 1/1 [00:00<00:00, 93.00it/s]\n",
      "Batches: 100%|██████████| 1/1 [00:00<00:00, 85.50it/s]\n",
      "Batches: 100%|██████████| 1/1 [00:00<00:00, 84.26it/s]\n",
      "Batches: 100%|██████████| 1/1 [00:00<00:00, 90.20it/s]\n",
      "Batches:   0%|          | 0/1 [00:00<?, ?it/s]"
     ]
    },
    {
     "name": "stdout",
     "output_type": "stream",
     "text": [
      "i :  226\n",
      "i :  227\n",
      "i :  228\n"
     ]
    },
    {
     "name": "stderr",
     "output_type": "stream",
     "text": [
      "Batches: 100%|██████████| 1/1 [00:00<00:00, 84.54it/s]\n",
      "Batches: 100%|██████████| 1/1 [00:00<00:00, 83.93it/s]\n",
      "Batches: 100%|██████████| 1/1 [00:00<00:00, 85.21it/s]\n",
      "Batches: 100%|██████████| 1/1 [00:00<00:00, 90.95it/s]\n",
      "Batches: 100%|██████████| 1/1 [00:00<00:00, 82.92it/s]\n",
      "Batches: 100%|██████████| 1/1 [00:00<00:00, 83.10it/s]\n",
      "Batches:   0%|          | 0/1 [00:00<?, ?it/s]"
     ]
    },
    {
     "name": "stdout",
     "output_type": "stream",
     "text": [
      "i :  229\n",
      "i :  230\n",
      "i :  231\n"
     ]
    },
    {
     "name": "stderr",
     "output_type": "stream",
     "text": [
      "Batches: 100%|██████████| 1/1 [00:00<00:00, 81.01it/s]\n",
      "Batches: 100%|██████████| 1/1 [00:00<00:00, 92.28it/s]\n",
      "Batches: 100%|██████████| 1/1 [00:00<00:00, 83.26it/s]\n",
      "Batches: 100%|██████████| 1/1 [00:00<00:00, 83.03it/s]\n",
      "Batches:   0%|          | 0/1 [00:00<?, ?it/s]"
     ]
    },
    {
     "name": "stdout",
     "output_type": "stream",
     "text": [
      "i :  232\n",
      "i :  233\n"
     ]
    },
    {
     "name": "stderr",
     "output_type": "stream",
     "text": [
      "Batches: 100%|██████████| 1/1 [00:00<00:00, 84.14it/s]\n",
      "Batches: 100%|██████████| 1/1 [00:00<00:00, 89.72it/s]\n",
      "Batches: 100%|██████████| 1/1 [00:00<00:00, 84.87it/s]\n",
      "Batches: 100%|██████████| 1/1 [00:00<00:00, 80.64it/s]\n",
      "Batches: 100%|██████████| 1/1 [00:00<00:00, 82.22it/s]\n",
      "Batches: 100%|██████████| 1/1 [00:00<00:00, 83.08it/s]\n",
      "Batches:   0%|          | 0/1 [00:00<?, ?it/s]"
     ]
    },
    {
     "name": "stdout",
     "output_type": "stream",
     "text": [
      "i :  234\n",
      "i :  235\n",
      "i :  236\n"
     ]
    },
    {
     "name": "stderr",
     "output_type": "stream",
     "text": [
      "Batches: 100%|██████████| 1/1 [00:00<00:00, 81.18it/s]\n",
      "Batches: 100%|██████████| 1/1 [00:00<00:00, 89.39it/s]\n",
      "Batches: 100%|██████████| 1/1 [00:00<00:00, 84.00it/s]\n",
      "Batches: 100%|██████████| 1/1 [00:00<00:00, 80.20it/s]\n",
      "Batches: 100%|██████████| 1/1 [00:00<00:00, 82.76it/s]\n",
      "Batches: 100%|██████████| 1/1 [00:00<00:00, 81.03it/s]\n",
      "Batches:   0%|          | 0/1 [00:00<?, ?it/s]"
     ]
    },
    {
     "name": "stdout",
     "output_type": "stream",
     "text": [
      "i :  237\n",
      "i :  238\n",
      "i :  239\n"
     ]
    },
    {
     "name": "stderr",
     "output_type": "stream",
     "text": [
      "Batches: 100%|██████████| 1/1 [00:00<00:00, 81.43it/s]\n",
      "Batches: 100%|██████████| 1/1 [00:00<00:00, 89.82it/s]\n",
      "Batches: 100%|██████████| 1/1 [00:00<00:00, 85.06it/s]\n",
      "Batches: 100%|██████████| 1/1 [00:00<00:00, 81.69it/s]\n",
      "Batches:   0%|          | 0/1 [00:00<?, ?it/s]"
     ]
    },
    {
     "name": "stdout",
     "output_type": "stream",
     "text": [
      "i :  240\n",
      "i :  241\n"
     ]
    },
    {
     "name": "stderr",
     "output_type": "stream",
     "text": [
      "Batches: 100%|██████████| 1/1 [00:00<00:00, 80.36it/s]\n",
      "Batches: 100%|██████████| 1/1 [00:00<00:00, 82.39it/s]\n",
      "Batches: 100%|██████████| 1/1 [00:00<00:00, 89.81it/s]\n",
      "Batches: 100%|██████████| 1/1 [00:00<00:00, 92.93it/s]\n",
      "Batches: 100%|██████████| 1/1 [00:00<00:00, 84.71it/s]\n",
      "Batches: 100%|██████████| 1/1 [00:00<00:00, 81.24it/s]\n",
      "Batches:   0%|          | 0/1 [00:00<?, ?it/s]"
     ]
    },
    {
     "name": "stdout",
     "output_type": "stream",
     "text": [
      "i :  242\n",
      "i :  243\n",
      "i :  244\n"
     ]
    },
    {
     "name": "stderr",
     "output_type": "stream",
     "text": [
      "Batches: 100%|██████████| 1/1 [00:00<00:00, 82.88it/s]\n",
      "Batches: 100%|██████████| 1/1 [00:00<00:00, 81.48it/s]\n",
      "Batches: 100%|██████████| 1/1 [00:00<00:00, 84.32it/s]\n",
      "Batches: 100%|██████████| 1/1 [00:00<00:00, 86.82it/s]\n",
      "Batches: 100%|██████████| 1/1 [00:00<00:00, 80.93it/s]\n",
      "Batches: 100%|██████████| 1/1 [00:00<00:00, 83.63it/s]\n",
      "Batches:   0%|          | 0/1 [00:00<?, ?it/s]"
     ]
    },
    {
     "name": "stdout",
     "output_type": "stream",
     "text": [
      "i :  245\n",
      "i :  246\n",
      "i :  247\n"
     ]
    },
    {
     "name": "stderr",
     "output_type": "stream",
     "text": [
      "Batches: 100%|██████████| 1/1 [00:00<00:00, 69.27it/s]\n",
      "Batches: 100%|██████████| 1/1 [00:00<00:00, 85.47it/s]\n",
      "Batches: 100%|██████████| 1/1 [00:00<00:00, 58.07it/s]\n",
      "Batches:   0%|          | 0/1 [00:00<?, ?it/s]"
     ]
    },
    {
     "name": "stdout",
     "output_type": "stream",
     "text": [
      "i :  248\n",
      "i :  249\n"
     ]
    },
    {
     "name": "stderr",
     "output_type": "stream",
     "text": [
      "Batches: 100%|██████████| 1/1 [00:00<00:00, 90.45it/s]\n",
      "Batches: 100%|██████████| 1/1 [00:00<00:00, 64.05it/s]\n",
      "Batches: 100%|██████████| 1/1 [00:00<00:00, 91.49it/s]\n",
      "Batches: 100%|██████████| 1/1 [00:00<00:00, 88.88it/s]\n",
      "Batches: 100%|██████████| 1/1 [00:00<00:00, 93.31it/s]\n",
      "Batches: 100%|██████████| 1/1 [00:00<00:00, 90.77it/s]\n",
      "Batches:   0%|          | 0/1 [00:00<?, ?it/s]"
     ]
    },
    {
     "name": "stdout",
     "output_type": "stream",
     "text": [
      "i :  250\n",
      "i :  251\n",
      "i :  252\n"
     ]
    },
    {
     "name": "stderr",
     "output_type": "stream",
     "text": [
      "Batches: 100%|██████████| 1/1 [00:00<00:00, 87.46it/s]\n",
      "Batches: 100%|██████████| 1/1 [00:00<00:00, 88.15it/s]\n",
      "Batches: 100%|██████████| 1/1 [00:00<00:00, 90.17it/s]\n",
      "Batches: 100%|██████████| 1/1 [00:00<00:00, 90.18it/s]\n",
      "Batches: 100%|██████████| 1/1 [00:00<00:00, 87.36it/s]\n",
      "Batches: 100%|██████████| 1/1 [00:00<00:00, 89.86it/s]\n",
      "Batches: 100%|██████████| 1/1 [00:00<00:00, 90.52it/s]\n",
      "Batches:   0%|          | 0/1 [00:00<?, ?it/s]"
     ]
    },
    {
     "name": "stdout",
     "output_type": "stream",
     "text": [
      "i :  253\n",
      "i :  254\n",
      "i :  255\n"
     ]
    },
    {
     "name": "stderr",
     "output_type": "stream",
     "text": [
      "Batches: 100%|██████████| 1/1 [00:00<00:00, 86.76it/s]\n",
      "Batches: 100%|██████████| 1/1 [00:00<00:00, 73.52it/s]\n",
      "Batches: 100%|██████████| 1/1 [00:00<00:00, 89.45it/s]\n",
      "Batches: 100%|██████████| 1/1 [00:00<00:00, 62.24it/s]\n",
      "Batches:   0%|          | 0/1 [00:00<?, ?it/s]"
     ]
    },
    {
     "name": "stdout",
     "output_type": "stream",
     "text": [
      "i :  256\n",
      "i :  257\n"
     ]
    },
    {
     "name": "stderr",
     "output_type": "stream",
     "text": [
      "Batches: 100%|██████████| 1/1 [00:00<00:00, 88.18it/s]\n",
      "Batches: 100%|██████████| 1/1 [00:00<00:00, 89.53it/s]\n",
      "Batches: 100%|██████████| 1/1 [00:00<00:00, 88.64it/s]\n",
      "Batches: 100%|██████████| 1/1 [00:00<00:00, 90.19it/s]\n",
      "Batches: 100%|██████████| 1/1 [00:00<00:00, 91.20it/s]\n",
      "Batches: 100%|██████████| 1/1 [00:00<00:00, 87.10it/s]\n",
      "Batches:   0%|          | 0/1 [00:00<?, ?it/s]"
     ]
    },
    {
     "name": "stdout",
     "output_type": "stream",
     "text": [
      "i :  258\n",
      "i :  259\n",
      "i :  260\n"
     ]
    },
    {
     "name": "stderr",
     "output_type": "stream",
     "text": [
      "Batches: 100%|██████████| 1/1 [00:00<00:00, 88.05it/s]\n",
      "Batches: 100%|██████████| 1/1 [00:00<00:00, 89.86it/s]\n",
      "Batches: 100%|██████████| 1/1 [00:00<00:00, 89.85it/s]\n",
      "Batches: 100%|██████████| 1/1 [00:00<00:00, 89.67it/s]\n",
      "Batches: 100%|██████████| 1/1 [00:00<00:00, 92.91it/s]\n",
      "Batches: 100%|██████████| 1/1 [00:00<00:00, 89.49it/s]\n",
      "Batches:   0%|          | 0/1 [00:00<?, ?it/s]"
     ]
    },
    {
     "name": "stdout",
     "output_type": "stream",
     "text": [
      "i :  261\n",
      "i :  262\n",
      "i :  263\n"
     ]
    },
    {
     "name": "stderr",
     "output_type": "stream",
     "text": [
      "Batches: 100%|██████████| 1/1 [00:00<00:00, 86.14it/s]\n",
      "Batches: 100%|██████████| 1/1 [00:00<00:00, 89.98it/s]\n",
      "Batches: 100%|██████████| 1/1 [00:00<00:00, 88.69it/s]\n",
      "Batches: 100%|██████████| 1/1 [00:00<00:00, 88.25it/s]\n",
      "Batches:   0%|          | 0/1 [00:00<?, ?it/s]"
     ]
    },
    {
     "name": "stdout",
     "output_type": "stream",
     "text": [
      "i :  264\n",
      "i :  265\n"
     ]
    },
    {
     "name": "stderr",
     "output_type": "stream",
     "text": [
      "Batches: 100%|██████████| 1/1 [00:00<00:00, 88.11it/s]\n",
      "Batches: 100%|██████████| 1/1 [00:00<00:00, 89.77it/s]\n",
      "Batches: 100%|██████████| 1/1 [00:00<00:00, 89.60it/s]\n",
      "Batches: 100%|██████████| 1/1 [00:00<00:00, 88.95it/s]\n",
      "Batches: 100%|██████████| 1/1 [00:00<00:00, 86.96it/s]\n",
      "Batches: 100%|██████████| 1/1 [00:00<00:00, 87.81it/s]\n",
      "Batches:   0%|          | 0/1 [00:00<?, ?it/s]"
     ]
    },
    {
     "name": "stdout",
     "output_type": "stream",
     "text": [
      "i :  266\n",
      "i :  267\n",
      "i :  268\n"
     ]
    },
    {
     "name": "stderr",
     "output_type": "stream",
     "text": [
      "Batches: 100%|██████████| 1/1 [00:00<00:00, 85.72it/s]\n",
      "Batches: 100%|██████████| 1/1 [00:00<00:00, 87.09it/s]\n",
      "Batches: 100%|██████████| 1/1 [00:00<00:00, 87.88it/s]\n",
      "Batches: 100%|██████████| 1/1 [00:00<00:00, 89.89it/s]\n",
      "Batches: 100%|██████████| 1/1 [00:00<00:00, 88.72it/s]\n",
      "Batches: 100%|██████████| 1/1 [00:00<00:00, 89.65it/s]\n",
      "Batches:   0%|          | 0/1 [00:00<?, ?it/s]"
     ]
    },
    {
     "name": "stdout",
     "output_type": "stream",
     "text": [
      "i :  269\n",
      "i :  270\n",
      "i :  271\n"
     ]
    },
    {
     "name": "stderr",
     "output_type": "stream",
     "text": [
      "Batches: 100%|██████████| 1/1 [00:00<00:00, 88.55it/s]\n",
      "Batches: 100%|██████████| 1/1 [00:00<00:00, 93.14it/s]\n",
      "Batches: 100%|██████████| 1/1 [00:00<00:00, 62.64it/s]\n",
      "Batches: 100%|██████████| 1/1 [00:00<00:00, 87.19it/s]\n",
      "Batches:   0%|          | 0/1 [00:00<?, ?it/s]"
     ]
    },
    {
     "name": "stdout",
     "output_type": "stream",
     "text": [
      "i :  272\n",
      "i :  273\n"
     ]
    },
    {
     "name": "stderr",
     "output_type": "stream",
     "text": [
      "Batches: 100%|██████████| 1/1 [00:00<00:00, 80.10it/s]\n",
      "Batches: 100%|██████████| 1/1 [00:00<00:00, 85.85it/s]\n",
      "Batches: 100%|██████████| 1/1 [00:00<00:00, 82.24it/s]\n",
      "Batches: 100%|██████████| 1/1 [00:00<00:00, 89.02it/s]\n",
      "Batches: 100%|██████████| 1/1 [00:00<00:00, 83.82it/s]\n",
      "Batches: 100%|██████████| 1/1 [00:00<00:00, 85.85it/s]\n",
      "Batches:   0%|          | 0/1 [00:00<?, ?it/s]"
     ]
    },
    {
     "name": "stdout",
     "output_type": "stream",
     "text": [
      "i :  274\n",
      "i :  275\n",
      "i :  276\n"
     ]
    },
    {
     "name": "stderr",
     "output_type": "stream",
     "text": [
      "Batches: 100%|██████████| 1/1 [00:00<00:00, 83.61it/s]\n",
      "Batches: 100%|██████████| 1/1 [00:00<00:00, 88.96it/s]\n",
      "Batches: 100%|██████████| 1/1 [00:00<00:00, 81.74it/s]\n",
      "Batches: 100%|██████████| 1/1 [00:00<00:00, 80.95it/s]\n",
      "Batches: 100%|██████████| 1/1 [00:00<00:00, 83.89it/s]\n",
      "Batches:   0%|          | 0/1 [00:00<?, ?it/s]"
     ]
    },
    {
     "name": "stdout",
     "output_type": "stream",
     "text": [
      "i :  277\n",
      "i :  278\n",
      "i :  279\n"
     ]
    },
    {
     "name": "stderr",
     "output_type": "stream",
     "text": [
      "Batches: 100%|██████████| 1/1 [00:00<00:00, 87.50it/s]\n",
      "Batches: 100%|██████████| 1/1 [00:00<00:00, 81.53it/s]\n",
      "Batches: 100%|██████████| 1/1 [00:00<00:00, 89.36it/s]\n",
      "Batches: 100%|██████████| 1/1 [00:00<00:00, 80.72it/s]\n",
      "Batches: 100%|██████████| 1/1 [00:00<00:00, 88.76it/s]\n",
      "Batches:   0%|          | 0/1 [00:00<?, ?it/s]"
     ]
    },
    {
     "name": "stdout",
     "output_type": "stream",
     "text": [
      "i :  280\n",
      "i :  281\n"
     ]
    },
    {
     "name": "stderr",
     "output_type": "stream",
     "text": [
      "Batches: 100%|██████████| 1/1 [00:00<00:00, 81.43it/s]\n",
      "Batches: 100%|██████████| 1/1 [00:00<00:00, 71.09it/s]\n",
      "Batches: 100%|██████████| 1/1 [00:00<00:00, 80.60it/s]\n",
      "Batches: 100%|██████████| 1/1 [00:00<00:00, 81.97it/s]\n",
      "Batches: 100%|██████████| 1/1 [00:00<00:00, 84.85it/s]\n",
      "Batches:   0%|          | 0/1 [00:00<?, ?it/s]"
     ]
    },
    {
     "name": "stdout",
     "output_type": "stream",
     "text": [
      "i :  282\n",
      "i :  283\n",
      "i :  284\n"
     ]
    },
    {
     "name": "stderr",
     "output_type": "stream",
     "text": [
      "Batches: 100%|██████████| 1/1 [00:00<00:00, 80.85it/s]\n",
      "Batches: 100%|██████████| 1/1 [00:00<00:00, 66.29it/s]\n",
      "Batches: 100%|██████████| 1/1 [00:00<00:00, 85.01it/s]\n",
      "Batches: 100%|██████████| 1/1 [00:00<00:00, 89.44it/s]\n",
      "Batches: 100%|██████████| 1/1 [00:00<00:00, 89.31it/s]\n",
      "Batches: 100%|██████████| 1/1 [00:00<00:00, 90.94it/s]\n",
      "Batches:   0%|          | 0/1 [00:00<?, ?it/s]"
     ]
    },
    {
     "name": "stdout",
     "output_type": "stream",
     "text": [
      "i :  285\n",
      "i :  286\n",
      "i :  287\n"
     ]
    },
    {
     "name": "stderr",
     "output_type": "stream",
     "text": [
      "Batches: 100%|██████████| 1/1 [00:00<00:00, 87.24it/s]\n",
      "Batches: 100%|██████████| 1/1 [00:00<00:00, 63.91it/s]\n",
      "Batches: 100%|██████████| 1/1 [00:00<00:00, 89.10it/s]\n",
      "Batches: 100%|██████████| 1/1 [00:00<00:00, 88.30it/s]\n",
      "Batches:   0%|          | 0/1 [00:00<?, ?it/s]"
     ]
    },
    {
     "name": "stdout",
     "output_type": "stream",
     "text": [
      "i :  288\n",
      "i :  289\n"
     ]
    },
    {
     "name": "stderr",
     "output_type": "stream",
     "text": [
      "Batches: 100%|██████████| 1/1 [00:00<00:00, 87.33it/s]\n",
      "Batches: 100%|██████████| 1/1 [00:00<00:00, 90.03it/s]\n",
      "Batches: 100%|██████████| 1/1 [00:00<00:00, 92.79it/s]\n",
      "Batches: 100%|██████████| 1/1 [00:00<00:00, 88.98it/s]\n",
      "Batches: 100%|██████████| 1/1 [00:00<00:00, 74.73it/s]\n",
      "Batches: 100%|██████████| 1/1 [00:00<00:00, 93.67it/s]\n",
      "Batches: 100%|██████████| 1/1 [00:00<00:00, 72.77it/s]\n",
      "Batches:   0%|          | 0/1 [00:00<?, ?it/s]"
     ]
    },
    {
     "name": "stdout",
     "output_type": "stream",
     "text": [
      "i :  290\n",
      "i :  291\n",
      "i :  292\n"
     ]
    },
    {
     "name": "stderr",
     "output_type": "stream",
     "text": [
      "Batches: 100%|██████████| 1/1 [00:00<00:00, 88.02it/s]\n",
      "Batches: 100%|██████████| 1/1 [00:00<00:00, 90.06it/s]\n",
      "Batches: 100%|██████████| 1/1 [00:00<00:00, 89.04it/s]\n",
      "Batches: 100%|██████████| 1/1 [00:00<00:00, 89.73it/s]\n",
      "Batches: 100%|██████████| 1/1 [00:00<00:00, 90.14it/s]\n",
      "Batches: 100%|██████████| 1/1 [00:00<00:00, 91.21it/s]\n",
      "Batches:   0%|          | 0/1 [00:00<?, ?it/s]"
     ]
    },
    {
     "name": "stdout",
     "output_type": "stream",
     "text": [
      "i :  293\n",
      "i :  294\n",
      "i :  295\n"
     ]
    },
    {
     "name": "stderr",
     "output_type": "stream",
     "text": [
      "Batches: 100%|██████████| 1/1 [00:00<00:00, 85.68it/s]\n",
      "Batches: 100%|██████████| 1/1 [00:00<00:00, 89.90it/s]\n",
      "Batches: 100%|██████████| 1/1 [00:00<00:00, 90.19it/s]\n",
      "Batches: 100%|██████████| 1/1 [00:00<00:00, 89.73it/s]\n",
      "Batches:   0%|          | 0/1 [00:00<?, ?it/s]"
     ]
    },
    {
     "name": "stdout",
     "output_type": "stream",
     "text": [
      "i :  296\n",
      "i :  297\n"
     ]
    },
    {
     "name": "stderr",
     "output_type": "stream",
     "text": [
      "Batches: 100%|██████████| 1/1 [00:00<00:00, 87.88it/s]\n",
      "Batches: 100%|██████████| 1/1 [00:00<00:00, 90.17it/s]\n",
      "Batches: 100%|██████████| 1/1 [00:00<00:00, 91.45it/s]\n",
      "Batches: 100%|██████████| 1/1 [00:00<00:00, 93.00it/s]\n",
      "Batches: 100%|██████████| 1/1 [00:00<00:00, 58.67it/s]\n",
      "Batches: 100%|██████████| 1/1 [00:00<00:00, 83.56it/s]\n",
      "Batches:   0%|          | 0/1 [00:00<?, ?it/s]"
     ]
    },
    {
     "name": "stdout",
     "output_type": "stream",
     "text": [
      "i :  298\n",
      "i :  299\n",
      "i :  300\n"
     ]
    },
    {
     "name": "stderr",
     "output_type": "stream",
     "text": [
      "Batches: 100%|██████████| 1/1 [00:00<00:00, 78.91it/s]\n",
      "Batches: 100%|██████████| 1/1 [00:00<00:00, 81.91it/s]\n",
      "Batches: 100%|██████████| 1/1 [00:00<00:00, 82.57it/s]\n",
      "Batches: 100%|██████████| 1/1 [00:00<00:00, 82.16it/s]\n",
      "Batches: 100%|██████████| 1/1 [00:00<00:00, 82.84it/s]\n",
      "Batches:   0%|          | 0/1 [00:00<?, ?it/s]"
     ]
    },
    {
     "name": "stdout",
     "output_type": "stream",
     "text": [
      "i :  301\n",
      "i :  302\n",
      "i :  303\n"
     ]
    },
    {
     "name": "stderr",
     "output_type": "stream",
     "text": [
      "Batches: 100%|██████████| 1/1 [00:00<00:00, 80.43it/s]\n",
      "Batches: 100%|██████████| 1/1 [00:00<00:00, 81.46it/s]\n",
      "Batches: 100%|██████████| 1/1 [00:00<00:00, 81.62it/s]\n",
      "Batches: 100%|██████████| 1/1 [00:00<00:00, 83.55it/s]\n",
      "Batches:   0%|          | 0/1 [00:00<?, ?it/s]"
     ]
    },
    {
     "name": "stdout",
     "output_type": "stream",
     "text": [
      "i :  304\n",
      "i :  305\n"
     ]
    },
    {
     "name": "stderr",
     "output_type": "stream",
     "text": [
      "Batches: 100%|██████████| 1/1 [00:00<00:00, 85.04it/s]\n",
      "Batches: 100%|██████████| 1/1 [00:00<00:00, 88.93it/s]\n",
      "Batches: 100%|██████████| 1/1 [00:00<00:00, 88.18it/s]\n",
      "Batches: 100%|██████████| 1/1 [00:00<00:00, 83.11it/s]\n",
      "Batches: 100%|██████████| 1/1 [00:00<00:00, 90.06it/s]\n",
      "Batches: 100%|██████████| 1/1 [00:00<00:00, 82.58it/s]\n",
      "Batches:   0%|          | 0/1 [00:00<?, ?it/s]"
     ]
    },
    {
     "name": "stdout",
     "output_type": "stream",
     "text": [
      "i :  306\n",
      "i :  307\n",
      "i :  308\n"
     ]
    },
    {
     "name": "stderr",
     "output_type": "stream",
     "text": [
      "Batches: 100%|██████████| 1/1 [00:00<00:00, 80.40it/s]\n",
      "Batches: 100%|██████████| 1/1 [00:00<00:00, 81.15it/s]\n",
      "Batches: 100%|██████████| 1/1 [00:00<00:00, 88.04it/s]\n",
      "Batches: 100%|██████████| 1/1 [00:00<00:00, 82.30it/s]\n",
      "Batches: 100%|██████████| 1/1 [00:00<00:00, 83.42it/s]\n",
      "Batches: 100%|██████████| 1/1 [00:00<00:00, 88.46it/s]\n",
      "Batches:   0%|          | 0/1 [00:00<?, ?it/s]"
     ]
    },
    {
     "name": "stdout",
     "output_type": "stream",
     "text": [
      "i :  309\n",
      "i :  310\n",
      "i :  311\n"
     ]
    },
    {
     "name": "stderr",
     "output_type": "stream",
     "text": [
      "Batches: 100%|██████████| 1/1 [00:00<00:00, 68.41it/s]\n",
      "Batches: 100%|██████████| 1/1 [00:00<00:00, 92.50it/s]\n",
      "Batches: 100%|██████████| 1/1 [00:00<00:00, 81.54it/s]\n",
      "Batches: 100%|██████████| 1/1 [00:00<00:00, 84.45it/s]\n",
      "Batches:   0%|          | 0/1 [00:00<?, ?it/s]"
     ]
    },
    {
     "name": "stdout",
     "output_type": "stream",
     "text": [
      "i :  312\n",
      "i :  313\n"
     ]
    },
    {
     "name": "stderr",
     "output_type": "stream",
     "text": [
      "Batches: 100%|██████████| 1/1 [00:00<00:00, 79.61it/s]\n",
      "Batches: 100%|██████████| 1/1 [00:00<00:00, 84.93it/s]\n",
      "Batches: 100%|██████████| 1/1 [00:00<00:00, 80.55it/s]\n",
      "Batches: 100%|██████████| 1/1 [00:00<00:00, 81.97it/s]\n",
      "Batches: 100%|██████████| 1/1 [00:00<00:00, 83.39it/s]\n",
      "Batches: 100%|██████████| 1/1 [00:00<00:00, 83.42it/s]\n",
      "Batches:   0%|          | 0/1 [00:00<?, ?it/s]"
     ]
    },
    {
     "name": "stdout",
     "output_type": "stream",
     "text": [
      "i :  314\n",
      "i :  315\n",
      "i :  316\n"
     ]
    },
    {
     "name": "stderr",
     "output_type": "stream",
     "text": [
      "Batches: 100%|██████████| 1/1 [00:00<00:00, 82.80it/s]\n",
      "Batches: 100%|██████████| 1/1 [00:00<00:00, 82.07it/s]\n",
      "Batches: 100%|██████████| 1/1 [00:00<00:00, 82.54it/s]\n",
      "Batches: 100%|██████████| 1/1 [00:00<00:00, 81.89it/s]\n",
      "Batches: 100%|██████████| 1/1 [00:00<00:00, 81.34it/s]\n",
      "Batches: 100%|██████████| 1/1 [00:00<00:00, 81.65it/s]\n",
      "Batches:   0%|          | 0/1 [00:00<?, ?it/s]"
     ]
    },
    {
     "name": "stdout",
     "output_type": "stream",
     "text": [
      "i :  317\n",
      "i :  318\n",
      "i :  319\n"
     ]
    },
    {
     "name": "stderr",
     "output_type": "stream",
     "text": [
      "Batches: 100%|██████████| 1/1 [00:00<00:00, 80.76it/s]\n",
      "Batches: 100%|██████████| 1/1 [00:00<00:00, 82.60it/s]\n",
      "Batches: 100%|██████████| 1/1 [00:00<00:00, 84.37it/s]\n",
      "Batches: 100%|██████████| 1/1 [00:00<00:00, 82.36it/s]\n",
      "Batches:   0%|          | 0/1 [00:00<?, ?it/s]"
     ]
    },
    {
     "name": "stdout",
     "output_type": "stream",
     "text": [
      "i :  320\n",
      "i :  321\n"
     ]
    },
    {
     "name": "stderr",
     "output_type": "stream",
     "text": [
      "Batches: 100%|██████████| 1/1 [00:00<00:00, 80.57it/s]\n",
      "Batches: 100%|██████████| 1/1 [00:00<00:00, 81.98it/s]\n",
      "Batches: 100%|██████████| 1/1 [00:00<00:00, 83.09it/s]\n",
      "Batches: 100%|██████████| 1/1 [00:00<00:00, 81.81it/s]\n",
      "Batches: 100%|██████████| 1/1 [00:00<00:00, 84.97it/s]\n",
      "Batches: 100%|██████████| 1/1 [00:00<00:00, 81.62it/s]\n",
      "Batches:   0%|          | 0/1 [00:00<?, ?it/s]"
     ]
    },
    {
     "name": "stdout",
     "output_type": "stream",
     "text": [
      "i :  322\n",
      "i :  323\n",
      "i :  324\n"
     ]
    },
    {
     "name": "stderr",
     "output_type": "stream",
     "text": [
      "Batches: 100%|██████████| 1/1 [00:00<00:00, 80.03it/s]\n",
      "Batches: 100%|██████████| 1/1 [00:00<00:00, 82.35it/s]\n",
      "Batches: 100%|██████████| 1/1 [00:00<00:00, 82.14it/s]\n",
      "Batches: 100%|██████████| 1/1 [00:00<00:00, 81.57it/s]\n",
      "Batches: 100%|██████████| 1/1 [00:00<00:00, 82.19it/s]\n",
      "Batches: 100%|██████████| 1/1 [00:00<00:00, 81.87it/s]\n",
      "Batches:   0%|          | 0/1 [00:00<?, ?it/s]"
     ]
    },
    {
     "name": "stdout",
     "output_type": "stream",
     "text": [
      "i :  325\n",
      "i :  326\n",
      "i :  327\n"
     ]
    },
    {
     "name": "stderr",
     "output_type": "stream",
     "text": [
      "Batches: 100%|██████████| 1/1 [00:00<00:00, 80.18it/s]\n",
      "Batches: 100%|██████████| 1/1 [00:00<00:00, 82.11it/s]\n",
      "Batches: 100%|██████████| 1/1 [00:00<00:00, 80.23it/s]\n",
      "Batches: 100%|██████████| 1/1 [00:00<00:00, 82.61it/s]\n",
      "Batches:   0%|          | 0/1 [00:00<?, ?it/s]"
     ]
    },
    {
     "name": "stdout",
     "output_type": "stream",
     "text": [
      "i :  328\n",
      "i :  329\n"
     ]
    },
    {
     "name": "stderr",
     "output_type": "stream",
     "text": [
      "Batches: 100%|██████████| 1/1 [00:00<00:00, 80.13it/s]\n",
      "Batches: 100%|██████████| 1/1 [00:00<00:00, 84.37it/s]\n",
      "Batches: 100%|██████████| 1/1 [00:00<00:00, 80.67it/s]\n",
      "Batches: 100%|██████████| 1/1 [00:00<00:00, 81.58it/s]\n",
      "Batches: 100%|██████████| 1/1 [00:00<00:00, 85.10it/s]\n",
      "Batches: 100%|██████████| 1/1 [00:00<00:00, 82.76it/s]\n",
      "Batches:   0%|          | 0/1 [00:00<?, ?it/s]"
     ]
    },
    {
     "name": "stdout",
     "output_type": "stream",
     "text": [
      "i :  330\n",
      "i :  331\n",
      "i :  332\n"
     ]
    },
    {
     "name": "stderr",
     "output_type": "stream",
     "text": [
      "Batches: 100%|██████████| 1/1 [00:00<00:00, 81.53it/s]\n",
      "Batches: 100%|██████████| 1/1 [00:00<00:00, 84.33it/s]\n",
      "Batches: 100%|██████████| 1/1 [00:00<00:00, 80.51it/s]\n",
      "Batches: 100%|██████████| 1/1 [00:00<00:00, 81.29it/s]\n",
      "Batches: 100%|██████████| 1/1 [00:00<00:00, 82.75it/s]\n",
      "Batches: 100%|██████████| 1/1 [00:00<00:00, 81.22it/s]\n",
      "Batches:   0%|          | 0/1 [00:00<?, ?it/s]"
     ]
    },
    {
     "name": "stdout",
     "output_type": "stream",
     "text": [
      "i :  333\n",
      "i :  334\n",
      "i :  335\n"
     ]
    },
    {
     "name": "stderr",
     "output_type": "stream",
     "text": [
      "Batches: 100%|██████████| 1/1 [00:00<00:00, 81.28it/s]\n",
      "Batches: 100%|██████████| 1/1 [00:00<00:00, 82.39it/s]\n",
      "Batches: 100%|██████████| 1/1 [00:00<00:00, 81.37it/s]\n",
      "Batches: 100%|██████████| 1/1 [00:00<00:00, 57.79it/s]\n",
      "Batches:   0%|          | 0/1 [00:00<?, ?it/s]"
     ]
    },
    {
     "name": "stdout",
     "output_type": "stream",
     "text": [
      "i :  336\n",
      "i :  337\n"
     ]
    },
    {
     "name": "stderr",
     "output_type": "stream",
     "text": [
      "Batches: 100%|██████████| 1/1 [00:00<00:00, 87.92it/s]\n",
      "Batches: 100%|██████████| 1/1 [00:00<00:00, 89.80it/s]\n",
      "Batches: 100%|██████████| 1/1 [00:00<00:00, 89.82it/s]\n",
      "Batches: 100%|██████████| 1/1 [00:00<00:00, 70.77it/s]\n",
      "Batches: 100%|██████████| 1/1 [00:00<00:00, 79.94it/s]\n",
      "Batches: 100%|██████████| 1/1 [00:00<00:00, 91.34it/s]\n",
      "Batches:   0%|          | 0/1 [00:00<?, ?it/s]"
     ]
    },
    {
     "name": "stdout",
     "output_type": "stream",
     "text": [
      "i :  338\n",
      "i :  339\n",
      "i :  340\n"
     ]
    },
    {
     "name": "stderr",
     "output_type": "stream",
     "text": [
      "Batches: 100%|██████████| 1/1 [00:00<00:00, 89.32it/s]\n",
      "Batches: 100%|██████████| 1/1 [00:00<00:00, 90.07it/s]\n",
      "Batches: 100%|██████████| 1/1 [00:00<00:00, 91.50it/s]\n",
      "Batches: 100%|██████████| 1/1 [00:00<00:00, 90.30it/s]\n",
      "Batches: 100%|██████████| 1/1 [00:00<00:00, 89.19it/s]\n",
      "Batches: 100%|██████████| 1/1 [00:00<00:00, 93.86it/s]\n",
      "Batches: 100%|██████████| 1/1 [00:00<00:00, 91.87it/s]\n",
      "Batches:   0%|          | 0/1 [00:00<?, ?it/s]"
     ]
    },
    {
     "name": "stdout",
     "output_type": "stream",
     "text": [
      "i :  341\n",
      "i :  342\n",
      "i :  343\n"
     ]
    },
    {
     "name": "stderr",
     "output_type": "stream",
     "text": [
      "Batches: 100%|██████████| 1/1 [00:00<00:00, 90.96it/s]\n",
      "Batches: 100%|██████████| 1/1 [00:00<00:00, 95.47it/s]\n",
      "Batches: 100%|██████████| 1/1 [00:00<00:00, 89.54it/s]\n",
      "Batches: 100%|██████████| 1/1 [00:00<00:00, 92.40it/s]\n",
      "Batches:   0%|          | 0/1 [00:00<?, ?it/s]"
     ]
    },
    {
     "name": "stdout",
     "output_type": "stream",
     "text": [
      "i :  344\n",
      "i :  345\n"
     ]
    },
    {
     "name": "stderr",
     "output_type": "stream",
     "text": [
      "Batches: 100%|██████████| 1/1 [00:00<00:00, 88.20it/s]\n",
      "Batches: 100%|██████████| 1/1 [00:00<00:00, 91.82it/s]\n",
      "Batches: 100%|██████████| 1/1 [00:00<00:00, 92.15it/s]\n",
      "Batches: 100%|██████████| 1/1 [00:00<00:00, 91.58it/s]\n",
      "Batches: 100%|██████████| 1/1 [00:00<00:00, 90.20it/s]\n",
      "Batches: 100%|██████████| 1/1 [00:00<00:00, 89.22it/s]\n",
      "Batches: 100%|██████████| 1/1 [00:00<00:00, 93.59it/s]\n",
      "Batches:   0%|          | 0/1 [00:00<?, ?it/s]"
     ]
    },
    {
     "name": "stdout",
     "output_type": "stream",
     "text": [
      "i :  346\n",
      "i :  347\n",
      "i :  348\n",
      "i :  349\n"
     ]
    },
    {
     "name": "stderr",
     "output_type": "stream",
     "text": [
      "Batches: 100%|██████████| 1/1 [00:00<00:00, 89.49it/s]\n",
      "Batches: 100%|██████████| 1/1 [00:00<00:00, 91.73it/s]\n",
      "Batches: 100%|██████████| 1/1 [00:00<00:00, 93.50it/s]\n",
      "Batches: 100%|██████████| 1/1 [00:00<00:00, 95.35it/s]\n",
      "Batches: 100%|██████████| 1/1 [00:00<00:00, 92.90it/s]\n",
      "Batches: 100%|██████████| 1/1 [00:00<00:00, 90.46it/s]\n",
      "Batches:   0%|          | 0/1 [00:00<?, ?it/s]"
     ]
    },
    {
     "name": "stdout",
     "output_type": "stream",
     "text": [
      "i :  350\n",
      "i :  351\n",
      "i :  352\n"
     ]
    },
    {
     "name": "stderr",
     "output_type": "stream",
     "text": [
      "Batches: 100%|██████████| 1/1 [00:00<00:00, 87.52it/s]\n",
      "Batches: 100%|██████████| 1/1 [00:00<00:00, 90.89it/s]\n",
      "Batches: 100%|██████████| 1/1 [00:00<00:00, 87.75it/s]\n",
      "Batches: 100%|██████████| 1/1 [00:00<00:00, 91.01it/s]\n",
      "Batches:   0%|          | 0/1 [00:00<?, ?it/s]"
     ]
    },
    {
     "name": "stdout",
     "output_type": "stream",
     "text": [
      "i :  353\n",
      "i :  354\n"
     ]
    },
    {
     "name": "stderr",
     "output_type": "stream",
     "text": [
      "Batches: 100%|██████████| 1/1 [00:00<00:00, 87.81it/s]\n",
      "Batches: 100%|██████████| 1/1 [00:00<00:00, 93.56it/s]\n",
      "Batches: 100%|██████████| 1/1 [00:00<00:00, 91.34it/s]\n",
      "Batches: 100%|██████████| 1/1 [00:00<00:00, 91.51it/s]\n",
      "Batches: 100%|██████████| 1/1 [00:00<00:00, 91.85it/s]\n",
      "Batches: 100%|██████████| 1/1 [00:00<00:00, 94.97it/s]\n",
      "Batches: 100%|██████████| 1/1 [00:00<00:00, 94.48it/s]\n",
      "Batches: 100%|██████████| 1/1 [00:00<00:00, 95.83it/s]\n",
      "Batches:   0%|          | 0/1 [00:00<?, ?it/s]"
     ]
    },
    {
     "name": "stdout",
     "output_type": "stream",
     "text": [
      "i :  355\n",
      "i :  356\n",
      "i :  357\n",
      "i :  358\n"
     ]
    },
    {
     "name": "stderr",
     "output_type": "stream",
     "text": [
      "Batches: 100%|██████████| 1/1 [00:00<00:00, 92.91it/s]\n",
      "Batches: 100%|██████████| 1/1 [00:00<00:00, 94.01it/s]\n",
      "Batches: 100%|██████████| 1/1 [00:00<00:00, 91.94it/s]\n",
      "Batches: 100%|██████████| 1/1 [00:00<00:00, 90.47it/s]\n",
      "Batches: 100%|██████████| 1/1 [00:00<00:00, 93.32it/s]\n",
      "Batches: 100%|██████████| 1/1 [00:00<00:00, 90.76it/s]\n",
      "Batches:   0%|          | 0/1 [00:00<?, ?it/s]"
     ]
    },
    {
     "name": "stdout",
     "output_type": "stream",
     "text": [
      "i :  359\n",
      "i :  360\n",
      "i :  361\n"
     ]
    },
    {
     "name": "stderr",
     "output_type": "stream",
     "text": [
      "Batches: 100%|██████████| 1/1 [00:00<00:00, 89.44it/s]\n",
      "Batches: 100%|██████████| 1/1 [00:00<00:00, 91.82it/s]\n",
      "Batches: 100%|██████████| 1/1 [00:00<00:00, 92.17it/s]\n",
      "Batches: 100%|██████████| 1/1 [00:00<00:00, 92.54it/s]\n",
      "Batches:   0%|          | 0/1 [00:00<?, ?it/s]"
     ]
    },
    {
     "name": "stdout",
     "output_type": "stream",
     "text": [
      "i :  362\n",
      "i :  363\n"
     ]
    },
    {
     "name": "stderr",
     "output_type": "stream",
     "text": [
      "Batches: 100%|██████████| 1/1 [00:00<00:00, 87.42it/s]\n",
      "Batches: 100%|██████████| 1/1 [00:00<00:00, 93.14it/s]\n",
      "Batches: 100%|██████████| 1/1 [00:00<00:00, 89.74it/s]\n",
      "Batches: 100%|██████████| 1/1 [00:00<00:00, 92.23it/s]\n",
      "Batches: 100%|██████████| 1/1 [00:00<00:00, 89.86it/s]\n",
      "Batches: 100%|██████████| 1/1 [00:00<00:00, 92.82it/s]\n",
      "Batches: 100%|██████████| 1/1 [00:00<00:00, 90.20it/s]\n",
      "Batches: 100%|██████████| 1/1 [00:00<00:00, 92.83it/s]\n",
      "Batches:   0%|          | 0/1 [00:00<?, ?it/s]"
     ]
    },
    {
     "name": "stdout",
     "output_type": "stream",
     "text": [
      "i :  364\n",
      "i :  365\n",
      "i :  366\n",
      "i :  367\n"
     ]
    },
    {
     "name": "stderr",
     "output_type": "stream",
     "text": [
      "Batches: 100%|██████████| 1/1 [00:00<00:00, 79.59it/s]\n",
      "Batches: 100%|██████████| 1/1 [00:00<00:00, 91.76it/s]\n",
      "Batches: 100%|██████████| 1/1 [00:00<00:00, 92.97it/s]\n",
      "Batches: 100%|██████████| 1/1 [00:00<00:00, 87.21it/s]\n",
      "Batches: 100%|██████████| 1/1 [00:00<00:00, 85.08it/s]\n",
      "Batches: 100%|██████████| 1/1 [00:00<00:00, 91.68it/s]\n",
      "Batches:   0%|          | 0/1 [00:00<?, ?it/s]"
     ]
    },
    {
     "name": "stdout",
     "output_type": "stream",
     "text": [
      "i :  368\n",
      "i :  369\n",
      "i :  370\n"
     ]
    },
    {
     "name": "stderr",
     "output_type": "stream",
     "text": [
      "Batches: 100%|██████████| 1/1 [00:00<00:00, 91.48it/s]\n",
      "Batches: 100%|██████████| 1/1 [00:00<00:00, 95.50it/s]\n",
      "Batches: 100%|██████████| 1/1 [00:00<00:00, 92.99it/s]\n",
      "Batches: 100%|██████████| 1/1 [00:00<00:00, 93.30it/s]\n",
      "Batches:   0%|          | 0/1 [00:00<?, ?it/s]"
     ]
    },
    {
     "name": "stdout",
     "output_type": "stream",
     "text": [
      "i :  371\n",
      "i :  372\n"
     ]
    },
    {
     "name": "stderr",
     "output_type": "stream",
     "text": [
      "Batches: 100%|██████████| 1/1 [00:00<00:00, 95.28it/s]\n",
      "Batches: 100%|██████████| 1/1 [00:00<00:00, 92.79it/s]\n",
      "Batches: 100%|██████████| 1/1 [00:00<00:00, 87.95it/s]\n",
      "Batches: 100%|██████████| 1/1 [00:00<00:00, 91.65it/s]\n",
      "Batches: 100%|██████████| 1/1 [00:00<00:00, 91.68it/s]\n",
      "Batches: 100%|██████████| 1/1 [00:00<00:00, 91.81it/s]\n",
      "Batches: 100%|██████████| 1/1 [00:00<00:00, 91.92it/s]\n",
      "Batches: 100%|██████████| 1/1 [00:00<00:00, 92.79it/s]\n",
      "Batches:   0%|          | 0/1 [00:00<?, ?it/s]"
     ]
    },
    {
     "name": "stdout",
     "output_type": "stream",
     "text": [
      "i :  373\n",
      "i :  374\n",
      "i :  375\n",
      "i :  376\n"
     ]
    },
    {
     "name": "stderr",
     "output_type": "stream",
     "text": [
      "Batches: 100%|██████████| 1/1 [00:00<00:00, 90.42it/s]\n",
      "Batches: 100%|██████████| 1/1 [00:00<00:00, 89.76it/s]\n",
      "Batches: 100%|██████████| 1/1 [00:00<00:00, 91.44it/s]\n",
      "Batches: 100%|██████████| 1/1 [00:00<00:00, 91.96it/s]\n",
      "Batches: 100%|██████████| 1/1 [00:00<00:00, 95.25it/s]\n",
      "Batches: 100%|██████████| 1/1 [00:00<00:00, 95.94it/s]\n",
      "Batches:   0%|          | 0/1 [00:00<?, ?it/s]"
     ]
    },
    {
     "name": "stdout",
     "output_type": "stream",
     "text": [
      "i :  377\n",
      "i :  378\n",
      "i :  379\n"
     ]
    },
    {
     "name": "stderr",
     "output_type": "stream",
     "text": [
      "Batches: 100%|██████████| 1/1 [00:00<00:00, 89.57it/s]\n",
      "Batches: 100%|██████████| 1/1 [00:00<00:00, 92.21it/s]\n",
      "Batches: 100%|██████████| 1/1 [00:00<00:00, 91.03it/s]\n",
      "Batches: 100%|██████████| 1/1 [00:00<00:00, 91.91it/s]\n",
      "Batches:   0%|          | 0/1 [00:00<?, ?it/s]"
     ]
    },
    {
     "name": "stdout",
     "output_type": "stream",
     "text": [
      "i :  380\n",
      "i :  381\n"
     ]
    },
    {
     "name": "stderr",
     "output_type": "stream",
     "text": [
      "Batches: 100%|██████████| 1/1 [00:00<00:00, 89.77it/s]\n",
      "Batches: 100%|██████████| 1/1 [00:00<00:00, 92.99it/s]\n",
      "Batches: 100%|██████████| 1/1 [00:00<00:00, 91.56it/s]\n",
      "Batches: 100%|██████████| 1/1 [00:00<00:00, 91.65it/s]\n",
      "Batches: 100%|██████████| 1/1 [00:00<00:00, 88.96it/s]\n",
      "Batches: 100%|██████████| 1/1 [00:00<00:00, 91.48it/s]\n",
      "Batches: 100%|██████████| 1/1 [00:00<00:00, 89.43it/s]\n",
      "Batches: 100%|██████████| 1/1 [00:00<00:00, 91.94it/s]\n",
      "Batches:   0%|          | 0/1 [00:00<?, ?it/s]"
     ]
    },
    {
     "name": "stdout",
     "output_type": "stream",
     "text": [
      "i :  382\n",
      "i :  383\n",
      "i :  384\n",
      "i :  385\n"
     ]
    },
    {
     "name": "stderr",
     "output_type": "stream",
     "text": [
      "Batches: 100%|██████████| 1/1 [00:00<00:00, 90.53it/s]\n",
      "Batches: 100%|██████████| 1/1 [00:00<00:00, 90.72it/s]\n",
      "Batches: 100%|██████████| 1/1 [00:00<00:00, 92.16it/s]\n",
      "Batches: 100%|██████████| 1/1 [00:00<00:00, 92.29it/s]\n",
      "Batches: 100%|██████████| 1/1 [00:00<00:00, 93.03it/s]\n",
      "Batches: 100%|██████████| 1/1 [00:00<00:00, 92.38it/s]\n",
      "Batches:   0%|          | 0/1 [00:00<?, ?it/s]"
     ]
    },
    {
     "name": "stdout",
     "output_type": "stream",
     "text": [
      "i :  386\n",
      "i :  387\n",
      "i :  388\n"
     ]
    },
    {
     "name": "stderr",
     "output_type": "stream",
     "text": [
      "Batches: 100%|██████████| 1/1 [00:00<00:00, 78.88it/s]\n",
      "Batches: 100%|██████████| 1/1 [00:00<00:00, 95.31it/s]\n",
      "Batches: 100%|██████████| 1/1 [00:00<00:00, 89.44it/s]\n",
      "Batches: 100%|██████████| 1/1 [00:00<00:00, 91.34it/s]\n",
      "Batches:   0%|          | 0/1 [00:00<?, ?it/s]"
     ]
    },
    {
     "name": "stdout",
     "output_type": "stream",
     "text": [
      "i :  389\n",
      "i :  390\n"
     ]
    },
    {
     "name": "stderr",
     "output_type": "stream",
     "text": [
      "Batches: 100%|██████████| 1/1 [00:00<00:00, 93.45it/s]\n",
      "Batches: 100%|██████████| 1/1 [00:00<00:00, 96.08it/s]\n",
      "Batches: 100%|██████████| 1/1 [00:00<00:00, 92.68it/s]\n",
      "Batches: 100%|██████████| 1/1 [00:00<00:00, 93.07it/s]\n",
      "Batches: 100%|██████████| 1/1 [00:00<00:00, 91.52it/s]\n",
      "Batches: 100%|██████████| 1/1 [00:00<00:00, 92.04it/s]\n",
      "Batches: 100%|██████████| 1/1 [00:00<00:00, 92.55it/s]\n",
      "Batches: 100%|██████████| 1/1 [00:00<00:00, 95.72it/s]\n",
      "Batches:   0%|          | 0/1 [00:00<?, ?it/s]"
     ]
    },
    {
     "name": "stdout",
     "output_type": "stream",
     "text": [
      "i :  391\n",
      "i :  392\n",
      "i :  393\n",
      "i :  394\n"
     ]
    },
    {
     "name": "stderr",
     "output_type": "stream",
     "text": [
      "Batches: 100%|██████████| 1/1 [00:00<00:00, 91.40it/s]\n",
      "Batches: 100%|██████████| 1/1 [00:00<00:00, 96.85it/s]\n",
      "Batches: 100%|██████████| 1/1 [00:00<00:00, 89.11it/s]\n",
      "Batches: 100%|██████████| 1/1 [00:00<00:00, 91.19it/s]\n",
      "Batches: 100%|██████████| 1/1 [00:00<00:00, 59.56it/s]\n",
      "Batches:   0%|          | 0/1 [00:00<?, ?it/s]"
     ]
    },
    {
     "name": "stdout",
     "output_type": "stream",
     "text": [
      "i :  395\n",
      "i :  396\n"
     ]
    },
    {
     "name": "stderr",
     "output_type": "stream",
     "text": [
      "Batches: 100%|██████████| 1/1 [00:00<00:00, 90.30it/s]\n",
      "Batches: 100%|██████████| 1/1 [00:00<00:00, 91.16it/s]\n",
      "Batches: 100%|██████████| 1/1 [00:00<00:00, 91.03it/s]\n",
      "Batches: 100%|██████████| 1/1 [00:00<00:00, 91.50it/s]\n",
      "Batches:   0%|          | 0/1 [00:00<?, ?it/s]"
     ]
    },
    {
     "name": "stdout",
     "output_type": "stream",
     "text": [
      "i :  397\n",
      "i :  398\n"
     ]
    },
    {
     "name": "stderr",
     "output_type": "stream",
     "text": [
      "Batches: 100%|██████████| 1/1 [00:00<00:00, 88.89it/s]\n",
      "Batches: 100%|██████████| 1/1 [00:00<00:00, 95.06it/s]\n",
      "Batches: 100%|██████████| 1/1 [00:00<00:00, 95.27it/s]\n",
      "Batches: 100%|██████████| 1/1 [00:00<00:00, 90.64it/s]\n",
      "Batches: 100%|██████████| 1/1 [00:00<00:00, 93.57it/s]\n",
      "Batches: 100%|██████████| 1/1 [00:00<00:00, 91.81it/s]\n",
      "Batches: 100%|██████████| 1/1 [00:00<00:00, 91.83it/s]\n",
      "Batches: 100%|██████████| 1/1 [00:00<00:00, 91.89it/s]\n",
      "Batches:   0%|          | 0/1 [00:00<?, ?it/s]"
     ]
    },
    {
     "name": "stdout",
     "output_type": "stream",
     "text": [
      "i :  399\n",
      "i :  400\n",
      "i :  401\n",
      "i :  402\n"
     ]
    },
    {
     "name": "stderr",
     "output_type": "stream",
     "text": [
      "Batches: 100%|██████████| 1/1 [00:00<00:00, 88.85it/s]\n",
      "Batches: 100%|██████████| 1/1 [00:00<00:00, 88.45it/s]\n",
      "Batches: 100%|██████████| 1/1 [00:00<00:00, 90.15it/s]\n",
      "Batches: 100%|██████████| 1/1 [00:00<00:00, 93.58it/s]\n",
      "Batches: 100%|██████████| 1/1 [00:00<00:00, 90.59it/s]\n",
      "Batches:   0%|          | 0/1 [00:00<?, ?it/s]"
     ]
    },
    {
     "name": "stdout",
     "output_type": "stream",
     "text": [
      "i :  403\n",
      "i :  404\n",
      "i :  405\n"
     ]
    },
    {
     "name": "stderr",
     "output_type": "stream",
     "text": [
      "Batches: 100%|██████████| 1/1 [00:00<00:00, 89.29it/s]\n",
      "Batches: 100%|██████████| 1/1 [00:00<00:00, 92.24it/s]\n",
      "Batches: 100%|██████████| 1/1 [00:00<00:00, 91.69it/s]\n",
      "Batches: 100%|██████████| 1/1 [00:00<00:00, 91.23it/s]\n",
      "Batches:   0%|          | 0/1 [00:00<?, ?it/s]"
     ]
    },
    {
     "name": "stdout",
     "output_type": "stream",
     "text": [
      "i :  406\n",
      "i :  407\n"
     ]
    },
    {
     "name": "stderr",
     "output_type": "stream",
     "text": [
      "Batches: 100%|██████████| 1/1 [00:00<00:00, 88.98it/s]\n",
      "Batches: 100%|██████████| 1/1 [00:00<00:00, 92.72it/s]\n",
      "Batches: 100%|██████████| 1/1 [00:00<00:00, 92.97it/s]\n",
      "Batches: 100%|██████████| 1/1 [00:00<00:00, 89.77it/s]\n",
      "Batches: 100%|██████████| 1/1 [00:00<00:00, 88.64it/s]\n",
      "Batches: 100%|██████████| 1/1 [00:00<00:00, 93.26it/s]\n",
      "Batches: 100%|██████████| 1/1 [00:00<00:00, 91.13it/s]\n",
      "Batches: 100%|██████████| 1/1 [00:00<00:00, 89.60it/s]\n",
      "Batches:   0%|          | 0/1 [00:00<?, ?it/s]"
     ]
    },
    {
     "name": "stdout",
     "output_type": "stream",
     "text": [
      "i :  408\n",
      "i :  409\n",
      "i :  410\n",
      "i :  411\n"
     ]
    },
    {
     "name": "stderr",
     "output_type": "stream",
     "text": [
      "Batches: 100%|██████████| 1/1 [00:00<00:00, 89.64it/s]\n",
      "Batches: 100%|██████████| 1/1 [00:00<00:00, 90.25it/s]\n",
      "Batches: 100%|██████████| 1/1 [00:00<00:00, 88.41it/s]\n",
      "Batches: 100%|██████████| 1/1 [00:00<00:00, 92.08it/s]\n",
      "Batches: 100%|██████████| 1/1 [00:00<00:00, 90.27it/s]\n",
      "Batches: 100%|██████████| 1/1 [00:00<00:00, 88.27it/s]\n",
      "Batches:   0%|          | 0/1 [00:00<?, ?it/s]"
     ]
    },
    {
     "name": "stdout",
     "output_type": "stream",
     "text": [
      "i :  412\n",
      "i :  413\n",
      "i :  414\n"
     ]
    },
    {
     "name": "stderr",
     "output_type": "stream",
     "text": [
      "Batches: 100%|██████████| 1/1 [00:00<00:00, 71.31it/s]\n",
      "Batches: 100%|██████████| 1/1 [00:00<00:00, 90.91it/s]\n",
      "Batches: 100%|██████████| 1/1 [00:00<00:00, 95.10it/s]\n",
      "Batches:   0%|          | 0/1 [00:00<?, ?it/s]"
     ]
    },
    {
     "name": "stdout",
     "output_type": "stream",
     "text": [
      "i :  415\n"
     ]
    },
    {
     "name": "stderr",
     "output_type": "stream",
     "text": [
      "Batches: 100%|██████████| 1/1 [00:00<00:00, 88.59it/s]\n",
      "Batches: 100%|██████████| 1/1 [00:00<00:00, 91.74it/s]\n",
      "Batches: 100%|██████████| 1/1 [00:00<00:00, 91.42it/s]\n",
      "Batches: 100%|██████████| 1/1 [00:00<00:00, 87.94it/s]\n",
      "Batches: 100%|██████████| 1/1 [00:00<00:00, 93.48it/s]\n",
      "Batches: 100%|██████████| 1/1 [00:00<00:00, 93.61it/s]\n",
      "Batches: 100%|██████████| 1/1 [00:00<00:00, 95.12it/s]\n",
      "Batches: 100%|██████████| 1/1 [00:00<00:00, 95.89it/s]\n",
      "Batches: 100%|██████████| 1/1 [00:00<00:00, 90.54it/s]\n",
      "Batches:   0%|          | 0/1 [00:00<?, ?it/s]"
     ]
    },
    {
     "name": "stdout",
     "output_type": "stream",
     "text": [
      "i :  416\n",
      "i :  417\n",
      "i :  418\n",
      "i :  419\n",
      "i :  420\n"
     ]
    },
    {
     "name": "stderr",
     "output_type": "stream",
     "text": [
      "Batches: 100%|██████████| 1/1 [00:00<00:00, 76.08it/s]\n",
      "Batches: 100%|██████████| 1/1 [00:00<00:00, 91.79it/s]\n",
      "Batches: 100%|██████████| 1/1 [00:00<00:00, 91.67it/s]\n",
      "Batches: 100%|██████████| 1/1 [00:00<00:00, 90.97it/s]\n",
      "Batches: 100%|██████████| 1/1 [00:00<00:00, 94.41it/s]\n",
      "Batches: 100%|██████████| 1/1 [00:00<00:00, 93.10it/s]\n",
      "Batches:   0%|          | 0/1 [00:00<?, ?it/s]"
     ]
    },
    {
     "name": "stdout",
     "output_type": "stream",
     "text": [
      "i :  421\n",
      "i :  422\n",
      "i :  423\n"
     ]
    },
    {
     "name": "stderr",
     "output_type": "stream",
     "text": [
      "Batches: 100%|██████████| 1/1 [00:00<00:00, 90.63it/s]\n",
      "Batches: 100%|██████████| 1/1 [00:00<00:00, 90.60it/s]\n",
      "Batches:   0%|          | 0/1 [00:00<?, ?it/s]"
     ]
    },
    {
     "name": "stdout",
     "output_type": "stream",
     "text": [
      "i :  424\n"
     ]
    },
    {
     "name": "stderr",
     "output_type": "stream",
     "text": [
      "Batches: 100%|██████████| 1/1 [00:00<00:00, 84.35it/s]\n",
      "Batches: 100%|██████████| 1/1 [00:00<00:00, 88.15it/s]\n",
      "Batches: 100%|██████████| 1/1 [00:00<00:00, 90.75it/s]\n",
      "Batches: 100%|██████████| 1/1 [00:00<00:00, 76.70it/s]\n",
      "Batches: 100%|██████████| 1/1 [00:00<00:00, 60.15it/s]\n",
      "Batches: 100%|██████████| 1/1 [00:00<00:00, 90.40it/s]\n",
      "Batches: 100%|██████████| 1/1 [00:00<00:00, 91.69it/s]\n",
      "Batches: 100%|██████████| 1/1 [00:00<00:00, 91.42it/s]\n",
      "Batches: 100%|██████████| 1/1 [00:00<00:00, 91.69it/s]\n",
      "Batches:   0%|          | 0/1 [00:00<?, ?it/s]"
     ]
    },
    {
     "name": "stdout",
     "output_type": "stream",
     "text": [
      "i :  425\n",
      "i :  426\n",
      "i :  427\n",
      "i :  428\n"
     ]
    },
    {
     "name": "stderr",
     "output_type": "stream",
     "text": [
      "Batches: 100%|██████████| 1/1 [00:00<00:00, 88.35it/s]\n",
      "Batches: 100%|██████████| 1/1 [00:00<00:00, 95.31it/s]\n",
      "Batches: 100%|██████████| 1/1 [00:00<00:00, 95.13it/s]\n",
      "Batches: 100%|██████████| 1/1 [00:00<00:00, 95.03it/s]\n",
      "Batches: 100%|██████████| 1/1 [00:00<00:00, 93.24it/s]\n",
      "Batches: 100%|██████████| 1/1 [00:00<00:00, 92.53it/s]\n",
      "Batches:   0%|          | 0/1 [00:00<?, ?it/s]"
     ]
    },
    {
     "name": "stdout",
     "output_type": "stream",
     "text": [
      "i :  429\n",
      "i :  430\n",
      "i :  431\n"
     ]
    },
    {
     "name": "stderr",
     "output_type": "stream",
     "text": [
      "Batches: 100%|██████████| 1/1 [00:00<00:00, 89.26it/s]\n",
      "Batches: 100%|██████████| 1/1 [00:00<00:00, 91.57it/s]\n",
      "Batches:   0%|          | 0/1 [00:00<?, ?it/s]"
     ]
    },
    {
     "name": "stdout",
     "output_type": "stream",
     "text": [
      "i :  432\n"
     ]
    },
    {
     "name": "stderr",
     "output_type": "stream",
     "text": [
      "Batches: 100%|██████████| 1/1 [00:00<00:00, 87.93it/s]\n",
      "Batches: 100%|██████████| 1/1 [00:00<00:00, 94.49it/s]\n",
      "Batches: 100%|██████████| 1/1 [00:00<00:00, 92.29it/s]\n",
      "Batches: 100%|██████████| 1/1 [00:00<00:00, 91.85it/s]\n",
      "Batches: 100%|██████████| 1/1 [00:00<00:00, 89.40it/s]\n",
      "Batches: 100%|██████████| 1/1 [00:00<00:00, 88.47it/s]\n",
      "Batches: 100%|██████████| 1/1 [00:00<00:00, 92.68it/s]\n",
      "Batches: 100%|██████████| 1/1 [00:00<00:00, 90.45it/s]\n",
      "Batches: 100%|██████████| 1/1 [00:00<00:00, 88.38it/s]\n",
      "Batches:   0%|          | 0/1 [00:00<?, ?it/s]"
     ]
    },
    {
     "name": "stdout",
     "output_type": "stream",
     "text": [
      "i :  433\n",
      "i :  434\n",
      "i :  435\n",
      "i :  436\n",
      "i :  437\n"
     ]
    },
    {
     "name": "stderr",
     "output_type": "stream",
     "text": [
      "Batches: 100%|██████████| 1/1 [00:00<00:00, 80.11it/s]\n",
      "Batches: 100%|██████████| 1/1 [00:00<00:00, 83.92it/s]\n",
      "Batches: 100%|██████████| 1/1 [00:00<00:00, 88.43it/s]\n",
      "Batches: 100%|██████████| 1/1 [00:00<00:00, 91.63it/s]\n",
      "Batches: 100%|██████████| 1/1 [00:00<00:00, 91.19it/s]\n",
      "Batches:   0%|          | 0/1 [00:00<?, ?it/s]"
     ]
    },
    {
     "name": "stdout",
     "output_type": "stream",
     "text": [
      "i :  438\n",
      "i :  439\n"
     ]
    },
    {
     "name": "stderr",
     "output_type": "stream",
     "text": [
      "Batches: 100%|██████████| 1/1 [00:00<00:00, 90.86it/s]\n",
      "Batches: 100%|██████████| 1/1 [00:00<00:00, 73.74it/s]\n",
      "Batches:   0%|          | 0/1 [00:00<?, ?it/s]"
     ]
    },
    {
     "name": "stdout",
     "output_type": "stream",
     "text": [
      "i :  440\n"
     ]
    },
    {
     "name": "stderr",
     "output_type": "stream",
     "text": [
      "Batches: 100%|██████████| 1/1 [00:00<00:00, 89.31it/s]\n",
      "Batches: 100%|██████████| 1/1 [00:00<00:00, 91.38it/s]\n",
      "Batches: 100%|██████████| 1/1 [00:00<00:00, 90.83it/s]\n",
      "Batches: 100%|██████████| 1/1 [00:00<00:00, 85.30it/s]\n",
      "Batches: 100%|██████████| 1/1 [00:00<00:00, 94.15it/s]\n",
      "Batches: 100%|██████████| 1/1 [00:00<00:00, 91.81it/s]\n",
      "Batches: 100%|██████████| 1/1 [00:00<00:00, 88.89it/s]\n",
      "Batches: 100%|██████████| 1/1 [00:00<00:00, 90.50it/s]\n",
      "Batches: 100%|██████████| 1/1 [00:00<00:00, 92.35it/s]\n",
      "Batches: 100%|██████████| 1/1 [00:00<00:00, 87.41it/s]\n",
      "Batches:   0%|          | 0/1 [00:00<?, ?it/s]"
     ]
    },
    {
     "name": "stdout",
     "output_type": "stream",
     "text": [
      "i :  441\n",
      "i :  442\n",
      "i :  443\n",
      "i :  444\n",
      "i :  445\n"
     ]
    },
    {
     "name": "stderr",
     "output_type": "stream",
     "text": [
      "Batches: 100%|██████████| 1/1 [00:00<00:00, 87.47it/s]\n",
      "Batches: 100%|██████████| 1/1 [00:00<00:00, 78.36it/s]\n",
      "Batches: 100%|██████████| 1/1 [00:00<00:00, 79.86it/s]\n",
      "Batches: 100%|██████████| 1/1 [00:00<00:00, 90.45it/s]\n",
      "Batches:   0%|          | 0/1 [00:00<?, ?it/s]"
     ]
    },
    {
     "name": "stdout",
     "output_type": "stream",
     "text": [
      "i :  446\n",
      "i :  447\n"
     ]
    },
    {
     "name": "stderr",
     "output_type": "stream",
     "text": [
      "Batches: 100%|██████████| 1/1 [00:00<00:00, 88.09it/s]\n",
      "Batches: 100%|██████████| 1/1 [00:00<00:00, 57.59it/s]\n",
      "Batches:   0%|          | 0/1 [00:00<?, ?it/s]"
     ]
    },
    {
     "name": "stdout",
     "output_type": "stream",
     "text": [
      "i :  448\n"
     ]
    },
    {
     "name": "stderr",
     "output_type": "stream",
     "text": [
      "Batches: 100%|██████████| 1/1 [00:00<00:00, 90.97it/s]\n",
      "Batches: 100%|██████████| 1/1 [00:00<00:00, 90.85it/s]\n",
      "Batches: 100%|██████████| 1/1 [00:00<00:00, 91.90it/s]\n",
      "Batches: 100%|██████████| 1/1 [00:00<00:00, 88.98it/s]\n",
      "Batches: 100%|██████████| 1/1 [00:00<00:00, 89.08it/s]\n",
      "Batches: 100%|██████████| 1/1 [00:00<00:00, 90.41it/s]\n",
      "Batches: 100%|██████████| 1/1 [00:00<00:00, 91.33it/s]\n",
      "Batches: 100%|██████████| 1/1 [00:00<00:00, 88.51it/s]\n",
      "Batches: 100%|██████████| 1/1 [00:00<00:00, 90.15it/s]\n",
      "Batches: 100%|██████████| 1/1 [00:00<00:00, 86.74it/s]\n",
      "Batches:   0%|          | 0/1 [00:00<?, ?it/s]"
     ]
    },
    {
     "name": "stdout",
     "output_type": "stream",
     "text": [
      "i :  449\n",
      "i :  450\n",
      "i :  451\n",
      "i :  452\n",
      "i :  453\n"
     ]
    },
    {
     "name": "stderr",
     "output_type": "stream",
     "text": [
      "Batches: 100%|██████████| 1/1 [00:00<00:00, 86.50it/s]\n",
      "Batches: 100%|██████████| 1/1 [00:00<00:00, 90.03it/s]\n",
      "Batches: 100%|██████████| 1/1 [00:00<00:00, 90.52it/s]\n",
      "Batches: 100%|██████████| 1/1 [00:00<00:00, 88.89it/s]\n",
      "Batches:   0%|          | 0/1 [00:00<?, ?it/s]"
     ]
    },
    {
     "name": "stdout",
     "output_type": "stream",
     "text": [
      "i :  454\n",
      "i :  455\n"
     ]
    },
    {
     "name": "stderr",
     "output_type": "stream",
     "text": [
      "Batches: 100%|██████████| 1/1 [00:00<00:00, 87.38it/s]\n",
      "Batches: 100%|██████████| 1/1 [00:00<00:00, 87.94it/s]\n",
      "Batches: 100%|██████████| 1/1 [00:00<00:00, 90.44it/s]\n",
      "Batches:   0%|          | 0/1 [00:00<?, ?it/s]"
     ]
    },
    {
     "name": "stdout",
     "output_type": "stream",
     "text": [
      "i :  456\n",
      "i :  457\n"
     ]
    },
    {
     "name": "stderr",
     "output_type": "stream",
     "text": [
      "Batches: 100%|██████████| 1/1 [00:00<00:00, 87.27it/s]\n",
      "Batches: 100%|██████████| 1/1 [00:00<00:00, 90.43it/s]\n",
      "Batches: 100%|██████████| 1/1 [00:00<00:00, 91.14it/s]\n",
      "Batches: 100%|██████████| 1/1 [00:00<00:00, 90.03it/s]\n",
      "Batches: 100%|██████████| 1/1 [00:00<00:00, 88.48it/s]\n",
      "Batches: 100%|██████████| 1/1 [00:00<00:00, 89.17it/s]\n",
      "Batches: 100%|██████████| 1/1 [00:00<00:00, 90.83it/s]\n",
      "Batches: 100%|██████████| 1/1 [00:00<00:00, 87.85it/s]\n",
      "Batches: 100%|██████████| 1/1 [00:00<00:00, 88.26it/s]\n",
      "Batches: 100%|██████████| 1/1 [00:00<00:00, 89.45it/s]\n",
      "Batches:   0%|          | 0/1 [00:00<?, ?it/s]"
     ]
    },
    {
     "name": "stdout",
     "output_type": "stream",
     "text": [
      "i :  458\n",
      "i :  459\n",
      "i :  460\n",
      "i :  461\n",
      "i :  462\n"
     ]
    },
    {
     "name": "stderr",
     "output_type": "stream",
     "text": [
      "Batches: 100%|██████████| 1/1 [00:00<00:00, 85.12it/s]\n",
      "Batches: 100%|██████████| 1/1 [00:00<00:00, 88.13it/s]\n",
      "Batches: 100%|██████████| 1/1 [00:00<00:00, 88.29it/s]\n",
      "Batches: 100%|██████████| 1/1 [00:00<00:00, 90.58it/s]\n",
      "Batches:   0%|          | 0/1 [00:00<?, ?it/s]"
     ]
    },
    {
     "name": "stdout",
     "output_type": "stream",
     "text": [
      "i :  463\n",
      "i :  464\n"
     ]
    },
    {
     "name": "stderr",
     "output_type": "stream",
     "text": [
      "Batches: 100%|██████████| 1/1 [00:00<00:00, 85.62it/s]\n",
      "Batches: 100%|██████████| 1/1 [00:00<00:00, 89.79it/s]\n",
      "Batches: 100%|██████████| 1/1 [00:00<00:00, 90.51it/s]\n",
      "Batches: 100%|██████████| 1/1 [00:00<00:00, 89.74it/s]\n",
      "Batches:   0%|          | 0/1 [00:00<?, ?it/s]"
     ]
    },
    {
     "name": "stdout",
     "output_type": "stream",
     "text": [
      "i :  465\n",
      "i :  466\n"
     ]
    },
    {
     "name": "stderr",
     "output_type": "stream",
     "text": [
      "Batches: 100%|██████████| 1/1 [00:00<00:00, 86.16it/s]\n",
      "Batches: 100%|██████████| 1/1 [00:00<00:00, 89.31it/s]\n",
      "Batches: 100%|██████████| 1/1 [00:00<00:00, 87.70it/s]\n",
      "Batches: 100%|██████████| 1/1 [00:00<00:00, 89.44it/s]\n",
      "Batches: 100%|██████████| 1/1 [00:00<00:00, 88.85it/s]\n",
      "Batches: 100%|██████████| 1/1 [00:00<00:00, 89.46it/s]\n",
      "Batches: 100%|██████████| 1/1 [00:00<00:00, 90.43it/s]\n",
      "Batches: 100%|██████████| 1/1 [00:00<00:00, 89.40it/s]\n",
      "Batches: 100%|██████████| 1/1 [00:00<00:00, 90.80it/s]\n",
      "Batches: 100%|██████████| 1/1 [00:00<00:00, 89.64it/s]\n",
      "Batches:   0%|          | 0/1 [00:00<?, ?it/s]"
     ]
    },
    {
     "name": "stdout",
     "output_type": "stream",
     "text": [
      "i :  467\n",
      "i :  468\n",
      "i :  469\n",
      "i :  470\n",
      "i :  471\n"
     ]
    },
    {
     "name": "stderr",
     "output_type": "stream",
     "text": [
      "Batches: 100%|██████████| 1/1 [00:00<00:00, 76.13it/s]\n",
      "Batches: 100%|██████████| 1/1 [00:00<00:00, 90.37it/s]\n",
      "Batches: 100%|██████████| 1/1 [00:00<00:00, 80.86it/s]\n",
      "Batches:   0%|          | 0/1 [00:00<?, ?it/s]"
     ]
    },
    {
     "name": "stdout",
     "output_type": "stream",
     "text": [
      "i :  472\n"
     ]
    },
    {
     "name": "stderr",
     "output_type": "stream",
     "text": [
      "Batches: 100%|██████████| 1/1 [00:00<00:00, 63.78it/s]\n",
      "Batches: 100%|██████████| 1/1 [00:00<00:00, 89.74it/s]\n",
      "Batches: 100%|██████████| 1/1 [00:00<00:00, 92.79it/s]\n",
      "Batches: 100%|██████████| 1/1 [00:00<00:00, 89.69it/s]\n",
      "Batches:   0%|          | 0/1 [00:00<?, ?it/s]"
     ]
    },
    {
     "name": "stdout",
     "output_type": "stream",
     "text": [
      "i :  473\n",
      "i :  474\n"
     ]
    },
    {
     "name": "stderr",
     "output_type": "stream",
     "text": [
      "Batches: 100%|██████████| 1/1 [00:00<00:00, 89.46it/s]\n",
      "Batches: 100%|██████████| 1/1 [00:00<00:00, 88.39it/s]\n",
      "Batches: 100%|██████████| 1/1 [00:00<00:00, 88.88it/s]\n",
      "Batches: 100%|██████████| 1/1 [00:00<00:00, 89.37it/s]\n",
      "Batches: 100%|██████████| 1/1 [00:00<00:00, 89.73it/s]\n",
      "Batches: 100%|██████████| 1/1 [00:00<00:00, 87.40it/s]\n",
      "Batches: 100%|██████████| 1/1 [00:00<00:00, 88.82it/s]\n",
      "Batches: 100%|██████████| 1/1 [00:00<00:00, 87.63it/s]\n",
      "Batches: 100%|██████████| 1/1 [00:00<00:00, 91.64it/s]\n",
      "Batches: 100%|██████████| 1/1 [00:00<00:00, 90.73it/s]\n",
      "Batches:   0%|          | 0/1 [00:00<?, ?it/s]"
     ]
    },
    {
     "name": "stdout",
     "output_type": "stream",
     "text": [
      "i :  475\n",
      "i :  476\n",
      "i :  477\n",
      "i :  478\n",
      "i :  479\n"
     ]
    },
    {
     "name": "stderr",
     "output_type": "stream",
     "text": [
      "Batches: 100%|██████████| 1/1 [00:00<00:00, 87.23it/s]\n",
      "Batches: 100%|██████████| 1/1 [00:00<00:00, 91.17it/s]\n",
      "Batches: 100%|██████████| 1/1 [00:00<00:00, 88.98it/s]\n",
      "Batches:   0%|          | 0/1 [00:00<?, ?it/s]"
     ]
    },
    {
     "name": "stdout",
     "output_type": "stream",
     "text": [
      "i :  480\n",
      "i :  481\n"
     ]
    },
    {
     "name": "stderr",
     "output_type": "stream",
     "text": [
      "Batches: 100%|██████████| 1/1 [00:00<00:00, 79.37it/s]\n",
      "Batches: 100%|██████████| 1/1 [00:00<00:00, 86.51it/s]\n",
      "Batches: 100%|██████████| 1/1 [00:00<00:00, 86.80it/s]\n",
      "Batches: 100%|██████████| 1/1 [00:00<00:00, 89.59it/s]\n",
      "Batches:   0%|          | 0/1 [00:00<?, ?it/s]"
     ]
    },
    {
     "name": "stdout",
     "output_type": "stream",
     "text": [
      "i :  482\n",
      "i :  483\n"
     ]
    },
    {
     "name": "stderr",
     "output_type": "stream",
     "text": [
      "Batches: 100%|██████████| 1/1 [00:00<00:00, 59.78it/s]\n",
      "Batches: 100%|██████████| 1/1 [00:00<00:00, 65.00it/s]\n",
      "Batches: 100%|██████████| 1/1 [00:00<00:00, 91.05it/s]\n",
      "Batches: 100%|██████████| 1/1 [00:00<00:00, 89.82it/s]\n",
      "Batches: 100%|██████████| 1/1 [00:00<00:00, 90.67it/s]\n",
      "Batches: 100%|██████████| 1/1 [00:00<00:00, 89.19it/s]\n",
      "Batches: 100%|██████████| 1/1 [00:00<00:00, 61.16it/s]\n",
      "Batches: 100%|██████████| 1/1 [00:00<00:00, 89.45it/s]\n",
      "Batches:   0%|          | 0/1 [00:00<?, ?it/s]"
     ]
    },
    {
     "name": "stdout",
     "output_type": "stream",
     "text": [
      "i :  484\n",
      "i :  485\n",
      "i :  486\n",
      "i :  487\n"
     ]
    },
    {
     "name": "stderr",
     "output_type": "stream",
     "text": [
      "Batches: 100%|██████████| 1/1 [00:00<00:00, 86.28it/s]\n",
      "Batches: 100%|██████████| 1/1 [00:00<00:00, 92.34it/s]\n",
      "Batches: 100%|██████████| 1/1 [00:00<00:00, 87.89it/s]\n",
      "Batches: 100%|██████████| 1/1 [00:00<00:00, 88.33it/s]\n",
      "Batches:   0%|          | 0/1 [00:00<?, ?it/s]"
     ]
    },
    {
     "name": "stdout",
     "output_type": "stream",
     "text": [
      "i :  488\n",
      "i :  489\n"
     ]
    },
    {
     "name": "stderr",
     "output_type": "stream",
     "text": [
      "Batches: 100%|██████████| 1/1 [00:00<00:00, 88.88it/s]\n",
      "Batches: 100%|██████████| 1/1 [00:00<00:00, 89.04it/s]\n",
      "Batches: 100%|██████████| 1/1 [00:00<00:00, 87.81it/s]\n",
      "Batches: 100%|██████████| 1/1 [00:00<00:00, 89.49it/s]\n",
      "Batches: 100%|██████████| 1/1 [00:00<00:00, 88.01it/s]\n",
      "Batches:   0%|          | 0/1 [00:00<?, ?it/s]"
     ]
    },
    {
     "name": "stdout",
     "output_type": "stream",
     "text": [
      "i :  490\n",
      "i :  491\n"
     ]
    },
    {
     "name": "stderr",
     "output_type": "stream",
     "text": [
      "Batches: 100%|██████████| 1/1 [00:00<00:00, 89.22it/s]\n",
      "Batches: 100%|██████████| 1/1 [00:00<00:00, 87.81it/s]\n",
      "Batches: 100%|██████████| 1/1 [00:00<00:00, 88.93it/s]\n",
      "Batches: 100%|██████████| 1/1 [00:00<00:00, 89.74it/s]\n",
      "Batches: 100%|██████████| 1/1 [00:00<00:00, 89.21it/s]\n",
      "Batches: 100%|██████████| 1/1 [00:00<00:00, 91.62it/s]\n",
      "Batches: 100%|██████████| 1/1 [00:00<00:00, 92.60it/s]\n",
      "Batches: 100%|██████████| 1/1 [00:00<00:00, 86.40it/s]\n",
      "Batches: 100%|██████████| 1/1 [00:00<00:00, 88.92it/s]\n",
      "Batches:   0%|          | 0/1 [00:00<?, ?it/s]"
     ]
    },
    {
     "name": "stdout",
     "output_type": "stream",
     "text": [
      "i :  492\n",
      "i :  493\n",
      "i :  494\n",
      "i :  495\n",
      "i :  496\n"
     ]
    },
    {
     "name": "stderr",
     "output_type": "stream",
     "text": [
      "Batches: 100%|██████████| 1/1 [00:00<00:00, 77.06it/s]\n",
      "Batches: 100%|██████████| 1/1 [00:00<00:00, 86.23it/s]\n",
      "Batches: 100%|██████████| 1/1 [00:00<00:00, 75.03it/s]\n",
      "Batches:   0%|          | 0/1 [00:00<?, ?it/s]"
     ]
    },
    {
     "name": "stdout",
     "output_type": "stream",
     "text": [
      "i :  497\n"
     ]
    },
    {
     "name": "stderr",
     "output_type": "stream",
     "text": [
      "Batches: 100%|██████████| 1/1 [00:00<00:00, 78.44it/s]\n",
      "Batches: 100%|██████████| 1/1 [00:00<00:00, 78.03it/s]\n",
      "Batches: 100%|██████████| 1/1 [00:00<00:00, 56.24it/s]\n",
      "Batches: 100%|██████████| 1/1 [00:00<00:00, 81.10it/s]"
     ]
    },
    {
     "name": "stdout",
     "output_type": "stream",
     "text": [
      "i :  498\n",
      "i :  499\n"
     ]
    },
    {
     "name": "stderr",
     "output_type": "stream",
     "text": [
      "\n",
      "Batches: 100%|██████████| 1/1 [00:00<00:00, 84.47it/s]\n",
      "Batches: 100%|██████████| 1/1 [00:00<00:00, 83.52it/s]\n",
      "Batches: 100%|██████████| 1/1 [00:00<00:00, 83.62it/s]\n",
      "Batches: 100%|██████████| 1/1 [00:00<00:00, 83.42it/s]\n",
      "Batches: 100%|██████████| 1/1 [00:00<00:00, 83.09it/s]\n",
      "Batches: 100%|██████████| 1/1 [00:00<00:00, 83.20it/s]\n",
      "Batches: 100%|██████████| 1/1 [00:00<00:00, 82.94it/s]\n",
      "Batches: 100%|██████████| 1/1 [00:00<00:00, 85.62it/s]\n",
      "Batches: 100%|██████████| 1/1 [00:00<00:00, 83.44it/s]\n",
      "Batches:   0%|          | 0/1 [00:00<?, ?it/s]"
     ]
    },
    {
     "name": "stdout",
     "output_type": "stream",
     "text": [
      "i :  500\n",
      "i :  501\n",
      "i :  502\n",
      "i :  503\n",
      "i :  504\n"
     ]
    },
    {
     "name": "stderr",
     "output_type": "stream",
     "text": [
      "Batches: 100%|██████████| 1/1 [00:00<00:00, 83.36it/s]\n",
      "Batches: 100%|██████████| 1/1 [00:00<00:00, 67.22it/s]\n",
      "Batches:   0%|          | 0/1 [00:00<?, ?it/s]"
     ]
    },
    {
     "name": "stdout",
     "output_type": "stream",
     "text": [
      "i :  505\n"
     ]
    },
    {
     "name": "stderr",
     "output_type": "stream",
     "text": [
      "Batches: 100%|██████████| 1/1 [00:00<00:00, 76.00it/s]\n",
      "Batches: 100%|██████████| 1/1 [00:00<00:00, 90.47it/s]\n",
      "Batches: 100%|██████████| 1/1 [00:00<00:00, 90.75it/s]\n",
      "Batches: 100%|██████████| 1/1 [00:00<00:00, 88.51it/s]\n",
      "Batches: 100%|██████████| 1/1 [00:00<00:00, 88.88it/s]\n",
      "Batches:   0%|          | 0/1 [00:00<?, ?it/s]"
     ]
    },
    {
     "name": "stdout",
     "output_type": "stream",
     "text": [
      "i :  506\n",
      "i :  507\n"
     ]
    },
    {
     "name": "stderr",
     "output_type": "stream",
     "text": [
      "Batches: 100%|██████████| 1/1 [00:00<00:00, 88.33it/s]\n",
      "Batches: 100%|██████████| 1/1 [00:00<00:00, 58.52it/s]\n",
      "Batches: 100%|██████████| 1/1 [00:00<00:00, 88.32it/s]\n",
      "Batches: 100%|██████████| 1/1 [00:00<00:00, 50.87it/s]\n",
      "Batches: 100%|██████████| 1/1 [00:00<00:00, 88.80it/s]\n",
      "Batches: 100%|██████████| 1/1 [00:00<00:00, 85.67it/s]\n",
      "Batches: 100%|██████████| 1/1 [00:00<00:00, 85.90it/s]\n",
      "Batches: 100%|██████████| 1/1 [00:00<00:00, 85.48it/s]\n",
      "Batches: 100%|██████████| 1/1 [00:00<00:00, 84.57it/s]\n",
      "Batches:   0%|          | 0/1 [00:00<?, ?it/s]"
     ]
    },
    {
     "name": "stdout",
     "output_type": "stream",
     "text": [
      "i :  508\n",
      "i :  509\n",
      "i :  510\n",
      "i :  511\n",
      "i :  512\n"
     ]
    },
    {
     "name": "stderr",
     "output_type": "stream",
     "text": [
      "Batches: 100%|██████████| 1/1 [00:00<00:00, 84.55it/s]\n",
      "Batches: 100%|██████████| 1/1 [00:00<00:00, 86.38it/s]\n",
      "Batches:   0%|          | 0/1 [00:00<?, ?it/s]"
     ]
    },
    {
     "name": "stdout",
     "output_type": "stream",
     "text": [
      "i :  513\n"
     ]
    },
    {
     "name": "stderr",
     "output_type": "stream",
     "text": [
      "Batches: 100%|██████████| 1/1 [00:00<00:00, 80.47it/s]\n",
      "Batches: 100%|██████████| 1/1 [00:00<00:00, 79.89it/s]\n",
      "Batches: 100%|██████████| 1/1 [00:00<00:00, 79.48it/s]\n",
      "Batches: 100%|██████████| 1/1 [00:00<00:00, 81.16it/s]\n",
      "Batches:   0%|          | 0/1 [00:00<?, ?it/s]"
     ]
    },
    {
     "name": "stdout",
     "output_type": "stream",
     "text": [
      "i :  514\n",
      "i :  515\n"
     ]
    },
    {
     "name": "stderr",
     "output_type": "stream",
     "text": [
      "Batches: 100%|██████████| 1/1 [00:00<00:00, 67.34it/s]\n",
      "Batches: 100%|██████████| 1/1 [00:00<00:00, 81.03it/s]\n",
      "Batches: 100%|██████████| 1/1 [00:00<00:00, 81.17it/s]\n",
      "Batches: 100%|██████████| 1/1 [00:00<00:00, 81.33it/s]\n",
      "Batches: 100%|██████████| 1/1 [00:00<00:00, 84.51it/s]\n",
      "Batches: 100%|██████████| 1/1 [00:00<00:00, 81.87it/s]\n",
      "Batches: 100%|██████████| 1/1 [00:00<00:00, 84.03it/s]\n",
      "Batches: 100%|██████████| 1/1 [00:00<00:00, 81.97it/s]\n",
      "Batches: 100%|██████████| 1/1 [00:00<00:00, 80.97it/s]\n",
      "Batches: 100%|██████████| 1/1 [00:00<00:00, 80.21it/s]\n",
      "Batches:   0%|          | 0/1 [00:00<?, ?it/s]"
     ]
    },
    {
     "name": "stdout",
     "output_type": "stream",
     "text": [
      "i :  516\n",
      "i :  517\n",
      "i :  518\n",
      "i :  519\n",
      "i :  520\n"
     ]
    },
    {
     "name": "stderr",
     "output_type": "stream",
     "text": [
      "Batches: 100%|██████████| 1/1 [00:00<00:00, 53.97it/s]\n",
      "Batches: 100%|██████████| 1/1 [00:00<00:00, 90.54it/s]\n",
      "Batches:   0%|          | 0/1 [00:00<?, ?it/s]"
     ]
    },
    {
     "name": "stdout",
     "output_type": "stream",
     "text": [
      "i :  521\n"
     ]
    },
    {
     "name": "stderr",
     "output_type": "stream",
     "text": [
      "Batches: 100%|██████████| 1/1 [00:00<00:00, 89.16it/s]\n",
      "Batches: 100%|██████████| 1/1 [00:00<00:00, 58.06it/s]\n",
      "Batches: 100%|██████████| 1/1 [00:00<00:00, 89.99it/s]\n",
      "Batches: 100%|██████████| 1/1 [00:00<00:00, 93.56it/s]\n",
      "Batches:   0%|          | 0/1 [00:00<?, ?it/s]"
     ]
    },
    {
     "name": "stdout",
     "output_type": "stream",
     "text": [
      "i :  522\n",
      "i :  523\n"
     ]
    },
    {
     "name": "stderr",
     "output_type": "stream",
     "text": [
      "Batches: 100%|██████████| 1/1 [00:00<00:00, 88.00it/s]\n",
      "Batches: 100%|██████████| 1/1 [00:00<00:00, 89.84it/s]\n",
      "Batches: 100%|██████████| 1/1 [00:00<00:00, 89.68it/s]\n",
      "Batches: 100%|██████████| 1/1 [00:00<00:00, 89.86it/s]\n",
      "Batches: 100%|██████████| 1/1 [00:00<00:00, 89.00it/s]\n",
      "Batches: 100%|██████████| 1/1 [00:00<00:00, 90.36it/s]\n",
      "Batches: 100%|██████████| 1/1 [00:00<00:00, 89.65it/s]\n",
      "Batches: 100%|██████████| 1/1 [00:00<00:00, 89.71it/s]\n",
      "Batches: 100%|██████████| 1/1 [00:00<00:00, 89.34it/s]\n",
      "Batches: 100%|██████████| 1/1 [00:00<00:00, 89.16it/s]\n",
      "Batches: 100%|██████████| 1/1 [00:00<00:00, 85.33it/s]\n",
      "Batches:   0%|          | 0/1 [00:00<?, ?it/s]"
     ]
    },
    {
     "name": "stdout",
     "output_type": "stream",
     "text": [
      "i :  524\n",
      "i :  525\n",
      "i :  526\n",
      "i :  527\n",
      "i :  528\n"
     ]
    },
    {
     "name": "stderr",
     "output_type": "stream",
     "text": [
      "Batches: 100%|██████████| 1/1 [00:00<00:00, 84.89it/s]\n",
      "Batches: 100%|██████████| 1/1 [00:00<00:00, 70.76it/s]\n",
      "Batches:   0%|          | 0/1 [00:00<?, ?it/s]"
     ]
    },
    {
     "name": "stdout",
     "output_type": "stream",
     "text": [
      "i :  529\n"
     ]
    },
    {
     "name": "stderr",
     "output_type": "stream",
     "text": [
      "Batches: 100%|██████████| 1/1 [00:00<00:00, 74.07it/s]\n",
      "Batches: 100%|██████████| 1/1 [00:00<00:00, 72.37it/s]\n",
      "Batches: 100%|██████████| 1/1 [00:00<00:00, 84.72it/s]\n",
      "Batches:   0%|          | 0/1 [00:00<?, ?it/s]"
     ]
    },
    {
     "name": "stdout",
     "output_type": "stream",
     "text": [
      "i :  530\n",
      "i :  531\n"
     ]
    },
    {
     "name": "stderr",
     "output_type": "stream",
     "text": [
      "Batches: 100%|██████████| 1/1 [00:00<00:00, 56.31it/s]\n",
      "Batches: 100%|██████████| 1/1 [00:00<00:00, 88.27it/s]\n",
      "Batches: 100%|██████████| 1/1 [00:00<00:00, 87.06it/s]\n",
      "Batches: 100%|██████████| 1/1 [00:00<00:00, 86.40it/s]\n",
      "Batches: 100%|██████████| 1/1 [00:00<00:00, 52.80it/s]\n",
      "Batches: 100%|██████████| 1/1 [00:00<00:00, 86.73it/s]\n",
      "Batches: 100%|██████████| 1/1 [00:00<00:00, 86.12it/s]\n",
      "Batches: 100%|██████████| 1/1 [00:00<00:00, 86.75it/s]\n",
      "Batches: 100%|██████████| 1/1 [00:00<00:00, 85.44it/s]\n",
      "Batches:   0%|          | 0/1 [00:00<?, ?it/s]"
     ]
    },
    {
     "name": "stdout",
     "output_type": "stream",
     "text": [
      "i :  532\n",
      "i :  533\n",
      "i :  534\n",
      "i :  535\n"
     ]
    },
    {
     "name": "stderr",
     "output_type": "stream",
     "text": [
      "Batches: 100%|██████████| 1/1 [00:00<00:00, 85.77it/s]\n",
      "Batches: 100%|██████████| 1/1 [00:00<00:00, 82.85it/s]\n",
      "Batches: 100%|██████████| 1/1 [00:00<00:00, 82.70it/s]\n",
      "Batches:   0%|          | 0/1 [00:00<?, ?it/s]"
     ]
    },
    {
     "name": "stdout",
     "output_type": "stream",
     "text": [
      "i :  536\n",
      "i :  537\n"
     ]
    },
    {
     "name": "stderr",
     "output_type": "stream",
     "text": [
      "Batches: 100%|██████████| 1/1 [00:00<00:00, 80.73it/s]\n",
      "Batches: 100%|██████████| 1/1 [00:00<00:00, 81.89it/s]\n",
      "Batches: 100%|██████████| 1/1 [00:00<00:00, 87.84it/s]\n",
      "Batches: 100%|██████████| 1/1 [00:00<00:00, 83.73it/s]\n",
      "Batches:   0%|          | 0/1 [00:00<?, ?it/s]"
     ]
    },
    {
     "name": "stdout",
     "output_type": "stream",
     "text": [
      "i :  538\n",
      "i :  539\n"
     ]
    },
    {
     "name": "stderr",
     "output_type": "stream",
     "text": [
      "Batches: 100%|██████████| 1/1 [00:00<00:00, 80.76it/s]\n",
      "Batches: 100%|██████████| 1/1 [00:00<00:00, 81.70it/s]\n",
      "Batches: 100%|██████████| 1/1 [00:00<00:00, 87.58it/s]\n",
      "Batches: 100%|██████████| 1/1 [00:00<00:00, 82.83it/s]\n",
      "Batches: 100%|██████████| 1/1 [00:00<00:00, 82.64it/s]\n",
      "Batches: 100%|██████████| 1/1 [00:00<00:00, 81.29it/s]\n",
      "Batches: 100%|██████████| 1/1 [00:00<00:00, 85.39it/s]\n",
      "Batches: 100%|██████████| 1/1 [00:00<00:00, 79.42it/s]\n",
      "Batches: 100%|██████████| 1/1 [00:00<00:00, 89.19it/s]"
     ]
    },
    {
     "name": "stdout",
     "output_type": "stream",
     "text": [
      "i :  540\n",
      "i :  541\n",
      "i :  542\n",
      "i :  543\n"
     ]
    },
    {
     "name": "stderr",
     "output_type": "stream",
     "text": [
      "\n",
      "Batches: 100%|██████████| 1/1 [00:00<00:00, 81.03it/s]\n",
      "Batches: 100%|██████████| 1/1 [00:00<00:00, 79.12it/s]\n",
      "Batches: 100%|██████████| 1/1 [00:00<00:00, 89.49it/s]\n",
      "Batches: 100%|██████████| 1/1 [00:00<00:00, 85.31it/s]\n",
      "Batches:   0%|          | 0/1 [00:00<?, ?it/s]"
     ]
    },
    {
     "name": "stdout",
     "output_type": "stream",
     "text": [
      "i :  544\n",
      "i :  545\n"
     ]
    },
    {
     "name": "stderr",
     "output_type": "stream",
     "text": [
      "Batches: 100%|██████████| 1/1 [00:00<00:00, 79.58it/s]\n",
      "Batches: 100%|██████████| 1/1 [00:00<00:00, 92.03it/s]\n",
      "Batches: 100%|██████████| 1/1 [00:00<00:00, 75.24it/s]\n",
      "Batches:   0%|          | 0/1 [00:00<?, ?it/s]"
     ]
    },
    {
     "name": "stdout",
     "output_type": "stream",
     "text": [
      "i :  546\n",
      "i :  547\n"
     ]
    },
    {
     "name": "stderr",
     "output_type": "stream",
     "text": [
      "Batches: 100%|██████████| 1/1 [00:00<00:00, 78.51it/s]\n",
      "Batches: 100%|██████████| 1/1 [00:00<00:00, 82.87it/s]\n",
      "Batches: 100%|██████████| 1/1 [00:00<00:00, 84.88it/s]\n",
      "Batches: 100%|██████████| 1/1 [00:00<00:00, 88.89it/s]\n",
      "Batches: 100%|██████████| 1/1 [00:00<00:00, 78.89it/s]\n",
      "Batches: 100%|██████████| 1/1 [00:00<00:00, 84.35it/s]\n",
      "Batches: 100%|██████████| 1/1 [00:00<00:00, 82.72it/s]\n",
      "Batches: 100%|██████████| 1/1 [00:00<00:00, 87.50it/s]\n",
      "Batches: 100%|██████████| 1/1 [00:00<00:00, 85.11it/s]\n",
      "Batches:   0%|          | 0/1 [00:00<?, ?it/s]"
     ]
    },
    {
     "name": "stdout",
     "output_type": "stream",
     "text": [
      "i :  548\n",
      "i :  549\n",
      "i :  550\n",
      "i :  551\n"
     ]
    },
    {
     "name": "stderr",
     "output_type": "stream",
     "text": [
      "Batches: 100%|██████████| 1/1 [00:00<00:00, 79.93it/s]\n",
      "Batches: 100%|██████████| 1/1 [00:00<00:00, 78.67it/s]\n",
      "Batches: 100%|██████████| 1/1 [00:00<00:00, 82.02it/s]\n",
      "Batches:   0%|          | 0/1 [00:00<?, ?it/s]"
     ]
    },
    {
     "name": "stdout",
     "output_type": "stream",
     "text": [
      "i :  552\n",
      "i :  553\n"
     ]
    },
    {
     "name": "stderr",
     "output_type": "stream",
     "text": [
      "Batches: 100%|██████████| 1/1 [00:00<00:00, 79.51it/s]\n",
      "Batches: 100%|██████████| 1/1 [00:00<00:00, 85.64it/s]\n",
      "Batches: 100%|██████████| 1/1 [00:00<00:00, 81.46it/s]\n",
      "Batches: 100%|██████████| 1/1 [00:00<00:00, 81.35it/s]\n",
      "Batches:   0%|          | 0/1 [00:00<?, ?it/s]"
     ]
    },
    {
     "name": "stdout",
     "output_type": "stream",
     "text": [
      "i :  554\n",
      "i :  555\n"
     ]
    },
    {
     "name": "stderr",
     "output_type": "stream",
     "text": [
      "Batches: 100%|██████████| 1/1 [00:00<00:00, 83.50it/s]\n",
      "Batches: 100%|██████████| 1/1 [00:00<00:00, 60.00it/s]\n",
      "Batches: 100%|██████████| 1/1 [00:00<00:00, 87.43it/s]\n",
      "Batches: 100%|██████████| 1/1 [00:00<00:00, 87.26it/s]\n",
      "Batches: 100%|██████████| 1/1 [00:00<00:00, 86.78it/s]\n",
      "Batches: 100%|██████████| 1/1 [00:00<00:00, 83.93it/s]\n",
      "Batches: 100%|██████████| 1/1 [00:00<00:00, 89.65it/s]\n",
      "Batches: 100%|██████████| 1/1 [00:00<00:00, 89.82it/s]\n",
      "Batches:   0%|          | 0/1 [00:00<?, ?it/s]"
     ]
    },
    {
     "name": "stdout",
     "output_type": "stream",
     "text": [
      "i :  556\n",
      "i :  557\n",
      "i :  558\n",
      "i :  559\n"
     ]
    },
    {
     "name": "stderr",
     "output_type": "stream",
     "text": [
      "Batches: 100%|██████████| 1/1 [00:00<00:00, 81.40it/s]\n",
      "Batches: 100%|██████████| 1/1 [00:00<00:00, 84.43it/s]\n",
      "Batches: 100%|██████████| 1/1 [00:00<00:00, 87.12it/s]\n",
      "Batches: 100%|██████████| 1/1 [00:00<00:00, 87.85it/s]\n",
      "Batches:   0%|          | 0/1 [00:00<?, ?it/s]"
     ]
    },
    {
     "name": "stdout",
     "output_type": "stream",
     "text": [
      "i :  560\n",
      "i :  561\n"
     ]
    },
    {
     "name": "stderr",
     "output_type": "stream",
     "text": [
      "Batches: 100%|██████████| 1/1 [00:00<00:00, 54.59it/s]\n",
      "Batches: 100%|██████████| 1/1 [00:00<00:00, 91.05it/s]\n",
      "Batches: 100%|██████████| 1/1 [00:00<00:00, 90.72it/s]\n",
      "Batches: 100%|██████████| 1/1 [00:00<00:00, 93.01it/s]\n",
      "Batches: 100%|██████████| 1/1 [00:00<00:00, 89.69it/s]\n",
      "Batches:   0%|          | 0/1 [00:00<?, ?it/s]"
     ]
    },
    {
     "name": "stdout",
     "output_type": "stream",
     "text": [
      "i :  562\n",
      "i :  563\n"
     ]
    },
    {
     "name": "stderr",
     "output_type": "stream",
     "text": [
      "Batches: 100%|██████████| 1/1 [00:00<00:00, 85.81it/s]\n",
      "Batches: 100%|██████████| 1/1 [00:00<00:00, 70.49it/s]\n",
      "Batches: 100%|██████████| 1/1 [00:00<00:00, 87.60it/s]\n",
      "Batches: 100%|██████████| 1/1 [00:00<00:00, 89.80it/s]\n",
      "Batches: 100%|██████████| 1/1 [00:00<00:00, 89.18it/s]\n",
      "Batches: 100%|██████████| 1/1 [00:00<00:00, 89.80it/s]\n",
      "Batches: 100%|██████████| 1/1 [00:00<00:00, 89.45it/s]\n",
      "Batches: 100%|██████████| 1/1 [00:00<00:00, 89.06it/s]\n",
      "Batches:   0%|          | 0/1 [00:00<?, ?it/s]"
     ]
    },
    {
     "name": "stdout",
     "output_type": "stream",
     "text": [
      "i :  564\n",
      "i :  565\n",
      "i :  566\n",
      "i :  567\n"
     ]
    },
    {
     "name": "stderr",
     "output_type": "stream",
     "text": [
      "Batches: 100%|██████████| 1/1 [00:00<00:00, 86.22it/s]\n",
      "Batches: 100%|██████████| 1/1 [00:00<00:00, 74.28it/s]\n",
      "Batches: 100%|██████████| 1/1 [00:00<00:00, 88.59it/s]\n",
      "Batches: 100%|██████████| 1/1 [00:00<00:00, 90.08it/s]\n",
      "Batches:   0%|          | 0/1 [00:00<?, ?it/s]"
     ]
    },
    {
     "name": "stdout",
     "output_type": "stream",
     "text": [
      "i :  568\n",
      "i :  569\n"
     ]
    },
    {
     "name": "stderr",
     "output_type": "stream",
     "text": [
      "Batches: 100%|██████████| 1/1 [00:00<00:00, 87.93it/s]\n",
      "Batches: 100%|██████████| 1/1 [00:00<00:00, 88.55it/s]\n",
      "Batches: 100%|██████████| 1/1 [00:00<00:00, 89.42it/s]\n",
      "Batches: 100%|██████████| 1/1 [00:00<00:00, 92.28it/s]\n",
      "Batches:   0%|          | 0/1 [00:00<?, ?it/s]"
     ]
    },
    {
     "name": "stdout",
     "output_type": "stream",
     "text": [
      "i :  570\n",
      "i :  571\n"
     ]
    },
    {
     "name": "stderr",
     "output_type": "stream",
     "text": [
      "Batches: 100%|██████████| 1/1 [00:00<00:00, 89.81it/s]\n",
      "Batches: 100%|██████████| 1/1 [00:00<00:00, 88.85it/s]\n",
      "Batches: 100%|██████████| 1/1 [00:00<00:00, 89.62it/s]\n",
      "Batches: 100%|██████████| 1/1 [00:00<00:00, 88.84it/s]\n",
      "Batches: 100%|██████████| 1/1 [00:00<00:00, 88.99it/s]\n",
      "Batches: 100%|██████████| 1/1 [00:00<00:00, 90.89it/s]\n",
      "Batches: 100%|██████████| 1/1 [00:00<00:00, 90.76it/s]\n",
      "Batches: 100%|██████████| 1/1 [00:00<00:00, 92.39it/s]\n",
      "Batches:   0%|          | 0/1 [00:00<?, ?it/s]"
     ]
    },
    {
     "name": "stdout",
     "output_type": "stream",
     "text": [
      "i :  572\n",
      "i :  573\n",
      "i :  574\n",
      "i :  575\n"
     ]
    },
    {
     "name": "stderr",
     "output_type": "stream",
     "text": [
      "Batches: 100%|██████████| 1/1 [00:00<00:00, 90.23it/s]\n",
      "Batches: 100%|██████████| 1/1 [00:00<00:00, 89.60it/s]\n",
      "Batches: 100%|██████████| 1/1 [00:00<00:00, 93.14it/s]\n",
      "Batches: 100%|██████████| 1/1 [00:00<00:00, 88.53it/s]\n",
      "Batches: 100%|██████████| 1/1 [00:00<00:00, 87.71it/s]"
     ]
    },
    {
     "name": "stdout",
     "output_type": "stream",
     "text": [
      "i :  576\n",
      "i :  577\n"
     ]
    },
    {
     "name": "stderr",
     "output_type": "stream",
     "text": [
      "\n",
      "Batches: 100%|██████████| 1/1 [00:00<00:00, 86.84it/s]\n",
      "Batches: 100%|██████████| 1/1 [00:00<00:00, 90.03it/s]\n",
      "Batches: 100%|██████████| 1/1 [00:00<00:00, 88.41it/s]\n",
      "Batches:   0%|          | 0/1 [00:00<?, ?it/s]"
     ]
    },
    {
     "name": "stdout",
     "output_type": "stream",
     "text": [
      "i :  578\n",
      "i :  579\n"
     ]
    },
    {
     "name": "stderr",
     "output_type": "stream",
     "text": [
      "Batches: 100%|██████████| 1/1 [00:00<00:00, 88.00it/s]\n",
      "Batches: 100%|██████████| 1/1 [00:00<00:00, 73.89it/s]\n",
      "Batches: 100%|██████████| 1/1 [00:00<00:00, 88.57it/s]\n",
      "Batches: 100%|██████████| 1/1 [00:00<00:00, 90.88it/s]\n",
      "Batches: 100%|██████████| 1/1 [00:00<00:00, 92.98it/s]\n",
      "Batches: 100%|██████████| 1/1 [00:00<00:00, 91.02it/s]\n",
      "Batches: 100%|██████████| 1/1 [00:00<00:00, 93.27it/s]\n",
      "Batches: 100%|██████████| 1/1 [00:00<00:00, 94.14it/s]\n",
      "Batches:   0%|          | 0/1 [00:00<?, ?it/s]"
     ]
    },
    {
     "name": "stdout",
     "output_type": "stream",
     "text": [
      "i :  580\n",
      "i :  581\n",
      "i :  582\n",
      "i :  583\n"
     ]
    },
    {
     "name": "stderr",
     "output_type": "stream",
     "text": [
      "Batches: 100%|██████████| 1/1 [00:00<00:00, 91.07it/s]\n",
      "Batches: 100%|██████████| 1/1 [00:00<00:00, 86.84it/s]\n",
      "Batches: 100%|██████████| 1/1 [00:00<00:00, 89.05it/s]\n",
      "Batches: 100%|██████████| 1/1 [00:00<00:00, 88.46it/s]\n",
      "Batches:   0%|          | 0/1 [00:00<?, ?it/s]"
     ]
    },
    {
     "name": "stdout",
     "output_type": "stream",
     "text": [
      "i :  584\n",
      "i :  585\n"
     ]
    },
    {
     "name": "stderr",
     "output_type": "stream",
     "text": [
      "Batches: 100%|██████████| 1/1 [00:00<00:00, 87.60it/s]\n",
      "Batches: 100%|██████████| 1/1 [00:00<00:00, 87.98it/s]\n",
      "Batches: 100%|██████████| 1/1 [00:00<00:00, 87.49it/s]\n",
      "Batches: 100%|██████████| 1/1 [00:00<00:00, 93.02it/s]\n",
      "Batches:   0%|          | 0/1 [00:00<?, ?it/s]"
     ]
    },
    {
     "name": "stdout",
     "output_type": "stream",
     "text": [
      "i :  586\n",
      "i :  587\n"
     ]
    },
    {
     "name": "stderr",
     "output_type": "stream",
     "text": [
      "Batches: 100%|██████████| 1/1 [00:00<00:00, 90.94it/s]\n",
      "Batches: 100%|██████████| 1/1 [00:00<00:00, 74.87it/s]\n",
      "Batches: 100%|██████████| 1/1 [00:00<00:00, 88.48it/s]\n",
      "Batches: 100%|██████████| 1/1 [00:00<00:00, 92.52it/s]\n",
      "Batches: 100%|██████████| 1/1 [00:00<00:00, 87.51it/s]\n",
      "Batches: 100%|██████████| 1/1 [00:00<00:00, 89.09it/s]\n",
      "Batches: 100%|██████████| 1/1 [00:00<00:00, 93.35it/s]\n",
      "Batches: 100%|██████████| 1/1 [00:00<00:00, 90.58it/s]\n",
      "Batches:   0%|          | 0/1 [00:00<?, ?it/s]"
     ]
    },
    {
     "name": "stdout",
     "output_type": "stream",
     "text": [
      "i :  588\n",
      "i :  589\n",
      "i :  590\n",
      "i :  591\n"
     ]
    },
    {
     "name": "stderr",
     "output_type": "stream",
     "text": [
      "Batches: 100%|██████████| 1/1 [00:00<00:00, 86.80it/s]\n",
      "Batches: 100%|██████████| 1/1 [00:00<00:00, 74.00it/s]\n",
      "Batches: 100%|██████████| 1/1 [00:00<00:00, 89.38it/s]\n",
      "Batches: 100%|██████████| 1/1 [00:00<00:00, 93.23it/s]\n",
      "Batches:   0%|          | 0/1 [00:00<?, ?it/s]"
     ]
    },
    {
     "name": "stdout",
     "output_type": "stream",
     "text": [
      "i :  592\n",
      "i :  593\n"
     ]
    },
    {
     "name": "stderr",
     "output_type": "stream",
     "text": [
      "Batches: 100%|██████████| 1/1 [00:00<00:00, 89.27it/s]\n",
      "Batches: 100%|██████████| 1/1 [00:00<00:00, 73.16it/s]\n",
      "Batches: 100%|██████████| 1/1 [00:00<00:00, 90.15it/s]\n",
      "Batches: 100%|██████████| 1/1 [00:00<00:00, 89.92it/s]\n",
      "Batches:   0%|          | 0/1 [00:00<?, ?it/s]"
     ]
    },
    {
     "name": "stdout",
     "output_type": "stream",
     "text": [
      "i :  594\n",
      "i :  595\n"
     ]
    },
    {
     "name": "stderr",
     "output_type": "stream",
     "text": [
      "Batches: 100%|██████████| 1/1 [00:00<00:00, 89.11it/s]\n",
      "Batches: 100%|██████████| 1/1 [00:00<00:00, 91.12it/s]\n",
      "Batches: 100%|██████████| 1/1 [00:00<00:00, 88.92it/s]\n",
      "Batches: 100%|██████████| 1/1 [00:00<00:00, 89.84it/s]\n",
      "Batches: 100%|██████████| 1/1 [00:00<00:00, 91.86it/s]\n",
      "Batches: 100%|██████████| 1/1 [00:00<00:00, 87.24it/s]\n",
      "Batches: 100%|██████████| 1/1 [00:00<00:00, 90.01it/s]\n",
      "Batches: 100%|██████████| 1/1 [00:00<00:00, 90.18it/s]\n",
      "Batches:   0%|          | 0/1 [00:00<?, ?it/s]"
     ]
    },
    {
     "name": "stdout",
     "output_type": "stream",
     "text": [
      "i :  596\n",
      "i :  597\n",
      "i :  598\n",
      "i :  599\n"
     ]
    },
    {
     "name": "stderr",
     "output_type": "stream",
     "text": [
      "Batches: 100%|██████████| 1/1 [00:00<00:00, 88.67it/s]\n",
      "Batches: 100%|██████████| 1/1 [00:00<00:00, 86.94it/s]\n",
      "Batches: 100%|██████████| 1/1 [00:00<00:00, 88.80it/s]\n",
      "Batches: 100%|██████████| 1/1 [00:00<00:00, 90.33it/s]\n",
      "Batches:   0%|          | 0/1 [00:00<?, ?it/s]"
     ]
    },
    {
     "name": "stdout",
     "output_type": "stream",
     "text": [
      "i :  600\n",
      "i :  601\n"
     ]
    },
    {
     "name": "stderr",
     "output_type": "stream",
     "text": [
      "Batches: 100%|██████████| 1/1 [00:00<00:00, 72.22it/s]\n",
      "Batches: 100%|██████████| 1/1 [00:00<00:00, 77.10it/s]\n",
      "Batches: 100%|██████████| 1/1 [00:00<00:00, 90.61it/s]\n",
      "Batches: 100%|██████████| 1/1 [00:00<00:00, 90.41it/s]\n",
      "Batches:   0%|          | 0/1 [00:00<?, ?it/s]"
     ]
    },
    {
     "name": "stdout",
     "output_type": "stream",
     "text": [
      "i :  602\n",
      "i :  603\n"
     ]
    },
    {
     "name": "stderr",
     "output_type": "stream",
     "text": [
      "Batches: 100%|██████████| 1/1 [00:00<00:00, 89.23it/s]\n",
      "Batches: 100%|██████████| 1/1 [00:00<00:00, 89.43it/s]\n",
      "Batches: 100%|██████████| 1/1 [00:00<00:00, 91.32it/s]\n",
      "Batches: 100%|██████████| 1/1 [00:00<00:00, 63.85it/s]\n",
      "Batches: 100%|██████████| 1/1 [00:00<00:00, 90.22it/s]\n",
      "Batches: 100%|██████████| 1/1 [00:00<00:00, 82.87it/s]\n",
      "Batches: 100%|██████████| 1/1 [00:00<00:00, 80.89it/s]\n",
      "Batches:   0%|          | 0/1 [00:00<?, ?it/s]"
     ]
    },
    {
     "name": "stdout",
     "output_type": "stream",
     "text": [
      "i :  604\n",
      "i :  605\n",
      "i :  606\n",
      "i :  607\n"
     ]
    },
    {
     "name": "stderr",
     "output_type": "stream",
     "text": [
      "Batches: 100%|██████████| 1/1 [00:00<00:00, 83.44it/s]\n",
      "Batches: 100%|██████████| 1/1 [00:00<00:00, 85.51it/s]\n",
      "Batches: 100%|██████████| 1/1 [00:00<00:00, 82.20it/s]\n",
      "Batches: 100%|██████████| 1/1 [00:00<00:00, 82.30it/s]\n",
      "Batches:   0%|          | 0/1 [00:00<?, ?it/s]"
     ]
    },
    {
     "name": "stdout",
     "output_type": "stream",
     "text": [
      "i :  608\n",
      "i :  609\n"
     ]
    },
    {
     "name": "stderr",
     "output_type": "stream",
     "text": [
      "Batches: 100%|██████████| 1/1 [00:00<00:00, 80.09it/s]\n",
      "Batches: 100%|██████████| 1/1 [00:00<00:00, 83.47it/s]\n",
      "Batches: 100%|██████████| 1/1 [00:00<00:00, 80.78it/s]\n",
      "Batches: 100%|██████████| 1/1 [00:00<00:00, 82.05it/s]\n",
      "Batches:   0%|          | 0/1 [00:00<?, ?it/s]"
     ]
    },
    {
     "name": "stdout",
     "output_type": "stream",
     "text": [
      "i :  610\n",
      "i :  611\n"
     ]
    },
    {
     "name": "stderr",
     "output_type": "stream",
     "text": [
      "Batches: 100%|██████████| 1/1 [00:00<00:00, 78.89it/s]\n",
      "Batches: 100%|██████████| 1/1 [00:00<00:00, 81.89it/s]\n",
      "Batches: 100%|██████████| 1/1 [00:00<00:00, 81.78it/s]\n",
      "Batches: 100%|██████████| 1/1 [00:00<00:00, 82.99it/s]\n",
      "Batches: 100%|██████████| 1/1 [00:00<00:00, 81.75it/s]\n",
      "Batches: 100%|██████████| 1/1 [00:00<00:00, 81.61it/s]\n",
      "Batches: 100%|██████████| 1/1 [00:00<00:00, 83.94it/s]\n",
      "Batches: 100%|██████████| 1/1 [00:00<00:00, 61.91it/s]\n",
      "Batches:   0%|          | 0/1 [00:00<?, ?it/s]"
     ]
    },
    {
     "name": "stdout",
     "output_type": "stream",
     "text": [
      "i :  612\n",
      "i :  613\n",
      "i :  614\n",
      "i :  615\n"
     ]
    },
    {
     "name": "stderr",
     "output_type": "stream",
     "text": [
      "Batches: 100%|██████████| 1/1 [00:00<00:00, 87.16it/s]\n",
      "Batches: 100%|██████████| 1/1 [00:00<00:00, 87.62it/s]\n",
      "Batches: 100%|██████████| 1/1 [00:00<00:00, 93.46it/s]\n",
      "Batches: 100%|██████████| 1/1 [00:00<00:00, 91.56it/s]\n",
      "Batches:   0%|          | 0/1 [00:00<?, ?it/s]"
     ]
    },
    {
     "name": "stdout",
     "output_type": "stream",
     "text": [
      "i :  616\n",
      "i :  617\n"
     ]
    },
    {
     "name": "stderr",
     "output_type": "stream",
     "text": [
      "Batches: 100%|██████████| 1/1 [00:00<00:00, 86.98it/s]\n",
      "Batches: 100%|██████████| 1/1 [00:00<00:00, 88.05it/s]\n",
      "Batches: 100%|██████████| 1/1 [00:00<00:00, 89.05it/s]\n",
      "Batches: 100%|██████████| 1/1 [00:00<00:00, 88.22it/s]\n",
      "Batches: 100%|██████████| 1/1 [00:00<00:00, 78.37it/s]"
     ]
    },
    {
     "name": "stdout",
     "output_type": "stream",
     "text": [
      "i :  618\n",
      "i :  619\n"
     ]
    },
    {
     "name": "stderr",
     "output_type": "stream",
     "text": [
      "\n",
      "Batches: 100%|██████████| 1/1 [00:00<00:00, 87.77it/s]\n",
      "Batches: 100%|██████████| 1/1 [00:00<00:00, 76.44it/s]\n",
      "Batches: 100%|██████████| 1/1 [00:00<00:00, 89.65it/s]\n",
      "Batches: 100%|██████████| 1/1 [00:00<00:00, 92.51it/s]\n",
      "Batches: 100%|██████████| 1/1 [00:00<00:00, 91.41it/s]\n",
      "Batches: 100%|██████████| 1/1 [00:00<00:00, 90.25it/s]\n",
      "Batches: 100%|██████████| 1/1 [00:00<00:00, 89.93it/s]\n",
      "Batches: 100%|██████████| 1/1 [00:00<00:00, 89.75it/s]\n",
      "Batches:   0%|          | 0/1 [00:00<?, ?it/s]"
     ]
    },
    {
     "name": "stdout",
     "output_type": "stream",
     "text": [
      "i :  620\n",
      "i :  621\n",
      "i :  622\n",
      "i :  623\n"
     ]
    },
    {
     "name": "stderr",
     "output_type": "stream",
     "text": [
      "Batches: 100%|██████████| 1/1 [00:00<00:00, 86.59it/s]\n",
      "Batches: 100%|██████████| 1/1 [00:00<00:00, 89.65it/s]\n",
      "Batches: 100%|██████████| 1/1 [00:00<00:00, 89.87it/s]\n",
      "Batches: 100%|██████████| 1/1 [00:00<00:00, 90.03it/s]\n",
      "Batches:   0%|          | 0/1 [00:00<?, ?it/s]"
     ]
    },
    {
     "name": "stdout",
     "output_type": "stream",
     "text": [
      "i :  624\n",
      "i :  625\n"
     ]
    },
    {
     "name": "stderr",
     "output_type": "stream",
     "text": [
      "Batches: 100%|██████████| 1/1 [00:00<00:00, 87.95it/s]\n",
      "Batches: 100%|██████████| 1/1 [00:00<00:00, 89.52it/s]\n",
      "Batches: 100%|██████████| 1/1 [00:00<00:00, 90.96it/s]\n",
      "Batches: 100%|██████████| 1/1 [00:00<00:00, 89.57it/s]\n",
      "Batches:   0%|          | 0/1 [00:00<?, ?it/s]"
     ]
    },
    {
     "name": "stdout",
     "output_type": "stream",
     "text": [
      "i :  626\n",
      "i :  627\n"
     ]
    },
    {
     "name": "stderr",
     "output_type": "stream",
     "text": [
      "Batches: 100%|██████████| 1/1 [00:00<00:00, 85.55it/s]\n",
      "Batches: 100%|██████████| 1/1 [00:00<00:00, 89.44it/s]\n",
      "Batches: 100%|██████████| 1/1 [00:00<00:00, 90.04it/s]\n",
      "Batches: 100%|██████████| 1/1 [00:00<00:00, 89.64it/s]\n",
      "Batches: 100%|██████████| 1/1 [00:00<00:00, 89.47it/s]\n",
      "Batches: 100%|██████████| 1/1 [00:00<00:00, 58.32it/s]\n",
      "Batches: 100%|██████████| 1/1 [00:00<00:00, 90.37it/s]\n",
      "Batches: 100%|██████████| 1/1 [00:00<00:00, 91.21it/s]\n",
      "Batches:   0%|          | 0/1 [00:00<?, ?it/s]"
     ]
    },
    {
     "name": "stdout",
     "output_type": "stream",
     "text": [
      "i :  628\n",
      "i :  629\n",
      "i :  630\n",
      "i :  631\n"
     ]
    },
    {
     "name": "stderr",
     "output_type": "stream",
     "text": [
      "Batches: 100%|██████████| 1/1 [00:00<00:00, 89.53it/s]\n",
      "Batches: 100%|██████████| 1/1 [00:00<00:00, 91.77it/s]\n",
      "Batches: 100%|██████████| 1/1 [00:00<00:00, 90.79it/s]\n",
      "Batches: 100%|██████████| 1/1 [00:00<00:00, 91.42it/s]\n",
      "Batches:   0%|          | 0/1 [00:00<?, ?it/s]"
     ]
    },
    {
     "name": "stdout",
     "output_type": "stream",
     "text": [
      "i :  632\n",
      "i :  633\n"
     ]
    },
    {
     "name": "stderr",
     "output_type": "stream",
     "text": [
      "Batches: 100%|██████████| 1/1 [00:00<00:00, 88.32it/s]\n",
      "Batches: 100%|██████████| 1/1 [00:00<00:00, 91.12it/s]\n",
      "Batches: 100%|██████████| 1/1 [00:00<00:00, 89.51it/s]\n",
      "Batches: 100%|██████████| 1/1 [00:00<00:00, 90.14it/s]\n",
      "Batches:   0%|          | 0/1 [00:00<?, ?it/s]"
     ]
    },
    {
     "name": "stdout",
     "output_type": "stream",
     "text": [
      "i :  634\n",
      "i :  635\n"
     ]
    },
    {
     "name": "stderr",
     "output_type": "stream",
     "text": [
      "Batches: 100%|██████████| 1/1 [00:00<00:00, 88.36it/s]\n",
      "Batches: 100%|██████████| 1/1 [00:00<00:00, 88.05it/s]\n",
      "Batches: 100%|██████████| 1/1 [00:00<00:00, 89.99it/s]\n",
      "Batches: 100%|██████████| 1/1 [00:00<00:00, 91.60it/s]\n",
      "Batches: 100%|██████████| 1/1 [00:00<00:00, 90.50it/s]\n",
      "Batches: 100%|██████████| 1/1 [00:00<00:00, 88.95it/s]\n",
      "Batches: 100%|██████████| 1/1 [00:00<00:00, 88.39it/s]\n",
      "Batches: 100%|██████████| 1/1 [00:00<00:00, 90.96it/s]\n",
      "Batches: 100%|██████████| 1/1 [00:00<00:00, 89.69it/s]\n",
      "Batches:   0%|          | 0/1 [00:00<?, ?it/s]"
     ]
    },
    {
     "name": "stdout",
     "output_type": "stream",
     "text": [
      "i :  636\n",
      "i :  637\n",
      "i :  638\n",
      "i :  639\n",
      "i :  640\n"
     ]
    },
    {
     "name": "stderr",
     "output_type": "stream",
     "text": [
      "Batches: 100%|██████████| 1/1 [00:00<00:00, 89.55it/s]\n",
      "Batches: 100%|██████████| 1/1 [00:00<00:00, 89.93it/s]\n",
      "Batches: 100%|██████████| 1/1 [00:00<00:00, 90.54it/s]\n",
      "Batches: 100%|██████████| 1/1 [00:00<00:00, 89.80it/s]\n",
      "Batches:   0%|          | 0/1 [00:00<?, ?it/s]"
     ]
    },
    {
     "name": "stdout",
     "output_type": "stream",
     "text": [
      "i :  641\n",
      "i :  642\n"
     ]
    },
    {
     "name": "stderr",
     "output_type": "stream",
     "text": [
      "Batches: 100%|██████████| 1/1 [00:00<00:00, 87.80it/s]\n",
      "Batches: 100%|██████████| 1/1 [00:00<00:00, 90.50it/s]\n",
      "Batches: 100%|██████████| 1/1 [00:00<00:00, 90.25it/s]\n",
      "Batches: 100%|██████████| 1/1 [00:00<00:00, 89.81it/s]\n",
      "Batches:   0%|          | 0/1 [00:00<?, ?it/s]"
     ]
    },
    {
     "name": "stdout",
     "output_type": "stream",
     "text": [
      "i :  643\n",
      "i :  644\n"
     ]
    },
    {
     "name": "stderr",
     "output_type": "stream",
     "text": [
      "Batches: 100%|██████████| 1/1 [00:00<00:00, 88.68it/s]\n",
      "Batches: 100%|██████████| 1/1 [00:00<00:00, 89.46it/s]\n",
      "Batches: 100%|██████████| 1/1 [00:00<00:00, 91.22it/s]\n",
      "Batches: 100%|██████████| 1/1 [00:00<00:00, 90.09it/s]\n",
      "Batches: 100%|██████████| 1/1 [00:00<00:00, 89.00it/s]\n",
      "Batches: 100%|██████████| 1/1 [00:00<00:00, 90.28it/s]\n",
      "Batches: 100%|██████████| 1/1 [00:00<00:00, 91.26it/s]\n",
      "Batches: 100%|██████████| 1/1 [00:00<00:00, 89.95it/s]\n",
      "Batches: 100%|██████████| 1/1 [00:00<00:00, 91.95it/s]\n",
      "Batches: 100%|██████████| 1/1 [00:00<00:00, 90.58it/s]\n",
      "Batches:   0%|          | 0/1 [00:00<?, ?it/s]"
     ]
    },
    {
     "name": "stdout",
     "output_type": "stream",
     "text": [
      "i :  645\n",
      "i :  646\n",
      "i :  647\n",
      "i :  648\n",
      "i :  649\n"
     ]
    },
    {
     "name": "stderr",
     "output_type": "stream",
     "text": [
      "Batches: 100%|██████████| 1/1 [00:00<00:00, 78.17it/s]\n",
      "Batches: 100%|██████████| 1/1 [00:00<00:00, 81.72it/s]\n",
      "Batches: 100%|██████████| 1/1 [00:00<00:00, 87.36it/s]\n",
      "Batches: 100%|██████████| 1/1 [00:00<00:00, 90.60it/s]"
     ]
    },
    {
     "name": "stdout",
     "output_type": "stream",
     "text": [
      "i :  650\n"
     ]
    },
    {
     "name": "stderr",
     "output_type": "stream",
     "text": [
      "\n",
      "Batches: 100%|██████████| 1/1 [00:00<00:00, 65.35it/s]\n",
      "Batches: 100%|██████████| 1/1 [00:00<00:00, 72.36it/s]\n",
      "Batches: 100%|██████████| 1/1 [00:00<00:00, 90.64it/s]\n",
      "Batches:   0%|          | 0/1 [00:00<?, ?it/s]"
     ]
    },
    {
     "name": "stdout",
     "output_type": "stream",
     "text": [
      "i :  651\n",
      "i :  652\n"
     ]
    },
    {
     "name": "stderr",
     "output_type": "stream",
     "text": [
      "Batches: 100%|██████████| 1/1 [00:00<00:00, 88.62it/s]\n",
      "Batches: 100%|██████████| 1/1 [00:00<00:00, 90.17it/s]\n",
      "Batches: 100%|██████████| 1/1 [00:00<00:00, 88.50it/s]\n",
      "Batches: 100%|██████████| 1/1 [00:00<00:00, 90.57it/s]\n",
      "Batches: 100%|██████████| 1/1 [00:00<00:00, 89.23it/s]\n",
      "Batches: 100%|██████████| 1/1 [00:00<00:00, 88.40it/s]\n",
      "Batches: 100%|██████████| 1/1 [00:00<00:00, 90.21it/s]\n",
      "Batches: 100%|██████████| 1/1 [00:00<00:00, 90.39it/s]\n",
      "Batches: 100%|██████████| 1/1 [00:00<00:00, 83.50it/s]\n",
      "Batches: 100%|██████████| 1/1 [00:00<00:00, 89.90it/s]\n",
      "Batches:   0%|          | 0/1 [00:00<?, ?it/s]"
     ]
    },
    {
     "name": "stdout",
     "output_type": "stream",
     "text": [
      "i :  653\n",
      "i :  654\n",
      "i :  655\n",
      "i :  656\n",
      "i :  657\n"
     ]
    },
    {
     "name": "stderr",
     "output_type": "stream",
     "text": [
      "Batches: 100%|██████████| 1/1 [00:00<00:00, 88.64it/s]\n",
      "Batches: 100%|██████████| 1/1 [00:00<00:00, 88.13it/s]\n",
      "Batches:   0%|          | 0/1 [00:00<?, ?it/s]"
     ]
    },
    {
     "name": "stdout",
     "output_type": "stream",
     "text": [
      "i :  658\n"
     ]
    },
    {
     "name": "stderr",
     "output_type": "stream",
     "text": [
      "Batches: 100%|██████████| 1/1 [00:00<00:00, 87.47it/s]\n",
      "Batches: 100%|██████████| 1/1 [00:00<00:00, 89.78it/s]\n",
      "Batches: 100%|██████████| 1/1 [00:00<00:00, 91.11it/s]\n",
      "Batches: 100%|██████████| 1/1 [00:00<00:00, 88.15it/s]\n",
      "Batches: 100%|██████████| 1/1 [00:00<00:00, 89.39it/s]\n",
      "Batches:   0%|          | 0/1 [00:00<?, ?it/s]"
     ]
    },
    {
     "name": "stdout",
     "output_type": "stream",
     "text": [
      "i :  659\n",
      "i :  660\n",
      "i :  661\n"
     ]
    },
    {
     "name": "stderr",
     "output_type": "stream",
     "text": [
      "Batches: 100%|██████████| 1/1 [00:00<00:00, 76.92it/s]\n",
      "Batches: 100%|██████████| 1/1 [00:00<00:00, 88.82it/s]\n",
      "Batches: 100%|██████████| 1/1 [00:00<00:00, 87.68it/s]\n",
      "Batches: 100%|██████████| 1/1 [00:00<00:00, 91.05it/s]\n",
      "Batches: 100%|██████████| 1/1 [00:00<00:00, 90.98it/s]\n",
      "Batches: 100%|██████████| 1/1 [00:00<00:00, 88.32it/s]\n",
      "Batches: 100%|██████████| 1/1 [00:00<00:00, 89.89it/s]\n",
      "Batches: 100%|██████████| 1/1 [00:00<00:00, 90.59it/s]\n",
      "Batches: 100%|██████████| 1/1 [00:00<00:00, 86.99it/s]\n",
      "Batches: 100%|██████████| 1/1 [00:00<00:00, 88.54it/s]\n"
     ]
    },
    {
     "name": "stdout",
     "output_type": "stream",
     "text": [
      "i :  662\n",
      "i :  663\n",
      "i :  664\n",
      "i :  665\n",
      "i :  666\n"
     ]
    },
    {
     "name": "stderr",
     "output_type": "stream",
     "text": [
      "Batches: 100%|██████████| 1/1 [00:00<00:00, 85.84it/s]\n",
      "Batches: 100%|██████████| 1/1 [00:00<00:00, 89.67it/s]\n"
     ]
    },
    {
     "name": "stdout",
     "output_type": "stream",
     "text": [
      "i :  667\n"
     ]
    },
    {
     "name": "stderr",
     "output_type": "stream",
     "text": [
      "Batches: 100%|██████████| 1/1 [00:00<00:00, 78.16it/s]\n",
      "Batches: 100%|██████████| 1/1 [00:00<00:00, 81.72it/s]\n",
      "Batches: 100%|██████████| 1/1 [00:00<00:00, 90.85it/s]\n",
      "Batches: 100%|██████████| 1/1 [00:00<00:00, 89.27it/s]\n",
      "Batches: 100%|██████████| 1/1 [00:00<00:00, 91.03it/s]\n",
      "Batches:   0%|          | 0/1 [00:00<?, ?it/s]"
     ]
    },
    {
     "name": "stdout",
     "output_type": "stream",
     "text": [
      "i :  668\n",
      "i :  669\n"
     ]
    },
    {
     "name": "stderr",
     "output_type": "stream",
     "text": [
      "Batches: 100%|██████████| 1/1 [00:00<00:00, 87.37it/s]\n",
      "Batches: 100%|██████████| 1/1 [00:00<00:00, 80.68it/s]\n",
      "Batches: 100%|██████████| 1/1 [00:00<00:00, 81.92it/s]\n",
      "Batches: 100%|██████████| 1/1 [00:00<00:00, 89.19it/s]\n",
      "Batches: 100%|██████████| 1/1 [00:00<00:00, 90.83it/s]\n",
      "Batches: 100%|██████████| 1/1 [00:00<00:00, 90.24it/s]\n",
      "Batches: 100%|██████████| 1/1 [00:00<00:00, 87.91it/s]\n",
      "Batches: 100%|██████████| 1/1 [00:00<00:00, 52.79it/s]\n",
      "Batches: 100%|██████████| 1/1 [00:00<00:00, 90.24it/s]\n",
      "Batches: 100%|██████████| 1/1 [00:00<00:00, 89.19it/s]\n",
      "Batches:   0%|          | 0/1 [00:00<?, ?it/s]"
     ]
    },
    {
     "name": "stdout",
     "output_type": "stream",
     "text": [
      "i :  670\n",
      "i :  671\n",
      "i :  672\n",
      "i :  673\n",
      "i :  674\n"
     ]
    },
    {
     "name": "stderr",
     "output_type": "stream",
     "text": [
      "Batches: 100%|██████████| 1/1 [00:00<00:00, 85.08it/s]\n",
      "Batches: 100%|██████████| 1/1 [00:00<00:00, 91.24it/s]\n",
      "Batches: 100%|██████████| 1/1 [00:00<00:00, 89.51it/s]\n",
      "Batches: 100%|██████████| 1/1 [00:00<00:00, 90.67it/s]\n",
      "Batches: 100%|██████████| 1/1 [00:00<00:00, 90.93it/s]\n",
      "Batches: 100%|██████████| 1/1 [00:00<00:00, 90.90it/s]\n",
      "Batches: 100%|██████████| 1/1 [00:00<00:00, 89.73it/s]\n",
      "Batches: 100%|██████████| 1/1 [00:00<00:00, 88.36it/s]\n",
      "Batches: 100%|██████████| 1/1 [00:00<00:00, 89.64it/s]\n",
      "Batches: 100%|██████████| 1/1 [00:00<00:00, 91.02it/s]\n",
      "Batches: 100%|██████████| 1/1 [00:00<00:00, 90.64it/s]\n",
      "Batches: 100%|██████████| 1/1 [00:00<00:00, 91.29it/s]\n",
      "Batches: 100%|██████████| 1/1 [00:00<00:00, 89.05it/s]\n",
      "Batches: 100%|██████████| 1/1 [00:00<00:00, 90.80it/s]\n",
      "Batches: 100%|██████████| 1/1 [00:00<00:00, 89.89it/s]\n",
      "Batches: 100%|██████████| 1/1 [00:00<00:00, 90.07it/s]\n",
      "Batches: 100%|██████████| 1/1 [00:00<00:00, 89.18it/s]\n",
      "Batches:   0%|          | 0/1 [00:00<?, ?it/s]"
     ]
    },
    {
     "name": "stdout",
     "output_type": "stream",
     "text": [
      "i :  675\n",
      "i :  676\n",
      "i :  677\n",
      "i :  678\n",
      "i :  679\n",
      "i :  680\n",
      "i :  681\n",
      "i :  682\n",
      "i :  683\n"
     ]
    },
    {
     "name": "stderr",
     "output_type": "stream",
     "text": [
      "Batches: 100%|██████████| 1/1 [00:00<00:00, 73.88it/s]\n",
      "Batches: 100%|██████████| 1/1 [00:00<00:00, 89.45it/s]\n",
      "Batches: 100%|██████████| 1/1 [00:00<00:00, 86.31it/s]\n",
      "Batches: 100%|██████████| 1/1 [00:00<00:00, 91.07it/s]\n",
      "Batches: 100%|██████████| 1/1 [00:00<00:00, 87.17it/s]\n",
      "Batches: 100%|██████████| 1/1 [00:00<00:00, 90.71it/s]\n",
      "Batches: 100%|██████████| 1/1 [00:00<00:00, 90.65it/s]\n",
      "Batches: 100%|██████████| 1/1 [00:00<00:00, 89.39it/s]\n",
      "Batches: 100%|██████████| 1/1 [00:00<00:00, 87.62it/s]\n",
      "Batches: 100%|██████████| 1/1 [00:00<00:00, 89.19it/s]\n",
      "Batches: 100%|██████████| 1/1 [00:00<00:00, 86.96it/s]\n",
      "Batches: 100%|██████████| 1/1 [00:00<00:00, 89.65it/s]\n",
      "Batches: 100%|██████████| 1/1 [00:00<00:00, 89.98it/s]\n",
      "Batches: 100%|██████████| 1/1 [00:00<00:00, 89.33it/s]\n",
      "Batches: 100%|██████████| 1/1 [00:00<00:00, 90.80it/s]\n",
      "Batches: 100%|██████████| 1/1 [00:00<00:00, 89.69it/s]\n",
      "Batches: 100%|██████████| 1/1 [00:00<00:00, 90.48it/s]\n",
      "Batches: 100%|██████████| 1/1 [00:00<00:00, 89.27it/s]\n",
      "Batches:   0%|          | 0/1 [00:00<?, ?it/s]"
     ]
    },
    {
     "name": "stdout",
     "output_type": "stream",
     "text": [
      "i :  684\n",
      "i :  685\n",
      "i :  686\n",
      "i :  687\n",
      "i :  688\n",
      "i :  689\n",
      "i :  690\n",
      "i :  691\n",
      "i :  692\n"
     ]
    },
    {
     "name": "stderr",
     "output_type": "stream",
     "text": [
      "Batches: 100%|██████████| 1/1 [00:00<00:00, 85.70it/s]\n",
      "Batches: 100%|██████████| 1/1 [00:00<00:00, 88.99it/s]\n",
      "Batches: 100%|██████████| 1/1 [00:00<00:00, 77.78it/s]\n",
      "Batches: 100%|██████████| 1/1 [00:00<00:00, 88.64it/s]\n",
      "Batches: 100%|██████████| 1/1 [00:00<00:00, 89.98it/s]\n",
      "Batches: 100%|██████████| 1/1 [00:00<00:00, 89.71it/s]\n",
      "Batches: 100%|██████████| 1/1 [00:00<00:00, 89.83it/s]\n",
      "Batches: 100%|██████████| 1/1 [00:00<00:00, 91.85it/s]\n",
      "Batches: 100%|██████████| 1/1 [00:00<00:00, 89.64it/s]\n",
      "Batches: 100%|██████████| 1/1 [00:00<00:00, 89.92it/s]\n",
      "Batches: 100%|██████████| 1/1 [00:00<00:00, 88.47it/s]\n",
      "Batches: 100%|██████████| 1/1 [00:00<00:00, 89.68it/s]\n",
      "Batches: 100%|██████████| 1/1 [00:00<00:00, 90.83it/s]\n",
      "Batches: 100%|██████████| 1/1 [00:00<00:00, 89.50it/s]\n",
      "Batches: 100%|██████████| 1/1 [00:00<00:00, 90.09it/s]\n",
      "Batches: 100%|██████████| 1/1 [00:00<00:00, 89.84it/s]\n",
      "Batches: 100%|██████████| 1/1 [00:00<00:00, 90.58it/s]\n",
      "Batches: 100%|██████████| 1/1 [00:00<00:00, 89.92it/s]\n"
     ]
    },
    {
     "name": "stdout",
     "output_type": "stream",
     "text": [
      "i :  693\n",
      "i :  694\n",
      "i :  695\n",
      "i :  696\n",
      "i :  697\n",
      "i :  698\n",
      "i :  699\n",
      "i :  700\n",
      "i :  701\n"
     ]
    },
    {
     "name": "stderr",
     "output_type": "stream",
     "text": [
      "Batches: 100%|██████████| 1/1 [00:00<00:00, 85.12it/s]\n",
      "Batches: 100%|██████████| 1/1 [00:00<00:00, 89.42it/s]\n",
      "Batches: 100%|██████████| 1/1 [00:00<00:00, 86.67it/s]\n",
      "Batches: 100%|██████████| 1/1 [00:00<00:00, 89.71it/s]\n",
      "Batches: 100%|██████████| 1/1 [00:00<00:00, 87.56it/s]\n",
      "Batches: 100%|██████████| 1/1 [00:00<00:00, 89.36it/s]\n",
      "Batches: 100%|██████████| 1/1 [00:00<00:00, 87.74it/s]\n",
      "Batches: 100%|██████████| 1/1 [00:00<00:00, 89.74it/s]\n",
      "Batches: 100%|██████████| 1/1 [00:00<00:00, 88.10it/s]\n",
      "Batches: 100%|██████████| 1/1 [00:00<00:00, 87.87it/s]\n",
      "Batches: 100%|██████████| 1/1 [00:00<00:00, 88.27it/s]\n",
      "Batches: 100%|██████████| 1/1 [00:00<00:00, 88.83it/s]\n",
      "Batches: 100%|██████████| 1/1 [00:00<00:00, 87.03it/s]\n",
      "Batches: 100%|██████████| 1/1 [00:00<00:00, 88.16it/s]\n",
      "Batches: 100%|██████████| 1/1 [00:00<00:00, 91.05it/s]\n",
      "Batches: 100%|██████████| 1/1 [00:00<00:00, 88.67it/s]\n",
      "Batches: 100%|██████████| 1/1 [00:00<00:00, 89.88it/s]\n",
      "Batches:   0%|          | 0/1 [00:00<?, ?it/s]"
     ]
    },
    {
     "name": "stdout",
     "output_type": "stream",
     "text": [
      "i :  702\n",
      "i :  703\n",
      "i :  704\n",
      "i :  705\n",
      "i :  706\n",
      "i :  707\n",
      "i :  708\n",
      "i :  709\n"
     ]
    },
    {
     "name": "stderr",
     "output_type": "stream",
     "text": [
      "Batches: 100%|██████████| 1/1 [00:00<00:00, 78.51it/s]\n",
      "Batches: 100%|██████████| 1/1 [00:00<00:00, 89.12it/s]\n",
      "Batches: 100%|██████████| 1/1 [00:00<00:00, 89.09it/s]\n",
      "Batches: 100%|██████████| 1/1 [00:00<00:00, 89.09it/s]\n",
      "Batches: 100%|██████████| 1/1 [00:00<00:00, 89.16it/s]\n",
      "Batches: 100%|██████████| 1/1 [00:00<00:00, 87.93it/s]\n",
      "Batches: 100%|██████████| 1/1 [00:00<00:00, 89.69it/s]\n",
      "Batches: 100%|██████████| 1/1 [00:00<00:00, 87.89it/s]\n",
      "Batches: 100%|██████████| 1/1 [00:00<00:00, 89.43it/s]\n",
      "Batches: 100%|██████████| 1/1 [00:00<00:00, 86.80it/s]\n",
      "Batches: 100%|██████████| 1/1 [00:00<00:00, 88.30it/s]\n",
      "Batches: 100%|██████████| 1/1 [00:00<00:00, 87.44it/s]\n",
      "Batches: 100%|██████████| 1/1 [00:00<00:00, 89.05it/s]\n",
      "Batches: 100%|██████████| 1/1 [00:00<00:00, 80.02it/s]\n",
      "Batches: 100%|██████████| 1/1 [00:00<00:00, 85.39it/s]\n",
      "Batches: 100%|██████████| 1/1 [00:00<00:00, 88.69it/s]\n",
      "Batches: 100%|██████████| 1/1 [00:00<00:00, 89.66it/s]\n"
     ]
    },
    {
     "name": "stdout",
     "output_type": "stream",
     "text": [
      "i :  710\n",
      "i :  711\n",
      "i :  712\n",
      "i :  713\n",
      "i :  714\n",
      "i :  715\n",
      "i :  716\n",
      "i :  717\n",
      "i :  718\n"
     ]
    },
    {
     "name": "stderr",
     "output_type": "stream",
     "text": [
      "Batches: 100%|██████████| 1/1 [00:00<00:00, 86.24it/s]\n",
      "Batches: 100%|██████████| 1/1 [00:00<00:00, 89.10it/s]\n",
      "Batches: 100%|██████████| 1/1 [00:00<00:00, 78.51it/s]\n",
      "Batches: 100%|██████████| 1/1 [00:00<00:00, 81.34it/s]\n",
      "Batches: 100%|██████████| 1/1 [00:00<00:00, 91.29it/s]\n",
      "Batches: 100%|██████████| 1/1 [00:00<00:00, 88.97it/s]\n",
      "Batches: 100%|██████████| 1/1 [00:00<00:00, 88.43it/s]\n",
      "Batches: 100%|██████████| 1/1 [00:00<00:00, 88.42it/s]\n",
      "Batches: 100%|██████████| 1/1 [00:00<00:00, 90.42it/s]\n",
      "Batches: 100%|██████████| 1/1 [00:00<00:00, 88.60it/s]\n",
      "Batches: 100%|██████████| 1/1 [00:00<00:00, 90.30it/s]\n",
      "Batches: 100%|██████████| 1/1 [00:00<00:00, 89.89it/s]\n",
      "Batches: 100%|██████████| 1/1 [00:00<00:00, 89.48it/s]\n",
      "Batches: 100%|██████████| 1/1 [00:00<00:00, 90.15it/s]\n",
      "Batches: 100%|██████████| 1/1 [00:00<00:00, 89.94it/s]\n",
      "Batches: 100%|██████████| 1/1 [00:00<00:00, 89.17it/s]\n",
      "Batches: 100%|██████████| 1/1 [00:00<00:00, 90.73it/s]\n",
      "Batches: 100%|██████████| 1/1 [00:00<00:00, 89.66it/s]\n"
     ]
    },
    {
     "name": "stdout",
     "output_type": "stream",
     "text": [
      "i :  719\n",
      "i :  720\n",
      "i :  721\n",
      "i :  722\n",
      "i :  723\n",
      "i :  724\n",
      "i :  725\n",
      "i :  726\n",
      "i :  727\n"
     ]
    },
    {
     "name": "stderr",
     "output_type": "stream",
     "text": [
      "Batches: 100%|██████████| 1/1 [00:00<00:00, 76.89it/s]\n",
      "Batches: 100%|██████████| 1/1 [00:00<00:00, 91.74it/s]\n",
      "Batches: 100%|██████████| 1/1 [00:00<00:00, 87.76it/s]\n",
      "Batches: 100%|██████████| 1/1 [00:00<00:00, 75.72it/s]\n",
      "Batches: 100%|██████████| 1/1 [00:00<00:00, 88.92it/s]\n",
      "Batches: 100%|██████████| 1/1 [00:00<00:00, 89.70it/s]\n",
      "Batches: 100%|██████████| 1/1 [00:00<00:00, 90.29it/s]\n",
      "Batches: 100%|██████████| 1/1 [00:00<00:00, 91.02it/s]\n",
      "Batches: 100%|██████████| 1/1 [00:00<00:00, 91.61it/s]\n",
      "Batches: 100%|██████████| 1/1 [00:00<00:00, 88.89it/s]\n",
      "Batches: 100%|██████████| 1/1 [00:00<00:00, 90.16it/s]\n",
      "Batches: 100%|██████████| 1/1 [00:00<00:00, 88.26it/s]\n",
      "Batches: 100%|██████████| 1/1 [00:00<00:00, 90.72it/s]\n",
      "Batches: 100%|██████████| 1/1 [00:00<00:00, 88.41it/s]\n",
      "Batches: 100%|██████████| 1/1 [00:00<00:00, 91.13it/s]\n",
      "Batches: 100%|██████████| 1/1 [00:00<00:00, 88.93it/s]\n",
      "Batches: 100%|██████████| 1/1 [00:00<00:00, 88.30it/s]\n",
      "Batches: 100%|██████████| 1/1 [00:00<00:00, 90.01it/s]\n",
      "Batches:   0%|          | 0/1 [00:00<?, ?it/s]"
     ]
    },
    {
     "name": "stdout",
     "output_type": "stream",
     "text": [
      "i :  728\n",
      "i :  729\n",
      "i :  730\n",
      "i :  731\n",
      "i :  732\n",
      "i :  733\n",
      "i :  734\n",
      "i :  735\n",
      "i :  736\n"
     ]
    },
    {
     "name": "stderr",
     "output_type": "stream",
     "text": [
      "Batches: 100%|██████████| 1/1 [00:00<00:00, 86.35it/s]\n",
      "Batches: 100%|██████████| 1/1 [00:00<00:00, 89.10it/s]\n",
      "Batches: 100%|██████████| 1/1 [00:00<00:00, 90.29it/s]\n",
      "Batches: 100%|██████████| 1/1 [00:00<00:00, 90.43it/s]\n",
      "Batches: 100%|██████████| 1/1 [00:00<00:00, 91.01it/s]\n",
      "Batches: 100%|██████████| 1/1 [00:00<00:00, 58.90it/s]\n",
      "Batches: 100%|██████████| 1/1 [00:00<00:00, 90.68it/s]\n",
      "Batches: 100%|██████████| 1/1 [00:00<00:00, 88.59it/s]\n",
      "Batches: 100%|██████████| 1/1 [00:00<00:00, 89.89it/s]\n",
      "Batches: 100%|██████████| 1/1 [00:00<00:00, 89.07it/s]\n",
      "Batches: 100%|██████████| 1/1 [00:00<00:00, 86.91it/s]\n",
      "Batches: 100%|██████████| 1/1 [00:00<00:00, 89.27it/s]\n",
      "Batches: 100%|██████████| 1/1 [00:00<00:00, 87.21it/s]\n",
      "Batches: 100%|██████████| 1/1 [00:00<00:00, 88.97it/s]\n",
      "Batches: 100%|██████████| 1/1 [00:00<00:00, 86.55it/s]\n",
      "Batches: 100%|██████████| 1/1 [00:00<00:00, 87.98it/s]\n",
      "Batches: 100%|██████████| 1/1 [00:00<00:00, 89.49it/s]\n",
      "Batches:   0%|          | 0/1 [00:00<?, ?it/s]"
     ]
    },
    {
     "name": "stdout",
     "output_type": "stream",
     "text": [
      "i :  737\n",
      "i :  738\n",
      "i :  739\n",
      "i :  740\n",
      "i :  741\n",
      "i :  742\n",
      "i :  743\n",
      "i :  744\n"
     ]
    },
    {
     "name": "stderr",
     "output_type": "stream",
     "text": [
      "Batches: 100%|██████████| 1/1 [00:00<00:00, 87.19it/s]\n",
      "Batches: 100%|██████████| 1/1 [00:00<00:00, 90.59it/s]\n",
      "Batches: 100%|██████████| 1/1 [00:00<00:00, 87.98it/s]\n",
      "Batches: 100%|██████████| 1/1 [00:00<00:00, 87.36it/s]\n",
      "Batches: 100%|██████████| 1/1 [00:00<00:00, 88.50it/s]\n",
      "Batches: 100%|██████████| 1/1 [00:00<00:00, 76.53it/s]\n",
      "Batches: 100%|██████████| 1/1 [00:00<00:00, 81.85it/s]\n",
      "Batches: 100%|██████████| 1/1 [00:00<00:00, 88.01it/s]\n",
      "Batches: 100%|██████████| 1/1 [00:00<00:00, 90.58it/s]\n",
      "Batches: 100%|██████████| 1/1 [00:00<00:00, 90.74it/s]\n",
      "Batches: 100%|██████████| 1/1 [00:00<00:00, 88.67it/s]\n",
      "Batches: 100%|██████████| 1/1 [00:00<00:00, 89.27it/s]\n",
      "Batches: 100%|██████████| 1/1 [00:00<00:00, 89.12it/s]\n",
      "Batches: 100%|██████████| 1/1 [00:00<00:00, 90.49it/s]\n",
      "Batches: 100%|██████████| 1/1 [00:00<00:00, 89.16it/s]\n",
      "Batches: 100%|██████████| 1/1 [00:00<00:00, 89.99it/s]\n",
      "Batches:   0%|          | 0/1 [00:00<?, ?it/s]"
     ]
    },
    {
     "name": "stdout",
     "output_type": "stream",
     "text": [
      "i :  745\n",
      "i :  746\n",
      "i :  747\n",
      "i :  748\n",
      "i :  749\n",
      "i :  750\n",
      "i :  751\n",
      "i :  752\n"
     ]
    },
    {
     "name": "stderr",
     "output_type": "stream",
     "text": [
      "Batches: 100%|██████████| 1/1 [00:00<00:00, 86.90it/s]\n",
      "Batches: 100%|██████████| 1/1 [00:00<00:00, 75.78it/s]\n",
      "Batches: 100%|██████████| 1/1 [00:00<00:00, 88.30it/s]\n",
      "Batches: 100%|██████████| 1/1 [00:00<00:00, 87.45it/s]\n",
      "Batches: 100%|██████████| 1/1 [00:00<00:00, 89.07it/s]\n",
      "Batches: 100%|██████████| 1/1 [00:00<00:00, 89.09it/s]\n",
      "Batches: 100%|██████████| 1/1 [00:00<00:00, 89.15it/s]\n",
      "Batches: 100%|██████████| 1/1 [00:00<00:00, 87.61it/s]\n",
      "Batches: 100%|██████████| 1/1 [00:00<00:00, 89.03it/s]\n",
      "Batches: 100%|██████████| 1/1 [00:00<00:00, 87.39it/s]\n",
      "Batches: 100%|██████████| 1/1 [00:00<00:00, 90.37it/s]\n",
      "Batches: 100%|██████████| 1/1 [00:00<00:00, 89.83it/s]\n",
      "Batches: 100%|██████████| 1/1 [00:00<00:00, 89.06it/s]\n",
      "Batches: 100%|██████████| 1/1 [00:00<00:00, 89.52it/s]\n",
      "Batches: 100%|██████████| 1/1 [00:00<00:00, 90.04it/s]\n",
      "Batches: 100%|██████████| 1/1 [00:00<00:00, 89.88it/s]\n",
      "Batches: 100%|██████████| 1/1 [00:00<00:00, 88.98it/s]"
     ]
    },
    {
     "name": "stdout",
     "output_type": "stream",
     "text": [
      "i :  753\n",
      "i :  754\n",
      "i :  755\n",
      "i :  756\n",
      "i :  757\n",
      "i :  758\n",
      "i :  759\n",
      "i :  760\n"
     ]
    },
    {
     "name": "stderr",
     "output_type": "stream",
     "text": [
      "\n",
      "Batches: 100%|██████████| 1/1 [00:00<00:00, 85.74it/s]\n",
      "Batches: 100%|██████████| 1/1 [00:00<00:00, 87.15it/s]\n",
      "Batches: 100%|██████████| 1/1 [00:00<00:00, 73.76it/s]\n",
      "Batches: 100%|██████████| 1/1 [00:00<00:00, 87.17it/s]\n",
      "Batches: 100%|██████████| 1/1 [00:00<00:00, 86.92it/s]\n",
      "Batches: 100%|██████████| 1/1 [00:00<00:00, 88.28it/s]\n",
      "Batches: 100%|██████████| 1/1 [00:00<00:00, 89.17it/s]\n",
      "Batches: 100%|██████████| 1/1 [00:00<00:00, 88.84it/s]\n",
      "Batches: 100%|██████████| 1/1 [00:00<00:00, 87.07it/s]\n",
      "Batches: 100%|██████████| 1/1 [00:00<00:00, 88.03it/s]\n",
      "Batches: 100%|██████████| 1/1 [00:00<00:00, 89.50it/s]\n",
      "Batches: 100%|██████████| 1/1 [00:00<00:00, 87.53it/s]\n",
      "Batches: 100%|██████████| 1/1 [00:00<00:00, 88.84it/s]\n",
      "Batches: 100%|██████████| 1/1 [00:00<00:00, 89.69it/s]\n",
      "Batches: 100%|██████████| 1/1 [00:00<00:00, 90.04it/s]\n",
      "Batches:   0%|          | 0/1 [00:00<?, ?it/s]"
     ]
    },
    {
     "name": "stdout",
     "output_type": "stream",
     "text": [
      "i :  761\n",
      "i :  762\n",
      "i :  763\n",
      "i :  764\n",
      "i :  765\n",
      "i :  766\n",
      "i :  767\n",
      "i :  768\n"
     ]
    },
    {
     "name": "stderr",
     "output_type": "stream",
     "text": [
      "Batches: 100%|██████████| 1/1 [00:00<00:00, 85.97it/s]\n",
      "Batches: 100%|██████████| 1/1 [00:00<00:00, 89.21it/s]\n",
      "Batches: 100%|██████████| 1/1 [00:00<00:00, 87.64it/s]\n",
      "Batches: 100%|██████████| 1/1 [00:00<00:00, 87.39it/s]\n",
      "Batches: 100%|██████████| 1/1 [00:00<00:00, 88.43it/s]\n",
      "Batches: 100%|██████████| 1/1 [00:00<00:00, 75.80it/s]\n",
      "Batches: 100%|██████████| 1/1 [00:00<00:00, 53.22it/s]\n",
      "Batches: 100%|██████████| 1/1 [00:00<00:00, 55.32it/s]\n",
      "Batches: 100%|██████████| 1/1 [00:00<00:00, 90.86it/s]\n",
      "Batches: 100%|██████████| 1/1 [00:00<00:00, 89.93it/s]\n",
      "Batches: 100%|██████████| 1/1 [00:00<00:00, 89.35it/s]\n",
      "Batches: 100%|██████████| 1/1 [00:00<00:00, 88.10it/s]\n",
      "Batches: 100%|██████████| 1/1 [00:00<00:00, 88.49it/s]\n",
      "Batches: 100%|██████████| 1/1 [00:00<00:00, 89.23it/s]\n",
      "Batches: 100%|██████████| 1/1 [00:00<00:00, 89.34it/s]\n",
      "Batches:   0%|          | 0/1 [00:00<?, ?it/s]"
     ]
    },
    {
     "name": "stdout",
     "output_type": "stream",
     "text": [
      "i :  769\n",
      "i :  770\n",
      "i :  771\n",
      "i :  772\n",
      "i :  773\n",
      "i :  774\n",
      "i :  775\n",
      "i :  776\n"
     ]
    },
    {
     "name": "stderr",
     "output_type": "stream",
     "text": [
      "Batches: 100%|██████████| 1/1 [00:00<00:00, 65.44it/s]\n",
      "Batches: 100%|██████████| 1/1 [00:00<00:00, 90.95it/s]\n",
      "Batches: 100%|██████████| 1/1 [00:00<00:00, 65.47it/s]\n",
      "Batches: 100%|██████████| 1/1 [00:00<00:00, 89.41it/s]\n",
      "Batches: 100%|██████████| 1/1 [00:00<00:00, 91.76it/s]\n",
      "Batches: 100%|██████████| 1/1 [00:00<00:00, 60.56it/s]\n",
      "Batches: 100%|██████████| 1/1 [00:00<00:00, 85.98it/s]\n",
      "Batches: 100%|██████████| 1/1 [00:00<00:00, 89.81it/s]\n",
      "Batches: 100%|██████████| 1/1 [00:00<00:00, 90.90it/s]\n",
      "Batches: 100%|██████████| 1/1 [00:00<00:00, 91.26it/s]\n",
      "Batches: 100%|██████████| 1/1 [00:00<00:00, 88.57it/s]\n",
      "Batches: 100%|██████████| 1/1 [00:00<00:00, 89.14it/s]\n",
      "Batches: 100%|██████████| 1/1 [00:00<00:00, 90.32it/s]\n",
      "Batches: 100%|██████████| 1/1 [00:00<00:00, 89.43it/s]\n",
      "Batches: 100%|██████████| 1/1 [00:00<00:00, 90.86it/s]\n",
      "Batches: 100%|██████████| 1/1 [00:00<00:00, 89.09it/s]\n",
      "Batches: 100%|██████████| 1/1 [00:00<00:00, 90.61it/s]\n",
      "Batches:   0%|          | 0/1 [00:00<?, ?it/s]"
     ]
    },
    {
     "name": "stdout",
     "output_type": "stream",
     "text": [
      "i :  777\n",
      "i :  778\n",
      "i :  779\n",
      "i :  780\n",
      "i :  781\n",
      "i :  782\n",
      "i :  783\n",
      "i :  784\n"
     ]
    },
    {
     "name": "stderr",
     "output_type": "stream",
     "text": [
      "Batches: 100%|██████████| 1/1 [00:00<00:00, 87.83it/s]\n",
      "Batches: 100%|██████████| 1/1 [00:00<00:00, 89.27it/s]\n",
      "Batches: 100%|██████████| 1/1 [00:00<00:00, 89.10it/s]\n",
      "Batches: 100%|██████████| 1/1 [00:00<00:00, 87.77it/s]\n",
      "Batches: 100%|██████████| 1/1 [00:00<00:00, 89.81it/s]\n",
      "Batches: 100%|██████████| 1/1 [00:00<00:00, 90.26it/s]\n",
      "Batches: 100%|██████████| 1/1 [00:00<00:00, 88.80it/s]\n",
      "Batches: 100%|██████████| 1/1 [00:00<00:00, 60.89it/s]\n",
      "Batches: 100%|██████████| 1/1 [00:00<00:00, 89.89it/s]\n",
      "Batches: 100%|██████████| 1/1 [00:00<00:00, 90.37it/s]\n",
      "Batches: 100%|██████████| 1/1 [00:00<00:00, 74.17it/s]\n",
      "Batches: 100%|██████████| 1/1 [00:00<00:00, 88.90it/s]\n",
      "Batches: 100%|██████████| 1/1 [00:00<00:00, 88.59it/s]\n",
      "Batches: 100%|██████████| 1/1 [00:00<00:00, 88.02it/s]\n",
      "Batches: 100%|██████████| 1/1 [00:00<00:00, 88.96it/s]\n",
      "Batches: 100%|██████████| 1/1 [00:00<00:00, 89.43it/s]\n",
      "Batches:   0%|          | 0/1 [00:00<?, ?it/s]"
     ]
    },
    {
     "name": "stdout",
     "output_type": "stream",
     "text": [
      "i :  785\n",
      "i :  786\n",
      "i :  787\n",
      "i :  788\n",
      "i :  789\n",
      "i :  790\n",
      "i :  791\n",
      "i :  792\n"
     ]
    },
    {
     "name": "stderr",
     "output_type": "stream",
     "text": [
      "Batches: 100%|██████████| 1/1 [00:00<00:00, 87.44it/s]\n",
      "Batches: 100%|██████████| 1/1 [00:00<00:00, 90.61it/s]\n",
      "Batches: 100%|██████████| 1/1 [00:00<00:00, 87.57it/s]\n",
      "Batches: 100%|██████████| 1/1 [00:00<00:00, 90.67it/s]\n",
      "Batches: 100%|██████████| 1/1 [00:00<00:00, 89.46it/s]\n",
      "Batches: 100%|██████████| 1/1 [00:00<00:00, 89.77it/s]\n",
      "Batches: 100%|██████████| 1/1 [00:00<00:00, 88.31it/s]\n",
      "Batches: 100%|██████████| 1/1 [00:00<00:00, 88.74it/s]\n",
      "Batches: 100%|██████████| 1/1 [00:00<00:00, 88.13it/s]\n",
      "Batches: 100%|██████████| 1/1 [00:00<00:00, 89.63it/s]\n",
      "Batches: 100%|██████████| 1/1 [00:00<00:00, 89.13it/s]\n",
      "Batches: 100%|██████████| 1/1 [00:00<00:00, 76.21it/s]\n",
      "Batches: 100%|██████████| 1/1 [00:00<00:00, 83.77it/s]\n",
      "Batches: 100%|██████████| 1/1 [00:00<00:00, 90.56it/s]\n",
      "Batches: 100%|██████████| 1/1 [00:00<00:00, 88.06it/s]\n",
      "Batches: 100%|██████████| 1/1 [00:00<00:00, 88.91it/s]\n",
      "Batches:   0%|          | 0/1 [00:00<?, ?it/s]"
     ]
    },
    {
     "name": "stdout",
     "output_type": "stream",
     "text": [
      "i :  793\n",
      "i :  794\n",
      "i :  795\n",
      "i :  796\n",
      "i :  797\n",
      "i :  798\n",
      "i :  799\n",
      "i :  800\n"
     ]
    },
    {
     "name": "stderr",
     "output_type": "stream",
     "text": [
      "Batches: 100%|██████████| 1/1 [00:00<00:00, 79.36it/s]\n",
      "Batches: 100%|██████████| 1/1 [00:00<00:00, 89.48it/s]\n",
      "Batches: 100%|██████████| 1/1 [00:00<00:00, 88.22it/s]\n",
      "Batches: 100%|██████████| 1/1 [00:00<00:00, 89.84it/s]\n",
      "Batches: 100%|██████████| 1/1 [00:00<00:00, 87.90it/s]\n",
      "Batches: 100%|██████████| 1/1 [00:00<00:00, 89.71it/s]\n",
      "Batches: 100%|██████████| 1/1 [00:00<00:00, 88.18it/s]\n",
      "Batches: 100%|██████████| 1/1 [00:00<00:00, 87.19it/s]\n",
      "Batches: 100%|██████████| 1/1 [00:00<00:00, 88.78it/s]\n",
      "Batches: 100%|██████████| 1/1 [00:00<00:00, 86.88it/s]\n",
      "Batches: 100%|██████████| 1/1 [00:00<00:00, 89.80it/s]\n",
      "Batches: 100%|██████████| 1/1 [00:00<00:00, 89.89it/s]\n",
      "Batches: 100%|██████████| 1/1 [00:00<00:00, 86.63it/s]\n",
      "Batches: 100%|██████████| 1/1 [00:00<00:00, 80.31it/s]\n",
      "Batches: 100%|██████████| 1/1 [00:00<00:00, 69.31it/s]\n",
      "Batches: 100%|██████████| 1/1 [00:00<00:00, 68.21it/s]\n",
      "Batches:   0%|          | 0/1 [00:00<?, ?it/s]"
     ]
    },
    {
     "name": "stdout",
     "output_type": "stream",
     "text": [
      "i :  801\n",
      "i :  802\n",
      "i :  803\n",
      "i :  804\n",
      "i :  805\n",
      "i :  806\n",
      "i :  807\n",
      "i :  808\n"
     ]
    },
    {
     "name": "stderr",
     "output_type": "stream",
     "text": [
      "Batches: 100%|██████████| 1/1 [00:00<00:00, 70.57it/s]\n",
      "Batches: 100%|██████████| 1/1 [00:00<00:00, 75.13it/s]\n",
      "Batches: 100%|██████████| 1/1 [00:00<00:00, 82.06it/s]\n",
      "Batches: 100%|██████████| 1/1 [00:00<00:00, 81.77it/s]\n",
      "Batches: 100%|██████████| 1/1 [00:00<00:00, 82.70it/s]\n",
      "Batches: 100%|██████████| 1/1 [00:00<00:00, 82.51it/s]\n",
      "Batches: 100%|██████████| 1/1 [00:00<00:00, 80.94it/s]\n",
      "Batches: 100%|██████████| 1/1 [00:00<00:00, 82.34it/s]\n",
      "Batches: 100%|██████████| 1/1 [00:00<00:00, 80.88it/s]\n",
      "Batches: 100%|██████████| 1/1 [00:00<00:00, 82.46it/s]\n",
      "Batches: 100%|██████████| 1/1 [00:00<00:00, 81.31it/s]\n",
      "Batches: 100%|██████████| 1/1 [00:00<00:00, 79.70it/s]\n",
      "Batches: 100%|██████████| 1/1 [00:00<00:00, 68.40it/s]\n",
      "Batches: 100%|██████████| 1/1 [00:00<00:00, 70.42it/s]\n",
      "Batches: 100%|██████████| 1/1 [00:00<00:00, 84.19it/s]\n",
      "Batches:   0%|          | 0/1 [00:00<?, ?it/s]"
     ]
    },
    {
     "name": "stdout",
     "output_type": "stream",
     "text": [
      "i :  809\n",
      "i :  810\n",
      "i :  811\n",
      "i :  812\n",
      "i :  813\n",
      "i :  814\n",
      "i :  815\n",
      "i :  816\n"
     ]
    },
    {
     "name": "stderr",
     "output_type": "stream",
     "text": [
      "Batches: 100%|██████████| 1/1 [00:00<00:00, 69.25it/s]\n",
      "Batches: 100%|██████████| 1/1 [00:00<00:00, 83.75it/s]\n",
      "Batches: 100%|██████████| 1/1 [00:00<00:00, 72.85it/s]\n",
      "Batches: 100%|██████████| 1/1 [00:00<00:00, 83.52it/s]\n",
      "Batches: 100%|██████████| 1/1 [00:00<00:00, 83.75it/s]\n",
      "Batches: 100%|██████████| 1/1 [00:00<00:00, 82.85it/s]\n",
      "Batches: 100%|██████████| 1/1 [00:00<00:00, 80.34it/s]\n",
      "Batches: 100%|██████████| 1/1 [00:00<00:00, 85.10it/s]\n",
      "Batches: 100%|██████████| 1/1 [00:00<00:00, 84.59it/s]\n",
      "Batches: 100%|██████████| 1/1 [00:00<00:00, 83.15it/s]\n",
      "Batches: 100%|██████████| 1/1 [00:00<00:00, 84.02it/s]\n",
      "Batches: 100%|██████████| 1/1 [00:00<00:00, 84.37it/s]\n",
      "Batches: 100%|██████████| 1/1 [00:00<00:00, 83.34it/s]\n",
      "Batches: 100%|██████████| 1/1 [00:00<00:00, 85.05it/s]\n",
      "Batches: 100%|██████████| 1/1 [00:00<00:00, 84.35it/s]\n",
      "Batches: 100%|██████████| 1/1 [00:00<00:00, 84.52it/s]\n",
      "Batches:   0%|          | 0/1 [00:00<?, ?it/s]"
     ]
    },
    {
     "name": "stdout",
     "output_type": "stream",
     "text": [
      "i :  817\n",
      "i :  818\n",
      "i :  819\n",
      "i :  820\n",
      "i :  821\n",
      "i :  822\n",
      "i :  823\n",
      "i :  824\n"
     ]
    },
    {
     "name": "stderr",
     "output_type": "stream",
     "text": [
      "Batches: 100%|██████████| 1/1 [00:00<00:00, 81.86it/s]\n",
      "Batches: 100%|██████████| 1/1 [00:00<00:00, 83.93it/s]\n",
      "Batches: 100%|██████████| 1/1 [00:00<00:00, 82.47it/s]\n",
      "Batches: 100%|██████████| 1/1 [00:00<00:00, 83.47it/s]\n",
      "Batches: 100%|██████████| 1/1 [00:00<00:00, 84.81it/s]\n",
      "Batches: 100%|██████████| 1/1 [00:00<00:00, 84.59it/s]\n",
      "Batches: 100%|██████████| 1/1 [00:00<00:00, 83.64it/s]\n",
      "Batches: 100%|██████████| 1/1 [00:00<00:00, 85.06it/s]\n",
      "Batches: 100%|██████████| 1/1 [00:00<00:00, 84.36it/s]\n",
      "Batches: 100%|██████████| 1/1 [00:00<00:00, 84.84it/s]\n",
      "Batches: 100%|██████████| 1/1 [00:00<00:00, 83.92it/s]\n",
      "Batches: 100%|██████████| 1/1 [00:00<00:00, 89.14it/s]\n",
      "Batches: 100%|██████████| 1/1 [00:00<00:00, 87.74it/s]\n",
      "Batches: 100%|██████████| 1/1 [00:00<00:00, 74.69it/s]\n",
      "Batches: 100%|██████████| 1/1 [00:00<00:00, 89.70it/s]\n",
      "Batches: 100%|██████████| 1/1 [00:00<00:00, 75.04it/s]\n",
      "Batches: 100%|██████████| 1/1 [00:00<00:00, 87.69it/s]"
     ]
    },
    {
     "name": "stdout",
     "output_type": "stream",
     "text": [
      "i :  825\n",
      "i :  826\n",
      "i :  827\n",
      "i :  828\n",
      "i :  829\n",
      "i :  830\n",
      "i :  831\n",
      "i :  832\n"
     ]
    },
    {
     "name": "stderr",
     "output_type": "stream",
     "text": [
      "\n",
      "Batches: 100%|██████████| 1/1 [00:00<00:00, 88.45it/s]\n",
      "Batches: 100%|██████████| 1/1 [00:00<00:00, 72.34it/s]\n",
      "Batches: 100%|██████████| 1/1 [00:00<00:00, 90.15it/s]\n",
      "Batches: 100%|██████████| 1/1 [00:00<00:00, 76.79it/s]\n",
      "Batches: 100%|██████████| 1/1 [00:00<00:00, 89.45it/s]\n",
      "Batches: 100%|██████████| 1/1 [00:00<00:00, 74.37it/s]\n",
      "Batches: 100%|██████████| 1/1 [00:00<00:00, 90.85it/s]\n",
      "Batches: 100%|██████████| 1/1 [00:00<00:00, 86.59it/s]\n",
      "Batches: 100%|██████████| 1/1 [00:00<00:00, 88.01it/s]\n",
      "Batches: 100%|██████████| 1/1 [00:00<00:00, 87.06it/s]\n",
      "Batches: 100%|██████████| 1/1 [00:00<00:00, 87.94it/s]\n",
      "Batches: 100%|██████████| 1/1 [00:00<00:00, 86.22it/s]\n",
      "Batches: 100%|██████████| 1/1 [00:00<00:00, 83.54it/s]\n",
      "Batches: 100%|██████████| 1/1 [00:00<00:00, 72.48it/s]\n",
      "Batches: 100%|██████████| 1/1 [00:00<00:00, 84.27it/s]\n",
      "Batches: 100%|██████████| 1/1 [00:00<00:00, 84.91it/s]\n"
     ]
    },
    {
     "name": "stdout",
     "output_type": "stream",
     "text": [
      "i :  833\n",
      "i :  834\n",
      "i :  835\n",
      "i :  836\n",
      "i :  837\n",
      "i :  838\n",
      "i :  839\n",
      "i :  840\n"
     ]
    },
    {
     "name": "stderr",
     "output_type": "stream",
     "text": [
      "Batches: 100%|██████████| 1/1 [00:00<00:00, 82.04it/s]\n",
      "Batches: 100%|██████████| 1/1 [00:00<00:00, 69.91it/s]\n",
      "Batches: 100%|██████████| 1/1 [00:00<00:00, 85.57it/s]\n",
      "Batches: 100%|██████████| 1/1 [00:00<00:00, 81.19it/s]\n",
      "Batches: 100%|██████████| 1/1 [00:00<00:00, 89.96it/s]\n",
      "Batches: 100%|██████████| 1/1 [00:00<00:00, 88.29it/s]\n",
      "Batches: 100%|██████████| 1/1 [00:00<00:00, 88.19it/s]\n",
      "Batches: 100%|██████████| 1/1 [00:00<00:00, 76.58it/s]\n",
      "Batches: 100%|██████████| 1/1 [00:00<00:00, 89.31it/s]\n",
      "Batches: 100%|██████████| 1/1 [00:00<00:00, 77.44it/s]\n",
      "Batches: 100%|██████████| 1/1 [00:00<00:00, 83.81it/s]\n",
      "Batches: 100%|██████████| 1/1 [00:00<00:00, 82.44it/s]\n",
      "Batches: 100%|██████████| 1/1 [00:00<00:00, 90.04it/s]\n",
      "Batches: 100%|██████████| 1/1 [00:00<00:00, 75.19it/s]\n",
      "Batches: 100%|██████████| 1/1 [00:00<00:00, 89.60it/s]\n",
      "Batches:   0%|          | 0/1 [00:00<?, ?it/s]"
     ]
    },
    {
     "name": "stdout",
     "output_type": "stream",
     "text": [
      "i :  841\n",
      "i :  842\n",
      "i :  843\n",
      "i :  844\n",
      "i :  845\n",
      "i :  846\n",
      "i :  847\n",
      "i :  848\n"
     ]
    },
    {
     "name": "stderr",
     "output_type": "stream",
     "text": [
      "Batches: 100%|██████████| 1/1 [00:00<00:00, 75.11it/s]\n",
      "Batches: 100%|██████████| 1/1 [00:00<00:00, 84.46it/s]\n",
      "Batches: 100%|██████████| 1/1 [00:00<00:00, 87.48it/s]\n",
      "Batches: 100%|██████████| 1/1 [00:00<00:00, 88.15it/s]\n",
      "Batches: 100%|██████████| 1/1 [00:00<00:00, 87.32it/s]\n",
      "Batches: 100%|██████████| 1/1 [00:00<00:00, 89.34it/s]\n",
      "Batches: 100%|██████████| 1/1 [00:00<00:00, 87.00it/s]\n",
      "Batches: 100%|██████████| 1/1 [00:00<00:00, 88.57it/s]\n",
      "Batches: 100%|██████████| 1/1 [00:00<00:00, 89.94it/s]\n",
      "Batches: 100%|██████████| 1/1 [00:00<00:00, 88.13it/s]\n",
      "Batches: 100%|██████████| 1/1 [00:00<00:00, 90.53it/s]\n",
      "Batches: 100%|██████████| 1/1 [00:00<00:00, 88.82it/s]\n",
      "Batches: 100%|██████████| 1/1 [00:00<00:00, 89.45it/s]\n",
      "Batches: 100%|██████████| 1/1 [00:00<00:00, 88.51it/s]\n",
      "Batches: 100%|██████████| 1/1 [00:00<00:00, 90.33it/s]\n",
      "Batches: 100%|██████████| 1/1 [00:00<00:00, 90.58it/s]\n",
      "Batches: 100%|██████████| 1/1 [00:00<00:00, 89.69it/s]\n",
      "Batches: 100%|██████████| 1/1 [00:00<00:00, 87.17it/s]\n"
     ]
    },
    {
     "name": "stdout",
     "output_type": "stream",
     "text": [
      "i :  849\n",
      "i :  850\n",
      "i :  851\n",
      "i :  852\n",
      "i :  853\n",
      "i :  854\n",
      "i :  855\n",
      "i :  856\n",
      "i :  857\n"
     ]
    },
    {
     "name": "stderr",
     "output_type": "stream",
     "text": [
      "Batches: 100%|██████████| 1/1 [00:00<00:00, 85.55it/s]\n",
      "Batches: 100%|██████████| 1/1 [00:00<00:00, 88.36it/s]\n",
      "Batches: 100%|██████████| 1/1 [00:00<00:00, 89.90it/s]\n",
      "Batches: 100%|██████████| 1/1 [00:00<00:00, 87.43it/s]\n",
      "Batches: 100%|██████████| 1/1 [00:00<00:00, 90.12it/s]\n",
      "Batches: 100%|██████████| 1/1 [00:00<00:00, 55.51it/s]\n",
      "Batches: 100%|██████████| 1/1 [00:00<00:00, 90.45it/s]\n",
      "Batches: 100%|██████████| 1/1 [00:00<00:00, 88.83it/s]\n",
      "Batches: 100%|██████████| 1/1 [00:00<00:00, 87.39it/s]\n",
      "Batches: 100%|██████████| 1/1 [00:00<00:00, 89.08it/s]\n",
      "Batches: 100%|██████████| 1/1 [00:00<00:00, 89.43it/s]\n",
      "Batches: 100%|██████████| 1/1 [00:00<00:00, 89.22it/s]\n",
      "Batches: 100%|██████████| 1/1 [00:00<00:00, 89.83it/s]\n",
      "Batches: 100%|██████████| 1/1 [00:00<00:00, 91.00it/s]\n",
      "Batches: 100%|██████████| 1/1 [00:00<00:00, 87.06it/s]\n",
      "Batches: 100%|██████████| 1/1 [00:00<00:00, 88.18it/s]\n",
      "Batches: 100%|██████████| 1/1 [00:00<00:00, 89.47it/s]\n",
      "Batches:   0%|          | 0/1 [00:00<?, ?it/s]"
     ]
    },
    {
     "name": "stdout",
     "output_type": "stream",
     "text": [
      "i :  858\n",
      "i :  859\n",
      "i :  860\n",
      "i :  861\n",
      "i :  862\n",
      "i :  863\n",
      "i :  864\n",
      "i :  865\n"
     ]
    },
    {
     "name": "stderr",
     "output_type": "stream",
     "text": [
      "Batches: 100%|██████████| 1/1 [00:00<00:00, 87.24it/s]\n",
      "Batches: 100%|██████████| 1/1 [00:00<00:00, 87.97it/s]\n",
      "Batches: 100%|██████████| 1/1 [00:00<00:00, 89.76it/s]\n",
      "Batches: 100%|██████████| 1/1 [00:00<00:00, 86.16it/s]\n",
      "Batches: 100%|██████████| 1/1 [00:00<00:00, 88.55it/s]\n",
      "Batches: 100%|██████████| 1/1 [00:00<00:00, 85.47it/s]\n",
      "Batches: 100%|██████████| 1/1 [00:00<00:00, 87.33it/s]\n",
      "Batches: 100%|██████████| 1/1 [00:00<00:00, 65.12it/s]\n",
      "Batches: 100%|██████████| 1/1 [00:00<00:00, 89.09it/s]\n",
      "Batches: 100%|██████████| 1/1 [00:00<00:00, 91.00it/s]\n",
      "Batches: 100%|██████████| 1/1 [00:00<00:00, 89.47it/s]\n",
      "Batches: 100%|██████████| 1/1 [00:00<00:00, 90.55it/s]\n",
      "Batches: 100%|██████████| 1/1 [00:00<00:00, 88.66it/s]\n",
      "Batches: 100%|██████████| 1/1 [00:00<00:00, 68.10it/s]\n",
      "Batches: 100%|██████████| 1/1 [00:00<00:00, 82.79it/s]\n",
      "Batches: 100%|██████████| 1/1 [00:00<00:00, 90.88it/s]\n",
      "Batches:   0%|          | 0/1 [00:00<?, ?it/s]"
     ]
    },
    {
     "name": "stdout",
     "output_type": "stream",
     "text": [
      "i :  866\n",
      "i :  867\n",
      "i :  868\n",
      "i :  869\n",
      "i :  870\n",
      "i :  871\n",
      "i :  872\n",
      "i :  873\n"
     ]
    },
    {
     "name": "stderr",
     "output_type": "stream",
     "text": [
      "Batches: 100%|██████████| 1/1 [00:00<00:00, 90.28it/s]\n",
      "Batches: 100%|██████████| 1/1 [00:00<00:00, 91.10it/s]\n",
      "Batches: 100%|██████████| 1/1 [00:00<00:00, 91.48it/s]\n",
      "Batches: 100%|██████████| 1/1 [00:00<00:00, 91.96it/s]\n",
      "Batches: 100%|██████████| 1/1 [00:00<00:00, 91.70it/s]\n",
      "Batches: 100%|██████████| 1/1 [00:00<00:00, 90.99it/s]\n",
      "Batches: 100%|██████████| 1/1 [00:00<00:00, 91.43it/s]\n",
      "Batches: 100%|██████████| 1/1 [00:00<00:00, 89.48it/s]\n",
      "Batches: 100%|██████████| 1/1 [00:00<00:00, 89.25it/s]\n",
      "Batches: 100%|██████████| 1/1 [00:00<00:00, 88.95it/s]\n",
      "Batches: 100%|██████████| 1/1 [00:00<00:00, 89.92it/s]\n",
      "Batches: 100%|██████████| 1/1 [00:00<00:00, 89.48it/s]\n",
      "Batches: 100%|██████████| 1/1 [00:00<00:00, 57.75it/s]\n",
      "Batches: 100%|██████████| 1/1 [00:00<00:00, 89.55it/s]\n",
      "Batches: 100%|██████████| 1/1 [00:00<00:00, 90.08it/s]\n",
      "Batches: 100%|██████████| 1/1 [00:00<00:00, 89.55it/s]\n",
      "Batches: 100%|██████████| 1/1 [00:00<00:00, 89.78it/s]\n",
      "Batches:   0%|          | 0/1 [00:00<?, ?it/s]"
     ]
    },
    {
     "name": "stdout",
     "output_type": "stream",
     "text": [
      "i :  874\n",
      "i :  875\n",
      "i :  876\n",
      "i :  877\n",
      "i :  878\n",
      "i :  879\n",
      "i :  880\n",
      "i :  881\n",
      "i :  882\n"
     ]
    },
    {
     "name": "stderr",
     "output_type": "stream",
     "text": [
      "Batches: 100%|██████████| 1/1 [00:00<00:00, 87.68it/s]\n",
      "Batches: 100%|██████████| 1/1 [00:00<00:00, 88.93it/s]\n",
      "Batches: 100%|██████████| 1/1 [00:00<00:00, 86.92it/s]\n",
      "Batches: 100%|██████████| 1/1 [00:00<00:00, 91.19it/s]\n",
      "Batches: 100%|██████████| 1/1 [00:00<00:00, 90.59it/s]\n",
      "Batches: 100%|██████████| 1/1 [00:00<00:00, 89.38it/s]\n",
      "Batches: 100%|██████████| 1/1 [00:00<00:00, 90.53it/s]\n",
      "Batches: 100%|██████████| 1/1 [00:00<00:00, 84.11it/s]\n",
      "Batches: 100%|██████████| 1/1 [00:00<00:00, 86.96it/s]\n",
      "Batches: 100%|██████████| 1/1 [00:00<00:00, 90.64it/s]\n",
      "Batches: 100%|██████████| 1/1 [00:00<00:00, 90.22it/s]\n",
      "Batches: 100%|██████████| 1/1 [00:00<00:00, 91.45it/s]\n",
      "Batches: 100%|██████████| 1/1 [00:00<00:00, 90.97it/s]\n",
      "Batches: 100%|██████████| 1/1 [00:00<00:00, 89.68it/s]\n",
      "Batches: 100%|██████████| 1/1 [00:00<00:00, 76.56it/s]\n",
      "Batches: 100%|██████████| 1/1 [00:00<00:00, 92.16it/s]\n",
      "Batches: 100%|██████████| 1/1 [00:00<00:00, 93.15it/s]\n",
      "Batches:   0%|          | 0/1 [00:00<?, ?it/s]"
     ]
    },
    {
     "name": "stdout",
     "output_type": "stream",
     "text": [
      "i :  883\n",
      "i :  884\n",
      "i :  885\n",
      "i :  886\n",
      "i :  887\n",
      "i :  888\n",
      "i :  889\n",
      "i :  890\n"
     ]
    },
    {
     "name": "stderr",
     "output_type": "stream",
     "text": [
      "Batches: 100%|██████████| 1/1 [00:00<00:00, 87.81it/s]\n",
      "Batches: 100%|██████████| 1/1 [00:00<00:00, 80.37it/s]\n",
      "Batches: 100%|██████████| 1/1 [00:00<00:00, 87.28it/s]\n",
      "Batches: 100%|██████████| 1/1 [00:00<00:00, 89.71it/s]\n",
      "Batches: 100%|██████████| 1/1 [00:00<00:00, 91.72it/s]\n",
      "Batches: 100%|██████████| 1/1 [00:00<00:00, 93.04it/s]\n",
      "Batches: 100%|██████████| 1/1 [00:00<00:00, 92.54it/s]\n",
      "Batches: 100%|██████████| 1/1 [00:00<00:00, 90.25it/s]\n",
      "Batches: 100%|██████████| 1/1 [00:00<00:00, 90.04it/s]\n",
      "Batches: 100%|██████████| 1/1 [00:00<00:00, 90.01it/s]\n",
      "Batches: 100%|██████████| 1/1 [00:00<00:00, 91.04it/s]\n",
      "Batches: 100%|██████████| 1/1 [00:00<00:00, 91.42it/s]\n",
      "Batches: 100%|██████████| 1/1 [00:00<00:00, 90.22it/s]\n",
      "Batches: 100%|██████████| 1/1 [00:00<00:00, 92.47it/s]\n",
      "Batches: 100%|██████████| 1/1 [00:00<00:00, 90.58it/s]\n",
      "Batches: 100%|██████████| 1/1 [00:00<00:00, 61.04it/s]\n",
      "Batches:   0%|          | 0/1 [00:00<?, ?it/s]"
     ]
    },
    {
     "name": "stdout",
     "output_type": "stream",
     "text": [
      "i :  891\n",
      "i :  892\n",
      "i :  893\n",
      "i :  894\n",
      "i :  895\n",
      "i :  896\n",
      "i :  897\n",
      "i :  898\n"
     ]
    },
    {
     "name": "stderr",
     "output_type": "stream",
     "text": [
      "Batches: 100%|██████████| 1/1 [00:00<00:00, 87.70it/s]\n",
      "Batches: 100%|██████████| 1/1 [00:00<00:00, 71.94it/s]\n",
      "Batches: 100%|██████████| 1/1 [00:00<00:00, 89.72it/s]\n",
      "Batches: 100%|██████████| 1/1 [00:00<00:00, 90.09it/s]\n",
      "Batches: 100%|██████████| 1/1 [00:00<00:00, 90.11it/s]\n",
      "Batches: 100%|██████████| 1/1 [00:00<00:00, 86.34it/s]\n",
      "Batches: 100%|██████████| 1/1 [00:00<00:00, 89.85it/s]\n",
      "Batches: 100%|██████████| 1/1 [00:00<00:00, 88.00it/s]\n",
      "Batches: 100%|██████████| 1/1 [00:00<00:00, 88.15it/s]\n",
      "Batches: 100%|██████████| 1/1 [00:00<00:00, 90.77it/s]\n",
      "Batches: 100%|██████████| 1/1 [00:00<00:00, 88.90it/s]\n",
      "Batches: 100%|██████████| 1/1 [00:00<00:00, 87.83it/s]\n",
      "Batches: 100%|██████████| 1/1 [00:00<00:00, 90.95it/s]\n",
      "Batches: 100%|██████████| 1/1 [00:00<00:00, 90.17it/s]\n",
      "Batches: 100%|██████████| 1/1 [00:00<00:00, 89.06it/s]\n",
      "Batches: 100%|██████████| 1/1 [00:00<00:00, 90.67it/s]\n",
      "Batches:   0%|          | 0/1 [00:00<?, ?it/s]"
     ]
    },
    {
     "name": "stdout",
     "output_type": "stream",
     "text": [
      "i :  899\n",
      "i :  900\n",
      "i :  901\n",
      "i :  902\n",
      "i :  903\n",
      "i :  904\n",
      "i :  905\n",
      "i :  906\n"
     ]
    },
    {
     "name": "stderr",
     "output_type": "stream",
     "text": [
      "Batches: 100%|██████████| 1/1 [00:00<00:00, 87.33it/s]\n",
      "Batches: 100%|██████████| 1/1 [00:00<00:00, 75.94it/s]\n",
      "Batches: 100%|██████████| 1/1 [00:00<00:00, 89.98it/s]\n",
      "Batches: 100%|██████████| 1/1 [00:00<00:00, 88.04it/s]\n",
      "Batches: 100%|██████████| 1/1 [00:00<00:00, 91.46it/s]\n",
      "Batches: 100%|██████████| 1/1 [00:00<00:00, 86.92it/s]\n",
      "Batches: 100%|██████████| 1/1 [00:00<00:00, 91.10it/s]\n",
      "Batches: 100%|██████████| 1/1 [00:00<00:00, 87.97it/s]\n",
      "Batches: 100%|██████████| 1/1 [00:00<00:00, 89.17it/s]\n",
      "Batches: 100%|██████████| 1/1 [00:00<00:00, 88.14it/s]\n",
      "Batches: 100%|██████████| 1/1 [00:00<00:00, 89.81it/s]\n",
      "Batches: 100%|██████████| 1/1 [00:00<00:00, 86.71it/s]\n",
      "Batches: 100%|██████████| 1/1 [00:00<00:00, 89.58it/s]\n",
      "Batches: 100%|██████████| 1/1 [00:00<00:00, 88.18it/s]\n",
      "Batches: 100%|██████████| 1/1 [00:00<00:00, 88.60it/s]\n",
      "Batches: 100%|██████████| 1/1 [00:00<00:00, 88.01it/s]\n",
      "Batches: 100%|██████████| 1/1 [00:00<00:00, 88.76it/s]\n"
     ]
    },
    {
     "name": "stdout",
     "output_type": "stream",
     "text": [
      "i :  907\n",
      "i :  908\n",
      "i :  909\n",
      "i :  910\n",
      "i :  911\n",
      "i :  912\n",
      "i :  913\n",
      "i :  914\n"
     ]
    },
    {
     "name": "stderr",
     "output_type": "stream",
     "text": [
      "Batches: 100%|██████████| 1/1 [00:00<00:00, 71.53it/s]\n",
      "Batches: 100%|██████████| 1/1 [00:00<00:00, 89.21it/s]\n",
      "Batches: 100%|██████████| 1/1 [00:00<00:00, 87.09it/s]\n",
      "Batches: 100%|██████████| 1/1 [00:00<00:00, 88.82it/s]\n",
      "Batches: 100%|██████████| 1/1 [00:00<00:00, 87.04it/s]\n",
      "Batches: 100%|██████████| 1/1 [00:00<00:00, 88.66it/s]\n",
      "Batches: 100%|██████████| 1/1 [00:00<00:00, 90.15it/s]\n",
      "Batches: 100%|██████████| 1/1 [00:00<00:00, 88.15it/s]\n",
      "Batches: 100%|██████████| 1/1 [00:00<00:00, 87.19it/s]\n",
      "Batches: 100%|██████████| 1/1 [00:00<00:00, 87.39it/s]\n",
      "Batches: 100%|██████████| 1/1 [00:00<00:00, 86.58it/s]\n",
      "Batches: 100%|██████████| 1/1 [00:00<00:00, 89.47it/s]\n",
      "Batches: 100%|██████████| 1/1 [00:00<00:00, 87.54it/s]\n",
      "Batches: 100%|██████████| 1/1 [00:00<00:00, 87.40it/s]\n",
      "Batches: 100%|██████████| 1/1 [00:00<00:00, 88.57it/s]\n",
      "Batches: 100%|██████████| 1/1 [00:00<00:00, 89.69it/s]\n",
      "Batches: 100%|██████████| 1/1 [00:00<00:00, 86.87it/s]\n",
      "Batches: 100%|██████████| 1/1 [00:00<00:00, 88.02it/s]\n",
      "Batches:   0%|          | 0/1 [00:00<?, ?it/s]"
     ]
    },
    {
     "name": "stdout",
     "output_type": "stream",
     "text": [
      "i :  915\n",
      "i :  916\n",
      "i :  917\n",
      "i :  918\n",
      "i :  919\n",
      "i :  920\n",
      "i :  921\n",
      "i :  922\n",
      "i :  923\n",
      "i :  924\n"
     ]
    },
    {
     "name": "stderr",
     "output_type": "stream",
     "text": [
      "Batches: 100%|██████████| 1/1 [00:00<00:00, 86.21it/s]\n",
      "Batches: 100%|██████████| 1/1 [00:00<00:00, 89.08it/s]\n",
      "Batches: 100%|██████████| 1/1 [00:00<00:00, 75.66it/s]\n",
      "Batches: 100%|██████████| 1/1 [00:00<00:00, 83.37it/s]\n",
      "Batches: 100%|██████████| 1/1 [00:00<00:00, 86.50it/s]\n",
      "Batches: 100%|██████████| 1/1 [00:00<00:00, 88.66it/s]\n",
      "Batches: 100%|██████████| 1/1 [00:00<00:00, 82.57it/s]\n",
      "Batches: 100%|██████████| 1/1 [00:00<00:00, 60.02it/s]\n",
      "Batches: 100%|██████████| 1/1 [00:00<00:00, 87.50it/s]\n",
      "Batches: 100%|██████████| 1/1 [00:00<00:00, 88.63it/s]\n",
      "Batches: 100%|██████████| 1/1 [00:00<00:00, 91.14it/s]\n",
      "Batches: 100%|██████████| 1/1 [00:00<00:00, 90.55it/s]\n",
      "Batches: 100%|██████████| 1/1 [00:00<00:00, 90.79it/s]\n",
      "Batches: 100%|██████████| 1/1 [00:00<00:00, 88.91it/s]\n",
      "Batches: 100%|██████████| 1/1 [00:00<00:00, 88.48it/s]\n",
      "Batches: 100%|██████████| 1/1 [00:00<00:00, 89.39it/s]\n",
      "Batches: 100%|██████████| 1/1 [00:00<00:00, 87.25it/s]\n",
      "Batches:   0%|          | 0/1 [00:00<?, ?it/s]"
     ]
    },
    {
     "name": "stdout",
     "output_type": "stream",
     "text": [
      "i :  925\n",
      "i :  926\n",
      "i :  927\n",
      "i :  928\n",
      "i :  929\n",
      "i :  930\n",
      "i :  931\n",
      "i :  932\n"
     ]
    },
    {
     "name": "stderr",
     "output_type": "stream",
     "text": [
      "Batches: 100%|██████████| 1/1 [00:00<00:00, 86.72it/s]\n",
      "Batches: 100%|██████████| 1/1 [00:00<00:00, 90.14it/s]\n",
      "Batches: 100%|██████████| 1/1 [00:00<00:00, 89.27it/s]\n",
      "Batches: 100%|██████████| 1/1 [00:00<00:00, 87.66it/s]\n",
      "Batches: 100%|██████████| 1/1 [00:00<00:00, 89.32it/s]\n",
      "Batches: 100%|██████████| 1/1 [00:00<00:00, 89.61it/s]\n",
      "Batches: 100%|██████████| 1/1 [00:00<00:00, 86.84it/s]\n",
      "Batches: 100%|██████████| 1/1 [00:00<00:00, 78.55it/s]\n",
      "Batches: 100%|██████████| 1/1 [00:00<00:00, 81.24it/s]\n",
      "Batches: 100%|██████████| 1/1 [00:00<00:00, 89.07it/s]\n",
      "Batches: 100%|██████████| 1/1 [00:00<00:00, 88.86it/s]\n",
      "Batches: 100%|██████████| 1/1 [00:00<00:00, 88.37it/s]\n",
      "Batches: 100%|██████████| 1/1 [00:00<00:00, 89.34it/s]\n",
      "Batches: 100%|██████████| 1/1 [00:00<00:00, 90.88it/s]\n",
      "Batches: 100%|██████████| 1/1 [00:00<00:00, 89.05it/s]\n",
      "Batches: 100%|██████████| 1/1 [00:00<00:00, 88.06it/s]\n",
      "Batches:   0%|          | 0/1 [00:00<?, ?it/s]"
     ]
    },
    {
     "name": "stdout",
     "output_type": "stream",
     "text": [
      "i :  933\n",
      "i :  934\n",
      "i :  935\n",
      "i :  936\n",
      "i :  937\n",
      "i :  938\n",
      "i :  939\n",
      "i :  940\n"
     ]
    },
    {
     "name": "stderr",
     "output_type": "stream",
     "text": [
      "Batches: 100%|██████████| 1/1 [00:00<00:00, 87.26it/s]\n",
      "Batches: 100%|██████████| 1/1 [00:00<00:00, 90.59it/s]\n",
      "Batches: 100%|██████████| 1/1 [00:00<00:00, 89.29it/s]\n",
      "Batches: 100%|██████████| 1/1 [00:00<00:00, 90.81it/s]\n",
      "Batches: 100%|██████████| 1/1 [00:00<00:00, 89.46it/s]\n",
      "Batches: 100%|██████████| 1/1 [00:00<00:00, 87.88it/s]\n",
      "Batches: 100%|██████████| 1/1 [00:00<00:00, 89.51it/s]\n",
      "Batches: 100%|██████████| 1/1 [00:00<00:00, 74.75it/s]\n",
      "Batches: 100%|██████████| 1/1 [00:00<00:00, 88.89it/s]\n",
      "Batches: 100%|██████████| 1/1 [00:00<00:00, 87.23it/s]\n",
      "Batches: 100%|██████████| 1/1 [00:00<00:00, 88.13it/s]\n",
      "Batches: 100%|██████████| 1/1 [00:00<00:00, 76.36it/s]\n",
      "Batches: 100%|██████████| 1/1 [00:00<00:00, 88.81it/s]\n",
      "Batches: 100%|██████████| 1/1 [00:00<00:00, 89.66it/s]\n",
      "Batches: 100%|██████████| 1/1 [00:00<00:00, 90.96it/s]\n",
      "Batches: 100%|██████████| 1/1 [00:00<00:00, 90.56it/s]\n",
      "Batches:   0%|          | 0/1 [00:00<?, ?it/s]"
     ]
    },
    {
     "name": "stdout",
     "output_type": "stream",
     "text": [
      "i :  941\n",
      "i :  942\n",
      "i :  943\n",
      "i :  944\n",
      "i :  945\n",
      "i :  946\n",
      "i :  947\n",
      "i :  948\n"
     ]
    },
    {
     "name": "stderr",
     "output_type": "stream",
     "text": [
      "Batches: 100%|██████████| 1/1 [00:00<00:00, 86.15it/s]\n",
      "Batches: 100%|██████████| 1/1 [00:00<00:00, 73.15it/s]\n",
      "Batches: 100%|██████████| 1/1 [00:00<00:00, 88.78it/s]\n",
      "Batches: 100%|██████████| 1/1 [00:00<00:00, 90.88it/s]\n",
      "Batches: 100%|██████████| 1/1 [00:00<00:00, 89.55it/s]\n",
      "Batches: 100%|██████████| 1/1 [00:00<00:00, 90.42it/s]\n",
      "Batches: 100%|██████████| 1/1 [00:00<00:00, 89.42it/s]\n",
      "Batches: 100%|██████████| 1/1 [00:00<00:00, 87.66it/s]\n",
      "Batches: 100%|██████████| 1/1 [00:00<00:00, 88.37it/s]\n",
      "Batches: 100%|██████████| 1/1 [00:00<00:00, 90.21it/s]\n",
      "Batches: 100%|██████████| 1/1 [00:00<00:00, 88.99it/s]\n",
      "Batches: 100%|██████████| 1/1 [00:00<00:00, 88.38it/s]\n",
      "Batches: 100%|██████████| 1/1 [00:00<00:00, 88.19it/s]\n",
      "Batches: 100%|██████████| 1/1 [00:00<00:00, 73.14it/s]\n",
      "Batches: 100%|██████████| 1/1 [00:00<00:00, 88.95it/s]\n",
      "Batches: 100%|██████████| 1/1 [00:00<00:00, 90.47it/s]\n",
      "Batches:   0%|          | 0/1 [00:00<?, ?it/s]"
     ]
    },
    {
     "name": "stdout",
     "output_type": "stream",
     "text": [
      "i :  949\n",
      "i :  950\n",
      "i :  951\n",
      "i :  952\n",
      "i :  953\n",
      "i :  954\n",
      "i :  955\n",
      "i :  956\n"
     ]
    },
    {
     "name": "stderr",
     "output_type": "stream",
     "text": [
      "Batches: 100%|██████████| 1/1 [00:00<00:00, 86.57it/s]\n",
      "Batches: 100%|██████████| 1/1 [00:00<00:00, 87.62it/s]\n",
      "Batches: 100%|██████████| 1/1 [00:00<00:00, 90.58it/s]\n",
      "Batches: 100%|██████████| 1/1 [00:00<00:00, 88.69it/s]\n",
      "Batches: 100%|██████████| 1/1 [00:00<00:00, 91.18it/s]\n",
      "Batches: 100%|██████████| 1/1 [00:00<00:00, 87.94it/s]\n",
      "Batches: 100%|██████████| 1/1 [00:00<00:00, 89.66it/s]\n",
      "Batches: 100%|██████████| 1/1 [00:00<00:00, 90.67it/s]\n",
      "Batches: 100%|██████████| 1/1 [00:00<00:00, 89.24it/s]\n",
      "Batches: 100%|██████████| 1/1 [00:00<00:00, 90.38it/s]\n",
      "Batches: 100%|██████████| 1/1 [00:00<00:00, 89.53it/s]\n",
      "Batches: 100%|██████████| 1/1 [00:00<00:00, 90.75it/s]\n",
      "Batches: 100%|██████████| 1/1 [00:00<00:00, 90.04it/s]\n",
      "Batches: 100%|██████████| 1/1 [00:00<00:00, 76.67it/s]\n",
      "Batches: 100%|██████████| 1/1 [00:00<00:00, 84.00it/s]\n",
      "Batches: 100%|██████████| 1/1 [00:00<00:00, 88.95it/s]\n",
      "Batches: 100%|██████████| 1/1 [00:00<00:00, 89.27it/s]\n",
      "Batches:   0%|          | 0/1 [00:00<?, ?it/s]"
     ]
    },
    {
     "name": "stdout",
     "output_type": "stream",
     "text": [
      "i :  957\n",
      "i :  958\n",
      "i :  959\n",
      "i :  960\n",
      "i :  961\n",
      "i :  962\n",
      "i :  963\n",
      "i :  964\n",
      "i :  965\n"
     ]
    },
    {
     "name": "stderr",
     "output_type": "stream",
     "text": [
      "Batches: 100%|██████████| 1/1 [00:00<00:00, 73.82it/s]\n",
      "Batches: 100%|██████████| 1/1 [00:00<00:00, 89.20it/s]\n",
      "Batches: 100%|██████████| 1/1 [00:00<00:00, 87.71it/s]\n",
      "Batches: 100%|██████████| 1/1 [00:00<00:00, 89.55it/s]\n",
      "Batches: 100%|██████████| 1/1 [00:00<00:00, 90.32it/s]\n",
      "Batches: 100%|██████████| 1/1 [00:00<00:00, 91.36it/s]\n",
      "Batches: 100%|██████████| 1/1 [00:00<00:00, 87.92it/s]\n",
      "Batches: 100%|██████████| 1/1 [00:00<00:00, 89.81it/s]\n",
      "Batches: 100%|██████████| 1/1 [00:00<00:00, 88.10it/s]\n",
      "Batches: 100%|██████████| 1/1 [00:00<00:00, 89.33it/s]\n",
      "Batches: 100%|██████████| 1/1 [00:00<00:00, 88.66it/s]\n",
      "Batches: 100%|██████████| 1/1 [00:00<00:00, 88.56it/s]\n",
      "Batches: 100%|██████████| 1/1 [00:00<00:00, 91.13it/s]\n",
      "Batches: 100%|██████████| 1/1 [00:00<00:00, 90.23it/s]\n",
      "Batches: 100%|██████████| 1/1 [00:00<00:00, 77.66it/s]\n",
      "Batches: 100%|██████████| 1/1 [00:00<00:00, 83.46it/s]\n",
      "Batches: 100%|██████████| 1/1 [00:00<00:00, 88.42it/s]\n",
      "Batches: 100%|██████████| 1/1 [00:00<00:00, 88.77it/s]\n"
     ]
    },
    {
     "name": "stdout",
     "output_type": "stream",
     "text": [
      "i :  966\n",
      "i :  967\n",
      "i :  968\n",
      "i :  969\n",
      "i :  970\n",
      "i :  971\n",
      "i :  972\n",
      "i :  973\n",
      "i :  974\n"
     ]
    },
    {
     "name": "stderr",
     "output_type": "stream",
     "text": [
      "Batches: 100%|██████████| 1/1 [00:00<00:00, 72.02it/s]\n",
      "Batches: 100%|██████████| 1/1 [00:00<00:00, 89.98it/s]\n",
      "Batches: 100%|██████████| 1/1 [00:00<00:00, 89.00it/s]\n",
      "Batches: 100%|██████████| 1/1 [00:00<00:00, 87.81it/s]\n",
      "Batches: 100%|██████████| 1/1 [00:00<00:00, 88.94it/s]\n",
      "Batches: 100%|██████████| 1/1 [00:00<00:00, 89.40it/s]\n",
      "Batches: 100%|██████████| 1/1 [00:00<00:00, 86.84it/s]\n",
      "Batches: 100%|██████████| 1/1 [00:00<00:00, 89.84it/s]\n",
      "Batches: 100%|██████████| 1/1 [00:00<00:00, 88.34it/s]\n",
      "Batches: 100%|██████████| 1/1 [00:00<00:00, 89.54it/s]\n",
      "Batches: 100%|██████████| 1/1 [00:00<00:00, 87.34it/s]\n",
      "Batches: 100%|██████████| 1/1 [00:00<00:00, 88.73it/s]\n",
      "Batches: 100%|██████████| 1/1 [00:00<00:00, 90.94it/s]\n",
      "Batches: 100%|██████████| 1/1 [00:00<00:00, 90.50it/s]\n",
      "Batches: 100%|██████████| 1/1 [00:00<00:00, 75.37it/s]\n",
      "Batches: 100%|██████████| 1/1 [00:00<00:00, 88.51it/s]\n",
      "Batches: 100%|██████████| 1/1 [00:00<00:00, 89.43it/s]\n",
      "Batches: 100%|██████████| 1/1 [00:00<00:00, 89.60it/s]\n",
      "Batches:   0%|          | 0/1 [00:00<?, ?it/s]"
     ]
    },
    {
     "name": "stdout",
     "output_type": "stream",
     "text": [
      "i :  975\n",
      "i :  976\n",
      "i :  977\n",
      "i :  978\n",
      "i :  979\n",
      "i :  980\n",
      "i :  981\n",
      "i :  982\n",
      "i :  983\n"
     ]
    },
    {
     "name": "stderr",
     "output_type": "stream",
     "text": [
      "Batches: 100%|██████████| 1/1 [00:00<00:00, 85.71it/s]\n",
      "Batches: 100%|██████████| 1/1 [00:00<00:00, 89.47it/s]\n",
      "Batches: 100%|██████████| 1/1 [00:00<00:00, 86.50it/s]\n",
      "Batches: 100%|██████████| 1/1 [00:00<00:00, 76.53it/s]\n",
      "Batches: 100%|██████████| 1/1 [00:00<00:00, 87.98it/s]\n",
      "Batches: 100%|██████████| 1/1 [00:00<00:00, 88.96it/s]\n",
      "Batches: 100%|██████████| 1/1 [00:00<00:00, 87.94it/s]\n",
      "Batches: 100%|██████████| 1/1 [00:00<00:00, 89.16it/s]\n",
      "Batches: 100%|██████████| 1/1 [00:00<00:00, 87.24it/s]\n",
      "Batches: 100%|██████████| 1/1 [00:00<00:00, 90.17it/s]\n",
      "Batches: 100%|██████████| 1/1 [00:00<00:00, 88.00it/s]\n",
      "Batches: 100%|██████████| 1/1 [00:00<00:00, 88.41it/s]\n",
      "Batches: 100%|██████████| 1/1 [00:00<00:00, 88.75it/s]\n",
      "Batches: 100%|██████████| 1/1 [00:00<00:00, 88.79it/s]\n",
      "Batches: 100%|██████████| 1/1 [00:00<00:00, 87.04it/s]\n",
      "Batches: 100%|██████████| 1/1 [00:00<00:00, 88.96it/s]\n",
      "Batches: 100%|██████████| 1/1 [00:00<00:00, 90.55it/s]\n",
      "Batches: 100%|██████████| 1/1 [00:00<00:00, 89.49it/s]\n"
     ]
    },
    {
     "name": "stdout",
     "output_type": "stream",
     "text": [
      "i :  984\n",
      "i :  985\n",
      "i :  986\n",
      "i :  987\n",
      "i :  988\n",
      "i :  989\n",
      "i :  990\n",
      "i :  991\n",
      "i :  992\n"
     ]
    },
    {
     "name": "stderr",
     "output_type": "stream",
     "text": [
      "Batches: 100%|██████████| 1/1 [00:00<00:00, 86.27it/s]\n",
      "Batches: 100%|██████████| 1/1 [00:00<00:00, 88.56it/s]\n",
      "Batches: 100%|██████████| 1/1 [00:00<00:00, 88.89it/s]\n",
      "Batches: 100%|██████████| 1/1 [00:00<00:00, 89.46it/s]\n",
      "Batches: 100%|██████████| 1/1 [00:00<00:00, 88.50it/s]\n",
      "Batches: 100%|██████████| 1/1 [00:00<00:00, 89.66it/s]\n",
      "Batches: 100%|██████████| 1/1 [00:00<00:00, 86.71it/s]\n",
      "Batches: 100%|██████████| 1/1 [00:00<00:00, 86.30it/s]\n",
      "Batches: 100%|██████████| 1/1 [00:00<00:00, 87.33it/s]\n",
      "Batches: 100%|██████████| 1/1 [00:00<00:00, 88.90it/s]\n",
      "Batches: 100%|██████████| 1/1 [00:00<00:00, 85.77it/s]\n",
      "Batches: 100%|██████████| 1/1 [00:00<00:00, 88.86it/s]\n",
      "Batches: 100%|██████████| 1/1 [00:00<00:00, 90.83it/s]\n",
      "Batches: 100%|██████████| 1/1 [00:00<00:00, 89.44it/s]\n",
      "Batches: 100%|██████████| 1/1 [00:00<00:00, 90.19it/s]\n",
      "Batches: 100%|██████████| 1/1 [00:00<00:00, 88.26it/s]\n",
      "Batches: 100%|██████████| 1/1 [00:00<00:00, 87.93it/s]\n",
      "Batches: 100%|██████████| 1/1 [00:00<00:00, 90.64it/s]\n"
     ]
    },
    {
     "name": "stdout",
     "output_type": "stream",
     "text": [
      "i :  993\n",
      "i :  994\n",
      "i :  995\n",
      "i :  996\n",
      "i :  997\n",
      "i :  998\n",
      "i :  999\n",
      "i :  1000\n",
      "i :  1001\n"
     ]
    },
    {
     "name": "stderr",
     "output_type": "stream",
     "text": [
      "Batches: 100%|██████████| 1/1 [00:00<00:00, 78.40it/s]\n",
      "Batches: 100%|██████████| 1/1 [00:00<00:00, 82.80it/s]\n",
      "Batches: 100%|██████████| 1/1 [00:00<00:00, 87.27it/s]\n",
      "Batches: 100%|██████████| 1/1 [00:00<00:00, 88.22it/s]\n",
      "Batches: 100%|██████████| 1/1 [00:00<00:00, 87.61it/s]\n",
      "Batches: 100%|██████████| 1/1 [00:00<00:00, 88.59it/s]\n",
      "Batches: 100%|██████████| 1/1 [00:00<00:00, 87.34it/s]\n",
      "Batches: 100%|██████████| 1/1 [00:00<00:00, 88.44it/s]\n",
      "Batches: 100%|██████████| 1/1 [00:00<00:00, 87.14it/s]\n",
      "Batches: 100%|██████████| 1/1 [00:00<00:00, 88.44it/s]\n",
      "Batches: 100%|██████████| 1/1 [00:00<00:00, 87.99it/s]\n",
      "Batches: 100%|██████████| 1/1 [00:00<00:00, 89.03it/s]\n",
      "Batches: 100%|██████████| 1/1 [00:00<00:00, 88.76it/s]\n",
      "Batches: 100%|██████████| 1/1 [00:00<00:00, 89.05it/s]\n",
      "Batches: 100%|██████████| 1/1 [00:00<00:00, 87.52it/s]\n",
      "Batches: 100%|██████████| 1/1 [00:00<00:00, 90.71it/s]\n",
      "Batches: 100%|██████████| 1/1 [00:00<00:00, 90.36it/s]\n",
      "Batches: 100%|██████████| 1/1 [00:00<00:00, 88.50it/s]\n",
      "Batches:   0%|          | 0/1 [00:00<?, ?it/s]"
     ]
    },
    {
     "name": "stdout",
     "output_type": "stream",
     "text": [
      "i :  1002\n",
      "i :  1003\n",
      "i :  1004\n",
      "i :  1005\n",
      "i :  1006\n",
      "i :  1007\n",
      "i :  1008\n",
      "i :  1009\n",
      "i :  1010\n"
     ]
    },
    {
     "name": "stderr",
     "output_type": "stream",
     "text": [
      "Batches: 100%|██████████| 1/1 [00:00<00:00, 86.81it/s]\n",
      "Batches: 100%|██████████| 1/1 [00:00<00:00, 88.06it/s]\n",
      "Batches: 100%|██████████| 1/1 [00:00<00:00, 77.45it/s]\n",
      "Batches: 100%|██████████| 1/1 [00:00<00:00, 82.19it/s]\n",
      "Batches: 100%|██████████| 1/1 [00:00<00:00, 83.09it/s]\n",
      "Batches: 100%|██████████| 1/1 [00:00<00:00, 66.46it/s]\n",
      "Batches: 100%|██████████| 1/1 [00:00<00:00, 89.14it/s]\n",
      "Batches: 100%|██████████| 1/1 [00:00<00:00, 87.64it/s]\n",
      "Batches: 100%|██████████| 1/1 [00:00<00:00, 89.47it/s]\n",
      "Batches: 100%|██████████| 1/1 [00:00<00:00, 86.68it/s]\n",
      "Batches: 100%|██████████| 1/1 [00:00<00:00, 88.29it/s]\n",
      "Batches: 100%|██████████| 1/1 [00:00<00:00, 88.72it/s]\n",
      "Batches: 100%|██████████| 1/1 [00:00<00:00, 89.21it/s]\n",
      "Batches: 100%|██████████| 1/1 [00:00<00:00, 88.00it/s]\n",
      "Batches: 100%|██████████| 1/1 [00:00<00:00, 84.40it/s]\n",
      "Batches: 100%|██████████| 1/1 [00:00<00:00, 88.40it/s]\n",
      "Batches: 100%|██████████| 1/1 [00:00<00:00, 86.53it/s]\n",
      "Batches:   0%|          | 0/1 [00:00<?, ?it/s]"
     ]
    },
    {
     "name": "stdout",
     "output_type": "stream",
     "text": [
      "i :  1011\n",
      "i :  1012\n",
      "i :  1013\n",
      "i :  1014\n",
      "i :  1015\n",
      "i :  1016\n",
      "i :  1017\n",
      "i :  1018\n"
     ]
    },
    {
     "name": "stderr",
     "output_type": "stream",
     "text": [
      "Batches: 100%|██████████| 1/1 [00:00<00:00, 86.38it/s]\n",
      "Batches: 100%|██████████| 1/1 [00:00<00:00, 89.40it/s]\n",
      "Batches: 100%|██████████| 1/1 [00:00<00:00, 90.28it/s]\n",
      "Batches: 100%|██████████| 1/1 [00:00<00:00, 88.11it/s]\n",
      "Batches: 100%|██████████| 1/1 [00:00<00:00, 89.55it/s]\n",
      "Batches: 100%|██████████| 1/1 [00:00<00:00, 90.45it/s]\n",
      "Batches: 100%|██████████| 1/1 [00:00<00:00, 90.66it/s]\n",
      "Batches: 100%|██████████| 1/1 [00:00<00:00, 87.32it/s]\n",
      "Batches: 100%|██████████| 1/1 [00:00<00:00, 87.14it/s]\n",
      "Batches: 100%|██████████| 1/1 [00:00<00:00, 88.43it/s]\n",
      "Batches: 100%|██████████| 1/1 [00:00<00:00, 87.82it/s]\n",
      "Batches: 100%|██████████| 1/1 [00:00<00:00, 88.22it/s]\n",
      "Batches: 100%|██████████| 1/1 [00:00<00:00, 88.76it/s]\n",
      "Batches: 100%|██████████| 1/1 [00:00<00:00, 86.13it/s]\n",
      "Batches: 100%|██████████| 1/1 [00:00<00:00, 88.91it/s]\n",
      "Batches: 100%|██████████| 1/1 [00:00<00:00, 77.83it/s]\n",
      "Batches:   0%|          | 0/1 [00:00<?, ?it/s]"
     ]
    },
    {
     "name": "stdout",
     "output_type": "stream",
     "text": [
      "i :  1019\n",
      "i :  1020\n",
      "i :  1021\n",
      "i :  1022\n",
      "i :  1023\n",
      "i :  1024\n",
      "i :  1025\n",
      "i :  1026\n"
     ]
    },
    {
     "name": "stderr",
     "output_type": "stream",
     "text": [
      "Batches: 100%|██████████| 1/1 [00:00<00:00, 79.39it/s]\n",
      "Batches: 100%|██████████| 1/1 [00:00<00:00, 87.97it/s]\n",
      "Batches: 100%|██████████| 1/1 [00:00<00:00, 87.89it/s]\n",
      "Batches: 100%|██████████| 1/1 [00:00<00:00, 88.63it/s]\n",
      "Batches: 100%|██████████| 1/1 [00:00<00:00, 88.30it/s]\n",
      "Batches: 100%|██████████| 1/1 [00:00<00:00, 88.91it/s]\n",
      "Batches: 100%|██████████| 1/1 [00:00<00:00, 87.67it/s]\n",
      "Batches: 100%|██████████| 1/1 [00:00<00:00, 89.60it/s]\n",
      "Batches: 100%|██████████| 1/1 [00:00<00:00, 87.83it/s]\n",
      "Batches: 100%|██████████| 1/1 [00:00<00:00, 71.67it/s]\n",
      "Batches: 100%|██████████| 1/1 [00:00<00:00, 69.24it/s]\n",
      "Batches: 100%|██████████| 1/1 [00:00<00:00, 87.95it/s]\n",
      "Batches: 100%|██████████| 1/1 [00:00<00:00, 88.40it/s]\n",
      "Batches: 100%|██████████| 1/1 [00:00<00:00, 89.51it/s]\n",
      "Batches: 100%|██████████| 1/1 [00:00<00:00, 88.54it/s]\n",
      "Batches: 100%|██████████| 1/1 [00:00<00:00, 89.90it/s]\n",
      "Batches:   0%|          | 0/1 [00:00<?, ?it/s]"
     ]
    },
    {
     "name": "stdout",
     "output_type": "stream",
     "text": [
      "i :  1027\n",
      "i :  1028\n",
      "i :  1029\n",
      "i :  1030\n",
      "i :  1031\n",
      "i :  1032\n",
      "i :  1033\n",
      "i :  1034\n"
     ]
    },
    {
     "name": "stderr",
     "output_type": "stream",
     "text": [
      "Batches: 100%|██████████| 1/1 [00:00<00:00, 88.24it/s]\n",
      "Batches: 100%|██████████| 1/1 [00:00<00:00, 90.08it/s]\n",
      "Batches: 100%|██████████| 1/1 [00:00<00:00, 89.31it/s]\n",
      "Batches: 100%|██████████| 1/1 [00:00<00:00, 90.46it/s]\n",
      "Batches: 100%|██████████| 1/1 [00:00<00:00, 90.79it/s]\n",
      "Batches: 100%|██████████| 1/1 [00:00<00:00, 90.06it/s]\n",
      "Batches: 100%|██████████| 1/1 [00:00<00:00, 89.42it/s]\n",
      "Batches: 100%|██████████| 1/1 [00:00<00:00, 89.39it/s]\n",
      "Batches: 100%|██████████| 1/1 [00:00<00:00, 90.13it/s]\n",
      "Batches: 100%|██████████| 1/1 [00:00<00:00, 90.23it/s]\n",
      "Batches: 100%|██████████| 1/1 [00:00<00:00, 89.48it/s]\n",
      "Batches: 100%|██████████| 1/1 [00:00<00:00, 87.98it/s]\n",
      "Batches: 100%|██████████| 1/1 [00:00<00:00, 88.92it/s]\n",
      "Batches: 100%|██████████| 1/1 [00:00<00:00, 87.89it/s]\n",
      "Batches: 100%|██████████| 1/1 [00:00<00:00, 89.24it/s]\n",
      "Batches: 100%|██████████| 1/1 [00:00<00:00, 90.43it/s]\n",
      "Batches: 100%|██████████| 1/1 [00:00<00:00, 88.96it/s]\n",
      "Batches:   0%|          | 0/1 [00:00<?, ?it/s]"
     ]
    },
    {
     "name": "stdout",
     "output_type": "stream",
     "text": [
      "i :  1035\n",
      "i :  1036\n",
      "i :  1037\n",
      "i :  1038\n",
      "i :  1039\n",
      "i :  1040\n",
      "i :  1041\n",
      "i :  1042\n",
      "i :  1043\n"
     ]
    },
    {
     "name": "stderr",
     "output_type": "stream",
     "text": [
      "Batches: 100%|██████████| 1/1 [00:00<00:00, 79.38it/s]\n",
      "Batches: 100%|██████████| 1/1 [00:00<00:00, 81.37it/s]\n",
      "Batches: 100%|██████████| 1/1 [00:00<00:00, 88.13it/s]\n",
      "Batches: 100%|██████████| 1/1 [00:00<00:00, 90.22it/s]\n",
      "Batches: 100%|██████████| 1/1 [00:00<00:00, 88.59it/s]\n",
      "Batches: 100%|██████████| 1/1 [00:00<00:00, 89.47it/s]\n",
      "Batches: 100%|██████████| 1/1 [00:00<00:00, 88.31it/s]\n",
      "Batches: 100%|██████████| 1/1 [00:00<00:00, 89.71it/s]\n",
      "Batches: 100%|██████████| 1/1 [00:00<00:00, 89.85it/s]\n",
      "Batches: 100%|██████████| 1/1 [00:00<00:00, 89.41it/s]\n",
      "Batches: 100%|██████████| 1/1 [00:00<00:00, 91.13it/s]\n",
      "Batches: 100%|██████████| 1/1 [00:00<00:00, 89.80it/s]\n",
      "Batches: 100%|██████████| 1/1 [00:00<00:00, 91.07it/s]\n",
      "Batches: 100%|██████████| 1/1 [00:00<00:00, 89.79it/s]\n",
      "Batches: 100%|██████████| 1/1 [00:00<00:00, 88.13it/s]\n",
      "Batches: 100%|██████████| 1/1 [00:00<00:00, 89.47it/s]\n",
      "Batches: 100%|██████████| 1/1 [00:00<00:00, 77.64it/s]\n",
      "Batches: 100%|██████████| 1/1 [00:00<00:00, 81.38it/s]\n"
     ]
    },
    {
     "name": "stdout",
     "output_type": "stream",
     "text": [
      "i :  1044\n",
      "i :  1045\n",
      "i :  1046\n",
      "i :  1047\n",
      "i :  1048\n",
      "i :  1049\n",
      "i :  1050\n",
      "i :  1051\n",
      "i :  1052\n"
     ]
    },
    {
     "name": "stderr",
     "output_type": "stream",
     "text": [
      "Batches: 100%|██████████| 1/1 [00:00<00:00, 87.83it/s]\n",
      "Batches: 100%|██████████| 1/1 [00:00<00:00, 90.16it/s]\n",
      "Batches: 100%|██████████| 1/1 [00:00<00:00, 90.58it/s]\n",
      "Batches: 100%|██████████| 1/1 [00:00<00:00, 89.11it/s]\n",
      "Batches: 100%|██████████| 1/1 [00:00<00:00, 88.15it/s]\n",
      "Batches: 100%|██████████| 1/1 [00:00<00:00, 87.77it/s]\n",
      "Batches: 100%|██████████| 1/1 [00:00<00:00, 82.70it/s]\n",
      "Batches: 100%|██████████| 1/1 [00:00<00:00, 90.35it/s]\n",
      "Batches: 100%|██████████| 1/1 [00:00<00:00, 90.21it/s]\n",
      "Batches: 100%|██████████| 1/1 [00:00<00:00, 89.35it/s]\n",
      "Batches: 100%|██████████| 1/1 [00:00<00:00, 86.92it/s]\n",
      "Batches: 100%|██████████| 1/1 [00:00<00:00, 89.10it/s]\n",
      "Batches: 100%|██████████| 1/1 [00:00<00:00, 88.66it/s]\n",
      "Batches: 100%|██████████| 1/1 [00:00<00:00, 88.57it/s]\n",
      "Batches: 100%|██████████| 1/1 [00:00<00:00, 87.97it/s]\n",
      "Batches: 100%|██████████| 1/1 [00:00<00:00, 89.57it/s]\n",
      "Batches: 100%|██████████| 1/1 [00:00<00:00, 71.22it/s]\n",
      "Batches:   0%|          | 0/1 [00:00<?, ?it/s]"
     ]
    },
    {
     "name": "stdout",
     "output_type": "stream",
     "text": [
      "i :  1053\n",
      "i :  1054\n",
      "i :  1055\n",
      "i :  1056\n",
      "i :  1057\n",
      "i :  1058\n",
      "i :  1059\n",
      "i :  1060\n"
     ]
    },
    {
     "name": "stderr",
     "output_type": "stream",
     "text": [
      "Batches: 100%|██████████| 1/1 [00:00<00:00, 88.15it/s]\n",
      "Batches: 100%|██████████| 1/1 [00:00<00:00, 72.77it/s]\n",
      "Batches: 100%|██████████| 1/1 [00:00<00:00, 89.14it/s]\n",
      "Batches: 100%|██████████| 1/1 [00:00<00:00, 89.83it/s]\n",
      "Batches: 100%|██████████| 1/1 [00:00<00:00, 88.71it/s]\n",
      "Batches: 100%|██████████| 1/1 [00:00<00:00, 90.76it/s]\n",
      "Batches: 100%|██████████| 1/1 [00:00<00:00, 89.72it/s]\n",
      "Batches: 100%|██████████| 1/1 [00:00<00:00, 91.49it/s]\n",
      "Batches: 100%|██████████| 1/1 [00:00<00:00, 89.04it/s]\n",
      "Batches: 100%|██████████| 1/1 [00:00<00:00, 87.64it/s]\n",
      "Batches: 100%|██████████| 1/1 [00:00<00:00, 89.55it/s]\n",
      "Batches: 100%|██████████| 1/1 [00:00<00:00, 88.73it/s]\n",
      "Batches: 100%|██████████| 1/1 [00:00<00:00, 88.59it/s]\n",
      "Batches: 100%|██████████| 1/1 [00:00<00:00, 90.19it/s]\n",
      "Batches: 100%|██████████| 1/1 [00:00<00:00, 88.64it/s]\n",
      "Batches: 100%|██████████| 1/1 [00:00<00:00, 87.98it/s]\n",
      "Batches: 100%|██████████| 1/1 [00:00<00:00, 89.11it/s]\n"
     ]
    },
    {
     "name": "stdout",
     "output_type": "stream",
     "text": [
      "i :  1061\n",
      "i :  1062\n",
      "i :  1063\n",
      "i :  1064\n",
      "i :  1065\n",
      "i :  1066\n",
      "i :  1067\n",
      "i :  1068\n",
      "i :  1069\n"
     ]
    },
    {
     "name": "stderr",
     "output_type": "stream",
     "text": [
      "Batches: 100%|██████████| 1/1 [00:00<00:00, 86.23it/s]\n",
      "Batches: 100%|██████████| 1/1 [00:00<00:00, 88.55it/s]\n",
      "Batches: 100%|██████████| 1/1 [00:00<00:00, 87.30it/s]\n",
      "Batches: 100%|██████████| 1/1 [00:00<00:00, 89.21it/s]\n",
      "Batches: 100%|██████████| 1/1 [00:00<00:00, 89.84it/s]\n",
      "Batches: 100%|██████████| 1/1 [00:00<00:00, 88.98it/s]\n",
      "Batches: 100%|██████████| 1/1 [00:00<00:00, 87.22it/s]\n",
      "Batches: 100%|██████████| 1/1 [00:00<00:00, 88.83it/s]\n",
      "Batches: 100%|██████████| 1/1 [00:00<00:00, 88.19it/s]\n",
      "Batches: 100%|██████████| 1/1 [00:00<00:00, 91.05it/s]\n",
      "Batches: 100%|██████████| 1/1 [00:00<00:00, 87.59it/s]\n",
      "Batches: 100%|██████████| 1/1 [00:00<00:00, 89.17it/s]\n",
      "Batches: 100%|██████████| 1/1 [00:00<00:00, 86.55it/s]\n",
      "Batches: 100%|██████████| 1/1 [00:00<00:00, 88.47it/s]\n",
      "Batches: 100%|██████████| 1/1 [00:00<00:00, 86.59it/s]\n",
      "Batches: 100%|██████████| 1/1 [00:00<00:00, 87.31it/s]\n",
      "Batches: 100%|██████████| 1/1 [00:00<00:00, 86.85it/s]\n",
      "Batches: 100%|██████████| 1/1 [00:00<00:00, 87.85it/s]\n"
     ]
    },
    {
     "name": "stdout",
     "output_type": "stream",
     "text": [
      "i :  1070\n",
      "i :  1071\n",
      "i :  1072\n",
      "i :  1073\n",
      "i :  1074\n",
      "i :  1075\n",
      "i :  1076\n",
      "i :  1077\n"
     ]
    },
    {
     "name": "stderr",
     "output_type": "stream",
     "text": [
      "Batches: 100%|██████████| 1/1 [00:00<00:00, 86.58it/s]\n",
      "Batches: 100%|██████████| 1/1 [00:00<00:00, 88.02it/s]\n",
      "Batches: 100%|██████████| 1/1 [00:00<00:00, 87.20it/s]\n",
      "Batches: 100%|██████████| 1/1 [00:00<00:00, 88.25it/s]\n",
      "Batches: 100%|██████████| 1/1 [00:00<00:00, 90.52it/s]\n",
      "Batches: 100%|██████████| 1/1 [00:00<00:00, 89.12it/s]\n",
      "Batches: 100%|██████████| 1/1 [00:00<00:00, 86.82it/s]\n",
      "Batches: 100%|██████████| 1/1 [00:00<00:00, 89.27it/s]\n",
      "Batches: 100%|██████████| 1/1 [00:00<00:00, 90.62it/s]\n",
      "Batches: 100%|██████████| 1/1 [00:00<00:00, 89.11it/s]\n",
      "Batches: 100%|██████████| 1/1 [00:00<00:00, 89.07it/s]\n",
      "Batches: 100%|██████████| 1/1 [00:00<00:00, 90.07it/s]\n",
      "Batches: 100%|██████████| 1/1 [00:00<00:00, 87.14it/s]\n",
      "Batches: 100%|██████████| 1/1 [00:00<00:00, 87.63it/s]\n",
      "Batches: 100%|██████████| 1/1 [00:00<00:00, 87.07it/s]\n",
      "Batches: 100%|██████████| 1/1 [00:00<00:00, 90.42it/s]\n",
      "Batches: 100%|██████████| 1/1 [00:00<00:00, 74.38it/s]\n",
      "Batches:   0%|          | 0/1 [00:00<?, ?it/s]"
     ]
    },
    {
     "name": "stdout",
     "output_type": "stream",
     "text": [
      "i :  1078\n",
      "i :  1079\n",
      "i :  1080\n",
      "i :  1081\n",
      "i :  1082\n",
      "i :  1083\n",
      "i :  1084\n",
      "i :  1085\n",
      "i :  1086\n"
     ]
    },
    {
     "name": "stderr",
     "output_type": "stream",
     "text": [
      "Batches: 100%|██████████| 1/1 [00:00<00:00, 87.65it/s]\n",
      "Batches: 100%|██████████| 1/1 [00:00<00:00, 77.30it/s]\n",
      "Batches: 100%|██████████| 1/1 [00:00<00:00, 89.68it/s]\n",
      "Batches: 100%|██████████| 1/1 [00:00<00:00, 89.64it/s]\n",
      "Batches: 100%|██████████| 1/1 [00:00<00:00, 89.08it/s]\n",
      "Batches: 100%|██████████| 1/1 [00:00<00:00, 87.16it/s]\n",
      "Batches: 100%|██████████| 1/1 [00:00<00:00, 90.54it/s]\n",
      "Batches: 100%|██████████| 1/1 [00:00<00:00, 88.41it/s]\n",
      "Batches: 100%|██████████| 1/1 [00:00<00:00, 89.52it/s]\n",
      "Batches: 100%|██████████| 1/1 [00:00<00:00, 89.79it/s]\n",
      "Batches: 100%|██████████| 1/1 [00:00<00:00, 90.47it/s]\n",
      "Batches: 100%|██████████| 1/1 [00:00<00:00, 88.48it/s]\n",
      "Batches: 100%|██████████| 1/1 [00:00<00:00, 89.35it/s]\n",
      "Batches: 100%|██████████| 1/1 [00:00<00:00, 86.81it/s]\n",
      "Batches: 100%|██████████| 1/1 [00:00<00:00, 88.92it/s]\n",
      "Batches: 100%|██████████| 1/1 [00:00<00:00, 89.18it/s]\n",
      "Batches: 100%|██████████| 1/1 [00:00<00:00, 88.58it/s]\n",
      "Batches:   0%|          | 0/1 [00:00<?, ?it/s]"
     ]
    },
    {
     "name": "stdout",
     "output_type": "stream",
     "text": [
      "i :  1087\n",
      "i :  1088\n",
      "i :  1089\n",
      "i :  1090\n",
      "i :  1091\n",
      "i :  1092\n",
      "i :  1093\n",
      "i :  1094\n",
      "i :  1095\n"
     ]
    },
    {
     "name": "stderr",
     "output_type": "stream",
     "text": [
      "Batches: 100%|██████████| 1/1 [00:00<00:00, 79.40it/s]\n",
      "Batches: 100%|██████████| 1/1 [00:00<00:00, 70.76it/s]\n",
      "Batches: 100%|██████████| 1/1 [00:00<00:00, 89.91it/s]\n",
      "Batches: 100%|██████████| 1/1 [00:00<00:00, 89.33it/s]\n",
      "Batches: 100%|██████████| 1/1 [00:00<00:00, 90.07it/s]\n",
      "Batches: 100%|██████████| 1/1 [00:00<00:00, 88.37it/s]\n",
      "Batches: 100%|██████████| 1/1 [00:00<00:00, 90.12it/s]\n",
      "Batches: 100%|██████████| 1/1 [00:00<00:00, 89.22it/s]\n",
      "Batches: 100%|██████████| 1/1 [00:00<00:00, 88.21it/s]\n",
      "Batches: 100%|██████████| 1/1 [00:00<00:00, 88.35it/s]\n",
      "Batches: 100%|██████████| 1/1 [00:00<00:00, 87.89it/s]\n",
      "Batches: 100%|██████████| 1/1 [00:00<00:00, 83.85it/s]\n",
      "Batches: 100%|██████████| 1/1 [00:00<00:00, 87.22it/s]\n",
      "Batches: 100%|██████████| 1/1 [00:00<00:00, 87.94it/s]\n",
      "Batches: 100%|██████████| 1/1 [00:00<00:00, 90.08it/s]\n",
      "Batches: 100%|██████████| 1/1 [00:00<00:00, 88.66it/s]\n",
      "Batches: 100%|██████████| 1/1 [00:00<00:00, 90.47it/s]\n",
      "Batches: 100%|██████████| 1/1 [00:00<00:00, 88.68it/s]\n",
      "Batches:   0%|          | 0/1 [00:00<?, ?it/s]"
     ]
    },
    {
     "name": "stdout",
     "output_type": "stream",
     "text": [
      "i :  1096\n",
      "i :  1097\n",
      "i :  1098\n",
      "i :  1099\n",
      "i :  1100\n",
      "i :  1101\n",
      "i :  1102\n",
      "i :  1103\n",
      "i :  1104\n"
     ]
    },
    {
     "name": "stderr",
     "output_type": "stream",
     "text": [
      "Batches: 100%|██████████| 1/1 [00:00<00:00, 72.90it/s]\n",
      "Batches: 100%|██████████| 1/1 [00:00<00:00, 88.94it/s]\n",
      "Batches: 100%|██████████| 1/1 [00:00<00:00, 90.47it/s]\n",
      "Batches: 100%|██████████| 1/1 [00:00<00:00, 89.33it/s]\n",
      "Batches: 100%|██████████| 1/1 [00:00<00:00, 87.88it/s]\n",
      "Batches: 100%|██████████| 1/1 [00:00<00:00, 90.27it/s]\n",
      "Batches: 100%|██████████| 1/1 [00:00<00:00, 87.31it/s]\n",
      "Batches: 100%|██████████| 1/1 [00:00<00:00, 89.42it/s]\n",
      "Batches: 100%|██████████| 1/1 [00:00<00:00, 87.89it/s]\n",
      "Batches: 100%|██████████| 1/1 [00:00<00:00, 89.72it/s]\n",
      "Batches: 100%|██████████| 1/1 [00:00<00:00, 75.70it/s]\n",
      "Batches: 100%|██████████| 1/1 [00:00<00:00, 88.27it/s]\n",
      "Batches: 100%|██████████| 1/1 [00:00<00:00, 88.06it/s]\n",
      "Batches: 100%|██████████| 1/1 [00:00<00:00, 88.05it/s]\n",
      "Batches: 100%|██████████| 1/1 [00:00<00:00, 89.46it/s]\n",
      "Batches: 100%|██████████| 1/1 [00:00<00:00, 89.82it/s]\n",
      "Batches: 100%|██████████| 1/1 [00:00<00:00, 88.33it/s]\n",
      "Batches: 100%|██████████| 1/1 [00:00<00:00, 88.60it/s]\n"
     ]
    },
    {
     "name": "stdout",
     "output_type": "stream",
     "text": [
      "i :  1105\n",
      "i :  1106\n",
      "i :  1107\n",
      "i :  1108\n",
      "i :  1109\n",
      "i :  1110\n",
      "i :  1111\n",
      "i :  1112\n",
      "i :  1113\n"
     ]
    },
    {
     "name": "stderr",
     "output_type": "stream",
     "text": [
      "Batches: 100%|██████████| 1/1 [00:00<00:00, 85.94it/s]\n",
      "Batches: 100%|██████████| 1/1 [00:00<00:00, 88.93it/s]\n",
      "Batches: 100%|██████████| 1/1 [00:00<00:00, 91.07it/s]\n",
      "Batches: 100%|██████████| 1/1 [00:00<00:00, 89.91it/s]\n",
      "Batches: 100%|██████████| 1/1 [00:00<00:00, 85.73it/s]\n",
      "Batches: 100%|██████████| 1/1 [00:00<00:00, 89.05it/s]\n",
      "Batches: 100%|██████████| 1/1 [00:00<00:00, 87.28it/s]\n",
      "Batches: 100%|██████████| 1/1 [00:00<00:00, 88.02it/s]\n",
      "Batches: 100%|██████████| 1/1 [00:00<00:00, 88.09it/s]\n",
      "Batches: 100%|██████████| 1/1 [00:00<00:00, 88.91it/s]\n",
      "Batches: 100%|██████████| 1/1 [00:00<00:00, 78.10it/s]\n",
      "Batches: 100%|██████████| 1/1 [00:00<00:00, 80.50it/s]\n",
      "Batches: 100%|██████████| 1/1 [00:00<00:00, 91.12it/s]\n",
      "Batches: 100%|██████████| 1/1 [00:00<00:00, 89.76it/s]\n",
      "Batches: 100%|██████████| 1/1 [00:00<00:00, 90.60it/s]\n",
      "Batches: 100%|██████████| 1/1 [00:00<00:00, 88.85it/s]\n",
      "Batches: 100%|██████████| 1/1 [00:00<00:00, 87.68it/s]\n",
      "Batches:   0%|          | 0/1 [00:00<?, ?it/s]"
     ]
    },
    {
     "name": "stdout",
     "output_type": "stream",
     "text": [
      "i :  1114\n",
      "i :  1115\n",
      "i :  1116\n",
      "i :  1117\n",
      "i :  1118\n",
      "i :  1119\n",
      "i :  1120\n",
      "i :  1121\n"
     ]
    },
    {
     "name": "stderr",
     "output_type": "stream",
     "text": [
      "Batches: 100%|██████████| 1/1 [00:00<00:00, 86.81it/s]\n",
      "Batches: 100%|██████████| 1/1 [00:00<00:00, 87.36it/s]\n",
      "Batches: 100%|██████████| 1/1 [00:00<00:00, 89.32it/s]\n",
      "Batches: 100%|██████████| 1/1 [00:00<00:00, 88.27it/s]\n",
      "Batches: 100%|██████████| 1/1 [00:00<00:00, 89.08it/s]\n",
      "Batches: 100%|██████████| 1/1 [00:00<00:00, 90.96it/s]\n",
      "Batches: 100%|██████████| 1/1 [00:00<00:00, 89.07it/s]\n",
      "Batches: 100%|██████████| 1/1 [00:00<00:00, 87.97it/s]\n",
      "Batches: 100%|██████████| 1/1 [00:00<00:00, 88.89it/s]\n",
      "Batches: 100%|██████████| 1/1 [00:00<00:00, 88.20it/s]\n",
      "Batches: 100%|██████████| 1/1 [00:00<00:00, 88.98it/s]\n",
      "Batches: 100%|██████████| 1/1 [00:00<00:00, 87.47it/s]\n",
      "Batches: 100%|██████████| 1/1 [00:00<00:00, 88.66it/s]\n",
      "Batches: 100%|██████████| 1/1 [00:00<00:00, 87.57it/s]\n",
      "Batches: 100%|██████████| 1/1 [00:00<00:00, 89.45it/s]\n",
      "Batches: 100%|██████████| 1/1 [00:00<00:00, 87.03it/s]\n",
      "Batches: 100%|██████████| 1/1 [00:00<00:00, 89.05it/s]\n",
      "Batches:   0%|          | 0/1 [00:00<?, ?it/s]"
     ]
    },
    {
     "name": "stdout",
     "output_type": "stream",
     "text": [
      "i :  1122\n",
      "i :  1123\n",
      "i :  1124\n",
      "i :  1125\n",
      "i :  1126\n",
      "i :  1127\n",
      "i :  1128\n",
      "i :  1129\n",
      "i :  1130\n"
     ]
    },
    {
     "name": "stderr",
     "output_type": "stream",
     "text": [
      "Batches: 100%|██████████| 1/1 [00:00<00:00, 88.26it/s]\n",
      "Batches: 100%|██████████| 1/1 [00:00<00:00, 89.14it/s]\n",
      "Batches: 100%|██████████| 1/1 [00:00<00:00, 87.24it/s]\n",
      "Batches: 100%|██████████| 1/1 [00:00<00:00, 89.20it/s]\n",
      "Batches: 100%|██████████| 1/1 [00:00<00:00, 88.86it/s]\n",
      "Batches: 100%|██████████| 1/1 [00:00<00:00, 88.04it/s]\n",
      "Batches: 100%|██████████| 1/1 [00:00<00:00, 87.20it/s]\n",
      "Batches: 100%|██████████| 1/1 [00:00<00:00, 88.36it/s]\n",
      "Batches: 100%|██████████| 1/1 [00:00<00:00, 75.93it/s]\n",
      "Batches: 100%|██████████| 1/1 [00:00<00:00, 89.09it/s]\n",
      "Batches: 100%|██████████| 1/1 [00:00<00:00, 88.98it/s]\n",
      "Batches: 100%|██████████| 1/1 [00:00<00:00, 88.81it/s]\n",
      "Batches: 100%|██████████| 1/1 [00:00<00:00, 89.29it/s]\n",
      "Batches: 100%|██████████| 1/1 [00:00<00:00, 88.60it/s]\n",
      "Batches: 100%|██████████| 1/1 [00:00<00:00, 90.57it/s]\n",
      "Batches: 100%|██████████| 1/1 [00:00<00:00, 88.85it/s]\n",
      "Batches: 100%|██████████| 1/1 [00:00<00:00, 87.24it/s]\n",
      "Batches:   0%|          | 0/1 [00:00<?, ?it/s]"
     ]
    },
    {
     "name": "stdout",
     "output_type": "stream",
     "text": [
      "i :  1131\n",
      "i :  1132\n",
      "i :  1133\n",
      "i :  1134\n",
      "i :  1135\n",
      "i :  1136\n",
      "i :  1137\n",
      "i :  1138\n"
     ]
    },
    {
     "name": "stderr",
     "output_type": "stream",
     "text": [
      "Batches: 100%|██████████| 1/1 [00:00<00:00, 87.24it/s]\n",
      "Batches: 100%|██████████| 1/1 [00:00<00:00, 88.95it/s]\n",
      "Batches: 100%|██████████| 1/1 [00:00<00:00, 88.63it/s]\n",
      "Batches: 100%|██████████| 1/1 [00:00<00:00, 90.38it/s]\n",
      "Batches: 100%|██████████| 1/1 [00:00<00:00, 89.08it/s]\n",
      "Batches: 100%|██████████| 1/1 [00:00<00:00, 90.17it/s]\n",
      "Batches: 100%|██████████| 1/1 [00:00<00:00, 90.59it/s]\n",
      "Batches: 100%|██████████| 1/1 [00:00<00:00, 90.70it/s]\n",
      "Batches: 100%|██████████| 1/1 [00:00<00:00, 89.37it/s]\n",
      "Batches: 100%|██████████| 1/1 [00:00<00:00, 80.26it/s]\n",
      "Batches: 100%|██████████| 1/1 [00:00<00:00, 87.79it/s]\n",
      "Batches: 100%|██████████| 1/1 [00:00<00:00, 90.67it/s]\n",
      "Batches: 100%|██████████| 1/1 [00:00<00:00, 90.32it/s]\n",
      "Batches: 100%|██████████| 1/1 [00:00<00:00, 88.11it/s]\n",
      "Batches: 100%|██████████| 1/1 [00:00<00:00, 61.97it/s]\n",
      "Batches: 100%|██████████| 1/1 [00:00<00:00, 88.71it/s]\n",
      "Batches:   0%|          | 0/1 [00:00<?, ?it/s]"
     ]
    },
    {
     "name": "stdout",
     "output_type": "stream",
     "text": [
      "i :  1139\n",
      "i :  1140\n",
      "i :  1141\n",
      "i :  1142\n",
      "i :  1143\n",
      "i :  1144\n",
      "i :  1145\n",
      "i :  1146\n"
     ]
    },
    {
     "name": "stderr",
     "output_type": "stream",
     "text": [
      "Batches: 100%|██████████| 1/1 [00:00<00:00, 87.38it/s]\n",
      "Batches: 100%|██████████| 1/1 [00:00<00:00, 87.06it/s]\n",
      "Batches: 100%|██████████| 1/1 [00:00<00:00, 88.92it/s]\n",
      "Batches: 100%|██████████| 1/1 [00:00<00:00, 89.46it/s]\n",
      "Batches: 100%|██████████| 1/1 [00:00<00:00, 87.22it/s]\n",
      "Batches: 100%|██████████| 1/1 [00:00<00:00, 87.41it/s]\n",
      "Batches: 100%|██████████| 1/1 [00:00<00:00, 87.34it/s]\n",
      "Batches: 100%|██████████| 1/1 [00:00<00:00, 89.39it/s]\n",
      "Batches: 100%|██████████| 1/1 [00:00<00:00, 88.33it/s]\n",
      "Batches: 100%|██████████| 1/1 [00:00<00:00, 89.62it/s]\n",
      "Batches: 100%|██████████| 1/1 [00:00<00:00, 88.62it/s]\n",
      "Batches: 100%|██████████| 1/1 [00:00<00:00, 90.04it/s]\n",
      "Batches: 100%|██████████| 1/1 [00:00<00:00, 90.44it/s]\n",
      "Batches: 100%|██████████| 1/1 [00:00<00:00, 90.03it/s]\n",
      "Batches: 100%|██████████| 1/1 [00:00<00:00, 89.06it/s]\n",
      "Batches: 100%|██████████| 1/1 [00:00<00:00, 85.87it/s]\n",
      "Batches: 100%|██████████| 1/1 [00:00<00:00, 86.47it/s]\n"
     ]
    },
    {
     "name": "stdout",
     "output_type": "stream",
     "text": [
      "i :  1147\n",
      "i :  1148\n",
      "i :  1149\n",
      "i :  1150\n",
      "i :  1151\n",
      "i :  1152\n",
      "i :  1153\n",
      "i :  1154\n",
      "i :  1155\n"
     ]
    },
    {
     "name": "stderr",
     "output_type": "stream",
     "text": [
      "Batches: 100%|██████████| 1/1 [00:00<00:00, 87.93it/s]\n",
      "Batches: 100%|██████████| 1/1 [00:00<00:00, 89.00it/s]\n",
      "Batches: 100%|██████████| 1/1 [00:00<00:00, 89.25it/s]\n",
      "Batches: 100%|██████████| 1/1 [00:00<00:00, 88.33it/s]\n",
      "Batches: 100%|██████████| 1/1 [00:00<00:00, 87.23it/s]\n",
      "Batches: 100%|██████████| 1/1 [00:00<00:00, 88.96it/s]\n",
      "Batches: 100%|██████████| 1/1 [00:00<00:00, 87.70it/s]\n",
      "Batches: 100%|██████████| 1/1 [00:00<00:00, 89.28it/s]\n",
      "Batches: 100%|██████████| 1/1 [00:00<00:00, 86.67it/s]\n",
      "Batches: 100%|██████████| 1/1 [00:00<00:00, 61.61it/s]\n",
      "Batches: 100%|██████████| 1/1 [00:00<00:00, 88.86it/s]\n",
      "Batches: 100%|██████████| 1/1 [00:00<00:00, 87.63it/s]\n",
      "Batches: 100%|██████████| 1/1 [00:00<00:00, 88.95it/s]\n",
      "Batches: 100%|██████████| 1/1 [00:00<00:00, 89.39it/s]\n",
      "Batches: 100%|██████████| 1/1 [00:00<00:00, 85.84it/s]\n",
      "Batches: 100%|██████████| 1/1 [00:00<00:00, 87.79it/s]\n",
      "Batches: 100%|██████████| 1/1 [00:00<00:00, 89.50it/s]\n",
      "Batches:   0%|          | 0/1 [00:00<?, ?it/s]"
     ]
    },
    {
     "name": "stdout",
     "output_type": "stream",
     "text": [
      "i :  1156\n",
      "i :  1157\n",
      "i :  1158\n",
      "i :  1159\n",
      "i :  1160\n",
      "i :  1161\n",
      "i :  1162\n",
      "i :  1163\n"
     ]
    },
    {
     "name": "stderr",
     "output_type": "stream",
     "text": [
      "Batches: 100%|██████████| 1/1 [00:00<00:00, 85.42it/s]\n",
      "Batches: 100%|██████████| 1/1 [00:00<00:00, 87.85it/s]\n",
      "Batches: 100%|██████████| 1/1 [00:00<00:00, 87.56it/s]\n",
      "Batches: 100%|██████████| 1/1 [00:00<00:00, 88.30it/s]\n",
      "Batches: 100%|██████████| 1/1 [00:00<00:00, 88.20it/s]\n",
      "Batches: 100%|██████████| 1/1 [00:00<00:00, 85.64it/s]\n",
      "Batches: 100%|██████████| 1/1 [00:00<00:00, 88.67it/s]\n",
      "Batches: 100%|██████████| 1/1 [00:00<00:00, 89.30it/s]\n",
      "Batches: 100%|██████████| 1/1 [00:00<00:00, 88.50it/s]\n",
      "Batches: 100%|██████████| 1/1 [00:00<00:00, 90.34it/s]\n",
      "Batches: 100%|██████████| 1/1 [00:00<00:00, 88.24it/s]\n",
      "Batches: 100%|██████████| 1/1 [00:00<00:00, 91.03it/s]\n",
      "Batches: 100%|██████████| 1/1 [00:00<00:00, 88.04it/s]\n",
      "Batches: 100%|██████████| 1/1 [00:00<00:00, 89.14it/s]\n",
      "Batches: 100%|██████████| 1/1 [00:00<00:00, 89.12it/s]\n",
      "Batches: 100%|██████████| 1/1 [00:00<00:00, 86.89it/s]\n",
      "Batches: 100%|██████████| 1/1 [00:00<00:00, 87.54it/s]"
     ]
    },
    {
     "name": "stdout",
     "output_type": "stream",
     "text": [
      "i :  1164\n",
      "i :  1165\n",
      "i :  1166\n",
      "i :  1167\n",
      "i :  1168\n",
      "i :  1169\n",
      "i :  1170\n",
      "i :  1171\n"
     ]
    },
    {
     "name": "stderr",
     "output_type": "stream",
     "text": [
      "\n",
      "Batches: 100%|██████████| 1/1 [00:00<00:00, 88.71it/s]\n",
      "Batches: 100%|██████████| 1/1 [00:00<00:00, 88.87it/s]\n",
      "Batches: 100%|██████████| 1/1 [00:00<00:00, 76.64it/s]\n",
      "Batches: 100%|██████████| 1/1 [00:00<00:00, 86.75it/s]\n",
      "Batches: 100%|██████████| 1/1 [00:00<00:00, 86.38it/s]\n",
      "Batches: 100%|██████████| 1/1 [00:00<00:00, 84.12it/s]\n",
      "Batches: 100%|██████████| 1/1 [00:00<00:00, 82.65it/s]\n",
      "Batches: 100%|██████████| 1/1 [00:00<00:00, 81.36it/s]\n",
      "Batches: 100%|██████████| 1/1 [00:00<00:00, 83.69it/s]\n",
      "Batches: 100%|██████████| 1/1 [00:00<00:00, 81.93it/s]\n",
      "Batches: 100%|██████████| 1/1 [00:00<00:00, 82.83it/s]\n",
      "Batches: 100%|██████████| 1/1 [00:00<00:00, 83.33it/s]\n",
      "Batches: 100%|██████████| 1/1 [00:00<00:00, 83.77it/s]\n",
      "Batches: 100%|██████████| 1/1 [00:00<00:00, 82.45it/s]\n",
      "Batches: 100%|██████████| 1/1 [00:00<00:00, 83.67it/s]\n",
      "Batches: 100%|██████████| 1/1 [00:00<00:00, 82.53it/s]\n",
      "Batches: 100%|██████████| 1/1 [00:00<00:00, 81.57it/s]"
     ]
    },
    {
     "name": "stdout",
     "output_type": "stream",
     "text": [
      "i :  1172\n",
      "i :  1173\n",
      "i :  1174\n",
      "i :  1175\n",
      "i :  1176\n",
      "i :  1177\n",
      "i :  1178\n",
      "i :  1179\n",
      "i :  1180\n"
     ]
    },
    {
     "name": "stderr",
     "output_type": "stream",
     "text": [
      "\n",
      "Batches: 100%|██████████| 1/1 [00:00<00:00, 71.04it/s]\n",
      "Batches: 100%|██████████| 1/1 [00:00<00:00, 83.65it/s]\n",
      "Batches: 100%|██████████| 1/1 [00:00<00:00, 84.05it/s]\n",
      "Batches: 100%|██████████| 1/1 [00:00<00:00, 82.71it/s]\n",
      "Batches: 100%|██████████| 1/1 [00:00<00:00, 84.01it/s]\n",
      "Batches: 100%|██████████| 1/1 [00:00<00:00, 83.18it/s]\n",
      "Batches: 100%|██████████| 1/1 [00:00<00:00, 81.95it/s]\n",
      "Batches: 100%|██████████| 1/1 [00:00<00:00, 81.64it/s]\n",
      "Batches: 100%|██████████| 1/1 [00:00<00:00, 83.35it/s]\n",
      "Batches: 100%|██████████| 1/1 [00:00<00:00, 83.14it/s]\n",
      "Batches: 100%|██████████| 1/1 [00:00<00:00, 83.93it/s]\n",
      "Batches: 100%|██████████| 1/1 [00:00<00:00, 83.77it/s]\n",
      "Batches: 100%|██████████| 1/1 [00:00<00:00, 82.63it/s]\n",
      "Batches: 100%|██████████| 1/1 [00:00<00:00, 83.72it/s]\n",
      "Batches: 100%|██████████| 1/1 [00:00<00:00, 82.85it/s]\n",
      "Batches: 100%|██████████| 1/1 [00:00<00:00, 83.46it/s]\n",
      "Batches:   0%|          | 0/1 [00:00<?, ?it/s]"
     ]
    },
    {
     "name": "stdout",
     "output_type": "stream",
     "text": [
      "i :  1181\n",
      "i :  1182\n",
      "i :  1183\n",
      "i :  1184\n",
      "i :  1185\n",
      "i :  1186\n",
      "i :  1187\n",
      "i :  1188\n"
     ]
    },
    {
     "name": "stderr",
     "output_type": "stream",
     "text": [
      "Batches: 100%|██████████| 1/1 [00:00<00:00, 69.78it/s]\n",
      "Batches: 100%|██████████| 1/1 [00:00<00:00, 82.83it/s]\n",
      "Batches: 100%|██████████| 1/1 [00:00<00:00, 82.28it/s]\n",
      "Batches: 100%|██████████| 1/1 [00:00<00:00, 83.53it/s]\n",
      "Batches: 100%|██████████| 1/1 [00:00<00:00, 83.40it/s]\n",
      "Batches: 100%|██████████| 1/1 [00:00<00:00, 82.76it/s]\n",
      "Batches: 100%|██████████| 1/1 [00:00<00:00, 81.64it/s]\n",
      "Batches: 100%|██████████| 1/1 [00:00<00:00, 83.85it/s]\n",
      "Batches: 100%|██████████| 1/1 [00:00<00:00, 82.56it/s]\n",
      "Batches: 100%|██████████| 1/1 [00:00<00:00, 83.10it/s]\n",
      "Batches: 100%|██████████| 1/1 [00:00<00:00, 83.00it/s]\n",
      "Batches: 100%|██████████| 1/1 [00:00<00:00, 81.18it/s]\n",
      "Batches: 100%|██████████| 1/1 [00:00<00:00, 82.48it/s]\n",
      "Batches: 100%|██████████| 1/1 [00:00<00:00, 83.95it/s]\n",
      "Batches: 100%|██████████| 1/1 [00:00<00:00, 82.95it/s]\n",
      "Batches: 100%|██████████| 1/1 [00:00<00:00, 83.66it/s]\n"
     ]
    },
    {
     "name": "stdout",
     "output_type": "stream",
     "text": [
      "i :  1189\n",
      "i :  1190\n",
      "i :  1191\n",
      "i :  1192\n",
      "i :  1193\n",
      "i :  1194\n",
      "i :  1195\n",
      "i :  1196\n"
     ]
    },
    {
     "name": "stderr",
     "output_type": "stream",
     "text": [
      "Batches: 100%|██████████| 1/1 [00:00<00:00, 70.29it/s]\n",
      "Batches: 100%|██████████| 1/1 [00:00<00:00, 83.76it/s]\n",
      "Batches: 100%|██████████| 1/1 [00:00<00:00, 82.20it/s]\n",
      "Batches: 100%|██████████| 1/1 [00:00<00:00, 83.37it/s]\n",
      "Batches: 100%|██████████| 1/1 [00:00<00:00, 82.57it/s]\n",
      "Batches: 100%|██████████| 1/1 [00:00<00:00, 83.44it/s]\n",
      "Batches: 100%|██████████| 1/1 [00:00<00:00, 82.14it/s]\n",
      "Batches: 100%|██████████| 1/1 [00:00<00:00, 83.39it/s]\n",
      "Batches: 100%|██████████| 1/1 [00:00<00:00, 82.72it/s]\n",
      "Batches: 100%|██████████| 1/1 [00:00<00:00, 83.69it/s]\n",
      "Batches: 100%|██████████| 1/1 [00:00<00:00, 82.54it/s]\n",
      "Batches: 100%|██████████| 1/1 [00:00<00:00, 81.06it/s]\n",
      "Batches: 100%|██████████| 1/1 [00:00<00:00, 81.25it/s]\n",
      "Batches: 100%|██████████| 1/1 [00:00<00:00, 83.72it/s]\n",
      "Batches: 100%|██████████| 1/1 [00:00<00:00, 82.11it/s]\n",
      "Batches: 100%|██████████| 1/1 [00:00<00:00, 84.05it/s]"
     ]
    },
    {
     "name": "stdout",
     "output_type": "stream",
     "text": [
      "i :  1197\n",
      "i :  1198\n",
      "i :  1199\n",
      "i :  1200\n",
      "i :  1201\n",
      "i :  1202\n",
      "i :  1203\n",
      "i :  1204\n"
     ]
    },
    {
     "name": "stderr",
     "output_type": "stream",
     "text": [
      "\n",
      "Batches: 100%|██████████| 1/1 [00:00<00:00, 82.54it/s]\n",
      "Batches: 100%|██████████| 1/1 [00:00<00:00, 83.21it/s]\n",
      "Batches: 100%|██████████| 1/1 [00:00<00:00, 83.34it/s]\n",
      "Batches: 100%|██████████| 1/1 [00:00<00:00, 89.60it/s]\n",
      "Batches: 100%|██████████| 1/1 [00:00<00:00, 87.46it/s]\n",
      "Batches: 100%|██████████| 1/1 [00:00<00:00, 86.67it/s]\n",
      "Batches: 100%|██████████| 1/1 [00:00<00:00, 88.21it/s]\n",
      "Batches: 100%|██████████| 1/1 [00:00<00:00, 85.98it/s]\n",
      "Batches: 100%|██████████| 1/1 [00:00<00:00, 89.53it/s]\n",
      "Batches: 100%|██████████| 1/1 [00:00<00:00, 88.53it/s]\n",
      "Batches: 100%|██████████| 1/1 [00:00<00:00, 87.44it/s]\n",
      "Batches: 100%|██████████| 1/1 [00:00<00:00, 89.33it/s]\n",
      "Batches: 100%|██████████| 1/1 [00:00<00:00, 88.24it/s]\n",
      "Batches: 100%|██████████| 1/1 [00:00<00:00, 86.80it/s]\n",
      "Batches: 100%|██████████| 1/1 [00:00<00:00, 87.26it/s]\n",
      "Batches: 100%|██████████| 1/1 [00:00<00:00, 89.25it/s]\n",
      "Batches:   0%|          | 0/1 [00:00<?, ?it/s]"
     ]
    },
    {
     "name": "stdout",
     "output_type": "stream",
     "text": [
      "i :  1205\n",
      "i :  1206\n",
      "i :  1207\n",
      "i :  1208\n",
      "i :  1209\n",
      "i :  1210\n",
      "i :  1211\n",
      "i :  1212\n"
     ]
    },
    {
     "name": "stderr",
     "output_type": "stream",
     "text": [
      "Batches: 100%|██████████| 1/1 [00:00<00:00, 86.47it/s]\n",
      "Batches: 100%|██████████| 1/1 [00:00<00:00, 76.91it/s]\n",
      "Batches: 100%|██████████| 1/1 [00:00<00:00, 87.90it/s]\n",
      "Batches: 100%|██████████| 1/1 [00:00<00:00, 86.73it/s]\n",
      "Batches: 100%|██████████| 1/1 [00:00<00:00, 88.37it/s]\n",
      "Batches: 100%|██████████| 1/1 [00:00<00:00, 88.91it/s]\n",
      "Batches: 100%|██████████| 1/1 [00:00<00:00, 89.09it/s]\n",
      "Batches: 100%|██████████| 1/1 [00:00<00:00, 87.46it/s]\n",
      "Batches: 100%|██████████| 1/1 [00:00<00:00, 88.19it/s]\n",
      "Batches: 100%|██████████| 1/1 [00:00<00:00, 89.43it/s]\n",
      "Batches: 100%|██████████| 1/1 [00:00<00:00, 88.52it/s]\n",
      "Batches: 100%|██████████| 1/1 [00:00<00:00, 86.41it/s]\n",
      "Batches: 100%|██████████| 1/1 [00:00<00:00, 88.06it/s]\n",
      "Batches: 100%|██████████| 1/1 [00:00<00:00, 87.20it/s]\n",
      "Batches: 100%|██████████| 1/1 [00:00<00:00, 88.04it/s]\n",
      "Batches: 100%|██████████| 1/1 [00:00<00:00, 89.64it/s]\n",
      "Batches:   0%|          | 0/1 [00:00<?, ?it/s]"
     ]
    },
    {
     "name": "stdout",
     "output_type": "stream",
     "text": [
      "i :  1213\n",
      "i :  1214\n",
      "i :  1215\n",
      "i :  1216\n",
      "i :  1217\n",
      "i :  1218\n",
      "i :  1219\n",
      "i :  1220\n"
     ]
    },
    {
     "name": "stderr",
     "output_type": "stream",
     "text": [
      "Batches: 100%|██████████| 1/1 [00:00<00:00, 86.68it/s]\n",
      "Batches: 100%|██████████| 1/1 [00:00<00:00, 79.04it/s]\n",
      "Batches: 100%|██████████| 1/1 [00:00<00:00, 82.66it/s]\n",
      "Batches: 100%|██████████| 1/1 [00:00<00:00, 86.93it/s]\n",
      "Batches: 100%|██████████| 1/1 [00:00<00:00, 84.92it/s]\n",
      "Batches: 100%|██████████| 1/1 [00:00<00:00, 82.35it/s]\n",
      "Batches: 100%|██████████| 1/1 [00:00<00:00, 89.93it/s]\n",
      "Batches: 100%|██████████| 1/1 [00:00<00:00, 88.93it/s]\n",
      "Batches: 100%|██████████| 1/1 [00:00<00:00, 88.71it/s]\n",
      "Batches: 100%|██████████| 1/1 [00:00<00:00, 88.46it/s]\n",
      "Batches: 100%|██████████| 1/1 [00:00<00:00, 89.72it/s]\n",
      "Batches: 100%|██████████| 1/1 [00:00<00:00, 88.87it/s]\n",
      "Batches: 100%|██████████| 1/1 [00:00<00:00, 88.55it/s]\n",
      "Batches: 100%|██████████| 1/1 [00:00<00:00, 89.45it/s]\n",
      "Batches: 100%|██████████| 1/1 [00:00<00:00, 88.49it/s]\n",
      "Batches: 100%|██████████| 1/1 [00:00<00:00, 88.59it/s]\n",
      "Batches:   0%|          | 0/1 [00:00<?, ?it/s]"
     ]
    },
    {
     "name": "stdout",
     "output_type": "stream",
     "text": [
      "i :  1221\n",
      "i :  1222\n",
      "i :  1223\n",
      "i :  1224\n",
      "i :  1225\n",
      "i :  1226\n",
      "i :  1227\n",
      "i :  1228\n"
     ]
    },
    {
     "name": "stderr",
     "output_type": "stream",
     "text": [
      "Batches: 100%|██████████| 1/1 [00:00<00:00, 86.13it/s]\n",
      "Batches: 100%|██████████| 1/1 [00:00<00:00, 72.03it/s]\n",
      "Batches: 100%|██████████| 1/1 [00:00<00:00, 87.41it/s]\n",
      "Batches: 100%|██████████| 1/1 [00:00<00:00, 86.47it/s]\n",
      "Batches: 100%|██████████| 1/1 [00:00<00:00, 87.57it/s]\n",
      "Batches: 100%|██████████| 1/1 [00:00<00:00, 88.88it/s]\n",
      "Batches: 100%|██████████| 1/1 [00:00<00:00, 89.25it/s]\n",
      "Batches: 100%|██████████| 1/1 [00:00<00:00, 86.49it/s]\n",
      "Batches: 100%|██████████| 1/1 [00:00<00:00, 89.41it/s]\n",
      "Batches: 100%|██████████| 1/1 [00:00<00:00, 89.26it/s]\n",
      "Batches: 100%|██████████| 1/1 [00:00<00:00, 87.97it/s]\n",
      "Batches: 100%|██████████| 1/1 [00:00<00:00, 88.84it/s]\n",
      "Batches: 100%|██████████| 1/1 [00:00<00:00, 87.63it/s]\n",
      "Batches: 100%|██████████| 1/1 [00:00<00:00, 89.43it/s]\n",
      "Batches: 100%|██████████| 1/1 [00:00<00:00, 88.73it/s]\n",
      "Batches: 100%|██████████| 1/1 [00:00<00:00, 89.03it/s]\n",
      "Batches:   0%|          | 0/1 [00:00<?, ?it/s]"
     ]
    },
    {
     "name": "stdout",
     "output_type": "stream",
     "text": [
      "i :  1229\n",
      "i :  1230\n",
      "i :  1231\n",
      "i :  1232\n",
      "i :  1233\n",
      "i :  1234\n",
      "i :  1235\n",
      "i :  1236\n"
     ]
    },
    {
     "name": "stderr",
     "output_type": "stream",
     "text": [
      "Batches: 100%|██████████| 1/1 [00:00<00:00, 86.24it/s]\n",
      "Batches: 100%|██████████| 1/1 [00:00<00:00, 89.03it/s]\n",
      "Batches: 100%|██████████| 1/1 [00:00<00:00, 88.38it/s]\n",
      "Batches: 100%|██████████| 1/1 [00:00<00:00, 85.58it/s]\n",
      "Batches: 100%|██████████| 1/1 [00:00<00:00, 87.46it/s]\n",
      "Batches: 100%|██████████| 1/1 [00:00<00:00, 86.91it/s]\n",
      "Batches: 100%|██████████| 1/1 [00:00<00:00, 88.80it/s]\n",
      "Batches: 100%|██████████| 1/1 [00:00<00:00, 89.48it/s]\n",
      "Batches: 100%|██████████| 1/1 [00:00<00:00, 88.72it/s]\n",
      "Batches: 100%|██████████| 1/1 [00:00<00:00, 89.75it/s]\n",
      "Batches: 100%|██████████| 1/1 [00:00<00:00, 87.74it/s]\n",
      "Batches: 100%|██████████| 1/1 [00:00<00:00, 89.05it/s]\n",
      "Batches: 100%|██████████| 1/1 [00:00<00:00, 88.34it/s]\n",
      "Batches: 100%|██████████| 1/1 [00:00<00:00, 89.64it/s]\n",
      "Batches: 100%|██████████| 1/1 [00:00<00:00, 88.63it/s]\n",
      "Batches: 100%|██████████| 1/1 [00:00<00:00, 64.73it/s]\n",
      "Batches:   0%|          | 0/1 [00:00<?, ?it/s]"
     ]
    },
    {
     "name": "stdout",
     "output_type": "stream",
     "text": [
      "i :  1237\n",
      "i :  1238\n",
      "i :  1239\n",
      "i :  1240\n",
      "i :  1241\n",
      "i :  1242\n",
      "i :  1243\n",
      "i :  1244\n"
     ]
    },
    {
     "name": "stderr",
     "output_type": "stream",
     "text": [
      "Batches: 100%|██████████| 1/1 [00:00<00:00, 86.36it/s]\n",
      "Batches: 100%|██████████| 1/1 [00:00<00:00, 86.84it/s]\n",
      "Batches: 100%|██████████| 1/1 [00:00<00:00, 65.91it/s]\n",
      "Batches: 100%|██████████| 1/1 [00:00<00:00, 59.02it/s]\n",
      "Batches: 100%|██████████| 1/1 [00:00<00:00, 83.47it/s]\n",
      "Batches: 100%|██████████| 1/1 [00:00<00:00, 83.34it/s]\n",
      "Batches: 100%|██████████| 1/1 [00:00<00:00, 83.55it/s]\n",
      "Batches: 100%|██████████| 1/1 [00:00<00:00, 80.59it/s]\n",
      "Batches: 100%|██████████| 1/1 [00:00<00:00, 83.14it/s]\n",
      "Batches: 100%|██████████| 1/1 [00:00<00:00, 86.98it/s]\n",
      "Batches: 100%|██████████| 1/1 [00:00<00:00, 82.99it/s]\n",
      "Batches: 100%|██████████| 1/1 [00:00<00:00, 83.65it/s]\n",
      "Batches: 100%|██████████| 1/1 [00:00<00:00, 82.94it/s]\n",
      "Batches: 100%|██████████| 1/1 [00:00<00:00, 54.29it/s]\n",
      "Batches: 100%|██████████| 1/1 [00:00<00:00, 89.01it/s]\n",
      "Batches:   0%|          | 0/1 [00:00<?, ?it/s]"
     ]
    },
    {
     "name": "stdout",
     "output_type": "stream",
     "text": [
      "i :  1245\n",
      "i :  1246\n",
      "i :  1247\n",
      "i :  1248\n",
      "i :  1249\n",
      "i :  1250\n",
      "i :  1251\n",
      "i :  1252\n"
     ]
    },
    {
     "name": "stderr",
     "output_type": "stream",
     "text": [
      "Batches: 100%|██████████| 1/1 [00:00<00:00, 73.45it/s]\n",
      "Batches: 100%|██████████| 1/1 [00:00<00:00, 92.68it/s]\n",
      "Batches: 100%|██████████| 1/1 [00:00<00:00, 91.16it/s]\n",
      "Batches: 100%|██████████| 1/1 [00:00<00:00, 89.20it/s]\n",
      "Batches: 100%|██████████| 1/1 [00:00<00:00, 90.99it/s]\n",
      "Batches: 100%|██████████| 1/1 [00:00<00:00, 89.65it/s]\n",
      "Batches: 100%|██████████| 1/1 [00:00<00:00, 93.36it/s]\n",
      "Batches: 100%|██████████| 1/1 [00:00<00:00, 89.83it/s]\n",
      "Batches: 100%|██████████| 1/1 [00:00<00:00, 88.47it/s]\n",
      "Batches: 100%|██████████| 1/1 [00:00<00:00, 91.07it/s]\n",
      "Batches: 100%|██████████| 1/1 [00:00<00:00, 89.02it/s]\n",
      "Batches: 100%|██████████| 1/1 [00:00<00:00, 89.84it/s]\n",
      "Batches: 100%|██████████| 1/1 [00:00<00:00, 90.12it/s]\n",
      "Batches: 100%|██████████| 1/1 [00:00<00:00, 90.11it/s]\n",
      "Batches: 100%|██████████| 1/1 [00:00<00:00, 92.06it/s]\n",
      "Batches: 100%|██████████| 1/1 [00:00<00:00, 89.93it/s]\n",
      "Batches: 100%|██████████| 1/1 [00:00<00:00, 91.33it/s]\n",
      "Batches: 100%|██████████| 1/1 [00:00<00:00, 88.96it/s]\n",
      "Batches:   0%|          | 0/1 [00:00<?, ?it/s]"
     ]
    },
    {
     "name": "stdout",
     "output_type": "stream",
     "text": [
      "i :  1253\n",
      "i :  1254\n",
      "i :  1255\n",
      "i :  1256\n",
      "i :  1257\n",
      "i :  1258\n",
      "i :  1259\n",
      "i :  1260\n",
      "i :  1261\n"
     ]
    },
    {
     "name": "stderr",
     "output_type": "stream",
     "text": [
      "Batches: 100%|██████████| 1/1 [00:00<00:00, 89.01it/s]\n",
      "Batches: 100%|██████████| 1/1 [00:00<00:00, 89.26it/s]\n",
      "Batches: 100%|██████████| 1/1 [00:00<00:00, 89.96it/s]\n",
      "Batches: 100%|██████████| 1/1 [00:00<00:00, 90.54it/s]\n",
      "Batches: 100%|██████████| 1/1 [00:00<00:00, 91.04it/s]\n",
      "Batches: 100%|██████████| 1/1 [00:00<00:00, 84.04it/s]\n",
      "Batches: 100%|██████████| 1/1 [00:00<00:00, 90.63it/s]\n",
      "Batches: 100%|██████████| 1/1 [00:00<00:00, 88.95it/s]\n",
      "Batches: 100%|██████████| 1/1 [00:00<00:00, 87.93it/s]\n",
      "Batches: 100%|██████████| 1/1 [00:00<00:00, 89.84it/s]\n",
      "Batches: 100%|██████████| 1/1 [00:00<00:00, 90.69it/s]\n",
      "Batches: 100%|██████████| 1/1 [00:00<00:00, 89.62it/s]\n",
      "Batches: 100%|██████████| 1/1 [00:00<00:00, 90.80it/s]\n",
      "Batches: 100%|██████████| 1/1 [00:00<00:00, 89.45it/s]\n",
      "Batches: 100%|██████████| 1/1 [00:00<00:00, 88.30it/s]\n",
      "Batches: 100%|██████████| 1/1 [00:00<00:00, 91.97it/s]\n",
      "Batches: 100%|██████████| 1/1 [00:00<00:00, 89.03it/s]\n",
      "Batches: 100%|██████████| 1/1 [00:00<00:00, 92.90it/s]\n",
      "Batches:   0%|          | 0/1 [00:00<?, ?it/s]"
     ]
    },
    {
     "name": "stdout",
     "output_type": "stream",
     "text": [
      "i :  1262\n",
      "i :  1263\n",
      "i :  1264\n",
      "i :  1265\n",
      "i :  1266\n",
      "i :  1267\n",
      "i :  1268\n",
      "i :  1269\n",
      "i :  1270\n"
     ]
    },
    {
     "name": "stderr",
     "output_type": "stream",
     "text": [
      "Batches: 100%|██████████| 1/1 [00:00<00:00, 89.45it/s]\n",
      "Batches: 100%|██████████| 1/1 [00:00<00:00, 88.77it/s]\n",
      "Batches: 100%|██████████| 1/1 [00:00<00:00, 93.98it/s]\n",
      "Batches: 100%|██████████| 1/1 [00:00<00:00, 93.56it/s]\n",
      "Batches: 100%|██████████| 1/1 [00:00<00:00, 90.82it/s]\n",
      "Batches: 100%|██████████| 1/1 [00:00<00:00, 89.93it/s]\n",
      "Batches: 100%|██████████| 1/1 [00:00<00:00, 90.30it/s]\n",
      "Batches: 100%|██████████| 1/1 [00:00<00:00, 92.31it/s]\n",
      "Batches: 100%|██████████| 1/1 [00:00<00:00, 91.05it/s]\n",
      "Batches: 100%|██████████| 1/1 [00:00<00:00, 88.31it/s]\n",
      "Batches: 100%|██████████| 1/1 [00:00<00:00, 65.95it/s]\n",
      "Batches: 100%|██████████| 1/1 [00:00<00:00, 89.13it/s]\n",
      "Batches: 100%|██████████| 1/1 [00:00<00:00, 85.54it/s]\n",
      "Batches: 100%|██████████| 1/1 [00:00<00:00, 89.75it/s]\n",
      "Batches: 100%|██████████| 1/1 [00:00<00:00, 88.57it/s]\n",
      "Batches: 100%|██████████| 1/1 [00:00<00:00, 87.93it/s]\n",
      "Batches: 100%|██████████| 1/1 [00:00<00:00, 90.07it/s]\n",
      "Batches:   0%|          | 0/1 [00:00<?, ?it/s]"
     ]
    },
    {
     "name": "stdout",
     "output_type": "stream",
     "text": [
      "i :  1271\n",
      "i :  1272\n",
      "i :  1273\n",
      "i :  1274\n",
      "i :  1275\n",
      "i :  1276\n",
      "i :  1277\n",
      "i :  1278\n"
     ]
    },
    {
     "name": "stderr",
     "output_type": "stream",
     "text": [
      "Batches: 100%|██████████| 1/1 [00:00<00:00, 87.93it/s]\n",
      "Batches: 100%|██████████| 1/1 [00:00<00:00, 91.69it/s]\n",
      "Batches: 100%|██████████| 1/1 [00:00<00:00, 88.38it/s]\n",
      "Batches: 100%|██████████| 1/1 [00:00<00:00, 85.36it/s]\n",
      "Batches: 100%|██████████| 1/1 [00:00<00:00, 88.39it/s]\n",
      "Batches: 100%|██████████| 1/1 [00:00<00:00, 90.23it/s]\n",
      "Batches: 100%|██████████| 1/1 [00:00<00:00, 89.27it/s]\n",
      "Batches: 100%|██████████| 1/1 [00:00<00:00, 93.01it/s]\n",
      "Batches: 100%|██████████| 1/1 [00:00<00:00, 88.43it/s]\n",
      "Batches: 100%|██████████| 1/1 [00:00<00:00, 89.86it/s]\n",
      "Batches: 100%|██████████| 1/1 [00:00<00:00, 62.68it/s]\n",
      "Batches: 100%|██████████| 1/1 [00:00<00:00, 86.84it/s]\n",
      "Batches: 100%|██████████| 1/1 [00:00<00:00, 87.21it/s]\n",
      "Batches: 100%|██████████| 1/1 [00:00<00:00, 87.23it/s]\n",
      "Batches: 100%|██████████| 1/1 [00:00<00:00, 88.18it/s]\n",
      "Batches: 100%|██████████| 1/1 [00:00<00:00, 91.39it/s]\n",
      "Batches:   0%|          | 0/1 [00:00<?, ?it/s]"
     ]
    },
    {
     "name": "stdout",
     "output_type": "stream",
     "text": [
      "i :  1279\n",
      "i :  1280\n",
      "i :  1281\n",
      "i :  1282\n",
      "i :  1283\n",
      "i :  1284\n",
      "i :  1285\n",
      "i :  1286\n"
     ]
    },
    {
     "name": "stderr",
     "output_type": "stream",
     "text": [
      "Batches: 100%|██████████| 1/1 [00:00<00:00, 89.18it/s]\n",
      "Batches: 100%|██████████| 1/1 [00:00<00:00, 91.56it/s]\n",
      "Batches: 100%|██████████| 1/1 [00:00<00:00, 93.53it/s]\n",
      "Batches: 100%|██████████| 1/1 [00:00<00:00, 92.77it/s]\n",
      "Batches: 100%|██████████| 1/1 [00:00<00:00, 93.01it/s]\n",
      "Batches: 100%|██████████| 1/1 [00:00<00:00, 93.26it/s]\n",
      "Batches: 100%|██████████| 1/1 [00:00<00:00, 92.32it/s]\n",
      "Batches: 100%|██████████| 1/1 [00:00<00:00, 91.70it/s]\n",
      "Batches: 100%|██████████| 1/1 [00:00<00:00, 92.70it/s]\n",
      "Batches: 100%|██████████| 1/1 [00:00<00:00, 92.75it/s]\n",
      "Batches: 100%|██████████| 1/1 [00:00<00:00, 90.22it/s]\n",
      "Batches: 100%|██████████| 1/1 [00:00<00:00, 89.70it/s]\n",
      "Batches: 100%|██████████| 1/1 [00:00<00:00, 93.87it/s]\n",
      "Batches: 100%|██████████| 1/1 [00:00<00:00, 91.85it/s]\n",
      "Batches: 100%|██████████| 1/1 [00:00<00:00, 90.53it/s]\n",
      "Batches: 100%|██████████| 1/1 [00:00<00:00, 92.01it/s]\n",
      "Batches: 100%|██████████| 1/1 [00:00<00:00, 90.48it/s]\n",
      "Batches:   0%|          | 0/1 [00:00<?, ?it/s]"
     ]
    },
    {
     "name": "stdout",
     "output_type": "stream",
     "text": [
      "i :  1287\n",
      "i :  1288\n",
      "i :  1289\n",
      "i :  1290\n",
      "i :  1291\n",
      "i :  1292\n",
      "i :  1293\n",
      "i :  1294\n",
      "i :  1295\n"
     ]
    },
    {
     "name": "stderr",
     "output_type": "stream",
     "text": [
      "Batches: 100%|██████████| 1/1 [00:00<00:00, 87.38it/s]\n",
      "Batches: 100%|██████████| 1/1 [00:00<00:00, 92.62it/s]\n",
      "Batches: 100%|██████████| 1/1 [00:00<00:00, 87.92it/s]\n",
      "Batches: 100%|██████████| 1/1 [00:00<00:00, 90.16it/s]\n",
      "Batches: 100%|██████████| 1/1 [00:00<00:00, 89.94it/s]\n",
      "Batches: 100%|██████████| 1/1 [00:00<00:00, 89.80it/s]\n",
      "Batches: 100%|██████████| 1/1 [00:00<00:00, 93.29it/s]\n",
      "Batches: 100%|██████████| 1/1 [00:00<00:00, 90.54it/s]\n",
      "Batches: 100%|██████████| 1/1 [00:00<00:00, 92.45it/s]\n",
      "Batches: 100%|██████████| 1/1 [00:00<00:00, 90.44it/s]\n",
      "Batches: 100%|██████████| 1/1 [00:00<00:00, 91.81it/s]\n",
      "Batches: 100%|██████████| 1/1 [00:00<00:00, 91.31it/s]\n",
      "Batches: 100%|██████████| 1/1 [00:00<00:00, 92.75it/s]\n",
      "Batches: 100%|██████████| 1/1 [00:00<00:00, 90.39it/s]\n",
      "Batches: 100%|██████████| 1/1 [00:00<00:00, 91.90it/s]\n",
      "Batches: 100%|██████████| 1/1 [00:00<00:00, 93.57it/s]\n",
      "Batches: 100%|██████████| 1/1 [00:00<00:00, 91.40it/s]\n",
      "Batches: 100%|██████████| 1/1 [00:00<00:00, 95.53it/s]\n",
      "Batches:   0%|          | 0/1 [00:00<?, ?it/s]"
     ]
    },
    {
     "name": "stdout",
     "output_type": "stream",
     "text": [
      "i :  1296\n",
      "i :  1297\n",
      "i :  1298\n",
      "i :  1299\n",
      "i :  1300\n",
      "i :  1301\n",
      "i :  1302\n",
      "i :  1303\n",
      "i :  1304\n"
     ]
    },
    {
     "name": "stderr",
     "output_type": "stream",
     "text": [
      "Batches: 100%|██████████| 1/1 [00:00<00:00, 89.88it/s]\n",
      "Batches: 100%|██████████| 1/1 [00:00<00:00, 92.43it/s]\n",
      "Batches: 100%|██████████| 1/1 [00:00<00:00, 92.01it/s]\n",
      "Batches: 100%|██████████| 1/1 [00:00<00:00, 92.65it/s]\n",
      "Batches: 100%|██████████| 1/1 [00:00<00:00, 91.42it/s]\n",
      "Batches: 100%|██████████| 1/1 [00:00<00:00, 90.98it/s]\n",
      "Batches: 100%|██████████| 1/1 [00:00<00:00, 93.34it/s]\n",
      "Batches: 100%|██████████| 1/1 [00:00<00:00, 90.52it/s]\n",
      "Batches: 100%|██████████| 1/1 [00:00<00:00, 92.66it/s]\n",
      "Batches: 100%|██████████| 1/1 [00:00<00:00, 90.73it/s]\n",
      "Batches: 100%|██████████| 1/1 [00:00<00:00, 63.60it/s]\n",
      "Batches: 100%|██████████| 1/1 [00:00<00:00, 93.62it/s]\n",
      "Batches: 100%|██████████| 1/1 [00:00<00:00, 73.09it/s]\n",
      "Batches: 100%|██████████| 1/1 [00:00<00:00, 93.11it/s]\n",
      "Batches: 100%|██████████| 1/1 [00:00<00:00, 91.25it/s]\n",
      "Batches: 100%|██████████| 1/1 [00:00<00:00, 89.86it/s]\n",
      "Batches: 100%|██████████| 1/1 [00:00<00:00, 91.30it/s]\n",
      "Batches:   0%|          | 0/1 [00:00<?, ?it/s]"
     ]
    },
    {
     "name": "stdout",
     "output_type": "stream",
     "text": [
      "i :  1305\n",
      "i :  1306\n",
      "i :  1307\n",
      "i :  1308\n",
      "i :  1309\n",
      "i :  1310\n",
      "i :  1311\n",
      "i :  1312\n"
     ]
    },
    {
     "name": "stderr",
     "output_type": "stream",
     "text": [
      "Batches: 100%|██████████| 1/1 [00:00<00:00, 89.27it/s]\n",
      "Batches: 100%|██████████| 1/1 [00:00<00:00, 90.00it/s]\n",
      "Batches: 100%|██████████| 1/1 [00:00<00:00, 87.99it/s]\n",
      "Batches: 100%|██████████| 1/1 [00:00<00:00, 89.54it/s]\n",
      "Batches: 100%|██████████| 1/1 [00:00<00:00, 90.72it/s]\n",
      "Batches: 100%|██████████| 1/1 [00:00<00:00, 91.74it/s]\n",
      "Batches: 100%|██████████| 1/1 [00:00<00:00, 85.45it/s]\n",
      "Batches: 100%|██████████| 1/1 [00:00<00:00, 91.78it/s]\n",
      "Batches: 100%|██████████| 1/1 [00:00<00:00, 89.72it/s]\n",
      "Batches: 100%|██████████| 1/1 [00:00<00:00, 90.81it/s]\n",
      "Batches: 100%|██████████| 1/1 [00:00<00:00, 91.49it/s]\n",
      "Batches: 100%|██████████| 1/1 [00:00<00:00, 91.40it/s]\n",
      "Batches: 100%|██████████| 1/1 [00:00<00:00, 90.77it/s]\n",
      "Batches: 100%|██████████| 1/1 [00:00<00:00, 91.28it/s]\n",
      "Batches: 100%|██████████| 1/1 [00:00<00:00, 90.79it/s]\n",
      "Batches: 100%|██████████| 1/1 [00:00<00:00, 78.54it/s]\n",
      "Batches:   0%|          | 0/1 [00:00<?, ?it/s]"
     ]
    },
    {
     "name": "stdout",
     "output_type": "stream",
     "text": [
      "i :  1313\n",
      "i :  1314\n",
      "i :  1315\n",
      "i :  1316\n",
      "i :  1317\n",
      "i :  1318\n",
      "i :  1319\n",
      "i :  1320\n"
     ]
    },
    {
     "name": "stderr",
     "output_type": "stream",
     "text": [
      "Batches: 100%|██████████| 1/1 [00:00<00:00, 81.56it/s]\n",
      "Batches: 100%|██████████| 1/1 [00:00<00:00, 91.14it/s]\n",
      "Batches: 100%|██████████| 1/1 [00:00<00:00, 91.42it/s]\n",
      "Batches: 100%|██████████| 1/1 [00:00<00:00, 91.36it/s]\n",
      "Batches: 100%|██████████| 1/1 [00:00<00:00, 90.86it/s]\n",
      "Batches: 100%|██████████| 1/1 [00:00<00:00, 88.53it/s]\n",
      "Batches: 100%|██████████| 1/1 [00:00<00:00, 90.73it/s]\n",
      "Batches: 100%|██████████| 1/1 [00:00<00:00, 91.62it/s]\n",
      "Batches: 100%|██████████| 1/1 [00:00<00:00, 91.11it/s]\n",
      "Batches: 100%|██████████| 1/1 [00:00<00:00, 92.06it/s]\n",
      "Batches: 100%|██████████| 1/1 [00:00<00:00, 92.58it/s]\n",
      "Batches: 100%|██████████| 1/1 [00:00<00:00, 91.59it/s]\n",
      "Batches: 100%|██████████| 1/1 [00:00<00:00, 82.83it/s]\n",
      "Batches: 100%|██████████| 1/1 [00:00<00:00, 75.08it/s]\n",
      "Batches: 100%|██████████| 1/1 [00:00<00:00, 63.02it/s]\n",
      "Batches: 100%|██████████| 1/1 [00:00<00:00, 90.46it/s]\n",
      "Batches:   0%|          | 0/1 [00:00<?, ?it/s]"
     ]
    },
    {
     "name": "stdout",
     "output_type": "stream",
     "text": [
      "i :  1321\n",
      "i :  1322\n",
      "i :  1323\n",
      "i :  1324\n",
      "i :  1325\n",
      "i :  1326\n",
      "i :  1327\n",
      "i :  1328\n"
     ]
    },
    {
     "name": "stderr",
     "output_type": "stream",
     "text": [
      "Batches: 100%|██████████| 1/1 [00:00<00:00, 88.64it/s]\n",
      "Batches: 100%|██████████| 1/1 [00:00<00:00, 92.07it/s]\n",
      "Batches: 100%|██████████| 1/1 [00:00<00:00, 91.97it/s]\n",
      "Batches: 100%|██████████| 1/1 [00:00<00:00, 91.90it/s]\n",
      "Batches: 100%|██████████| 1/1 [00:00<00:00, 93.12it/s]\n",
      "Batches: 100%|██████████| 1/1 [00:00<00:00, 90.79it/s]\n",
      "Batches: 100%|██████████| 1/1 [00:00<00:00, 91.01it/s]\n",
      "Batches: 100%|██████████| 1/1 [00:00<00:00, 88.38it/s]\n",
      "Batches: 100%|██████████| 1/1 [00:00<00:00, 90.21it/s]\n",
      "Batches: 100%|██████████| 1/1 [00:00<00:00, 88.05it/s]\n",
      "Batches: 100%|██████████| 1/1 [00:00<00:00, 91.30it/s]\n",
      "Batches: 100%|██████████| 1/1 [00:00<00:00, 79.14it/s]\n",
      "Batches: 100%|██████████| 1/1 [00:00<00:00, 87.59it/s]\n",
      "Batches: 100%|██████████| 1/1 [00:00<00:00, 74.03it/s]\n",
      "Batches: 100%|██████████| 1/1 [00:00<00:00, 91.31it/s]\n",
      "Batches: 100%|██████████| 1/1 [00:00<00:00, 86.46it/s]\n",
      "Batches:   0%|          | 0/1 [00:00<?, ?it/s]"
     ]
    },
    {
     "name": "stdout",
     "output_type": "stream",
     "text": [
      "i :  1329\n",
      "i :  1330\n",
      "i :  1331\n",
      "i :  1332\n",
      "i :  1333\n",
      "i :  1334\n",
      "i :  1335\n",
      "i :  1336\n"
     ]
    },
    {
     "name": "stderr",
     "output_type": "stream",
     "text": [
      "Batches: 100%|██████████| 1/1 [00:00<00:00, 71.68it/s]\n",
      "Batches: 100%|██████████| 1/1 [00:00<00:00, 91.00it/s]\n",
      "Batches: 100%|██████████| 1/1 [00:00<00:00, 89.95it/s]\n",
      "Batches: 100%|██████████| 1/1 [00:00<00:00, 90.42it/s]\n",
      "Batches: 100%|██████████| 1/1 [00:00<00:00, 91.07it/s]\n",
      "Batches: 100%|██████████| 1/1 [00:00<00:00, 90.35it/s]\n",
      "Batches: 100%|██████████| 1/1 [00:00<00:00, 93.78it/s]\n",
      "Batches: 100%|██████████| 1/1 [00:00<00:00, 90.99it/s]\n",
      "Batches: 100%|██████████| 1/1 [00:00<00:00, 90.32it/s]\n",
      "Batches: 100%|██████████| 1/1 [00:00<00:00, 93.54it/s]\n",
      "Batches: 100%|██████████| 1/1 [00:00<00:00, 90.53it/s]\n",
      "Batches: 100%|██████████| 1/1 [00:00<00:00, 93.60it/s]\n",
      "Batches: 100%|██████████| 1/1 [00:00<00:00, 92.28it/s]\n",
      "Batches: 100%|██████████| 1/1 [00:00<00:00, 93.78it/s]\n",
      "Batches: 100%|██████████| 1/1 [00:00<00:00, 88.12it/s]\n",
      "Batches: 100%|██████████| 1/1 [00:00<00:00, 90.79it/s]\n",
      "Batches:   0%|          | 0/1 [00:00<?, ?it/s]"
     ]
    },
    {
     "name": "stdout",
     "output_type": "stream",
     "text": [
      "i :  1337\n",
      "i :  1338\n",
      "i :  1339\n",
      "i :  1340\n",
      "i :  1341\n",
      "i :  1342\n",
      "i :  1343\n",
      "i :  1344\n"
     ]
    },
    {
     "name": "stderr",
     "output_type": "stream",
     "text": [
      "Batches: 100%|██████████| 1/1 [00:00<00:00, 84.54it/s]\n",
      "Batches: 100%|██████████| 1/1 [00:00<00:00, 89.63it/s]\n",
      "Batches: 100%|██████████| 1/1 [00:00<00:00, 91.36it/s]\n",
      "Batches: 100%|██████████| 1/1 [00:00<00:00, 94.01it/s]\n",
      "Batches: 100%|██████████| 1/1 [00:00<00:00, 90.83it/s]\n",
      "Batches: 100%|██████████| 1/1 [00:00<00:00, 89.14it/s]\n",
      "Batches: 100%|██████████| 1/1 [00:00<00:00, 91.31it/s]\n",
      "Batches: 100%|██████████| 1/1 [00:00<00:00, 87.73it/s]\n",
      "Batches: 100%|██████████| 1/1 [00:00<00:00, 89.84it/s]\n",
      "Batches: 100%|██████████| 1/1 [00:00<00:00, 89.44it/s]\n",
      "Batches: 100%|██████████| 1/1 [00:00<00:00, 91.97it/s]\n",
      "Batches: 100%|██████████| 1/1 [00:00<00:00, 88.89it/s]\n",
      "Batches: 100%|██████████| 1/1 [00:00<00:00, 92.97it/s]\n",
      "Batches: 100%|██████████| 1/1 [00:00<00:00, 88.03it/s]\n",
      "Batches: 100%|██████████| 1/1 [00:00<00:00, 90.35it/s]\n",
      "Batches: 100%|██████████| 1/1 [00:00<00:00, 93.11it/s]\n",
      "Batches: 100%|██████████| 1/1 [00:00<00:00, 91.63it/s]\n",
      "Batches:   0%|          | 0/1 [00:00<?, ?it/s]"
     ]
    },
    {
     "name": "stdout",
     "output_type": "stream",
     "text": [
      "i :  1345\n",
      "i :  1346\n",
      "i :  1347\n",
      "i :  1348\n",
      "i :  1349\n",
      "i :  1350\n",
      "i :  1351\n",
      "i :  1352\n",
      "i :  1353\n"
     ]
    },
    {
     "name": "stderr",
     "output_type": "stream",
     "text": [
      "Batches: 100%|██████████| 1/1 [00:00<00:00, 86.31it/s]\n",
      "Batches: 100%|██████████| 1/1 [00:00<00:00, 90.70it/s]\n",
      "Batches: 100%|██████████| 1/1 [00:00<00:00, 89.69it/s]\n",
      "Batches: 100%|██████████| 1/1 [00:00<00:00, 90.74it/s]\n",
      "Batches: 100%|██████████| 1/1 [00:00<00:00, 87.87it/s]\n",
      "Batches: 100%|██████████| 1/1 [00:00<00:00, 89.06it/s]\n",
      "Batches: 100%|██████████| 1/1 [00:00<00:00, 92.59it/s]\n",
      "Batches: 100%|██████████| 1/1 [00:00<00:00, 90.37it/s]\n",
      "Batches: 100%|██████████| 1/1 [00:00<00:00, 88.53it/s]\n",
      "Batches: 100%|██████████| 1/1 [00:00<00:00, 90.02it/s]\n",
      "Batches: 100%|██████████| 1/1 [00:00<00:00, 92.15it/s]\n",
      "Batches: 100%|██████████| 1/1 [00:00<00:00, 90.17it/s]\n",
      "Batches: 100%|██████████| 1/1 [00:00<00:00, 90.05it/s]\n",
      "Batches: 100%|██████████| 1/1 [00:00<00:00, 93.38it/s]\n",
      "Batches: 100%|██████████| 1/1 [00:00<00:00, 92.06it/s]\n",
      "Batches: 100%|██████████| 1/1 [00:00<00:00, 89.90it/s]\n",
      "Batches: 100%|██████████| 1/1 [00:00<00:00, 88.72it/s]\n",
      "Batches: 100%|██████████| 1/1 [00:00<00:00, 89.99it/s]\n",
      "Batches:   0%|          | 0/1 [00:00<?, ?it/s]"
     ]
    },
    {
     "name": "stdout",
     "output_type": "stream",
     "text": [
      "i :  1354\n",
      "i :  1355\n",
      "i :  1356\n",
      "i :  1357\n",
      "i :  1358\n",
      "i :  1359\n",
      "i :  1360\n",
      "i :  1361\n",
      "i :  1362\n"
     ]
    },
    {
     "name": "stderr",
     "output_type": "stream",
     "text": [
      "Batches: 100%|██████████| 1/1 [00:00<00:00, 90.20it/s]\n",
      "Batches: 100%|██████████| 1/1 [00:00<00:00, 91.22it/s]\n",
      "Batches: 100%|██████████| 1/1 [00:00<00:00, 91.18it/s]\n",
      "Batches: 100%|██████████| 1/1 [00:00<00:00, 92.84it/s]\n",
      "Batches: 100%|██████████| 1/1 [00:00<00:00, 91.19it/s]\n",
      "Batches: 100%|██████████| 1/1 [00:00<00:00, 90.64it/s]\n",
      "Batches: 100%|██████████| 1/1 [00:00<00:00, 88.05it/s]\n",
      "Batches: 100%|██████████| 1/1 [00:00<00:00, 91.35it/s]\n",
      "Batches: 100%|██████████| 1/1 [00:00<00:00, 91.19it/s]\n",
      "Batches: 100%|██████████| 1/1 [00:00<00:00, 89.81it/s]\n",
      "Batches: 100%|██████████| 1/1 [00:00<00:00, 94.30it/s]\n",
      "Batches: 100%|██████████| 1/1 [00:00<00:00, 94.52it/s]\n",
      "Batches: 100%|██████████| 1/1 [00:00<00:00, 95.20it/s]\n",
      "Batches: 100%|██████████| 1/1 [00:00<00:00, 92.57it/s]\n",
      "Batches: 100%|██████████| 1/1 [00:00<00:00, 93.29it/s]\n",
      "Batches: 100%|██████████| 1/1 [00:00<00:00, 94.83it/s]\n",
      "Batches: 100%|██████████| 1/1 [00:00<00:00, 90.04it/s]\n",
      "Batches: 100%|██████████| 1/1 [00:00<00:00, 90.24it/s]\n",
      "Batches:   0%|          | 0/1 [00:00<?, ?it/s]"
     ]
    },
    {
     "name": "stdout",
     "output_type": "stream",
     "text": [
      "i :  1363\n",
      "i :  1364\n",
      "i :  1365\n",
      "i :  1366\n",
      "i :  1367\n",
      "i :  1368\n",
      "i :  1369\n",
      "i :  1370\n",
      "i :  1371\n"
     ]
    },
    {
     "name": "stderr",
     "output_type": "stream",
     "text": [
      "Batches: 100%|██████████| 1/1 [00:00<00:00, 89.08it/s]\n",
      "Batches: 100%|██████████| 1/1 [00:00<00:00, 59.66it/s]\n",
      "Batches: 100%|██████████| 1/1 [00:00<00:00, 89.88it/s]\n",
      "Batches: 100%|██████████| 1/1 [00:00<00:00, 91.01it/s]\n",
      "Batches: 100%|██████████| 1/1 [00:00<00:00, 92.57it/s]\n",
      "Batches: 100%|██████████| 1/1 [00:00<00:00, 94.39it/s]\n",
      "Batches: 100%|██████████| 1/1 [00:00<00:00, 90.46it/s]\n",
      "Batches: 100%|██████████| 1/1 [00:00<00:00, 89.83it/s]\n",
      "Batches: 100%|██████████| 1/1 [00:00<00:00, 92.04it/s]\n",
      "Batches: 100%|██████████| 1/1 [00:00<00:00, 90.52it/s]\n",
      "Batches: 100%|██████████| 1/1 [00:00<00:00, 92.40it/s]\n",
      "Batches: 100%|██████████| 1/1 [00:00<00:00, 93.98it/s]\n",
      "Batches: 100%|██████████| 1/1 [00:00<00:00, 92.78it/s]\n",
      "Batches: 100%|██████████| 1/1 [00:00<00:00, 89.37it/s]\n",
      "Batches: 100%|██████████| 1/1 [00:00<00:00, 92.77it/s]\n",
      "Batches: 100%|██████████| 1/1 [00:00<00:00, 90.10it/s]\n",
      "Batches: 100%|██████████| 1/1 [00:00<00:00, 91.37it/s]\n",
      "Batches: 100%|██████████| 1/1 [00:00<00:00, 90.28it/s]\n",
      "Batches:   0%|          | 0/1 [00:00<?, ?it/s]"
     ]
    },
    {
     "name": "stdout",
     "output_type": "stream",
     "text": [
      "i :  1372\n",
      "i :  1373\n",
      "i :  1374\n",
      "i :  1375\n",
      "i :  1376\n",
      "i :  1377\n",
      "i :  1378\n",
      "i :  1379\n",
      "i :  1380\n"
     ]
    },
    {
     "name": "stderr",
     "output_type": "stream",
     "text": [
      "Batches: 100%|██████████| 1/1 [00:00<00:00, 89.62it/s]\n",
      "Batches: 100%|██████████| 1/1 [00:00<00:00, 91.35it/s]\n",
      "Batches: 100%|██████████| 1/1 [00:00<00:00, 91.21it/s]\n",
      "Batches: 100%|██████████| 1/1 [00:00<00:00, 92.05it/s]\n",
      "Batches: 100%|██████████| 1/1 [00:00<00:00, 92.49it/s]\n",
      "Batches: 100%|██████████| 1/1 [00:00<00:00, 91.88it/s]\n",
      "Batches: 100%|██████████| 1/1 [00:00<00:00, 91.24it/s]\n",
      "Batches: 100%|██████████| 1/1 [00:00<00:00, 92.03it/s]\n",
      "Batches: 100%|██████████| 1/1 [00:00<00:00, 91.49it/s]\n",
      "Batches: 100%|██████████| 1/1 [00:00<00:00, 89.93it/s]\n",
      "Batches: 100%|██████████| 1/1 [00:00<00:00, 91.54it/s]\n",
      "Batches: 100%|██████████| 1/1 [00:00<00:00, 91.55it/s]\n",
      "Batches: 100%|██████████| 1/1 [00:00<00:00, 91.28it/s]\n",
      "Batches: 100%|██████████| 1/1 [00:00<00:00, 89.00it/s]\n",
      "Batches: 100%|██████████| 1/1 [00:00<00:00, 88.04it/s]\n",
      "Batches: 100%|██████████| 1/1 [00:00<00:00, 91.46it/s]\n",
      "Batches: 100%|██████████| 1/1 [00:00<00:00, 89.22it/s]\n",
      "Batches: 100%|██████████| 1/1 [00:00<00:00, 91.05it/s]\n",
      "Batches:   0%|          | 0/1 [00:00<?, ?it/s]"
     ]
    },
    {
     "name": "stdout",
     "output_type": "stream",
     "text": [
      "i :  1381\n",
      "i :  1382\n",
      "i :  1383\n",
      "i :  1384\n",
      "i :  1385\n",
      "i :  1386\n",
      "i :  1387\n",
      "i :  1388\n",
      "i :  1389\n"
     ]
    },
    {
     "name": "stderr",
     "output_type": "stream",
     "text": [
      "Batches: 100%|██████████| 1/1 [00:00<00:00, 79.08it/s]\n",
      "Batches: 100%|██████████| 1/1 [00:00<00:00, 78.20it/s]\n",
      "Batches: 100%|██████████| 1/1 [00:00<00:00, 60.41it/s]\n",
      "Batches: 100%|██████████| 1/1 [00:00<00:00, 91.81it/s]\n",
      "Batches: 100%|██████████| 1/1 [00:00<00:00, 90.02it/s]\n",
      "Batches: 100%|██████████| 1/1 [00:00<00:00, 90.22it/s]\n",
      "Batches: 100%|██████████| 1/1 [00:00<00:00, 92.78it/s]\n",
      "Batches: 100%|██████████| 1/1 [00:00<00:00, 89.84it/s]\n",
      "Batches: 100%|██████████| 1/1 [00:00<00:00, 84.78it/s]\n",
      "Batches: 100%|██████████| 1/1 [00:00<00:00, 88.22it/s]\n",
      "Batches: 100%|██████████| 1/1 [00:00<00:00, 90.16it/s]\n",
      "Batches: 100%|██████████| 1/1 [00:00<00:00, 93.28it/s]\n",
      "Batches: 100%|██████████| 1/1 [00:00<00:00, 92.20it/s]\n",
      "Batches: 100%|██████████| 1/1 [00:00<00:00, 89.81it/s]\n",
      "Batches: 100%|██████████| 1/1 [00:00<00:00, 92.79it/s]\n",
      "Batches: 100%|██████████| 1/1 [00:00<00:00, 91.74it/s]\n",
      "Batches: 100%|██████████| 1/1 [00:00<00:00, 92.92it/s]\n",
      "Batches:   0%|          | 0/1 [00:00<?, ?it/s]"
     ]
    },
    {
     "name": "stdout",
     "output_type": "stream",
     "text": [
      "i :  1390\n",
      "i :  1391\n",
      "i :  1392\n",
      "i :  1393\n",
      "i :  1394\n",
      "i :  1395\n",
      "i :  1396\n",
      "i :  1397\n"
     ]
    },
    {
     "name": "stderr",
     "output_type": "stream",
     "text": [
      "Batches: 100%|██████████| 1/1 [00:00<00:00, 87.91it/s]\n",
      "Batches: 100%|██████████| 1/1 [00:00<00:00, 75.82it/s]\n",
      "Batches: 100%|██████████| 1/1 [00:00<00:00, 92.41it/s]\n",
      "Batches: 100%|██████████| 1/1 [00:00<00:00, 92.38it/s]\n",
      "Batches: 100%|██████████| 1/1 [00:00<00:00, 90.49it/s]\n",
      "Batches: 100%|██████████| 1/1 [00:00<00:00, 60.80it/s]\n",
      "Batches: 100%|██████████| 1/1 [00:00<00:00, 92.64it/s]\n",
      "Batches: 100%|██████████| 1/1 [00:00<00:00, 87.87it/s]\n",
      "Batches: 100%|██████████| 1/1 [00:00<00:00, 91.26it/s]\n",
      "Batches: 100%|██████████| 1/1 [00:00<00:00, 91.44it/s]\n",
      "Batches: 100%|██████████| 1/1 [00:00<00:00, 89.94it/s]\n",
      "Batches: 100%|██████████| 1/1 [00:00<00:00, 91.40it/s]\n",
      "Batches: 100%|██████████| 1/1 [00:00<00:00, 91.72it/s]\n",
      "Batches: 100%|██████████| 1/1 [00:00<00:00, 90.68it/s]\n",
      "Batches: 100%|██████████| 1/1 [00:00<00:00, 88.44it/s]\n",
      "Batches: 100%|██████████| 1/1 [00:00<00:00, 91.54it/s]\n",
      "Batches:   0%|          | 0/1 [00:00<?, ?it/s]"
     ]
    },
    {
     "name": "stdout",
     "output_type": "stream",
     "text": [
      "i :  1398\n",
      "i :  1399\n",
      "i :  1400\n",
      "i :  1401\n",
      "i :  1402\n",
      "i :  1403\n",
      "i :  1404\n",
      "i :  1405\n"
     ]
    },
    {
     "name": "stderr",
     "output_type": "stream",
     "text": [
      "Batches: 100%|██████████| 1/1 [00:00<00:00, 89.84it/s]\n",
      "Batches: 100%|██████████| 1/1 [00:00<00:00, 78.12it/s]\n",
      "Batches: 100%|██████████| 1/1 [00:00<00:00, 91.71it/s]\n",
      "Batches: 100%|██████████| 1/1 [00:00<00:00, 95.17it/s]\n",
      "Batches: 100%|██████████| 1/1 [00:00<00:00, 92.50it/s]\n",
      "Batches: 100%|██████████| 1/1 [00:00<00:00, 91.70it/s]\n",
      "Batches: 100%|██████████| 1/1 [00:00<00:00, 93.08it/s]\n",
      "Batches: 100%|██████████| 1/1 [00:00<00:00, 76.22it/s]\n",
      "Batches: 100%|██████████| 1/1 [00:00<00:00, 94.93it/s]\n",
      "Batches: 100%|██████████| 1/1 [00:00<00:00, 91.64it/s]\n",
      "Batches: 100%|██████████| 1/1 [00:00<00:00, 91.71it/s]\n",
      "Batches: 100%|██████████| 1/1 [00:00<00:00, 91.54it/s]\n",
      "Batches: 100%|██████████| 1/1 [00:00<00:00, 89.43it/s]\n",
      "Batches: 100%|██████████| 1/1 [00:00<00:00, 91.35it/s]\n",
      "Batches: 100%|██████████| 1/1 [00:00<00:00, 89.83it/s]\n",
      "Batches: 100%|██████████| 1/1 [00:00<00:00, 91.32it/s]\n",
      "Batches:   0%|          | 0/1 [00:00<?, ?it/s]"
     ]
    },
    {
     "name": "stdout",
     "output_type": "stream",
     "text": [
      "i :  1406\n",
      "i :  1407\n",
      "i :  1408\n",
      "i :  1409\n",
      "i :  1410\n",
      "i :  1411\n",
      "i :  1412\n",
      "i :  1413\n"
     ]
    },
    {
     "name": "stderr",
     "output_type": "stream",
     "text": [
      "Batches: 100%|██████████| 1/1 [00:00<00:00, 87.91it/s]\n",
      "Batches: 100%|██████████| 1/1 [00:00<00:00, 91.45it/s]\n",
      "Batches: 100%|██████████| 1/1 [00:00<00:00, 90.55it/s]\n",
      "Batches: 100%|██████████| 1/1 [00:00<00:00, 77.52it/s]\n",
      "Batches: 100%|██████████| 1/1 [00:00<00:00, 92.24it/s]\n",
      "Batches: 100%|██████████| 1/1 [00:00<00:00, 94.76it/s]\n",
      "Batches: 100%|██████████| 1/1 [00:00<00:00, 93.11it/s]\n",
      "Batches: 100%|██████████| 1/1 [00:00<00:00, 91.49it/s]\n",
      "Batches: 100%|██████████| 1/1 [00:00<00:00, 90.47it/s]\n",
      "Batches: 100%|██████████| 1/1 [00:00<00:00, 90.33it/s]\n",
      "Batches: 100%|██████████| 1/1 [00:00<00:00, 90.71it/s]\n",
      "Batches: 100%|██████████| 1/1 [00:00<00:00, 91.43it/s]\n",
      "Batches: 100%|██████████| 1/1 [00:00<00:00, 90.09it/s]\n",
      "Batches: 100%|██████████| 1/1 [00:00<00:00, 88.08it/s]\n",
      "Batches: 100%|██████████| 1/1 [00:00<00:00, 92.60it/s]\n",
      "Batches: 100%|██████████| 1/1 [00:00<00:00, 93.98it/s]\n",
      "Batches: 100%|██████████| 1/1 [00:00<00:00, 95.73it/s]\n",
      "Batches:   0%|          | 0/1 [00:00<?, ?it/s]"
     ]
    },
    {
     "name": "stdout",
     "output_type": "stream",
     "text": [
      "i :  1414\n",
      "i :  1415\n",
      "i :  1416\n",
      "i :  1417\n",
      "i :  1418\n",
      "i :  1419\n",
      "i :  1420\n",
      "i :  1421\n",
      "i :  1422\n"
     ]
    },
    {
     "name": "stderr",
     "output_type": "stream",
     "text": [
      "Batches: 100%|██████████| 1/1 [00:00<00:00, 75.13it/s]\n",
      "Batches: 100%|██████████| 1/1 [00:00<00:00, 91.47it/s]\n",
      "Batches: 100%|██████████| 1/1 [00:00<00:00, 91.46it/s]\n",
      "Batches: 100%|██████████| 1/1 [00:00<00:00, 90.14it/s]\n",
      "Batches: 100%|██████████| 1/1 [00:00<00:00, 89.56it/s]\n",
      "Batches: 100%|██████████| 1/1 [00:00<00:00, 91.65it/s]\n",
      "Batches: 100%|██████████| 1/1 [00:00<00:00, 91.38it/s]\n",
      "Batches: 100%|██████████| 1/1 [00:00<00:00, 77.23it/s]\n",
      "Batches: 100%|██████████| 1/1 [00:00<00:00, 90.45it/s]\n",
      "Batches: 100%|██████████| 1/1 [00:00<00:00, 77.57it/s]\n",
      "Batches: 100%|██████████| 1/1 [00:00<00:00, 89.49it/s]\n",
      "Batches: 100%|██████████| 1/1 [00:00<00:00, 91.25it/s]\n",
      "Batches: 100%|██████████| 1/1 [00:00<00:00, 90.73it/s]\n",
      "Batches: 100%|██████████| 1/1 [00:00<00:00, 79.19it/s]\n",
      "Batches: 100%|██████████| 1/1 [00:00<00:00, 89.01it/s]\n",
      "Batches: 100%|██████████| 1/1 [00:00<00:00, 78.41it/s]\n",
      "Batches: 100%|██████████| 1/1 [00:00<00:00, 84.51it/s]\n",
      "Batches:   0%|          | 0/1 [00:00<?, ?it/s]"
     ]
    },
    {
     "name": "stdout",
     "output_type": "stream",
     "text": [
      "i :  1423\n",
      "i :  1424\n",
      "i :  1425\n",
      "i :  1426\n",
      "i :  1427\n",
      "i :  1428\n",
      "i :  1429\n",
      "i :  1430\n"
     ]
    },
    {
     "name": "stderr",
     "output_type": "stream",
     "text": [
      "Batches: 100%|██████████| 1/1 [00:00<00:00, 78.33it/s]\n",
      "Batches: 100%|██████████| 1/1 [00:00<00:00, 78.40it/s]\n",
      "Batches: 100%|██████████| 1/1 [00:00<00:00, 89.61it/s]\n",
      "Batches: 100%|██████████| 1/1 [00:00<00:00, 81.87it/s]\n",
      "Batches: 100%|██████████| 1/1 [00:00<00:00, 88.99it/s]\n",
      "Batches: 100%|██████████| 1/1 [00:00<00:00, 90.59it/s]\n",
      "Batches: 100%|██████████| 1/1 [00:00<00:00, 77.13it/s]\n",
      "Batches: 100%|██████████| 1/1 [00:00<00:00, 95.80it/s]\n",
      "Batches: 100%|██████████| 1/1 [00:00<00:00, 88.25it/s]\n",
      "Batches: 100%|██████████| 1/1 [00:00<00:00, 75.77it/s]\n",
      "Batches: 100%|██████████| 1/1 [00:00<00:00, 88.52it/s]\n",
      "Batches: 100%|██████████| 1/1 [00:00<00:00, 79.24it/s]\n",
      "Batches: 100%|██████████| 1/1 [00:00<00:00, 88.14it/s]\n",
      "Batches: 100%|██████████| 1/1 [00:00<00:00, 90.93it/s]\n",
      "Batches: 100%|██████████| 1/1 [00:00<00:00, 77.27it/s]\n",
      "Batches:   0%|          | 0/1 [00:00<?, ?it/s]"
     ]
    },
    {
     "name": "stdout",
     "output_type": "stream",
     "text": [
      "i :  1431\n",
      "i :  1432\n",
      "i :  1433\n",
      "i :  1434\n",
      "i :  1435\n",
      "i :  1436\n",
      "i :  1437\n",
      "i :  1438\n"
     ]
    },
    {
     "name": "stderr",
     "output_type": "stream",
     "text": [
      "Batches: 100%|██████████| 1/1 [00:00<00:00, 88.45it/s]\n",
      "Batches: 100%|██████████| 1/1 [00:00<00:00, 75.29it/s]\n",
      "Batches: 100%|██████████| 1/1 [00:00<00:00, 90.91it/s]\n",
      "Batches: 100%|██████████| 1/1 [00:00<00:00, 77.24it/s]\n",
      "Batches: 100%|██████████| 1/1 [00:00<00:00, 90.29it/s]\n",
      "Batches: 100%|██████████| 1/1 [00:00<00:00, 75.88it/s]\n",
      "Batches: 100%|██████████| 1/1 [00:00<00:00, 86.09it/s]\n",
      "Batches: 100%|██████████| 1/1 [00:00<00:00, 91.26it/s]\n",
      "Batches: 100%|██████████| 1/1 [00:00<00:00, 90.49it/s]\n",
      "Batches: 100%|██████████| 1/1 [00:00<00:00, 74.60it/s]\n",
      "Batches: 100%|██████████| 1/1 [00:00<00:00, 73.27it/s]\n",
      "Batches: 100%|██████████| 1/1 [00:00<00:00, 91.34it/s]\n",
      "Batches: 100%|██████████| 1/1 [00:00<00:00, 76.96it/s]\n",
      "Batches: 100%|██████████| 1/1 [00:00<00:00, 86.69it/s]\n",
      "Batches: 100%|██████████| 1/1 [00:00<00:00, 90.27it/s]\n",
      "Batches: 100%|██████████| 1/1 [00:00<00:00, 90.09it/s]\n",
      "Batches:   0%|          | 0/1 [00:00<?, ?it/s]"
     ]
    },
    {
     "name": "stdout",
     "output_type": "stream",
     "text": [
      "i :  1439\n",
      "i :  1440\n",
      "i :  1441\n",
      "i :  1442\n",
      "i :  1443\n",
      "i :  1444\n",
      "i :  1445\n",
      "i :  1446\n"
     ]
    },
    {
     "name": "stderr",
     "output_type": "stream",
     "text": [
      "Batches: 100%|██████████| 1/1 [00:00<00:00, 88.63it/s]\n",
      "Batches: 100%|██████████| 1/1 [00:00<00:00, 90.62it/s]\n",
      "Batches: 100%|██████████| 1/1 [00:00<00:00, 91.52it/s]\n",
      "Batches: 100%|██████████| 1/1 [00:00<00:00, 90.37it/s]\n",
      "Batches: 100%|██████████| 1/1 [00:00<00:00, 58.66it/s]\n",
      "Batches: 100%|██████████| 1/1 [00:00<00:00, 89.86it/s]\n",
      "Batches: 100%|██████████| 1/1 [00:00<00:00, 92.97it/s]\n",
      "Batches: 100%|██████████| 1/1 [00:00<00:00, 89.45it/s]\n",
      "Batches: 100%|██████████| 1/1 [00:00<00:00, 95.34it/s]\n",
      "Batches: 100%|██████████| 1/1 [00:00<00:00, 92.27it/s]\n",
      "Batches: 100%|██████████| 1/1 [00:00<00:00, 92.98it/s]\n",
      "Batches: 100%|██████████| 1/1 [00:00<00:00, 90.34it/s]\n",
      "Batches: 100%|██████████| 1/1 [00:00<00:00, 92.00it/s]\n",
      "Batches: 100%|██████████| 1/1 [00:00<00:00, 92.42it/s]\n",
      "Batches: 100%|██████████| 1/1 [00:00<00:00, 91.35it/s]\n",
      "Batches: 100%|██████████| 1/1 [00:00<00:00, 95.67it/s]\n",
      "Batches: 100%|██████████| 1/1 [00:00<00:00, 92.75it/s]\n",
      "Batches:   0%|          | 0/1 [00:00<?, ?it/s]"
     ]
    },
    {
     "name": "stdout",
     "output_type": "stream",
     "text": [
      "i :  1447\n",
      "i :  1448\n",
      "i :  1449\n",
      "i :  1450\n",
      "i :  1451\n",
      "i :  1452\n",
      "i :  1453\n",
      "i :  1454\n"
     ]
    },
    {
     "name": "stderr",
     "output_type": "stream",
     "text": [
      "Batches: 100%|██████████| 1/1 [00:00<00:00, 90.96it/s]\n",
      "Batches: 100%|██████████| 1/1 [00:00<00:00, 89.56it/s]\n",
      "Batches: 100%|██████████| 1/1 [00:00<00:00, 89.80it/s]\n",
      "Batches: 100%|██████████| 1/1 [00:00<00:00, 88.79it/s]\n",
      "Batches: 100%|██████████| 1/1 [00:00<00:00, 91.93it/s]\n",
      "Batches: 100%|██████████| 1/1 [00:00<00:00, 92.08it/s]\n",
      "Batches: 100%|██████████| 1/1 [00:00<00:00, 90.22it/s]\n",
      "Batches: 100%|██████████| 1/1 [00:00<00:00, 60.28it/s]\n",
      "Batches: 100%|██████████| 1/1 [00:00<00:00, 90.67it/s]\n",
      "Batches: 100%|██████████| 1/1 [00:00<00:00, 90.88it/s]\n",
      "Batches: 100%|██████████| 1/1 [00:00<00:00, 91.48it/s]\n",
      "Batches: 100%|██████████| 1/1 [00:00<00:00, 89.01it/s]\n",
      "Batches: 100%|██████████| 1/1 [00:00<00:00, 91.26it/s]\n",
      "Batches: 100%|██████████| 1/1 [00:00<00:00, 90.23it/s]\n",
      "Batches: 100%|██████████| 1/1 [00:00<00:00, 90.74it/s]\n",
      "Batches: 100%|██████████| 1/1 [00:00<00:00, 92.53it/s]\n",
      "Batches:   0%|          | 0/1 [00:00<?, ?it/s]"
     ]
    },
    {
     "name": "stdout",
     "output_type": "stream",
     "text": [
      "i :  1455\n",
      "i :  1456\n",
      "i :  1457\n",
      "i :  1458\n",
      "i :  1459\n",
      "i :  1460\n",
      "i :  1461\n",
      "i :  1462\n"
     ]
    },
    {
     "name": "stderr",
     "output_type": "stream",
     "text": [
      "Batches: 100%|██████████| 1/1 [00:00<00:00, 90.27it/s]\n",
      "Batches: 100%|██████████| 1/1 [00:00<00:00, 89.49it/s]\n",
      "Batches: 100%|██████████| 1/1 [00:00<00:00, 89.87it/s]\n",
      "Batches: 100%|██████████| 1/1 [00:00<00:00, 91.17it/s]\n",
      "Batches: 100%|██████████| 1/1 [00:00<00:00, 91.52it/s]\n",
      "Batches: 100%|██████████| 1/1 [00:00<00:00, 91.95it/s]\n",
      "Batches: 100%|██████████| 1/1 [00:00<00:00, 90.49it/s]\n",
      "Batches: 100%|██████████| 1/1 [00:00<00:00, 91.36it/s]\n",
      "Batches: 100%|██████████| 1/1 [00:00<00:00, 91.63it/s]\n",
      "Batches: 100%|██████████| 1/1 [00:00<00:00, 90.82it/s]\n",
      "Batches: 100%|██████████| 1/1 [00:00<00:00, 92.92it/s]\n",
      "Batches: 100%|██████████| 1/1 [00:00<00:00, 77.25it/s]\n",
      "Batches: 100%|██████████| 1/1 [00:00<00:00, 94.46it/s]\n",
      "Batches: 100%|██████████| 1/1 [00:00<00:00, 89.30it/s]\n",
      "Batches: 100%|██████████| 1/1 [00:00<00:00, 88.25it/s]\n",
      "Batches: 100%|██████████| 1/1 [00:00<00:00, 91.27it/s]\n",
      "Batches: 100%|██████████| 1/1 [00:00<00:00, 91.71it/s]"
     ]
    },
    {
     "name": "stdout",
     "output_type": "stream",
     "text": [
      "i :  1463\n",
      "i :  1464\n",
      "i :  1465\n",
      "i :  1466\n",
      "i :  1467\n",
      "i :  1468\n",
      "i :  1469\n",
      "i :  1470\n"
     ]
    },
    {
     "name": "stderr",
     "output_type": "stream",
     "text": [
      "\n",
      "Batches: 100%|██████████| 1/1 [00:00<00:00, 75.36it/s]\n",
      "Batches: 100%|██████████| 1/1 [00:00<00:00, 86.56it/s]\n",
      "Batches: 100%|██████████| 1/1 [00:00<00:00, 93.71it/s]\n",
      "Batches: 100%|██████████| 1/1 [00:00<00:00, 91.02it/s]\n",
      "Batches: 100%|██████████| 1/1 [00:00<00:00, 94.17it/s]\n",
      "Batches: 100%|██████████| 1/1 [00:00<00:00, 89.79it/s]\n",
      "Batches: 100%|██████████| 1/1 [00:00<00:00, 90.95it/s]\n",
      "Batches: 100%|██████████| 1/1 [00:00<00:00, 89.75it/s]\n",
      "Batches: 100%|██████████| 1/1 [00:00<00:00, 88.35it/s]\n",
      "Batches: 100%|██████████| 1/1 [00:00<00:00, 91.13it/s]\n",
      "Batches: 100%|██████████| 1/1 [00:00<00:00, 92.86it/s]\n",
      "Batches: 100%|██████████| 1/1 [00:00<00:00, 88.79it/s]\n",
      "Batches: 100%|██████████| 1/1 [00:00<00:00, 89.89it/s]\n",
      "Batches: 100%|██████████| 1/1 [00:00<00:00, 91.58it/s]\n",
      "Batches: 100%|██████████| 1/1 [00:00<00:00, 92.73it/s]\n",
      "Batches: 100%|██████████| 1/1 [00:00<00:00, 90.44it/s]\n",
      "Batches:   0%|          | 0/1 [00:00<?, ?it/s]"
     ]
    },
    {
     "name": "stdout",
     "output_type": "stream",
     "text": [
      "i :  1471\n",
      "i :  1472\n",
      "i :  1473\n",
      "i :  1474\n",
      "i :  1475\n",
      "i :  1476\n",
      "i :  1477\n",
      "i :  1478\n",
      "i :  1479\n"
     ]
    },
    {
     "name": "stderr",
     "output_type": "stream",
     "text": [
      "Batches: 100%|██████████| 1/1 [00:00<00:00, 87.86it/s]\n",
      "Batches: 100%|██████████| 1/1 [00:00<00:00, 92.89it/s]\n",
      "Batches: 100%|██████████| 1/1 [00:00<00:00, 90.10it/s]\n",
      "Batches: 100%|██████████| 1/1 [00:00<00:00, 90.06it/s]\n",
      "Batches: 100%|██████████| 1/1 [00:00<00:00, 91.69it/s]\n",
      "Batches: 100%|██████████| 1/1 [00:00<00:00, 94.91it/s]\n",
      "Batches: 100%|██████████| 1/1 [00:00<00:00, 90.90it/s]\n",
      "Batches: 100%|██████████| 1/1 [00:00<00:00, 90.28it/s]\n",
      "Batches: 100%|██████████| 1/1 [00:00<00:00, 91.48it/s]\n",
      "Batches: 100%|██████████| 1/1 [00:00<00:00, 89.82it/s]\n",
      "Batches: 100%|██████████| 1/1 [00:00<00:00, 91.61it/s]\n",
      "Batches: 100%|██████████| 1/1 [00:00<00:00, 91.38it/s]\n",
      "Batches: 100%|██████████| 1/1 [00:00<00:00, 90.16it/s]\n",
      "Batches: 100%|██████████| 1/1 [00:00<00:00, 90.08it/s]\n",
      "Batches: 100%|██████████| 1/1 [00:00<00:00, 91.01it/s]\n",
      "Batches: 100%|██████████| 1/1 [00:00<00:00, 89.74it/s]\n",
      "Batches: 100%|██████████| 1/1 [00:00<00:00, 91.47it/s]\n",
      "Batches: 100%|██████████| 1/1 [00:00<00:00, 90.34it/s]\n",
      "Batches:   0%|          | 0/1 [00:00<?, ?it/s]"
     ]
    },
    {
     "name": "stdout",
     "output_type": "stream",
     "text": [
      "i :  1480\n",
      "i :  1481\n",
      "i :  1482\n",
      "i :  1483\n",
      "i :  1484\n",
      "i :  1485\n",
      "i :  1486\n",
      "i :  1487\n",
      "i :  1488\n"
     ]
    },
    {
     "name": "stderr",
     "output_type": "stream",
     "text": [
      "Batches: 100%|██████████| 1/1 [00:00<00:00, 93.01it/s]\n",
      "Batches: 100%|██████████| 1/1 [00:00<00:00, 92.91it/s]\n",
      "Batches: 100%|██████████| 1/1 [00:00<00:00, 87.96it/s]\n",
      "Batches: 100%|██████████| 1/1 [00:00<00:00, 91.17it/s]\n",
      "Batches: 100%|██████████| 1/1 [00:00<00:00, 94.07it/s]\n",
      "Batches: 100%|██████████| 1/1 [00:00<00:00, 93.33it/s]\n",
      "Batches: 100%|██████████| 1/1 [00:00<00:00, 90.61it/s]\n",
      "Batches: 100%|██████████| 1/1 [00:00<00:00, 91.40it/s]\n",
      "Batches: 100%|██████████| 1/1 [00:00<00:00, 90.25it/s]\n",
      "Batches: 100%|██████████| 1/1 [00:00<00:00, 92.60it/s]\n",
      "Batches: 100%|██████████| 1/1 [00:00<00:00, 88.18it/s]\n",
      "Batches: 100%|██████████| 1/1 [00:00<00:00, 89.06it/s]\n",
      "Batches: 100%|██████████| 1/1 [00:00<00:00, 92.54it/s]\n",
      "Batches: 100%|██████████| 1/1 [00:00<00:00, 91.07it/s]\n",
      "Batches: 100%|██████████| 1/1 [00:00<00:00, 91.63it/s]\n",
      "Batches: 100%|██████████| 1/1 [00:00<00:00, 91.20it/s]\n",
      "Batches: 100%|██████████| 1/1 [00:00<00:00, 91.30it/s]\n",
      "Batches: 100%|██████████| 1/1 [00:00<00:00, 90.29it/s]\n",
      "Batches:   0%|          | 0/1 [00:00<?, ?it/s]"
     ]
    },
    {
     "name": "stdout",
     "output_type": "stream",
     "text": [
      "i :  1489\n",
      "i :  1490\n",
      "i :  1491\n",
      "i :  1492\n",
      "i :  1493\n",
      "i :  1494\n",
      "i :  1495\n",
      "i :  1496\n",
      "i :  1497\n"
     ]
    },
    {
     "name": "stderr",
     "output_type": "stream",
     "text": [
      "Batches: 100%|██████████| 1/1 [00:00<00:00, 89.75it/s]\n",
      "Batches: 100%|██████████| 1/1 [00:00<00:00, 91.09it/s]\n",
      "Batches: 100%|██████████| 1/1 [00:00<00:00, 91.11it/s]\n",
      "Batches: 100%|██████████| 1/1 [00:00<00:00, 91.88it/s]"
     ]
    },
    {
     "name": "stdout",
     "output_type": "stream",
     "text": [
      "i :  1498\n",
      "i :  1499\n"
     ]
    },
    {
     "name": "stderr",
     "output_type": "stream",
     "text": [
      "\n"
     ]
    }
   ],
   "source": [
    "closest_n = 1\n",
    "sentence2=[]\n",
    "sentence1=[]\n",
    "score=[]\n",
    "for i in range(0,len(df)):\n",
    "    sent1_list = []\n",
    "    sent2_list=[]\n",
    "    sent1 = df.sentence1[i]\n",
    "    sent2 = df.sentence2[i]\n",
    "    sent1_list.append(sent1)\n",
    "    sent2_list.append(sent2)\n",
    "    sent1_embeddings = model.encode(sent1_list)\n",
    "    sent2_embeddings = model.encode(sent2_list)\n",
    "    for query, query_embedding in zip(sent2_list, sent2_embeddings):\n",
    "        distances = scipy.spatial.distance.cdist([query_embedding], sent1_embeddings, \"cosine\")[0]\n",
    "        results = zip(range(len(distances)), distances)\n",
    "        results = sorted(results, key=lambda x: x[1])\n",
    "        sentence2.append(sent2_list[0])\n",
    "        for idx, distance in results[0:closest_n]:\n",
    "            sentence1.append(sent1_list[0])\n",
    "            score.append((1-distance)*5)\n",
    "            print(\"i : \", i)"
   ]
  },
  {
   "cell_type": "code",
   "execution_count": 18,
   "metadata": {},
   "outputs": [],
   "source": [
    "df['score_bert'] = score\n",
    "df[\"score\"] = df[\"score\"].apply(pd.to_numeric, downcast='float', errors='coerce')"
   ]
  },
  {
   "cell_type": "code",
   "execution_count": 19,
   "metadata": {},
   "outputs": [
    {
     "data": {
      "text/html": [
       "<div>\n",
       "<style scoped>\n",
       "    .dataframe tbody tr th:only-of-type {\n",
       "        vertical-align: middle;\n",
       "    }\n",
       "\n",
       "    .dataframe tbody tr th {\n",
       "        vertical-align: top;\n",
       "    }\n",
       "\n",
       "    .dataframe thead th {\n",
       "        text-align: right;\n",
       "    }\n",
       "</style>\n",
       "<table border=\"1\" class=\"dataframe\">\n",
       "  <thead>\n",
       "    <tr style=\"text-align: right;\">\n",
       "      <th></th>\n",
       "      <th>score</th>\n",
       "      <th>score_bert</th>\n",
       "    </tr>\n",
       "  </thead>\n",
       "  <tbody>\n",
       "    <tr>\n",
       "      <th>score</th>\n",
       "      <td>1.000000</td>\n",
       "      <td>0.875673</td>\n",
       "    </tr>\n",
       "    <tr>\n",
       "      <th>score_bert</th>\n",
       "      <td>0.875673</td>\n",
       "      <td>1.000000</td>\n",
       "    </tr>\n",
       "  </tbody>\n",
       "</table>\n",
       "</div>"
      ],
      "text/plain": [
       "               score  score_bert\n",
       "score       1.000000    0.875673\n",
       "score_bert  0.875673    1.000000"
      ]
     },
     "execution_count": 19,
     "metadata": {},
     "output_type": "execute_result"
    }
   ],
   "source": [
    "df.corr()"
   ]
  },
  {
   "cell_type": "code",
   "execution_count": null,
   "metadata": {},
   "outputs": [],
   "source": []
  },
  {
   "cell_type": "code",
   "execution_count": 20,
   "metadata": {},
   "outputs": [],
   "source": [
    "# scaler = MinMaxScaler()\n",
    "# df['score_bert'] = scaler.fit_transform(df['score_bert'].values.reshape(-1,1))"
   ]
  },
  {
   "cell_type": "code",
   "execution_count": 21,
   "metadata": {},
   "outputs": [],
   "source": [
    "s1= [\"hi\",\n",
    "     \"how are you?\",\n",
    "     \"whats up bro how are you?\",\n",
    "     \"good night\",\n",
    "     \"I LOVE YOU\",\n",
    "     \"hey whatsup?\",\n",
    "     \"Three men are on stage playing guitars.\",\n",
    "     \"A woman is peeling garlic.\",\n",
    "     \"phone is not responding.\",\n",
    "     \"i love you\",\n",
    "     \"How do you book the ticket?\",\n",
    "     \"I am going to Afghanisthan?\",\n",
    "     \"India defeated west Indies yesterday.\"]\n",
    "\n",
    "\n",
    "\n",
    "s2= [\"hello\",\n",
    "     \"howdy?\",\n",
    "     \"Hello bro how are you doing?\",\n",
    "     \"good morning\",\n",
    "     \"I HATE YOU\",\n",
    "     \"hey what you doing?\",\n",
    "     \"Three men are playing guitars.\",\n",
    "     \"A man is breaking water jugs.\",\n",
    "     \"my phone is not working.\",\n",
    "     \"I like you\",\n",
    "     \"How can the ticket be booked?\",\n",
    "     \"I am planning to visit Afghanisthan\",\n",
    "     \"West Indies lost to India yesterday.\"]"
   ]
  },
  {
   "cell_type": "code",
   "execution_count": 22,
   "metadata": {},
   "outputs": [
    {
     "name": "stderr",
     "output_type": "stream",
     "text": [
      "Batches: 100%|██████████| 1/1 [00:00<00:00, 78.69it/s]\n",
      "Batches: 100%|██████████| 1/1 [00:00<00:00, 94.70it/s]\n",
      "Batches: 100%|██████████| 1/1 [00:00<00:00, 96.16it/s]\n",
      "Batches: 100%|██████████| 1/1 [00:00<00:00, 93.44it/s]\n",
      "Batches: 100%|██████████| 1/1 [00:00<00:00, 90.62it/s]\n",
      "Batches: 100%|██████████| 1/1 [00:00<00:00, 95.83it/s]\n",
      "Batches: 100%|██████████| 1/1 [00:00<00:00, 96.01it/s]\n",
      "Batches: 100%|██████████| 1/1 [00:00<00:00, 94.42it/s]\n",
      "Batches: 100%|██████████| 1/1 [00:00<00:00, 97.01it/s]\n",
      "Batches: 100%|██████████| 1/1 [00:00<00:00, 93.70it/s]\n",
      "Batches: 100%|██████████| 1/1 [00:00<00:00, 96.15it/s]\n",
      "Batches: 100%|██████████| 1/1 [00:00<00:00, 95.22it/s]\n",
      "Batches: 100%|██████████| 1/1 [00:00<00:00, 89.94it/s]\n",
      "Batches: 100%|██████████| 1/1 [00:00<00:00, 95.15it/s]\n",
      "Batches: 100%|██████████| 1/1 [00:00<00:00, 88.91it/s]\n",
      "Batches: 100%|██████████| 1/1 [00:00<00:00, 92.59it/s]\n",
      "Batches: 100%|██████████| 1/1 [00:00<00:00, 93.39it/s]\n",
      "Batches: 100%|██████████| 1/1 [00:00<00:00, 94.80it/s]\n",
      "Batches: 100%|██████████| 1/1 [00:00<00:00, 94.81it/s]\n",
      "Batches: 100%|██████████| 1/1 [00:00<00:00, 67.31it/s]\n",
      "Batches: 100%|██████████| 1/1 [00:00<00:00, 96.53it/s]\n",
      "Batches: 100%|██████████| 1/1 [00:00<00:00, 95.04it/s]\n",
      "Batches: 100%|██████████| 1/1 [00:00<00:00, 92.54it/s]\n",
      "Batches: 100%|██████████| 1/1 [00:00<00:00, 89.15it/s]\n",
      "Batches: 100%|██████████| 1/1 [00:00<00:00, 91.30it/s]\n",
      "Batches: 100%|██████████| 1/1 [00:00<00:00, 90.11it/s]\n"
     ]
    }
   ],
   "source": [
    "closest_n = 1\n",
    "sentenc2=[]\n",
    "sentenc1=[]\n",
    "scor=[]\n",
    "for i in range(0,len(s2)):\n",
    "    sent1_list = []\n",
    "    sent2_list=[]\n",
    "    sent1 = s1[i]\n",
    "    sent2 = s2[i]\n",
    "    sent1_list.append(sent1)\n",
    "    sent2_list.append(sent2)\n",
    "    sent1_embeddings = model.encode(sent1_list)\n",
    "    sent2_embeddings = model.encode(sent2_list)\n",
    "    for query, query_embedding in zip(sent2_list, sent2_embeddings):\n",
    "        distances = scipy.spatial.distance.cdist([query_embedding], sent1_embeddings, \"cosine\")[0]\n",
    "        results = zip(range(len(distances)), distances)\n",
    "        results = sorted(results, key=lambda x: x[1])\n",
    "        sentenc2.append(sent2_list[0])\n",
    "        for idx, distance in results[0:closest_n]:\n",
    "            sentenc1.append(sent1_list[0])\n",
    "            scor.append(1-distance)"
   ]
  },
  {
   "cell_type": "code",
   "execution_count": 23,
   "metadata": {
    "scrolled": false
   },
   "outputs": [
    {
     "name": "stdout",
     "output_type": "stream",
     "text": [
      "sentence 1: hi\n",
      "sentence 2: hello\n",
      "score: 0.9563732486332157\n",
      "\n",
      "sentence 1: how are you?\n",
      "sentence 2: howdy?\n",
      "score: 0.9557301913736441\n",
      "\n",
      "sentence 1: whats up bro how are you?\n",
      "sentence 2: Hello bro how are you doing?\n",
      "score: 0.9766089925130007\n",
      "\n",
      "sentence 1: good night\n",
      "sentence 2: good morning\n",
      "score: 0.9514795816088559\n",
      "\n",
      "sentence 1: I LOVE YOU\n",
      "sentence 2: I HATE YOU\n",
      "score: 0.17871691536618195\n",
      "\n",
      "sentence 1: hey whatsup?\n",
      "sentence 2: hey what you doing?\n",
      "score: 0.9855035207128972\n",
      "\n",
      "sentence 1: Three men are on stage playing guitars.\n",
      "sentence 2: Three men are playing guitars.\n",
      "score: 0.8298251178029261\n",
      "\n",
      "sentence 1: A woman is peeling garlic.\n",
      "sentence 2: A man is breaking water jugs.\n",
      "score: -0.019689163093569606\n",
      "\n",
      "sentence 1: phone is not responding.\n",
      "sentence 2: my phone is not working.\n",
      "score: 0.9522446739628657\n",
      "\n",
      "sentence 1: i love you\n",
      "sentence 2: I like you\n",
      "score: 0.9569670388014893\n",
      "\n",
      "sentence 1: How do you book the ticket?\n",
      "sentence 2: How can the ticket be booked?\n",
      "score: 0.9543446558084833\n",
      "\n",
      "sentence 1: I am going to Afghanisthan?\n",
      "sentence 2: I am planning to visit Afghanisthan\n",
      "score: 0.9512960193162758\n",
      "\n",
      "sentence 1: India defeated west Indies yesterday.\n",
      "sentence 2: West Indies lost to India yesterday.\n",
      "score: 0.9394596229921597\n",
      "\n"
     ]
    }
   ],
   "source": [
    "for k in range(len(scor)):\n",
    "    print(\"sentence 1:\", sentenc1[k])\n",
    "    print(\"sentence 2:\", sentenc2[k])\n",
    "    print(\"score:\", scor[k])\n",
    "    print(\"\")"
   ]
  }
 ],
 "metadata": {
  "kernelspec": {
   "display_name": "Python 3",
   "language": "python",
   "name": "python3"
  },
  "language_info": {
   "codemirror_mode": {
    "name": "ipython",
    "version": 3
   },
   "file_extension": ".py",
   "mimetype": "text/x-python",
   "name": "python",
   "nbconvert_exporter": "python",
   "pygments_lexer": "ipython3",
   "version": "3.6.8"
  }
 },
 "nbformat": 4,
 "nbformat_minor": 2
}
